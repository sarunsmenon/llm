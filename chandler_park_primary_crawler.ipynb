{
  "nbformat": 4,
  "nbformat_minor": 0,
  "metadata": {
    "colab": {
      "provenance": [],
      "collapsed_sections": [
        "jP-K_H3Caozn",
        "xp9HTyGbatnA",
        "DWR-6GA0nXlZ",
        "gf54sQxhqBWr"
      ],
      "mount_file_id": "1_p6WPZn1PeGpMJdUHzoWbOEO7Dzf6iIx",
      "authorship_tag": "ABX9TyMJcMztqnacIqiEql2giATN",
      "include_colab_link": true
    },
    "kernelspec": {
      "name": "python3",
      "display_name": "Python 3"
    },
    "language_info": {
      "name": "python"
    }
  },
  "cells": [
    {
      "cell_type": "markdown",
      "metadata": {
        "id": "view-in-github",
        "colab_type": "text"
      },
      "source": [
        "<a href=\"https://colab.research.google.com/github/sarunsmenon/llm/blob/main/chandler_park_primary_crawler.ipynb\" target=\"_parent\"><img src=\"https://colab.research.google.com/assets/colab-badge.svg\" alt=\"Open In Colab\"/></a>"
      ]
    },
    {
      "cell_type": "markdown",
      "source": [
        "# Install Libraries"
      ],
      "metadata": {
        "id": "jP-K_H3Caozn"
      }
    },
    {
      "cell_type": "code",
      "source": [
        "!pip install -q python-dotenv openai langchain-openai cohere langchain langchain_community pypdf faiss-gpu wikipedia-api faiss-cpu wikipedia langchainhub unstructured playwright uuid7"
      ],
      "metadata": {
        "id": "6e7oK6EaO4kH",
        "colab": {
          "base_uri": "https://localhost:8080/"
        },
        "outputId": "2392b848-3275-4f8f-ddf9-8b251cf1d230"
      },
      "execution_count": 1,
      "outputs": [
        {
          "output_type": "stream",
          "name": "stdout",
          "text": [
            "  Preparing metadata (setup.py) ... \u001b[?25l\u001b[?25hdone\n",
            "\u001b[2K     \u001b[90m━━━━━━━━━━━━━━━━━━━━━━━━━━━━━━━━━━━━━━━━\u001b[0m \u001b[32m981.5/981.5 kB\u001b[0m \u001b[31m5.9 MB/s\u001b[0m eta \u001b[36m0:00:00\u001b[0m\n",
            "\u001b[?25h  Preparing metadata (setup.py) ... \u001b[?25l\u001b[?25hdone\n",
            "\u001b[2K     \u001b[90m━━━━━━━━━━━━━━━━━━━━━━━━━━━━━━━━━━━━━━━━\u001b[0m \u001b[32m50.4/50.4 kB\u001b[0m \u001b[31m4.4 MB/s\u001b[0m eta \u001b[36m0:00:00\u001b[0m\n",
            "\u001b[2K   \u001b[90m━━━━━━━━━━━━━━━━━━━━━━━━━━━━━━━━━━━━━━━━\u001b[0m \u001b[32m336.7/336.7 kB\u001b[0m \u001b[31m22.7 MB/s\u001b[0m eta \u001b[36m0:00:00\u001b[0m\n",
            "\u001b[2K   \u001b[90m━━━━━━━━━━━━━━━━━━━━━━━━━━━━━━━━━━━━━━━━\u001b[0m \u001b[32m48.2/48.2 kB\u001b[0m \u001b[31m4.4 MB/s\u001b[0m eta \u001b[36m0:00:00\u001b[0m\n",
            "\u001b[2K   \u001b[90m━━━━━━━━━━━━━━━━━━━━━━━━━━━━━━━━━━━━━━━━\u001b[0m \u001b[32m177.4/177.4 kB\u001b[0m \u001b[31m15.8 MB/s\u001b[0m eta \u001b[36m0:00:00\u001b[0m\n",
            "\u001b[2K   \u001b[90m━━━━━━━━━━━━━━━━━━━━━━━━━━━━━━━━━━━━━━━━\u001b[0m \u001b[32m990.6/990.6 kB\u001b[0m \u001b[31m34.9 MB/s\u001b[0m eta \u001b[36m0:00:00\u001b[0m\n",
            "\u001b[2K   \u001b[90m━━━━━━━━━━━━━━━━━━━━━━━━━━━━━━━━━━━━━━━━\u001b[0m \u001b[32m2.3/2.3 MB\u001b[0m \u001b[31m37.7 MB/s\u001b[0m eta \u001b[36m0:00:00\u001b[0m\n",
            "\u001b[2K   \u001b[90m━━━━━━━━━━━━━━━━━━━━━━━━━━━━━━━━━━━━━━━━\u001b[0m \u001b[32m295.8/295.8 kB\u001b[0m \u001b[31m24.3 MB/s\u001b[0m eta \u001b[36m0:00:00\u001b[0m\n",
            "\u001b[2K   \u001b[90m━━━━━━━━━━━━━━━━━━━━━━━━━━━━━━━━━━━━━━━━\u001b[0m \u001b[32m85.5/85.5 MB\u001b[0m \u001b[31m8.7 MB/s\u001b[0m eta \u001b[36m0:00:00\u001b[0m\n",
            "\u001b[2K   \u001b[90m━━━━━━━━━━━━━━━━━━━━━━━━━━━━━━━━━━━━━━━━\u001b[0m \u001b[32m27.0/27.0 MB\u001b[0m \u001b[31m41.4 MB/s\u001b[0m eta \u001b[36m0:00:00\u001b[0m\n",
            "\u001b[2K   \u001b[90m━━━━━━━━━━━━━━━━━━━━━━━━━━━━━━━━━━━━━━━━\u001b[0m \u001b[32m2.1/2.1 MB\u001b[0m \u001b[31m60.9 MB/s\u001b[0m eta \u001b[36m0:00:00\u001b[0m\n",
            "\u001b[2K   \u001b[90m━━━━━━━━━━━━━━━━━━━━━━━━━━━━━━━━━━━━━━━━\u001b[0m \u001b[32m37.9/37.9 MB\u001b[0m \u001b[31m11.9 MB/s\u001b[0m eta \u001b[36m0:00:00\u001b[0m\n",
            "\u001b[2K   \u001b[90m━━━━━━━━━━━━━━━━━━━━━━━━━━━━━━━━━━━━━━━━\u001b[0m \u001b[32m139.2/139.2 kB\u001b[0m \u001b[31m11.2 MB/s\u001b[0m eta \u001b[36m0:00:00\u001b[0m\n",
            "\u001b[2K   \u001b[90m━━━━━━━━━━━━━━━━━━━━━━━━━━━━━━━━━━━━━━━━\u001b[0m \u001b[32m3.1/3.1 MB\u001b[0m \u001b[31m64.4 MB/s\u001b[0m eta \u001b[36m0:00:00\u001b[0m\n",
            "\u001b[2K   \u001b[90m━━━━━━━━━━━━━━━━━━━━━━━━━━━━━━━━━━━━━━━━\u001b[0m \u001b[32m75.6/75.6 kB\u001b[0m \u001b[31m5.6 MB/s\u001b[0m eta \u001b[36m0:00:00\u001b[0m\n",
            "\u001b[2K   \u001b[90m━━━━━━━━━━━━━━━━━━━━━━━━━━━━━━━━━━━━━━━━\u001b[0m \u001b[32m77.9/77.9 kB\u001b[0m \u001b[31m6.0 MB/s\u001b[0m eta \u001b[36m0:00:00\u001b[0m\n",
            "\u001b[2K   \u001b[90m━━━━━━━━━━━━━━━━━━━━━━━━━━━━━━━━━━━━━━━━\u001b[0m \u001b[32m379.9/379.9 kB\u001b[0m \u001b[31m24.5 MB/s\u001b[0m eta \u001b[36m0:00:00\u001b[0m\n",
            "\u001b[2K   \u001b[90m━━━━━━━━━━━━━━━━━━━━━━━━━━━━━━━━━━━━━━━━\u001b[0m \u001b[32m140.2/140.2 kB\u001b[0m \u001b[31m11.1 MB/s\u001b[0m eta \u001b[36m0:00:00\u001b[0m\n",
            "\u001b[2K   \u001b[90m━━━━━━━━━━━━━━━━━━━━━━━━━━━━━━━━━━━━━━━━\u001b[0m \u001b[32m1.1/1.1 MB\u001b[0m \u001b[31m49.9 MB/s\u001b[0m eta \u001b[36m0:00:00\u001b[0m\n",
            "\u001b[2K   \u001b[90m━━━━━━━━━━━━━━━━━━━━━━━━━━━━━━━━━━━━━━━━\u001b[0m \u001b[32m431.4/431.4 kB\u001b[0m \u001b[31m34.5 MB/s\u001b[0m eta \u001b[36m0:00:00\u001b[0m\n",
            "\u001b[2K   \u001b[90m━━━━━━━━━━━━━━━━━━━━━━━━━━━━━━━━━━━━━━━━\u001b[0m \u001b[32m274.7/274.7 kB\u001b[0m \u001b[31m18.9 MB/s\u001b[0m eta \u001b[36m0:00:00\u001b[0m\n",
            "\u001b[2K   \u001b[90m━━━━━━━━━━━━━━━━━━━━━━━━━━━━━━━━━━━━━━━━\u001b[0m \u001b[32m3.4/3.4 MB\u001b[0m \u001b[31m89.7 MB/s\u001b[0m eta \u001b[36m0:00:00\u001b[0m\n",
            "\u001b[2K   \u001b[90m━━━━━━━━━━━━━━━━━━━━━━━━━━━━━━━━━━━━━━━━\u001b[0m \u001b[32m43.8/43.8 kB\u001b[0m \u001b[31m3.7 MB/s\u001b[0m eta \u001b[36m0:00:00\u001b[0m\n",
            "\u001b[2K   \u001b[90m━━━━━━━━━━━━━━━━━━━━━━━━━━━━━━━━━━━━━━━━\u001b[0m \u001b[32m12.5/12.5 MB\u001b[0m \u001b[31m64.7 MB/s\u001b[0m eta \u001b[36m0:00:00\u001b[0m\n",
            "\u001b[2K   \u001b[90m━━━━━━━━━━━━━━━━━━━━━━━━━━━━━━━━━━━━━━━━\u001b[0m \u001b[32m80.8/80.8 kB\u001b[0m \u001b[31m7.4 MB/s\u001b[0m eta \u001b[36m0:00:00\u001b[0m\n",
            "\u001b[2K   \u001b[90m━━━━━━━━━━━━━━━━━━━━━━━━━━━━━━━━━━━━━━━━\u001b[0m \u001b[32m49.2/49.2 kB\u001b[0m \u001b[31m3.6 MB/s\u001b[0m eta \u001b[36m0:00:00\u001b[0m\n",
            "\u001b[2K   \u001b[90m━━━━━━━━━━━━━━━━━━━━━━━━━━━━━━━━━━━━━━━━\u001b[0m \u001b[32m141.1/141.1 kB\u001b[0m \u001b[31m12.4 MB/s\u001b[0m eta \u001b[36m0:00:00\u001b[0m\n",
            "\u001b[2K   \u001b[90m━━━━━━━━━━━━━━━━━━━━━━━━━━━━━━━━━━━━━━━━\u001b[0m \u001b[32m54.5/54.5 kB\u001b[0m \u001b[31m4.4 MB/s\u001b[0m eta \u001b[36m0:00:00\u001b[0m\n",
            "\u001b[2K   \u001b[90m━━━━━━━━━━━━━━━━━━━━━━━━━━━━━━━━━━━━━━━━\u001b[0m \u001b[32m82.7/82.7 kB\u001b[0m \u001b[31m7.6 MB/s\u001b[0m eta \u001b[36m0:00:00\u001b[0m\n",
            "\u001b[2K   \u001b[90m━━━━━━━━━━━━━━━━━━━━━━━━━━━━━━━━━━━━━━━━\u001b[0m \u001b[32m58.3/58.3 kB\u001b[0m \u001b[31m5.4 MB/s\u001b[0m eta \u001b[36m0:00:00\u001b[0m\n",
            "\u001b[?25h  Building wheel for wikipedia (setup.py) ... \u001b[?25l\u001b[?25hdone\n",
            "  Building wheel for langdetect (setup.py) ... \u001b[?25l\u001b[?25hdone\n"
          ]
        }
      ]
    },
    {
      "cell_type": "markdown",
      "source": [
        "# Load Libraries"
      ],
      "metadata": {
        "id": "xp9HTyGbatnA"
      }
    },
    {
      "cell_type": "code",
      "source": [
        "import requests\n",
        "from bs4 import BeautifulSoup\n",
        "from urllib.parse import urljoin\n",
        "import textwrap"
      ],
      "metadata": {
        "id": "1dNPjEP2asgj"
      },
      "execution_count": 2,
      "outputs": []
    },
    {
      "cell_type": "code",
      "source": [
        "from langchain_core.pydantic_v1 import BaseModel, Field\n",
        "from typing import List\n",
        "from langchain_core.messages import BaseMessage, AIMessage"
      ],
      "metadata": {
        "id": "ImsFezUDVkvx"
      },
      "execution_count": 3,
      "outputs": []
    },
    {
      "cell_type": "code",
      "source": [
        "import os\n",
        "from langchain_openai import ChatOpenAI\n",
        "from dotenv import load_dotenv, find_dotenv\n",
        "from google.colab import userdata\n",
        "import pickle\n",
        "\n",
        "from langchain_core.prompts import ChatPromptTemplate\n",
        "from langchain_core.output_parsers import JsonOutputParser\n",
        "from langchain_core.pydantic_v1 import BaseModel, Field"
      ],
      "metadata": {
        "id": "lUtbBrLhaxy8"
      },
      "execution_count": 4,
      "outputs": []
    },
    {
      "cell_type": "code",
      "source": [
        "from langchain_community.vectorstores import FAISS\n",
        "from langchain_openai import OpenAIEmbeddings\n",
        "from langchain_community.document_loaders import PyPDFLoader, WikipediaLoader\n",
        "from langchain.text_splitter import CharacterTextSplitter\n",
        "from langchain.tools.retriever import create_retriever_tool\n",
        "\n",
        "from langchain_community.document_loaders import UnstructuredURLLoader\n",
        "from langchain.agents import create_tool_calling_agent\n",
        "from langchain.agents import AgentExecutor\n",
        "\n",
        "from langchain import hub\n",
        "from langchain_core.messages import AIMessage, HumanMessage\n",
        "from langchain_community.chat_message_histories import ChatMessageHistory\n",
        "from langchain_core.runnables.history import RunnableWithMessageHistory\n",
        "from langchain_core.chat_history import BaseChatMessageHistory\n",
        "\n",
        "from uuid_extensions import uuid7str\n",
        "from langchain_core.pydantic_v1 import BaseModel, Field\n"
      ],
      "metadata": {
        "id": "GxR_M_A3a3p0"
      },
      "execution_count": 5,
      "outputs": []
    },
    {
      "cell_type": "markdown",
      "source": [
        "# Load Variables"
      ],
      "metadata": {
        "id": "r83D1HmvbAp6"
      }
    },
    {
      "cell_type": "code",
      "source": [
        "os.environ['OPENAI_API_KEY'] = userdata.get('open_ai_key')\n",
        "prompt_template = \"hwchase17/openai-functions-agent\"\n",
        "\n",
        "os.environ['LANGCHAIN_TRACING_V2']=\"true\"\n",
        "os.environ['LANGCHAIN_API_KEY']=userdata.get('langsmith_api_key')\n",
        "\n",
        "session_id = uuid7str()"
      ],
      "metadata": {
        "id": "_mZViSdybAV9"
      },
      "execution_count": 6,
      "outputs": []
    },
    {
      "cell_type": "code",
      "source": [
        "llm_model = 'gpt-3.5-turbo-1106'\n",
        "llm = ChatOpenAI(model=llm_model, temperature=0)"
      ],
      "metadata": {
        "id": "8F-E3lTLC4Ng"
      },
      "execution_count": 7,
      "outputs": []
    },
    {
      "cell_type": "code",
      "source": [
        "# Start crawling from the initial URL\n",
        "start_url = 'https://chandlerparkps.vic.edu.au/'\n",
        "ignore_lst = []\n",
        "include_lst = ['support' ,'telstra']\n",
        "max_pg_lmt = 5000\n",
        "db_name = \"faiss_cpps_support_db\"\n",
        "fldr = '/content/drive/MyDrive/Colab Notebooks/Langchain/cpps_support/'"
      ],
      "metadata": {
        "id": "Hv23mRdPa7M0"
      },
      "execution_count": 8,
      "outputs": []
    },
    {
      "cell_type": "code",
      "source": [
        "hist_store= {}"
      ],
      "metadata": {
        "id": "HQAUQvOZmys9"
      },
      "execution_count": 9,
      "outputs": []
    },
    {
      "cell_type": "code",
      "source": [
        "if not os.path.exists(fldr):\n",
        "    # If the folder does not exist, create it\n",
        "    os.makedirs(fldr)\n",
        "    print(f'Folder created at: {fldr}')\n",
        "else:\n",
        "    print(f'Folder already exists at: {fldr}')"
      ],
      "metadata": {
        "colab": {
          "base_uri": "https://localhost:8080/"
        },
        "id": "MgOFEjs5F0dK",
        "outputId": "8b65ccf4-4ee2-4873-89ca-7d1cd884da53"
      },
      "execution_count": 10,
      "outputs": [
        {
          "output_type": "stream",
          "name": "stdout",
          "text": [
            "Folder already exists at: /content/drive/MyDrive/Colab Notebooks/Langchain/cpps_support/\n"
          ]
        }
      ]
    },
    {
      "cell_type": "markdown",
      "source": [
        "# Load Functions"
      ],
      "metadata": {
        "id": "PIocC45pa79X"
      }
    },
    {
      "cell_type": "code",
      "source": [
        "def load_history():\n",
        "  with open(fldr+\"history.pkl\", \"rb\") as f:\n",
        "    hist_store = pickle.load(f)"
      ],
      "metadata": {
        "id": "5-DJkg4fm885"
      },
      "execution_count": 11,
      "outputs": []
    },
    {
      "cell_type": "code",
      "source": [
        "def store_history():\n",
        "  with open(fldr+\"history.pkl\", \"wb\") as f:\n",
        "    pickle.dump(hist_store, f)"
      ],
      "metadata": {
        "id": "-RDrLNXImriL"
      },
      "execution_count": 12,
      "outputs": []
    },
    {
      "cell_type": "code",
      "execution_count": 13,
      "metadata": {
        "id": "g7WX5QgKN26v",
        "collapsed": true
      },
      "outputs": [],
      "source": [
        "# Function to get all links from a page\n",
        "def get_all_links(url):\n",
        "    response = requests.get(url)\n",
        "    soup = BeautifulSoup(response.content, 'html.parser')\n",
        "    links = [a.get('href') for a in soup.find_all('a', href=True)]\n",
        "    full_links = [urljoin(url, link) for link in links]\n",
        "    return full_links"
      ]
    },
    {
      "cell_type": "code",
      "source": [
        "print(max_pg_lmt)"
      ],
      "metadata": {
        "colab": {
          "base_uri": "https://localhost:8080/"
        },
        "id": "aGfon_x6QEnA",
        "outputId": "0dc1f34e-e8c2-4763-de05-24027aaf59c4"
      },
      "execution_count": 14,
      "outputs": [
        {
          "output_type": "stream",
          "name": "stdout",
          "text": [
            "5000\n"
          ]
        }
      ]
    },
    {
      "cell_type": "code",
      "source": [
        "# Function to crawl the website\n",
        "def crawl_website(start_url, max_pages=max_pg_lmt):\n",
        "    itr = 0\n",
        "\n",
        "    visited = set()\n",
        "    to_visit = [start_url]\n",
        "\n",
        "    while to_visit and len(visited) < max_pages:\n",
        "      url = to_visit.pop(0)\n",
        "\n",
        "      if (\n",
        "          (url not in visited) and\n",
        "          (\"chandlerparkps.vic.edu.au\" in url)\n",
        "        ):\n",
        "        visited.add(url)\n",
        "        try:\n",
        "          links = get_all_links(url)\n",
        "          to_visit.extend(links)\n",
        "        except:\n",
        "          continue\n",
        "\n",
        "        itr += 1\n",
        "        if itr % 10 == 0:\n",
        "          print(f\"Visited {len(visited)}: {url}\")\n",
        "\n",
        "    return visited"
      ],
      "metadata": {
        "id": "pIyPhSvzvWJD"
      },
      "execution_count": 15,
      "outputs": []
    },
    {
      "cell_type": "code",
      "source": [
        "text_splitter = CharacterTextSplitter(\n",
        "              chunk_size=1000,\n",
        "              chunk_overlap=10,\n",
        "              separator= \"\\n\\n\",\n",
        "              length_function=len,\n",
        "              is_separator_regex=False\n",
        "            )"
      ],
      "metadata": {
        "id": "H9cdHhzas17B"
      },
      "execution_count": 28,
      "outputs": []
    },
    {
      "cell_type": "code",
      "source": [
        "def extract_process_url(url):\n",
        "  loader = UnstructuredURLLoader(urls=[url])\n",
        "  data = loader.load()\n",
        "\n",
        "  docs = text_splitter.split_documents(data)\n",
        "  return docs\n"
      ],
      "metadata": {
        "id": "wpogUfZkvXML"
      },
      "execution_count": 16,
      "outputs": []
    },
    {
      "cell_type": "code",
      "source": [
        "def extract_process_pdf(url):\n",
        "  loader = PyPDFLoader(file_path)\n",
        "  pages = loader.load_and_split(text_splitter=text_splitter)\n",
        "\n",
        "  return pages\n"
      ],
      "metadata": {
        "id": "nus3HyxMsRsk"
      },
      "execution_count": 27,
      "outputs": []
    },
    {
      "cell_type": "code",
      "source": [
        "def store_doc_into_db(docs, faiss_db):\n",
        "  if faiss_db is None:\n",
        "    faiss_db = FAISS.from_documents(docs, OpenAIEmbeddings())\n",
        "  else:\n",
        "    faiss_db.add_documents(docs)\n",
        "\n",
        "  return faiss_db\n"
      ],
      "metadata": {
        "id": "XpIGN7Advo3i"
      },
      "execution_count": 17,
      "outputs": []
    },
    {
      "cell_type": "code",
      "source": [
        "def generate_chat_response(message, local_session_id):\n",
        "  result = agent_with_chat_history.invoke({\"input\": message}, config={\"configurable\": {\"session_id\": local_session_id}})\n",
        "  return result['output']"
      ],
      "metadata": {
        "id": "_qznuQJh3cZu"
      },
      "execution_count": 18,
      "outputs": []
    },
    {
      "cell_type": "code",
      "source": [
        "def get_by_session_id(session_id: str) -> BaseChatMessageHistory:\n",
        "    if session_id not in hist_store:\n",
        "        hist_store[session_id] = InMemoryHistory()\n",
        "    return hist_store[session_id]\n"
      ],
      "metadata": {
        "id": "CpJo4yLNkcBV"
      },
      "execution_count": 19,
      "outputs": []
    },
    {
      "cell_type": "code",
      "source": [
        "def get_user_and_retrieve_history():\n",
        "  # user_name = input(\"Enter your username : \")\n",
        "  history = get_by_session_id(user_name)\n",
        "  return history\n",
        "\n",
        "def get_user():\n",
        "  user_name = input(\"Enter your username : \")\n",
        "  return user_name"
      ],
      "metadata": {
        "id": "w-goNguvkekW"
      },
      "execution_count": 20,
      "outputs": []
    },
    {
      "cell_type": "code",
      "source": [
        "class InMemoryHistory(BaseChatMessageHistory, BaseModel):\n",
        "    \"\"\"In memory implementation of chat message history.\"\"\"\n",
        "\n",
        "    messages: List[BaseMessage] = Field(default_factory=list)\n",
        "\n",
        "    def add_messages(self, messages: List[BaseMessage]) -> None:\n",
        "        \"\"\"Add a list of messages to the store\"\"\"\n",
        "        self.messages.extend(messages)\n",
        "\n",
        "    def clear(self) -> None:\n",
        "        self.messages = []"
      ],
      "metadata": {
        "id": "7abUSthzmdRy"
      },
      "execution_count": 21,
      "outputs": []
    },
    {
      "cell_type": "markdown",
      "source": [
        "# Load History"
      ],
      "metadata": {
        "id": "DWR-6GA0nXlZ"
      }
    },
    {
      "cell_type": "code",
      "source": [
        "if os.path.exists(fldr+\"history.pkl\"):\n",
        "  hist_store = load_history()\n",
        "  print(f'Folder already exists at: {fldr}')"
      ],
      "metadata": {
        "id": "w-c9AzBlnZxi"
      },
      "execution_count": 23,
      "outputs": []
    },
    {
      "cell_type": "markdown",
      "source": [
        "# Create URL Lists"
      ],
      "metadata": {
        "id": "gf54sQxhqBWr"
      }
    },
    {
      "cell_type": "code",
      "source": [
        "visited_urls = crawl_website(start_url)\n",
        "print(f\"Total visited URLs: {len(visited_urls)}\")"
      ],
      "metadata": {
        "id": "HOvWuTNiN_af",
        "colab": {
          "base_uri": "https://localhost:8080/"
        },
        "outputId": "397d6a04-bc37-4f93-d46c-a1470eca0d27"
      },
      "execution_count": 31,
      "outputs": [
        {
          "output_type": "stream",
          "name": "stdout",
          "text": [
            "Visited 10: https://chandlerparkps.vic.edu.au/curriculum/\n",
            "Visited 20: https://chandlerparkps.vic.edu.au/wellbeing/#wellbeing\n",
            "Visited 30: https://chandlerparkps.vic.edu.au/parents/\n"
          ]
        },
        {
          "output_type": "stream",
          "name": "stderr",
          "text": [
            "WARNING:bs4.dammit:Some characters could not be decoded, and were replaced with REPLACEMENT CHARACTER.\n"
          ]
        },
        {
          "output_type": "stream",
          "name": "stdout",
          "text": [
            "Visited 40: https://chandlerparkps.vic.edu.au/wp-content/uploads/2024/04/IMG_7861.jpg\n"
          ]
        },
        {
          "output_type": "stream",
          "name": "stderr",
          "text": [
            "WARNING:bs4.dammit:Some characters could not be decoded, and were replaced with REPLACEMENT CHARACTER.\n",
            "WARNING:bs4.dammit:Some characters could not be decoded, and were replaced with REPLACEMENT CHARACTER.\n",
            "WARNING:bs4.dammit:Some characters could not be decoded, and were replaced with REPLACEMENT CHARACTER.\n",
            "WARNING:bs4.dammit:Some characters could not be decoded, and were replaced with REPLACEMENT CHARACTER.\n",
            "WARNING:bs4.dammit:Some characters could not be decoded, and were replaced with REPLACEMENT CHARACTER.\n",
            "WARNING:bs4.dammit:Some characters could not be decoded, and were replaced with REPLACEMENT CHARACTER.\n",
            "WARNING:bs4.dammit:Some characters could not be decoded, and were replaced with REPLACEMENT CHARACTER.\n",
            "WARNING:bs4.dammit:Some characters could not be decoded, and were replaced with REPLACEMENT CHARACTER.\n",
            "WARNING:bs4.dammit:Some characters could not be decoded, and were replaced with REPLACEMENT CHARACTER.\n",
            "WARNING:bs4.dammit:Some characters could not be decoded, and were replaced with REPLACEMENT CHARACTER.\n"
          ]
        },
        {
          "output_type": "stream",
          "name": "stdout",
          "text": [
            "Visited 50: https://chandlerparkps.vic.edu.au/wp-content/uploads/2022/05/Enrolment-Information.pdf\n"
          ]
        },
        {
          "output_type": "stream",
          "name": "stderr",
          "text": [
            "WARNING:bs4.dammit:Some characters could not be decoded, and were replaced with REPLACEMENT CHARACTER.\n",
            "WARNING:bs4.dammit:Some characters could not be decoded, and were replaced with REPLACEMENT CHARACTER.\n",
            "WARNING:bs4.dammit:Some characters could not be decoded, and were replaced with REPLACEMENT CHARACTER.\n",
            "WARNING:bs4.dammit:Some characters could not be decoded, and were replaced with REPLACEMENT CHARACTER.\n",
            "WARNING:bs4.dammit:Some characters could not be decoded, and were replaced with REPLACEMENT CHARACTER.\n",
            "WARNING:bs4.dammit:Some characters could not be decoded, and were replaced with REPLACEMENT CHARACTER.\n",
            "WARNING:bs4.dammit:Some characters could not be decoded, and were replaced with REPLACEMENT CHARACTER.\n",
            "WARNING:bs4.dammit:Some characters could not be decoded, and were replaced with REPLACEMENT CHARACTER.\n",
            "WARNING:bs4.dammit:Some characters could not be decoded, and were replaced with REPLACEMENT CHARACTER.\n",
            "WARNING:bs4.dammit:Some characters could not be decoded, and were replaced with REPLACEMENT CHARACTER.\n"
          ]
        },
        {
          "output_type": "stream",
          "name": "stdout",
          "text": [
            "Visited 60: https://chandlerparkps.vic.edu.au/wp-content/uploads/2023/11/BOOK-PACK-ORDER-FORM-YEAR-2-2024.pdf\n"
          ]
        },
        {
          "output_type": "stream",
          "name": "stderr",
          "text": [
            "WARNING:bs4.dammit:Some characters could not be decoded, and were replaced with REPLACEMENT CHARACTER.\n",
            "WARNING:bs4.dammit:Some characters could not be decoded, and were replaced with REPLACEMENT CHARACTER.\n",
            "WARNING:bs4.dammit:Some characters could not be decoded, and were replaced with REPLACEMENT CHARACTER.\n",
            "WARNING:bs4.dammit:Some characters could not be decoded, and were replaced with REPLACEMENT CHARACTER.\n",
            "WARNING:bs4.dammit:Some characters could not be decoded, and were replaced with REPLACEMENT CHARACTER.\n",
            "WARNING:bs4.dammit:Some characters could not be decoded, and were replaced with REPLACEMENT CHARACTER.\n",
            "WARNING:bs4.dammit:Some characters could not be decoded, and were replaced with REPLACEMENT CHARACTER.\n",
            "WARNING:bs4.dammit:Some characters could not be decoded, and were replaced with REPLACEMENT CHARACTER.\n",
            "WARNING:bs4.dammit:Some characters could not be decoded, and were replaced with REPLACEMENT CHARACTER.\n",
            "WARNING:bs4.dammit:Some characters could not be decoded, and were replaced with REPLACEMENT CHARACTER.\n"
          ]
        },
        {
          "output_type": "stream",
          "name": "stdout",
          "text": [
            "Visited 70: https://chandlerparkps.vic.edu.au/wp-content/uploads/2023/11/BOOK-PACK-ORDER-FORM-YEAR-6-2024-1.pdf\n"
          ]
        },
        {
          "output_type": "stream",
          "name": "stderr",
          "text": [
            "WARNING:bs4.dammit:Some characters could not be decoded, and were replaced with REPLACEMENT CHARACTER.\n",
            "WARNING:bs4.dammit:Some characters could not be decoded, and were replaced with REPLACEMENT CHARACTER.\n",
            "WARNING:bs4.dammit:Some characters could not be decoded, and were replaced with REPLACEMENT CHARACTER.\n",
            "WARNING:bs4.dammit:Some characters could not be decoded, and were replaced with REPLACEMENT CHARACTER.\n",
            "WARNING:bs4.dammit:Some characters could not be decoded, and were replaced with REPLACEMENT CHARACTER.\n",
            "WARNING:bs4.dammit:Some characters could not be decoded, and were replaced with REPLACEMENT CHARACTER.\n",
            "WARNING:bs4.dammit:Some characters could not be decoded, and were replaced with REPLACEMENT CHARACTER.\n",
            "WARNING:bs4.dammit:Some characters could not be decoded, and were replaced with REPLACEMENT CHARACTER.\n",
            "WARNING:bs4.dammit:Some characters could not be decoded, and were replaced with REPLACEMENT CHARACTER.\n",
            "WARNING:bs4.dammit:Some characters could not be decoded, and were replaced with REPLACEMENT CHARACTER.\n"
          ]
        },
        {
          "output_type": "stream",
          "name": "stdout",
          "text": [
            "Visited 80: https://chandlerparkps.vic.edu.au/wp-content/uploads/2021/10/Child-Safe-Policy.pdf\n"
          ]
        },
        {
          "output_type": "stream",
          "name": "stderr",
          "text": [
            "WARNING:bs4.dammit:Some characters could not be decoded, and were replaced with REPLACEMENT CHARACTER.\n",
            "WARNING:bs4.dammit:Some characters could not be decoded, and were replaced with REPLACEMENT CHARACTER.\n",
            "WARNING:bs4.dammit:Some characters could not be decoded, and were replaced with REPLACEMENT CHARACTER.\n",
            "WARNING:bs4.dammit:Some characters could not be decoded, and were replaced with REPLACEMENT CHARACTER.\n",
            "WARNING:bs4.dammit:Some characters could not be decoded, and were replaced with REPLACEMENT CHARACTER.\n",
            "WARNING:bs4.dammit:Some characters could not be decoded, and were replaced with REPLACEMENT CHARACTER.\n",
            "WARNING:bs4.dammit:Some characters could not be decoded, and were replaced with REPLACEMENT CHARACTER.\n",
            "WARNING:bs4.dammit:Some characters could not be decoded, and were replaced with REPLACEMENT CHARACTER.\n",
            "WARNING:bs4.dammit:Some characters could not be decoded, and were replaced with REPLACEMENT CHARACTER.\n",
            "WARNING:bs4.dammit:Some characters could not be decoded, and were replaced with REPLACEMENT CHARACTER.\n"
          ]
        },
        {
          "output_type": "stream",
          "name": "stdout",
          "text": [
            "Visited 90: https://chandlerparkps.vic.edu.au/wp-content/uploads/2021/08/Hire-of-Facilities.pdf\n"
          ]
        },
        {
          "output_type": "stream",
          "name": "stderr",
          "text": [
            "WARNING:bs4.dammit:Some characters could not be decoded, and were replaced with REPLACEMENT CHARACTER.\n",
            "WARNING:bs4.dammit:Some characters could not be decoded, and were replaced with REPLACEMENT CHARACTER.\n",
            "WARNING:bs4.dammit:Some characters could not be decoded, and were replaced with REPLACEMENT CHARACTER.\n",
            "WARNING:bs4.dammit:Some characters could not be decoded, and were replaced with REPLACEMENT CHARACTER.\n",
            "WARNING:bs4.dammit:Some characters could not be decoded, and were replaced with REPLACEMENT CHARACTER.\n",
            "WARNING:bs4.dammit:Some characters could not be decoded, and were replaced with REPLACEMENT CHARACTER.\n",
            "WARNING:bs4.dammit:Some characters could not be decoded, and were replaced with REPLACEMENT CHARACTER.\n",
            "WARNING:bs4.dammit:Some characters could not be decoded, and were replaced with REPLACEMENT CHARACTER.\n",
            "WARNING:bs4.dammit:Some characters could not be decoded, and were replaced with REPLACEMENT CHARACTER.\n"
          ]
        },
        {
          "output_type": "stream",
          "name": "stdout",
          "text": [
            "Visited 100: https://chandlerparkps.vic.edu.au/wp-content/uploads/2021/08/School-Commitment-Pledge.pdf\n"
          ]
        },
        {
          "output_type": "stream",
          "name": "stderr",
          "text": [
            "WARNING:bs4.dammit:Some characters could not be decoded, and were replaced with REPLACEMENT CHARACTER.\n",
            "WARNING:bs4.dammit:Some characters could not be decoded, and were replaced with REPLACEMENT CHARACTER.\n",
            "WARNING:bs4.dammit:Some characters could not be decoded, and were replaced with REPLACEMENT CHARACTER.\n",
            "WARNING:bs4.dammit:Some characters could not be decoded, and were replaced with REPLACEMENT CHARACTER.\n",
            "WARNING:bs4.dammit:Some characters could not be decoded, and were replaced with REPLACEMENT CHARACTER.\n",
            "WARNING:bs4.dammit:Some characters could not be decoded, and were replaced with REPLACEMENT CHARACTER.\n",
            "WARNING:bs4.dammit:Some characters could not be decoded, and were replaced with REPLACEMENT CHARACTER.\n",
            "WARNING:bs4.dammit:Some characters could not be decoded, and were replaced with REPLACEMENT CHARACTER.\n",
            "WARNING:bs4.dammit:Some characters could not be decoded, and were replaced with REPLACEMENT CHARACTER.\n"
          ]
        },
        {
          "output_type": "stream",
          "name": "stdout",
          "text": [
            "Visited 110: https://chandlerparkps.vic.edu.au/2019/01/22/hello-world/\n"
          ]
        },
        {
          "output_type": "stream",
          "name": "stderr",
          "text": [
            "/usr/lib/python3.10/html/parser.py:170: XMLParsedAsHTMLWarning: It looks like you're parsing an XML document using an HTML parser. If this really is an HTML document (maybe it's XHTML?), you can ignore or filter this warning. If it's XML, you should know that using an XML parser will be more reliable. To parse this document as XML, make sure you have the lxml package installed, and pass the keyword argument `features=\"xml\"` into the BeautifulSoup constructor.\n",
            "  k = self.parse_starttag(i)\n"
          ]
        },
        {
          "output_type": "stream",
          "name": "stdout",
          "text": [
            "Total visited URLs: 115\n"
          ]
        }
      ]
    },
    {
      "cell_type": "code",
      "source": [
        "with open(fldr+\"url_list.pkl\", \"wb\") as f:\n",
        "    pickle.dump(visited_urls, f)"
      ],
      "metadata": {
        "id": "0xc8prpvq6ul"
      },
      "execution_count": 32,
      "outputs": []
    },
    {
      "cell_type": "code",
      "source": [
        "with open(fldr+\"url_list.pkl\", \"rb\") as f:\n",
        "    visited_urls = list(pickle.load(f))\n",
        "\n",
        "error_url_lst = []"
      ],
      "metadata": {
        "id": "u1VRXmTKrANa"
      },
      "execution_count": 24,
      "outputs": []
    },
    {
      "cell_type": "code",
      "source": [
        "print(f\"Total visited URLs: {len(visited_urls)}\")"
      ],
      "metadata": {
        "id": "RWd52bT8rTgq",
        "colab": {
          "base_uri": "https://localhost:8080/"
        },
        "outputId": "c3559e81-fed4-4194-8314-a1260dbaf4d9"
      },
      "execution_count": 25,
      "outputs": [
        {
          "output_type": "stream",
          "name": "stdout",
          "text": [
            "Total visited URLs: 115\n"
          ]
        }
      ]
    },
    {
      "cell_type": "markdown",
      "source": [
        "# Create Database"
      ],
      "metadata": {
        "id": "cLyTDzx3pqyO"
      }
    },
    {
      "cell_type": "code",
      "source": [
        "if os.path.exists(fldr+db_name):\n",
        "  faiss_data_db = FAISS.load_local(fldr+db_name,embeddings=OpenAIEmbeddings(), allow_dangerous_deserialization=True)\n",
        "  print(\"DB already exists\")\n",
        "else:\n",
        "  faiss_data_db = None\n",
        "  print(\"create a new database because none exists\")\n"
      ],
      "metadata": {
        "id": "Od8mifCLrgHj",
        "colab": {
          "base_uri": "https://localhost:8080/"
        },
        "outputId": "b6049a54-4968-47b7-8188-d9417dd82bc6"
      },
      "execution_count": 31,
      "outputs": [
        {
          "output_type": "stream",
          "name": "stdout",
          "text": [
            "create a new database because none exists\n"
          ]
        }
      ]
    },
    {
      "cell_type": "code",
      "source": [
        "for url in visited_urls[0:5000]:\n",
        "  print(url)\n",
        "  try:\n",
        "    if \"pdf\" in url:\n",
        "      docs = extract_process_pdf(url)\n",
        "    else:\n",
        "      docs = extract_process_url(url)\n",
        "\n",
        "    faiss_data_db = store_doc_into_db(docs, faiss_data_db)\n",
        "  except:\n",
        "    error_url_lst.append(url)\n"
      ],
      "metadata": {
        "id": "NeJUIdwEmcaZ",
        "collapsed": true,
        "colab": {
          "base_uri": "https://localhost:8080/"
        },
        "outputId": "135e9d57-3340-4e6f-dfb2-a7252ffff6e0"
      },
      "execution_count": 32,
      "outputs": [
        {
          "output_type": "stream",
          "name": "stdout",
          "text": [
            "https://chandlerparkps.vic.edu.au/wp-content/uploads/2021/08/Inclusion-and-Diversity-Policy.pdf\n",
            "https://chandlerparkps.vic.edu.au/about-us/#zone\n"
          ]
        },
        {
          "output_type": "stream",
          "name": "stderr",
          "text": [
            "WARNING:langchain_text_splitters.base:Created a chunk of size 1150, which is longer than the specified 1000\n",
            "WARNING:langchain_text_splitters.base:Created a chunk of size 1083, which is longer than the specified 1000\n"
          ]
        },
        {
          "output_type": "stream",
          "name": "stdout",
          "text": [
            "https://chandlerparkps.vic.edu.au/about-us/#council\n"
          ]
        },
        {
          "output_type": "stream",
          "name": "stderr",
          "text": [
            "WARNING:langchain_text_splitters.base:Created a chunk of size 1150, which is longer than the specified 1000\n",
            "WARNING:langchain_text_splitters.base:Created a chunk of size 1083, which is longer than the specified 1000\n"
          ]
        },
        {
          "output_type": "stream",
          "name": "stdout",
          "text": [
            "https://chandlerparkps.vic.edu.au/wp-content/uploads/2023/02/Privacy_Collection_Notice.pdf\n",
            "https://chandlerparkps.vic.edu.au/wp-content/uploads/2021/08/Child-Safety-Responding-and-Reporting-Obligations-Policy-and-Procedures.pdf\n",
            "https://chandlerparkps.vic.edu.au/wp-content/uploads/2024/02/gwfe-information-for-parents.pdf\n",
            "https://chandlerparkps.vic.edu.au/wp-content/uploads/2022/10/2022-Child-Safe-Code-of-Conduct.docx.pdf\n",
            "https://chandlerparkps.vic.edu.au/wp-content/uploads/2021/08/Parent-Disputes-Policy.pdf\n",
            "https://chandlerparkps.vic.edu.au/enrolment/#parenttransition\n",
            "https://chandlerparkps.vic.edu.au/wp-content/uploads/2023/11/02-2024-Year-2-Parent-Payments.pdf\n",
            "https://chandlerparkps.vic.edu.au/2019/01/\n",
            "https://chandlerparkps.vic.edu.au/wp-content/uploads/2022/11/2022-Uniform-Policy.pdf\n",
            "https://chandlerparkps.vic.edu.au/curriculum/#inquiry\n",
            "https://chandlerparkps.vic.edu.au/wp-content/uploads/2023/11/01-2024-Year-1-Parent-Payments-2.pdf\n",
            "https://chandlerparkps.vic.edu.au/wp-content/uploads/2022/05/Enrolment-Information.pdf\n",
            "https://chandlerparkps.vic.edu.au/governance/\n",
            "https://chandlerparkps.vic.edu.au/wp-content/uploads/2023/11/BOOK-PACK-ORDER-FORM-YEAR-2-2024.pdf\n",
            "https://chandlerparkps.vic.edu.au/wp-content/uploads/2021/08/Dogs-at-School-Policy.pdf\n",
            "https://chandlerparkps.vic.edu.au/wp-content/uploads/2021/08/Bullying-Prevention-Policy.pdf\n",
            "https://chandlerparkps.vic.edu.au/curriculum/\n",
            "https://chandlerparkps.vic.edu.au/wp-content/uploads/2021/08/Asthma-Policy.pdf\n",
            "https://chandlerparkps.vic.edu.au/wellbeing/#wellbeing\n",
            "https://chandlerparkps.vic.edu.au/wp-content/uploads/2020/12/Dressing-Handout-Website.pdf\n",
            "https://chandlerparkps.vic.edu.au/wp-content/uploads/2024/04/IMG_7814.jpg\n"
          ]
        },
        {
          "output_type": "stream",
          "name": "stderr",
          "text": [
            "ERROR:langchain_community.document_loaders.url:Error fetching or processing https://chandlerparkps.vic.edu.au/wp-content/uploads/2024/04/IMG_7814.jpg, exception: partition_image() is not available because one or more dependencies are not installed. Use: pip install \"unstructured[image]\" (including quotes) to install the required dependencies\n"
          ]
        },
        {
          "output_type": "stream",
          "name": "stdout",
          "text": [
            "https://chandlerparkps.vic.edu.au/wp-content/uploads/2022/10/2022-Complaints-Policy.pdf\n",
            "https://chandlerparkps.vic.edu.au/enrolment/#enrolment\n",
            "https://chandlerparkps.vic.edu.au/wp-content/uploads/2021/08/Working-with-Children-Check-Policy.pdf\n",
            "https://chandlerparkps.vic.edu.au/wp-content/uploads/2023/06/Chandler-Park-Primary-School-5533-2021-2024-School-Strategic-Plan-A3.pdf\n",
            "https://chandlerparkps.vic.edu.au/about-us/#profile\n"
          ]
        },
        {
          "output_type": "stream",
          "name": "stderr",
          "text": [
            "WARNING:langchain_text_splitters.base:Created a chunk of size 1150, which is longer than the specified 1000\n",
            "WARNING:langchain_text_splitters.base:Created a chunk of size 1083, which is longer than the specified 1000\n"
          ]
        },
        {
          "output_type": "stream",
          "name": "stdout",
          "text": [
            "https://chandlerparkps.vic.edu.au/wp-content/uploads/2023/11/BOOK-PACK-ORDER-FORM-PREP-2024.pdf\n",
            "https://chandlerparkps.vic.edu.au/parents/#oshc\n",
            "https://chandlerparkps.vic.edu.au/wp-content/uploads/2023/11/BOOK-PACK-ORDER-FORM-YEAR-1-2024.pdf\n",
            "https://chandlerparkps.vic.edu.au/wp-content/uploads/2021/08/Sunsmart-Policy.pdf\n",
            "https://chandlerparkps.vic.edu.au/enrolment/#kindertransition\n",
            "https://chandlerparkps.vic.edu.au/parents/#canteen\n",
            "https://chandlerparkps.vic.edu.au/curriculum/#teaching\n",
            "https://chandlerparkps.vic.edu.au/wp-content/uploads/2022/11/PSW-Hampton-Park.pdf\n",
            "https://chandlerparkps.vic.edu.au/curriculum/#voice\n",
            "https://chandlerparkps.vic.edu.au/wp-content/uploads/2023/06/Chandler-Park-Primary-School-5533-2023-AIP-Entire.pdf\n",
            "https://chandlerparkps.vic.edu.au/wp-content/uploads/2023/05/2024-zone-chandler-park-ps.jpg\n"
          ]
        },
        {
          "output_type": "stream",
          "name": "stderr",
          "text": [
            "ERROR:langchain_community.document_loaders.url:Error fetching or processing https://chandlerparkps.vic.edu.au/wp-content/uploads/2023/05/2024-zone-chandler-park-ps.jpg, exception: partition_image() is not available because one or more dependencies are not installed. Use: pip install \"unstructured[image]\" (including quotes) to install the required dependencies\n"
          ]
        },
        {
          "output_type": "stream",
          "name": "stdout",
          "text": [
            "https://chandlerparkps.vic.edu.au/wellbeing/#breaky\n",
            "https://chandlerparkps.vic.edu.au/wp-content/uploads/2023/11/BOOK-PACK-ORDER-FORM-YEAR-6-2024-1.pdf\n",
            "https://chandlerparkps.vic.edu.au/wp-content/uploads/2022/11/Uniform-Pricelist.pdf\n",
            "https://chandlerparkps.vic.edu.au/siteedit/\n",
            "https://chandlerparkps.vic.edu.au/wp-content/uploads/2021/08/Refund-Policy.pdf\n",
            "https://chandlerparkps.vic.edu.au/wp-content/uploads/2024/03/Photographing-filming-recording-policy-february-2024.pdf\n",
            "https://chandlerparkps.vic.edu.au/about-us/#principal\n"
          ]
        },
        {
          "output_type": "stream",
          "name": "stderr",
          "text": [
            "WARNING:langchain_text_splitters.base:Created a chunk of size 1150, which is longer than the specified 1000\n",
            "WARNING:langchain_text_splitters.base:Created a chunk of size 1083, which is longer than the specified 1000\n"
          ]
        },
        {
          "output_type": "stream",
          "name": "stdout",
          "text": [
            "https://chandlerparkps.vic.edu.au/wp-content/uploads/2023/11/04-2024-Year-4-Parent-Payments.pdf\n",
            "https://chandlerparkps.vic.edu.au/enrolment/#zone\n",
            "https://chandlerparkps.vic.edu.au/wp-content/uploads/2021/08/Visitors-Policy.pdf\n",
            "https://chandlerparkps.vic.edu.au/wp-content/uploads/2023/05/Student-Enrolment-Form-2024-PDF-Version.pdf\n",
            "https://chandlerparkps.vic.edu.au/wp-content/uploads/2021/08/Mobile-Devices-Student-Use-Policy.pdf\n",
            "https://chandlerparkps.vic.edu.au/curriculum/#specialists\n",
            "https://chandlerparkps.vic.edu.au/wp-content/uploads/2021/08/Schools-Privacy-Policy-English.pdf\n",
            "https://chandlerparkps.vic.edu.au/about-us/#governance\n"
          ]
        },
        {
          "output_type": "stream",
          "name": "stderr",
          "text": [
            "WARNING:langchain_text_splitters.base:Created a chunk of size 1150, which is longer than the specified 1000\n",
            "WARNING:langchain_text_splitters.base:Created a chunk of size 1083, which is longer than the specified 1000\n"
          ]
        },
        {
          "output_type": "stream",
          "name": "stdout",
          "text": [
            "https://chandlerparkps.vic.edu.au/parents/#fundraising\n",
            "https://chandlerparkps.vic.edu.au/parents/#payments\n",
            "https://chandlerparkps.vic.edu.au/parents/#uniform\n",
            "https://chandlerparkps.vic.edu.au/wp-content/uploads/2023/11/Theircare-Vietnamese-2.pdf\n",
            "https://chandlerparkps.vic.edu.au/wellbeing/#attendance\n",
            "https://chandlerparkps.vic.edu.au/comments/feed/\n",
            "https://chandlerparkps.vic.edu.au/wp-content/uploads/2021/08/Hire-of-Facilities.pdf\n",
            "https://chandlerparkps.vic.edu.au/about-us/#values\n"
          ]
        },
        {
          "output_type": "stream",
          "name": "stderr",
          "text": [
            "WARNING:langchain_text_splitters.base:Created a chunk of size 1150, which is longer than the specified 1000\n",
            "WARNING:langchain_text_splitters.base:Created a chunk of size 1083, which is longer than the specified 1000\n"
          ]
        },
        {
          "output_type": "stream",
          "name": "stdout",
          "text": [
            "https://chandlerparkps.vic.edu.au/wp-content/uploads/2023/06/arc_2022_5533-final.pdf\n",
            "https://chandlerparkps.vic.edu.au/wp-content/uploads/2021/08/Homework-Policy.pdf\n",
            "https://chandlerparkps.vic.edu.au/wp-content/uploads/2021/10/Child-Safe-Policy.pdf\n",
            "https://chandlerparkps.vic.edu.au/parents/\n",
            "https://chandlerparkps.vic.edu.au/wp-content/uploads/2023/11/BOOK-PACK-ORDER-FORM-YEAR-3-2024.pdf\n",
            "https://chandlerparkps.vic.edu.au/enrolment/\n",
            "https://chandlerparkps.vic.edu.au/wp-content/uploads/2021/08/School-Commitment-Pledge.pdf\n",
            "https://chandlerparkps.vic.edu.au/wp-content/uploads/2024/04/IMG_7861.jpg\n"
          ]
        },
        {
          "output_type": "stream",
          "name": "stderr",
          "text": [
            "ERROR:langchain_community.document_loaders.url:Error fetching or processing https://chandlerparkps.vic.edu.au/wp-content/uploads/2024/04/IMG_7861.jpg, exception: partition_image() is not available because one or more dependencies are not installed. Use: pip install \"unstructured[image]\" (including quotes) to install the required dependencies\n"
          ]
        },
        {
          "output_type": "stream",
          "name": "stdout",
          "text": [
            "https://chandlerparkps.vic.edu.au/wp-content/uploads/2023/11/CHANPPS-ORDER-FORM-YEAR-5-2024.docx\n"
          ]
        },
        {
          "output_type": "stream",
          "name": "stderr",
          "text": [
            "ERROR:langchain_community.document_loaders.url:Error fetching or processing https://chandlerparkps.vic.edu.au/wp-content/uploads/2023/11/CHANPPS-ORDER-FORM-YEAR-5-2024.docx, exception: partition_docx() is not available because one or more dependencies are not installed. Use: pip install \"unstructured[docx]\" (including quotes) to install the required dependencies\n"
          ]
        },
        {
          "output_type": "stream",
          "name": "stdout",
          "text": [
            "https://chandlerparkps.vic.edu.au/wp-content/uploads/2023/11/06-2024-Year-6-Parent-Payments.pdf\n",
            "https://chandlerparkps.vic.edu.au/category/uncategorized/\n",
            "https://chandlerparkps.vic.edu.au/curriculum/#digital\n",
            "https://chandlerparkps.vic.edu.au/feed/\n",
            "https://chandlerparkps.vic.edu.au/wp-content/uploads/2023/11/00-2024-Prep-Parent-Payments.pdf\n",
            "https://chandlerparkps.vic.edu.au/enrolment/#preptransition\n",
            "https://chandlerparkps.vic.edu.au/parents/#compass\n",
            "https://chandlerparkps.vic.edu.au/wp-content/uploads/2021/08/Statement-of-Values-School-Philosophy.pdf\n",
            "https://chandlerparkps.vic.edu.au/\n",
            "https://chandlerparkps.vic.edu.au/contacts/\n",
            "https://chandlerparkps.vic.edu.au/wp-content/uploads/2021/08/First-Aid-Policy.pdf\n",
            "https://chandlerparkps.vic.edu.au/curriculum/#literacy\n",
            "https://chandlerparkps.vic.edu.au/wp-content/uploads/2023/11/05-2024-Year-5-Parent-Payments.pdf\n",
            "https://chandlerparkps.vic.edu.au/wellbeing/\n",
            "https://chandlerparkps.vic.edu.au/enrolment/#international\n",
            "https://chandlerparkps.vic.edu.au/wp-content/uploads/2021/08/Attendance-Policy.pdf\n",
            "https://chandlerparkps.vic.edu.au/wp-content/uploads/2024/04/IMG_7728.jpg\n"
          ]
        },
        {
          "output_type": "stream",
          "name": "stderr",
          "text": [
            "ERROR:langchain_community.document_loaders.url:Error fetching or processing https://chandlerparkps.vic.edu.au/wp-content/uploads/2024/04/IMG_7728.jpg, exception: partition_image() is not available because one or more dependencies are not installed. Use: pip install \"unstructured[image]\" (including quotes) to install the required dependencies\n"
          ]
        },
        {
          "output_type": "stream",
          "name": "stdout",
          "text": [
            "https://chandlerparkps.vic.edu.au/2024-parent-payment-policy/\n",
            "https://chandlerparkps.vic.edu.au/wp-content/uploads/2022/10/2022-Volunteers-Policy.pdf\n",
            "https://chandlerparkps.vic.edu.au/wp-content/uploads/2024/03/2024-Parent-Payment-Policy.pdf\n",
            "https://chandlerparkps.vic.edu.au/wp-content/uploads/2021/08/Health-Care-Needs-Policy.pdf\n",
            "https://chandlerparkps.vic.edu.au/wp-content/uploads/2023/11/03-2024-Year-3-Parent-Payments.pdf\n",
            "https://chandlerparkps.vic.edu.au/wp-content/uploads/2022/10/Enrolling-in-Primary-School-Letter-updated-28-March-2022-1.pdf\n",
            "https://chandlerparkps.vic.edu.au/wp-content/uploads/2023/11/BOOK-PACK-ORDER-FORM-YEAR-5-2024-1.pdf\n",
            "https://chandlerparkps.vic.edu.au/wp-content/uploads/2021/08/Digital-Learning-Policy-Internet-Social-Media-and-Digital-Devices.pdf\n",
            "https://chandlerparkps.vic.edu.au/wp-content/uploads/2022/11/CHANPPS-ORDER-FORM-YEAR-5-2023-1.pdf\n",
            "https://chandlerparkps.vic.edu.au/about-us/\n"
          ]
        },
        {
          "output_type": "stream",
          "name": "stderr",
          "text": [
            "WARNING:langchain_text_splitters.base:Created a chunk of size 1150, which is longer than the specified 1000\n",
            "WARNING:langchain_text_splitters.base:Created a chunk of size 1083, which is longer than the specified 1000\n"
          ]
        },
        {
          "output_type": "stream",
          "name": "stdout",
          "text": [
            "https://chandlerparkps.vic.edu.au/curriculum/#assessment\n",
            "https://chandlerparkps.vic.edu.au/wp-content/uploads/2023/11/BOOK-PACK-ORDER-FORM-YEAR-4-2024-1.pdf\n",
            "https://chandlerparkps.vic.edu.au/wp-content/uploads/2021/08/Personal-Property-Policy.pdf\n",
            "https://chandlerparkps.vic.edu.au/curriculum/#numeracy\n",
            "https://chandlerparkps.vic.edu.au/about-us/#houses\n"
          ]
        },
        {
          "output_type": "stream",
          "name": "stderr",
          "text": [
            "WARNING:langchain_text_splitters.base:Created a chunk of size 1150, which is longer than the specified 1000\n",
            "WARNING:langchain_text_splitters.base:Created a chunk of size 1083, which is longer than the specified 1000\n"
          ]
        },
        {
          "output_type": "stream",
          "name": "stdout",
          "text": [
            "https://chandlerparkps.vic.edu.au/wp-content/uploads/2021/10/Student-Engagement-and-Wellbeing-Policy-1.pdf\n",
            "https://chandlerparkps.vic.edu.au/wp-content/uploads/2021/08/Anaphylaxis-Policy.pdf\n",
            "https://chandlerparkps.vic.edu.au/wp-content/uploads/2023/11/CHANPPS-ORDER-FORM-PREP-2024.docx\n"
          ]
        },
        {
          "output_type": "stream",
          "name": "stderr",
          "text": [
            "ERROR:langchain_community.document_loaders.url:Error fetching or processing https://chandlerparkps.vic.edu.au/wp-content/uploads/2023/11/CHANPPS-ORDER-FORM-PREP-2024.docx, exception: partition_docx() is not available because one or more dependencies are not installed. Use: pip install \"unstructured[docx]\" (including quotes) to install the required dependencies\n"
          ]
        },
        {
          "output_type": "stream",
          "name": "stdout",
          "text": [
            "https://chandlerparkps.vic.edu.au/wp-content/uploads/2022/10/Enrolling-in-Primary-School-Letter-updated-28-March-2022.pdf\n",
            "https://chandlerparkps.vic.edu.au/wp-content/uploads/2022/10/2022-Yard-Duty-and-Supervision-Policy.pdf\n",
            "https://chandlerparkps.vic.edu.au/wp-content/uploads/2021/10/Curriculum-Framework-Policy.pdf\n",
            "https://chandlerparkps.vic.edu.au/2019/01/22/hello-world/\n",
            "https://chandlerparkps.vic.edu.au/parents/#council\n",
            "https://chandlerparkps.vic.edu.au/wp-content/uploads/2024/04/IMG_7807.jpg\n"
          ]
        },
        {
          "output_type": "stream",
          "name": "stderr",
          "text": [
            "ERROR:langchain_community.document_loaders.url:Error fetching or processing https://chandlerparkps.vic.edu.au/wp-content/uploads/2024/04/IMG_7807.jpg, exception: partition_image() is not available because one or more dependencies are not installed. Use: pip install \"unstructured[image]\" (including quotes) to install the required dependencies\n"
          ]
        },
        {
          "output_type": "stream",
          "name": "stdout",
          "text": [
            "https://chandlerparkps.vic.edu.au/wp-content/uploads/2023/05/Student-Application-Form-2024-PDF-Version.pdf\n",
            "https://chandlerparkps.vic.edu.au/wp-content/uploads/2023/11/Chandler-park-Theircare-flyer-English-1.pdf\n"
          ]
        }
      ]
    },
    {
      "cell_type": "markdown",
      "source": [
        "# Write Everything"
      ],
      "metadata": {
        "id": "2lqQwV48uRQb"
      }
    },
    {
      "cell_type": "code",
      "source": [
        "print(faiss_data_db)"
      ],
      "metadata": {
        "colab": {
          "base_uri": "https://localhost:8080/"
        },
        "id": "JQ9ADYyZxapM",
        "outputId": "c9f5710f-41bd-4d4c-efcc-09ed20fb6c35"
      },
      "execution_count": 33,
      "outputs": [
        {
          "output_type": "stream",
          "name": "stdout",
          "text": [
            "<langchain_community.vectorstores.faiss.FAISS object at 0x7ee083733850>\n"
          ]
        }
      ]
    },
    {
      "cell_type": "code",
      "source": [
        "FAISS.save_local(faiss_data_db, fldr+db_name)"
      ],
      "metadata": {
        "id": "kwfXp1hzubRi"
      },
      "execution_count": 34,
      "outputs": []
    },
    {
      "cell_type": "code",
      "source": [
        "with open(fldr+\"error_urls.pkl\", \"wb\") as f:\n",
        "  pickle.dump(error_url_lst, f)"
      ],
      "metadata": {
        "id": "qePoEdRiuP2I"
      },
      "execution_count": 35,
      "outputs": []
    },
    {
      "cell_type": "markdown",
      "source": [
        "# Create Retriever"
      ],
      "metadata": {
        "id": "scyOQLDXp5FH"
      }
    },
    {
      "cell_type": "code",
      "source": [
        "if os.path.exists(fldr+db_name):\n",
        "  faiss_data_db = FAISS.load_local(fldr+db_name,embeddings=OpenAIEmbeddings(), allow_dangerous_deserialization=True)\n",
        "else:\n",
        "  faiss_data_db = None"
      ],
      "metadata": {
        "id": "13s1qL-0ywkc"
      },
      "execution_count": 36,
      "outputs": []
    },
    {
      "cell_type": "code",
      "source": [
        "primary_retriever = faiss_data_db.as_retriever( search_type=\"similarity_score_threshold\",\n",
        "                            search_kwargs={\"score_threshold\": 0.5,\"k\": 1}\n",
        ")"
      ],
      "metadata": {
        "id": "C_uIbSSdou2t"
      },
      "execution_count": 37,
      "outputs": []
    },
    {
      "cell_type": "code",
      "source": [
        "primary_retriever.invoke(\"who is school principal\")"
      ],
      "metadata": {
        "colab": {
          "base_uri": "https://localhost:8080/"
        },
        "id": "yJEzN7o_o6hm",
        "outputId": "fb9cf206-4d99-405b-881c-901651954594"
      },
      "execution_count": 45,
      "outputs": [
        {
          "output_type": "execute_result",
          "data": {
            "text/plain": [
              "[Document(metadata={'source': 'https://chandlerparkps.vic.edu.au/about-us/#values'}, page_content='Jo Hillman\\n\\nPrincipal\\n\\nSchool Profile\\n\\nAt Chandler Park we encourage and foster positive attitudes towards learning. We have high expectations of success, a collaborative focus on improving student learning outcomes and an inclusive school environment in which the development of every child is our priority.\\n\\nWe have an expectation that students will have:\\n\\nA sense of their own learning strengths- using learning styles, effective learning behaviours, concentration and resilience\\n\\nOrganisational skills and strategies to work independently\\n\\nAn emerging repertoire of learning strategies to use in a variety of situations\\n\\nSelf-confidence to persist in the acquisition of literacy and numeracy skills\\n\\nThe skills required to research, organise and present data\\n\\nThe skills required to be a reflective learner.')]"
            ]
          },
          "metadata": {},
          "execution_count": 45
        }
      ]
    },
    {
      "cell_type": "markdown",
      "source": [
        "# Agents"
      ],
      "metadata": {
        "id": "NtcruXHdyyGV"
      }
    },
    {
      "cell_type": "code",
      "source": [
        "agent_tool = create_retriever_tool(\n",
        "    primary_retriever,\n",
        "    \"cpps_support_search\",\n",
        "    \"Search for information on Chandler park primary school also known as CPPS\"\n",
        ")"
      ],
      "metadata": {
        "id": "pxx8GB6jzzzg"
      },
      "execution_count": 39,
      "outputs": []
    },
    {
      "cell_type": "code",
      "source": [
        "tools = [agent_tool ]"
      ],
      "metadata": {
        "id": "ER_w73amyxoW"
      },
      "execution_count": 40,
      "outputs": []
    },
    {
      "cell_type": "code",
      "source": [
        "# Get the prompt to use - you can modify this!\n",
        "prompt = hub.pull(prompt_template)\n",
        "prompt.messages"
      ],
      "metadata": {
        "colab": {
          "base_uri": "https://localhost:8080/"
        },
        "id": "d7PIWPJC0NJR",
        "outputId": "a56398ab-3fea-473a-f619-def74ea88911"
      },
      "execution_count": 41,
      "outputs": [
        {
          "output_type": "execute_result",
          "data": {
            "text/plain": [
              "[SystemMessagePromptTemplate(prompt=PromptTemplate(input_variables=[], template='You are a helpful assistant')),\n",
              " MessagesPlaceholder(variable_name='chat_history', optional=True),\n",
              " HumanMessagePromptTemplate(prompt=PromptTemplate(input_variables=['input'], template='{input}')),\n",
              " MessagesPlaceholder(variable_name='agent_scratchpad')]"
            ]
          },
          "metadata": {},
          "execution_count": 41
        }
      ]
    },
    {
      "cell_type": "code",
      "source": [
        "agent = create_tool_calling_agent(llm, tools, prompt)\n",
        "agent_executor = AgentExecutor(agent=agent, tools=tools, verbose=False)"
      ],
      "metadata": {
        "id": "1vkokBFU0aM1"
      },
      "execution_count": 42,
      "outputs": []
    },
    {
      "cell_type": "markdown",
      "source": [
        "# Chat History"
      ],
      "metadata": {
        "id": "e1fGxDmvYikB"
      }
    },
    {
      "cell_type": "code",
      "source": [
        "agent_with_chat_history = RunnableWithMessageHistory(\n",
        "    agent_executor,\n",
        "    get_user_and_retrieve_history,\n",
        "    input_messages_key=\"input\",\n",
        "    history_messages_key=\"chat_history\",\n",
        ")"
      ],
      "metadata": {
        "id": "zDHFaiXZY3cH"
      },
      "execution_count": 43,
      "outputs": []
    },
    {
      "cell_type": "markdown",
      "source": [
        "# Execution"
      ],
      "metadata": {
        "id": "AuEFU6ZE0gBn"
      }
    },
    {
      "cell_type": "code",
      "source": [
        "\n",
        "user_name = get_user()\n",
        "print(f\"welcome :: {user_name}\")\n",
        "\n",
        "\n",
        "try:\n",
        "  input_qn  = \"Hi Bot, I need help with Chandler Park Primary School\"\n",
        "  while input_qn != \"exit\":\n",
        "\n",
        "    print(\"start chat\")\n",
        "    response = generate_chat_response(input_qn, user_name)\n",
        "    print(textwrap.fill(response, 80))\n",
        "    print(\"\")\n",
        "    input_qn = input(\"Enter a message (to finish use exit): \")\n",
        "except:\n",
        "  print(traceback.format_exc())\n",
        "finally:\n",
        "  store_history()"
      ],
      "metadata": {
        "id": "HNKA5gtN0KlG",
        "colab": {
          "base_uri": "https://localhost:8080/"
        },
        "outputId": "67923282-df9b-47c9-c726-d838d8df5a95"
      },
      "execution_count": 44,
      "outputs": [
        {
          "name": "stdout",
          "output_type": "stream",
          "text": [
            "Enter your username : samarth\n",
            "welcome :: samarth\n",
            "start chat\n",
            "Chandler Park Primary School is accredited under the Department of Education’s\n",
            "CRICOS registration. For more information, you can visit www.study.vic.gov.au.\n",
            "If you need further assistance, feel free to ask!\n",
            "\n",
            "Enter a message (to finish use exit): what is uniform\n",
            "start chat\n",
            "The Chandler Park Primary School uniform is available for purchase from the PSW\n",
            "Retail Outlet at the following address:  Unit 1, 9-11 South Link Dandenong South\n",
            "VIC 3175  You can also find the uniform price list and policy at the PSW Uniform\n",
            "Shop. Additionally, reversible house-colored hats are available for purchase\n",
            "from the school office in sizes small, medium, large, and extra-large.  If you\n",
            "have any further questions or need more information, feel free to ask!\n",
            "\n",
            "Enter a message (to finish use exit): what is numeracy curriculum for year 3\n",
            "start chat\n",
            "The numeracy curriculum for Year 3 at Chandler Park Primary School is organized\n",
            "around the three content strands and four proficiency strands of the Victorian\n",
            "Curriculum. The content strands are:  1. Number and Algebra 2. Measurement and\n",
            "Geometry 3. Statistics and Probability  The proficiency strands are\n",
            "Understanding, Fluency, and Problem Solving, which describe how the content is\n",
            "explored or developed, including the thinking and doing of Mathematics.  The\n",
            "staff at Chandler Park Primary School focus on Numeracy, which involves a deeper\n",
            "understanding of mathematical concepts, as opposed to Mathematics, which is\n",
            "solely facts and equation-based. Many sessions focus on problem-solving and\n",
            "integrating mathematical concepts with real-world applications. Numeracy\n",
            "sessions typically incorporate a variety of strategies and resources, including\n",
            "concrete materials, games for learning, and learning tasks.  If you have any\n",
            "more questions or need further information, feel free to ask!\n",
            "\n",
            "Enter a message (to finish use exit): who is principal\n",
            "start chat\n",
            "It seems that I couldn't find the information about the current principal of\n",
            "Chandler Park Primary School. I recommend reaching out to the school directly\n",
            "for the most up-to-date information. If you need further assistance with\n",
            "anything else, feel free to ask!\n",
            "\n",
            "Enter a message (to finish use exit): principal\n",
            "start chat\n",
            "It seems that I couldn't retrieve the information about the current principal of\n",
            "Chandler Park Primary School. I recommend reaching out to the school directly\n",
            "for the most up-to-date information. If you need further assistance with\n",
            "anything else, feel free to ask!\n",
            "\n",
            "Enter a message (to finish use exit): who provides food \n",
            "start chat\n",
            "It seems that I couldn't retrieve specific information about the food provider\n",
            "for Chandler Park Primary School. I recommend reaching out to the school\n",
            "directly for details about their food provider. If you need further assistance\n",
            "with anything else, feel free to ask!\n",
            "\n",
            "Enter a message (to finish use exit): what is bocca\n",
            "start chat\n",
            "It seems that \"bocca\" could refer to a variety of things. If you have a specific\n",
            "context in mind, please provide more details so that I can assist you more\n",
            "effectively. If you need help with anything else, feel free to ask!\n",
            "\n",
            "Enter a message (to finish use exit): bocca foods\n",
            "start chat\n",
            "It looks like I couldn't find specific information about \"Bocca Foods\" related\n",
            "to Chandler Park Primary School. If you have a different topic or question in\n",
            "mind, please feel free to ask, and I'll be happy to assist you further!\n",
            "\n",
            "Enter a message (to finish use exit): what is enrollment process\n",
            "start chat\n",
            "The enrollment process for Chandler Park Primary School involves the following\n",
            "steps:  1. Eligibility: Children eligible for enrollment in Prep for 2025 need\n",
            "to turn 5 years old by the 30th of April 2025.  2. School Tours: Bookings for\n",
            "school tours are available on Wednesdays. Contact the school office at ph: 9798\n",
            "2228 to schedule a school tour.  3. School Zone: Information about the school\n",
            "zone can be found on the school's website.  4. Enrolment Procedure:    - Read\n",
            "the Enrolment Information document.    - Download and complete the 2024/25\n",
            "enrolment form.    - Email or deliver all required documentation as listed on\n",
            "the Information Page together with your enrolment form to the school office.  5.\n",
            "Further Information: For additional details, call 03 9798 2228 (for\n",
            "international callers: +613 9798 2228) or email a completed Enrolment Enquiry\n",
            "Form to chandler.park.ps@education.vic.gov.au.  6. Enrolment Forms: Various\n",
            "forms are available for download, including the Student Enrolment Form, Student\n",
            "Application Form for Out of Zone enrolments, and Enrolment Information\n",
            "documents.  If you have any more questions or need further assistance, feel free\n",
            "to ask!\n",
            "\n",
            "Enter a message (to finish use exit): what is school address\n",
            "start chat\n",
            "The address for Chandler Park Primary School is as follows: Cochrane Avenue\n",
            "Keysborough 3173 Victoria Australia  You can contact the school at: Phone: (03)\n",
            "9798 2228 Fax: (03) 9798 8933 Email: chandler.park.ps@education.vic.gov.au  If\n",
            "you need further assistance or have more questions, feel free to ask!\n",
            "\n",
            "Enter a message (to finish use exit): who is hillman\n",
            "start chat\n",
            "Jo Hillman is the Principal of Chandler Park Primary School. If you have any\n",
            "more questions or need further information, feel free to ask!\n",
            "\n",
            "Enter a message (to finish use exit): who is principal of chandler park primary school\n",
            "start chat\n",
            "I couldn't find specific information about the current principal of Chandler\n",
            "Park Primary School. It seems that the search results provided general\n",
            "information about the school's vision and values. I recommend reaching out to\n",
            "the school directly for the most up-to-date information about the principal. If\n",
            "you need further assistance with anything else, feel free to ask!\n",
            "\n",
            "Enter a message (to finish use exit): Principal of Chandler Park Primary School\n",
            "start chat\n",
            "It seems that I'm unable to retrieve the specific information about the current\n",
            "principal of Chandler Park Primary School at the moment. I recommend reaching\n",
            "out to the school directly for the most up-to-date information. If you need\n",
            "further assistance with anything else, feel free to ask!\n",
            "\n",
            "Enter a message (to finish use exit): who is anthony\n",
            "start chat\n",
            "It seems that I couldn't find specific information about an individual named\n",
            "Anthony at Chandler Park Primary School. If you have a different question or\n",
            "need assistance with anything else, feel free to ask!\n",
            "\n",
            "Enter a message (to finish use exit): who is anthony at cpps\n",
            "start chat\n",
            "It seems that the search did not return specific information about an individual\n",
            "named Anthony at Chandler Park Primary School. If you have a different question\n",
            "or need assistance with anything else, feel free to ask!\n",
            "\n",
            "Enter a message (to finish use exit): what is inclusion policy at chandler park primary school\n",
            "start chat\n",
            "The inclusion and diversity policy at Chandler Park Primary School is designed\n",
            "to ensure that all students, regardless of background, ability, or individual\n",
            "needs, are provided with equal opportunities to access education and participate\n",
            "in school activities. This policy promotes an inclusive and supportive\n",
            "environment that celebrates diversity and fosters a sense of belonging for all\n",
            "students.  If you need further details about the specific content of the\n",
            "inclusion and diversity policy, I recommend reaching out to the school directly\n",
            "or accessing the policy document from the school's official website.  If you\n",
            "have any more questions or need further assistance, feel free to ask!\n",
            "\n",
            "Enter a message (to finish use exit): what is school timings\n",
            "start chat\n",
            "The school operates from 6:30 am in the morning until 8:45 am and from 3:15 pm\n",
            "each day until 6:00 pm. During school holidays, the service will operate from\n",
            "7:00 am until 6:00 pm. Families wishing to use this service can visit the\n",
            "TheirCare website at http://theircare.com.au/ or contact TheirCare directly at\n",
            "1300 072 410.  If you have any more questions or need further assistance, feel\n",
            "free to ask!\n",
            "\n",
            "Enter a message (to finish use exit): when does school start\n",
            "start chat\n",
            "The school day at Chandler Park Primary School typically starts at 8:45 am. If\n",
            "you need further information or have more questions, feel free to ask!\n",
            "\n",
            "Enter a message (to finish use exit): exit\n"
          ]
        }
      ]
    },
    {
      "cell_type": "markdown",
      "source": [
        "# Experiment Section"
      ],
      "metadata": {
        "id": "vaVIaDxxrS5u"
      }
    },
    {
      "cell_type": "code",
      "source": [
        "for message in hist_store['samarth'].messages:\n",
        "  result = []\n",
        "  temp_pair = []\n",
        "\n",
        "  for message in hist_store['samarth'].messages:\n",
        "      if message.type == 'human':\n",
        "          if temp_pair:  # Check if there is already a user message in the temp_pair\n",
        "              result.append(temp_pair)  # Add the incomplete pair (just a user message)\n",
        "              temp_pair = []  # Reset the temp_pair\n",
        "          temp_pair.append(message.content)  # Add user message to temp_pair\n",
        "      elif message.type == 'ai':\n",
        "          if len(temp_pair) == 1:  # Ensure there is a user message before adding AI message\n",
        "              temp_pair.append(message.content)  # Add AI message to complete the pair\n",
        "              result.append(temp_pair)  # Add the complete pair to result\n",
        "              temp_pair = []  # Reset the temp_pair\n",
        "\n",
        "  # Handle case where the last message is a user message without a paired AI message\n",
        "  if temp_pair:\n",
        "      result.append(temp_pair)\n",
        "\n",
        "print(result)"
      ],
      "metadata": {
        "colab": {
          "base_uri": "https://localhost:8080/"
        },
        "id": "rrumlIJK22sE",
        "outputId": "b4aff835-1909-4a94-9d11-b555240f70fc"
      },
      "execution_count": 64,
      "outputs": [
        {
          "output_type": "stream",
          "name": "stdout",
          "text": [
            "[['Hi Bot, I need help with Chandler Park Primary School', 'Chandler Park Primary School is accredited under the Department of Education’s CRICOS registration. For more information, you can visit www.study.vic.gov.au. If you need further assistance, feel free to ask!'], ['what is uniform', 'The Chandler Park Primary School uniform is available for purchase from the PSW Retail Outlet at the following address:\\n\\nUnit 1, 9-11 South Link\\nDandenong South VIC 3175\\n\\nYou can also find the uniform price list and policy at the PSW Uniform Shop. Additionally, reversible house-colored hats are available for purchase from the school office in sizes small, medium, large, and extra-large.\\n\\nIf you have any further questions or need more information, feel free to ask!'], ['what is numeracy curriculum for year 3', 'The numeracy curriculum for Year 3 at Chandler Park Primary School is organized around the three content strands and four proficiency strands of the Victorian Curriculum. The content strands are:\\n\\n1. Number and Algebra\\n2. Measurement and Geometry\\n3. Statistics and Probability\\n\\nThe proficiency strands are Understanding, Fluency, and Problem Solving, which describe how the content is explored or developed, including the thinking and doing of Mathematics.\\n\\nThe staff at Chandler Park Primary School focus on Numeracy, which involves a deeper understanding of mathematical concepts, as opposed to Mathematics, which is solely facts and equation-based. Many sessions focus on problem-solving and integrating mathematical concepts with real-world applications. Numeracy sessions typically incorporate a variety of strategies and resources, including concrete materials, games for learning, and learning tasks.\\n\\nIf you have any more questions or need further information, feel free to ask!'], ['who is principal', \"It seems that I couldn't find the information about the current principal of Chandler Park Primary School. I recommend reaching out to the school directly for the most up-to-date information. If you need further assistance with anything else, feel free to ask!\"], ['principal', \"It seems that I couldn't retrieve the information about the current principal of Chandler Park Primary School. I recommend reaching out to the school directly for the most up-to-date information. If you need further assistance with anything else, feel free to ask!\"], ['who provides food ', \"It seems that I couldn't retrieve specific information about the food provider for Chandler Park Primary School. I recommend reaching out to the school directly for details about their food provider. If you need further assistance with anything else, feel free to ask!\"], ['what is bocca', 'It seems that \"bocca\" could refer to a variety of things. If you have a specific context in mind, please provide more details so that I can assist you more effectively. If you need help with anything else, feel free to ask!'], ['bocca foods', 'It looks like I couldn\\'t find specific information about \"Bocca Foods\" related to Chandler Park Primary School. If you have a different topic or question in mind, please feel free to ask, and I\\'ll be happy to assist you further!'], ['what is enrollment process', \"The enrollment process for Chandler Park Primary School involves the following steps:\\n\\n1. Eligibility: Children eligible for enrollment in Prep for 2025 need to turn 5 years old by the 30th of April 2025.\\n\\n2. School Tours: Bookings for school tours are available on Wednesdays. Contact the school office at ph: 9798 2228 to schedule a school tour.\\n\\n3. School Zone: Information about the school zone can be found on the school's website.\\n\\n4. Enrolment Procedure:\\n   - Read the Enrolment Information document.\\n   - Download and complete the 2024/25 enrolment form.\\n   - Email or deliver all required documentation as listed on the Information Page together with your enrolment form to the school office.\\n\\n5. Further Information: For additional details, call 03 9798 2228 (for international callers: +613 9798 2228) or email a completed Enrolment Enquiry Form to chandler.park.ps@education.vic.gov.au.\\n\\n6. Enrolment Forms: Various forms are available for download, including the Student Enrolment Form, Student Application Form for Out of Zone enrolments, and Enrolment Information documents.\\n\\nIf you have any more questions or need further assistance, feel free to ask!\"], ['what is school address', 'The address for Chandler Park Primary School is as follows:\\nCochrane Avenue\\nKeysborough\\n3173\\nVictoria\\nAustralia\\n\\nYou can contact the school at:\\nPhone: (03) 9798 2228\\nFax: (03) 9798 8933\\nEmail: chandler.park.ps@education.vic.gov.au\\n\\nIf you need further assistance or have more questions, feel free to ask!'], ['who is hillman', 'Jo Hillman is the Principal of Chandler Park Primary School. If you have any more questions or need further information, feel free to ask!'], ['who is principal of chandler park primary school', \"I couldn't find specific information about the current principal of Chandler Park Primary School. It seems that the search results provided general information about the school's vision and values. I recommend reaching out to the school directly for the most up-to-date information about the principal. If you need further assistance with anything else, feel free to ask!\"], ['Principal of Chandler Park Primary School', \"It seems that I'm unable to retrieve the specific information about the current principal of Chandler Park Primary School at the moment. I recommend reaching out to the school directly for the most up-to-date information. If you need further assistance with anything else, feel free to ask!\"], ['who is anthony', \"It seems that I couldn't find specific information about an individual named Anthony at Chandler Park Primary School. If you have a different question or need assistance with anything else, feel free to ask!\"], ['who is anthony at cpps', 'It seems that the search did not return specific information about an individual named Anthony at Chandler Park Primary School. If you have a different question or need assistance with anything else, feel free to ask!'], ['what is inclusion policy at chandler park primary school', \"The inclusion and diversity policy at Chandler Park Primary School is designed to ensure that all students, regardless of background, ability, or individual needs, are provided with equal opportunities to access education and participate in school activities. This policy promotes an inclusive and supportive environment that celebrates diversity and fosters a sense of belonging for all students.\\n\\nIf you need further details about the specific content of the inclusion and diversity policy, I recommend reaching out to the school directly or accessing the policy document from the school's official website.\\n\\nIf you have any more questions or need further assistance, feel free to ask!\"], ['what is school timings', 'The school operates from 6:30 am in the morning until 8:45 am and from 3:15 pm each day until 6:00 pm. During school holidays, the service will operate from 7:00 am until 6:00 pm. Families wishing to use this service can visit the TheirCare website at http://theircare.com.au/ or contact TheirCare directly at 1300 072 410.\\n\\nIf you have any more questions or need further assistance, feel free to ask!'], ['when does school start', 'The school day at Chandler Park Primary School typically starts at 8:45 am. If you need further information or have more questions, feel free to ask!']]\n"
          ]
        }
      ]
    },
    {
      "cell_type": "code",
      "source": [
        "from langchain.chat_models import ChatOpenAI\n",
        "from langchain.schema import AIMessage, HumanMessage\n",
        "import openai\n",
        "import gradio as gr\n",
        "\n",
        "os.environ[\"OPENAI_API_KEY\"] = \"sk-...\"  # Replace with your key\n",
        "\n",
        "llm = ChatOpenAI(temperature=1.0, model='gpt-3.5-turbo-0613')\n",
        "\n",
        "def predict(message, history):\n",
        "    history_langchain_format = []\n",
        "    for human, ai in history:\n",
        "        history_langchain_format.append(HumanMessage(content=human))\n",
        "        history_langchain_format.append(AIMessage(content=ai))\n",
        "    history_langchain_format.append(HumanMessage(content=message))\n",
        "    gpt_response = llm(history_langchain_format)\n",
        "    return gpt_response.content\n",
        "\n",
        "gr.ChatInterface(predict).launch()"
      ],
      "metadata": {
        "id": "MROH3jrF53Nx"
      },
      "execution_count": null,
      "outputs": []
    },
    {
      "cell_type": "code",
      "source": [
        "hist_store['samarth'].messages"
      ],
      "metadata": {
        "id": "Kp1oWsabrSkC",
        "colab": {
          "base_uri": "https://localhost:8080/"
        },
        "outputId": "b5827934-98e1-4353-80d8-d606eee71cd0"
      },
      "execution_count": 53,
      "outputs": [
        {
          "output_type": "execute_result",
          "data": {
            "text/plain": [
              "[HumanMessage(content='Hi Bot, I need help with Chandler Park Primary School'),\n",
              " AIMessage(content='Chandler Park Primary School is accredited under the Department of Education’s CRICOS registration. For more information, you can visit www.study.vic.gov.au. If you need further assistance, feel free to ask!'),\n",
              " HumanMessage(content='what is uniform'),\n",
              " AIMessage(content='The Chandler Park Primary School uniform is available for purchase from the PSW Retail Outlet at the following address:\\n\\nUnit 1, 9-11 South Link\\nDandenong South VIC 3175\\n\\nYou can also find the uniform price list and policy at the PSW Uniform Shop. Additionally, reversible house-colored hats are available for purchase from the school office in sizes small, medium, large, and extra-large.\\n\\nIf you have any further questions or need more information, feel free to ask!'),\n",
              " HumanMessage(content='what is numeracy curriculum for year 3'),\n",
              " AIMessage(content='The numeracy curriculum for Year 3 at Chandler Park Primary School is organized around the three content strands and four proficiency strands of the Victorian Curriculum. The content strands are:\\n\\n1. Number and Algebra\\n2. Measurement and Geometry\\n3. Statistics and Probability\\n\\nThe proficiency strands are Understanding, Fluency, and Problem Solving, which describe how the content is explored or developed, including the thinking and doing of Mathematics.\\n\\nThe staff at Chandler Park Primary School focus on Numeracy, which involves a deeper understanding of mathematical concepts, as opposed to Mathematics, which is solely facts and equation-based. Many sessions focus on problem-solving and integrating mathematical concepts with real-world applications. Numeracy sessions typically incorporate a variety of strategies and resources, including concrete materials, games for learning, and learning tasks.\\n\\nIf you have any more questions or need further information, feel free to ask!'),\n",
              " HumanMessage(content='who is principal'),\n",
              " AIMessage(content=\"It seems that I couldn't find the information about the current principal of Chandler Park Primary School. I recommend reaching out to the school directly for the most up-to-date information. If you need further assistance with anything else, feel free to ask!\"),\n",
              " HumanMessage(content='principal'),\n",
              " AIMessage(content=\"It seems that I couldn't retrieve the information about the current principal of Chandler Park Primary School. I recommend reaching out to the school directly for the most up-to-date information. If you need further assistance with anything else, feel free to ask!\"),\n",
              " HumanMessage(content='who provides food '),\n",
              " AIMessage(content=\"It seems that I couldn't retrieve specific information about the food provider for Chandler Park Primary School. I recommend reaching out to the school directly for details about their food provider. If you need further assistance with anything else, feel free to ask!\"),\n",
              " HumanMessage(content='what is bocca'),\n",
              " AIMessage(content='It seems that \"bocca\" could refer to a variety of things. If you have a specific context in mind, please provide more details so that I can assist you more effectively. If you need help with anything else, feel free to ask!'),\n",
              " HumanMessage(content='bocca foods'),\n",
              " AIMessage(content='It looks like I couldn\\'t find specific information about \"Bocca Foods\" related to Chandler Park Primary School. If you have a different topic or question in mind, please feel free to ask, and I\\'ll be happy to assist you further!'),\n",
              " HumanMessage(content='what is enrollment process'),\n",
              " AIMessage(content=\"The enrollment process for Chandler Park Primary School involves the following steps:\\n\\n1. Eligibility: Children eligible for enrollment in Prep for 2025 need to turn 5 years old by the 30th of April 2025.\\n\\n2. School Tours: Bookings for school tours are available on Wednesdays. Contact the school office at ph: 9798 2228 to schedule a school tour.\\n\\n3. School Zone: Information about the school zone can be found on the school's website.\\n\\n4. Enrolment Procedure:\\n   - Read the Enrolment Information document.\\n   - Download and complete the 2024/25 enrolment form.\\n   - Email or deliver all required documentation as listed on the Information Page together with your enrolment form to the school office.\\n\\n5. Further Information: For additional details, call 03 9798 2228 (for international callers: +613 9798 2228) or email a completed Enrolment Enquiry Form to chandler.park.ps@education.vic.gov.au.\\n\\n6. Enrolment Forms: Various forms are available for download, including the Student Enrolment Form, Student Application Form for Out of Zone enrolments, and Enrolment Information documents.\\n\\nIf you have any more questions or need further assistance, feel free to ask!\"),\n",
              " HumanMessage(content='what is school address'),\n",
              " AIMessage(content='The address for Chandler Park Primary School is as follows:\\nCochrane Avenue\\nKeysborough\\n3173\\nVictoria\\nAustralia\\n\\nYou can contact the school at:\\nPhone: (03) 9798 2228\\nFax: (03) 9798 8933\\nEmail: chandler.park.ps@education.vic.gov.au\\n\\nIf you need further assistance or have more questions, feel free to ask!'),\n",
              " HumanMessage(content='who is hillman'),\n",
              " AIMessage(content='Jo Hillman is the Principal of Chandler Park Primary School. If you have any more questions or need further information, feel free to ask!'),\n",
              " HumanMessage(content='who is principal of chandler park primary school'),\n",
              " AIMessage(content=\"I couldn't find specific information about the current principal of Chandler Park Primary School. It seems that the search results provided general information about the school's vision and values. I recommend reaching out to the school directly for the most up-to-date information about the principal. If you need further assistance with anything else, feel free to ask!\"),\n",
              " HumanMessage(content='Principal of Chandler Park Primary School'),\n",
              " AIMessage(content=\"It seems that I'm unable to retrieve the specific information about the current principal of Chandler Park Primary School at the moment. I recommend reaching out to the school directly for the most up-to-date information. If you need further assistance with anything else, feel free to ask!\"),\n",
              " HumanMessage(content='who is anthony'),\n",
              " AIMessage(content=\"It seems that I couldn't find specific information about an individual named Anthony at Chandler Park Primary School. If you have a different question or need assistance with anything else, feel free to ask!\"),\n",
              " HumanMessage(content='who is anthony at cpps'),\n",
              " AIMessage(content='It seems that the search did not return specific information about an individual named Anthony at Chandler Park Primary School. If you have a different question or need assistance with anything else, feel free to ask!'),\n",
              " HumanMessage(content='what is inclusion policy at chandler park primary school'),\n",
              " AIMessage(content=\"The inclusion and diversity policy at Chandler Park Primary School is designed to ensure that all students, regardless of background, ability, or individual needs, are provided with equal opportunities to access education and participate in school activities. This policy promotes an inclusive and supportive environment that celebrates diversity and fosters a sense of belonging for all students.\\n\\nIf you need further details about the specific content of the inclusion and diversity policy, I recommend reaching out to the school directly or accessing the policy document from the school's official website.\\n\\nIf you have any more questions or need further assistance, feel free to ask!\"),\n",
              " HumanMessage(content='what is school timings'),\n",
              " AIMessage(content='The school operates from 6:30 am in the morning until 8:45 am and from 3:15 pm each day until 6:00 pm. During school holidays, the service will operate from 7:00 am until 6:00 pm. Families wishing to use this service can visit the TheirCare website at http://theircare.com.au/ or contact TheirCare directly at 1300 072 410.\\n\\nIf you have any more questions or need further assistance, feel free to ask!'),\n",
              " HumanMessage(content='when does school start'),\n",
              " AIMessage(content='The school day at Chandler Park Primary School typically starts at 8:45 am. If you need further information or have more questions, feel free to ask!')]"
            ]
          },
          "metadata": {},
          "execution_count": 53
        }
      ]
    },
    {
      "cell_type": "code",
      "source": [],
      "metadata": {
        "id": "54TRQNq-1pef"
      },
      "execution_count": null,
      "outputs": []
    }
  ]
}