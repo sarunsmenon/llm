{
  "nbformat": 4,
  "nbformat_minor": 0,
  "metadata": {
    "colab": {
      "provenance": [],
      "mount_file_id": "18ApDVyqTtUGThLQxpegVk9oPCwU1tGGc",
      "authorship_tag": "ABX9TyPauq3LiuicWm50ukgwH2ke",
      "include_colab_link": true
    },
    "kernelspec": {
      "name": "python3",
      "display_name": "Python 3"
    },
    "language_info": {
      "name": "python"
    },
    "widgets": {
      "application/vnd.jupyter.widget-state+json": {
        "938e46ebb0794eaaa33aea115b8a7824": {
          "model_module": "@jupyter-widgets/output",
          "model_name": "OutputModel",
          "model_module_version": "1.0.0",
          "state": {
            "_dom_classes": [],
            "_model_module": "@jupyter-widgets/output",
            "_model_module_version": "1.0.0",
            "_model_name": "OutputModel",
            "_view_count": null,
            "_view_module": "@jupyter-widgets/output",
            "_view_module_version": "1.0.0",
            "_view_name": "OutputView",
            "layout": "IPY_MODEL_08e0729da66140659c2cd4c3d229d5ee",
            "msg_id": "",
            "outputs": [
              {
                "output_type": "display_data",
                "data": {
                  "text/plain": "\u001b[38;2;106;0;255m⠹\u001b[0m ✨ You're running DeepEval's latest \u001b[38;2;106;0;255mAnswer Relevancy Metric\u001b[0m! \u001b[38;2;55;65;81m(using gpt-4o, strict=False, async_mode=True)...\u001b[0m\n",
                  "text/html": "<pre style=\"white-space:pre;overflow-x:auto;line-height:normal;font-family:Menlo,'DejaVu Sans Mono',consolas,'Courier New',monospace\"><span style=\"color: #6a00ff; text-decoration-color: #6a00ff\">⠹</span> ✨ You're running DeepEval's latest <span style=\"color: #6a00ff; text-decoration-color: #6a00ff\">Answer Relevancy Metric</span>! <span style=\"color: #374151; text-decoration-color: #374151\">(using gpt-4o, strict=False, async_mode=True)...</span>\n</pre>\n"
                },
                "metadata": {}
              }
            ]
          }
        },
        "08e0729da66140659c2cd4c3d229d5ee": {
          "model_module": "@jupyter-widgets/base",
          "model_name": "LayoutModel",
          "model_module_version": "1.2.0",
          "state": {
            "_model_module": "@jupyter-widgets/base",
            "_model_module_version": "1.2.0",
            "_model_name": "LayoutModel",
            "_view_count": null,
            "_view_module": "@jupyter-widgets/base",
            "_view_module_version": "1.2.0",
            "_view_name": "LayoutView",
            "align_content": null,
            "align_items": null,
            "align_self": null,
            "border": null,
            "bottom": null,
            "display": null,
            "flex": null,
            "flex_flow": null,
            "grid_area": null,
            "grid_auto_columns": null,
            "grid_auto_flow": null,
            "grid_auto_rows": null,
            "grid_column": null,
            "grid_gap": null,
            "grid_row": null,
            "grid_template_areas": null,
            "grid_template_columns": null,
            "grid_template_rows": null,
            "height": null,
            "justify_content": null,
            "justify_items": null,
            "left": null,
            "margin": null,
            "max_height": null,
            "max_width": null,
            "min_height": null,
            "min_width": null,
            "object_fit": null,
            "object_position": null,
            "order": null,
            "overflow": null,
            "overflow_x": null,
            "overflow_y": null,
            "padding": null,
            "right": null,
            "top": null,
            "visibility": null,
            "width": null
          }
        }
      }
    }
  },
  "cells": [
    {
      "cell_type": "markdown",
      "metadata": {
        "id": "view-in-github",
        "colab_type": "text"
      },
      "source": [
        "<a href=\"https://colab.research.google.com/github/sarunsmenon/llm/blob/main/LLM_Evaluation.ipynb\" target=\"_parent\"><img src=\"https://colab.research.google.com/assets/colab-badge.svg\" alt=\"Open In Colab\"/></a>"
      ]
    },
    {
      "cell_type": "markdown",
      "source": [
        "# Install Libraries"
      ],
      "metadata": {
        "id": "WAMdvbdmrLTp"
      }
    },
    {
      "cell_type": "code",
      "execution_count": 5,
      "metadata": {
        "id": "cBe777deots0",
        "colab": {
          "base_uri": "https://localhost:8080/"
        },
        "outputId": "7c954913-b298-4a1d-a6af-8a41a3493a64"
      },
      "outputs": [
        {
          "output_type": "stream",
          "name": "stdout",
          "text": [
            "\u001b[?25l   \u001b[90m━━━━━━━━━━━━━━━━━━━━━━━━━━━━━━━━━━━━━━━━\u001b[0m \u001b[32m0.0/78.9 kB\u001b[0m \u001b[31m?\u001b[0m eta \u001b[36m-:--:--\u001b[0m\r\u001b[2K   \u001b[90m━━━━━━━━━━━━━━━━━━━━━━━━━━━━━━━━━━━━━━━━\u001b[0m \u001b[32m78.9/78.9 kB\u001b[0m \u001b[31m7.3 MB/s\u001b[0m eta \u001b[36m0:00:00\u001b[0m\n",
            "\u001b[?25h\u001b[?25l   \u001b[90m━━━━━━━━━━━━━━━━━━━━━━━━━━━━━━━━━━━━━━━━\u001b[0m \u001b[32m0.0/13.3 MB\u001b[0m \u001b[31m?\u001b[0m eta \u001b[36m-:--:--\u001b[0m\r\u001b[2K   \u001b[91m━━━━━━━━━━━━━━━\u001b[0m\u001b[91m╸\u001b[0m\u001b[90m━━━━━━━━━━━━━━━━━━━━━━━━\u001b[0m \u001b[32m5.3/13.3 MB\u001b[0m \u001b[31m158.1 MB/s\u001b[0m eta \u001b[36m0:00:01\u001b[0m\r\u001b[2K   \u001b[91m━━━━━━━━━━━━━━━━━━━━━━━━━━━━━━━━━━━━━\u001b[0m\u001b[90m╺\u001b[0m\u001b[90m━━\u001b[0m \u001b[32m12.4/13.3 MB\u001b[0m \u001b[31m190.2 MB/s\u001b[0m eta \u001b[36m0:00:01\u001b[0m\r\u001b[2K   \u001b[91m━━━━━━━━━━━━━━━━━━━━━━━━━━━━━━━━━━━━━━━\u001b[0m\u001b[91m╸\u001b[0m \u001b[32m13.3/13.3 MB\u001b[0m \u001b[31m185.8 MB/s\u001b[0m eta \u001b[36m0:00:01\u001b[0m\r\u001b[2K   \u001b[90m━━━━━━━━━━━━━━━━━━━━━━━━━━━━━━━━━━━━━━━━\u001b[0m \u001b[32m13.3/13.3 MB\u001b[0m \u001b[31m101.9 MB/s\u001b[0m eta \u001b[36m0:00:00\u001b[0m\n",
            "\u001b[?25h"
          ]
        }
      ],
      "source": [
        "! pip install -q deepeval python-dotenv openai langchain-openai langchain langchain_community faiss-cpu  uuid7 langgraph chromadb aiobotocore"
      ]
    },
    {
      "cell_type": "markdown",
      "source": [
        "# Load Libraries"
      ],
      "metadata": {
        "id": "o-BfNth1SaVG"
      }
    },
    {
      "cell_type": "code",
      "source": [
        "from google.colab import userdata\n",
        "import os\n",
        "from langchain_openai import ChatOpenAI, OpenAIEmbeddings\n",
        "import chromadb\n",
        "import random"
      ],
      "metadata": {
        "id": "Cp82KVoEs7OD"
      },
      "execution_count": 6,
      "outputs": []
    },
    {
      "cell_type": "code",
      "source": [
        "from deepeval.synthesizer import Synthesizer\n",
        "from deepeval import evaluate\n",
        "from deepeval.metrics import AnswerRelevancyMetric, FaithfulnessMetric\n",
        "from deepeval.dataset import EvaluationDataset\n",
        "from deepeval.test_case import LLMTestCase"
      ],
      "metadata": {
        "id": "p4b5C7tiZXcd"
      },
      "execution_count": 24,
      "outputs": []
    },
    {
      "cell_type": "code",
      "source": [
        "import requests\n",
        "import chromadb\n",
        "from bs4 import BeautifulSoup\n",
        "import openai\n",
        "import hashlib\n",
        "import time\n",
        "import re"
      ],
      "metadata": {
        "id": "d9oWkKM3o6ek"
      },
      "execution_count": 8,
      "outputs": []
    },
    {
      "cell_type": "markdown",
      "source": [
        "# Load Variables"
      ],
      "metadata": {
        "id": "JaJ7bNYus8cP"
      }
    },
    {
      "cell_type": "code",
      "source": [
        "os.environ['OPENAI_API_KEY'] = userdata.get('open_ai_key')"
      ],
      "metadata": {
        "id": "weW7CaxNtCRF"
      },
      "execution_count": 9,
      "outputs": []
    },
    {
      "cell_type": "code",
      "source": [
        "llm_model = 'gpt-3.5-turbo-1106'\n",
        "llm = ChatOpenAI(model=llm_model, temperature=0)"
      ],
      "metadata": {
        "id": "pAbv8HrjuILY"
      },
      "execution_count": 10,
      "outputs": []
    },
    {
      "cell_type": "code",
      "source": [
        "# Start crawling from the initial URL\n",
        "ignore_lst = []\n",
        "max_pg_lmt = 5000\n",
        "fldr = '/content/drive/MyDrive/GenAI - Hack/mhdb'"
      ],
      "metadata": {
        "id": "tUurxzW7uFwz"
      },
      "execution_count": 11,
      "outputs": []
    },
    {
      "cell_type": "markdown",
      "source": [
        "# Create Chroma Db"
      ],
      "metadata": {
        "id": "BrUhdexInhOl"
      }
    },
    {
      "cell_type": "code",
      "source": [
        "\n",
        "\n",
        "def download_and_store_urls_with_openai(urls, openai_api_key, collection_name=\"web_content\"):\n",
        "    \"\"\"\n",
        "    Download content from URLs and store in ChromaDB using OpenAI embeddings\n",
        "\n",
        "    Args:\n",
        "        urls: List of URLs to download\n",
        "        openai_api_key: Your OpenAI API key\n",
        "        collection_name: Name of the ChromaDB collection\n",
        "    \"\"\"\n",
        "    # Set OpenAI API key\n",
        "    openai.api_key = openai_api_key\n",
        "\n",
        "    # Initialize ChromaDB\n",
        "    client = chromadb.Client()\n",
        "\n",
        "    # Create or get collection - note we're not providing embeddings\n",
        "    # ChromaDB will use the documents to create embeddings\n",
        "    collection = client.get_or_create_collection(\n",
        "        name=collection_name,\n",
        "        metadata={\"description\": \"Web content with OpenAI embeddings\"}\n",
        "    )\n",
        "\n",
        "    # Process each URL\n",
        "    for url in urls:\n",
        "        try:\n",
        "            print(f\"Processing {url}\")\n",
        "\n",
        "            # Download content with timeout and headers\n",
        "            headers = {\n",
        "                'User-Agent': 'Mozilla/5.0 (Windows NT 10.0; Win64; x64) AppleWebKit/537.36'\n",
        "            }\n",
        "            response = requests.get(url, headers=headers, timeout=10)\n",
        "            response.raise_for_status()\n",
        "\n",
        "            # Parse HTML\n",
        "            soup = BeautifulSoup(response.text, 'html.parser')\n",
        "\n",
        "            # Extract text content\n",
        "            for script in soup([\"script\", \"style\", \"header\", \"footer\", \"nav\"]):\n",
        "                script.extract()\n",
        "\n",
        "            # Get text and clean it\n",
        "            text = soup.get_text()\n",
        "            text = re.sub(r'\\s+', ' ', text).strip()\n",
        "\n",
        "            # Break into chunks\n",
        "            chunks = split_into_chunks(text, chunk_size=1000)\n",
        "\n",
        "            # Process each chunk\n",
        "            for i, chunk in enumerate(chunks):\n",
        "                if not chunk.strip():\n",
        "                    continue\n",
        "\n",
        "                # Create a unique ID\n",
        "                doc_id = hashlib.md5(f\"{url}_{i}\".encode()).hexdigest()\n",
        "\n",
        "                # Generate OpenAI embedding\n",
        "                embedding_response = openai.embeddings.create(\n",
        "                    model=\"text-embedding-ada-002\",\n",
        "                    input=chunk\n",
        "                )\n",
        "                embedding = embedding_response.data[0].embedding\n",
        "\n",
        "                # Store in ChromaDB\n",
        "                collection.add(\n",
        "                    ids=[doc_id],\n",
        "                    documents=[chunk],\n",
        "                    embeddings=[embedding],\n",
        "                    metadatas=[{\n",
        "                        \"url\": url,\n",
        "                        \"chunk_number\": i,\n",
        "                        \"total_chunks\": len(chunks),\n",
        "                        \"timestamp\": time.time()\n",
        "                    }]\n",
        "                )\n",
        "\n",
        "            print(f\"Successfully stored {len(chunks)} chunks from {url}\")\n",
        "\n",
        "        except Exception as e:\n",
        "            print(f\"Error processing {url}: {str(e)}\")\n",
        "            continue\n",
        "\n",
        "        # Be nice to servers\n",
        "        time.sleep(1)\n",
        "\n",
        "    print(f\"Completed processing {len(urls)} URLs\")\n",
        "    return collection\n",
        "\n",
        "def split_into_chunks(text, chunk_size=1000, overlap=100):\n",
        "    \"\"\"Split text into overlapping chunks of approximately chunk_size characters\"\"\"\n",
        "    chunks = []\n",
        "    if len(text) <= chunk_size:\n",
        "        chunks.append(text)\n",
        "    else:\n",
        "        start = 0\n",
        "        while start < len(text):\n",
        "            end = start + chunk_size\n",
        "            if end >= len(text):\n",
        "                chunks.append(text[start:])\n",
        "            else:\n",
        "                # Try to find a good breaking point\n",
        "                break_point = text.rfind(\". \", start, end)\n",
        "                if break_point != -1:\n",
        "                    chunks.append(text[start:break_point+1])\n",
        "                    start = break_point + 1 - overlap\n",
        "                else:\n",
        "                    chunks.append(text[start:end])\n",
        "                    start = end - overlap\n",
        "            start = max(start, 0)\n",
        "    return chunks\n",
        "\n",
        "# Example usage\n",
        "urls = [\n",
        "    \"https://example.com\",\n",
        "    \"https://en.wikipedia.org/wiki/Vector_database\"\n",
        "]\n",
        "\n",
        "collection = download_and_store_urls_with_openai(\n",
        "    urls,\n",
        "    openai_api_key=\"your-openai-api-key\"\n",
        ")"
      ],
      "metadata": {
        "id": "WPTH2DTTo19e"
      },
      "execution_count": null,
      "outputs": []
    },
    {
      "cell_type": "markdown",
      "source": [
        "# Load Contexts"
      ],
      "metadata": {
        "id": "QzEK--7KSK0T"
      }
    },
    {
      "cell_type": "markdown",
      "source": [
        "## Load Chroma Collection"
      ],
      "metadata": {
        "id": "r32QSuTKSqWj"
      }
    },
    {
      "cell_type": "code",
      "source": [
        "chroma_client = chromadb.PersistentClient(path=fldr)\n",
        "collection = chroma_client.get_or_create_collection(name=\"semantic\")"
      ],
      "metadata": {
        "id": "6A7Ih6fDSNEp"
      },
      "execution_count": 12,
      "outputs": []
    },
    {
      "cell_type": "markdown",
      "source": [
        "## Load Contexts"
      ],
      "metadata": {
        "id": "doV-sswjStxh"
      }
    },
    {
      "cell_type": "code",
      "source": [
        "all_contexts = collection.get(include=[\"documents\"])[\"documents\"]"
      ],
      "metadata": {
        "id": "KuS-zaaXSpfy"
      },
      "execution_count": 13,
      "outputs": []
    },
    {
      "cell_type": "code",
      "source": [
        "sample_context = random.sample(all_contexts, 10)"
      ],
      "metadata": {
        "id": "_YexQXMHX1Mw"
      },
      "execution_count": 14,
      "outputs": []
    },
    {
      "cell_type": "code",
      "source": [
        "len(sample_context)"
      ],
      "metadata": {
        "colab": {
          "base_uri": "https://localhost:8080/"
        },
        "id": "pRAHtFTES3au",
        "outputId": "dfbc1180-59ce-467a-a663-2d83e5815ae4"
      },
      "execution_count": 15,
      "outputs": [
        {
          "output_type": "execute_result",
          "data": {
            "text/plain": [
              "10"
            ]
          },
          "metadata": {},
          "execution_count": 15
        }
      ]
    },
    {
      "cell_type": "code",
      "source": [
        "sample_context_lst = []\n",
        "for context in sample_context:\n",
        "  sample_context_lst.append([context])"
      ],
      "metadata": {
        "id": "NiFcNvsEHI7r"
      },
      "execution_count": 16,
      "outputs": []
    },
    {
      "cell_type": "markdown",
      "source": [
        "# Synthesizer"
      ],
      "metadata": {
        "id": "SEJFVwI2taIH"
      }
    },
    {
      "cell_type": "code",
      "source": [
        "synthesizer = Synthesizer(model=llm_model)\n",
        "test_cases = synthesizer.generate_goldens_from_contexts(\n",
        "    # Provide a list of context for synthetic data generation\n",
        "    contexts=sample_context_lst,\n",
        "    max_goldens_per_context = 2\n",
        ")"
      ],
      "metadata": {
        "colab": {
          "base_uri": "https://localhost:8080/"
        },
        "id": "Z3zx0lqrYV6A",
        "outputId": "df771b0a-a04a-4469-9be0-3913c18a2f7f"
      },
      "execution_count": 27,
      "outputs": [
        {
          "output_type": "stream",
          "name": "stderr",
          "text": [
            "✨ Generating up to 20 goldens using DeepEval (using gpt-3.5-turbo-1106, method=default): 100%|██████████| 20/20 [00:13<00:00,  1.49it/s]\n"
          ]
        }
      ]
    },
    {
      "cell_type": "code",
      "source": [
        "dataframe = synthesizer.to_pandas()\n",
        "print(dataframe)"
      ],
      "metadata": {
        "colab": {
          "base_uri": "https://localhost:8080/"
        },
        "id": "Je4kMCqoCmHG",
        "outputId": "814cd8ff-19c4-47ab-a267-8c99c38b402a"
      },
      "execution_count": 28,
      "outputs": [
        {
          "output_type": "stream",
          "name": "stdout",
          "text": [
            "                                                input actual_output  \\\n",
            "0   What is the method for reaching out to your tr...          None   \n",
            "1   What support is available for managing increas...          None   \n",
            "2   Provide a summary of the findings that highlig...          None   \n",
            "3   How can updates for the Services Directory be ...          None   \n",
            "4   Imagine a situation where you urgently needed ...          None   \n",
            "5   What self-administered tool can be used to mon...          None   \n",
            "6   Examine the content of the Trauma Informed Lea...          None   \n",
            "7   How many mental health plans does the State ha...          None   \n",
            "8   Which publication contains a study exploring e...          None   \n",
            "9   How does stigma and abuse contribute to higher...          None   \n",
            "10  What are the obstacles causing the fragmentati...          None   \n",
            "11  Does the Department of Health oversee the mana...          None   \n",
            "12  What is the objective of the Department of Hea...          None   \n",
            "13  What factors contribute to the increased menta...          None   \n",
            "14  What specific strategies can be implemented to...          None   \n",
            "15  \\nExamine the potential impacts of emerging ac...          None   \n",
            "16  Describe the wide-ranging activities and accom...          None   \n",
            "17  Share your experiences and thoughts on potenti...          None   \n",
            "18  What lack of support for students did Dr. Corr...          None   \n",
            "19  Imagine a year where VICSERV facilitated consu...          None   \n",
            "\n",
            "                                      expected_output  \\\n",
            "0   You can contact Barwon Health’s triage service...   \n",
            "1   Support available for managing increased alcoh...   \n",
            "2   The findings suggest that eating disorders imp...   \n",
            "3   You can submit updates to the Services Directo...   \n",
            "4   You can find Barwon Health's triage service co...   \n",
            "5   You can use the AUDIT tool to monitor and asse...   \n",
            "6   The Trauma Informed Leadership course offered ...   \n",
            "7   The State has seven different mental health pl...   \n",
            "8   The publication \"Eating disorders in diverse l...   \n",
            "9   Stigma, discrimination, and abuse contribute t...   \n",
            "10  The fragmentation of the current mental health...   \n",
            "11  Yes, the Department of Health and Human Servic...   \n",
            "12  The objective of the Department of Health's fu...   \n",
            "13  The increased rates of mental illness and dist...   \n",
            "14  One specific strategy could be to actively see...   \n",
            "15  The potential impacts of emerging accommodatio...   \n",
            "16  VICSERV was actively involved in policy advice...   \n",
            "17  I believe that more efficient procedures could...   \n",
            "18  Dr. Correa-Velez noted a lack of supports for ...   \n",
            "19  VICSERV had a productive year facilitating con...   \n",
            "\n",
            "                                              context retrieval_context  \\\n",
            "0   [The earlier you can let them know, the better...              None   \n",
            "1   [The change for you as part of the RACF workfo...              None   \n",
            "2   [and R. King, Collaborative care skills traini...              None   \n",
            "3   [Click \\r\\n                    here to send us...              None   \n",
            "4   [The earlier you can let them know, the better...              None   \n",
            "5   [The change for you as part of the RACF workfo...              None   \n",
            "6   [BEGIN:VCALENDAR\\n\\nVERSION:2.0\\n\\nPRODID:Even...              None   \n",
            "7   [We have too many\\n\\nchiefs, which has resulte...              None   \n",
            "8   [and R. King, Collaborative care skills traini...              None   \n",
            "9   [beginning of content\\n\\nLGBTIQA+ Mental Healt...              None   \n",
            "10  [We have too many\\n\\nchiefs, which has resulte...              None   \n",
            "11  [Click \\r\\n                    here to send us...              None   \n",
            "12  [BEGIN:VCALENDAR\\n\\nVERSION:2.0\\n\\nPRODID:Even...              None   \n",
            "13  [beginning of content\\n\\nLGBTIQA+ Mental Healt...              None   \n",
            "14  [What is currently being done that works or co...              None   \n",
            "15  [The Council agreed there should be more consi...              None   \n",
            "16  [We will continue to monitor the situation and...              None   \n",
            "17  [What is currently being done that works or co...              None   \n",
            "18  [The Council agreed there should be more consi...              None   \n",
            "19  [We will continue to monitor the situation and...              None   \n",
            "\n",
            "    n_chunks_per_context  context_length       evolutions context_quality  \\\n",
            "0                      1             350  [Multi-context]            None   \n",
            "1                      1            1977     [In-Breadth]            None   \n",
            "2                      1             531      [Reasoning]            None   \n",
            "3                      1            1029    [Constrained]            None   \n",
            "4                      1             350   [Hypothetical]            None   \n",
            "5                      1            1977      [Reasoning]            None   \n",
            "6                      1            1042     [In-Breadth]            None   \n",
            "7                      1             374    [Constrained]            None   \n",
            "8                      1             531   [Hypothetical]            None   \n",
            "9                      1             594      [Reasoning]            None   \n",
            "10                     1             374     [In-Breadth]            None   \n",
            "11                     1            1029   [Concretizing]            None   \n",
            "12                     1            1042     [In-Breadth]            None   \n",
            "13                     1             594    [Comparative]            None   \n",
            "14                     1             178    [Constrained]            None   \n",
            "15                     1            1758      [Reasoning]            None   \n",
            "16                     1           10570      [Reasoning]            None   \n",
            "17                     1             178     [In-Breadth]            None   \n",
            "18                     1            1758    [Constrained]            None   \n",
            "19                     1           10570   [Hypothetical]            None   \n",
            "\n",
            "    synthetic_input_quality source_file  \n",
            "0                       1.0        None  \n",
            "1                       1.0        None  \n",
            "2                       1.0        None  \n",
            "3                       1.0        None  \n",
            "4                       1.0        None  \n",
            "5                       1.0        None  \n",
            "6                       1.0        None  \n",
            "7                       1.0        None  \n",
            "8                       1.0        None  \n",
            "9                       1.0        None  \n",
            "10                      1.0        None  \n",
            "11                      0.8        None  \n",
            "12                      1.0        None  \n",
            "13                      1.0        None  \n",
            "14                      0.6        None  \n",
            "15                      1.0        None  \n",
            "16                      1.0        None  \n",
            "17                      1.0        None  \n",
            "18                      1.0        None  \n",
            "19                      1.0        None  \n"
          ]
        }
      ]
    },
    {
      "cell_type": "markdown",
      "source": [
        "# Evaluation"
      ],
      "metadata": {
        "id": "UFV2-pcWMG_H"
      }
    },
    {
      "cell_type": "code",
      "source": [
        "synthesizer.synthetic_goldens[0].input"
      ],
      "metadata": {
        "colab": {
          "base_uri": "https://localhost:8080/",
          "height": 36
        },
        "id": "Ap_xgJYHNHF4",
        "outputId": "38016cfe-8145-4063-ed6c-3f85ca0402a2"
      },
      "execution_count": 19,
      "outputs": [
        {
          "output_type": "execute_result",
          "data": {
            "text/plain": [
              "'Where can I submit updates for the Services Directory Aged Services, including metropolitan and rural maps, and contact details for general enquiries?'"
            ],
            "application/vnd.google.colaboratory.intrinsic+json": {
              "type": "string"
            }
          },
          "metadata": {},
          "execution_count": 19
        }
      ]
    },
    {
      "cell_type": "code",
      "source": [
        "synthesizer.synthetic_goldens[0]"
      ],
      "metadata": {
        "id": "iElCb1Q_QySE",
        "outputId": "d1d2894c-42ca-44f0-9b12-cd9d1d4a4e7e",
        "colab": {
          "base_uri": "https://localhost:8080/"
        }
      },
      "execution_count": 20,
      "outputs": [
        {
          "output_type": "execute_result",
          "data": {
            "text/plain": [
              "Golden(input='Where can I submit updates for the Services Directory Aged Services, including metropolitan and rural maps, and contact details for general enquiries?', actual_output=None, expected_output='You can submit updates for the Services Directory Aged Services, including metropolitan and rural maps, by clicking on the provided link. For general enquiries, you can contact the Department of Health at 61 3 90960000.', context=['Click \\r\\n                    here to send us your update to the Services Directory Aged Services - Metropolitan Maps Central & Outer\\r\\n              East Dandenong Inner & North\\r\\n              West Inner\\r\\n              South East Inner\\r\\n              Urban East & Northcote Mid & South\\r\\n              West Middle South Northern & North\\r\\n              East Peninsula Aged Services -\\r\\n                Rural Maps Barwon Gippsland Glenelg (South Western) Goulburn & Southern Grampians Loddon Campaspe / Southern Mallee North East Hume Northern\\r\\n          Mallee Statewide\\r\\n          and Specialist Services Forensic\\r\\n          Mental Health Services\\n\\nLast updated: \\r\\n        \\r\\n        24 October, 2008 This web site is managed and authorised by the Department of Health and Human Services , State Government of Victoria , Australia Copyright | Disclaimer | Privacy\\r\\n            Statement | State\\r\\n            Government of Victoria Home | Download\\r\\n        Help For general enquiries to the Department of Health telephone 61 3 90960000'], retrieval_context=None, additional_metadata={'evolutions': ['Constrained'], 'synthetic_input_quality': 1.0}, comments=None, tools_called=None, expected_tools=None, source_file=None, name=None, custom_column_key_values=None)"
            ]
          },
          "metadata": {},
          "execution_count": 20
        }
      ]
    },
    {
      "cell_type": "code",
      "source": [
        "type(synthesizer.synthetic_goldens[0])"
      ],
      "metadata": {
        "colab": {
          "base_uri": "https://localhost:8080/",
          "height": 187
        },
        "id": "GQQ8DaBFz5m4",
        "outputId": "dd71c5ae-0a67-4d30-8c4e-6feedb618afb"
      },
      "execution_count": null,
      "outputs": [
        {
          "output_type": "execute_result",
          "data": {
            "text/plain": [
              "deepeval.dataset.golden.Golden"
            ],
            "text/html": [
              "<div style=\"max-width:800px; border: 1px solid var(--colab-border-color);\"><style>\n",
              "      pre.function-repr-contents {\n",
              "        overflow-x: auto;\n",
              "        padding: 8px 12px;\n",
              "        max-height: 500px;\n",
              "      }\n",
              "\n",
              "      pre.function-repr-contents.function-repr-contents-collapsed {\n",
              "        cursor: pointer;\n",
              "        max-height: 100px;\n",
              "      }\n",
              "    </style>\n",
              "    <pre style=\"white-space: initial; background:\n",
              "         var(--colab-secondary-surface-color); padding: 8px 12px;\n",
              "         border-bottom: 1px solid var(--colab-border-color);\"><b>deepeval.dataset.golden.Golden</b><br/>def __init__(self, /, **data: Any) -&gt; None</pre><pre class=\"function-repr-contents function-repr-contents-collapsed\" style=\"\"><a class=\"filepath\" style=\"display:none\" href=\"#\">/usr/local/lib/python3.11/dist-packages/deepeval/dataset/golden.py</a>!!! abstract &quot;Usage Documentation&quot;\n",
              "    [Models](../concepts/models.md)\n",
              "\n",
              "A base class for creating Pydantic models.\n",
              "\n",
              "Attributes:\n",
              "    __class_vars__: The names of the class variables defined on the model.\n",
              "    __private_attributes__: Metadata about the private attributes of the model.\n",
              "    __signature__: The synthesized `__init__` [`Signature`][inspect.Signature] of the model.\n",
              "\n",
              "    __pydantic_complete__: Whether model building is completed, or if there are still undefined fields.\n",
              "    __pydantic_core_schema__: The core schema of the model.\n",
              "    __pydantic_custom_init__: Whether the model has a custom `__init__` function.\n",
              "    __pydantic_decorators__: Metadata containing the decorators defined on the model.\n",
              "        This replaces `Model.__validators__` and `Model.__root_validators__` from Pydantic V1.\n",
              "    __pydantic_generic_metadata__: Metadata for generic models; contains data used for a similar purpose to\n",
              "        __args__, __origin__, __parameters__ in typing-module generics. May eventually be replaced by these.\n",
              "    __pydantic_parent_namespace__: Parent namespace of the model, used for automatic rebuilding of models.\n",
              "    __pydantic_post_init__: The name of the post-init method for the model, if defined.\n",
              "    __pydantic_root_model__: Whether the model is a [`RootModel`][pydantic.root_model.RootModel].\n",
              "    __pydantic_serializer__: The `pydantic-core` `SchemaSerializer` used to dump instances of the model.\n",
              "    __pydantic_validator__: The `pydantic-core` `SchemaValidator` used to validate instances of the model.\n",
              "\n",
              "    __pydantic_fields__: A dictionary of field names and their corresponding [`FieldInfo`][pydantic.fields.FieldInfo] objects.\n",
              "    __pydantic_computed_fields__: A dictionary of computed field names and their corresponding [`ComputedFieldInfo`][pydantic.fields.ComputedFieldInfo] objects.\n",
              "\n",
              "    __pydantic_extra__: A dictionary containing extra values, if [`extra`][pydantic.config.ConfigDict.extra]\n",
              "        is set to `&#x27;allow&#x27;`.\n",
              "    __pydantic_fields_set__: The names of fields explicitly set during instantiation.\n",
              "    __pydantic_private__: Values of private attributes set on the model instance.</pre>\n",
              "      <script>\n",
              "      if (google.colab.kernel.accessAllowed && google.colab.files && google.colab.files.view) {\n",
              "        for (const element of document.querySelectorAll('.filepath')) {\n",
              "          element.style.display = 'block'\n",
              "          element.onclick = (event) => {\n",
              "            event.preventDefault();\n",
              "            event.stopPropagation();\n",
              "            google.colab.files.view(element.textContent, 6);\n",
              "          };\n",
              "        }\n",
              "      }\n",
              "      for (const element of document.querySelectorAll('.function-repr-contents')) {\n",
              "        element.onclick = (event) => {\n",
              "          event.preventDefault();\n",
              "          event.stopPropagation();\n",
              "          element.classList.toggle('function-repr-contents-collapsed');\n",
              "        };\n",
              "      }\n",
              "      </script>\n",
              "      </div>"
            ]
          },
          "metadata": {},
          "execution_count": 21
        }
      ]
    },
    {
      "cell_type": "code",
      "source": [
        "\n",
        "# Prepare evaluation metrics\n",
        "metrics_lst = [\n",
        "    AnswerRelevancyMetric(threshold=0.7),\n",
        "    # FaithfulnessMetric(threshold=0.7)\n",
        "]\n",
        "\n",
        "# Create test cases from goldens\n",
        "test_case = []\n",
        "for golden in synthesizer.synthetic_goldens:\n",
        "    res = llm.invoke(golden.input).content\n",
        "    test_case = LLMTestCase(input=golden.input, actual_output=res, expected_output=golden.expected_output)\n",
        "    print(test_case)\n",
        "    test_cases.append(test_case)\n",
        "    evaluate(test_cases=[test_case], metrics=metrics_lst)\n",
        "\n",
        "\n",
        "\n",
        "# Evaluate end-to-end\n",
        "# evaluate(test_cases=test_cases, metrics=[AnswerRelevancyMetric()])\n",
        "\n"
      ],
      "metadata": {
        "colab": {
          "base_uri": "https://localhost:8080/",
          "height": 1000
        },
        "id": "nC2ofmjLPBXi",
        "outputId": "857c1db7-6e6c-4698-98c0-60bdecc3810f"
      },
      "execution_count": 34,
      "outputs": [
        {
          "output_type": "stream",
          "name": "stdout",
          "text": [
            "LLMTestCase(input='What is the method for reaching out to your treating team for help?', actual_output=\"1. Contact your primary care physician or therapist: If you have a primary care physician or therapist, reach out to them first. They can provide guidance and support or refer you to a specialist if needed.\\n\\n2. Use the contact information provided by your treating team: If you have been given contact information for your treating team, such as a phone number or email address, use that to reach out for help.\\n\\n3. Schedule an appointment: If you have a regular appointment scheduled with your treating team, make sure to attend it and discuss your concerns during the appointment.\\n\\n4. Utilize telehealth options: Many healthcare providers offer telehealth services, allowing you to connect with your treating team remotely through video calls or phone consultations.\\n\\n5. Seek emergency help if needed: If you are in crisis or need immediate assistance, do not hesitate to call emergency services or go to the nearest emergency room for help.\\n\\nIt's important to remember that reaching out for help is a sign of strength, and your treating team is there to support you in your journey to wellness.\", expected_output='You can contact Barwon Health’s triage service for Mental Health, Drugs and Alcohol Services on 1300 094 187 and they can pass on a message for you.', context=None, retrieval_context=None, additional_metadata=None, comments=None, tools_called=None, expected_tools=None, token_cost=None, completion_time=None, name=None)\n"
          ]
        },
        {
          "output_type": "display_data",
          "data": {
            "text/plain": [
              "✨ You're running DeepEval's latest \u001b[38;2;106;0;255mAnswer Relevancy Metric\u001b[0m! \u001b[1;38;2;55;65;81m(\u001b[0m\u001b[38;2;55;65;81musing gpt-4o, \u001b[0m\u001b[38;2;55;65;81mstrict\u001b[0m\u001b[38;2;55;65;81m=\u001b[0m\u001b[3;38;2;55;65;81mFalse\u001b[0m\u001b[38;2;55;65;81m, \u001b[0m\u001b[38;2;55;65;81masync_mode\u001b[0m\u001b[38;2;55;65;81m=\u001b[0m\u001b[3;38;2;55;65;81mTrue\u001b[0m\u001b[1;38;2;55;65;81m)\u001b[0m\u001b[38;2;55;65;81m...\u001b[0m\n"
            ],
            "text/html": [
              "<pre style=\"white-space:pre;overflow-x:auto;line-height:normal;font-family:Menlo,'DejaVu Sans Mono',consolas,'Courier New',monospace\">✨ You're running DeepEval's latest <span style=\"color: #6a00ff; text-decoration-color: #6a00ff\">Answer Relevancy Metric</span>! <span style=\"color: #374151; text-decoration-color: #374151; font-weight: bold\">(</span><span style=\"color: #374151; text-decoration-color: #374151\">using gpt-4o, </span><span style=\"color: #374151; text-decoration-color: #374151\">strict</span><span style=\"color: #374151; text-decoration-color: #374151\">=</span><span style=\"color: #374151; text-decoration-color: #374151; font-style: italic\">False</span><span style=\"color: #374151; text-decoration-color: #374151\">, </span><span style=\"color: #374151; text-decoration-color: #374151\">async_mode</span><span style=\"color: #374151; text-decoration-color: #374151\">=</span><span style=\"color: #374151; text-decoration-color: #374151; font-style: italic\">True</span><span style=\"color: #374151; text-decoration-color: #374151; font-weight: bold\">)</span><span style=\"color: #374151; text-decoration-color: #374151\">...</span>\n",
              "</pre>\n"
            ]
          },
          "metadata": {}
        },
        {
          "output_type": "stream",
          "name": "stderr",
          "text": [
            "Evaluating 1 test case(s) in parallel: |██████████|100% (1/1) [Time Taken: 00:09,  9.83s/test case]"
          ]
        },
        {
          "output_type": "stream",
          "name": "stdout",
          "text": [
            "\n",
            "======================================================================\n",
            "\n",
            "Metrics Summary\n",
            "\n",
            "  - ✅ Answer Relevancy (score: 0.8235294117647058, threshold: 0.7, strict: False, evaluation model: gpt-4o, reason: The score is 0.82 because the response effectively addresses the method for reaching out to the treating team, but includes some irrelevant statements about emotional encouragement and the role of the treating team, which do not directly answer the question., error: None)\n",
            "\n",
            "For test case:\n",
            "\n",
            "  - input: What is the method for reaching out to your treating team for help?\n",
            "  - actual output: 1. Contact your primary care physician or therapist: If you have a primary care physician or therapist, reach out to them first. They can provide guidance and support or refer you to a specialist if needed.\n",
            "\n",
            "2. Use the contact information provided by your treating team: If you have been given contact information for your treating team, such as a phone number or email address, use that to reach out for help.\n",
            "\n",
            "3. Schedule an appointment: If you have a regular appointment scheduled with your treating team, make sure to attend it and discuss your concerns during the appointment.\n",
            "\n",
            "4. Utilize telehealth options: Many healthcare providers offer telehealth services, allowing you to connect with your treating team remotely through video calls or phone consultations.\n",
            "\n",
            "5. Seek emergency help if needed: If you are in crisis or need immediate assistance, do not hesitate to call emergency services or go to the nearest emergency room for help.\n",
            "\n",
            "It's important to remember that reaching out for help is a sign of strength, and your treating team is there to support you in your journey to wellness.\n",
            "  - expected output: You can contact Barwon Health’s triage service for Mental Health, Drugs and Alcohol Services on 1300 094 187 and they can pass on a message for you.\n",
            "  - context: None\n",
            "  - retrieval context: None\n",
            "\n",
            "======================================================================\n",
            "\n",
            "Overall Metric Pass Rates\n",
            "\n",
            "Answer Relevancy: 100.00% pass rate\n",
            "\n",
            "======================================================================\n",
            "\n"
          ]
        },
        {
          "output_type": "stream",
          "name": "stderr",
          "text": [
            "\n"
          ]
        },
        {
          "output_type": "display_data",
          "data": {
            "text/plain": [
              "\n",
              "\u001b[38;2;5;245;141m✓\u001b[0m Tests finished 🎉! Run \u001b[1;32m'deepeval login'\u001b[0m to save and analyze evaluation results on Confident AI.\n",
              " \n",
              "✨👀 Looking for a place for your LLM test data to live 🏡❤️ ? Use \u001b[38;2;106;0;255mConfident AI\u001b[0m to get & share testing reports, \n",
              "experiment with models/prompts, and catch regressions for your LLM system. Just run \u001b[36m'deepeval login'\u001b[0m in the CLI. \n",
              "\n"
            ],
            "text/html": [
              "<pre style=\"white-space:pre;overflow-x:auto;line-height:normal;font-family:Menlo,'DejaVu Sans Mono',consolas,'Courier New',monospace\">\n",
              "<span style=\"color: #05f58d; text-decoration-color: #05f58d\">✓</span> Tests finished 🎉! Run <span style=\"color: #008000; text-decoration-color: #008000; font-weight: bold\">'deepeval login'</span> to save and analyze evaluation results on Confident AI.\n",
              " \n",
              "✨👀 Looking for a place for your LLM test data to live 🏡❤️ ? Use <span style=\"color: #6a00ff; text-decoration-color: #6a00ff\">Confident AI</span> to get &amp; share testing reports, \n",
              "experiment with models/prompts, and catch regressions for your LLM system. Just run <span style=\"color: #008080; text-decoration-color: #008080\">'deepeval login'</span> in the CLI. \n",
              "\n",
              "</pre>\n"
            ]
          },
          "metadata": {}
        },
        {
          "output_type": "stream",
          "name": "stdout",
          "text": [
            "LLMTestCase(input='What support is available for managing increased alcohol or substance use during the pandemic?', actual_output=\"1. Online support groups: Many organizations and support groups have moved their meetings and support sessions online, providing a safe space for individuals to connect with others who are experiencing similar challenges.\\n\\n2. Telehealth services: Many healthcare providers are offering telehealth services for individuals struggling with alcohol or substance use, providing access to therapy, counseling, and medication management from the comfort of their own homes.\\n\\n3. Hotlines and helplines: Various hotlines and helplines are available for individuals in need of immediate support or guidance, providing access to trained professionals who can offer assistance and resources.\\n\\n4. Virtual therapy and counseling: Many therapists and counselors are offering virtual sessions to support individuals in managing their alcohol or substance use, providing a safe and confidential space to address their concerns.\\n\\n5. Online resources and self-help tools: There are numerous online resources, self-help tools, and educational materials available to help individuals better understand and manage their alcohol or substance use during the pandemic.\\n\\n6. Support from friends and family: It's important for individuals to reach out to their friends and family for support and understanding during this challenging time, as they can provide a valuable source of encouragement and assistance.\", expected_output=\"Support available for managing increased alcohol or substance use during the pandemic includes talking to your doctor or nurse, completing a self-administered AUDIT Tool, monitoring alcohol intake with an Alcohol Calculator Tool, accessing the Staff Wellbeing Access Program, using telephone support, checking out the Risky Drinking website, and utilizing smartphone apps like 'Day Break' by HelloSundayMorning.\", context=None, retrieval_context=None, additional_metadata=None, comments=None, tools_called=None, expected_tools=None, token_cost=None, completion_time=None, name=None)\n"
          ]
        },
        {
          "output_type": "display_data",
          "data": {
            "text/plain": [
              "✨ You're running DeepEval's latest \u001b[38;2;106;0;255mAnswer Relevancy Metric\u001b[0m! \u001b[1;38;2;55;65;81m(\u001b[0m\u001b[38;2;55;65;81musing gpt-4o, \u001b[0m\u001b[38;2;55;65;81mstrict\u001b[0m\u001b[38;2;55;65;81m=\u001b[0m\u001b[3;38;2;55;65;81mFalse\u001b[0m\u001b[38;2;55;65;81m, \u001b[0m\u001b[38;2;55;65;81masync_mode\u001b[0m\u001b[38;2;55;65;81m=\u001b[0m\u001b[3;38;2;55;65;81mTrue\u001b[0m\u001b[1;38;2;55;65;81m)\u001b[0m\u001b[38;2;55;65;81m...\u001b[0m\n"
            ],
            "text/html": [
              "<pre style=\"white-space:pre;overflow-x:auto;line-height:normal;font-family:Menlo,'DejaVu Sans Mono',consolas,'Courier New',monospace\">✨ You're running DeepEval's latest <span style=\"color: #6a00ff; text-decoration-color: #6a00ff\">Answer Relevancy Metric</span>! <span style=\"color: #374151; text-decoration-color: #374151; font-weight: bold\">(</span><span style=\"color: #374151; text-decoration-color: #374151\">using gpt-4o, </span><span style=\"color: #374151; text-decoration-color: #374151\">strict</span><span style=\"color: #374151; text-decoration-color: #374151\">=</span><span style=\"color: #374151; text-decoration-color: #374151; font-style: italic\">False</span><span style=\"color: #374151; text-decoration-color: #374151\">, </span><span style=\"color: #374151; text-decoration-color: #374151\">async_mode</span><span style=\"color: #374151; text-decoration-color: #374151\">=</span><span style=\"color: #374151; text-decoration-color: #374151; font-style: italic\">True</span><span style=\"color: #374151; text-decoration-color: #374151; font-weight: bold\">)</span><span style=\"color: #374151; text-decoration-color: #374151\">...</span>\n",
              "</pre>\n"
            ]
          },
          "metadata": {}
        },
        {
          "output_type": "stream",
          "name": "stderr",
          "text": [
            "Evaluating 1 test case(s) in parallel: |██████████|100% (1/1) [Time Taken: 00:05,  5.69s/test case]"
          ]
        },
        {
          "output_type": "stream",
          "name": "stdout",
          "text": [
            "\n",
            "======================================================================\n",
            "\n",
            "Metrics Summary\n",
            "\n",
            "  - ✅ Answer Relevancy (score: 1.0, threshold: 0.7, strict: False, evaluation model: gpt-4o, reason: The score is 1.00 because the response perfectly addressed the question about support for managing increased alcohol or substance use during the pandemic, with no irrelevant information included. Great job on staying focused and relevant!, error: None)\n",
            "\n",
            "For test case:\n",
            "\n",
            "  - input: What support is available for managing increased alcohol or substance use during the pandemic?\n",
            "  - actual output: 1. Online support groups: Many organizations and support groups have moved their meetings and support sessions online, providing a safe space for individuals to connect with others who are experiencing similar challenges.\n",
            "\n",
            "2. Telehealth services: Many healthcare providers are offering telehealth services for individuals struggling with alcohol or substance use, providing access to therapy, counseling, and medication management from the comfort of their own homes.\n",
            "\n",
            "3. Hotlines and helplines: Various hotlines and helplines are available for individuals in need of immediate support or guidance, providing access to trained professionals who can offer assistance and resources.\n",
            "\n",
            "4. Virtual therapy and counseling: Many therapists and counselors are offering virtual sessions to support individuals in managing their alcohol or substance use, providing a safe and confidential space to address their concerns.\n",
            "\n",
            "5. Online resources and self-help tools: There are numerous online resources, self-help tools, and educational materials available to help individuals better understand and manage their alcohol or substance use during the pandemic.\n",
            "\n",
            "6. Support from friends and family: It's important for individuals to reach out to their friends and family for support and understanding during this challenging time, as they can provide a valuable source of encouragement and assistance.\n",
            "  - expected output: Support available for managing increased alcohol or substance use during the pandemic includes talking to your doctor or nurse, completing a self-administered AUDIT Tool, monitoring alcohol intake with an Alcohol Calculator Tool, accessing the Staff Wellbeing Access Program, using telephone support, checking out the Risky Drinking website, and utilizing smartphone apps like 'Day Break' by HelloSundayMorning.\n",
            "  - context: None\n",
            "  - retrieval context: None\n",
            "\n",
            "======================================================================\n",
            "\n",
            "Overall Metric Pass Rates\n",
            "\n",
            "Answer Relevancy: 100.00% pass rate\n",
            "\n",
            "======================================================================\n",
            "\n"
          ]
        },
        {
          "output_type": "stream",
          "name": "stderr",
          "text": [
            "\n"
          ]
        },
        {
          "output_type": "display_data",
          "data": {
            "text/plain": [
              "\n",
              "\u001b[38;2;5;245;141m✓\u001b[0m Tests finished 🎉! Run \u001b[1;32m'deepeval login'\u001b[0m to save and analyze evaluation results on Confident AI.\n",
              " \n",
              "✨👀 Looking for a place for your LLM test data to live 🏡❤️ ? Use \u001b[38;2;106;0;255mConfident AI\u001b[0m to get & share testing reports, \n",
              "experiment with models/prompts, and catch regressions for your LLM system. Just run \u001b[36m'deepeval login'\u001b[0m in the CLI. \n",
              "\n"
            ],
            "text/html": [
              "<pre style=\"white-space:pre;overflow-x:auto;line-height:normal;font-family:Menlo,'DejaVu Sans Mono',consolas,'Courier New',monospace\">\n",
              "<span style=\"color: #05f58d; text-decoration-color: #05f58d\">✓</span> Tests finished 🎉! Run <span style=\"color: #008000; text-decoration-color: #008000; font-weight: bold\">'deepeval login'</span> to save and analyze evaluation results on Confident AI.\n",
              " \n",
              "✨👀 Looking for a place for your LLM test data to live 🏡❤️ ? Use <span style=\"color: #6a00ff; text-decoration-color: #6a00ff\">Confident AI</span> to get &amp; share testing reports, \n",
              "experiment with models/prompts, and catch regressions for your LLM system. Just run <span style=\"color: #008080; text-decoration-color: #008080\">'deepeval login'</span> in the CLI. \n",
              "\n",
              "</pre>\n"
            ]
          },
          "metadata": {}
        },
        {
          "output_type": "stream",
          "name": "stdout",
          "text": [
            "LLMTestCase(input='Provide a summary of the findings that highlight how eating disorders impact diverse lesbian, gay, and bisexual populations.', actual_output='Research has shown that eating disorders disproportionately affect lesbian, gay, and bisexual (LGB) populations compared to their heterosexual counterparts. LGB individuals are more likely to experience body dissatisfaction, disordered eating behaviors, and higher rates of eating disorders. This is often attributed to the unique stressors and discrimination faced by LGB individuals, such as minority stress, internalized homophobia, and societal pressure to conform to narrow beauty standards. Additionally, LGB individuals may face barriers to accessing appropriate and affirming treatment for their eating disorders. It is important for healthcare providers to be aware of these disparities and provide culturally competent care for LGB individuals with eating disorders.', expected_output='The findings suggest that eating disorders impact diverse lesbian, gay, and bisexual populations, as indicated in the International Journal of Eating Disorders, 2007. This is an important factor to consider in providing care and support for individuals with eating disorders.', context=None, retrieval_context=None, additional_metadata=None, comments=None, tools_called=None, expected_tools=None, token_cost=None, completion_time=None, name=None)\n"
          ]
        },
        {
          "output_type": "display_data",
          "data": {
            "text/plain": [
              "✨ You're running DeepEval's latest \u001b[38;2;106;0;255mAnswer Relevancy Metric\u001b[0m! \u001b[1;38;2;55;65;81m(\u001b[0m\u001b[38;2;55;65;81musing gpt-4o, \u001b[0m\u001b[38;2;55;65;81mstrict\u001b[0m\u001b[38;2;55;65;81m=\u001b[0m\u001b[3;38;2;55;65;81mFalse\u001b[0m\u001b[38;2;55;65;81m, \u001b[0m\u001b[38;2;55;65;81masync_mode\u001b[0m\u001b[38;2;55;65;81m=\u001b[0m\u001b[3;38;2;55;65;81mTrue\u001b[0m\u001b[1;38;2;55;65;81m)\u001b[0m\u001b[38;2;55;65;81m...\u001b[0m\n"
            ],
            "text/html": [
              "<pre style=\"white-space:pre;overflow-x:auto;line-height:normal;font-family:Menlo,'DejaVu Sans Mono',consolas,'Courier New',monospace\">✨ You're running DeepEval's latest <span style=\"color: #6a00ff; text-decoration-color: #6a00ff\">Answer Relevancy Metric</span>! <span style=\"color: #374151; text-decoration-color: #374151; font-weight: bold\">(</span><span style=\"color: #374151; text-decoration-color: #374151\">using gpt-4o, </span><span style=\"color: #374151; text-decoration-color: #374151\">strict</span><span style=\"color: #374151; text-decoration-color: #374151\">=</span><span style=\"color: #374151; text-decoration-color: #374151; font-style: italic\">False</span><span style=\"color: #374151; text-decoration-color: #374151\">, </span><span style=\"color: #374151; text-decoration-color: #374151\">async_mode</span><span style=\"color: #374151; text-decoration-color: #374151\">=</span><span style=\"color: #374151; text-decoration-color: #374151; font-style: italic\">True</span><span style=\"color: #374151; text-decoration-color: #374151; font-weight: bold\">)</span><span style=\"color: #374151; text-decoration-color: #374151\">...</span>\n",
              "</pre>\n"
            ]
          },
          "metadata": {}
        },
        {
          "output_type": "stream",
          "name": "stderr",
          "text": [
            "Evaluating 1 test case(s) in parallel: |██████████|100% (1/1) [Time Taken: 00:06,  6.97s/test case]"
          ]
        },
        {
          "output_type": "stream",
          "name": "stdout",
          "text": [
            "\n",
            "======================================================================\n",
            "\n",
            "Metrics Summary\n",
            "\n",
            "  - ✅ Answer Relevancy (score: 1.0, threshold: 0.7, strict: False, evaluation model: gpt-4o, reason: The score is 1.00 because the output perfectly addresses the input by providing a comprehensive summary of how eating disorders affect diverse lesbian, gay, and bisexual populations. There are no irrelevant statements, ensuring the response is focused and relevant., error: None)\n",
            "\n",
            "For test case:\n",
            "\n",
            "  - input: Provide a summary of the findings that highlight how eating disorders impact diverse lesbian, gay, and bisexual populations.\n",
            "  - actual output: Research has shown that eating disorders disproportionately affect lesbian, gay, and bisexual (LGB) populations compared to their heterosexual counterparts. LGB individuals are more likely to experience body dissatisfaction, disordered eating behaviors, and higher rates of eating disorders. This is often attributed to the unique stressors and discrimination faced by LGB individuals, such as minority stress, internalized homophobia, and societal pressure to conform to narrow beauty standards. Additionally, LGB individuals may face barriers to accessing appropriate and affirming treatment for their eating disorders. It is important for healthcare providers to be aware of these disparities and provide culturally competent care for LGB individuals with eating disorders.\n",
            "  - expected output: The findings suggest that eating disorders impact diverse lesbian, gay, and bisexual populations, as indicated in the International Journal of Eating Disorders, 2007. This is an important factor to consider in providing care and support for individuals with eating disorders.\n",
            "  - context: None\n",
            "  - retrieval context: None\n",
            "\n",
            "======================================================================\n",
            "\n",
            "Overall Metric Pass Rates\n",
            "\n",
            "Answer Relevancy: 100.00% pass rate\n",
            "\n",
            "======================================================================\n",
            "\n"
          ]
        },
        {
          "output_type": "stream",
          "name": "stderr",
          "text": [
            "\n"
          ]
        },
        {
          "output_type": "display_data",
          "data": {
            "text/plain": [
              "\n",
              "\u001b[38;2;5;245;141m✓\u001b[0m Tests finished 🎉! Run \u001b[1;32m'deepeval login'\u001b[0m to save and analyze evaluation results on Confident AI.\n",
              " \n",
              "✨👀 Looking for a place for your LLM test data to live 🏡❤️ ? Use \u001b[38;2;106;0;255mConfident AI\u001b[0m to get & share testing reports, \n",
              "experiment with models/prompts, and catch regressions for your LLM system. Just run \u001b[36m'deepeval login'\u001b[0m in the CLI. \n",
              "\n"
            ],
            "text/html": [
              "<pre style=\"white-space:pre;overflow-x:auto;line-height:normal;font-family:Menlo,'DejaVu Sans Mono',consolas,'Courier New',monospace\">\n",
              "<span style=\"color: #05f58d; text-decoration-color: #05f58d\">✓</span> Tests finished 🎉! Run <span style=\"color: #008000; text-decoration-color: #008000; font-weight: bold\">'deepeval login'</span> to save and analyze evaluation results on Confident AI.\n",
              " \n",
              "✨👀 Looking for a place for your LLM test data to live 🏡❤️ ? Use <span style=\"color: #6a00ff; text-decoration-color: #6a00ff\">Confident AI</span> to get &amp; share testing reports, \n",
              "experiment with models/prompts, and catch regressions for your LLM system. Just run <span style=\"color: #008080; text-decoration-color: #008080\">'deepeval login'</span> in the CLI. \n",
              "\n",
              "</pre>\n"
            ]
          },
          "metadata": {}
        },
        {
          "output_type": "stream",
          "name": "stdout",
          "text": [
            "LLMTestCase(input='How can updates for the Services Directory be submitted to the Department of Health and Human Services, State Government of Victoria, Australia?', actual_output=\"Updates for the Services Directory can be submitted to the Department of Health and Human Services, State Government of Victoria, Australia through the following methods:\\n\\n1. Online submission: The Department of Health and Human Services may have an online portal or form where updates can be submitted. This could include changes to contact information, services offered, or any other relevant details.\\n\\n2. Email: You can send an email to the Department of Health and Human Services with the updated information. The email address for submitting updates may be available on their official website or through direct contact with the department.\\n\\n3. Phone: You can call the Department of Health and Human Services and speak to a representative about submitting updates for the Services Directory. They may provide guidance on the process and any specific requirements for submitting updates.\\n\\n4. In-person: If feasible, you may be able to visit the Department of Health and Human Services in person to submit updates for the Services Directory. This would allow for direct communication and assistance with the submission process.\\n\\nIt's important to ensure that any updates submitted are accurate and up-to-date, and to follow any specific guidelines or requirements provided by the Department of Health and Human Services for submitting updates to the Services Directory.\", expected_output='You can submit updates to the Services Directory by clicking the \"here\" link on the Department of Health and Human Services website.', context=None, retrieval_context=None, additional_metadata=None, comments=None, tools_called=None, expected_tools=None, token_cost=None, completion_time=None, name=None)\n"
          ]
        },
        {
          "output_type": "display_data",
          "data": {
            "text/plain": [
              "✨ You're running DeepEval's latest \u001b[38;2;106;0;255mAnswer Relevancy Metric\u001b[0m! \u001b[1;38;2;55;65;81m(\u001b[0m\u001b[38;2;55;65;81musing gpt-4o, \u001b[0m\u001b[38;2;55;65;81mstrict\u001b[0m\u001b[38;2;55;65;81m=\u001b[0m\u001b[3;38;2;55;65;81mFalse\u001b[0m\u001b[38;2;55;65;81m, \u001b[0m\u001b[38;2;55;65;81masync_mode\u001b[0m\u001b[38;2;55;65;81m=\u001b[0m\u001b[3;38;2;55;65;81mTrue\u001b[0m\u001b[1;38;2;55;65;81m)\u001b[0m\u001b[38;2;55;65;81m...\u001b[0m\n"
            ],
            "text/html": [
              "<pre style=\"white-space:pre;overflow-x:auto;line-height:normal;font-family:Menlo,'DejaVu Sans Mono',consolas,'Courier New',monospace\">✨ You're running DeepEval's latest <span style=\"color: #6a00ff; text-decoration-color: #6a00ff\">Answer Relevancy Metric</span>! <span style=\"color: #374151; text-decoration-color: #374151; font-weight: bold\">(</span><span style=\"color: #374151; text-decoration-color: #374151\">using gpt-4o, </span><span style=\"color: #374151; text-decoration-color: #374151\">strict</span><span style=\"color: #374151; text-decoration-color: #374151\">=</span><span style=\"color: #374151; text-decoration-color: #374151; font-style: italic\">False</span><span style=\"color: #374151; text-decoration-color: #374151\">, </span><span style=\"color: #374151; text-decoration-color: #374151\">async_mode</span><span style=\"color: #374151; text-decoration-color: #374151\">=</span><span style=\"color: #374151; text-decoration-color: #374151; font-style: italic\">True</span><span style=\"color: #374151; text-decoration-color: #374151; font-weight: bold\">)</span><span style=\"color: #374151; text-decoration-color: #374151\">...</span>\n",
              "</pre>\n"
            ]
          },
          "metadata": {}
        },
        {
          "output_type": "stream",
          "name": "stderr",
          "text": [
            "Evaluating 1 test case(s) in parallel: |██████████|100% (1/1) [Time Taken: 00:08,  8.20s/test case]"
          ]
        },
        {
          "output_type": "stream",
          "name": "stdout",
          "text": [
            "\n",
            "======================================================================\n",
            "\n",
            "Metrics Summary\n",
            "\n",
            "  - ✅ Answer Relevancy (score: 1.0, threshold: 0.7, strict: False, evaluation model: gpt-4o, reason: The score is 1.00 because the response perfectly addresses the query without any irrelevant information, providing a clear and direct answer to the question about submitting updates to the Services Directory., error: None)\n",
            "\n",
            "For test case:\n",
            "\n",
            "  - input: How can updates for the Services Directory be submitted to the Department of Health and Human Services, State Government of Victoria, Australia?\n",
            "  - actual output: Updates for the Services Directory can be submitted to the Department of Health and Human Services, State Government of Victoria, Australia through the following methods:\n",
            "\n",
            "1. Online submission: The Department of Health and Human Services may have an online portal or form where updates can be submitted. This could include changes to contact information, services offered, or any other relevant details.\n",
            "\n",
            "2. Email: You can send an email to the Department of Health and Human Services with the updated information. The email address for submitting updates may be available on their official website or through direct contact with the department.\n",
            "\n",
            "3. Phone: You can call the Department of Health and Human Services and speak to a representative about submitting updates for the Services Directory. They may provide guidance on the process and any specific requirements for submitting updates.\n",
            "\n",
            "4. In-person: If feasible, you may be able to visit the Department of Health and Human Services in person to submit updates for the Services Directory. This would allow for direct communication and assistance with the submission process.\n",
            "\n",
            "It's important to ensure that any updates submitted are accurate and up-to-date, and to follow any specific guidelines or requirements provided by the Department of Health and Human Services for submitting updates to the Services Directory.\n",
            "  - expected output: You can submit updates to the Services Directory by clicking the \"here\" link on the Department of Health and Human Services website.\n",
            "  - context: None\n",
            "  - retrieval context: None\n",
            "\n",
            "======================================================================\n",
            "\n",
            "Overall Metric Pass Rates\n",
            "\n",
            "Answer Relevancy: 100.00% pass rate\n",
            "\n",
            "======================================================================\n",
            "\n"
          ]
        },
        {
          "output_type": "stream",
          "name": "stderr",
          "text": [
            "\n"
          ]
        },
        {
          "output_type": "display_data",
          "data": {
            "text/plain": [
              "\n",
              "\u001b[38;2;5;245;141m✓\u001b[0m Tests finished 🎉! Run \u001b[1;32m'deepeval login'\u001b[0m to save and analyze evaluation results on Confident AI.\n",
              " \n",
              "✨👀 Looking for a place for your LLM test data to live 🏡❤️ ? Use \u001b[38;2;106;0;255mConfident AI\u001b[0m to get & share testing reports, \n",
              "experiment with models/prompts, and catch regressions for your LLM system. Just run \u001b[36m'deepeval login'\u001b[0m in the CLI. \n",
              "\n"
            ],
            "text/html": [
              "<pre style=\"white-space:pre;overflow-x:auto;line-height:normal;font-family:Menlo,'DejaVu Sans Mono',consolas,'Courier New',monospace\">\n",
              "<span style=\"color: #05f58d; text-decoration-color: #05f58d\">✓</span> Tests finished 🎉! Run <span style=\"color: #008000; text-decoration-color: #008000; font-weight: bold\">'deepeval login'</span> to save and analyze evaluation results on Confident AI.\n",
              " \n",
              "✨👀 Looking for a place for your LLM test data to live 🏡❤️ ? Use <span style=\"color: #6a00ff; text-decoration-color: #6a00ff\">Confident AI</span> to get &amp; share testing reports, \n",
              "experiment with models/prompts, and catch regressions for your LLM system. Just run <span style=\"color: #008080; text-decoration-color: #008080\">'deepeval login'</span> in the CLI. \n",
              "\n",
              "</pre>\n"
            ]
          },
          "metadata": {}
        },
        {
          "output_type": "stream",
          "name": "stdout",
          "text": [
            "LLMTestCase(input=\"Imagine a situation where you urgently needed to contact Barwon Health's triage service. How will you find their contact information?\", actual_output='If I urgently needed to contact Barwon Health\\'s triage service, I would first search for their contact information online. I would visit their official website and look for a \"Contact Us\" or \"Emergency Services\" section. If I couldn\\'t find the information there, I would search for their phone number on a search engine or call directory assistance for their contact details. If I still couldn\\'t find the information, I would consider reaching out to a local hospital or healthcare provider for assistance in getting in touch with Barwon Health\\'s triage service.', expected_output=\"You can find Barwon Health's triage service contact information by looking under the contact section of their website or by calling 1300 094 187.\", context=None, retrieval_context=None, additional_metadata=None, comments=None, tools_called=None, expected_tools=None, token_cost=None, completion_time=None, name=None)\n"
          ]
        },
        {
          "output_type": "display_data",
          "data": {
            "text/plain": [
              "✨ You're running DeepEval's latest \u001b[38;2;106;0;255mAnswer Relevancy Metric\u001b[0m! \u001b[1;38;2;55;65;81m(\u001b[0m\u001b[38;2;55;65;81musing gpt-4o, \u001b[0m\u001b[38;2;55;65;81mstrict\u001b[0m\u001b[38;2;55;65;81m=\u001b[0m\u001b[3;38;2;55;65;81mFalse\u001b[0m\u001b[38;2;55;65;81m, \u001b[0m\u001b[38;2;55;65;81masync_mode\u001b[0m\u001b[38;2;55;65;81m=\u001b[0m\u001b[3;38;2;55;65;81mTrue\u001b[0m\u001b[1;38;2;55;65;81m)\u001b[0m\u001b[38;2;55;65;81m...\u001b[0m\n"
            ],
            "text/html": [
              "<pre style=\"white-space:pre;overflow-x:auto;line-height:normal;font-family:Menlo,'DejaVu Sans Mono',consolas,'Courier New',monospace\">✨ You're running DeepEval's latest <span style=\"color: #6a00ff; text-decoration-color: #6a00ff\">Answer Relevancy Metric</span>! <span style=\"color: #374151; text-decoration-color: #374151; font-weight: bold\">(</span><span style=\"color: #374151; text-decoration-color: #374151\">using gpt-4o, </span><span style=\"color: #374151; text-decoration-color: #374151\">strict</span><span style=\"color: #374151; text-decoration-color: #374151\">=</span><span style=\"color: #374151; text-decoration-color: #374151; font-style: italic\">False</span><span style=\"color: #374151; text-decoration-color: #374151\">, </span><span style=\"color: #374151; text-decoration-color: #374151\">async_mode</span><span style=\"color: #374151; text-decoration-color: #374151\">=</span><span style=\"color: #374151; text-decoration-color: #374151; font-style: italic\">True</span><span style=\"color: #374151; text-decoration-color: #374151; font-weight: bold\">)</span><span style=\"color: #374151; text-decoration-color: #374151\">...</span>\n",
              "</pre>\n"
            ]
          },
          "metadata": {}
        },
        {
          "output_type": "stream",
          "name": "stderr",
          "text": [
            "Evaluating 1 test case(s) in parallel: |██████████|100% (1/1) [Time Taken: 00:05,  5.88s/test case]"
          ]
        },
        {
          "output_type": "stream",
          "name": "stdout",
          "text": [
            "\n",
            "======================================================================\n",
            "\n",
            "Metrics Summary\n",
            "\n",
            "  - ✅ Answer Relevancy (score: 1.0, threshold: 0.7, strict: False, evaluation model: gpt-4o, reason: The score is 1.00 because the response perfectly addresses the input by providing clear and relevant information on how to find Barwon Health's triage service contact details. There are no irrelevant statements, making it a precise and focused answer., error: None)\n",
            "\n",
            "For test case:\n",
            "\n",
            "  - input: Imagine a situation where you urgently needed to contact Barwon Health's triage service. How will you find their contact information?\n",
            "  - actual output: If I urgently needed to contact Barwon Health's triage service, I would first search for their contact information online. I would visit their official website and look for a \"Contact Us\" or \"Emergency Services\" section. If I couldn't find the information there, I would search for their phone number on a search engine or call directory assistance for their contact details. If I still couldn't find the information, I would consider reaching out to a local hospital or healthcare provider for assistance in getting in touch with Barwon Health's triage service.\n",
            "  - expected output: You can find Barwon Health's triage service contact information by looking under the contact section of their website or by calling 1300 094 187.\n",
            "  - context: None\n",
            "  - retrieval context: None\n",
            "\n",
            "======================================================================\n",
            "\n",
            "Overall Metric Pass Rates\n",
            "\n",
            "Answer Relevancy: 100.00% pass rate\n",
            "\n",
            "======================================================================\n",
            "\n"
          ]
        },
        {
          "output_type": "stream",
          "name": "stderr",
          "text": [
            "\n"
          ]
        },
        {
          "output_type": "display_data",
          "data": {
            "text/plain": [
              "\n",
              "\u001b[38;2;5;245;141m✓\u001b[0m Tests finished 🎉! Run \u001b[1;32m'deepeval login'\u001b[0m to save and analyze evaluation results on Confident AI.\n",
              " \n",
              "✨👀 Looking for a place for your LLM test data to live 🏡❤️ ? Use \u001b[38;2;106;0;255mConfident AI\u001b[0m to get & share testing reports, \n",
              "experiment with models/prompts, and catch regressions for your LLM system. Just run \u001b[36m'deepeval login'\u001b[0m in the CLI. \n",
              "\n"
            ],
            "text/html": [
              "<pre style=\"white-space:pre;overflow-x:auto;line-height:normal;font-family:Menlo,'DejaVu Sans Mono',consolas,'Courier New',monospace\">\n",
              "<span style=\"color: #05f58d; text-decoration-color: #05f58d\">✓</span> Tests finished 🎉! Run <span style=\"color: #008000; text-decoration-color: #008000; font-weight: bold\">'deepeval login'</span> to save and analyze evaluation results on Confident AI.\n",
              " \n",
              "✨👀 Looking for a place for your LLM test data to live 🏡❤️ ? Use <span style=\"color: #6a00ff; text-decoration-color: #6a00ff\">Confident AI</span> to get &amp; share testing reports, \n",
              "experiment with models/prompts, and catch regressions for your LLM system. Just run <span style=\"color: #008080; text-decoration-color: #008080\">'deepeval login'</span> in the CLI. \n",
              "\n",
              "</pre>\n"
            ]
          },
          "metadata": {}
        },
        {
          "output_type": "stream",
          "name": "stdout",
          "text": [
            "LLMTestCase(input='What self-administered tool can be used to monitor and assess alcohol intake for potential related health risks?', actual_output='A self-administered tool that can be used to monitor and assess alcohol intake for potential related health risks is the Alcohol Use Disorders Identification Test (AUDIT). This is a simple and widely used screening tool that can help individuals assess their alcohol consumption and identify potential risks for alcohol-related health problems.', expected_output='You can use the AUDIT tool to monitor and assess alcohol intake for potential related health risks.', context=None, retrieval_context=None, additional_metadata=None, comments=None, tools_called=None, expected_tools=None, token_cost=None, completion_time=None, name=None)\n"
          ]
        },
        {
          "output_type": "display_data",
          "data": {
            "text/plain": [
              "✨ You're running DeepEval's latest \u001b[38;2;106;0;255mAnswer Relevancy Metric\u001b[0m! \u001b[1;38;2;55;65;81m(\u001b[0m\u001b[38;2;55;65;81musing gpt-4o, \u001b[0m\u001b[38;2;55;65;81mstrict\u001b[0m\u001b[38;2;55;65;81m=\u001b[0m\u001b[3;38;2;55;65;81mFalse\u001b[0m\u001b[38;2;55;65;81m, \u001b[0m\u001b[38;2;55;65;81masync_mode\u001b[0m\u001b[38;2;55;65;81m=\u001b[0m\u001b[3;38;2;55;65;81mTrue\u001b[0m\u001b[1;38;2;55;65;81m)\u001b[0m\u001b[38;2;55;65;81m...\u001b[0m\n"
            ],
            "text/html": [
              "<pre style=\"white-space:pre;overflow-x:auto;line-height:normal;font-family:Menlo,'DejaVu Sans Mono',consolas,'Courier New',monospace\">✨ You're running DeepEval's latest <span style=\"color: #6a00ff; text-decoration-color: #6a00ff\">Answer Relevancy Metric</span>! <span style=\"color: #374151; text-decoration-color: #374151; font-weight: bold\">(</span><span style=\"color: #374151; text-decoration-color: #374151\">using gpt-4o, </span><span style=\"color: #374151; text-decoration-color: #374151\">strict</span><span style=\"color: #374151; text-decoration-color: #374151\">=</span><span style=\"color: #374151; text-decoration-color: #374151; font-style: italic\">False</span><span style=\"color: #374151; text-decoration-color: #374151\">, </span><span style=\"color: #374151; text-decoration-color: #374151\">async_mode</span><span style=\"color: #374151; text-decoration-color: #374151\">=</span><span style=\"color: #374151; text-decoration-color: #374151; font-style: italic\">True</span><span style=\"color: #374151; text-decoration-color: #374151; font-weight: bold\">)</span><span style=\"color: #374151; text-decoration-color: #374151\">...</span>\n",
              "</pre>\n"
            ]
          },
          "metadata": {}
        },
        {
          "output_type": "stream",
          "name": "stderr",
          "text": [
            "Evaluating 1 test case(s) in parallel: |██████████|100% (1/1) [Time Taken: 00:04,  4.38s/test case]"
          ]
        },
        {
          "output_type": "stream",
          "name": "stdout",
          "text": [
            "\n",
            "======================================================================\n",
            "\n",
            "Metrics Summary\n",
            "\n",
            "  - ✅ Answer Relevancy (score: 1.0, threshold: 0.7, strict: False, evaluation model: gpt-4o, reason: The score is 1.00 because the response perfectly addresses the question by providing a relevant self-administered tool for monitoring alcohol intake, with no irrelevant information included. Great job on staying focused and on point!, error: None)\n",
            "\n",
            "For test case:\n",
            "\n",
            "  - input: What self-administered tool can be used to monitor and assess alcohol intake for potential related health risks?\n",
            "  - actual output: A self-administered tool that can be used to monitor and assess alcohol intake for potential related health risks is the Alcohol Use Disorders Identification Test (AUDIT). This is a simple and widely used screening tool that can help individuals assess their alcohol consumption and identify potential risks for alcohol-related health problems.\n",
            "  - expected output: You can use the AUDIT tool to monitor and assess alcohol intake for potential related health risks.\n",
            "  - context: None\n",
            "  - retrieval context: None\n",
            "\n",
            "======================================================================\n",
            "\n",
            "Overall Metric Pass Rates\n",
            "\n",
            "Answer Relevancy: 100.00% pass rate\n",
            "\n",
            "======================================================================\n",
            "\n"
          ]
        },
        {
          "output_type": "stream",
          "name": "stderr",
          "text": [
            "\n"
          ]
        },
        {
          "output_type": "display_data",
          "data": {
            "text/plain": [
              "\n",
              "\u001b[38;2;5;245;141m✓\u001b[0m Tests finished 🎉! Run \u001b[1;32m'deepeval login'\u001b[0m to save and analyze evaluation results on Confident AI.\n",
              " \n",
              "✨👀 Looking for a place for your LLM test data to live 🏡❤️ ? Use \u001b[38;2;106;0;255mConfident AI\u001b[0m to get & share testing reports, \n",
              "experiment with models/prompts, and catch regressions for your LLM system. Just run \u001b[36m'deepeval login'\u001b[0m in the CLI. \n",
              "\n"
            ],
            "text/html": [
              "<pre style=\"white-space:pre;overflow-x:auto;line-height:normal;font-family:Menlo,'DejaVu Sans Mono',consolas,'Courier New',monospace\">\n",
              "<span style=\"color: #05f58d; text-decoration-color: #05f58d\">✓</span> Tests finished 🎉! Run <span style=\"color: #008000; text-decoration-color: #008000; font-weight: bold\">'deepeval login'</span> to save and analyze evaluation results on Confident AI.\n",
              " \n",
              "✨👀 Looking for a place for your LLM test data to live 🏡❤️ ? Use <span style=\"color: #6a00ff; text-decoration-color: #6a00ff\">Confident AI</span> to get &amp; share testing reports, \n",
              "experiment with models/prompts, and catch regressions for your LLM system. Just run <span style=\"color: #008080; text-decoration-color: #008080\">'deepeval login'</span> in the CLI. \n",
              "\n",
              "</pre>\n"
            ]
          },
          "metadata": {}
        },
        {
          "output_type": "stream",
          "name": "stdout",
          "text": [
            "LLMTestCase(input='Examine the content of the Trauma Informed Leadership course presented by Foundation House and MHV.', actual_output='The Trauma Informed Leadership course presented by Foundation House and MHV focuses on providing leaders with the knowledge and skills to create trauma-informed organizations. The course content includes understanding the impact of trauma on individuals and communities, recognizing trauma symptoms and responses, and implementing trauma-informed practices in leadership roles.\\n\\nThe course covers topics such as the neurobiology of trauma, the prevalence of trauma in different populations, and the importance of creating safe and supportive environments for those who have experienced trauma. It also addresses the role of leadership in promoting trauma-informed care, including the need for self-awareness, empathy, and effective communication.\\n\\nParticipants in the course will learn about the principles of trauma-informed care, including safety, trustworthiness, choice, collaboration, and empowerment. They will also explore strategies for creating trauma-informed policies and procedures, as well as ways to support staff and clients who have experienced trauma.\\n\\nOverall, the Trauma Informed Leadership course aims to equip leaders with the knowledge and tools to create organizations that are sensitive to the needs of individuals who have experienced trauma, and to promote healing and resilience within their communities.', expected_output='The Trauma Informed Leadership course offered by Foundation House and MHV covers topics such as Foundations of Leadership, Trauma-informed Practice for Managers & Leaders, Team & Organisational Dynamics, Effective Language & Communication, and more. The course is funded by the Department of Health for MHV Associates and those working in state-funded and community mental health services.', context=None, retrieval_context=None, additional_metadata=None, comments=None, tools_called=None, expected_tools=None, token_cost=None, completion_time=None, name=None)\n"
          ]
        },
        {
          "output_type": "display_data",
          "data": {
            "text/plain": [
              "✨ You're running DeepEval's latest \u001b[38;2;106;0;255mAnswer Relevancy Metric\u001b[0m! \u001b[1;38;2;55;65;81m(\u001b[0m\u001b[38;2;55;65;81musing gpt-4o, \u001b[0m\u001b[38;2;55;65;81mstrict\u001b[0m\u001b[38;2;55;65;81m=\u001b[0m\u001b[3;38;2;55;65;81mFalse\u001b[0m\u001b[38;2;55;65;81m, \u001b[0m\u001b[38;2;55;65;81masync_mode\u001b[0m\u001b[38;2;55;65;81m=\u001b[0m\u001b[3;38;2;55;65;81mTrue\u001b[0m\u001b[1;38;2;55;65;81m)\u001b[0m\u001b[38;2;55;65;81m...\u001b[0m\n"
            ],
            "text/html": [
              "<pre style=\"white-space:pre;overflow-x:auto;line-height:normal;font-family:Menlo,'DejaVu Sans Mono',consolas,'Courier New',monospace\">✨ You're running DeepEval's latest <span style=\"color: #6a00ff; text-decoration-color: #6a00ff\">Answer Relevancy Metric</span>! <span style=\"color: #374151; text-decoration-color: #374151; font-weight: bold\">(</span><span style=\"color: #374151; text-decoration-color: #374151\">using gpt-4o, </span><span style=\"color: #374151; text-decoration-color: #374151\">strict</span><span style=\"color: #374151; text-decoration-color: #374151\">=</span><span style=\"color: #374151; text-decoration-color: #374151; font-style: italic\">False</span><span style=\"color: #374151; text-decoration-color: #374151\">, </span><span style=\"color: #374151; text-decoration-color: #374151\">async_mode</span><span style=\"color: #374151; text-decoration-color: #374151\">=</span><span style=\"color: #374151; text-decoration-color: #374151; font-style: italic\">True</span><span style=\"color: #374151; text-decoration-color: #374151; font-weight: bold\">)</span><span style=\"color: #374151; text-decoration-color: #374151\">...</span>\n",
              "</pre>\n"
            ]
          },
          "metadata": {}
        },
        {
          "output_type": "stream",
          "name": "stderr",
          "text": [
            "Evaluating 1 test case(s) in parallel: |██████████|100% (1/1) [Time Taken: 00:10, 10.09s/test case]"
          ]
        },
        {
          "output_type": "stream",
          "name": "stdout",
          "text": [
            "\n",
            "======================================================================\n",
            "\n",
            "Metrics Summary\n",
            "\n",
            "  - ✅ Answer Relevancy (score: 1.0, threshold: 0.7, strict: False, evaluation model: gpt-4o, reason: The score is 1.00 because the response perfectly aligns with the input, addressing the content of the Trauma Informed Leadership course without any irrelevant information. Great job on maintaining focus and clarity!, error: None)\n",
            "\n",
            "For test case:\n",
            "\n",
            "  - input: Examine the content of the Trauma Informed Leadership course presented by Foundation House and MHV.\n",
            "  - actual output: The Trauma Informed Leadership course presented by Foundation House and MHV focuses on providing leaders with the knowledge and skills to create trauma-informed organizations. The course content includes understanding the impact of trauma on individuals and communities, recognizing trauma symptoms and responses, and implementing trauma-informed practices in leadership roles.\n",
            "\n",
            "The course covers topics such as the neurobiology of trauma, the prevalence of trauma in different populations, and the importance of creating safe and supportive environments for those who have experienced trauma. It also addresses the role of leadership in promoting trauma-informed care, including the need for self-awareness, empathy, and effective communication.\n",
            "\n",
            "Participants in the course will learn about the principles of trauma-informed care, including safety, trustworthiness, choice, collaboration, and empowerment. They will also explore strategies for creating trauma-informed policies and procedures, as well as ways to support staff and clients who have experienced trauma.\n",
            "\n",
            "Overall, the Trauma Informed Leadership course aims to equip leaders with the knowledge and tools to create organizations that are sensitive to the needs of individuals who have experienced trauma, and to promote healing and resilience within their communities.\n",
            "  - expected output: The Trauma Informed Leadership course offered by Foundation House and MHV covers topics such as Foundations of Leadership, Trauma-informed Practice for Managers & Leaders, Team & Organisational Dynamics, Effective Language & Communication, and more. The course is funded by the Department of Health for MHV Associates and those working in state-funded and community mental health services.\n",
            "  - context: None\n",
            "  - retrieval context: None\n",
            "\n",
            "======================================================================\n",
            "\n",
            "Overall Metric Pass Rates\n",
            "\n",
            "Answer Relevancy: 100.00% pass rate\n",
            "\n",
            "======================================================================\n",
            "\n"
          ]
        },
        {
          "output_type": "stream",
          "name": "stderr",
          "text": [
            "\n"
          ]
        },
        {
          "output_type": "display_data",
          "data": {
            "text/plain": [
              "\n",
              "\u001b[38;2;5;245;141m✓\u001b[0m Tests finished 🎉! Run \u001b[1;32m'deepeval login'\u001b[0m to save and analyze evaluation results on Confident AI.\n",
              " \n",
              "✨👀 Looking for a place for your LLM test data to live 🏡❤️ ? Use \u001b[38;2;106;0;255mConfident AI\u001b[0m to get & share testing reports, \n",
              "experiment with models/prompts, and catch regressions for your LLM system. Just run \u001b[36m'deepeval login'\u001b[0m in the CLI. \n",
              "\n"
            ],
            "text/html": [
              "<pre style=\"white-space:pre;overflow-x:auto;line-height:normal;font-family:Menlo,'DejaVu Sans Mono',consolas,'Courier New',monospace\">\n",
              "<span style=\"color: #05f58d; text-decoration-color: #05f58d\">✓</span> Tests finished 🎉! Run <span style=\"color: #008000; text-decoration-color: #008000; font-weight: bold\">'deepeval login'</span> to save and analyze evaluation results on Confident AI.\n",
              " \n",
              "✨👀 Looking for a place for your LLM test data to live 🏡❤️ ? Use <span style=\"color: #6a00ff; text-decoration-color: #6a00ff\">Confident AI</span> to get &amp; share testing reports, \n",
              "experiment with models/prompts, and catch regressions for your LLM system. Just run <span style=\"color: #008080; text-decoration-color: #008080\">'deepeval login'</span> in the CLI. \n",
              "\n",
              "</pre>\n"
            ]
          },
          "metadata": {}
        },
        {
          "output_type": "stream",
          "name": "stdout",
          "text": [
            "LLMTestCase(input='How many mental health plans does the State have, and what are the implications of this fragmented system?', actual_output='The number of mental health plans and their implications can vary by state. In general, a fragmented mental health system can lead to difficulties in accessing care, lack of coordination between different providers, and challenges in providing comprehensive and integrated care for individuals with mental health needs. This can result in gaps in services, inconsistent quality of care, and increased burden on individuals and families seeking mental health support. It can also lead to increased costs for the healthcare system as a whole. Efforts to integrate and coordinate mental health plans and services can help address these challenges and improve the overall quality and accessibility of mental health care.', expected_output='The State has seven different mental health plans: one from the Victorian Government and six from the Primary Health Network (PHN). The implications of this fragmented system include a lack of a single cohesive plan for the State, as each plan is devised largely in isolation of the others, resulting in a patchwork and fragmented system.', context=None, retrieval_context=None, additional_metadata=None, comments=None, tools_called=None, expected_tools=None, token_cost=None, completion_time=None, name=None)\n"
          ]
        },
        {
          "output_type": "display_data",
          "data": {
            "text/plain": [
              "✨ You're running DeepEval's latest \u001b[38;2;106;0;255mAnswer Relevancy Metric\u001b[0m! \u001b[1;38;2;55;65;81m(\u001b[0m\u001b[38;2;55;65;81musing gpt-4o, \u001b[0m\u001b[38;2;55;65;81mstrict\u001b[0m\u001b[38;2;55;65;81m=\u001b[0m\u001b[3;38;2;55;65;81mFalse\u001b[0m\u001b[38;2;55;65;81m, \u001b[0m\u001b[38;2;55;65;81masync_mode\u001b[0m\u001b[38;2;55;65;81m=\u001b[0m\u001b[3;38;2;55;65;81mTrue\u001b[0m\u001b[1;38;2;55;65;81m)\u001b[0m\u001b[38;2;55;65;81m...\u001b[0m\n"
            ],
            "text/html": [
              "<pre style=\"white-space:pre;overflow-x:auto;line-height:normal;font-family:Menlo,'DejaVu Sans Mono',consolas,'Courier New',monospace\">✨ You're running DeepEval's latest <span style=\"color: #6a00ff; text-decoration-color: #6a00ff\">Answer Relevancy Metric</span>! <span style=\"color: #374151; text-decoration-color: #374151; font-weight: bold\">(</span><span style=\"color: #374151; text-decoration-color: #374151\">using gpt-4o, </span><span style=\"color: #374151; text-decoration-color: #374151\">strict</span><span style=\"color: #374151; text-decoration-color: #374151\">=</span><span style=\"color: #374151; text-decoration-color: #374151; font-style: italic\">False</span><span style=\"color: #374151; text-decoration-color: #374151\">, </span><span style=\"color: #374151; text-decoration-color: #374151\">async_mode</span><span style=\"color: #374151; text-decoration-color: #374151\">=</span><span style=\"color: #374151; text-decoration-color: #374151; font-style: italic\">True</span><span style=\"color: #374151; text-decoration-color: #374151; font-weight: bold\">)</span><span style=\"color: #374151; text-decoration-color: #374151\">...</span>\n",
              "</pre>\n"
            ]
          },
          "metadata": {}
        },
        {
          "output_type": "stream",
          "name": "stderr",
          "text": [
            "Evaluating 1 test case(s) in parallel: |██████████|100% (1/1) [Time Taken: 00:08,  8.85s/test case]"
          ]
        },
        {
          "output_type": "stream",
          "name": "stdout",
          "text": [
            "\n",
            "======================================================================\n",
            "\n",
            "Metrics Summary\n",
            "\n",
            "  - ✅ Answer Relevancy (score: 1.0, threshold: 0.7, strict: False, evaluation model: gpt-4o, reason: The score is 1.00 because the response perfectly addressed the input question without any irrelevant statements, providing a clear and concise explanation of the number of mental health plans and their implications. Great job on staying focused and relevant!, error: None)\n",
            "\n",
            "For test case:\n",
            "\n",
            "  - input: How many mental health plans does the State have, and what are the implications of this fragmented system?\n",
            "  - actual output: The number of mental health plans and their implications can vary by state. In general, a fragmented mental health system can lead to difficulties in accessing care, lack of coordination between different providers, and challenges in providing comprehensive and integrated care for individuals with mental health needs. This can result in gaps in services, inconsistent quality of care, and increased burden on individuals and families seeking mental health support. It can also lead to increased costs for the healthcare system as a whole. Efforts to integrate and coordinate mental health plans and services can help address these challenges and improve the overall quality and accessibility of mental health care.\n",
            "  - expected output: The State has seven different mental health plans: one from the Victorian Government and six from the Primary Health Network (PHN). The implications of this fragmented system include a lack of a single cohesive plan for the State, as each plan is devised largely in isolation of the others, resulting in a patchwork and fragmented system.\n",
            "  - context: None\n",
            "  - retrieval context: None\n",
            "\n",
            "======================================================================\n",
            "\n",
            "Overall Metric Pass Rates\n",
            "\n",
            "Answer Relevancy: 100.00% pass rate\n",
            "\n",
            "======================================================================\n",
            "\n"
          ]
        },
        {
          "output_type": "stream",
          "name": "stderr",
          "text": [
            "\n"
          ]
        },
        {
          "output_type": "display_data",
          "data": {
            "text/plain": [
              "\n",
              "\u001b[38;2;5;245;141m✓\u001b[0m Tests finished 🎉! Run \u001b[1;32m'deepeval login'\u001b[0m to save and analyze evaluation results on Confident AI.\n",
              " \n",
              "✨👀 Looking for a place for your LLM test data to live 🏡❤️ ? Use \u001b[38;2;106;0;255mConfident AI\u001b[0m to get & share testing reports, \n",
              "experiment with models/prompts, and catch regressions for your LLM system. Just run \u001b[36m'deepeval login'\u001b[0m in the CLI. \n",
              "\n"
            ],
            "text/html": [
              "<pre style=\"white-space:pre;overflow-x:auto;line-height:normal;font-family:Menlo,'DejaVu Sans Mono',consolas,'Courier New',monospace\">\n",
              "<span style=\"color: #05f58d; text-decoration-color: #05f58d\">✓</span> Tests finished 🎉! Run <span style=\"color: #008000; text-decoration-color: #008000; font-weight: bold\">'deepeval login'</span> to save and analyze evaluation results on Confident AI.\n",
              " \n",
              "✨👀 Looking for a place for your LLM test data to live 🏡❤️ ? Use <span style=\"color: #6a00ff; text-decoration-color: #6a00ff\">Confident AI</span> to get &amp; share testing reports, \n",
              "experiment with models/prompts, and catch regressions for your LLM system. Just run <span style=\"color: #008080; text-decoration-color: #008080\">'deepeval login'</span> in the CLI. \n",
              "\n",
              "</pre>\n"
            ]
          },
          "metadata": {}
        },
        {
          "output_type": "stream",
          "name": "stdout",
          "text": [
            "LLMTestCase(input='Which publication contains a study exploring eating disorders in various LGBTQ+ communities?', actual_output='The publication \"Journal of Gay & Lesbian Mental Health\" contains a study exploring eating disorders in various LGBTQ+ communities.', expected_output='The publication \"Eating disorders in diverse lesbian, gay, and bisexual populations\" explores eating disorders in various LGBTQ+ communities. This study was published in the International Journal of Eating Disorders in 2007.', context=None, retrieval_context=None, additional_metadata=None, comments=None, tools_called=None, expected_tools=None, token_cost=None, completion_time=None, name=None)\n"
          ]
        },
        {
          "output_type": "display_data",
          "data": {
            "text/plain": [
              "✨ You're running DeepEval's latest \u001b[38;2;106;0;255mAnswer Relevancy Metric\u001b[0m! \u001b[1;38;2;55;65;81m(\u001b[0m\u001b[38;2;55;65;81musing gpt-4o, \u001b[0m\u001b[38;2;55;65;81mstrict\u001b[0m\u001b[38;2;55;65;81m=\u001b[0m\u001b[3;38;2;55;65;81mFalse\u001b[0m\u001b[38;2;55;65;81m, \u001b[0m\u001b[38;2;55;65;81masync_mode\u001b[0m\u001b[38;2;55;65;81m=\u001b[0m\u001b[3;38;2;55;65;81mTrue\u001b[0m\u001b[1;38;2;55;65;81m)\u001b[0m\u001b[38;2;55;65;81m...\u001b[0m\n"
            ],
            "text/html": [
              "<pre style=\"white-space:pre;overflow-x:auto;line-height:normal;font-family:Menlo,'DejaVu Sans Mono',consolas,'Courier New',monospace\">✨ You're running DeepEval's latest <span style=\"color: #6a00ff; text-decoration-color: #6a00ff\">Answer Relevancy Metric</span>! <span style=\"color: #374151; text-decoration-color: #374151; font-weight: bold\">(</span><span style=\"color: #374151; text-decoration-color: #374151\">using gpt-4o, </span><span style=\"color: #374151; text-decoration-color: #374151\">strict</span><span style=\"color: #374151; text-decoration-color: #374151\">=</span><span style=\"color: #374151; text-decoration-color: #374151; font-style: italic\">False</span><span style=\"color: #374151; text-decoration-color: #374151\">, </span><span style=\"color: #374151; text-decoration-color: #374151\">async_mode</span><span style=\"color: #374151; text-decoration-color: #374151\">=</span><span style=\"color: #374151; text-decoration-color: #374151; font-style: italic\">True</span><span style=\"color: #374151; text-decoration-color: #374151; font-weight: bold\">)</span><span style=\"color: #374151; text-decoration-color: #374151\">...</span>\n",
              "</pre>\n"
            ]
          },
          "metadata": {}
        },
        {
          "output_type": "stream",
          "name": "stderr",
          "text": [
            "Evaluating 1 test case(s) in parallel: |██████████|100% (1/1) [Time Taken: 00:03,  3.85s/test case]"
          ]
        },
        {
          "output_type": "stream",
          "name": "stdout",
          "text": [
            "\n",
            "======================================================================\n",
            "\n",
            "Metrics Summary\n",
            "\n",
            "  - ✅ Answer Relevancy (score: 1.0, threshold: 0.7, strict: False, evaluation model: gpt-4o, reason: The score is 1.00 because the response perfectly addresses the input without any irrelevant statements, showcasing a clear and direct answer to the question asked. Great job!, error: None)\n",
            "\n",
            "For test case:\n",
            "\n",
            "  - input: Which publication contains a study exploring eating disorders in various LGBTQ+ communities?\n",
            "  - actual output: The publication \"Journal of Gay & Lesbian Mental Health\" contains a study exploring eating disorders in various LGBTQ+ communities.\n",
            "  - expected output: The publication \"Eating disorders in diverse lesbian, gay, and bisexual populations\" explores eating disorders in various LGBTQ+ communities. This study was published in the International Journal of Eating Disorders in 2007.\n",
            "  - context: None\n",
            "  - retrieval context: None\n",
            "\n",
            "======================================================================\n",
            "\n",
            "Overall Metric Pass Rates\n",
            "\n",
            "Answer Relevancy: 100.00% pass rate\n",
            "\n",
            "======================================================================\n",
            "\n"
          ]
        },
        {
          "output_type": "stream",
          "name": "stderr",
          "text": [
            "\n"
          ]
        },
        {
          "output_type": "display_data",
          "data": {
            "text/plain": [
              "\n",
              "\u001b[38;2;5;245;141m✓\u001b[0m Tests finished 🎉! Run \u001b[1;32m'deepeval login'\u001b[0m to save and analyze evaluation results on Confident AI.\n",
              " \n",
              "✨👀 Looking for a place for your LLM test data to live 🏡❤️ ? Use \u001b[38;2;106;0;255mConfident AI\u001b[0m to get & share testing reports, \n",
              "experiment with models/prompts, and catch regressions for your LLM system. Just run \u001b[36m'deepeval login'\u001b[0m in the CLI. \n",
              "\n"
            ],
            "text/html": [
              "<pre style=\"white-space:pre;overflow-x:auto;line-height:normal;font-family:Menlo,'DejaVu Sans Mono',consolas,'Courier New',monospace\">\n",
              "<span style=\"color: #05f58d; text-decoration-color: #05f58d\">✓</span> Tests finished 🎉! Run <span style=\"color: #008000; text-decoration-color: #008000; font-weight: bold\">'deepeval login'</span> to save and analyze evaluation results on Confident AI.\n",
              " \n",
              "✨👀 Looking for a place for your LLM test data to live 🏡❤️ ? Use <span style=\"color: #6a00ff; text-decoration-color: #6a00ff\">Confident AI</span> to get &amp; share testing reports, \n",
              "experiment with models/prompts, and catch regressions for your LLM system. Just run <span style=\"color: #008080; text-decoration-color: #008080\">'deepeval login'</span> in the CLI. \n",
              "\n",
              "</pre>\n"
            ]
          },
          "metadata": {}
        },
        {
          "output_type": "stream",
          "name": "stdout",
          "text": [
            "LLMTestCase(input='How does stigma and abuse contribute to higher mental illness rates among LGBTIQA+ Australians?', actual_output='Stigma and abuse contribute to higher mental illness rates among LGBTIQA+ Australians in several ways. Firstly, the experience of stigma and discrimination can lead to chronic stress, anxiety, and depression, which are known risk factors for mental illness. LGBTIQA+ individuals may face discrimination in various aspects of their lives, including at work, in their communities, and within their families, which can have a significant impact on their mental health.\\n\\nAdditionally, the fear of stigma and discrimination can lead to social isolation and a lack of support, which can exacerbate mental health issues. LGBTIQA+ individuals may also internalize negative societal attitudes towards their sexual orientation or gender identity, leading to feelings of shame, self-hatred, and low self-esteem, all of which are associated with mental health problems.\\n\\nFurthermore, the experience of abuse, whether it be physical, emotional, or verbal, can have a profound impact on mental health. LGBTIQA+ individuals are at a higher risk of experiencing abuse, including hate crimes, intimate partner violence, and bullying, which can lead to trauma and long-term mental health consequences.\\n\\nOverall, the combination of stigma and abuse creates a hostile and unsupportive environment for LGBTIQA+ individuals, which can contribute to higher rates of mental illness within this community. It is essential for society to address and combat stigma and abuse in order to improve the mental health and well-being of LGBTIQA+ Australians.', expected_output='Stigma, discrimination, and abuse contribute to higher mental illness rates among LGBTIQA+ Australians by causing distress and exacerbating existing mental health conditions. This is supported by the fact that LGBTIQA+ individuals have higher rates of mental illness and distress than their peers due to these factors.', context=None, retrieval_context=None, additional_metadata=None, comments=None, tools_called=None, expected_tools=None, token_cost=None, completion_time=None, name=None)\n"
          ]
        },
        {
          "output_type": "display_data",
          "data": {
            "text/plain": [
              "✨ You're running DeepEval's latest \u001b[38;2;106;0;255mAnswer Relevancy Metric\u001b[0m! \u001b[1;38;2;55;65;81m(\u001b[0m\u001b[38;2;55;65;81musing gpt-4o, \u001b[0m\u001b[38;2;55;65;81mstrict\u001b[0m\u001b[38;2;55;65;81m=\u001b[0m\u001b[3;38;2;55;65;81mFalse\u001b[0m\u001b[38;2;55;65;81m, \u001b[0m\u001b[38;2;55;65;81masync_mode\u001b[0m\u001b[38;2;55;65;81m=\u001b[0m\u001b[3;38;2;55;65;81mTrue\u001b[0m\u001b[1;38;2;55;65;81m)\u001b[0m\u001b[38;2;55;65;81m...\u001b[0m\n"
            ],
            "text/html": [
              "<pre style=\"white-space:pre;overflow-x:auto;line-height:normal;font-family:Menlo,'DejaVu Sans Mono',consolas,'Courier New',monospace\">✨ You're running DeepEval's latest <span style=\"color: #6a00ff; text-decoration-color: #6a00ff\">Answer Relevancy Metric</span>! <span style=\"color: #374151; text-decoration-color: #374151; font-weight: bold\">(</span><span style=\"color: #374151; text-decoration-color: #374151\">using gpt-4o, </span><span style=\"color: #374151; text-decoration-color: #374151\">strict</span><span style=\"color: #374151; text-decoration-color: #374151\">=</span><span style=\"color: #374151; text-decoration-color: #374151; font-style: italic\">False</span><span style=\"color: #374151; text-decoration-color: #374151\">, </span><span style=\"color: #374151; text-decoration-color: #374151\">async_mode</span><span style=\"color: #374151; text-decoration-color: #374151\">=</span><span style=\"color: #374151; text-decoration-color: #374151; font-style: italic\">True</span><span style=\"color: #374151; text-decoration-color: #374151; font-weight: bold\">)</span><span style=\"color: #374151; text-decoration-color: #374151\">...</span>\n",
              "</pre>\n"
            ]
          },
          "metadata": {}
        },
        {
          "output_type": "stream",
          "name": "stderr",
          "text": [
            "Evaluating 1 test case(s) in parallel: |██████████|100% (1/1) [Time Taken: 00:08,  8.27s/test case]"
          ]
        },
        {
          "output_type": "stream",
          "name": "stdout",
          "text": [
            "\n",
            "======================================================================\n",
            "\n",
            "Metrics Summary\n",
            "\n",
            "  - ✅ Answer Relevancy (score: 1.0, threshold: 0.7, strict: False, evaluation model: gpt-4o, reason: The score is 1.00 because the response perfectly addressed the question about the impact of stigma and abuse on mental illness rates among LGBTIQA+ Australians, with no irrelevant statements present. Great job on staying focused and relevant!, error: None)\n",
            "\n",
            "For test case:\n",
            "\n",
            "  - input: How does stigma and abuse contribute to higher mental illness rates among LGBTIQA+ Australians?\n",
            "  - actual output: Stigma and abuse contribute to higher mental illness rates among LGBTIQA+ Australians in several ways. Firstly, the experience of stigma and discrimination can lead to chronic stress, anxiety, and depression, which are known risk factors for mental illness. LGBTIQA+ individuals may face discrimination in various aspects of their lives, including at work, in their communities, and within their families, which can have a significant impact on their mental health.\n",
            "\n",
            "Additionally, the fear of stigma and discrimination can lead to social isolation and a lack of support, which can exacerbate mental health issues. LGBTIQA+ individuals may also internalize negative societal attitudes towards their sexual orientation or gender identity, leading to feelings of shame, self-hatred, and low self-esteem, all of which are associated with mental health problems.\n",
            "\n",
            "Furthermore, the experience of abuse, whether it be physical, emotional, or verbal, can have a profound impact on mental health. LGBTIQA+ individuals are at a higher risk of experiencing abuse, including hate crimes, intimate partner violence, and bullying, which can lead to trauma and long-term mental health consequences.\n",
            "\n",
            "Overall, the combination of stigma and abuse creates a hostile and unsupportive environment for LGBTIQA+ individuals, which can contribute to higher rates of mental illness within this community. It is essential for society to address and combat stigma and abuse in order to improve the mental health and well-being of LGBTIQA+ Australians.\n",
            "  - expected output: Stigma, discrimination, and abuse contribute to higher mental illness rates among LGBTIQA+ Australians by causing distress and exacerbating existing mental health conditions. This is supported by the fact that LGBTIQA+ individuals have higher rates of mental illness and distress than their peers due to these factors.\n",
            "  - context: None\n",
            "  - retrieval context: None\n",
            "\n",
            "======================================================================\n",
            "\n",
            "Overall Metric Pass Rates\n",
            "\n",
            "Answer Relevancy: 100.00% pass rate\n",
            "\n",
            "======================================================================\n",
            "\n"
          ]
        },
        {
          "output_type": "stream",
          "name": "stderr",
          "text": [
            "\n"
          ]
        },
        {
          "output_type": "display_data",
          "data": {
            "text/plain": [
              "\n",
              "\u001b[38;2;5;245;141m✓\u001b[0m Tests finished 🎉! Run \u001b[1;32m'deepeval login'\u001b[0m to save and analyze evaluation results on Confident AI.\n",
              " \n",
              "✨👀 Looking for a place for your LLM test data to live 🏡❤️ ? Use \u001b[38;2;106;0;255mConfident AI\u001b[0m to get & share testing reports, \n",
              "experiment with models/prompts, and catch regressions for your LLM system. Just run \u001b[36m'deepeval login'\u001b[0m in the CLI. \n",
              "\n"
            ],
            "text/html": [
              "<pre style=\"white-space:pre;overflow-x:auto;line-height:normal;font-family:Menlo,'DejaVu Sans Mono',consolas,'Courier New',monospace\">\n",
              "<span style=\"color: #05f58d; text-decoration-color: #05f58d\">✓</span> Tests finished 🎉! Run <span style=\"color: #008000; text-decoration-color: #008000; font-weight: bold\">'deepeval login'</span> to save and analyze evaluation results on Confident AI.\n",
              " \n",
              "✨👀 Looking for a place for your LLM test data to live 🏡❤️ ? Use <span style=\"color: #6a00ff; text-decoration-color: #6a00ff\">Confident AI</span> to get &amp; share testing reports, \n",
              "experiment with models/prompts, and catch regressions for your LLM system. Just run <span style=\"color: #008080; text-decoration-color: #008080\">'deepeval login'</span> in the CLI. \n",
              "\n",
              "</pre>\n"
            ]
          },
          "metadata": {}
        },
        {
          "output_type": "stream",
          "name": "stdout",
          "text": [
            "LLMTestCase(input='What are the obstacles causing the fragmentation of the current mental health system?', actual_output='1. Lack of coordination and communication between different mental health service providers and organizations.\\n2. Insufficient funding and resources for mental health services, leading to limited access and long wait times for treatment.\\n3. Stigma and discrimination surrounding mental illness, which can prevent individuals from seeking help and accessing appropriate care.\\n4. Inadequate training and education for healthcare professionals in identifying and treating mental health issues.\\n5. Fragmented insurance and payment systems, which can create barriers to accessing comprehensive and continuous mental health care.\\n6. Limited integration of mental health services with other healthcare and social service systems, leading to disjointed and incomplete care for individuals with mental health needs.\\n7. Inequities in access to mental health services based on factors such as race, ethnicity, socioeconomic status, and geographic location.', expected_output='The fragmentation of the current mental health system is caused by having multiple chiefs and separate mental health plans, with no single cohesive plan for the entire state.', context=None, retrieval_context=None, additional_metadata=None, comments=None, tools_called=None, expected_tools=None, token_cost=None, completion_time=None, name=None)\n"
          ]
        },
        {
          "output_type": "display_data",
          "data": {
            "text/plain": [
              "✨ You're running DeepEval's latest \u001b[38;2;106;0;255mAnswer Relevancy Metric\u001b[0m! \u001b[1;38;2;55;65;81m(\u001b[0m\u001b[38;2;55;65;81musing gpt-4o, \u001b[0m\u001b[38;2;55;65;81mstrict\u001b[0m\u001b[38;2;55;65;81m=\u001b[0m\u001b[3;38;2;55;65;81mFalse\u001b[0m\u001b[38;2;55;65;81m, \u001b[0m\u001b[38;2;55;65;81masync_mode\u001b[0m\u001b[38;2;55;65;81m=\u001b[0m\u001b[3;38;2;55;65;81mTrue\u001b[0m\u001b[1;38;2;55;65;81m)\u001b[0m\u001b[38;2;55;65;81m...\u001b[0m\n"
            ],
            "text/html": [
              "<pre style=\"white-space:pre;overflow-x:auto;line-height:normal;font-family:Menlo,'DejaVu Sans Mono',consolas,'Courier New',monospace\">✨ You're running DeepEval's latest <span style=\"color: #6a00ff; text-decoration-color: #6a00ff\">Answer Relevancy Metric</span>! <span style=\"color: #374151; text-decoration-color: #374151; font-weight: bold\">(</span><span style=\"color: #374151; text-decoration-color: #374151\">using gpt-4o, </span><span style=\"color: #374151; text-decoration-color: #374151\">strict</span><span style=\"color: #374151; text-decoration-color: #374151\">=</span><span style=\"color: #374151; text-decoration-color: #374151; font-style: italic\">False</span><span style=\"color: #374151; text-decoration-color: #374151\">, </span><span style=\"color: #374151; text-decoration-color: #374151\">async_mode</span><span style=\"color: #374151; text-decoration-color: #374151\">=</span><span style=\"color: #374151; text-decoration-color: #374151; font-style: italic\">True</span><span style=\"color: #374151; text-decoration-color: #374151; font-weight: bold\">)</span><span style=\"color: #374151; text-decoration-color: #374151\">...</span>\n",
              "</pre>\n"
            ]
          },
          "metadata": {}
        },
        {
          "output_type": "stream",
          "name": "stderr",
          "text": [
            "Evaluating 1 test case(s) in parallel: |██████████|100% (1/1) [Time Taken: 00:08,  8.78s/test case]"
          ]
        },
        {
          "output_type": "stream",
          "name": "stdout",
          "text": [
            "\n",
            "======================================================================\n",
            "\n",
            "Metrics Summary\n",
            "\n",
            "  - ✅ Answer Relevancy (score: 1.0, threshold: 0.7, strict: False, evaluation model: gpt-4o, reason: The score is 1.00 because the response perfectly addresses the question about the obstacles causing fragmentation in the mental health system without any irrelevant information. Great job on staying focused and relevant!, error: None)\n",
            "\n",
            "For test case:\n",
            "\n",
            "  - input: What are the obstacles causing the fragmentation of the current mental health system?\n",
            "  - actual output: 1. Lack of coordination and communication between different mental health service providers and organizations.\n",
            "2. Insufficient funding and resources for mental health services, leading to limited access and long wait times for treatment.\n",
            "3. Stigma and discrimination surrounding mental illness, which can prevent individuals from seeking help and accessing appropriate care.\n",
            "4. Inadequate training and education for healthcare professionals in identifying and treating mental health issues.\n",
            "5. Fragmented insurance and payment systems, which can create barriers to accessing comprehensive and continuous mental health care.\n",
            "6. Limited integration of mental health services with other healthcare and social service systems, leading to disjointed and incomplete care for individuals with mental health needs.\n",
            "7. Inequities in access to mental health services based on factors such as race, ethnicity, socioeconomic status, and geographic location.\n",
            "  - expected output: The fragmentation of the current mental health system is caused by having multiple chiefs and separate mental health plans, with no single cohesive plan for the entire state.\n",
            "  - context: None\n",
            "  - retrieval context: None\n",
            "\n",
            "======================================================================\n",
            "\n",
            "Overall Metric Pass Rates\n",
            "\n",
            "Answer Relevancy: 100.00% pass rate\n",
            "\n",
            "======================================================================\n",
            "\n"
          ]
        },
        {
          "output_type": "stream",
          "name": "stderr",
          "text": [
            "\n"
          ]
        },
        {
          "output_type": "display_data",
          "data": {
            "text/plain": [
              "\n",
              "\u001b[38;2;5;245;141m✓\u001b[0m Tests finished 🎉! Run \u001b[1;32m'deepeval login'\u001b[0m to save and analyze evaluation results on Confident AI.\n",
              " \n",
              "✨👀 Looking for a place for your LLM test data to live 🏡❤️ ? Use \u001b[38;2;106;0;255mConfident AI\u001b[0m to get & share testing reports, \n",
              "experiment with models/prompts, and catch regressions for your LLM system. Just run \u001b[36m'deepeval login'\u001b[0m in the CLI. \n",
              "\n"
            ],
            "text/html": [
              "<pre style=\"white-space:pre;overflow-x:auto;line-height:normal;font-family:Menlo,'DejaVu Sans Mono',consolas,'Courier New',monospace\">\n",
              "<span style=\"color: #05f58d; text-decoration-color: #05f58d\">✓</span> Tests finished 🎉! Run <span style=\"color: #008000; text-decoration-color: #008000; font-weight: bold\">'deepeval login'</span> to save and analyze evaluation results on Confident AI.\n",
              " \n",
              "✨👀 Looking for a place for your LLM test data to live 🏡❤️ ? Use <span style=\"color: #6a00ff; text-decoration-color: #6a00ff\">Confident AI</span> to get &amp; share testing reports, \n",
              "experiment with models/prompts, and catch regressions for your LLM system. Just run <span style=\"color: #008080; text-decoration-color: #008080\">'deepeval login'</span> in the CLI. \n",
              "\n",
              "</pre>\n"
            ]
          },
          "metadata": {}
        },
        {
          "output_type": "stream",
          "name": "stdout",
          "text": [
            "LLMTestCase(input='Does the Department of Health oversee the management of this website?', actual_output=\"I'm sorry, I cannot provide real-time information about specific websites. It's best to check the website itself or contact the Department of Health directly for information about their oversight of specific websites.\", expected_output='Yes, the Department of Health and Human Services, State Government of Victoria, Australia manages and authorizes the website.', context=None, retrieval_context=None, additional_metadata=None, comments=None, tools_called=None, expected_tools=None, token_cost=None, completion_time=None, name=None)\n"
          ]
        },
        {
          "output_type": "display_data",
          "data": {
            "text/plain": [
              "✨ You're running DeepEval's latest \u001b[38;2;106;0;255mAnswer Relevancy Metric\u001b[0m! \u001b[1;38;2;55;65;81m(\u001b[0m\u001b[38;2;55;65;81musing gpt-4o, \u001b[0m\u001b[38;2;55;65;81mstrict\u001b[0m\u001b[38;2;55;65;81m=\u001b[0m\u001b[3;38;2;55;65;81mFalse\u001b[0m\u001b[38;2;55;65;81m, \u001b[0m\u001b[38;2;55;65;81masync_mode\u001b[0m\u001b[38;2;55;65;81m=\u001b[0m\u001b[3;38;2;55;65;81mTrue\u001b[0m\u001b[1;38;2;55;65;81m)\u001b[0m\u001b[38;2;55;65;81m...\u001b[0m\n"
            ],
            "text/html": [
              "<pre style=\"white-space:pre;overflow-x:auto;line-height:normal;font-family:Menlo,'DejaVu Sans Mono',consolas,'Courier New',monospace\">✨ You're running DeepEval's latest <span style=\"color: #6a00ff; text-decoration-color: #6a00ff\">Answer Relevancy Metric</span>! <span style=\"color: #374151; text-decoration-color: #374151; font-weight: bold\">(</span><span style=\"color: #374151; text-decoration-color: #374151\">using gpt-4o, </span><span style=\"color: #374151; text-decoration-color: #374151\">strict</span><span style=\"color: #374151; text-decoration-color: #374151\">=</span><span style=\"color: #374151; text-decoration-color: #374151; font-style: italic\">False</span><span style=\"color: #374151; text-decoration-color: #374151\">, </span><span style=\"color: #374151; text-decoration-color: #374151\">async_mode</span><span style=\"color: #374151; text-decoration-color: #374151\">=</span><span style=\"color: #374151; text-decoration-color: #374151; font-style: italic\">True</span><span style=\"color: #374151; text-decoration-color: #374151; font-weight: bold\">)</span><span style=\"color: #374151; text-decoration-color: #374151\">...</span>\n",
              "</pre>\n"
            ]
          },
          "metadata": {}
        },
        {
          "output_type": "stream",
          "name": "stderr",
          "text": [
            "Evaluating 1 test case(s) in parallel: |██████████|100% (1/1) [Time Taken: 00:06,  6.29s/test case]"
          ]
        },
        {
          "output_type": "stream",
          "name": "stdout",
          "text": [
            "\n",
            "======================================================================\n",
            "\n",
            "Metrics Summary\n",
            "\n",
            "  - ❌ Answer Relevancy (score: 0.5, threshold: 0.7, strict: False, evaluation model: gpt-4o, reason: The score is 0.50 because while the response partially addresses the question, it includes irrelevant suggestions that do not directly confirm or deny the Department of Health's role in managing the website. This lack of direct relevance prevents a higher score., error: None)\n",
            "\n",
            "For test case:\n",
            "\n",
            "  - input: Does the Department of Health oversee the management of this website?\n",
            "  - actual output: I'm sorry, I cannot provide real-time information about specific websites. It's best to check the website itself or contact the Department of Health directly for information about their oversight of specific websites.\n",
            "  - expected output: Yes, the Department of Health and Human Services, State Government of Victoria, Australia manages and authorizes the website.\n",
            "  - context: None\n",
            "  - retrieval context: None\n",
            "\n",
            "======================================================================\n",
            "\n",
            "Overall Metric Pass Rates\n",
            "\n",
            "Answer Relevancy: 0.00% pass rate\n",
            "\n",
            "======================================================================\n",
            "\n"
          ]
        },
        {
          "output_type": "stream",
          "name": "stderr",
          "text": [
            "\n"
          ]
        },
        {
          "output_type": "display_data",
          "data": {
            "text/plain": [
              "\n",
              "\u001b[38;2;5;245;141m✓\u001b[0m Tests finished 🎉! Run \u001b[1;32m'deepeval login'\u001b[0m to save and analyze evaluation results on Confident AI.\n",
              " \n",
              "✨👀 Looking for a place for your LLM test data to live 🏡❤️ ? Use \u001b[38;2;106;0;255mConfident AI\u001b[0m to get & share testing reports, \n",
              "experiment with models/prompts, and catch regressions for your LLM system. Just run \u001b[36m'deepeval login'\u001b[0m in the CLI. \n",
              "\n"
            ],
            "text/html": [
              "<pre style=\"white-space:pre;overflow-x:auto;line-height:normal;font-family:Menlo,'DejaVu Sans Mono',consolas,'Courier New',monospace\">\n",
              "<span style=\"color: #05f58d; text-decoration-color: #05f58d\">✓</span> Tests finished 🎉! Run <span style=\"color: #008000; text-decoration-color: #008000; font-weight: bold\">'deepeval login'</span> to save and analyze evaluation results on Confident AI.\n",
              " \n",
              "✨👀 Looking for a place for your LLM test data to live 🏡❤️ ? Use <span style=\"color: #6a00ff; text-decoration-color: #6a00ff\">Confident AI</span> to get &amp; share testing reports, \n",
              "experiment with models/prompts, and catch regressions for your LLM system. Just run <span style=\"color: #008080; text-decoration-color: #008080\">'deepeval login'</span> in the CLI. \n",
              "\n",
              "</pre>\n"
            ]
          },
          "metadata": {}
        },
        {
          "output_type": "stream",
          "name": "stdout",
          "text": [
            "LLMTestCase(input=\"What is the objective of the Department of Health's funding for MHV Associates and mental health professionals?\", actual_output=\"The objective of the Department of Health's funding for MHV Associates and mental health professionals is to support and improve mental health services and resources for individuals in need. This funding aims to enhance access to mental health care, provide training and support for mental health professionals, and promote mental wellness and recovery for those experiencing mental health challenges. Additionally, the funding may also be used to develop and implement programs and initiatives aimed at addressing mental health disparities and promoting overall mental well-being in communities.\", expected_output=\"The objective of the Department of Health's funding is to provide Trauma Informed Leadership training for MHV Associates and those working in state-funded and community mental health services.\", context=None, retrieval_context=None, additional_metadata=None, comments=None, tools_called=None, expected_tools=None, token_cost=None, completion_time=None, name=None)\n"
          ]
        },
        {
          "output_type": "display_data",
          "data": {
            "text/plain": [
              "✨ You're running DeepEval's latest \u001b[38;2;106;0;255mAnswer Relevancy Metric\u001b[0m! \u001b[1;38;2;55;65;81m(\u001b[0m\u001b[38;2;55;65;81musing gpt-4o, \u001b[0m\u001b[38;2;55;65;81mstrict\u001b[0m\u001b[38;2;55;65;81m=\u001b[0m\u001b[3;38;2;55;65;81mFalse\u001b[0m\u001b[38;2;55;65;81m, \u001b[0m\u001b[38;2;55;65;81masync_mode\u001b[0m\u001b[38;2;55;65;81m=\u001b[0m\u001b[3;38;2;55;65;81mTrue\u001b[0m\u001b[1;38;2;55;65;81m)\u001b[0m\u001b[38;2;55;65;81m...\u001b[0m\n"
            ],
            "text/html": [
              "<pre style=\"white-space:pre;overflow-x:auto;line-height:normal;font-family:Menlo,'DejaVu Sans Mono',consolas,'Courier New',monospace\">✨ You're running DeepEval's latest <span style=\"color: #6a00ff; text-decoration-color: #6a00ff\">Answer Relevancy Metric</span>! <span style=\"color: #374151; text-decoration-color: #374151; font-weight: bold\">(</span><span style=\"color: #374151; text-decoration-color: #374151\">using gpt-4o, </span><span style=\"color: #374151; text-decoration-color: #374151\">strict</span><span style=\"color: #374151; text-decoration-color: #374151\">=</span><span style=\"color: #374151; text-decoration-color: #374151; font-style: italic\">False</span><span style=\"color: #374151; text-decoration-color: #374151\">, </span><span style=\"color: #374151; text-decoration-color: #374151\">async_mode</span><span style=\"color: #374151; text-decoration-color: #374151\">=</span><span style=\"color: #374151; text-decoration-color: #374151; font-style: italic\">True</span><span style=\"color: #374151; text-decoration-color: #374151; font-weight: bold\">)</span><span style=\"color: #374151; text-decoration-color: #374151\">...</span>\n",
              "</pre>\n"
            ]
          },
          "metadata": {}
        },
        {
          "output_type": "stream",
          "name": "stderr",
          "text": [
            "Evaluating 1 test case(s) in parallel: |██████████|100% (1/1) [Time Taken: 00:05,  5.46s/test case]"
          ]
        },
        {
          "output_type": "stream",
          "name": "stdout",
          "text": [
            "\n",
            "======================================================================\n",
            "\n",
            "Metrics Summary\n",
            "\n",
            "  - ✅ Answer Relevancy (score: 1.0, threshold: 0.7, strict: False, evaluation model: gpt-4o, reason: The score is 1.00 because the response perfectly addressed the objective of the Department of Health's funding for MHV Associates and mental health professionals without any irrelevant statements. Great job on staying focused and relevant!, error: None)\n",
            "\n",
            "For test case:\n",
            "\n",
            "  - input: What is the objective of the Department of Health's funding for MHV Associates and mental health professionals?\n",
            "  - actual output: The objective of the Department of Health's funding for MHV Associates and mental health professionals is to support and improve mental health services and resources for individuals in need. This funding aims to enhance access to mental health care, provide training and support for mental health professionals, and promote mental wellness and recovery for those experiencing mental health challenges. Additionally, the funding may also be used to develop and implement programs and initiatives aimed at addressing mental health disparities and promoting overall mental well-being in communities.\n",
            "  - expected output: The objective of the Department of Health's funding is to provide Trauma Informed Leadership training for MHV Associates and those working in state-funded and community mental health services.\n",
            "  - context: None\n",
            "  - retrieval context: None\n",
            "\n",
            "======================================================================\n",
            "\n",
            "Overall Metric Pass Rates\n",
            "\n",
            "Answer Relevancy: 100.00% pass rate\n",
            "\n",
            "======================================================================\n",
            "\n"
          ]
        },
        {
          "output_type": "stream",
          "name": "stderr",
          "text": [
            "\n"
          ]
        },
        {
          "output_type": "display_data",
          "data": {
            "text/plain": [
              "\n",
              "\u001b[38;2;5;245;141m✓\u001b[0m Tests finished 🎉! Run \u001b[1;32m'deepeval login'\u001b[0m to save and analyze evaluation results on Confident AI.\n",
              " \n",
              "✨👀 Looking for a place for your LLM test data to live 🏡❤️ ? Use \u001b[38;2;106;0;255mConfident AI\u001b[0m to get & share testing reports, \n",
              "experiment with models/prompts, and catch regressions for your LLM system. Just run \u001b[36m'deepeval login'\u001b[0m in the CLI. \n",
              "\n"
            ],
            "text/html": [
              "<pre style=\"white-space:pre;overflow-x:auto;line-height:normal;font-family:Menlo,'DejaVu Sans Mono',consolas,'Courier New',monospace\">\n",
              "<span style=\"color: #05f58d; text-decoration-color: #05f58d\">✓</span> Tests finished 🎉! Run <span style=\"color: #008000; text-decoration-color: #008000; font-weight: bold\">'deepeval login'</span> to save and analyze evaluation results on Confident AI.\n",
              " \n",
              "✨👀 Looking for a place for your LLM test data to live 🏡❤️ ? Use <span style=\"color: #6a00ff; text-decoration-color: #6a00ff\">Confident AI</span> to get &amp; share testing reports, \n",
              "experiment with models/prompts, and catch regressions for your LLM system. Just run <span style=\"color: #008080; text-decoration-color: #008080\">'deepeval login'</span> in the CLI. \n",
              "\n",
              "</pre>\n"
            ]
          },
          "metadata": {}
        },
        {
          "output_type": "stream",
          "name": "stdout",
          "text": [
            "LLMTestCase(input='What factors contribute to the increased mental illness and distress rates among LGBTIQA+ Australians compared to their peers?', actual_output='There are several factors that contribute to the increased mental illness and distress rates among LGBTIQA+ Australians compared to their peers, including:\\n\\n1. Discrimination and stigma: LGBTIQA+ individuals often face discrimination and stigma in various aspects of their lives, including at school, work, and within their communities. This can lead to feelings of rejection, isolation, and low self-esteem, which can contribute to mental health issues.\\n\\n2. Minority stress: LGBTIQA+ individuals may experience minority stress, which is the chronic stress that comes from being a member of a marginalized group. This can lead to higher rates of anxiety, depression, and other mental health issues.\\n\\n3. Bullying and harassment: LGBTIQA+ individuals are more likely to experience bullying and harassment, both in person and online, which can have a significant impact on their mental health.\\n\\n4. Lack of support: Many LGBTIQA+ individuals may not have access to supportive and affirming environments, including within their families, schools, and workplaces. This lack of support can contribute to feelings of loneliness and distress.\\n\\n5. Internalized stigma: LGBTIQA+ individuals may internalize negative attitudes and beliefs about their sexual orientation or gender identity, which can lead to feelings of shame and self-hatred.\\n\\n6. Access barriers to healthcare: LGBTIQA+ individuals may face barriers to accessing healthcare, including discrimination from healthcare providers and a lack of culturally competent care, which can impact their mental health.\\n\\n7. Intersectional discrimination: LGBTIQA+ individuals who also belong to other marginalized groups, such as people of color or people with disabilities, may face compounded discrimination and stigma, which can further impact their mental health.\\n\\nIt is important to address these factors and work towards creating more inclusive and supportive environments for LGBTIQA+ individuals to improve their mental health and well-being.', expected_output='The increased rates of mental illness and distress among LGBTIQA+ Australians are often due to stigma, discrimination, and abuse based on their sexual orientation and gender identity. This can result in higher levels of mental illness and distress compared to their peers.', context=None, retrieval_context=None, additional_metadata=None, comments=None, tools_called=None, expected_tools=None, token_cost=None, completion_time=None, name=None)\n"
          ]
        },
        {
          "output_type": "display_data",
          "data": {
            "text/plain": [
              "✨ You're running DeepEval's latest \u001b[38;2;106;0;255mAnswer Relevancy Metric\u001b[0m! \u001b[1;38;2;55;65;81m(\u001b[0m\u001b[38;2;55;65;81musing gpt-4o, \u001b[0m\u001b[38;2;55;65;81mstrict\u001b[0m\u001b[38;2;55;65;81m=\u001b[0m\u001b[3;38;2;55;65;81mFalse\u001b[0m\u001b[38;2;55;65;81m, \u001b[0m\u001b[38;2;55;65;81masync_mode\u001b[0m\u001b[38;2;55;65;81m=\u001b[0m\u001b[3;38;2;55;65;81mTrue\u001b[0m\u001b[1;38;2;55;65;81m)\u001b[0m\u001b[38;2;55;65;81m...\u001b[0m\n"
            ],
            "text/html": [
              "<pre style=\"white-space:pre;overflow-x:auto;line-height:normal;font-family:Menlo,'DejaVu Sans Mono',consolas,'Courier New',monospace\">✨ You're running DeepEval's latest <span style=\"color: #6a00ff; text-decoration-color: #6a00ff\">Answer Relevancy Metric</span>! <span style=\"color: #374151; text-decoration-color: #374151; font-weight: bold\">(</span><span style=\"color: #374151; text-decoration-color: #374151\">using gpt-4o, </span><span style=\"color: #374151; text-decoration-color: #374151\">strict</span><span style=\"color: #374151; text-decoration-color: #374151\">=</span><span style=\"color: #374151; text-decoration-color: #374151; font-style: italic\">False</span><span style=\"color: #374151; text-decoration-color: #374151\">, </span><span style=\"color: #374151; text-decoration-color: #374151\">async_mode</span><span style=\"color: #374151; text-decoration-color: #374151\">=</span><span style=\"color: #374151; text-decoration-color: #374151; font-style: italic\">True</span><span style=\"color: #374151; text-decoration-color: #374151; font-weight: bold\">)</span><span style=\"color: #374151; text-decoration-color: #374151\">...</span>\n",
              "</pre>\n"
            ]
          },
          "metadata": {}
        },
        {
          "output_type": "stream",
          "name": "stderr",
          "text": [
            "Evaluating 1 test case(s) in parallel: |██████████|100% (1/1) [Time Taken: 00:13, 13.23s/test case]"
          ]
        },
        {
          "output_type": "stream",
          "name": "stdout",
          "text": [
            "\n",
            "======================================================================\n",
            "\n",
            "Metrics Summary\n",
            "\n",
            "  - ✅ Answer Relevancy (score: 1.0, threshold: 0.7, strict: False, evaluation model: gpt-4o, reason: The score is 1.00 because the response perfectly addressed the factors contributing to increased mental illness and distress rates among LGBTIQA+ Australians without any irrelevant statements. Great job on staying focused and relevant!, error: None)\n",
            "\n",
            "For test case:\n",
            "\n",
            "  - input: What factors contribute to the increased mental illness and distress rates among LGBTIQA+ Australians compared to their peers?\n",
            "  - actual output: There are several factors that contribute to the increased mental illness and distress rates among LGBTIQA+ Australians compared to their peers, including:\n",
            "\n",
            "1. Discrimination and stigma: LGBTIQA+ individuals often face discrimination and stigma in various aspects of their lives, including at school, work, and within their communities. This can lead to feelings of rejection, isolation, and low self-esteem, which can contribute to mental health issues.\n",
            "\n",
            "2. Minority stress: LGBTIQA+ individuals may experience minority stress, which is the chronic stress that comes from being a member of a marginalized group. This can lead to higher rates of anxiety, depression, and other mental health issues.\n",
            "\n",
            "3. Bullying and harassment: LGBTIQA+ individuals are more likely to experience bullying and harassment, both in person and online, which can have a significant impact on their mental health.\n",
            "\n",
            "4. Lack of support: Many LGBTIQA+ individuals may not have access to supportive and affirming environments, including within their families, schools, and workplaces. This lack of support can contribute to feelings of loneliness and distress.\n",
            "\n",
            "5. Internalized stigma: LGBTIQA+ individuals may internalize negative attitudes and beliefs about their sexual orientation or gender identity, which can lead to feelings of shame and self-hatred.\n",
            "\n",
            "6. Access barriers to healthcare: LGBTIQA+ individuals may face barriers to accessing healthcare, including discrimination from healthcare providers and a lack of culturally competent care, which can impact their mental health.\n",
            "\n",
            "7. Intersectional discrimination: LGBTIQA+ individuals who also belong to other marginalized groups, such as people of color or people with disabilities, may face compounded discrimination and stigma, which can further impact their mental health.\n",
            "\n",
            "It is important to address these factors and work towards creating more inclusive and supportive environments for LGBTIQA+ individuals to improve their mental health and well-being.\n",
            "  - expected output: The increased rates of mental illness and distress among LGBTIQA+ Australians are often due to stigma, discrimination, and abuse based on their sexual orientation and gender identity. This can result in higher levels of mental illness and distress compared to their peers.\n",
            "  - context: None\n",
            "  - retrieval context: None\n",
            "\n",
            "======================================================================\n",
            "\n",
            "Overall Metric Pass Rates\n",
            "\n",
            "Answer Relevancy: 100.00% pass rate\n",
            "\n",
            "======================================================================\n",
            "\n"
          ]
        },
        {
          "output_type": "stream",
          "name": "stderr",
          "text": [
            "\n"
          ]
        },
        {
          "output_type": "display_data",
          "data": {
            "text/plain": [
              "\n",
              "\u001b[38;2;5;245;141m✓\u001b[0m Tests finished 🎉! Run \u001b[1;32m'deepeval login'\u001b[0m to save and analyze evaluation results on Confident AI.\n",
              " \n",
              "✨👀 Looking for a place for your LLM test data to live 🏡❤️ ? Use \u001b[38;2;106;0;255mConfident AI\u001b[0m to get & share testing reports, \n",
              "experiment with models/prompts, and catch regressions for your LLM system. Just run \u001b[36m'deepeval login'\u001b[0m in the CLI. \n",
              "\n"
            ],
            "text/html": [
              "<pre style=\"white-space:pre;overflow-x:auto;line-height:normal;font-family:Menlo,'DejaVu Sans Mono',consolas,'Courier New',monospace\">\n",
              "<span style=\"color: #05f58d; text-decoration-color: #05f58d\">✓</span> Tests finished 🎉! Run <span style=\"color: #008000; text-decoration-color: #008000; font-weight: bold\">'deepeval login'</span> to save and analyze evaluation results on Confident AI.\n",
              " \n",
              "✨👀 Looking for a place for your LLM test data to live 🏡❤️ ? Use <span style=\"color: #6a00ff; text-decoration-color: #6a00ff\">Confident AI</span> to get &amp; share testing reports, \n",
              "experiment with models/prompts, and catch regressions for your LLM system. Just run <span style=\"color: #008080; text-decoration-color: #008080\">'deepeval login'</span> in the CLI. \n",
              "\n",
              "</pre>\n"
            ]
          },
          "metadata": {}
        },
        {
          "output_type": "stream",
          "name": "stdout",
          "text": [
            "LLMTestCase(input='What specific strategies can be implemented to enhance the effectiveness of the current practices in soliciting diverse viewpoints and experiences?', actual_output='1. Actively seek out diverse perspectives: Actively reach out to individuals from different backgrounds and experiences to ensure that a wide range of viewpoints are represented in decision-making processes.\\n\\n2. Create a safe and inclusive environment: Foster an environment where individuals feel comfortable sharing their perspectives without fear of judgment or discrimination. This can be achieved through training, open communication, and promoting a culture of respect and inclusion.\\n\\n3. Use diverse communication channels: Utilize a variety of communication channels, such as surveys, focus groups, and one-on-one meetings, to gather input from a diverse range of individuals.\\n\\n4. Provide training and education: Offer training and education on diversity and inclusion to help individuals understand the importance of diverse perspectives and how to effectively solicit and incorporate them into decision-making processes.\\n\\n5. Establish diverse advisory groups: Create advisory groups or committees that are representative of diverse backgrounds and experiences to provide input and guidance on important decisions.\\n\\n6. Set diversity goals: Set specific goals for soliciting diverse viewpoints and experiences, and regularly track and report on progress towards these goals.\\n\\n7. Incorporate diversity into performance evaluations: Consider incorporating the solicitation and incorporation of diverse viewpoints and experiences into performance evaluations to incentivize individuals to actively seek out and incorporate diverse perspectives.\\n\\n8. Regularly review and update practices: Continuously review and update solicitation practices to ensure they are effective in capturing diverse viewpoints and experiences. This may involve seeking feedback from individuals on their experiences with the solicitation process and making adjustments as needed.', expected_output='One specific strategy could be to actively seek out and include individuals from a variety of backgrounds and perspectives in decision-making processes, in order to ensure diverse viewpoints are considered. This can help improve the effectiveness of soliciting diverse viewpoints and experiences.', context=None, retrieval_context=None, additional_metadata=None, comments=None, tools_called=None, expected_tools=None, token_cost=None, completion_time=None, name=None)\n"
          ]
        },
        {
          "output_type": "display_data",
          "data": {
            "text/plain": [
              "✨ You're running DeepEval's latest \u001b[38;2;106;0;255mAnswer Relevancy Metric\u001b[0m! \u001b[1;38;2;55;65;81m(\u001b[0m\u001b[38;2;55;65;81musing gpt-4o, \u001b[0m\u001b[38;2;55;65;81mstrict\u001b[0m\u001b[38;2;55;65;81m=\u001b[0m\u001b[3;38;2;55;65;81mFalse\u001b[0m\u001b[38;2;55;65;81m, \u001b[0m\u001b[38;2;55;65;81masync_mode\u001b[0m\u001b[38;2;55;65;81m=\u001b[0m\u001b[3;38;2;55;65;81mTrue\u001b[0m\u001b[1;38;2;55;65;81m)\u001b[0m\u001b[38;2;55;65;81m...\u001b[0m\n"
            ],
            "text/html": [
              "<pre style=\"white-space:pre;overflow-x:auto;line-height:normal;font-family:Menlo,'DejaVu Sans Mono',consolas,'Courier New',monospace\">✨ You're running DeepEval's latest <span style=\"color: #6a00ff; text-decoration-color: #6a00ff\">Answer Relevancy Metric</span>! <span style=\"color: #374151; text-decoration-color: #374151; font-weight: bold\">(</span><span style=\"color: #374151; text-decoration-color: #374151\">using gpt-4o, </span><span style=\"color: #374151; text-decoration-color: #374151\">strict</span><span style=\"color: #374151; text-decoration-color: #374151\">=</span><span style=\"color: #374151; text-decoration-color: #374151; font-style: italic\">False</span><span style=\"color: #374151; text-decoration-color: #374151\">, </span><span style=\"color: #374151; text-decoration-color: #374151\">async_mode</span><span style=\"color: #374151; text-decoration-color: #374151\">=</span><span style=\"color: #374151; text-decoration-color: #374151; font-style: italic\">True</span><span style=\"color: #374151; text-decoration-color: #374151; font-weight: bold\">)</span><span style=\"color: #374151; text-decoration-color: #374151\">...</span>\n",
              "</pre>\n"
            ]
          },
          "metadata": {}
        },
        {
          "output_type": "stream",
          "name": "stderr",
          "text": [
            "Evaluating 1 test case(s) in parallel: |██████████|100% (1/1) [Time Taken: 00:07,  7.69s/test case]"
          ]
        },
        {
          "output_type": "stream",
          "name": "stdout",
          "text": [
            "\n",
            "======================================================================\n",
            "\n",
            "Metrics Summary\n",
            "\n",
            "  - ✅ Answer Relevancy (score: 1.0, threshold: 0.7, strict: False, evaluation model: gpt-4o, reason: The score is 1.00 because the response perfectly aligns with the input, providing relevant strategies to enhance the effectiveness of current practices in soliciting diverse viewpoints and experiences. There are no irrelevant statements, showcasing a clear and focused answer., error: None)\n",
            "\n",
            "For test case:\n",
            "\n",
            "  - input: What specific strategies can be implemented to enhance the effectiveness of the current practices in soliciting diverse viewpoints and experiences?\n",
            "  - actual output: 1. Actively seek out diverse perspectives: Actively reach out to individuals from different backgrounds and experiences to ensure that a wide range of viewpoints are represented in decision-making processes.\n",
            "\n",
            "2. Create a safe and inclusive environment: Foster an environment where individuals feel comfortable sharing their perspectives without fear of judgment or discrimination. This can be achieved through training, open communication, and promoting a culture of respect and inclusion.\n",
            "\n",
            "3. Use diverse communication channels: Utilize a variety of communication channels, such as surveys, focus groups, and one-on-one meetings, to gather input from a diverse range of individuals.\n",
            "\n",
            "4. Provide training and education: Offer training and education on diversity and inclusion to help individuals understand the importance of diverse perspectives and how to effectively solicit and incorporate them into decision-making processes.\n",
            "\n",
            "5. Establish diverse advisory groups: Create advisory groups or committees that are representative of diverse backgrounds and experiences to provide input and guidance on important decisions.\n",
            "\n",
            "6. Set diversity goals: Set specific goals for soliciting diverse viewpoints and experiences, and regularly track and report on progress towards these goals.\n",
            "\n",
            "7. Incorporate diversity into performance evaluations: Consider incorporating the solicitation and incorporation of diverse viewpoints and experiences into performance evaluations to incentivize individuals to actively seek out and incorporate diverse perspectives.\n",
            "\n",
            "8. Regularly review and update practices: Continuously review and update solicitation practices to ensure they are effective in capturing diverse viewpoints and experiences. This may involve seeking feedback from individuals on their experiences with the solicitation process and making adjustments as needed.\n",
            "  - expected output: One specific strategy could be to actively seek out and include individuals from a variety of backgrounds and perspectives in decision-making processes, in order to ensure diverse viewpoints are considered. This can help improve the effectiveness of soliciting diverse viewpoints and experiences.\n",
            "  - context: None\n",
            "  - retrieval context: None\n",
            "\n",
            "======================================================================\n",
            "\n",
            "Overall Metric Pass Rates\n",
            "\n",
            "Answer Relevancy: 100.00% pass rate\n",
            "\n",
            "======================================================================\n",
            "\n"
          ]
        },
        {
          "output_type": "stream",
          "name": "stderr",
          "text": [
            "\n"
          ]
        },
        {
          "output_type": "display_data",
          "data": {
            "text/plain": [
              "\n",
              "\u001b[38;2;5;245;141m✓\u001b[0m Tests finished 🎉! Run \u001b[1;32m'deepeval login'\u001b[0m to save and analyze evaluation results on Confident AI.\n",
              " \n",
              "✨👀 Looking for a place for your LLM test data to live 🏡❤️ ? Use \u001b[38;2;106;0;255mConfident AI\u001b[0m to get & share testing reports, \n",
              "experiment with models/prompts, and catch regressions for your LLM system. Just run \u001b[36m'deepeval login'\u001b[0m in the CLI. \n",
              "\n"
            ],
            "text/html": [
              "<pre style=\"white-space:pre;overflow-x:auto;line-height:normal;font-family:Menlo,'DejaVu Sans Mono',consolas,'Courier New',monospace\">\n",
              "<span style=\"color: #05f58d; text-decoration-color: #05f58d\">✓</span> Tests finished 🎉! Run <span style=\"color: #008000; text-decoration-color: #008000; font-weight: bold\">'deepeval login'</span> to save and analyze evaluation results on Confident AI.\n",
              " \n",
              "✨👀 Looking for a place for your LLM test data to live 🏡❤️ ? Use <span style=\"color: #6a00ff; text-decoration-color: #6a00ff\">Confident AI</span> to get &amp; share testing reports, \n",
              "experiment with models/prompts, and catch regressions for your LLM system. Just run <span style=\"color: #008080; text-decoration-color: #008080\">'deepeval login'</span> in the CLI. \n",
              "\n",
              "</pre>\n"
            ]
          },
          "metadata": {}
        },
        {
          "output_type": "stream",
          "name": "stdout",
          "text": [
            "LLMTestCase(input='\\nExamine the potential impacts of emerging accommodation providers, like hostels, on homelessness services and consider their effects on the wellbeing of multicultural communities.', actual_output='The emergence of new accommodation providers, such as hostels, can have both positive and negative impacts on homelessness services and the wellbeing of multicultural communities.\\n\\nPositive impacts:\\n1. Increased availability of affordable accommodation: Hostels can provide affordable accommodation options for individuals experiencing homelessness, especially those from multicultural communities who may face additional barriers in accessing traditional housing options.\\n\\n2. Support services: Some hostels may offer support services such as counseling, job training, and language classes, which can benefit individuals from multicultural communities who may need additional support in navigating a new country and culture.\\n\\n3. Diverse community integration: Hostels can provide opportunities for individuals from multicultural communities to interact with people from different backgrounds, fostering a sense of community and belonging.\\n\\nNegative impacts:\\n1. Competition for resources: The emergence of hostels may create competition for limited resources and funding for homelessness services, potentially diverting attention and resources away from addressing the root causes of homelessness in multicultural communities.\\n\\n2. Gentrification: The influx of new accommodation providers, including hostels, may contribute to gentrification in certain neighborhoods, leading to the displacement of multicultural communities and exacerbating housing insecurity.\\n\\n3. Lack of culturally sensitive support: Hostels may not always provide culturally sensitive support services, which can negatively impact the wellbeing of individuals from multicultural communities who may require specific cultural and language support.\\n\\nIn conclusion, the emergence of accommodation providers like hostels can have both positive and negative impacts on homelessness services and the wellbeing of multicultural communities. It is important for policymakers and service providers to carefully consider these potential impacts and work towards ensuring that new accommodation options are inclusive, culturally sensitive, and complement existing homelessness services rather than detract from them. Additionally, efforts should be made to address the root causes of homelessness and housing insecurity in multicultural communities to create sustainable solutions.', expected_output='The potential impacts of emerging accommodation providers, like hostels, on homelessness services were discussed by the Council. Dr. Correa-Velez noted that the wellbeing of multicultural communities during the COVID-19 pandemic was affected by immigration policies, lack of supports for students, domestic violence, and stigma. Additionally, the Multicultural Mental Health Working Group was focused on addressing the mental health needs of these groups, including the issue of support for carers. Language barriers were also identified as a concern, as they could undermine service and better health outcomes for migrants and refugees.', context=None, retrieval_context=None, additional_metadata=None, comments=None, tools_called=None, expected_tools=None, token_cost=None, completion_time=None, name=None)\n"
          ]
        },
        {
          "output_type": "display_data",
          "data": {
            "text/plain": [
              "✨ You're running DeepEval's latest \u001b[38;2;106;0;255mAnswer Relevancy Metric\u001b[0m! \u001b[1;38;2;55;65;81m(\u001b[0m\u001b[38;2;55;65;81musing gpt-4o, \u001b[0m\u001b[38;2;55;65;81mstrict\u001b[0m\u001b[38;2;55;65;81m=\u001b[0m\u001b[3;38;2;55;65;81mFalse\u001b[0m\u001b[38;2;55;65;81m, \u001b[0m\u001b[38;2;55;65;81masync_mode\u001b[0m\u001b[38;2;55;65;81m=\u001b[0m\u001b[3;38;2;55;65;81mTrue\u001b[0m\u001b[1;38;2;55;65;81m)\u001b[0m\u001b[38;2;55;65;81m...\u001b[0m\n"
            ],
            "text/html": [
              "<pre style=\"white-space:pre;overflow-x:auto;line-height:normal;font-family:Menlo,'DejaVu Sans Mono',consolas,'Courier New',monospace\">✨ You're running DeepEval's latest <span style=\"color: #6a00ff; text-decoration-color: #6a00ff\">Answer Relevancy Metric</span>! <span style=\"color: #374151; text-decoration-color: #374151; font-weight: bold\">(</span><span style=\"color: #374151; text-decoration-color: #374151\">using gpt-4o, </span><span style=\"color: #374151; text-decoration-color: #374151\">strict</span><span style=\"color: #374151; text-decoration-color: #374151\">=</span><span style=\"color: #374151; text-decoration-color: #374151; font-style: italic\">False</span><span style=\"color: #374151; text-decoration-color: #374151\">, </span><span style=\"color: #374151; text-decoration-color: #374151\">async_mode</span><span style=\"color: #374151; text-decoration-color: #374151\">=</span><span style=\"color: #374151; text-decoration-color: #374151; font-style: italic\">True</span><span style=\"color: #374151; text-decoration-color: #374151; font-weight: bold\">)</span><span style=\"color: #374151; text-decoration-color: #374151\">...</span>\n",
              "</pre>\n"
            ]
          },
          "metadata": {}
        },
        {
          "output_type": "stream",
          "name": "stderr",
          "text": [
            "Evaluating 1 test case(s) in parallel: |██████████|100% (1/1) [Time Taken: 00:07,  7.36s/test case]"
          ]
        },
        {
          "output_type": "stream",
          "name": "stdout",
          "text": [
            "\n",
            "======================================================================\n",
            "\n",
            "Metrics Summary\n",
            "\n",
            "  - ✅ Answer Relevancy (score: 1.0, threshold: 0.7, strict: False, evaluation model: gpt-4o, reason: The score is 1.00 because the response perfectly addresses the potential impacts of emerging accommodation providers on homelessness services and the wellbeing of multicultural communities, without any irrelevant statements. Great job!, error: None)\n",
            "\n",
            "For test case:\n",
            "\n",
            "  - input: \n",
            "Examine the potential impacts of emerging accommodation providers, like hostels, on homelessness services and consider their effects on the wellbeing of multicultural communities.\n",
            "  - actual output: The emergence of new accommodation providers, such as hostels, can have both positive and negative impacts on homelessness services and the wellbeing of multicultural communities.\n",
            "\n",
            "Positive impacts:\n",
            "1. Increased availability of affordable accommodation: Hostels can provide affordable accommodation options for individuals experiencing homelessness, especially those from multicultural communities who may face additional barriers in accessing traditional housing options.\n",
            "\n",
            "2. Support services: Some hostels may offer support services such as counseling, job training, and language classes, which can benefit individuals from multicultural communities who may need additional support in navigating a new country and culture.\n",
            "\n",
            "3. Diverse community integration: Hostels can provide opportunities for individuals from multicultural communities to interact with people from different backgrounds, fostering a sense of community and belonging.\n",
            "\n",
            "Negative impacts:\n",
            "1. Competition for resources: The emergence of hostels may create competition for limited resources and funding for homelessness services, potentially diverting attention and resources away from addressing the root causes of homelessness in multicultural communities.\n",
            "\n",
            "2. Gentrification: The influx of new accommodation providers, including hostels, may contribute to gentrification in certain neighborhoods, leading to the displacement of multicultural communities and exacerbating housing insecurity.\n",
            "\n",
            "3. Lack of culturally sensitive support: Hostels may not always provide culturally sensitive support services, which can negatively impact the wellbeing of individuals from multicultural communities who may require specific cultural and language support.\n",
            "\n",
            "In conclusion, the emergence of accommodation providers like hostels can have both positive and negative impacts on homelessness services and the wellbeing of multicultural communities. It is important for policymakers and service providers to carefully consider these potential impacts and work towards ensuring that new accommodation options are inclusive, culturally sensitive, and complement existing homelessness services rather than detract from them. Additionally, efforts should be made to address the root causes of homelessness and housing insecurity in multicultural communities to create sustainable solutions.\n",
            "  - expected output: The potential impacts of emerging accommodation providers, like hostels, on homelessness services were discussed by the Council. Dr. Correa-Velez noted that the wellbeing of multicultural communities during the COVID-19 pandemic was affected by immigration policies, lack of supports for students, domestic violence, and stigma. Additionally, the Multicultural Mental Health Working Group was focused on addressing the mental health needs of these groups, including the issue of support for carers. Language barriers were also identified as a concern, as they could undermine service and better health outcomes for migrants and refugees.\n",
            "  - context: None\n",
            "  - retrieval context: None\n",
            "\n",
            "======================================================================\n",
            "\n",
            "Overall Metric Pass Rates\n",
            "\n",
            "Answer Relevancy: 100.00% pass rate\n",
            "\n",
            "======================================================================\n",
            "\n"
          ]
        },
        {
          "output_type": "stream",
          "name": "stderr",
          "text": [
            "\n"
          ]
        },
        {
          "output_type": "display_data",
          "data": {
            "text/plain": [
              "\n",
              "\u001b[38;2;5;245;141m✓\u001b[0m Tests finished 🎉! Run \u001b[1;32m'deepeval login'\u001b[0m to save and analyze evaluation results on Confident AI.\n",
              " \n",
              "✨👀 Looking for a place for your LLM test data to live 🏡❤️ ? Use \u001b[38;2;106;0;255mConfident AI\u001b[0m to get & share testing reports, \n",
              "experiment with models/prompts, and catch regressions for your LLM system. Just run \u001b[36m'deepeval login'\u001b[0m in the CLI. \n",
              "\n"
            ],
            "text/html": [
              "<pre style=\"white-space:pre;overflow-x:auto;line-height:normal;font-family:Menlo,'DejaVu Sans Mono',consolas,'Courier New',monospace\">\n",
              "<span style=\"color: #05f58d; text-decoration-color: #05f58d\">✓</span> Tests finished 🎉! Run <span style=\"color: #008000; text-decoration-color: #008000; font-weight: bold\">'deepeval login'</span> to save and analyze evaluation results on Confident AI.\n",
              " \n",
              "✨👀 Looking for a place for your LLM test data to live 🏡❤️ ? Use <span style=\"color: #6a00ff; text-decoration-color: #6a00ff\">Confident AI</span> to get &amp; share testing reports, \n",
              "experiment with models/prompts, and catch regressions for your LLM system. Just run <span style=\"color: #008080; text-decoration-color: #008080\">'deepeval login'</span> in the CLI. \n",
              "\n",
              "</pre>\n"
            ]
          },
          "metadata": {}
        },
        {
          "output_type": "stream",
          "name": "stdout",
          "text": [
            "LLMTestCase(input='Describe the wide-ranging activities and accomplishments of VICSERV during the 2010-2011 period.', actual_output=\"During the 2010-2011 period, VICSERV, the peak body for community managed mental health services in Victoria, Australia, engaged in a wide range of activities and accomplishments. Some of the key highlights include:\\n\\n1. Advocacy and policy development: VICSERV played a leading role in advocating for the rights and needs of people living with mental illness. They actively engaged with government and other stakeholders to influence policy and funding decisions, and to ensure that the voices of consumers and carers were heard.\\n\\n2. Training and workforce development: VICSERV provided a range of training and professional development opportunities for mental health workers, including workshops, seminars, and conferences. They also worked to promote best practice in the sector and to build the capacity of the mental health workforce.\\n\\n3. Consumer and carer support: VICSERV worked to empower consumers and carers by providing information, resources, and support services. They also facilitated peer support groups and other initiatives to help people with lived experience of mental illness to connect with each other and access the support they need.\\n\\n4. Research and innovation: VICSERV supported and promoted research and innovation in the mental health sector. They collaborated with academic institutions and other partners to develop and implement new approaches to service delivery and to improve outcomes for people living with mental illness.\\n\\n5. Community engagement and awareness-raising: VICSERV worked to raise awareness about mental health issues and reduce stigma in the community. They organized events, campaigns, and other initiatives to promote understanding and empathy for people living with mental illness.\\n\\nOverall, VICSERV's activities and accomplishments during the 2010-2011 period were diverse and impactful, and they made a significant contribution to the mental health sector in Victoria.\", expected_output='VICSERV was actively involved in policy advice and sector representation, information sharing and communication, service development, and education and development of the community mental health and community sector workforce. This included establishing advisory groups, participating in meetings with government officials and ministerial advisors, and delivering accredited courses to over 600 students. They also published newparadigm, issued member bulletins, and made numerous submissions to government inquiries.', context=None, retrieval_context=None, additional_metadata=None, comments=None, tools_called=None, expected_tools=None, token_cost=None, completion_time=None, name=None)\n"
          ]
        },
        {
          "output_type": "display_data",
          "data": {
            "text/plain": [
              "✨ You're running DeepEval's latest \u001b[38;2;106;0;255mAnswer Relevancy Metric\u001b[0m! \u001b[1;38;2;55;65;81m(\u001b[0m\u001b[38;2;55;65;81musing gpt-4o, \u001b[0m\u001b[38;2;55;65;81mstrict\u001b[0m\u001b[38;2;55;65;81m=\u001b[0m\u001b[3;38;2;55;65;81mFalse\u001b[0m\u001b[38;2;55;65;81m, \u001b[0m\u001b[38;2;55;65;81masync_mode\u001b[0m\u001b[38;2;55;65;81m=\u001b[0m\u001b[3;38;2;55;65;81mTrue\u001b[0m\u001b[1;38;2;55;65;81m)\u001b[0m\u001b[38;2;55;65;81m...\u001b[0m\n"
            ],
            "text/html": [
              "<pre style=\"white-space:pre;overflow-x:auto;line-height:normal;font-family:Menlo,'DejaVu Sans Mono',consolas,'Courier New',monospace\">✨ You're running DeepEval's latest <span style=\"color: #6a00ff; text-decoration-color: #6a00ff\">Answer Relevancy Metric</span>! <span style=\"color: #374151; text-decoration-color: #374151; font-weight: bold\">(</span><span style=\"color: #374151; text-decoration-color: #374151\">using gpt-4o, </span><span style=\"color: #374151; text-decoration-color: #374151\">strict</span><span style=\"color: #374151; text-decoration-color: #374151\">=</span><span style=\"color: #374151; text-decoration-color: #374151; font-style: italic\">False</span><span style=\"color: #374151; text-decoration-color: #374151\">, </span><span style=\"color: #374151; text-decoration-color: #374151\">async_mode</span><span style=\"color: #374151; text-decoration-color: #374151\">=</span><span style=\"color: #374151; text-decoration-color: #374151; font-style: italic\">True</span><span style=\"color: #374151; text-decoration-color: #374151; font-weight: bold\">)</span><span style=\"color: #374151; text-decoration-color: #374151\">...</span>\n",
              "</pre>\n"
            ]
          },
          "metadata": {}
        },
        {
          "output_type": "stream",
          "name": "stderr",
          "text": [
            "Evaluating 1 test case(s) in parallel: |██████████|100% (1/1) [Time Taken: 00:34, 34.94s/test case]"
          ]
        },
        {
          "output_type": "stream",
          "name": "stdout",
          "text": [
            "\n",
            "======================================================================\n",
            "\n",
            "Metrics Summary\n",
            "\n",
            "  - ✅ Answer Relevancy (score: 1.0, threshold: 0.7, strict: False, evaluation model: gpt-4o, reason: The score is 1.00 because the response perfectly aligns with the input, providing a comprehensive overview of VICSERV's activities and accomplishments during the 2010-2011 period without any irrelevant information. Great job!, error: None)\n",
            "\n",
            "For test case:\n",
            "\n",
            "  - input: Describe the wide-ranging activities and accomplishments of VICSERV during the 2010-2011 period.\n",
            "  - actual output: During the 2010-2011 period, VICSERV, the peak body for community managed mental health services in Victoria, Australia, engaged in a wide range of activities and accomplishments. Some of the key highlights include:\n",
            "\n",
            "1. Advocacy and policy development: VICSERV played a leading role in advocating for the rights and needs of people living with mental illness. They actively engaged with government and other stakeholders to influence policy and funding decisions, and to ensure that the voices of consumers and carers were heard.\n",
            "\n",
            "2. Training and workforce development: VICSERV provided a range of training and professional development opportunities for mental health workers, including workshops, seminars, and conferences. They also worked to promote best practice in the sector and to build the capacity of the mental health workforce.\n",
            "\n",
            "3. Consumer and carer support: VICSERV worked to empower consumers and carers by providing information, resources, and support services. They also facilitated peer support groups and other initiatives to help people with lived experience of mental illness to connect with each other and access the support they need.\n",
            "\n",
            "4. Research and innovation: VICSERV supported and promoted research and innovation in the mental health sector. They collaborated with academic institutions and other partners to develop and implement new approaches to service delivery and to improve outcomes for people living with mental illness.\n",
            "\n",
            "5. Community engagement and awareness-raising: VICSERV worked to raise awareness about mental health issues and reduce stigma in the community. They organized events, campaigns, and other initiatives to promote understanding and empathy for people living with mental illness.\n",
            "\n",
            "Overall, VICSERV's activities and accomplishments during the 2010-2011 period were diverse and impactful, and they made a significant contribution to the mental health sector in Victoria.\n",
            "  - expected output: VICSERV was actively involved in policy advice and sector representation, information sharing and communication, service development, and education and development of the community mental health and community sector workforce. This included establishing advisory groups, participating in meetings with government officials and ministerial advisors, and delivering accredited courses to over 600 students. They also published newparadigm, issued member bulletins, and made numerous submissions to government inquiries.\n",
            "  - context: None\n",
            "  - retrieval context: None\n",
            "\n",
            "======================================================================\n",
            "\n",
            "Overall Metric Pass Rates\n",
            "\n",
            "Answer Relevancy: 100.00% pass rate\n",
            "\n",
            "======================================================================\n",
            "\n"
          ]
        },
        {
          "output_type": "stream",
          "name": "stderr",
          "text": [
            "\n"
          ]
        },
        {
          "output_type": "display_data",
          "data": {
            "text/plain": [
              "\n",
              "\u001b[38;2;5;245;141m✓\u001b[0m Tests finished 🎉! Run \u001b[1;32m'deepeval login'\u001b[0m to save and analyze evaluation results on Confident AI.\n",
              " \n",
              "✨👀 Looking for a place for your LLM test data to live 🏡❤️ ? Use \u001b[38;2;106;0;255mConfident AI\u001b[0m to get & share testing reports, \n",
              "experiment with models/prompts, and catch regressions for your LLM system. Just run \u001b[36m'deepeval login'\u001b[0m in the CLI. \n",
              "\n"
            ],
            "text/html": [
              "<pre style=\"white-space:pre;overflow-x:auto;line-height:normal;font-family:Menlo,'DejaVu Sans Mono',consolas,'Courier New',monospace\">\n",
              "<span style=\"color: #05f58d; text-decoration-color: #05f58d\">✓</span> Tests finished 🎉! Run <span style=\"color: #008000; text-decoration-color: #008000; font-weight: bold\">'deepeval login'</span> to save and analyze evaluation results on Confident AI.\n",
              " \n",
              "✨👀 Looking for a place for your LLM test data to live 🏡❤️ ? Use <span style=\"color: #6a00ff; text-decoration-color: #6a00ff\">Confident AI</span> to get &amp; share testing reports, \n",
              "experiment with models/prompts, and catch regressions for your LLM system. Just run <span style=\"color: #008080; text-decoration-color: #008080\">'deepeval login'</span> in the CLI. \n",
              "\n",
              "</pre>\n"
            ]
          },
          "metadata": {}
        },
        {
          "output_type": "stream",
          "name": "stdout",
          "text": [
            "LLMTestCase(input='Share your experiences and thoughts on potential enhancements in the existing procedures.', actual_output='One potential enhancement in existing procedures could be the implementation of technology to streamline and automate certain tasks. For example, in a business setting, using software to automate repetitive administrative tasks could free up time for employees to focus on more strategic and creative work. This could lead to increased productivity and efficiency.\\n\\nAnother potential enhancement could be the introduction of more flexible work arrangements. With the rise of remote work and flexible scheduling, companies could consider allowing employees to work from home or adjust their hours to better accommodate their personal lives. This could lead to higher job satisfaction and better work-life balance for employees.\\n\\nIn healthcare, an enhancement could be the implementation of telemedicine services to provide more accessible and convenient care for patients. This could be especially beneficial for those in rural or underserved areas who may have difficulty accessing traditional healthcare services.\\n\\nOverall, the key to enhancing existing procedures is to continuously evaluate and adapt to the changing needs and expectations of the people involved, whether they are employees, customers, or patients. By staying open to new ideas and technologies, organizations can improve their processes and ultimately provide better experiences for everyone involved.', expected_output='I believe that more efficient procedures could be put in place. This is important because it can lead to increased productivity and better outcomes.', context=None, retrieval_context=None, additional_metadata=None, comments=None, tools_called=None, expected_tools=None, token_cost=None, completion_time=None, name=None)\n"
          ]
        },
        {
          "output_type": "display_data",
          "data": {
            "text/plain": [
              "✨ You're running DeepEval's latest \u001b[38;2;106;0;255mAnswer Relevancy Metric\u001b[0m! \u001b[1;38;2;55;65;81m(\u001b[0m\u001b[38;2;55;65;81musing gpt-4o, \u001b[0m\u001b[38;2;55;65;81mstrict\u001b[0m\u001b[38;2;55;65;81m=\u001b[0m\u001b[3;38;2;55;65;81mFalse\u001b[0m\u001b[38;2;55;65;81m, \u001b[0m\u001b[38;2;55;65;81masync_mode\u001b[0m\u001b[38;2;55;65;81m=\u001b[0m\u001b[3;38;2;55;65;81mTrue\u001b[0m\u001b[1;38;2;55;65;81m)\u001b[0m\u001b[38;2;55;65;81m...\u001b[0m\n"
            ],
            "text/html": [
              "<pre style=\"white-space:pre;overflow-x:auto;line-height:normal;font-family:Menlo,'DejaVu Sans Mono',consolas,'Courier New',monospace\">✨ You're running DeepEval's latest <span style=\"color: #6a00ff; text-decoration-color: #6a00ff\">Answer Relevancy Metric</span>! <span style=\"color: #374151; text-decoration-color: #374151; font-weight: bold\">(</span><span style=\"color: #374151; text-decoration-color: #374151\">using gpt-4o, </span><span style=\"color: #374151; text-decoration-color: #374151\">strict</span><span style=\"color: #374151; text-decoration-color: #374151\">=</span><span style=\"color: #374151; text-decoration-color: #374151; font-style: italic\">False</span><span style=\"color: #374151; text-decoration-color: #374151\">, </span><span style=\"color: #374151; text-decoration-color: #374151\">async_mode</span><span style=\"color: #374151; text-decoration-color: #374151\">=</span><span style=\"color: #374151; text-decoration-color: #374151; font-style: italic\">True</span><span style=\"color: #374151; text-decoration-color: #374151; font-weight: bold\">)</span><span style=\"color: #374151; text-decoration-color: #374151\">...</span>\n",
              "</pre>\n"
            ]
          },
          "metadata": {}
        },
        {
          "output_type": "stream",
          "name": "stderr",
          "text": [
            "Evaluating 1 test case(s) in parallel: |██████████|100% (1/1) [Time Taken: 00:10, 10.42s/test case]"
          ]
        },
        {
          "output_type": "stream",
          "name": "stdout",
          "text": [
            "\n",
            "======================================================================\n",
            "\n",
            "Metrics Summary\n",
            "\n",
            "  - ✅ Answer Relevancy (score: 1.0, threshold: 0.7, strict: False, evaluation model: gpt-4o, reason: The score is 1.00 because the response perfectly aligns with the input, providing relevant insights and suggestions for enhancing existing procedures without any irrelevant statements. Great job!, error: None)\n",
            "\n",
            "For test case:\n",
            "\n",
            "  - input: Share your experiences and thoughts on potential enhancements in the existing procedures.\n",
            "  - actual output: One potential enhancement in existing procedures could be the implementation of technology to streamline and automate certain tasks. For example, in a business setting, using software to automate repetitive administrative tasks could free up time for employees to focus on more strategic and creative work. This could lead to increased productivity and efficiency.\n",
            "\n",
            "Another potential enhancement could be the introduction of more flexible work arrangements. With the rise of remote work and flexible scheduling, companies could consider allowing employees to work from home or adjust their hours to better accommodate their personal lives. This could lead to higher job satisfaction and better work-life balance for employees.\n",
            "\n",
            "In healthcare, an enhancement could be the implementation of telemedicine services to provide more accessible and convenient care for patients. This could be especially beneficial for those in rural or underserved areas who may have difficulty accessing traditional healthcare services.\n",
            "\n",
            "Overall, the key to enhancing existing procedures is to continuously evaluate and adapt to the changing needs and expectations of the people involved, whether they are employees, customers, or patients. By staying open to new ideas and technologies, organizations can improve their processes and ultimately provide better experiences for everyone involved.\n",
            "  - expected output: I believe that more efficient procedures could be put in place. This is important because it can lead to increased productivity and better outcomes.\n",
            "  - context: None\n",
            "  - retrieval context: None\n",
            "\n",
            "======================================================================\n",
            "\n",
            "Overall Metric Pass Rates\n",
            "\n",
            "Answer Relevancy: 100.00% pass rate\n",
            "\n",
            "======================================================================\n",
            "\n"
          ]
        },
        {
          "output_type": "stream",
          "name": "stderr",
          "text": [
            "\n"
          ]
        },
        {
          "output_type": "display_data",
          "data": {
            "text/plain": [
              "\n",
              "\u001b[38;2;5;245;141m✓\u001b[0m Tests finished 🎉! Run \u001b[1;32m'deepeval login'\u001b[0m to save and analyze evaluation results on Confident AI.\n",
              " \n",
              "✨👀 Looking for a place for your LLM test data to live 🏡❤️ ? Use \u001b[38;2;106;0;255mConfident AI\u001b[0m to get & share testing reports, \n",
              "experiment with models/prompts, and catch regressions for your LLM system. Just run \u001b[36m'deepeval login'\u001b[0m in the CLI. \n",
              "\n"
            ],
            "text/html": [
              "<pre style=\"white-space:pre;overflow-x:auto;line-height:normal;font-family:Menlo,'DejaVu Sans Mono',consolas,'Courier New',monospace\">\n",
              "<span style=\"color: #05f58d; text-decoration-color: #05f58d\">✓</span> Tests finished 🎉! Run <span style=\"color: #008000; text-decoration-color: #008000; font-weight: bold\">'deepeval login'</span> to save and analyze evaluation results on Confident AI.\n",
              " \n",
              "✨👀 Looking for a place for your LLM test data to live 🏡❤️ ? Use <span style=\"color: #6a00ff; text-decoration-color: #6a00ff\">Confident AI</span> to get &amp; share testing reports, \n",
              "experiment with models/prompts, and catch regressions for your LLM system. Just run <span style=\"color: #008080; text-decoration-color: #008080\">'deepeval login'</span> in the CLI. \n",
              "\n",
              "</pre>\n"
            ]
          },
          "metadata": {}
        },
        {
          "output_type": "stream",
          "name": "stdout",
          "text": [
            "LLMTestCase(input='What lack of support for students did Dr. Correa-Velez note during COVID-19, while considering the implications of language barriers in psychiatric diagnoses for migrants and refugees?', actual_output='Dr. Correa-Velez noted that during COVID-19, there was a lack of support for students, particularly those from migrant and refugee backgrounds who faced language barriers. This lack of support could have implications for their mental health, as language barriers may affect the accuracy of psychiatric diagnoses and access to appropriate mental health services.', expected_output='Dr. Correa-Velez noted a lack of supports for students and how language barriers could undermine service and better health outcomes for migrants and refugees, with language proficiency particularly important in psychiatric diagnoses.', context=None, retrieval_context=None, additional_metadata=None, comments=None, tools_called=None, expected_tools=None, token_cost=None, completion_time=None, name=None)\n"
          ]
        },
        {
          "output_type": "display_data",
          "data": {
            "text/plain": [
              "✨ You're running DeepEval's latest \u001b[38;2;106;0;255mAnswer Relevancy Metric\u001b[0m! \u001b[1;38;2;55;65;81m(\u001b[0m\u001b[38;2;55;65;81musing gpt-4o, \u001b[0m\u001b[38;2;55;65;81mstrict\u001b[0m\u001b[38;2;55;65;81m=\u001b[0m\u001b[3;38;2;55;65;81mFalse\u001b[0m\u001b[38;2;55;65;81m, \u001b[0m\u001b[38;2;55;65;81masync_mode\u001b[0m\u001b[38;2;55;65;81m=\u001b[0m\u001b[3;38;2;55;65;81mTrue\u001b[0m\u001b[1;38;2;55;65;81m)\u001b[0m\u001b[38;2;55;65;81m...\u001b[0m\n"
            ],
            "text/html": [
              "<pre style=\"white-space:pre;overflow-x:auto;line-height:normal;font-family:Menlo,'DejaVu Sans Mono',consolas,'Courier New',monospace\">✨ You're running DeepEval's latest <span style=\"color: #6a00ff; text-decoration-color: #6a00ff\">Answer Relevancy Metric</span>! <span style=\"color: #374151; text-decoration-color: #374151; font-weight: bold\">(</span><span style=\"color: #374151; text-decoration-color: #374151\">using gpt-4o, </span><span style=\"color: #374151; text-decoration-color: #374151\">strict</span><span style=\"color: #374151; text-decoration-color: #374151\">=</span><span style=\"color: #374151; text-decoration-color: #374151; font-style: italic\">False</span><span style=\"color: #374151; text-decoration-color: #374151\">, </span><span style=\"color: #374151; text-decoration-color: #374151\">async_mode</span><span style=\"color: #374151; text-decoration-color: #374151\">=</span><span style=\"color: #374151; text-decoration-color: #374151; font-style: italic\">True</span><span style=\"color: #374151; text-decoration-color: #374151; font-weight: bold\">)</span><span style=\"color: #374151; text-decoration-color: #374151\">...</span>\n",
              "</pre>\n"
            ]
          },
          "metadata": {}
        },
        {
          "output_type": "stream",
          "name": "stderr",
          "text": [
            "Evaluating 1 test case(s) in parallel: |██████████|100% (1/1) [Time Taken: 00:05,  5.02s/test case]"
          ]
        },
        {
          "output_type": "stream",
          "name": "stdout",
          "text": [
            "\n",
            "======================================================================\n",
            "\n",
            "Metrics Summary\n",
            "\n",
            "  - ✅ Answer Relevancy (score: 1.0, threshold: 0.7, strict: False, evaluation model: gpt-4o, reason: The score is 1.00 because the response perfectly addressed the question without any irrelevant statements, demonstrating a clear understanding of the topic and maintaining focus on the key issues raised., error: None)\n",
            "\n",
            "For test case:\n",
            "\n",
            "  - input: What lack of support for students did Dr. Correa-Velez note during COVID-19, while considering the implications of language barriers in psychiatric diagnoses for migrants and refugees?\n",
            "  - actual output: Dr. Correa-Velez noted that during COVID-19, there was a lack of support for students, particularly those from migrant and refugee backgrounds who faced language barriers. This lack of support could have implications for their mental health, as language barriers may affect the accuracy of psychiatric diagnoses and access to appropriate mental health services.\n",
            "  - expected output: Dr. Correa-Velez noted a lack of supports for students and how language barriers could undermine service and better health outcomes for migrants and refugees, with language proficiency particularly important in psychiatric diagnoses.\n",
            "  - context: None\n",
            "  - retrieval context: None\n",
            "\n",
            "======================================================================\n",
            "\n",
            "Overall Metric Pass Rates\n",
            "\n",
            "Answer Relevancy: 100.00% pass rate\n",
            "\n",
            "======================================================================\n",
            "\n"
          ]
        },
        {
          "output_type": "stream",
          "name": "stderr",
          "text": [
            "\n"
          ]
        },
        {
          "output_type": "display_data",
          "data": {
            "text/plain": [
              "\n",
              "\u001b[38;2;5;245;141m✓\u001b[0m Tests finished 🎉! Run \u001b[1;32m'deepeval login'\u001b[0m to save and analyze evaluation results on Confident AI.\n",
              " \n",
              "✨👀 Looking for a place for your LLM test data to live 🏡❤️ ? Use \u001b[38;2;106;0;255mConfident AI\u001b[0m to get & share testing reports, \n",
              "experiment with models/prompts, and catch regressions for your LLM system. Just run \u001b[36m'deepeval login'\u001b[0m in the CLI. \n",
              "\n"
            ],
            "text/html": [
              "<pre style=\"white-space:pre;overflow-x:auto;line-height:normal;font-family:Menlo,'DejaVu Sans Mono',consolas,'Courier New',monospace\">\n",
              "<span style=\"color: #05f58d; text-decoration-color: #05f58d\">✓</span> Tests finished 🎉! Run <span style=\"color: #008000; text-decoration-color: #008000; font-weight: bold\">'deepeval login'</span> to save and analyze evaluation results on Confident AI.\n",
              " \n",
              "✨👀 Looking for a place for your LLM test data to live 🏡❤️ ? Use <span style=\"color: #6a00ff; text-decoration-color: #6a00ff\">Confident AI</span> to get &amp; share testing reports, \n",
              "experiment with models/prompts, and catch regressions for your LLM system. Just run <span style=\"color: #008080; text-decoration-color: #008080\">'deepeval login'</span> in the CLI. \n",
              "\n",
              "</pre>\n"
            ]
          },
          "metadata": {}
        },
        {
          "output_type": "stream",
          "name": "stdout",
          "text": [
            "LLMTestCase(input='Imagine a year where VICSERV facilitated consultations, represented sector issues, and provided workplace consultations to enhance mental health services.', actual_output=\"In this hypothetical year, VICSERV, as a leading mental health advocacy organization, played a crucial role in facilitating consultations with various stakeholders in the mental health sector. These consultations aimed to gather input and feedback from individuals with lived experience, mental health professionals, and community organizations to better understand the current challenges and needs within the mental health system.\\n\\nAdditionally, VICSERV actively represented sector issues at various forums, including government meetings, policy discussions, and public events. By advocating for improved mental health services and resources, VICSERV worked to ensure that the voices of those affected by mental illness were heard and considered in decision-making processes.\\n\\nFurthermore, VICSERV provided workplace consultations to support organizations in enhancing their mental health services. This involved offering guidance on best practices, training programs, and resources to create mentally healthy work environments and support the well-being of employees.\\n\\nOverall, VICSERV's efforts in facilitating consultations, representing sector issues, and providing workplace consultations contributed to the advancement of mental health services and the overall well-being of individuals living with mental illness in the community.\", expected_output='VICSERV had a productive year facilitating consultations, representing sector issues, and providing workplace consultations to enhance mental health services. The Policy Advisory Group was established to provide strategic advice for future endeavors.', context=None, retrieval_context=None, additional_metadata=None, comments=None, tools_called=None, expected_tools=None, token_cost=None, completion_time=None, name=None)\n"
          ]
        },
        {
          "output_type": "display_data",
          "data": {
            "text/plain": [
              "✨ You're running DeepEval's latest \u001b[38;2;106;0;255mAnswer Relevancy Metric\u001b[0m! \u001b[1;38;2;55;65;81m(\u001b[0m\u001b[38;2;55;65;81musing gpt-4o, \u001b[0m\u001b[38;2;55;65;81mstrict\u001b[0m\u001b[38;2;55;65;81m=\u001b[0m\u001b[3;38;2;55;65;81mFalse\u001b[0m\u001b[38;2;55;65;81m, \u001b[0m\u001b[38;2;55;65;81masync_mode\u001b[0m\u001b[38;2;55;65;81m=\u001b[0m\u001b[3;38;2;55;65;81mTrue\u001b[0m\u001b[1;38;2;55;65;81m)\u001b[0m\u001b[38;2;55;65;81m...\u001b[0m\n"
            ],
            "text/html": [
              "<pre style=\"white-space:pre;overflow-x:auto;line-height:normal;font-family:Menlo,'DejaVu Sans Mono',consolas,'Courier New',monospace\">✨ You're running DeepEval's latest <span style=\"color: #6a00ff; text-decoration-color: #6a00ff\">Answer Relevancy Metric</span>! <span style=\"color: #374151; text-decoration-color: #374151; font-weight: bold\">(</span><span style=\"color: #374151; text-decoration-color: #374151\">using gpt-4o, </span><span style=\"color: #374151; text-decoration-color: #374151\">strict</span><span style=\"color: #374151; text-decoration-color: #374151\">=</span><span style=\"color: #374151; text-decoration-color: #374151; font-style: italic\">False</span><span style=\"color: #374151; text-decoration-color: #374151\">, </span><span style=\"color: #374151; text-decoration-color: #374151\">async_mode</span><span style=\"color: #374151; text-decoration-color: #374151\">=</span><span style=\"color: #374151; text-decoration-color: #374151; font-style: italic\">True</span><span style=\"color: #374151; text-decoration-color: #374151; font-weight: bold\">)</span><span style=\"color: #374151; text-decoration-color: #374151\">...</span>\n",
              "</pre>\n"
            ]
          },
          "metadata": {}
        },
        {
          "output_type": "stream",
          "name": "stderr",
          "text": [
            "Evaluating 1 test case(s) in parallel: |██████████|100% (1/1) [Time Taken: 00:07,  7.42s/test case]"
          ]
        },
        {
          "output_type": "stream",
          "name": "stdout",
          "text": [
            "\n",
            "======================================================================\n",
            "\n",
            "Metrics Summary\n",
            "\n",
            "  - ✅ Answer Relevancy (score: 1.0, threshold: 0.7, strict: False, evaluation model: gpt-4o, reason: The score is 1.00 because the output perfectly aligns with the input, addressing all aspects without any irrelevant statements. Great job on maintaining focus and relevance!, error: None)\n",
            "\n",
            "For test case:\n",
            "\n",
            "  - input: Imagine a year where VICSERV facilitated consultations, represented sector issues, and provided workplace consultations to enhance mental health services.\n",
            "  - actual output: In this hypothetical year, VICSERV, as a leading mental health advocacy organization, played a crucial role in facilitating consultations with various stakeholders in the mental health sector. These consultations aimed to gather input and feedback from individuals with lived experience, mental health professionals, and community organizations to better understand the current challenges and needs within the mental health system.\n",
            "\n",
            "Additionally, VICSERV actively represented sector issues at various forums, including government meetings, policy discussions, and public events. By advocating for improved mental health services and resources, VICSERV worked to ensure that the voices of those affected by mental illness were heard and considered in decision-making processes.\n",
            "\n",
            "Furthermore, VICSERV provided workplace consultations to support organizations in enhancing their mental health services. This involved offering guidance on best practices, training programs, and resources to create mentally healthy work environments and support the well-being of employees.\n",
            "\n",
            "Overall, VICSERV's efforts in facilitating consultations, representing sector issues, and providing workplace consultations contributed to the advancement of mental health services and the overall well-being of individuals living with mental illness in the community.\n",
            "  - expected output: VICSERV had a productive year facilitating consultations, representing sector issues, and providing workplace consultations to enhance mental health services. The Policy Advisory Group was established to provide strategic advice for future endeavors.\n",
            "  - context: None\n",
            "  - retrieval context: None\n",
            "\n",
            "======================================================================\n",
            "\n",
            "Overall Metric Pass Rates\n",
            "\n",
            "Answer Relevancy: 100.00% pass rate\n",
            "\n",
            "======================================================================\n",
            "\n"
          ]
        },
        {
          "output_type": "stream",
          "name": "stderr",
          "text": [
            "\n"
          ]
        },
        {
          "output_type": "display_data",
          "data": {
            "text/plain": [
              "\n",
              "\u001b[38;2;5;245;141m✓\u001b[0m Tests finished 🎉! Run \u001b[1;32m'deepeval login'\u001b[0m to save and analyze evaluation results on Confident AI.\n",
              " \n",
              "✨👀 Looking for a place for your LLM test data to live 🏡❤️ ? Use \u001b[38;2;106;0;255mConfident AI\u001b[0m to get & share testing reports, \n",
              "experiment with models/prompts, and catch regressions for your LLM system. Just run \u001b[36m'deepeval login'\u001b[0m in the CLI. \n",
              "\n"
            ],
            "text/html": [
              "<pre style=\"white-space:pre;overflow-x:auto;line-height:normal;font-family:Menlo,'DejaVu Sans Mono',consolas,'Courier New',monospace\">\n",
              "<span style=\"color: #05f58d; text-decoration-color: #05f58d\">✓</span> Tests finished 🎉! Run <span style=\"color: #008000; text-decoration-color: #008000; font-weight: bold\">'deepeval login'</span> to save and analyze evaluation results on Confident AI.\n",
              " \n",
              "✨👀 Looking for a place for your LLM test data to live 🏡❤️ ? Use <span style=\"color: #6a00ff; text-decoration-color: #6a00ff\">Confident AI</span> to get &amp; share testing reports, \n",
              "experiment with models/prompts, and catch regressions for your LLM system. Just run <span style=\"color: #008080; text-decoration-color: #008080\">'deepeval login'</span> in the CLI. \n",
              "\n",
              "</pre>\n"
            ]
          },
          "metadata": {}
        }
      ]
    },
    {
      "cell_type": "code",
      "source": [
        "# Evaluate end-to-end\n",
        "evaluate(test_cases=test_cases, metrics=[AnswerRelevancyMetric()])\n"
      ],
      "metadata": {
        "colab": {
          "base_uri": "https://localhost:8080/",
          "height": 469
        },
        "id": "t6hfFyN5Tbvv",
        "outputId": "6a4c1c2b-a168-4b10-9658-20089ae9916f"
      },
      "execution_count": 35,
      "outputs": [
        {
          "output_type": "error",
          "ename": "ValueError",
          "evalue": "You cannot supply a mixture of `LLMTestCase`/`MLLMTestCase`(s) and `ConversationalTestCase`(s) as the list of test cases.",
          "traceback": [
            "\u001b[0;31m---------------------------------------------------------------------------\u001b[0m",
            "\u001b[0;31mValueError\u001b[0m                                Traceback (most recent call last)",
            "\u001b[0;32m<ipython-input-35-8924f208a462>\u001b[0m in \u001b[0;36m<cell line: 0>\u001b[0;34m()\u001b[0m\n\u001b[1;32m      1\u001b[0m \u001b[0;31m# Evaluate end-to-end\u001b[0m\u001b[0;34m\u001b[0m\u001b[0;34m\u001b[0m\u001b[0m\n\u001b[0;32m----> 2\u001b[0;31m \u001b[0mevaluate\u001b[0m\u001b[0;34m(\u001b[0m\u001b[0mtest_cases\u001b[0m\u001b[0;34m=\u001b[0m\u001b[0mtest_cases\u001b[0m\u001b[0;34m,\u001b[0m \u001b[0mmetrics\u001b[0m\u001b[0;34m=\u001b[0m\u001b[0;34m[\u001b[0m\u001b[0mAnswerRelevancyMetric\u001b[0m\u001b[0;34m(\u001b[0m\u001b[0;34m)\u001b[0m\u001b[0;34m]\u001b[0m\u001b[0;34m)\u001b[0m\u001b[0;34m\u001b[0m\u001b[0;34m\u001b[0m\u001b[0m\n\u001b[0m",
            "\u001b[0;32m/usr/local/lib/python3.11/dist-packages/deepeval/evaluate/evaluate.py\u001b[0m in \u001b[0;36mevaluate\u001b[0;34m(test_cases, metrics, hyperparameters, goldens, observed_callback, identifier, async_config, display_config, cache_config, error_config)\u001b[0m\n\u001b[1;32m    247\u001b[0m \u001b[0;34m\u001b[0m\u001b[0m\n\u001b[1;32m    248\u001b[0m     \u001b[0;32melif\u001b[0m \u001b[0mtest_cases\u001b[0m \u001b[0;32mand\u001b[0m \u001b[0mmetrics\u001b[0m\u001b[0;34m:\u001b[0m\u001b[0;34m\u001b[0m\u001b[0;34m\u001b[0m\u001b[0m\n\u001b[0;32m--> 249\u001b[0;31m         \u001b[0mcheck_valid_test_cases_type\u001b[0m\u001b[0;34m(\u001b[0m\u001b[0mtest_cases\u001b[0m\u001b[0;34m)\u001b[0m\u001b[0;34m\u001b[0m\u001b[0;34m\u001b[0m\u001b[0m\n\u001b[0m\u001b[1;32m    250\u001b[0m \u001b[0;34m\u001b[0m\u001b[0m\n\u001b[1;32m    251\u001b[0m         \u001b[0mglobal_test_run_manager\u001b[0m\u001b[0;34m.\u001b[0m\u001b[0mreset\u001b[0m\u001b[0;34m(\u001b[0m\u001b[0;34m)\u001b[0m\u001b[0;34m\u001b[0m\u001b[0;34m\u001b[0m\u001b[0m\n",
            "\u001b[0;32m/usr/local/lib/python3.11/dist-packages/deepeval/test_case/utils.py\u001b[0m in \u001b[0;36mcheck_valid_test_cases_type\u001b[0;34m(test_cases)\u001b[0m\n\u001b[1;32m     20\u001b[0m \u001b[0;34m\u001b[0m\u001b[0m\n\u001b[1;32m     21\u001b[0m     \u001b[0;32mif\u001b[0m \u001b[0mllm_test_case_count\u001b[0m \u001b[0;34m>\u001b[0m \u001b[0;36m0\u001b[0m \u001b[0;32mand\u001b[0m \u001b[0mconversational_test_case_count\u001b[0m \u001b[0;34m>\u001b[0m \u001b[0;36m0\u001b[0m\u001b[0;34m:\u001b[0m\u001b[0;34m\u001b[0m\u001b[0;34m\u001b[0m\u001b[0m\n\u001b[0;32m---> 22\u001b[0;31m         raise ValueError(\n\u001b[0m\u001b[1;32m     23\u001b[0m             \u001b[0;34m\"You cannot supply a mixture of `LLMTestCase`/`MLLMTestCase`(s) and `ConversationalTestCase`(s) as the list of test cases.\"\u001b[0m\u001b[0;34m\u001b[0m\u001b[0;34m\u001b[0m\u001b[0m\n\u001b[1;32m     24\u001b[0m         )\n",
            "\u001b[0;31mValueError\u001b[0m: You cannot supply a mixture of `LLMTestCase`/`MLLMTestCase`(s) and `ConversationalTestCase`(s) as the list of test cases."
          ]
        }
      ]
    },
    {
      "cell_type": "markdown",
      "source": [
        "# Testing"
      ],
      "metadata": {
        "id": "qPBazSOwea6a"
      }
    },
    {
      "cell_type": "code",
      "source": [
        "from deepeval.test_case import LLMTestCase\n",
        "from deepeval.metrics import AnswerRelevancyMetric\n",
        "\n",
        "answer_relevancy_metric = AnswerRelevancyMetric()\n",
        "test_case = LLMTestCase(\n",
        "  input=\"Who is the current president of the United States of America?\",\n",
        "  actual_output=\"Joe Bison\",\n",
        "  retrieval_context=[\"Joe Biden serves as the current president of America.\"]\n",
        ")\n",
        "\n",
        "answer_relevancy_metric.measure(test_case)\n",
        "print(answer_relevancy_metric.score)"
      ],
      "metadata": {
        "colab": {
          "base_uri": "https://localhost:8080/",
          "height": 36,
          "referenced_widgets": [
            "938e46ebb0794eaaa33aea115b8a7824",
            "08e0729da66140659c2cd4c3d229d5ee"
          ]
        },
        "id": "HxR3__Ehecj4",
        "outputId": "8389f5af-d82c-4439-8c4e-6176551233b4"
      },
      "execution_count": null,
      "outputs": [
        {
          "output_type": "display_data",
          "data": {
            "text/plain": [
              "Output()"
            ],
            "application/vnd.jupyter.widget-view+json": {
              "version_major": 2,
              "version_minor": 0,
              "model_id": "938e46ebb0794eaaa33aea115b8a7824"
            }
          },
          "metadata": {}
        },
        {
          "output_type": "display_data",
          "data": {
            "text/plain": [],
            "text/html": [
              "<pre style=\"white-space:pre;overflow-x:auto;line-height:normal;font-family:Menlo,'DejaVu Sans Mono',consolas,'Courier New',monospace\"></pre>\n"
            ]
          },
          "metadata": {}
        },
        {
          "output_type": "stream",
          "name": "stdout",
          "text": [
            "0.0\n"
          ]
        }
      ]
    },
    {
      "cell_type": "code",
      "source": [
        "\n",
        "from deepeval.synthesizer import Synthesizer\n",
        "from deepeval.dataset import EvaluationDataset\n",
        "\n",
        "synthesizer = Synthesizer()\n",
        "goldens = synthesizer.generate_goldens_from_docs(document_paths=['/content/Diwali - Wikipedia.pdf'])\n",
        "\n",
        "dataset = EvaluationDataset(goldens=goldens)"
      ],
      "metadata": {
        "colab": {
          "base_uri": "https://localhost:8080/",
          "height": 295
        },
        "id": "fZya5csxedN3",
        "outputId": "c506d4e9-bd25-4769-a707-4191c8e880a3"
      },
      "execution_count": null,
      "outputs": [
        {
          "output_type": "stream",
          "name": "stderr",
          "text": [
            "✨ 🚀 ✨ Loading Documents: 100%|██████████| 1/1 [00:09<00:00,  9.82s/it]\n",
            "✨ 📚 ✨ Chunking Documents: 100%|██████████| 1/1 [00:03<00:00,  3.70s/it]\n",
            "✨ 🧩 ✨ Generating Contexts:   0%|          | 0/9 [00:00<?, ?it/s]\n",
            "✨ 🧩 ✨ Generating Contexts:  56%|█████▌    | 5/9 [00:01<00:01,  3.90it/s]\n",
            "  ✨ 🫗 ✨ Filling Contexts:  17%|█▋        | 1/6 [00:02<00:11,  2.39s/it]\u001b[A\n",
            "  ✨ 🫗 ✨ Filling Contexts:  50%|█████     | 3/6 [00:02<00:02,  1.31it/s]\u001b[A\n",
            "  ✨ 🫗 ✨ Filling Contexts:  83%|████████▎ | 5/6 [00:03<00:00,  1.77it/s]\u001b[A\n",
            "✨ 🧩 ✨ Generating Contexts: 100%|██████████| 9/9 [00:03<00:00,  2.54it/s]\n"
          ]
        },
        {
          "output_type": "display_data",
          "data": {
            "text/plain": [
              "Utilizing \u001b[1;36m9\u001b[0m out of \u001b[1;36m50\u001b[0m chunks.\n"
            ],
            "text/html": [
              "<pre style=\"white-space:pre;overflow-x:auto;line-height:normal;font-family:Menlo,'DejaVu Sans Mono',consolas,'Courier New',monospace\">Utilizing <span style=\"color: #008080; text-decoration-color: #008080; font-weight: bold\">9</span> out of <span style=\"color: #008080; text-decoration-color: #008080; font-weight: bold\">50</span> chunks.\n",
              "</pre>\n"
            ]
          },
          "metadata": {}
        },
        {
          "output_type": "stream",
          "name": "stderr",
          "text": [
            "✨ Generating up to 6 goldens using DeepEval (using gpt-4o and text-embedding-3-small, method=docs):  17%|█▋        | 1/6 [00:08<00:42,  8.48s/it]ERROR:root:OpenAI Error: Error code: 429 - {'error': {'message': 'Rate limit reached for gpt-4o in organization org-VxwfSaIZ7gLnAsbaBUs3WgIR on tokens per min (TPM): Limit 30000, Used 28947, Requested 2940. Please try again in 3.774s. Visit https://platform.openai.com/account/rate-limits to learn more.', 'type': 'tokens', 'param': None, 'code': 'rate_limit_exceeded'}} Retrying: 1 time(s)...\n",
            "ERROR:root:OpenAI Error: Error code: 429 - {'error': {'message': 'Rate limit reached for gpt-4o in organization org-VxwfSaIZ7gLnAsbaBUs3WgIR on tokens per min (TPM): Limit 30000, Used 28683, Requested 3198. Please try again in 3.762s. Visit https://platform.openai.com/account/rate-limits to learn more.', 'type': 'tokens', 'param': None, 'code': 'rate_limit_exceeded'}} Retrying: 1 time(s)...\n",
            "✨ Generating up to 6 goldens using DeepEval (using gpt-4o and text-embedding-3-small, method=docs):  33%|███▎      | 2/6 [00:18<00:38,  9.66s/it]ERROR:root:OpenAI Error: Error code: 429 - {'error': {'message': 'Rate limit reached for gpt-4o in organization org-VxwfSaIZ7gLnAsbaBUs3WgIR on tokens per min (TPM): Limit 30000, Used 29118, Requested 3198. Please try again in 4.632s. Visit https://platform.openai.com/account/rate-limits to learn more.', 'type': 'tokens', 'param': None, 'code': 'rate_limit_exceeded'}} Retrying: 2 time(s)...\n",
            "✨ Generating up to 6 goldens using DeepEval (using gpt-4o and text-embedding-3-small, method=docs):  50%|█████     | 3/6 [00:30<00:30, 10.33s/it]ERROR:root:OpenAI Error: Error code: 429 - {'error': {'message': 'Rate limit reached for gpt-4o in organization org-VxwfSaIZ7gLnAsbaBUs3WgIR on tokens per min (TPM): Limit 30000, Used 29103, Requested 3198. Please try again in 4.602s. Visit https://platform.openai.com/account/rate-limits to learn more.', 'type': 'tokens', 'param': None, 'code': 'rate_limit_exceeded'}} Retrying: 3 time(s)...\n",
            "✨ Generating up to 6 goldens using DeepEval (using gpt-4o and text-embedding-3-small, method=docs): 100%|██████████| 6/6 [01:02<00:00, 10.48s/it]\n"
          ]
        }
      ]
    },
    {
      "cell_type": "code",
      "source": [
        "dataset"
      ],
      "metadata": {
        "colab": {
          "base_uri": "https://localhost:8080/"
        },
        "id": "7hJxntvJfWXv",
        "outputId": "85643d70-4bb6-4fe1-c87f-1e2b769c4c16"
      },
      "execution_count": null,
      "outputs": [
        {
          "output_type": "execute_result",
          "data": {
            "text/plain": [
              "EvaluationDataset(test_cases=[], goldens=[Golden(input='How do global Diwali festivities in the UK, US, and Pakistan highlight cultural exchange and impact?', actual_output=None, expected_output=\"Global Diwali festivities serve as a platform for cultural exchange and highlight the impact of multicultural engagement in several countries. In the UK, Diwali celebrations, such as those at the Swaminarayan Temple in Neasden, are attended by national figures like former Prince Charles, emphasizing the contributions of the Hindu community to British society. The event is marked by lights, decorations, and cultural festivities, fostering mutual appreciation and integration. In the US, Diwali's significance was formally recognized by Congress in 2007, with President Obama participating in White House celebrations in 2009, reflecting recognition and respect for cultural diversity. In Pakistan, the exchange of traditional sweets between Indian and Pakistani border troops during Diwali symbolizes harmonious gestures that facilitate camaraderie amidst political tension. These festivities worldwide demonstrate how Diwali acts as a bridge, enhancing cultural ties and promoting goodwill across diverse communities.\", context=['Many governments encourage or sponsor Diwali-related festivities in their territories. For example,\\nthe Singaporean government, in association with the Hindu Endowments Board of Singapore,\\norganises many cultural events during Diwali every year.[175] National and civic leaders such as the\\nformer Prince Charles have attended Diwali celebrations at prominent Hindu temples in the UK, such\\nas the Swaminarayan Temple in Neasden, using the occasion to highlight contributions of the Hindu\\ncommunity to British society.[176][177] Additionally, cities across the UK show support of the\\ncelebrations through Diwali lights, decorations, and cultural festivities such as dance performances,\\nfood stalls and workshops.[178] Since 2009, Diwali has been celebrated every year at 10 Downing\\nStreet, the residence of the British Prime Minister.[179]\\nDiwali was first celebrated in the White House by George W. Bush in 2003 and its religious and\\nhistorical significance was officially recognized by the United States Congress in 2007.[180][181] Barack\\nObama became the first president to personally attend Diwali at the White House in 2009. On the eve\\nof his first visit to India as President of the United States, Obama released an official statement\\nsharing his best wishes with \"those celebrating Diwali\".[182]\\nEvery year during Diwali, Indian forces approach their Pakistani counterparts at the border bearing\\ngifts of traditional Indian confectionery, a gesture that is returned in kind by the Pakistani soldiers\\nwho give Pakistani sweets to the Indian soldiers.[183][t][187]\\nThe use of firecrackers on Diwali increases the concentration of dust and pollutants in the air. After\\nfiring, the fine dust particles get settled on the surrounding surfaces which are packed with chemicals\\nlike copper, zinc, sodium, lead, magnesium, cadmium and pollutants like oxides of sulfur and\\nnitrogen.[188] These invisible yet harmful particles affect the environment and in turn, put people\\'s\\nhealth at stake.[189] The smoke created by firecrackers lit up on Diwali causes smog which sometimes\\ntakes days to clear.[190]\\nDuring Diwali, the levels of suspended particulate matter increase. When people are exposed to these\\npollutant particles, they may suffer from eye, nose, and throat-related problems. To produce colors\\nwhen crackers are burst, carcinogenic and poisonous elements are used.[191]\\nDuring the 2023 celebration, New Delhi briefly took the top spot in the world for air pollution with an\\nair quality index of 680 on one night.[192]\\nThe use of fireworks during Diwali can also lead to burn injuries. One particular firework called anar\\n(fountain) has been found to be responsible for 65% of such injuries, with adults being the typical\\nvictims. Most of the injuries sustained are Group I type burns (minor) requiring only outpatient care.\\nExperts urge precaution around candles and fires and ask for children to be kept a safe distance from\\nflames and to enjoy the festivity of Diwali.[193][194]\\nHazards\\nGuinness World Record\\n11/1/24, 11:21 PM Diwali - Wikipedia\\nhttps://en.wikipedia.org/wiki/Diwali 14/34', 'across-india-celebrate-diwali-with-festivities-and-dazzling-l\\nights) from the original on 27 July 2023. Retrieved 10 November 2023.\\n191. \"Firecrackers Not Only Pollute The Environment But Also Carry Cancer Causing Chemicals\" (http\\ns://www.news18.com/news/india/a-look-at-how-firecrackers-pollute-the-environment-and-carry-carc\\ninogenic-agents-1916801.html). News18. 23 October 2018. Archived (https://web.archive.org/web/2\\n0211106193152/https://www.news18.com/news/india/a-look-at-how-firecrackers-pollute-the-environ\\nment-and-carry-carcinogenic-agents-1916801.html) from the original on 6 November 2021.\\nRetrieved 4 November 2021.\\n192. Mehta, Tanvi (13 November 2023). \"Three Indian cities among world\\'s 10 most polluted after\\nDiwali\" (https://www.reuters.com/markets/commodities/three-indian-cities-amongst-worlds-10-most-\\npolluted-after-diwali-2023-11-13/). Reuters. Retrieved 22 November 2023.\\n193. Mohan, D.; Varghese, M. (1990). \"Fireworks cast a shadow on India\\'s festival of lights\". World\\nHealth Forum. 11 (3): 323–326. PMID 2291800 (https://pubmed.ncbi.nlm.nih.gov/2291800).\\n11/1/24, 11:21 PM Diwali - Wikipedia\\nhttps://en.wikipedia.org/wiki/Diwali 29/34', '184. \"Pakistan parliament adopts resolution for Holi, Diwali, Easter holidays\" (http://timesofindia.indiatim\\nes.com/world/pakistan/Pakistan-parliament-adopts-resolution-for-Holi-Diwali-Easter-holidays/articl\\neshow/51423609.cms). The Times of India. 16 March 2016. Archived (https://web.archive.org/web/2\\n0180306175436/https://timesofindia.indiatimes.com/world/pakistan/Pakistan-parliament-adopts-res\\nolution-for-Holi-Diwali-Easter-holidays/articleshow/51423609.cms) from the original on 6 March\\n2018. Retrieved 13 March 2017.\\n185. Sridharan, Vasudevan (2016). \"Muslim-majority Pakistan set to declare Holi, Diwali and Easter as\\npublic holidays\" (http://www.ibtimes.co.uk/muslim-majority-pakistan-set-declare-holi-diwali-easter-p\\nublic-holidays-1550003). International Business Times. Archived (https://web.archive.org/web/2016\\n0318105641/http://www.ibtimes.co.uk/muslim-majority-pakistan-set-declare-holi-diwali-easter-publi\\nc-holidays-1550003) from the original on 18 March 2016. Retrieved 19 March 2016.\\n186. \"Muslims join Hindus in Diwali celebrations in Pakistan\\'s Peshawar\" (https://web.archive.org/web/2\\n0151211212853/http://articles.economictimes.indiatimes.com/2015-11-17/news/68356366_1_diwal\\ni-celebrations-pakistan-hindu-peshawar). The Economic Times. 17 November 2015. Archived from\\nthe original (http://articles.economictimes.indiatimes.com/2015-11-17/news/68356366_1_diwali-cel\\nebrations-pakistan-hindu-peshawar) on 11 December 2015. Retrieved 19 March 2016.\\n187. \"India-Pakistan border troops exchange Diwali sweets near Jaisalmer\" (https://english.mathrubhum\\ni.com/news/india/india-pakistan-border-troops-exchange-diwali-sweets-near-jaisalmer-1.1003893\\n7). Mathrubhumi.\\n188. \"Air Pollution: Delhi\\'s air quality enters \\'Red Zone\\' ahead of Diwali\" (https://www.dnaindia.com/indi\\na/video-air-pollution-delhi-s-air-quality-enters-red-zone-ahead-of-diwali-2918268). DNA India.\\nArchived (https://web.archive.org/web/20211106202325/https://www.dnaindia.com/india/video-air-p\\nollution-delhi-s-air-quality-enters-red-zone-ahead-of-diwali-2918268) from the original on 6\\nNovember 2021. Retrieved 4 November 2021.\\n189. \"Diwali may bring \\'severe\\' air pollution to Delhi, despite fireworks ban\" (https://www.washingtonpos\\nt.com/world/2021/11/03/delhi-fireworks-ban-green-diwali/). The Washington Post. ISSN 0190-8286\\n(https://search.worldcat.org/issn/0190-8286). Archived (https://web.archive.org/web/2021110512164\\n3/https://www.washingtonpost.com/world/2021/11/03/delhi-fireworks-ban-green-diwali/) from the\\noriginal on 5 November 2021. Retrieved 4 November 2021.\\n190. \"Residents across India celebrate Diwali with festivities and dazzling lights\" (https://www.npr.org/20\\n22/10/24/1130942026/residents-across-india-celebrate-diwali-with-festivities-and-dazzling-lights).\\nAP. NPR. 24 October 2022. Archived (https://web.archive.org/web/20230727194915/https://www.np\\nr.org/2022/10/24/1130942026/residents-'], retrieval_context=None, additional_metadata={'evolutions': ['Multi-context'], 'synthetic_input_quality': 0.9}, comments=None, tools_called=None, expected_tools=None, source_file='/content/Diwali - Wikipedia.pdf'), Golden(input='How is Diwali celebrated globally, including at governmental and significant cultural sites like the White House?', actual_output=None, expected_output=\"Diwali is celebrated globally with various festivities supported by governments and significant cultural sites. In Singapore, the government collaborates with the Hindu Endowments Board to organize cultural events. The UK hosts Diwali celebrations at prominent temples like the Swaminarayan Temple in Neasden, and cities show support through lights and cultural festivities. Since 2009, 10 Downing Street in the UK celebrates Diwali annually. In the United States, Diwali was first celebrated at the White House in 2003. Barack Obama was the first president to personally attend the celebrations in 2009. Additionally, Diwali serves as a gesture of goodwill between Indian and Pakistani forces, who exchange sweets at the border. These celebrations reflect the festival's multicultural appreciation and significance.\", context=['Many governments encourage or sponsor Diwali-related festivities in their territories. For example,\\nthe Singaporean government, in association with the Hindu Endowments Board of Singapore,\\norganises many cultural events during Diwali every year.[175] National and civic leaders such as the\\nformer Prince Charles have attended Diwali celebrations at prominent Hindu temples in the UK, such\\nas the Swaminarayan Temple in Neasden, using the occasion to highlight contributions of the Hindu\\ncommunity to British society.[176][177] Additionally, cities across the UK show support of the\\ncelebrations through Diwali lights, decorations, and cultural festivities such as dance performances,\\nfood stalls and workshops.[178] Since 2009, Diwali has been celebrated every year at 10 Downing\\nStreet, the residence of the British Prime Minister.[179]\\nDiwali was first celebrated in the White House by George W. Bush in 2003 and its religious and\\nhistorical significance was officially recognized by the United States Congress in 2007.[180][181] Barack\\nObama became the first president to personally attend Diwali at the White House in 2009. On the eve\\nof his first visit to India as President of the United States, Obama released an official statement\\nsharing his best wishes with \"those celebrating Diwali\".[182]\\nEvery year during Diwali, Indian forces approach their Pakistani counterparts at the border bearing\\ngifts of traditional Indian confectionery, a gesture that is returned in kind by the Pakistani soldiers\\nwho give Pakistani sweets to the Indian soldiers.[183][t][187]\\nThe use of firecrackers on Diwali increases the concentration of dust and pollutants in the air. After\\nfiring, the fine dust particles get settled on the surrounding surfaces which are packed with chemicals\\nlike copper, zinc, sodium, lead, magnesium, cadmium and pollutants like oxides of sulfur and\\nnitrogen.[188] These invisible yet harmful particles affect the environment and in turn, put people\\'s\\nhealth at stake.[189] The smoke created by firecrackers lit up on Diwali causes smog which sometimes\\ntakes days to clear.[190]\\nDuring Diwali, the levels of suspended particulate matter increase. When people are exposed to these\\npollutant particles, they may suffer from eye, nose, and throat-related problems. To produce colors\\nwhen crackers are burst, carcinogenic and poisonous elements are used.[191]\\nDuring the 2023 celebration, New Delhi briefly took the top spot in the world for air pollution with an\\nair quality index of 680 on one night.[192]\\nThe use of fireworks during Diwali can also lead to burn injuries. One particular firework called anar\\n(fountain) has been found to be responsible for 65% of such injuries, with adults being the typical\\nvictims. Most of the injuries sustained are Group I type burns (minor) requiring only outpatient care.\\nExperts urge precaution around candles and fires and ask for children to be kept a safe distance from\\nflames and to enjoy the festivity of Diwali.[193][194]\\nHazards\\nGuinness World Record\\n11/1/24, 11:21 PM Diwali - Wikipedia\\nhttps://en.wikipedia.org/wiki/Diwali 14/34', 'across-india-celebrate-diwali-with-festivities-and-dazzling-l\\nights) from the original on 27 July 2023. Retrieved 10 November 2023.\\n191. \"Firecrackers Not Only Pollute The Environment But Also Carry Cancer Causing Chemicals\" (http\\ns://www.news18.com/news/india/a-look-at-how-firecrackers-pollute-the-environment-and-carry-carc\\ninogenic-agents-1916801.html). News18. 23 October 2018. Archived (https://web.archive.org/web/2\\n0211106193152/https://www.news18.com/news/india/a-look-at-how-firecrackers-pollute-the-environ\\nment-and-carry-carcinogenic-agents-1916801.html) from the original on 6 November 2021.\\nRetrieved 4 November 2021.\\n192. Mehta, Tanvi (13 November 2023). \"Three Indian cities among world\\'s 10 most polluted after\\nDiwali\" (https://www.reuters.com/markets/commodities/three-indian-cities-amongst-worlds-10-most-\\npolluted-after-diwali-2023-11-13/). Reuters. Retrieved 22 November 2023.\\n193. Mohan, D.; Varghese, M. (1990). \"Fireworks cast a shadow on India\\'s festival of lights\". World\\nHealth Forum. 11 (3): 323–326. PMID 2291800 (https://pubmed.ncbi.nlm.nih.gov/2291800).\\n11/1/24, 11:21 PM Diwali - Wikipedia\\nhttps://en.wikipedia.org/wiki/Diwali 29/34', '184. \"Pakistan parliament adopts resolution for Holi, Diwali, Easter holidays\" (http://timesofindia.indiatim\\nes.com/world/pakistan/Pakistan-parliament-adopts-resolution-for-Holi-Diwali-Easter-holidays/articl\\neshow/51423609.cms). The Times of India. 16 March 2016. Archived (https://web.archive.org/web/2\\n0180306175436/https://timesofindia.indiatimes.com/world/pakistan/Pakistan-parliament-adopts-res\\nolution-for-Holi-Diwali-Easter-holidays/articleshow/51423609.cms) from the original on 6 March\\n2018. Retrieved 13 March 2017.\\n185. Sridharan, Vasudevan (2016). \"Muslim-majority Pakistan set to declare Holi, Diwali and Easter as\\npublic holidays\" (http://www.ibtimes.co.uk/muslim-majority-pakistan-set-declare-holi-diwali-easter-p\\nublic-holidays-1550003). International Business Times. Archived (https://web.archive.org/web/2016\\n0318105641/http://www.ibtimes.co.uk/muslim-majority-pakistan-set-declare-holi-diwali-easter-publi\\nc-holidays-1550003) from the original on 18 March 2016. Retrieved 19 March 2016.\\n186. \"Muslims join Hindus in Diwali celebrations in Pakistan\\'s Peshawar\" (https://web.archive.org/web/2\\n0151211212853/http://articles.economictimes.indiatimes.com/2015-11-17/news/68356366_1_diwal\\ni-celebrations-pakistan-hindu-peshawar). The Economic Times. 17 November 2015. Archived from\\nthe original (http://articles.economictimes.indiatimes.com/2015-11-17/news/68356366_1_diwali-cel\\nebrations-pakistan-hindu-peshawar) on 11 December 2015. Retrieved 19 March 2016.\\n187. \"India-Pakistan border troops exchange Diwali sweets near Jaisalmer\" (https://english.mathrubhum\\ni.com/news/india/india-pakistan-border-troops-exchange-diwali-sweets-near-jaisalmer-1.1003893\\n7). Mathrubhumi.\\n188. \"Air Pollution: Delhi\\'s air quality enters \\'Red Zone\\' ahead of Diwali\" (https://www.dnaindia.com/indi\\na/video-air-pollution-delhi-s-air-quality-enters-red-zone-ahead-of-diwali-2918268). DNA India.\\nArchived (https://web.archive.org/web/20211106202325/https://www.dnaindia.com/india/video-air-p\\nollution-delhi-s-air-quality-enters-red-zone-ahead-of-diwali-2918268) from the original on 6\\nNovember 2021. Retrieved 4 November 2021.\\n189. \"Diwali may bring \\'severe\\' air pollution to Delhi, despite fireworks ban\" (https://www.washingtonpos\\nt.com/world/2021/11/03/delhi-fireworks-ban-green-diwali/). The Washington Post. ISSN 0190-8286\\n(https://search.worldcat.org/issn/0190-8286). Archived (https://web.archive.org/web/2021110512164\\n3/https://www.washingtonpost.com/world/2021/11/03/delhi-fireworks-ban-green-diwali/) from the\\noriginal on 5 November 2021. Retrieved 4 November 2021.\\n190. \"Residents across India celebrate Diwali with festivities and dazzling lights\" (https://www.npr.org/20\\n22/10/24/1130942026/residents-across-india-celebrate-diwali-with-festivities-and-dazzling-lights).\\nAP. NPR. 24 October 2022. Archived (https://web.archive.org/web/20230727194915/https://www.np\\nr.org/2022/10/24/1130942026/residents-'], retrieval_context=None, additional_metadata={'evolutions': ['Multi-context'], 'synthetic_input_quality': 0.7}, comments=None, tools_called=None, expected_tools=None, source_file='/content/Diwali - Wikipedia.pdf'), Golden(input='How do differing religious and cultural traditions influence Diwali celebrations among Hindus, Sikhs, and Jains?', actual_output=None, expected_output='Diwali is primarily a Hindu festival, but it is celebrated by Sikhs and Jains with unique religious and cultural influences. Among Hindus, Diwali involves lighting oil lamps and performing puja for deities like Lakshmi and Ganesha, focusing on prosperity and the victory of good over evil. Sikhs celebrate Bandi Chhor Divas, which marks the release of Guru Hargobind from a Mughal prison, highlighting themes of freedom and justice. Jains observe Diwali to commemorate the final liberation (nirvana) of Mahavira, reflecting on spiritual awakening and liberation. These diverse traditions bring varied meanings and rituals to the festival across different communities.', context=['A sparkling firecracker,\\ncommonly known as \\'Kit\\nKat\\' in India\\nWoman lighting candles for Diwali.\\nPeople light candles and clay lamps\\nin their houses and at temples during\\nDiwali night\\nSome Hindus observe Yama Deepam (also known as Yama Dipadana or Jam ke Diya) on the second\\nday of Diwali, instead of the first day. A diya that is filled with sesame oil is lit at back of their homes\\nfacing in the southern direction. This is believed to please Yama, the god of death, and to ward off\\nuntimely death.[121][122][123]\\nThe third day is the height of the festival,[131] and coincides with the last day of the dark fortnight of\\nAshwin or Kartik. This is the day when Hindu, Jain and Sikh temples and homes are aglow with lights,\\nthereby making it the \"festival of lights\". The word Deepawali comes from the Sanskrit word deep,\\nwhich means an Indian lantern/lamp.[48][132]\\nThe youngest members in the family visit their elders, such as\\ngrandparents and other senior members of the community, on this day.\\nSmall business owners give gifts or special bonus payments to their\\nemployees between Dhanteras and Lakshmi Pujan.[129][133] Shops either\\ndo not open or close early on this day allowing employees to enjoy family\\ntime. Shopkeepers and small operations perform puja rituals in their\\noffice premises. Unlike some other festivals, the Hindus typically do not\\nfast during the five-day long Diwali including Lakshmi Pujan, rather they\\nfeast and share the bounties of the season at their workplaces, community\\ncentres, temples, and homes.[129]\\nAs the evening approaches, celebrants\\nwill wear new clothes or their best\\noutfits, teenage girls and women, in\\nparticular, wear saris and jewellery.[134]\\nAt dusk, family members gather for the Lakshmi Pujan,[134]\\nalthough prayers will also be offered to other deities, such as\\nGanesha, Saraswati, Rama, Lakshmana, Sita, Hanuman, or\\nKubera.[42] The lamps from the puja ceremony are then used to\\nlight more earthenware lamps, which are placed in rows along the\\nparapets of temples and houses,[135] while some diyas are set adrift\\non rivers and streams.[7][136][137] After the puja, people go outside\\nand celebrate by lighting up patakhe (fireworks) together, and then\\nshare a family feast and mithai (sweets, desserts).[42]\\nThe puja and rituals in the Bengali Hindu community focus on Kali, the goddess of war, instead of\\nLakshmi.[111][138] According to Rachel Fell McDermott, a scholar of South Asian, particular Bengali,\\nstudies, in Bengal during Navaratri (Dussehra elsewhere in India) the Durga puja is the main focus,\\nalthough in the eastern and north eastern states the two are synonymous, but on Diwali the focus is on\\nthe puja dedicated to Kali. These two festivals likely developed in tandem over their recent histories,\\nstates McDermott.[111] Textual evidence suggests that Bengali Hindus worshipped Lakshmi before the\\ncolonial era, and that the Kali puja is a more recent phenomenon.[n] Contemporary Bengali\\ncelebrations mirror those found elsewhere, with teenage boys playing with fireworks and the sharing\\nof festive food with family, but with the Shakti goddess Kali as the focus.[139]\\nLakshmi Pujan, Kali Puja (Day 3)\\n11/1/24, 11:21 PM Diwali - Wikipedia\\nhttps://en.wikipedia.org/wiki/Diwali 10/34', 'Diwali celebrations include puja\\n(prayers) to Lakshmi and Ganesha.\\nLakshmi is of the Vaishnavism\\ntradition, while Ganesha of the\\nShaivism tradition of\\nHinduism.[116][117]\\nChandua lanterns on display for\\nDiwali.\\nDhanteras starts off the Diwali\\ncelebrations with the lighting of Diya\\nor Panati lamp rows, house cleaning\\nand floor rangoli\\nDiwali has become more popular in other countries. In New York\\nCity lawmakers have passed legislation to make holidays in school.\\nBut debates over the holiday push back. In the future Diwali will be\\na holiday.[118]\\nDhanteras, derived from Dhan meaning wealth and teras meaning\\nthirteenth, marks the thirteenth day of the dark fortnight of Ashwin\\nor Kartik and the beginning of Diwali in most parts of India.[119] On\\nthis day, many Hindus clean their homes and business premises.\\nThey install diyas, small earthen oil-filled lamps that they light up\\nfor the next five days, near Lakshmi and Ganesha\\niconography.[119][116] Women and children decorate doorways\\nwithin homes and offices with rangolis, colourful designs made\\nfrom rice flour, flower petals, coloured rice or coloured sand,[27]\\nwhile the boys and men decorate the roofs and walls of family\\nhomes, markets, and temples and string up lights and lanterns. The\\nday also marks a major shopping day for buying new utensils,\\nhome equipment, gold jewellery, firecrackers, and other\\nitems.[116][42][83][120] On the evening of Dhanteras, families offer\\nprayers (puja) to Lakshmi and Ganesha, and lay offerings of puffed\\nrice, candy toys, rice cakes and batashas (hollow sugar cakes).[116]\\nAccording to Tracy Pintchman, Dhanteras is a symbol of annual\\nrenewal, cleansing and an auspicious beginning for the next\\nyear.[119] The term Dhan for this day also alludes to the Ayurvedic\\nicon Dhanvantari, the god of health and healing, who is believed to\\nhave emerged from the \"churning of cosmic ocean\" on the same\\nday as Lakshmi.[119] Some communities, particularly those active in\\nAyurvedic and health-related professions, pray or perform havan\\nrituals to Dhanvantari on Dhanteras.[119]\\nOn Yama Deepam (also known as Yama Dipadana or Jam ke Diya),\\nHindus light a diya, ideally made of wheat flour and filled with\\nsesame oil, that faces south in the back of their homes. This is\\nbelieved to please Yama, the god of death, and to ward off untimely\\ndeath.[121] Some Hindus observe Yama Deepa on the second night\\nbefore the main day of Diwali.[122][123]\\nDhanteras, Dhanatrayodashi, Yama Deepam (Day 1)\\nNaraka Chaturdashi, Kali Chaudas, Chhoti Diwali,\\nHanuman Puja, Roop Chaudas, Yama Deepam (Day\\n2)\\n11/1/24, 11:21 PM Diwali - Wikipedia\\nhttps://en.wikipedia.org/wiki/Diwali 8/34', 'Diwali\\nRangoli decorations, made using coloured fine\\npowder or sand, are popular during Diwali.\\nAlso called Deepavali\\nObserved by Hindus, Jains, Sikhs,[1] some\\nBuddhists (notably Newar\\nBuddhists[2])\\nType Religious, cultural, seasonal\\nSignificance See below\\nCelebrations Diya lighting · puja (worship and\\nprayer) · havan (fire offering) ·\\nvrat (fasting) · dāna (charity) ·\\nmelā (fairs/shows) · home\\ncleansing and decoration ·\\nfireworks · gifts · and partaking in\\na feast and sweets\\nBegins Ashwayuja 27 or Ashwayuja 28\\n(amanta tradition)\\nKartika 12 or Kartika 13\\n(purnimanta tradition)\\nEnds Kartika 2 (amanta tradition)\\nKartika 17 (purnimanta tradition)\\nDate Ashvin Krishna Trayodashi,\\nAshvin Krishna Chaturdashi,\\nAshvin Amavasya, Kartik Shukla\\nPratipada, Kartik Shukla Dwitiya\\n2024 date October[3]\\n30 (Dhanteras/Yama\\nDeepam/Kwah Puja/Kaag\\nTihar)\\n31 (Naraka Chaturdashi/Kali\\nChaudas/Hanuman\\nPuja/Chhoti Diwali/Khicha\\nPuja/Kukur Tihar)\\nDiwali\\nDiwali (English: /dɪˈwɑːli ː/), also called Deepavali (IAST:\\nDīpāvalī),[4] is the Hindu festival of lights, with variations\\ncelebrated in other Indian religions such as Jainism and\\nSikhism.[a] It symbolises the spiritual victory of Dharma over\\nAdharma, light over darkness, good over evil, and knowledge\\nover ignorance.[5][6][7][8] Diwali is celebrated during the Hindu\\nlunisolar months of Ashvin (according to the amanta tradition)\\nand Kartika—between around mid-September and mid-\\nNovember.[9][10][11][12][13] The celebrations generally last five or\\nsix days.[14][15]\\nDiwali is connected to various religious events, deities and\\npersonalities, such as being the day Rama returned to his\\nkingdom in Ayodhya with his wife Sita and his brother\\nLakshmana after defeating the demon king Ravana.[16] It is also\\nwidely associated with Lakshmi, the goddess of prosperity, and\\nGanesha, the god of wisdom and the remover of obstacles.[17]\\nOther regional traditions connect the holiday to Vishnu,\\nKrishna, Durga, Shiva, Kali, Hanuman, Kubera, Yama, Yami,\\nDhanvantari, or Vishvakarman.\\nPrimarily a Hindu festival, variations of Diwali are also\\ncelebrated by adherents of other faiths.[14] The Jains observe\\ntheir own Diwali which marks the final liberation of\\nMahavira.[18][19] The Sikhs celebrate Bandi Chhor Divas to mark\\nthe release of Guru Hargobind from a Mughal prison.[20] Newar\\nBuddhists, unlike other Buddhists, celebrate Diwali by\\nworshipping Lakshmi, while the Hindus of Eastern India and\\nBangladesh generally celebrate Diwali by worshipping the\\ngoddess Kali.[21][2][22]\\nDuring the festival, the celebrants illuminate their homes,\\ntemples and workspaces with diyas (oil lamps), candles and\\nlanterns.[8] Hindus, in particular, have a ritual oil bath at dawn\\non each day of the festival.[23] Diwali is also marked with\\nfireworks as well as the decoration of floors with rangoli designs\\nand other parts of the house with jhalars. Food is a major focus\\nwith families partaking in feasts and sharing mithai.[24] The\\nfestival is an annual homecoming and bonding period not only\\n11/1/24, 11:21 PM Diwali - Wikipedia\\nhttps://en.wikipedia.org/wiki/Diwali 1/34'], retrieval_context=None, additional_metadata={'evolutions': ['Multi-context'], 'synthetic_input_quality': 0.8}, comments=None, tools_called=None, expected_tools=None, source_file='/content/Diwali - Wikipedia.pdf'), Golden(input='In what ways do rituals during Diwali epitomize its historical roots as a festival symbolizing light triumphing over darkness?', actual_output=None, expected_output=\"Diwali rituals epitomize its historical roots as a festival symbolizing light triumphing over darkness in various ways. The lighting of diyas, candles, and lanterns during the festival represents the victory of light over darkness and good over evil. This act mirrors the return of Rama to Ayodhya, symbolizing the end of his exile and triumph over the demon king Ravana, bringing light back to his kingdom. The festival emphasizes the spiritual concepts of Dharma prevailing over Adharma and knowledge conquering ignorance, as seen in its association with deities like Lakshmi and Ganesha, who symbolize prosperity and wisdom. Fireworks and the illumination of homes and temples further highlight this theme by dispelling darkness with vibrant displays of light, reinforcing the festival's essence of renewal and hope.\", context=['A sparkling firecracker,\\ncommonly known as \\'Kit\\nKat\\' in India\\nWoman lighting candles for Diwali.\\nPeople light candles and clay lamps\\nin their houses and at temples during\\nDiwali night\\nSome Hindus observe Yama Deepam (also known as Yama Dipadana or Jam ke Diya) on the second\\nday of Diwali, instead of the first day. A diya that is filled with sesame oil is lit at back of their homes\\nfacing in the southern direction. This is believed to please Yama, the god of death, and to ward off\\nuntimely death.[121][122][123]\\nThe third day is the height of the festival,[131] and coincides with the last day of the dark fortnight of\\nAshwin or Kartik. This is the day when Hindu, Jain and Sikh temples and homes are aglow with lights,\\nthereby making it the \"festival of lights\". The word Deepawali comes from the Sanskrit word deep,\\nwhich means an Indian lantern/lamp.[48][132]\\nThe youngest members in the family visit their elders, such as\\ngrandparents and other senior members of the community, on this day.\\nSmall business owners give gifts or special bonus payments to their\\nemployees between Dhanteras and Lakshmi Pujan.[129][133] Shops either\\ndo not open or close early on this day allowing employees to enjoy family\\ntime. Shopkeepers and small operations perform puja rituals in their\\noffice premises. Unlike some other festivals, the Hindus typically do not\\nfast during the five-day long Diwali including Lakshmi Pujan, rather they\\nfeast and share the bounties of the season at their workplaces, community\\ncentres, temples, and homes.[129]\\nAs the evening approaches, celebrants\\nwill wear new clothes or their best\\noutfits, teenage girls and women, in\\nparticular, wear saris and jewellery.[134]\\nAt dusk, family members gather for the Lakshmi Pujan,[134]\\nalthough prayers will also be offered to other deities, such as\\nGanesha, Saraswati, Rama, Lakshmana, Sita, Hanuman, or\\nKubera.[42] The lamps from the puja ceremony are then used to\\nlight more earthenware lamps, which are placed in rows along the\\nparapets of temples and houses,[135] while some diyas are set adrift\\non rivers and streams.[7][136][137] After the puja, people go outside\\nand celebrate by lighting up patakhe (fireworks) together, and then\\nshare a family feast and mithai (sweets, desserts).[42]\\nThe puja and rituals in the Bengali Hindu community focus on Kali, the goddess of war, instead of\\nLakshmi.[111][138] According to Rachel Fell McDermott, a scholar of South Asian, particular Bengali,\\nstudies, in Bengal during Navaratri (Dussehra elsewhere in India) the Durga puja is the main focus,\\nalthough in the eastern and north eastern states the two are synonymous, but on Diwali the focus is on\\nthe puja dedicated to Kali. These two festivals likely developed in tandem over their recent histories,\\nstates McDermott.[111] Textual evidence suggests that Bengali Hindus worshipped Lakshmi before the\\ncolonial era, and that the Kali puja is a more recent phenomenon.[n] Contemporary Bengali\\ncelebrations mirror those found elsewhere, with teenage boys playing with fireworks and the sharing\\nof festive food with family, but with the Shakti goddess Kali as the focus.[139]\\nLakshmi Pujan, Kali Puja (Day 3)\\n11/1/24, 11:21 PM Diwali - Wikipedia\\nhttps://en.wikipedia.org/wiki/Diwali 10/34', 'Diwali celebrations include puja\\n(prayers) to Lakshmi and Ganesha.\\nLakshmi is of the Vaishnavism\\ntradition, while Ganesha of the\\nShaivism tradition of\\nHinduism.[116][117]\\nChandua lanterns on display for\\nDiwali.\\nDhanteras starts off the Diwali\\ncelebrations with the lighting of Diya\\nor Panati lamp rows, house cleaning\\nand floor rangoli\\nDiwali has become more popular in other countries. In New York\\nCity lawmakers have passed legislation to make holidays in school.\\nBut debates over the holiday push back. In the future Diwali will be\\na holiday.[118]\\nDhanteras, derived from Dhan meaning wealth and teras meaning\\nthirteenth, marks the thirteenth day of the dark fortnight of Ashwin\\nor Kartik and the beginning of Diwali in most parts of India.[119] On\\nthis day, many Hindus clean their homes and business premises.\\nThey install diyas, small earthen oil-filled lamps that they light up\\nfor the next five days, near Lakshmi and Ganesha\\niconography.[119][116] Women and children decorate doorways\\nwithin homes and offices with rangolis, colourful designs made\\nfrom rice flour, flower petals, coloured rice or coloured sand,[27]\\nwhile the boys and men decorate the roofs and walls of family\\nhomes, markets, and temples and string up lights and lanterns. The\\nday also marks a major shopping day for buying new utensils,\\nhome equipment, gold jewellery, firecrackers, and other\\nitems.[116][42][83][120] On the evening of Dhanteras, families offer\\nprayers (puja) to Lakshmi and Ganesha, and lay offerings of puffed\\nrice, candy toys, rice cakes and batashas (hollow sugar cakes).[116]\\nAccording to Tracy Pintchman, Dhanteras is a symbol of annual\\nrenewal, cleansing and an auspicious beginning for the next\\nyear.[119] The term Dhan for this day also alludes to the Ayurvedic\\nicon Dhanvantari, the god of health and healing, who is believed to\\nhave emerged from the \"churning of cosmic ocean\" on the same\\nday as Lakshmi.[119] Some communities, particularly those active in\\nAyurvedic and health-related professions, pray or perform havan\\nrituals to Dhanvantari on Dhanteras.[119]\\nOn Yama Deepam (also known as Yama Dipadana or Jam ke Diya),\\nHindus light a diya, ideally made of wheat flour and filled with\\nsesame oil, that faces south in the back of their homes. This is\\nbelieved to please Yama, the god of death, and to ward off untimely\\ndeath.[121] Some Hindus observe Yama Deepa on the second night\\nbefore the main day of Diwali.[122][123]\\nDhanteras, Dhanatrayodashi, Yama Deepam (Day 1)\\nNaraka Chaturdashi, Kali Chaudas, Chhoti Diwali,\\nHanuman Puja, Roop Chaudas, Yama Deepam (Day\\n2)\\n11/1/24, 11:21 PM Diwali - Wikipedia\\nhttps://en.wikipedia.org/wiki/Diwali 8/34', 'Diwali\\nRangoli decorations, made using coloured fine\\npowder or sand, are popular during Diwali.\\nAlso called Deepavali\\nObserved by Hindus, Jains, Sikhs,[1] some\\nBuddhists (notably Newar\\nBuddhists[2])\\nType Religious, cultural, seasonal\\nSignificance See below\\nCelebrations Diya lighting · puja (worship and\\nprayer) · havan (fire offering) ·\\nvrat (fasting) · dāna (charity) ·\\nmelā (fairs/shows) · home\\ncleansing and decoration ·\\nfireworks · gifts · and partaking in\\na feast and sweets\\nBegins Ashwayuja 27 or Ashwayuja 28\\n(amanta tradition)\\nKartika 12 or Kartika 13\\n(purnimanta tradition)\\nEnds Kartika 2 (amanta tradition)\\nKartika 17 (purnimanta tradition)\\nDate Ashvin Krishna Trayodashi,\\nAshvin Krishna Chaturdashi,\\nAshvin Amavasya, Kartik Shukla\\nPratipada, Kartik Shukla Dwitiya\\n2024 date October[3]\\n30 (Dhanteras/Yama\\nDeepam/Kwah Puja/Kaag\\nTihar)\\n31 (Naraka Chaturdashi/Kali\\nChaudas/Hanuman\\nPuja/Chhoti Diwali/Khicha\\nPuja/Kukur Tihar)\\nDiwali\\nDiwali (English: /dɪˈwɑːli ː/), also called Deepavali (IAST:\\nDīpāvalī),[4] is the Hindu festival of lights, with variations\\ncelebrated in other Indian religions such as Jainism and\\nSikhism.[a] It symbolises the spiritual victory of Dharma over\\nAdharma, light over darkness, good over evil, and knowledge\\nover ignorance.[5][6][7][8] Diwali is celebrated during the Hindu\\nlunisolar months of Ashvin (according to the amanta tradition)\\nand Kartika—between around mid-September and mid-\\nNovember.[9][10][11][12][13] The celebrations generally last five or\\nsix days.[14][15]\\nDiwali is connected to various religious events, deities and\\npersonalities, such as being the day Rama returned to his\\nkingdom in Ayodhya with his wife Sita and his brother\\nLakshmana after defeating the demon king Ravana.[16] It is also\\nwidely associated with Lakshmi, the goddess of prosperity, and\\nGanesha, the god of wisdom and the remover of obstacles.[17]\\nOther regional traditions connect the holiday to Vishnu,\\nKrishna, Durga, Shiva, Kali, Hanuman, Kubera, Yama, Yami,\\nDhanvantari, or Vishvakarman.\\nPrimarily a Hindu festival, variations of Diwali are also\\ncelebrated by adherents of other faiths.[14] The Jains observe\\ntheir own Diwali which marks the final liberation of\\nMahavira.[18][19] The Sikhs celebrate Bandi Chhor Divas to mark\\nthe release of Guru Hargobind from a Mughal prison.[20] Newar\\nBuddhists, unlike other Buddhists, celebrate Diwali by\\nworshipping Lakshmi, while the Hindus of Eastern India and\\nBangladesh generally celebrate Diwali by worshipping the\\ngoddess Kali.[21][2][22]\\nDuring the festival, the celebrants illuminate their homes,\\ntemples and workspaces with diyas (oil lamps), candles and\\nlanterns.[8] Hindus, in particular, have a ritual oil bath at dawn\\non each day of the festival.[23] Diwali is also marked with\\nfireworks as well as the decoration of floors with rangoli designs\\nand other parts of the house with jhalars. Food is a major focus\\nwith families partaking in feasts and sharing mithai.[24] The\\nfestival is an annual homecoming and bonding period not only\\n11/1/24, 11:21 PM Diwali - Wikipedia\\nhttps://en.wikipedia.org/wiki/Diwali 1/34'], retrieval_context=None, additional_metadata={'evolutions': ['Reasoning'], 'synthetic_input_quality': 0.8}, comments=None, tools_called=None, expected_tools=None, source_file='/content/Diwali - Wikipedia.pdf'), Golden(input=\"If communities prepped 200+ dishes for Annakut, how would this amplify Diwali's agricultural symbolism?\", actual_output=None, expected_output=\"Preparing over 200 dishes for Annakut would amplify Diwali's agricultural symbolism by highlighting the abundance and diversity of the harvest. This elaborate preparation and sharing of food serve as a celebration of the fruitful agricultural cycle, showcasing the importance and bounty of crops harvested. It underscores the agricultural motif, emphasizing gratitude for the prosperity provided by the land and reinforcing the connection between the community and the agricultural roots of the festival.\", context=['Annakut community meals (left), Krishna holding Govardhan Hill\\nritually made from cow dung, rice and flowers (right).\\nA sister ritually feeding her brother on\\nBhai Duj-Diwali\\nmountain-like miniatures from cow\\ndung.[148] According to Kinsley, the ritual\\nuse of cow dung, a common fertiliser, is an\\nagricultural motif and a celebration of its\\nsignificance to annual crop\\ncycles.[117][149][150]\\nThe agricultural symbolism is also\\nobserved on this day by many Hindus as\\nAnnakut, literally \"mountain of food\".\\nCommunities prepare over one hundred\\ndishes from a variety of ingredients, which\\nis then dedicated to Krishna before being shared among the community. Hindu temples on this day\\nprepare and present \"mountains of sweets\" to the faithful who have gathered for darshan (visit).[148]\\nIn Gujarat, Annakut is the first day of the new year and celebrated through the purchase of essentials,\\nor sabras (literally, \"good things in life\"), such as salt, offering prayers to Krishna and visiting\\ntemples.[148] In Gujarat New Year is celebrated after the day of Diwali. In the early morning people\\ntake showers, do prayer at home, visit temples for worship and children in the evening visit\\nneighbour\\'s houses to say happy new year, shake hands, get mukhvas for dessert, and chocolate.\\nThe last day of the festival, the second day of the bright fortnight of\\nKartik, is called Bhai Duj (literally \"brother\\'s day\"[151]), Bhau Beej,\\nBhai Tilak or Bhai Phonta. It celebrates the sister-brother bond,\\nsimilar in spirit to Raksha Bandhan but it is the brother that travels\\nto meet the sister and her family. This festive day is interpreted by\\nsome to symbolise Yama\\'s sister Yamuna welcoming Yama with a\\ntilaka, while others interpret it as the arrival of Krishna at his sister\\nSubhadra\\'s place after defeating Narakasura. Subhadra welcomes\\nhim with a tilaka on his forehead.[148][152]\\nThe day celebrates the sibling bond between brother and sister.[153]\\nOn this day the womenfolk of the family gather, perform a puja\\nwith prayers for the well being of their brothers, then return to a ritual of feeding their brothers with\\ntheir hands and receiving gifts. According to Pintchman, in some Hindu traditions the women recite\\ntales where sisters protect their brothers from enemies that seek to cause him either bodily or spiritual\\nharm.[152] In historic times, this was a day in autumn when brothers would travel to meet their sisters,\\nor invite their sister\\'s family to their village to celebrate their sister-brother bond with the bounty of\\nseasonal harvests.[42]\\nBhai Duj, Bhau-Beej, Vishwakarma Puja (Day 5)\\n11/1/24, 11:21 PM Diwali - Wikipedia\\nhttps://en.wikipedia.org/wiki/Diwali 12/34', 'A child playing with sparklers during\\nDiwali\\nOn the night of Diwali, rituals across much of India are dedicated\\nto Lakshmi to welcome her into their cleaned homes and bring\\nprosperity and happiness for the coming year.[140][62] While the\\ncleaning, or painting, of the home is in part for goddess Lakshmi, it\\nalso signifies the ritual \"reenactment of the cleansing, purifying\\naction of the monsoon rains\" that would have concluded in most of\\nthe Indian subcontinent.[140] Vaishnava families recite Hindu\\nlegends of the victory of good over evil and the return of hope after\\ndespair on the Diwali night, where the main characters may include\\nRama, Krishna, Vamana or one of the avatars of Vishnu, the divine\\nhusband of Lakshmi.[140][141] At dusk, lamps placed earlier in the\\ninside and outside of the home are lit up to welcome Lakshmi.[131]\\nFamily members light up firecrackers, which some interpret as a way to ward off all evil spirits and the\\ninauspicious, as well as add to the festive mood.[142][143] According to Pintchman, who quotes\\nRaghavan, this ritual may also be linked to the tradition in some communities of paying respect to\\nancestors. Earlier in the season\\'s fortnight, some welcome the souls of their ancestors to join the\\nfamily for the festivities with the Mahalaya. The Diwali night\\'s lights and firecrackers, in this\\ninterpretation, represent a celebratory and symbolic farewell to the departed ancestral souls.[144]\\nThe celebrations and rituals of the Jains and the Sikhs are similar to those of the Hindus where social\\nand community bonds are renewed. Major temples and homes are decorated with lights, festive foods\\nshared with all, friends and relatives remembered and visited with gifts.[133][97]\\nThe day after Diwali is the first day of the bright fortnight of Kartik.[145] It is regionally called Annakut\\n(heap of grain), Padwa, Goverdhan puja, Bali Pratipada, Bali Padyami, Kartik Shukla Pratipada and\\nother names.[27][145] According to one tradition, the day is associated with the story of Bali\\'s defeat at\\nthe hands of Vishnu.[146][147] In another interpretation, it is thought to reference the legend of Parvati\\nand her husband Shiva playing a game of dyuta (dice) on a board of twelve squares and thirty pieces,\\nParvati wins. Shiva surrenders his shirt and adornments to her, rendering him naked.[145] According\\nto Handelman and Shulman, as quoted by Pintchman, this legend is a Hindu metaphor for the cosmic\\nprocess for creation and dissolution of the world through the masculine destructive power, as\\nrepresented by Shiva, and the feminine procreative power, represented by Parvati, where twelve\\nreflects the number of months in the cyclic year, while thirty are the number of days in its lunisolar\\nmonth.[145]\\nThis day ritually celebrates the bond between the wife and husband,[148] and in some Hindu\\ncommunities, husbands will celebrate this with gifts to their wives. In other regions, parents invite a\\nnewly married daughter, or son, together with their spouses to a festive meal and give them gifts.[148]\\nIn some rural communities of the north, west and central regions, the fourth day is celebrated as\\nGovardhan puja, honouring the legend of the Hindu god Krishna saving the cowherd and farming\\ncommunities from incessant rains and floods triggered by Indra\\'s anger,[148] which he accomplished\\nby lifting the Govardhan mountain. This legend is remembered through the ritual of building small\\nAnnakut, Balipratipada (Padwa), New Year\\'s Day, Govardhan Puja (Day 4)\\n11/1/24, 11:21 PM Diwali - Wikipedia\\nhttps://en.wikipedia.org/wiki/Diwali 11/34', 'Choti Diwali is the major shopping day for festive mithai (sweets)\\nNaraka Chaturdashi, also known as\\nChhoti Diwali, is the second day of\\nfestivities coinciding with the fourteenth\\nday of the dark fortnight of Ashwin or\\nKartik.[124] The term \"chhoti\" means little,\\nwhile \"Naraka\" means hell and\\n\"Chaturdashi\" means \"fourteenth\".[125]\\nThe day and its rituals are interpreted as\\nways to liberate any souls from their\\nsuffering in \"Naraka\", or hell, as well as a\\nreminder of spiritual auspiciousness. For some Hindus, it is a day to pray for the peace to the manes,\\nor defiled souls of one\\'s ancestors and light their way for their journeys in the cyclic afterlife.[126] A\\nmythological interpretation of this festive day is the destruction of the asura (demon) Narakasura by\\nKrishna, a victory that frees 16,000 imprisoned princesses kidnapped by Narakasura.[125] It is also\\ncelebrated as Roop Chaudas in some North Indian households, where women bathe before sunrise,\\nwhile lighting a Diya (lamp) in the bath area, they believe it helps enhance their beauty – it is a fun\\nritual that young girls enjoy as part of festivities. Ubtan is applied by the women which is made up of\\nspecial gram flour mixed with herbs for cleansing and beautifying themselves.\\nNaraka Chaturdashi is also a major day for purchasing festive foods, particularly sweets. A variety of\\nsweets are prepared using flour, semolina, rice, chickpea flour, dry fruit pieces powders or paste, milk\\nsolids (mawa or khoya) and clarified butter (ghee).[10] According to Goldstein, these are then shaped\\ninto various forms, such as laddus, barfis, halwa, kachoris, shrikhand, and sandesh, rolled and stuffed\\ndelicacies, such as karanji, shankarpali, maladu, susiyam, pottukadalai. Sometimes these are wrapped\\nwith edible silver foil (vark). Confectioners and shops create Diwali-themed decorative displays,\\nselling these in large quantities, which are stocked for home celebrations to welcome guests and as\\ngifts.[10][116] Families also prepare homemade delicacies for Lakshmi Pujan, regarded as the main day\\nof Diwali.[10] Chhoti Diwali is also a day for visiting friends, business associates and relatives, and\\nexchanging gifts.[116]\\nOn the second day of Diwali, Hanuman Puja is performed in some parts of India especially in Gujarat.\\nIt coincides with the day of Kali Chaudas. It is believed that spirits roam around on the night of Kali\\nChaudas, and Hanuman, who is the deity of strength, power, and protection, is worshipped to seek\\nprotection from the spirits. Diwali is also celebrated to mark the return of Rama to Ayodhya after\\ndefeating the demon-king Ravana[127] and completing his fourteen years of exile. The devotion and\\ndedication of Hanuman pleased Rama so much that he blessed Hanuman to be worshipped before\\nhim. Thus, people worship Hanuman the day before Diwali\\'s main day.[128]\\nThis day is commonly celebrated as Diwali in Tamil Nadu, Goa, and Karnataka. Traditionally, Marathi\\nHindus and South Indian Hindus receive an oil massage from the elders in the family on the day and\\nthen take a ritual bath, all before sunrise.[129] Many visit their favourite Hindu temple.[130]\\n11/1/24, 11:21 PM Diwali - Wikipedia\\nhttps://en.wikipedia.org/wiki/Diwali 9/34'], retrieval_context=None, additional_metadata={'evolutions': ['Hypothetical'], 'synthetic_input_quality': 0.9}, comments=None, tools_called=None, expected_tools=None, source_file='/content/Diwali - Wikipedia.pdf'), Golden(input='If Annakut rituals expanded globally, how would the international community embrace this agrarian Hindu tradition?', actual_output=None, expected_output=\"The international community might embrace Annakut rituals by appreciating its agricultural symbolism, which celebrates the significance of cow dung and the abundance of food in annual crop cycles. Communities worldwide could participate by preparing multiple dishes to share, fostering a sense of unity and gratitude for the harvest. Hosting cultural events could also help in raising awareness about the tradition's roots in Hindu mythology, encouraging cross-cultural exchange and understanding. Additionally, inviting local populations to participate in similar community meals and temple visits could help integrate Annakut celebrations into global cultural practices.\", context=['Annakut community meals (left), Krishna holding Govardhan Hill\\nritually made from cow dung, rice and flowers (right).\\nA sister ritually feeding her brother on\\nBhai Duj-Diwali\\nmountain-like miniatures from cow\\ndung.[148] According to Kinsley, the ritual\\nuse of cow dung, a common fertiliser, is an\\nagricultural motif and a celebration of its\\nsignificance to annual crop\\ncycles.[117][149][150]\\nThe agricultural symbolism is also\\nobserved on this day by many Hindus as\\nAnnakut, literally \"mountain of food\".\\nCommunities prepare over one hundred\\ndishes from a variety of ingredients, which\\nis then dedicated to Krishna before being shared among the community. Hindu temples on this day\\nprepare and present \"mountains of sweets\" to the faithful who have gathered for darshan (visit).[148]\\nIn Gujarat, Annakut is the first day of the new year and celebrated through the purchase of essentials,\\nor sabras (literally, \"good things in life\"), such as salt, offering prayers to Krishna and visiting\\ntemples.[148] In Gujarat New Year is celebrated after the day of Diwali. In the early morning people\\ntake showers, do prayer at home, visit temples for worship and children in the evening visit\\nneighbour\\'s houses to say happy new year, shake hands, get mukhvas for dessert, and chocolate.\\nThe last day of the festival, the second day of the bright fortnight of\\nKartik, is called Bhai Duj (literally \"brother\\'s day\"[151]), Bhau Beej,\\nBhai Tilak or Bhai Phonta. It celebrates the sister-brother bond,\\nsimilar in spirit to Raksha Bandhan but it is the brother that travels\\nto meet the sister and her family. This festive day is interpreted by\\nsome to symbolise Yama\\'s sister Yamuna welcoming Yama with a\\ntilaka, while others interpret it as the arrival of Krishna at his sister\\nSubhadra\\'s place after defeating Narakasura. Subhadra welcomes\\nhim with a tilaka on his forehead.[148][152]\\nThe day celebrates the sibling bond between brother and sister.[153]\\nOn this day the womenfolk of the family gather, perform a puja\\nwith prayers for the well being of their brothers, then return to a ritual of feeding their brothers with\\ntheir hands and receiving gifts. According to Pintchman, in some Hindu traditions the women recite\\ntales where sisters protect their brothers from enemies that seek to cause him either bodily or spiritual\\nharm.[152] In historic times, this was a day in autumn when brothers would travel to meet their sisters,\\nor invite their sister\\'s family to their village to celebrate their sister-brother bond with the bounty of\\nseasonal harvests.[42]\\nBhai Duj, Bhau-Beej, Vishwakarma Puja (Day 5)\\n11/1/24, 11:21 PM Diwali - Wikipedia\\nhttps://en.wikipedia.org/wiki/Diwali 12/34', 'A child playing with sparklers during\\nDiwali\\nOn the night of Diwali, rituals across much of India are dedicated\\nto Lakshmi to welcome her into their cleaned homes and bring\\nprosperity and happiness for the coming year.[140][62] While the\\ncleaning, or painting, of the home is in part for goddess Lakshmi, it\\nalso signifies the ritual \"reenactment of the cleansing, purifying\\naction of the monsoon rains\" that would have concluded in most of\\nthe Indian subcontinent.[140] Vaishnava families recite Hindu\\nlegends of the victory of good over evil and the return of hope after\\ndespair on the Diwali night, where the main characters may include\\nRama, Krishna, Vamana or one of the avatars of Vishnu, the divine\\nhusband of Lakshmi.[140][141] At dusk, lamps placed earlier in the\\ninside and outside of the home are lit up to welcome Lakshmi.[131]\\nFamily members light up firecrackers, which some interpret as a way to ward off all evil spirits and the\\ninauspicious, as well as add to the festive mood.[142][143] According to Pintchman, who quotes\\nRaghavan, this ritual may also be linked to the tradition in some communities of paying respect to\\nancestors. Earlier in the season\\'s fortnight, some welcome the souls of their ancestors to join the\\nfamily for the festivities with the Mahalaya. The Diwali night\\'s lights and firecrackers, in this\\ninterpretation, represent a celebratory and symbolic farewell to the departed ancestral souls.[144]\\nThe celebrations and rituals of the Jains and the Sikhs are similar to those of the Hindus where social\\nand community bonds are renewed. Major temples and homes are decorated with lights, festive foods\\nshared with all, friends and relatives remembered and visited with gifts.[133][97]\\nThe day after Diwali is the first day of the bright fortnight of Kartik.[145] It is regionally called Annakut\\n(heap of grain), Padwa, Goverdhan puja, Bali Pratipada, Bali Padyami, Kartik Shukla Pratipada and\\nother names.[27][145] According to one tradition, the day is associated with the story of Bali\\'s defeat at\\nthe hands of Vishnu.[146][147] In another interpretation, it is thought to reference the legend of Parvati\\nand her husband Shiva playing a game of dyuta (dice) on a board of twelve squares and thirty pieces,\\nParvati wins. Shiva surrenders his shirt and adornments to her, rendering him naked.[145] According\\nto Handelman and Shulman, as quoted by Pintchman, this legend is a Hindu metaphor for the cosmic\\nprocess for creation and dissolution of the world through the masculine destructive power, as\\nrepresented by Shiva, and the feminine procreative power, represented by Parvati, where twelve\\nreflects the number of months in the cyclic year, while thirty are the number of days in its lunisolar\\nmonth.[145]\\nThis day ritually celebrates the bond between the wife and husband,[148] and in some Hindu\\ncommunities, husbands will celebrate this with gifts to their wives. In other regions, parents invite a\\nnewly married daughter, or son, together with their spouses to a festive meal and give them gifts.[148]\\nIn some rural communities of the north, west and central regions, the fourth day is celebrated as\\nGovardhan puja, honouring the legend of the Hindu god Krishna saving the cowherd and farming\\ncommunities from incessant rains and floods triggered by Indra\\'s anger,[148] which he accomplished\\nby lifting the Govardhan mountain. This legend is remembered through the ritual of building small\\nAnnakut, Balipratipada (Padwa), New Year\\'s Day, Govardhan Puja (Day 4)\\n11/1/24, 11:21 PM Diwali - Wikipedia\\nhttps://en.wikipedia.org/wiki/Diwali 11/34', 'Choti Diwali is the major shopping day for festive mithai (sweets)\\nNaraka Chaturdashi, also known as\\nChhoti Diwali, is the second day of\\nfestivities coinciding with the fourteenth\\nday of the dark fortnight of Ashwin or\\nKartik.[124] The term \"chhoti\" means little,\\nwhile \"Naraka\" means hell and\\n\"Chaturdashi\" means \"fourteenth\".[125]\\nThe day and its rituals are interpreted as\\nways to liberate any souls from their\\nsuffering in \"Naraka\", or hell, as well as a\\nreminder of spiritual auspiciousness. For some Hindus, it is a day to pray for the peace to the manes,\\nor defiled souls of one\\'s ancestors and light their way for their journeys in the cyclic afterlife.[126] A\\nmythological interpretation of this festive day is the destruction of the asura (demon) Narakasura by\\nKrishna, a victory that frees 16,000 imprisoned princesses kidnapped by Narakasura.[125] It is also\\ncelebrated as Roop Chaudas in some North Indian households, where women bathe before sunrise,\\nwhile lighting a Diya (lamp) in the bath area, they believe it helps enhance their beauty – it is a fun\\nritual that young girls enjoy as part of festivities. Ubtan is applied by the women which is made up of\\nspecial gram flour mixed with herbs for cleansing and beautifying themselves.\\nNaraka Chaturdashi is also a major day for purchasing festive foods, particularly sweets. A variety of\\nsweets are prepared using flour, semolina, rice, chickpea flour, dry fruit pieces powders or paste, milk\\nsolids (mawa or khoya) and clarified butter (ghee).[10] According to Goldstein, these are then shaped\\ninto various forms, such as laddus, barfis, halwa, kachoris, shrikhand, and sandesh, rolled and stuffed\\ndelicacies, such as karanji, shankarpali, maladu, susiyam, pottukadalai. Sometimes these are wrapped\\nwith edible silver foil (vark). Confectioners and shops create Diwali-themed decorative displays,\\nselling these in large quantities, which are stocked for home celebrations to welcome guests and as\\ngifts.[10][116] Families also prepare homemade delicacies for Lakshmi Pujan, regarded as the main day\\nof Diwali.[10] Chhoti Diwali is also a day for visiting friends, business associates and relatives, and\\nexchanging gifts.[116]\\nOn the second day of Diwali, Hanuman Puja is performed in some parts of India especially in Gujarat.\\nIt coincides with the day of Kali Chaudas. It is believed that spirits roam around on the night of Kali\\nChaudas, and Hanuman, who is the deity of strength, power, and protection, is worshipped to seek\\nprotection from the spirits. Diwali is also celebrated to mark the return of Rama to Ayodhya after\\ndefeating the demon-king Ravana[127] and completing his fourteen years of exile. The devotion and\\ndedication of Hanuman pleased Rama so much that he blessed Hanuman to be worshipped before\\nhim. Thus, people worship Hanuman the day before Diwali\\'s main day.[128]\\nThis day is commonly celebrated as Diwali in Tamil Nadu, Goa, and Karnataka. Traditionally, Marathi\\nHindus and South Indian Hindus receive an oil massage from the elders in the family on the day and\\nthen take a ritual bath, all before sunrise.[129] Many visit their favourite Hindu temple.[130]\\n11/1/24, 11:21 PM Diwali - Wikipedia\\nhttps://en.wikipedia.org/wiki/Diwali 9/34'], retrieval_context=None, additional_metadata={'evolutions': ['Hypothetical'], 'synthetic_input_quality': 0.7}, comments=None, tools_called=None, expected_tools=None, source_file='/content/Diwali - Wikipedia.pdf')], conversational_goldens=[], _alias=None, _id=None)"
            ]
          },
          "metadata": {},
          "execution_count": 13
        }
      ]
    },
    {
      "cell_type": "code",
      "source": [
        "goldens[0]"
      ],
      "metadata": {
        "colab": {
          "base_uri": "https://localhost:8080/"
        },
        "id": "Tf-_h08jkNB_",
        "outputId": "e8eb2492-d680-41f8-b7ed-42f9010c7b77"
      },
      "execution_count": null,
      "outputs": [
        {
          "output_type": "execute_result",
          "data": {
            "text/plain": [
              "Golden(input='How do global Diwali festivities in the UK, US, and Pakistan highlight cultural exchange and impact?', actual_output=None, expected_output=\"Global Diwali festivities serve as a platform for cultural exchange and highlight the impact of multicultural engagement in several countries. In the UK, Diwali celebrations, such as those at the Swaminarayan Temple in Neasden, are attended by national figures like former Prince Charles, emphasizing the contributions of the Hindu community to British society. The event is marked by lights, decorations, and cultural festivities, fostering mutual appreciation and integration. In the US, Diwali's significance was formally recognized by Congress in 2007, with President Obama participating in White House celebrations in 2009, reflecting recognition and respect for cultural diversity. In Pakistan, the exchange of traditional sweets between Indian and Pakistani border troops during Diwali symbolizes harmonious gestures that facilitate camaraderie amidst political tension. These festivities worldwide demonstrate how Diwali acts as a bridge, enhancing cultural ties and promoting goodwill across diverse communities.\", context=['Many governments encourage or sponsor Diwali-related festivities in their territories. For example,\\nthe Singaporean government, in association with the Hindu Endowments Board of Singapore,\\norganises many cultural events during Diwali every year.[175] National and civic leaders such as the\\nformer Prince Charles have attended Diwali celebrations at prominent Hindu temples in the UK, such\\nas the Swaminarayan Temple in Neasden, using the occasion to highlight contributions of the Hindu\\ncommunity to British society.[176][177] Additionally, cities across the UK show support of the\\ncelebrations through Diwali lights, decorations, and cultural festivities such as dance performances,\\nfood stalls and workshops.[178] Since 2009, Diwali has been celebrated every year at 10 Downing\\nStreet, the residence of the British Prime Minister.[179]\\nDiwali was first celebrated in the White House by George W. Bush in 2003 and its religious and\\nhistorical significance was officially recognized by the United States Congress in 2007.[180][181] Barack\\nObama became the first president to personally attend Diwali at the White House in 2009. On the eve\\nof his first visit to India as President of the United States, Obama released an official statement\\nsharing his best wishes with \"those celebrating Diwali\".[182]\\nEvery year during Diwali, Indian forces approach their Pakistani counterparts at the border bearing\\ngifts of traditional Indian confectionery, a gesture that is returned in kind by the Pakistani soldiers\\nwho give Pakistani sweets to the Indian soldiers.[183][t][187]\\nThe use of firecrackers on Diwali increases the concentration of dust and pollutants in the air. After\\nfiring, the fine dust particles get settled on the surrounding surfaces which are packed with chemicals\\nlike copper, zinc, sodium, lead, magnesium, cadmium and pollutants like oxides of sulfur and\\nnitrogen.[188] These invisible yet harmful particles affect the environment and in turn, put people\\'s\\nhealth at stake.[189] The smoke created by firecrackers lit up on Diwali causes smog which sometimes\\ntakes days to clear.[190]\\nDuring Diwali, the levels of suspended particulate matter increase. When people are exposed to these\\npollutant particles, they may suffer from eye, nose, and throat-related problems. To produce colors\\nwhen crackers are burst, carcinogenic and poisonous elements are used.[191]\\nDuring the 2023 celebration, New Delhi briefly took the top spot in the world for air pollution with an\\nair quality index of 680 on one night.[192]\\nThe use of fireworks during Diwali can also lead to burn injuries. One particular firework called anar\\n(fountain) has been found to be responsible for 65% of such injuries, with adults being the typical\\nvictims. Most of the injuries sustained are Group I type burns (minor) requiring only outpatient care.\\nExperts urge precaution around candles and fires and ask for children to be kept a safe distance from\\nflames and to enjoy the festivity of Diwali.[193][194]\\nHazards\\nGuinness World Record\\n11/1/24, 11:21 PM Diwali - Wikipedia\\nhttps://en.wikipedia.org/wiki/Diwali 14/34', 'across-india-celebrate-diwali-with-festivities-and-dazzling-l\\nights) from the original on 27 July 2023. Retrieved 10 November 2023.\\n191. \"Firecrackers Not Only Pollute The Environment But Also Carry Cancer Causing Chemicals\" (http\\ns://www.news18.com/news/india/a-look-at-how-firecrackers-pollute-the-environment-and-carry-carc\\ninogenic-agents-1916801.html). News18. 23 October 2018. Archived (https://web.archive.org/web/2\\n0211106193152/https://www.news18.com/news/india/a-look-at-how-firecrackers-pollute-the-environ\\nment-and-carry-carcinogenic-agents-1916801.html) from the original on 6 November 2021.\\nRetrieved 4 November 2021.\\n192. Mehta, Tanvi (13 November 2023). \"Three Indian cities among world\\'s 10 most polluted after\\nDiwali\" (https://www.reuters.com/markets/commodities/three-indian-cities-amongst-worlds-10-most-\\npolluted-after-diwali-2023-11-13/). Reuters. Retrieved 22 November 2023.\\n193. Mohan, D.; Varghese, M. (1990). \"Fireworks cast a shadow on India\\'s festival of lights\". World\\nHealth Forum. 11 (3): 323–326. PMID 2291800 (https://pubmed.ncbi.nlm.nih.gov/2291800).\\n11/1/24, 11:21 PM Diwali - Wikipedia\\nhttps://en.wikipedia.org/wiki/Diwali 29/34', '184. \"Pakistan parliament adopts resolution for Holi, Diwali, Easter holidays\" (http://timesofindia.indiatim\\nes.com/world/pakistan/Pakistan-parliament-adopts-resolution-for-Holi-Diwali-Easter-holidays/articl\\neshow/51423609.cms). The Times of India. 16 March 2016. Archived (https://web.archive.org/web/2\\n0180306175436/https://timesofindia.indiatimes.com/world/pakistan/Pakistan-parliament-adopts-res\\nolution-for-Holi-Diwali-Easter-holidays/articleshow/51423609.cms) from the original on 6 March\\n2018. Retrieved 13 March 2017.\\n185. Sridharan, Vasudevan (2016). \"Muslim-majority Pakistan set to declare Holi, Diwali and Easter as\\npublic holidays\" (http://www.ibtimes.co.uk/muslim-majority-pakistan-set-declare-holi-diwali-easter-p\\nublic-holidays-1550003). International Business Times. Archived (https://web.archive.org/web/2016\\n0318105641/http://www.ibtimes.co.uk/muslim-majority-pakistan-set-declare-holi-diwali-easter-publi\\nc-holidays-1550003) from the original on 18 March 2016. Retrieved 19 March 2016.\\n186. \"Muslims join Hindus in Diwali celebrations in Pakistan\\'s Peshawar\" (https://web.archive.org/web/2\\n0151211212853/http://articles.economictimes.indiatimes.com/2015-11-17/news/68356366_1_diwal\\ni-celebrations-pakistan-hindu-peshawar). The Economic Times. 17 November 2015. Archived from\\nthe original (http://articles.economictimes.indiatimes.com/2015-11-17/news/68356366_1_diwali-cel\\nebrations-pakistan-hindu-peshawar) on 11 December 2015. Retrieved 19 March 2016.\\n187. \"India-Pakistan border troops exchange Diwali sweets near Jaisalmer\" (https://english.mathrubhum\\ni.com/news/india/india-pakistan-border-troops-exchange-diwali-sweets-near-jaisalmer-1.1003893\\n7). Mathrubhumi.\\n188. \"Air Pollution: Delhi\\'s air quality enters \\'Red Zone\\' ahead of Diwali\" (https://www.dnaindia.com/indi\\na/video-air-pollution-delhi-s-air-quality-enters-red-zone-ahead-of-diwali-2918268). DNA India.\\nArchived (https://web.archive.org/web/20211106202325/https://www.dnaindia.com/india/video-air-p\\nollution-delhi-s-air-quality-enters-red-zone-ahead-of-diwali-2918268) from the original on 6\\nNovember 2021. Retrieved 4 November 2021.\\n189. \"Diwali may bring \\'severe\\' air pollution to Delhi, despite fireworks ban\" (https://www.washingtonpos\\nt.com/world/2021/11/03/delhi-fireworks-ban-green-diwali/). The Washington Post. ISSN 0190-8286\\n(https://search.worldcat.org/issn/0190-8286). Archived (https://web.archive.org/web/2021110512164\\n3/https://www.washingtonpost.com/world/2021/11/03/delhi-fireworks-ban-green-diwali/) from the\\noriginal on 5 November 2021. Retrieved 4 November 2021.\\n190. \"Residents across India celebrate Diwali with festivities and dazzling lights\" (https://www.npr.org/20\\n22/10/24/1130942026/residents-across-india-celebrate-diwali-with-festivities-and-dazzling-lights).\\nAP. NPR. 24 October 2022. Archived (https://web.archive.org/web/20230727194915/https://www.np\\nr.org/2022/10/24/1130942026/residents-'], retrieval_context=None, additional_metadata={'evolutions': ['Multi-context'], 'synthetic_input_quality': 0.9}, comments=None, tools_called=None, expected_tools=None, source_file='/content/Diwali - Wikipedia.pdf')"
            ]
          },
          "metadata": {},
          "execution_count": 19
        }
      ]
    },
    {
      "cell_type": "code",
      "source": [],
      "metadata": {
        "id": "la8VEjP3kQkh"
      },
      "execution_count": null,
      "outputs": []
    }
  ]
}