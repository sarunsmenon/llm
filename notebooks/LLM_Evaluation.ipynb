{
  "cells": [
    {
      "cell_type": "markdown",
      "metadata": {
        "colab_type": "text",
        "id": "view-in-github"
      },
      "source": [
        "<a href=\"https://colab.research.google.com/github/sarunsmenon/llm/blob/main/LLM_Evaluation.ipynb\" target=\"_parent\"><img src=\"https://colab.research.google.com/assets/colab-badge.svg\" alt=\"Open In Colab\"/></a>"
      ]
    },
    {
      "cell_type": "markdown",
      "metadata": {
        "id": "o-BfNth1SaVG"
      },
      "source": [
        "# Load Libraries"
      ]
    },
    {
      "cell_type": "code",
      "execution_count": 19,
      "metadata": {
        "id": "Cp82KVoEs7OD"
      },
      "outputs": [
        {
          "data": {
            "text/plain": [
              "True"
            ]
          },
          "execution_count": 19,
          "metadata": {},
          "output_type": "execute_result"
        }
      ],
      "source": [
        "import os\n",
        "from langchain_openai import ChatOpenAI, OpenAIEmbeddings\n",
        "import chromadb\n",
        "import random\n",
        "from dotenv import load_dotenv\n",
        "import pandas as pd\n",
        "load_dotenv(dotenv_path=\"../*.env\")"
      ]
    },
    {
      "cell_type": "code",
      "execution_count": 2,
      "metadata": {
        "id": "p4b5C7tiZXcd"
      },
      "outputs": [],
      "source": [
        "from deepeval.synthesizer import Synthesizer\n",
        "from deepeval import evaluate\n",
        "from deepeval.metrics import AnswerRelevancyMetric, FaithfulnessMetric\n",
        "from deepeval.dataset import EvaluationDataset\n",
        "from deepeval.test_case import LLMTestCase"
      ]
    },
    {
      "cell_type": "code",
      "execution_count": 3,
      "metadata": {
        "id": "d9oWkKM3o6ek"
      },
      "outputs": [],
      "source": [
        "import requests\n",
        "import chromadb\n",
        "from bs4 import BeautifulSoup\n",
        "import openai\n",
        "import hashlib\n",
        "import time\n",
        "import re"
      ]
    },
    {
      "cell_type": "markdown",
      "metadata": {
        "id": "JaJ7bNYus8cP"
      },
      "source": [
        "# Load Variables"
      ]
    },
    {
      "cell_type": "code",
      "execution_count": 4,
      "metadata": {
        "id": "pAbv8HrjuILY"
      },
      "outputs": [],
      "source": [
        "llm_model = 'gpt-4.1' # 'gpt-3.5-turbo-1106'\n",
        "llm = ChatOpenAI(model=llm_model, temperature=0)"
      ]
    },
    {
      "cell_type": "code",
      "execution_count": 5,
      "metadata": {
        "id": "tUurxzW7uFwz"
      },
      "outputs": [],
      "source": [
        "# Start crawling from the initial URL\n",
        "ignore_lst = []\n",
        "max_pg_lmt = 5000\n",
        "fldr = '../data/mhdb'"
      ]
    },
    {
      "cell_type": "markdown",
      "metadata": {
        "id": "QzEK--7KSK0T"
      },
      "source": [
        "# Load Contexts"
      ]
    },
    {
      "cell_type": "markdown",
      "metadata": {
        "id": "r32QSuTKSqWj"
      },
      "source": [
        "## Load Chroma Collection"
      ]
    },
    {
      "cell_type": "code",
      "execution_count": 6,
      "metadata": {
        "id": "6A7Ih6fDSNEp"
      },
      "outputs": [],
      "source": [
        "chroma_client = chromadb.PersistentClient(path=fldr)\n",
        "collection = chroma_client.get_or_create_collection(name=\"semantic\")"
      ]
    },
    {
      "cell_type": "markdown",
      "metadata": {
        "id": "doV-sswjStxh"
      },
      "source": [
        "## Load Contexts"
      ]
    },
    {
      "cell_type": "code",
      "execution_count": 7,
      "metadata": {
        "id": "KuS-zaaXSpfy"
      },
      "outputs": [
        {
          "name": "stdout",
          "output_type": "stream",
          "text": [
            "Sampled 10 contexts for evaluation.\n"
          ]
        }
      ],
      "source": [
        "all_contexts = collection.get(include=[\"documents\"])[\"documents\"]\n",
        "# Sample 10 contexts from the collection\n",
        "sample_context = random.sample(all_contexts, 10)\n",
        "sample_context_lst = [[context] for context in sample_context]\n",
        "print(f\"Sampled {len(sample_context_lst)} contexts for evaluation.\")"
      ]
    },
    {
      "cell_type": "markdown",
      "metadata": {
        "id": "SEJFVwI2taIH"
      },
      "source": [
        "# Synthesizer"
      ]
    },
    {
      "cell_type": "code",
      "execution_count": 8,
      "metadata": {},
      "outputs": [
        {
          "data": {
            "application/vnd.jupyter.widget-view+json": {
              "model_id": "d50f2fa1d2434be1b3bd4d73727dea09",
              "version_major": 2,
              "version_minor": 0
            },
            "text/plain": [
              "Output()"
            ]
          },
          "metadata": {},
          "output_type": "display_data"
        },
        {
          "data": {
            "text/html": [
              "<pre style=\"white-space:pre;overflow-x:auto;line-height:normal;font-family:Menlo,'DejaVu Sans Mono',consolas,'Courier New',monospace\"></pre>\n"
            ],
            "text/plain": []
          },
          "metadata": {},
          "output_type": "display_data"
        },
        {
          "data": {
            "application/vnd.jupyter.widget-view+json": {
              "model_id": "0e871289856643f191409a46a8d5ff19",
              "version_major": 2,
              "version_minor": 0
            },
            "text/plain": [
              "Output()"
            ]
          },
          "metadata": {},
          "output_type": "display_data"
        },
        {
          "data": {
            "text/html": [
              "<pre style=\"white-space:pre;overflow-x:auto;line-height:normal;font-family:Menlo,'DejaVu Sans Mono',consolas,'Courier New',monospace\"></pre>\n"
            ],
            "text/plain": []
          },
          "metadata": {},
          "output_type": "display_data"
        },
        {
          "data": {
            "application/vnd.jupyter.widget-view+json": {
              "model_id": "d0fb87ac71424a3d96d6cf13b6b26800",
              "version_major": 2,
              "version_minor": 0
            },
            "text/plain": [
              "Output()"
            ]
          },
          "metadata": {},
          "output_type": "display_data"
        },
        {
          "data": {
            "text/html": [
              "<pre style=\"white-space:pre;overflow-x:auto;line-height:normal;font-family:Menlo,'DejaVu Sans Mono',consolas,'Courier New',monospace\"></pre>\n"
            ],
            "text/plain": []
          },
          "metadata": {},
          "output_type": "display_data"
        },
        {
          "data": {
            "application/vnd.jupyter.widget-view+json": {
              "model_id": "1e605dfa3ac94e84aaa8c8aaebd8742f",
              "version_major": 2,
              "version_minor": 0
            },
            "text/plain": [
              "Output()"
            ]
          },
          "metadata": {},
          "output_type": "display_data"
        },
        {
          "data": {
            "text/html": [
              "<pre style=\"white-space:pre;overflow-x:auto;line-height:normal;font-family:Menlo,'DejaVu Sans Mono',consolas,'Courier New',monospace\"></pre>\n"
            ],
            "text/plain": []
          },
          "metadata": {},
          "output_type": "display_data"
        },
        {
          "data": {
            "application/vnd.jupyter.widget-view+json": {
              "model_id": "49f99c0986c049e8a570b6f08ad63c41",
              "version_major": 2,
              "version_minor": 0
            },
            "text/plain": [
              "Output()"
            ]
          },
          "metadata": {},
          "output_type": "display_data"
        },
        {
          "data": {
            "text/html": [
              "<pre style=\"white-space:pre;overflow-x:auto;line-height:normal;font-family:Menlo,'DejaVu Sans Mono',consolas,'Courier New',monospace\"></pre>\n"
            ],
            "text/plain": []
          },
          "metadata": {},
          "output_type": "display_data"
        }
      ],
      "source": [
        "batch_size = 2  # Adjust as needed\n",
        "all_goldens = []\n",
        "\n",
        "for i in range(0, len(sample_context_lst), batch_size):\n",
        "    batch_contexts = sample_context_lst[i:i + batch_size]\n",
        "    synthesizer = Synthesizer(model=llm_model)\n",
        "    synthesizer.generate_goldens_from_contexts(\n",
        "        contexts=batch_contexts,\n",
        "        max_goldens_per_context=2\n",
        "    )\n",
        "    all_goldens.extend(synthesizer.synthetic_goldens)"
      ]
    },
    {
      "cell_type": "code",
      "execution_count": null,
      "metadata": {},
      "outputs": [],
      "source": [
        "# use this code when we want to generate goldens from contexts\n",
        "# Uncomment the following lines to generate synthetic data from contexts\n",
        "# \n",
        "# from deepeval.synthesizer import Synthesizer\n",
        "# synthesizer = Synthesizer(model=llm_model)\n",
        "# synthesizer.generate_goldens_from_contexts(\n",
        "#     # Provide a list of context for synthetic data generation\n",
        "#     contexts=sample_context_lst,\n",
        "#     max_goldens_per_context = 2\n",
        "# )"
      ]
    },
    {
      "cell_type": "code",
      "execution_count": 9,
      "metadata": {},
      "outputs": [
        {
          "data": {
            "text/plain": [
              "70"
            ]
          },
          "execution_count": 9,
          "metadata": {},
          "output_type": "execute_result"
        }
      ],
      "source": [
        "len(all_goldens)"
      ]
    },
    {
      "cell_type": "code",
      "execution_count": 10,
      "metadata": {},
      "outputs": [],
      "source": [
        "test_cases = []\n",
        "\n",
        "for golden, retrieval_ctx in zip(all_goldens, sample_context_lst):\n",
        "    res = llm.invoke(golden.input).content\n",
        "    test_case = LLMTestCase(\n",
        "        input=golden.input,\n",
        "        actual_output=res,\n",
        "        expected_output=golden.expected_output,\n",
        "        retrieval_context=retrieval_ctx\n",
        "    )\n",
        "    test_cases.append(test_case)"
      ]
    },
    {
      "cell_type": "markdown",
      "metadata": {
        "id": "UFV2-pcWMG_H"
      },
      "source": [
        "# Evaluation"
      ]
    },
    {
      "cell_type": "code",
      "execution_count": 11,
      "metadata": {
        "id": "WzfcN8W9QxsW"
      },
      "outputs": [],
      "source": [
        "clean_test_case_lst = []\n",
        "for test_case in test_cases:\n",
        "  if isinstance(test_case, LLMTestCase):\n",
        "    clean_test_case_lst.append(test_case)\n"
      ]
    },
    {
      "cell_type": "code",
      "execution_count": 12,
      "metadata": {
        "colab": {
          "base_uri": "https://localhost:8080/"
        },
        "id": "B7X8yyKDRP-7",
        "outputId": "bf20cac8-fd11-4d8a-d95d-1bd86160c263"
      },
      "outputs": [
        {
          "name": "stdout",
          "output_type": "stream",
          "text": [
            "10\n",
            "10\n"
          ]
        }
      ],
      "source": [
        "print(len(test_cases))\n",
        "print(len(clean_test_case_lst))"
      ]
    },
    {
      "cell_type": "code",
      "execution_count": 14,
      "metadata": {
        "colab": {
          "base_uri": "https://localhost:8080/",
          "height": 1000,
          "referenced_widgets": [
            "c80c42fbc91d4b90bca7c7c4357224ca",
            "9fc9f7cbbf8e407da23863d8522584cf",
            "38e735f886164faeb9379c6b1a6dda52",
            "edac998697014e0fb8ada76589e9ec98",
            "2606f7cd23474d56bdcd609d1a9f6f2a",
            "b6cbdef4aa87468faa90232e4c28f5b8",
            "f57295c438614f24b1588f583da3f417",
            "a3d19c67f69545979f32aeddc27c8a6a",
            "863b7952f9c54ee883139314fb4a015c",
            "24883f0c784a4498a3876638abd5dd4e",
            "e0476f692dfa4fc7a09e83ff787e6e4d",
            "6a12678f13684e3f9d440d8a98f673e7"
          ]
        },
        "id": "t6hfFyN5Tbvv",
        "outputId": "803f1358-b8d7-4429-f4b1-90ef10927799"
      },
      "outputs": [
        {
          "name": "stdout",
          "output_type": "stream",
          "text": [
            "Evaluating batch 1...\n"
          ]
        },
        {
          "data": {
            "text/html": [
              "<pre style=\"white-space:pre;overflow-x:auto;line-height:normal;font-family:Menlo,'DejaVu Sans Mono',consolas,'Courier New',monospace\">✨ You're running DeepEval's latest <span style=\"color: #6a00ff; text-decoration-color: #6a00ff\">Answer Relevancy Metric</span>! <span style=\"color: #374151; text-decoration-color: #374151; font-weight: bold\">(</span><span style=\"color: #374151; text-decoration-color: #374151\">using gpt-</span><span style=\"color: #374151; text-decoration-color: #374151; font-weight: bold\">4.1</span><span style=\"color: #374151; text-decoration-color: #374151\">, </span><span style=\"color: #374151; text-decoration-color: #374151\">strict</span><span style=\"color: #374151; text-decoration-color: #374151\">=</span><span style=\"color: #374151; text-decoration-color: #374151; font-style: italic\">False</span><span style=\"color: #374151; text-decoration-color: #374151\">, </span><span style=\"color: #374151; text-decoration-color: #374151\">async_mode</span><span style=\"color: #374151; text-decoration-color: #374151\">=</span><span style=\"color: #374151; text-decoration-color: #374151; font-style: italic\">True</span><span style=\"color: #374151; text-decoration-color: #374151; font-weight: bold\">)</span><span style=\"color: #374151; text-decoration-color: #374151\">...</span>\n",
              "</pre>\n"
            ],
            "text/plain": [
              "✨ You're running DeepEval's latest \u001b[38;2;106;0;255mAnswer Relevancy Metric\u001b[0m! \u001b[1;38;2;55;65;81m(\u001b[0m\u001b[38;2;55;65;81musing gpt-\u001b[0m\u001b[1;38;2;55;65;81m4.1\u001b[0m\u001b[38;2;55;65;81m, \u001b[0m\u001b[38;2;55;65;81mstrict\u001b[0m\u001b[38;2;55;65;81m=\u001b[0m\u001b[3;38;2;55;65;81mFalse\u001b[0m\u001b[38;2;55;65;81m, \u001b[0m\u001b[38;2;55;65;81masync_mode\u001b[0m\u001b[38;2;55;65;81m=\u001b[0m\u001b[3;38;2;55;65;81mTrue\u001b[0m\u001b[1;38;2;55;65;81m)\u001b[0m\u001b[38;2;55;65;81m...\u001b[0m\n"
            ]
          },
          "metadata": {},
          "output_type": "display_data"
        },
        {
          "data": {
            "text/html": [
              "<pre style=\"white-space:pre;overflow-x:auto;line-height:normal;font-family:Menlo,'DejaVu Sans Mono',consolas,'Courier New',monospace\">✨ You're running DeepEval's latest <span style=\"color: #6a00ff; text-decoration-color: #6a00ff\">Faithfulness Metric</span>! <span style=\"color: #374151; text-decoration-color: #374151; font-weight: bold\">(</span><span style=\"color: #374151; text-decoration-color: #374151\">using gpt-</span><span style=\"color: #374151; text-decoration-color: #374151; font-weight: bold\">4.1</span><span style=\"color: #374151; text-decoration-color: #374151\">, </span><span style=\"color: #374151; text-decoration-color: #374151\">strict</span><span style=\"color: #374151; text-decoration-color: #374151\">=</span><span style=\"color: #374151; text-decoration-color: #374151; font-style: italic\">False</span><span style=\"color: #374151; text-decoration-color: #374151\">, </span><span style=\"color: #374151; text-decoration-color: #374151\">async_mode</span><span style=\"color: #374151; text-decoration-color: #374151\">=</span><span style=\"color: #374151; text-decoration-color: #374151; font-style: italic\">True</span><span style=\"color: #374151; text-decoration-color: #374151; font-weight: bold\">)</span><span style=\"color: #374151; text-decoration-color: #374151\">...</span>\n",
              "</pre>\n"
            ],
            "text/plain": [
              "✨ You're running DeepEval's latest \u001b[38;2;106;0;255mFaithfulness Metric\u001b[0m! \u001b[1;38;2;55;65;81m(\u001b[0m\u001b[38;2;55;65;81musing gpt-\u001b[0m\u001b[1;38;2;55;65;81m4.1\u001b[0m\u001b[38;2;55;65;81m, \u001b[0m\u001b[38;2;55;65;81mstrict\u001b[0m\u001b[38;2;55;65;81m=\u001b[0m\u001b[3;38;2;55;65;81mFalse\u001b[0m\u001b[38;2;55;65;81m, \u001b[0m\u001b[38;2;55;65;81masync_mode\u001b[0m\u001b[38;2;55;65;81m=\u001b[0m\u001b[3;38;2;55;65;81mTrue\u001b[0m\u001b[1;38;2;55;65;81m)\u001b[0m\u001b[38;2;55;65;81m...\u001b[0m\n"
            ]
          },
          "metadata": {},
          "output_type": "display_data"
        },
        {
          "data": {
            "application/vnd.jupyter.widget-view+json": {
              "model_id": "2319c09cd7e34e4496e5c37975c40dab",
              "version_major": 2,
              "version_minor": 0
            },
            "text/plain": [
              "Output()"
            ]
          },
          "metadata": {},
          "output_type": "display_data"
        },
        {
          "data": {
            "text/html": [
              "<pre style=\"white-space:pre;overflow-x:auto;line-height:normal;font-family:Menlo,'DejaVu Sans Mono',consolas,'Courier New',monospace\"></pre>\n"
            ],
            "text/plain": []
          },
          "metadata": {},
          "output_type": "display_data"
        },
        {
          "name": "stdout",
          "output_type": "stream",
          "text": [
            "\n",
            "======================================================================\n",
            "\n",
            "Metrics Summary\n",
            "\n",
            "  - ✅ Answer Relevancy (score: 1.0, threshold: 0.7, strict: False, evaluation model: gpt-4.1, reason: The score is 1.00 because the answer is fully relevant, directly addressing the question with no irrelevant statements. Great job staying focused and on-topic!, error: None)\n",
            "  - ✅ Faithfulness (score: 1.0, threshold: 0.7, strict: False, evaluation model: gpt-4.1, reason: Great job! There are no contradictions, so the actual output is fully faithful to the retrieval context., error: None)\n",
            "\n",
            "For test case:\n",
            "\n",
            "  - input: What evidence and practices regarding drug consumption rooms are detailed by Nougier and Schatz (2012)?\n",
            "  - actual output: Certainly! Here’s a summary of the evidence and practices regarding drug consumption rooms (DCRs) as detailed by Nougier and Schatz (2012):\n",
            "\n",
            "**Reference:**  \n",
            "Nougier, M. & Schatz, E. (2012). *Drug Consumption Rooms: Evidence and Practice*. International Drug Policy Consortium (IDPC) Briefing Paper.\n",
            "\n",
            "---\n",
            "\n",
            "### Evidence and Practices Detailed by Nougier and Schatz (2012):\n",
            "\n",
            "#### **1. Definition and Purpose**\n",
            "- Drug consumption rooms (DCRs), also known as supervised injecting facilities or safer consumption spaces, are professionally supervised healthcare facilities where people can consume drugs in safer and more hygienic conditions.\n",
            "- The main aims are to reduce health risks (such as overdose and infectious diseases), improve public order, and connect marginalized drug users with health and social services.\n",
            "\n",
            "#### **2. Evidence of Effectiveness**\n",
            "- **Reduction in Health Risks:**  \n",
            "  - DCRs reduce the risk of overdose deaths by providing immediate medical assistance.\n",
            "  - They lower the transmission of blood-borne diseases (HIV, hepatitis C) by providing sterile equipment and safe environments.\n",
            "- **Improved Access to Services:**  \n",
            "  - DCRs serve as a bridge to health and social services, including drug treatment, housing, and medical care.\n",
            "- **Reduction in Public Nuisance:**  \n",
            "  - Evidence shows a decrease in public drug use and discarded syringes in areas surrounding DCRs.\n",
            "- **No Increase in Drug Use or Crime:**  \n",
            "  - Studies cited indicate that DCRs do not increase drug use, drug dealing, or crime in their neighborhoods.\n",
            "\n",
            "#### **3. International Practices**\n",
            "- DCRs have been implemented in several countries, including Switzerland, Germany, the Netherlands, Spain, Norway, Luxembourg, Australia, and Canada.\n",
            "- Models vary: some are stand-alone facilities, others are integrated into existing health or social services.\n",
            "- Services provided often include: sterile injecting equipment, emergency care in case of overdose, counseling, and referrals to treatment and social support.\n",
            "\n",
            "#### **4. Challenges and Considerations**\n",
            "- Legal and political barriers exist in many countries.\n",
            "- Community consultation and support are crucial for successful implementation.\n",
            "- DCRs are most effective as part of a broader harm reduction and public health strategy.\n",
            "\n",
            "#### **5. Recommendations**\n",
            "- The authors recommend the expansion of DCRs as an evidence-based intervention to reduce drug-related harms.\n",
            "- They emphasize the importance of integrating DCRs with other health and social services.\n",
            "\n",
            "---\n",
            "\n",
            "**In summary:**  \n",
            "Nougier and Schatz (2012) present DCRs as a well-evidenced harm reduction intervention that improves health outcomes for people who use drugs, reduces public nuisance, and does not increase drug use or crime. They advocate for their wider adoption as part of comprehensive drug policy reform.\n",
            "\n",
            "**For direct quotes or more detailed evidence, see:**  \n",
            "[Nougier & Schatz, 2012, IDPC Briefing Paper (PDF)](https://idpc.net/publications/2012/06/idpc-briefing-paper-drug-consumption-rooms-evidence-and-practice)\n",
            "  - expected output: Nougier and Schatz (2012) provide evidence that drug consumption rooms are effective in harm reduction, specifically by reducing drug-related deaths, disease transmission, and public nuisance. They also outline best practices for their operation, emphasizing the need for professional staff, safe and hygienic environments, and integration with health and social services.\n",
            "  - context: None\n",
            "  - retrieval context: [\"Read the Bilateral Schedule announcement. Topics:\\n\\nService improvement\\n\\nEngage & enable\\n\\nLived experience-led reform\\n\\nSector engagement\\n\\nPartnerships and stakeholders\\n\\nOther state & national reforms\\n\\nBetter Care Together services plan\\n\\nNational Agreement & Bilateral Schedule\\n\\nProductivity Commission Inquiry\\n\\nNational Drug Strategy\\n\\nFifth National Mental Health Plan\\n\\nConsultations\\n\\nLifetime Achievement Awards\\n\\nNeed help? Crisis contacts\\n\\nFind support services\\n\\nHealthcare complaints\\n\\nMental health in natural disasters\\n\\nSupporting someone in distress\\n\\nAccess support 24/7\\n\\nJoin Sane’s online peer support forum for complex mental illness\\n\\nFollow us\\n\\nAbout\\n\\nOur work\\n\\nManagement & structure\\n\\nOur performance\\n\\nCorporate information\\n\\nFunding\\n\\nPublications\\n\\nStrategic planning\\n\\nStatewide strategic plan\\n\\nSub plans\\n\\nResearch & review\\n\\nHuman rights\\n\\nStigma & discrimination\\n\\nService integration\\n\\nHealth system performance\\n\\nQMHC submissions\\n\\nBroader system reform\\n\\nAwareness & promotion\\n\\nMental health & wellbeing\\n\\nPrevention\\n\\nEarly intervention\\n\\nSuicide prevention\\n\\nFirst Nations' wellbeing\\n\\nSocial & economic opportunity\\n\\nEngage & enable\\n\\nLived experience-led reform\\n\\nSector engagement\\n\\nPartnerships and stakeholders\\n\\nOther state & national reforms\\n\\nConsultations\\n\\nLifetime Achievement Awards\\n\\nMedia & events\\n\\nMindframe reporting guidelines\\n\\nMedia releases\\n\\nLatest news\\n\\nCommissioner viewpoint\\n\\nEvents\\n\\nLeading reform blog\\n\\neNews\\n\\nVideos\\n\\nSocial media\\n\\nNeed help? Contact us\\n\\nQueensland Mental Health CommissionPO Box 13027 George Street Brisbane Queensland 4003Phone 1300 855 945 | Fax 07 3405 9780\\n\\nFollow us on:\\n\\nCopyright\\n\\nDisclaimer\\n\\nPrivacy\\n\\nRight to information\\n\\nAccessibility\\n\\nJobs in Queensland government\\n\\nOther languages\\n\\nCopyright © 2024 Queensland Mental Health Commission. All rights reserved.\"]\n",
            "\n",
            "======================================================================\n",
            "\n",
            "Overall Metric Pass Rates\n",
            "\n",
            "Answer Relevancy: 100.00% pass rate\n",
            "Faithfulness: 100.00% pass rate\n",
            "\n",
            "======================================================================\n",
            "\n",
            "\n",
            "======================================================================\n",
            "\n",
            "Metrics Summary\n",
            "\n",
            "  - ✅ Answer Relevancy (score: 1.0, threshold: 0.7, strict: False, evaluation model: gpt-4.1, reason: The score is 1.00 because the answer was fully relevant, directly addressing the distinctions between welfare, support services, housing, and police, criminal law, and employment. Great job staying focused and clear!, error: None)\n",
            "  - ✅ Faithfulness (score: 1.0, threshold: 0.7, strict: False, evaluation model: gpt-4.1, reason: Great job! There are no contradictions, so the actual output is fully faithful to the retrieval context., error: None)\n",
            "\n",
            "For test case:\n",
            "\n",
            "  - input: How are welfare, support services, and housing distinct from police, criminal law, and employment?\n",
            "  - actual output: Certainly! Here’s a clear explanation of how **welfare, support services, and housing** are distinct from **police, criminal law, and employment**:\n",
            "\n",
            "---\n",
            "\n",
            "### 1. **Welfare, Support Services, and Housing**\n",
            "\n",
            "These are **social services** aimed at supporting people’s well-being and basic needs:\n",
            "\n",
            "- **Welfare:** Government or organizational programs that provide financial assistance or benefits to individuals and families in need (e.g., unemployment benefits, food stamps, disability payments).\n",
            "- **Support Services:** Services that help people cope with challenges, such as counseling, mental health services, addiction support, childcare, or services for the elderly and disabled.\n",
            "- **Housing:** Programs or policies that help people access safe, affordable housing, such as public housing, housing vouchers, or homelessness prevention.\n",
            "\n",
            "**Purpose:**  \n",
            "To help people meet basic needs, improve quality of life, and provide a safety net during difficult times.\n",
            "\n",
            "---\n",
            "\n",
            "### 2. **Police, Criminal Law, and Employment**\n",
            "\n",
            "These relate to **law enforcement, legal systems, and work**:\n",
            "\n",
            "- **Police:** Law enforcement agencies responsible for maintaining public order, preventing and investigating crime, and enforcing laws.\n",
            "- **Criminal Law:** The body of law that defines crimes, sets punishments, and governs the prosecution of people accused of crimes.\n",
            "- **Employment:** The relationship between employers and employees, including jobs, labor laws, workplace rights, and economic activity.\n",
            "\n",
            "**Purpose:**  \n",
            "To maintain social order, ensure justice, and regulate work and economic participation.\n",
            "\n",
            "---\n",
            "\n",
            "### **Key Differences**\n",
            "\n",
            "| Category                        | Focus/Function                                      | Examples                        |\n",
            "|----------------------------------|----------------------------------------------------|----------------------------------|\n",
            "| Welfare, Support, Housing        | Social support, basic needs, well-being             | Food stamps, counseling, shelters|\n",
            "| Police, Criminal Law, Employment | Law/order, justice, work/economic activity          | Arrests, courts, job contracts   |\n",
            "\n",
            "- **Welfare/support/housing** are about **helping people** meet needs and overcome challenges.\n",
            "- **Police/criminal law/employment** are about **regulating behavior**, enforcing laws, and organizing work.\n",
            "\n",
            "---\n",
            "\n",
            "**In summary:**  \n",
            "Welfare, support services, and housing are about providing help and resources to people, while police, criminal law, and employment are about enforcing rules, maintaining order, and organizing work in society.\n",
            "  - expected output: Welfare, support services, and housing focus on providing assistance and resources to improve individuals' well-being and living conditions, while police, public order, and criminal law are concerned with maintaining safety and enforcing laws. Employment relates to job opportunities and workforce matters, making it distinct from both welfare/support services and law enforcement.\n",
            "  - context: None\n",
            "  - retrieval context: ['[cited 2017 Nov 17]. Available from: https://www.yourhealthinmind.org/getmedia/b9b7a719-5c48-4d8a-b7a8-c05a21a29aad/Anxiety-disorders-YHIM.pdf.aspx?ext=.pdf\\n\\nYour Health in Mind [Internet]. Australia & New Zealand: Royal Australian and New Zealand of Psychiatrists. Obsessive-compulsive disorder (OCD). [cited 2017 Nov 17]. Available from: https://www.yourhealthinmind.org/getmedia/0c8ef0e9-76c0-4b9e-ab6a-c17d50bb7db9/Obsessive-compulsive-disorder-YHIM.pdf.aspx?ext=.pdf\\n\\nAustralian Psychology Society [Internet]. Melbourne (Australia): Australian Psychological Society; c2017. Understanding and managing anxiety [cited 2017 Oct 30]. Available from: https://psychology.org.au/publications/tip_sheets/anxiety/\\n\\nBeyondblue [Internet]. Victoria (Australia): Beyond Blue Limited; c2016. OCD. [cited 2017 Oct 26]. Available from: https://www.beyondblue.org.au/the-facts/anxiety/types-of-anxiety/ocd\\n\\nYour Health in Mind [Internet]. Australia & New Zealand: Royal Australian and New Zealand of Psychiatrists. Obsessive-compulsive disorder (OCD). [cited 2017 Nov 17]. Available from: https://www.yourhealthinmind.org/getmedia/0c8ef0e9-76c0-4b9e-ab6a-c17d50bb7db9/Obsessive-compulsive-disorder-YHIM.pdf.aspx?ext=.pdf\\n\\nYour Health in Mind [Internet]. Australia & New Zealand: Royal Australian and New Zealand of Psychiatrists. Obsessive-compulsive disorder (OCD).']\n",
            "\n",
            "======================================================================\n",
            "\n",
            "Overall Metric Pass Rates\n",
            "\n",
            "Answer Relevancy: 100.00% pass rate\n",
            "Faithfulness: 100.00% pass rate\n",
            "\n",
            "======================================================================\n",
            "\n",
            "\n",
            "======================================================================\n",
            "\n",
            "Metrics Summary\n",
            "\n",
            "  - ✅ Answer Relevancy (score: 1.0, threshold: 0.7, strict: False, evaluation model: gpt-4.1, reason: The score is 1.00 because the answer was fully relevant and addressed the distinctions between welfare, support services, housing, and police, criminal law, and employment without including any irrelevant information. Great job staying focused and clear!, error: None)\n",
            "  - ✅ Faithfulness (score: 1.0, threshold: 0.7, strict: False, evaluation model: gpt-4.1, reason: Great job! There are no contradictions, so the actual output is fully faithful to the retrieval context., error: None)\n",
            "\n",
            "For test case:\n",
            "\n",
            "  - input: How are welfare, support services, and housing distinct from police, criminal law, and employment?\n",
            "  - actual output: Certainly! Here’s a clear explanation of how **welfare, support services, and housing** are distinct from **police, criminal law, and employment**:\n",
            "\n",
            "---\n",
            "\n",
            "### Welfare, Support Services, and Housing\n",
            "\n",
            "These are **social services** aimed at supporting people’s well-being and basic needs:\n",
            "\n",
            "- **Welfare:** Government or charitable programs that provide financial assistance or benefits to people in need (e.g., unemployment benefits, food stamps, disability payments).\n",
            "- **Support Services:** Programs or organizations that help people with specific needs, such as counseling, mental health services, addiction treatment, or help for domestic violence survivors.\n",
            "- **Housing:** Services or programs that help people find, afford, or keep safe and stable housing (e.g., public housing, rent assistance, shelters).\n",
            "\n",
            "**Purpose:**  \n",
            "To help people meet basic needs, improve quality of life, and address social or economic disadvantages.\n",
            "\n",
            "---\n",
            "\n",
            "### Police, Criminal Law, and Employment\n",
            "\n",
            "These relate to **law enforcement, legal systems, and work**:\n",
            "\n",
            "- **Police:** Law enforcement agencies that maintain public order, prevent and investigate crime, and enforce laws.\n",
            "- **Criminal Law:** The body of law that defines crimes, sets punishments, and governs the prosecution of people accused of crimes.\n",
            "- **Employment:** The relationship between employers and employees, including jobs, labor rights, workplace regulations, and economic activity.\n",
            "\n",
            "**Purpose:**  \n",
            "To maintain social order, define and address criminal behavior, and regulate work and economic participation.\n",
            "\n",
            "---\n",
            "\n",
            "### Key Differences\n",
            "\n",
            "| Category                        | Focus/Function                                  | Examples                        |\n",
            "|----------------------------------|------------------------------------------------|----------------------------------|\n",
            "| Welfare, Support, Housing        | Social support, meeting basic needs             | Food stamps, shelters, counseling|\n",
            "| Police, Criminal Law, Employment | Law, order, justice, and economic participation | Police, courts, jobs             |\n",
            "\n",
            "- **Welfare/support/housing**: Help people in need, prevent hardship, and promote well-being.\n",
            "- **Police/criminal law/employment**: Enforce laws, address crime, and regulate work.\n",
            "\n",
            "**In summary:**  \n",
            "Welfare, support services, and housing are about helping people with life’s challenges and needs, while police, criminal law, and employment are about maintaining order, justice, and economic activity. They serve different roles in society, though sometimes they interact (e.g., police may refer people to support services, or employment status may affect eligibility for welfare).\n",
            "  - expected output: Welfare, support services, and housing focus on providing assistance and resources to improve individuals' well-being and living conditions, while police, public order, and criminal law are concerned with maintaining safety and enforcing laws. Employment relates to job opportunities and workforce matters, making it distinct from both welfare/support services and law enforcement.\n",
            "  - context: None\n",
            "  - retrieval context: ['Implement a training and orientation program to meet its requirements\\n\\nc. Provide access to training to meet its safety and quality training needs\\n\\nd. Monitor the workforce’s participation in training\\n\\nExplanatory notes Your organisation demonstrates a culture of ongoing learning and development and has processes in place to identify the learning and development opportunities necessary for members of the workforce to ensure that they can meet the needs of consumers and comply with regulatory requirements. The organisation should take a broad approach when assessing training needs to ensure all aspects of workforce roles are considered. Organisations should consider:\\n\\n\\x9f Evidence‑based service delivery relevant to the model of care \\x9f Inclusivity, such as how to access and work with interpreters, how to ask consumers about their\\n\\ncultural background, how to identify and respond when an individual would benefit from a worker of a different gender\\n\\n\\x9f Understanding and working within governance processes, such as how to access policies, use of the\\n\\nrisk register and incident reporting systems and quality improvement skills. Work alongside people with lived experience expertise from priority population groups to identify any specialised training and development needs the workforce will require to enhance cultural safety in service delivery. 30\\u2002|\\u2002National Safety and Quality Mental Health Standards for Community Managed Organisations\\n\\nKey tasks \\x9f Establish orientation and on‑boarding training requirements for all new members of the workforce \\x9f Include identification and discussion of professional development opportunities in workforce\\n\\nperformance and probation reviews\\n\\n\\x9f Put personal development plans in place for all members of the workforce to identify areas of\\n\\ngrowth and upskilling\\n\\n\\x9f Seek feedback following workforce training to assess the effectiveness of the training provided. \\x9f Maintain records of quality and safety training completed by members of the workforce in\\n\\nyour organisation\\n\\n\\x9f Facilitate the opportunity for workers to participate in communities of practice as a means of skill\\n\\ndevelopment and resource sharing\\n\\n\\x9f Ensure consumers continue to receive supports while members of the workforce are\\n\\nreceiving training\\n\\nExamples of evidence \\x9f Training register which includes required training for specific roles and responsibilities and\\n\\ncompleted training\\n\\n\\x9f Schedule for future training \\x9f Documented professional development plans and refresher training for individual members of\\n\\nthe workforce\\n\\n\\x9f Evidence of online, easily available resources and information and training modules to assist\\n\\nmembers of the workforce in their work\\n\\nWhere to go for more information \\x9f Black Dog Institute – Education and training: Health professionals74 \\x9f Comorbidity Guidelines – Training programs75 \\x9f Mental Health Coordinating Council – Nationally recognised training76 \\x9f Mental Health Victoria – Workforce learning and development77 \\x9f National Mental Health Commission – Peer workforce training78 \\x9f Tafecourses.com.au – Mental Health Courses79 \\x9f Transcultural Mental Health Centre – Education and Training80 \\x9f Western Australian Association for Mental Health – Sector Development and Training81\\n\\nGuide for Service Providers\\u2002|\\u200231\\n\\nWorkforce qualifications and performance management\\n\\nAction 1.16\\n\\nThe service provider has processes to ensure members of the workforce:\\n\\na. Work within a defined scope of practice\\n\\nb. Have the necessary skills, experience and qualifications and values to fulfil their role\\n\\nincluding skills in working with vulnerable people\\n\\nc. Provide current evidence of clearance to work with vulnerable people, including National\\n\\nPolice Checks and, where relevant, Working with Children Checks\\n\\nExplanatory notes A key component to making sure your services are safely delivered and of high‑quality is to ensure that your workers have the required skills and. Having a clearly defined scope of practice for your workers will not only assist in providing role clarity, but also help set professional boundaries for members of the workforce, which in turn supports their personal safety and wellbeing. Key tasks \\x9f Check and retain documented records at recruitment and subsequent specified intervals to ensure\\n\\nworker screening checks, qualifications and registrations are valid and current\\n\\n\\x9f Ensure selection criteria and role descriptions are up-to-date and reviewed to reflect the needs\\n\\nof consumers\\n\\n\\x9f Clearly identify and document the skills, knowledge and expertise required for each role within your\\n\\nservice and confirm these are understood by members of the workforce\\n\\n\\x9f Provide a clear outline of the responsibilities, limitations, time allocated for the service provided and\\n\\nreporting lines for each role\\n\\n\\x9f Establish clear requirements for volunteers, students on placement, and employees that are\\n\\nstudying or training whilst in the workplace and ensure that these people have the resources they need to fulfil their role and support their performance\\n\\nExamples of evidence \\x9f Qualifications and experience register includes requirements and renewal dates of any credentials\\n\\nfor allied healthcare staff working in your organisation, as well as checks for working with vulnerable people and working with children\\n\\n\\x9f Policy setting out organisational pre‑employment requirements, for example, reference checking,\\n\\ntelephone screening prior to formal interviews\\n\\n32\\u2002|\\u2002National Safety and Quality Mental Health Standards for Community Managed Organisations\\n\\nWhere to go for more information \\x9f National Association of Aboriginal and Torres Strait Islander Health Workers and Practitioners –\\n\\nNational Framework for Determining Scope of Practice for the Aboriginal and Torres Strait Islander Health Worker and Health Practitioner Workforce82\\n\\n\\x9f NSW Government – Legal obligations and rights83 \\x9f Queensland Health – Mental health framework: Lived Experience [Peer] Workforce\\n\\nFramework 202384\\n\\n\\x9f Mental Health Professional Online Development – MHPOD Learning Portal85\\n\\nAction 1.17\\n\\nThe service provider has valid and reliable performance review processes that:\\n\\na. Require members of the workforce to regularly take part in a performance review\\n\\nb. Include the creation of professional development plans and access to support to\\n\\nimplement those plans\\n\\nc. Address performance issues, including discriminatory practices\\n\\nd. Incorporate information on training requirements into training systems\\n\\nExplanatory notes Implementing routine performance reviews is essential to ensuring that an organisation’s workers are utilising an evidence-based practice approach, are aware of their specific roles and responsibilities and to highlight any gaps in their knowledge and practice. Performance appraisals should be designed to provide a structured yet flexible approach to developing and managing performance. They should support and motivate employees to develop their skills and identify any training and professional development opportunities they need. It should be a positive experience for both the organisation and the workforce member. The appraisal process provides workers with a clear understanding of their work roles, including the contribution of their work to the organisation’s vision and strategic plan, and the opportunity for members of the workforce members to develop to their full potential. Key tasks \\x9f Conduct performance reviews for all members of the workforce at least annually, and conduct probation performance reviews for new members of the workforce three to six months after commencing their role\\n\\n\\x9f Provide members of the workforce with regular feedback on their performance and support them\\n\\nto access professional development\\n\\n\\x9f Provide opportunities for feedback on workforce performance from consumers, their families, and\\n\\ncarers to help inform the organisation’s review of workforce capacity and capability\\n\\nGuide for Service Providers\\u2002|\\u200233\\n\\nExamples of evidence \\x9f Standardised performance review and probation review templates \\x9f Policy regarding management of workforce performance \\x9f Documented feedback on workforce performance and professional development progress \\x9f Copies of professional development plans \\x9f Code of conduct \\x9f Examples of resources and training materials used to perform an appraisal and train members of\\n\\nthe workforce to conduct them\\n\\n\\x9f Policy would also include disciplinary procedure following an event and grievance and\\n\\ndispute resolution\\n\\nWhere to go for more information \\x9f Australian Commission on Safety and Quality in Health Care – Review by peers: A guide for\\n\\nprofessional, clinical and administrative processes86\\n\\n\\x9f Australian Health Practitioner Regulation Agency – Continuing Professional Development87 \\x9f Mental Health Commission of NSW – What is peer supervision?88 \\x9f Self Help Addiction Resource Centre (SHARC) – Peer Workforce Supervision89\\n\\nAction 1.18\\n\\nThe service provider ensures non‑discriminatory practices and equitable access to services by monitoring and responding to performance issues associated with prejudice, bias and discrimination in the workforce\\n\\nExplanatory notes Embedding a recovery-oriented, strengths-based culture into an organisation is a significant safeguard against discriminatory practice. Alongside this, encouraging critical reflective practice allows members of the workforce to identify any assumptions or biases they may hold, and make plans to ensure that these assumptions or biases don’t impact the outcomes for consumers, their families or carers. 34\\u2002|\\u2002National Safety and Quality Mental Health Standards for Community Managed Organisations\\n\\nKey tasks \\x9f Facilitate workforce participation in regular supervision to ensure their practice is free from harm,\\n\\nand actively prevents any incidents of prejudice, bias, and discrimination from occurring\\n\\n\\x9f Ensure that the model of practice supervision used encourages critical reflection to assist members\\n\\nof the workforce to identify any personal prejudices and biases to mitigate any risk of harm to consumers\\n\\n\\x9f Implement routine training to ensure members of the workforce are equipped to use evidence‑based approaches which safeguard against harmful, inequitable practices\\n\\nExamples of evidence \\x9f Code of conduct signed by all members of the workforce and volunteers \\x9f Procedures on how to best support consumers through reporting allegations of prejudice, bias and\\n\\ndiscrimination, such as facilitating access to an advocate\\n\\n\\x9f Protocols which include advice on recording, reviewing, and investigating any allegations or\\n\\nincidents, and what action your organisation is taking to prevent future incidents\\n\\n\\x9f Training to support members of the workforce working with consumers from diverse cultures and\\n\\ncommunities in a culturally safe and competent manner\\n\\nWhere to go for more information \\x9f Australian Human Rights Commission – Rights and Freedoms90 \\x9f La Trobe University – Reflective practice in health91 \\x9f Mental Health Coordinating Council – Mental Health Rights Manual: The right to equality92\\n\\nLegislation:\\n\\n\\x9f NSW Anti‑Discrimination Act 1977 \\x9f Age Discrimination Act 2004 \\x9f Disability Discrimination Act 1992 \\x9f Australian Human Rights Commission Act 1986 \\x9f Race Discrimination Act 1975 \\x9f Sex Discrimination Act 1984\\n\\nGuide for Service Providers\\u2002|\\u200235\\n\\nSafe environment for the delivery of care\\n\\nSafe environment\\n\\nAction 1.19\\n\\nThe service provider maximises the safety and quality of care:\\n\\na. Through the design of the environment\\n\\nb.']\n",
            "\n",
            "======================================================================\n",
            "\n",
            "Overall Metric Pass Rates\n",
            "\n",
            "Answer Relevancy: 100.00% pass rate\n",
            "Faithfulness: 100.00% pass rate\n",
            "\n",
            "======================================================================\n",
            "\n",
            "\n",
            "======================================================================\n",
            "\n",
            "Metrics Summary\n",
            "\n",
            "  - ✅ Answer Relevancy (score: 1.0, threshold: 0.7, strict: False, evaluation model: gpt-4.1, reason: The score is 1.00 because the answer was fully relevant and addressed the input directly without any irrelevant statements. Great job staying focused and concise!, error: None)\n",
            "  - ✅ Faithfulness (score: 1.0, threshold: 0.7, strict: False, evaluation model: gpt-4.1, reason: Great job! There are no contradictions, so the actual output is fully faithful to the retrieval context., error: None)\n",
            "\n",
            "For test case:\n",
            "\n",
            "  - input: Which domains are included under welfare services, housing, police/public order, criminal law, and employment?\n",
            "  - actual output: Certainly! Here’s a breakdown of the **domains** typically included under each of the areas you mentioned:\n",
            "\n",
            "---\n",
            "\n",
            "### 1. **Welfare Services**\n",
            "These refer to public or social services provided to support individuals and families in need. Domains include:\n",
            "- **Social security and social assistance** (pensions, disability benefits, unemployment benefits)\n",
            "- **Child welfare and protection**\n",
            "- **Elderly care services**\n",
            "- **Services for people with disabilities**\n",
            "- **Family support services**\n",
            "- **Public health and community health services** (excluding core medical care)\n",
            "- **Homelessness support**\n",
            "- **Substance abuse and addiction services**\n",
            "- **Youth services**\n",
            "- **Community development and outreach**\n",
            "\n",
            "---\n",
            "\n",
            "### 2. **Housing**\n",
            "This domain covers policies and services related to accommodation and living conditions. Domains include:\n",
            "- **Public/social housing**\n",
            "- **Affordable housing schemes**\n",
            "- **Homelessness prevention and support**\n",
            "- **Housing regulation and standards**\n",
            "- **Rent control and tenant protection**\n",
            "- **Urban renewal and regeneration**\n",
            "- **Housing finance and subsidies**\n",
            "- **Building codes and safety standards**\n",
            "\n",
            "---\n",
            "\n",
            "### 3. **Police/Public Order**\n",
            "This area concerns the maintenance of law, order, and public safety. Domains include:\n",
            "- **Policing and law enforcement**\n",
            "- **Crime prevention**\n",
            "- **Public safety and emergency response**\n",
            "- **Community policing**\n",
            "- **Traffic control and road safety**\n",
            "- **Counter-terrorism**\n",
            "- **Crowd control and riot management**\n",
            "- **Licensing and regulation of public events**\n",
            "- **Regulation of firearms and dangerous substances**\n",
            "\n",
            "---\n",
            "\n",
            "### 4. **Criminal Law**\n",
            "This domain covers the legal framework for defining and prosecuting crimes. Domains include:\n",
            "- **Definition of criminal offenses**\n",
            "- **Criminal procedure and prosecution**\n",
            "- **Sentencing and penalties**\n",
            "- **Juvenile justice**\n",
            "- **Victim support and rights**\n",
            "- **Prison and correctional services**\n",
            "- **Probation and parole**\n",
            "- **Legal aid in criminal cases**\n",
            "- **Extradition and international criminal cooperation**\n",
            "\n",
            "---\n",
            "\n",
            "### 5. **Employment**\n",
            "This area covers the regulation and support of work and the labor market. Domains include:\n",
            "- **Labor law and employment rights**\n",
            "- **Minimum wage and wage regulation**\n",
            "- **Working conditions and occupational health and safety**\n",
            "- **Employment standards (hours, leave, etc.)**\n",
            "- **Trade unions and collective bargaining**\n",
            "- **Employment support and job placement services**\n",
            "- **Unemployment insurance and benefits**\n",
            "- **Equal opportunities and anti-discrimination in employment**\n",
            "- **Skills training and workforce development**\n",
            "- **Migrant labor regulation**\n",
            "\n",
            "---\n",
            "\n",
            "**Note:**  \n",
            "The specific domains included under each heading can vary by country and legal system, but these are the most common areas associated with each.\n",
            "\n",
            "If you have a particular country or context in mind (e.g., UK devolution, Indian federalism, etc.), let me know for a more tailored answer!\n",
            "  - expected output: The domains included are welfare and support services (including housing), police, public order and criminal law, and employment.\n",
            "  - context: None\n",
            "  - retrieval context: [\"Skip to main content\\n\\nTwitter\\n\\nFacebook\\n\\nYouTube\\n\\nInstagram\\n\\nMenu\\n\\nMenu\\n\\nNews and Events\\n\\nCEO Update: Celebrating an ancient and continuing culture, and supporting new families\\n\\nCEO Update: Celebrating an ancient and continuing culture, and supporting new families\\n\\nFriday, November 13, 2020\\n\\nCEO Update: Celebrating an ancient and continuing culture, and supporting new families\\n\\nChoose a language... and we'll provide resources in that language where we can.\"]\n",
            "\n",
            "======================================================================\n",
            "\n",
            "Overall Metric Pass Rates\n",
            "\n",
            "Answer Relevancy: 100.00% pass rate\n",
            "Faithfulness: 100.00% pass rate\n",
            "\n",
            "======================================================================\n",
            "\n",
            "\n",
            "======================================================================\n",
            "\n",
            "Metrics Summary\n",
            "\n",
            "  - ✅ Answer Relevancy (score: 1.0, threshold: 0.7, strict: False, evaluation model: gpt-4.1, reason: The score is 1.00 because the answer is fully relevant, directly addressing the input without any irrelevant statements. Great job staying focused and on-topic!, error: None)\n",
            "  - ✅ Faithfulness (score: 1.0, threshold: 0.7, strict: False, evaluation model: gpt-4.1, reason: Great job! There are no contradictions, so the actual output is fully faithful to the retrieval context., error: None)\n",
            "\n",
            "For test case:\n",
            "\n",
            "  - input: What evidence and practices regarding drug consumption rooms are detailed by Nougier and Schatz (2012)?\n",
            "  - actual output: Certainly! In their 2012 report, **Nougier and Schatz** (from the International Drug Policy Consortium) provide a comprehensive overview of **drug consumption rooms (DCRs)**, also known as supervised injecting facilities or safe injection sites. Here’s a summary of the **evidence and practices** they detail:\n",
            "\n",
            "---\n",
            "\n",
            "### **Evidence Regarding Drug Consumption Rooms**\n",
            "\n",
            "**1. Health Outcomes:**\n",
            "- **Reduction in Overdose Deaths:** DCRs are associated with fewer fatal overdoses, as staff can intervene immediately.\n",
            "- **Lower Transmission of Infectious Diseases:** By providing sterile equipment and safe environments, DCRs help reduce the spread of HIV and hepatitis C.\n",
            "- **Improved Access to Health and Social Services:** DCRs often serve as a bridge to addiction treatment, healthcare, and social support.\n",
            "\n",
            "**2. Public Order and Safety:**\n",
            "- **Reduction in Public Drug Use:** DCRs decrease the visibility of drug use in public spaces and reduce discarded syringes.\n",
            "- **No Increase in Drug Use or Crime:** Evidence shows DCRs do not increase local drug use or attract more crime to the area.\n",
            "\n",
            "**3. Engagement with Marginalized Populations:**\n",
            "- DCRs reach people who are often excluded from other health services, including the homeless and those with severe addiction.\n",
            "\n",
            "---\n",
            "\n",
            "### **Practices Detailed**\n",
            "\n",
            "**1. Operational Models:**\n",
            "- **Fixed-site Facilities:** Most DCRs are located in permanent buildings.\n",
            "- **Mobile Units:** Some operate from vans to reach different neighborhoods.\n",
            "\n",
            "**2. Services Provided:**\n",
            "- **Supervised Drug Consumption:** Staff oversee drug use to prevent overdoses and provide immediate assistance.\n",
            "- **Sterile Equipment:** Provision of clean needles, syringes, and other paraphernalia.\n",
            "- **Health Education:** Information on safer drug use and overdose prevention.\n",
            "- **Referral Services:** Connection to addiction treatment, housing, and social services.\n",
            "\n",
            "**3. Staffing:**\n",
            "- DCRs are typically staffed by nurses, social workers, and sometimes peer workers with lived experience.\n",
            "\n",
            "**4. Legal and Policy Context:**\n",
            "- DCRs operate under specific legal exemptions or frameworks, often as part of broader harm reduction strategies.\n",
            "\n",
            "---\n",
            "\n",
            "### **References**\n",
            "\n",
            "- **Nougier, M., & Schatz, E. (2012). Drug Consumption Rooms: Evidence and Practice. International Drug Policy Consortium Briefing Paper.**\n",
            "\n",
            "---\n",
            "\n",
            "**In summary:**  \n",
            "Nougier and Schatz (2012) conclude that DCRs are effective in reducing health risks and public nuisance without increasing drug use or crime, and they outline best practices for their operation, including service integration, staff composition, and legal considerations.\n",
            "  - expected output: Nougier and Schatz (2012) provide evidence that drug consumption rooms are effective in harm reduction, specifically by reducing drug-related deaths, disease transmission, and public nuisance. They also outline best practices for their operation, emphasizing the need for professional staff, safe and hygienic environments, and integration with health and social services.\n",
            "  - context: None\n",
            "  - retrieval context: ['They also worked with mental hospital services to establish supported community based accommodation for their family member. This was the start of the Arafmi* (Association of Relatives and Friends of the Mentally Ill) movement. Almost 40 years later, and even with a greatly improved medical response to mental ill health, the sometimes unpredictable and cyclical nature of mental illness can still wreak havoc in the personal lives of not only individuals, but their chief supporters- families and carers. Today, this movement has morphed into the MHCAA (Mental Health Carers Arafmi Australia), a strong national advocacy body which takes the grassroots experience of mental health carers across Australia and provides a platform for them to raise their voice and advocate for their needs in the national health and social policy decision-making arena! MHCAA is the only national advocacy group solely concerned with the well-being and promotion of the needs of mental health carers. A key partnership for us is the hosting of the national office by Mind Australia. I wish to thank Frances Sanders and Gerry Naughtin for their ongoing support with this. Member organisations in all states and territories continue to provide the understanding and the peer support that only other carers can provide. This is done through specific carer services such as telephone helplines, information giving, and exchange through educational and support groups. Grassroots to National Voice (reg.) is the name given to the consultative process which takes the everyday experience of carers into the national arena. Twice a year member organisations meet face-to-face to report and identify key issues affecting them as carers and the people for who they provide care. This is the engine room of the MHCAA. It is from here that the advocacy agenda and work-plans for the year ahead are made.']\n",
            "\n",
            "======================================================================\n",
            "\n",
            "Overall Metric Pass Rates\n",
            "\n",
            "Answer Relevancy: 100.00% pass rate\n",
            "Faithfulness: 100.00% pass rate\n",
            "\n",
            "======================================================================\n",
            "\n"
          ]
        },
        {
          "data": {
            "text/html": [
              "<pre style=\"white-space:pre;overflow-x:auto;line-height:normal;font-family:Menlo,'DejaVu Sans Mono',consolas,'Courier New',monospace\">\n",
              "<span style=\"color: #05f58d; text-decoration-color: #05f58d\">✓</span> Tests finished 🎉! Run <span style=\"color: #008000; text-decoration-color: #008000; font-weight: bold\">'deepeval view'</span> to analyze, debug, and save evaluation results on <span style=\"color: #6a00ff; text-decoration-color: #6a00ff\">Confident AI</span>.\n",
              "\n",
              "</pre>\n"
            ],
            "text/plain": [
              "\n",
              "\u001b[38;2;5;245;141m✓\u001b[0m Tests finished 🎉! Run \u001b[1;32m'deepeval view'\u001b[0m to analyze, debug, and save evaluation results on \u001b[38;2;106;0;255mConfident AI\u001b[0m.\n",
              "\n"
            ]
          },
          "metadata": {},
          "output_type": "display_data"
        },
        {
          "name": "stdout",
          "output_type": "stream",
          "text": [
            "Evaluating batch 2...\n"
          ]
        },
        {
          "data": {
            "text/html": [
              "<pre style=\"white-space:pre;overflow-x:auto;line-height:normal;font-family:Menlo,'DejaVu Sans Mono',consolas,'Courier New',monospace\">✨ You're running DeepEval's latest <span style=\"color: #6a00ff; text-decoration-color: #6a00ff\">Answer Relevancy Metric</span>! <span style=\"color: #374151; text-decoration-color: #374151; font-weight: bold\">(</span><span style=\"color: #374151; text-decoration-color: #374151\">using gpt-</span><span style=\"color: #374151; text-decoration-color: #374151; font-weight: bold\">4.1</span><span style=\"color: #374151; text-decoration-color: #374151\">, </span><span style=\"color: #374151; text-decoration-color: #374151\">strict</span><span style=\"color: #374151; text-decoration-color: #374151\">=</span><span style=\"color: #374151; text-decoration-color: #374151; font-style: italic\">False</span><span style=\"color: #374151; text-decoration-color: #374151\">, </span><span style=\"color: #374151; text-decoration-color: #374151\">async_mode</span><span style=\"color: #374151; text-decoration-color: #374151\">=</span><span style=\"color: #374151; text-decoration-color: #374151; font-style: italic\">True</span><span style=\"color: #374151; text-decoration-color: #374151; font-weight: bold\">)</span><span style=\"color: #374151; text-decoration-color: #374151\">...</span>\n",
              "</pre>\n"
            ],
            "text/plain": [
              "✨ You're running DeepEval's latest \u001b[38;2;106;0;255mAnswer Relevancy Metric\u001b[0m! \u001b[1;38;2;55;65;81m(\u001b[0m\u001b[38;2;55;65;81musing gpt-\u001b[0m\u001b[1;38;2;55;65;81m4.1\u001b[0m\u001b[38;2;55;65;81m, \u001b[0m\u001b[38;2;55;65;81mstrict\u001b[0m\u001b[38;2;55;65;81m=\u001b[0m\u001b[3;38;2;55;65;81mFalse\u001b[0m\u001b[38;2;55;65;81m, \u001b[0m\u001b[38;2;55;65;81masync_mode\u001b[0m\u001b[38;2;55;65;81m=\u001b[0m\u001b[3;38;2;55;65;81mTrue\u001b[0m\u001b[1;38;2;55;65;81m)\u001b[0m\u001b[38;2;55;65;81m...\u001b[0m\n"
            ]
          },
          "metadata": {},
          "output_type": "display_data"
        },
        {
          "data": {
            "text/html": [
              "<pre style=\"white-space:pre;overflow-x:auto;line-height:normal;font-family:Menlo,'DejaVu Sans Mono',consolas,'Courier New',monospace\">✨ You're running DeepEval's latest <span style=\"color: #6a00ff; text-decoration-color: #6a00ff\">Faithfulness Metric</span>! <span style=\"color: #374151; text-decoration-color: #374151; font-weight: bold\">(</span><span style=\"color: #374151; text-decoration-color: #374151\">using gpt-</span><span style=\"color: #374151; text-decoration-color: #374151; font-weight: bold\">4.1</span><span style=\"color: #374151; text-decoration-color: #374151\">, </span><span style=\"color: #374151; text-decoration-color: #374151\">strict</span><span style=\"color: #374151; text-decoration-color: #374151\">=</span><span style=\"color: #374151; text-decoration-color: #374151; font-style: italic\">False</span><span style=\"color: #374151; text-decoration-color: #374151\">, </span><span style=\"color: #374151; text-decoration-color: #374151\">async_mode</span><span style=\"color: #374151; text-decoration-color: #374151\">=</span><span style=\"color: #374151; text-decoration-color: #374151; font-style: italic\">True</span><span style=\"color: #374151; text-decoration-color: #374151; font-weight: bold\">)</span><span style=\"color: #374151; text-decoration-color: #374151\">...</span>\n",
              "</pre>\n"
            ],
            "text/plain": [
              "✨ You're running DeepEval's latest \u001b[38;2;106;0;255mFaithfulness Metric\u001b[0m! \u001b[1;38;2;55;65;81m(\u001b[0m\u001b[38;2;55;65;81musing gpt-\u001b[0m\u001b[1;38;2;55;65;81m4.1\u001b[0m\u001b[38;2;55;65;81m, \u001b[0m\u001b[38;2;55;65;81mstrict\u001b[0m\u001b[38;2;55;65;81m=\u001b[0m\u001b[3;38;2;55;65;81mFalse\u001b[0m\u001b[38;2;55;65;81m, \u001b[0m\u001b[38;2;55;65;81masync_mode\u001b[0m\u001b[38;2;55;65;81m=\u001b[0m\u001b[3;38;2;55;65;81mTrue\u001b[0m\u001b[1;38;2;55;65;81m)\u001b[0m\u001b[38;2;55;65;81m...\u001b[0m\n"
            ]
          },
          "metadata": {},
          "output_type": "display_data"
        },
        {
          "data": {
            "application/vnd.jupyter.widget-view+json": {
              "model_id": "05f2bfaaec22459e8123c9faee285b6f",
              "version_major": 2,
              "version_minor": 0
            },
            "text/plain": [
              "Output()"
            ]
          },
          "metadata": {},
          "output_type": "display_data"
        },
        {
          "data": {
            "text/html": [
              "<pre style=\"white-space:pre;overflow-x:auto;line-height:normal;font-family:Menlo,'DejaVu Sans Mono',consolas,'Courier New',monospace\">ERROR:root:OpenAI Error: Could not parse response content as the length limit was reached - \n",
              "CompletionUsage(completion_tokens=32768, prompt_tokens=1269, total_tokens=34037, \n",
              "completion_tokens_details=CompletionTokensDetails(accepted_prediction_tokens=0, audio_tokens=0, reasoning_tokens=0,\n",
              "rejected_prediction_tokens=0), prompt_tokens_details=PromptTokensDetails(audio_tokens=0, cached_tokens=0)) \n",
              "Retrying: 1 time(s)...\n",
              "</pre>\n"
            ],
            "text/plain": [
              "ERROR:root:OpenAI Error: Could not parse response content as the length limit was reached - \n",
              "CompletionUsage(completion_tokens=32768, prompt_tokens=1269, total_tokens=34037, \n",
              "completion_tokens_details=CompletionTokensDetails(accepted_prediction_tokens=0, audio_tokens=0, reasoning_tokens=0,\n",
              "rejected_prediction_tokens=0), prompt_tokens_details=PromptTokensDetails(audio_tokens=0, cached_tokens=0)) \n",
              "Retrying: 1 time(s)...\n"
            ]
          },
          "metadata": {},
          "output_type": "display_data"
        },
        {
          "data": {
            "text/html": [
              "<pre style=\"white-space:pre;overflow-x:auto;line-height:normal;font-family:Menlo,'DejaVu Sans Mono',consolas,'Courier New',monospace\"></pre>\n"
            ],
            "text/plain": []
          },
          "metadata": {},
          "output_type": "display_data"
        },
        {
          "name": "stdout",
          "output_type": "stream",
          "text": [
            "\n",
            "======================================================================\n",
            "\n",
            "Metrics Summary\n",
            "\n",
            "  - ✅ Answer Relevancy (score: 1.0, threshold: 0.7, strict: False, evaluation model: gpt-4.1, reason: The score is 1.00 because the answer was fully relevant and addressed the input directly, with no irrelevant statements present. Great job staying focused and concise!, error: None)\n",
            "  - ✅ Faithfulness (score: 1.0, threshold: 0.7, strict: False, evaluation model: gpt-4.1, reason: Great job! There are no contradictions, so the actual output is fully faithful to the retrieval context., error: None)\n",
            "\n",
            "For test case:\n",
            "\n",
            "  - input: Summarize international policy differences in supervised injection facility regulations as discussed by Nougier & Schatz (2012).\n",
            "  - actual output: Certainly! According to Nougier & Schatz (2012), international policy differences regarding supervised injection facilities (SIFs) are significant. Some countries, such as Switzerland, Germany, the Netherlands, and Australia, have established legal frameworks that permit and regulate SIFs as part of harm reduction strategies. These countries typically emphasize public health, safety, and the reduction of drug-related harms.\n",
            "\n",
            "In contrast, other countries—such as the United States and many in Eastern Europe—maintain strict prohibitions against SIFs, often due to legal, political, or ideological opposition. In these places, drug use is primarily addressed through criminal justice approaches rather than public health interventions.\n",
            "\n",
            "Overall, the authors highlight that the existence and regulation of SIFs are shaped by broader national drug policies, legal systems, and attitudes toward harm reduction, resulting in a patchwork of approaches internationally.\n",
            "  - expected output: Nougier & Schatz (2012) highlight that regulations for supervised injection facilities (SIFs) vary internationally, with some countries adopting more supportive legal frameworks and comprehensive harm reduction approaches, while others enforce stricter controls or prohibit SIFs altogether. These differences reflect varying national drug policies, public health priorities, and local legal contexts.\n",
            "  - context: None\n",
            "  - retrieval context: ['What is self-harm? Published 15 September 2023 • 7 minute read\\n\\nThere are many reasons why someone self-harms, but most often it’s a way of coping with strong or difficult feelings and emotions. It might happen only once, or it can be a repeat behaviour. If you’re self-harming or having thoughts of self-harming, you can learn why this might be happening, how to stop harming yourself and where to get help. In this article, we will cover:\\n\\nWhat is self-harm? Why do people self-harm? Signs of self-harm and how to help a friend who is showing these signs\\n\\nHow to stop self-harm\\n\\nHow to tell someone you self-harm\\n\\nWhat is self-harm\\n\\nSelf-harm is when someone intentionally hurts themselves. It can take many different forms. For most young people who self-harm, it’s a way to cope with painful emotions and not a direct attempt to end their life. Self-harm can result in serious injuries and sometimes even in death. Talk to someone, call a doctor, or call 000 immediately if you or someone you know has injured themselves and you’re worried about them. Types of self-harm\\n\\nContent advice: reading about self-harm methods may help you identify if you are self-harming, but it can also be distressing and potentially triggering. Before reading further, consider if skipping this section is the best choice for you right now. Self-harm isn’t always obvious and sometimes it may not have any physical signs. If you, or someone you know, is self-harming, it may look like:\\n\\ncutting the skin\\n\\nhitting yourself and/or pulling out your hair\\n\\nscratching, burning or picking at the skin\\n\\nintentionally overdosing on drugs or alcohol to cause harm to the body\\n\\ndeliberately fasting or bingeing to cause harm to the body. Why do people self-harm?']\n",
            "\n",
            "======================================================================\n",
            "\n",
            "Overall Metric Pass Rates\n",
            "\n",
            "Answer Relevancy: 100.00% pass rate\n",
            "Faithfulness: 100.00% pass rate\n",
            "\n",
            "======================================================================\n",
            "\n",
            "\n",
            "======================================================================\n",
            "\n",
            "Metrics Summary\n",
            "\n",
            "  - ✅ Answer Relevancy (score: 1.0, threshold: 0.7, strict: False, evaluation model: gpt-4.1, reason: The score is 1.00 because the answer was fully relevant and addressed the input without including any irrelevant information. Great job staying focused and concise!, error: None)\n",
            "  - ✅ Faithfulness (score: 1.0, threshold: 0.7, strict: False, evaluation model: gpt-4.1, reason: Great job! There are no contradictions, so the actual output is fully faithful to the retrieval context., error: None)\n",
            "\n",
            "For test case:\n",
            "\n",
            "  - input: Summarize international policy differences in supervised injection facility regulations as discussed by Nougier & Schatz (2012).\n",
            "  - actual output: Nougier & Schatz (2012) highlight significant international differences in the regulation of supervised injection facilities (SIFs). They note that some countries, such as Switzerland, Germany, the Netherlands, and Australia, have established legal frameworks that explicitly permit and regulate SIFs, often as part of broader harm reduction and public health strategies. In contrast, other countries, including the United States and many Eastern European nations, maintain strict drug prohibition policies that either criminalize SIFs or create significant legal barriers to their operation. The authors emphasize that these policy differences are shaped by varying national attitudes toward drug use, public health priorities, and interpretations of international drug control treaties. As a result, the implementation, oversight, and acceptance of SIFs vary widely across jurisdictions.\n",
            "  - expected output: Nougier & Schatz (2012) highlight that regulations for supervised injection facilities (SIFs) vary internationally, with some countries adopting more supportive legal frameworks and comprehensive harm reduction approaches, while others enforce stricter controls or prohibit SIFs altogether. These differences reflect varying national drug policies, public health priorities, and local legal contexts.\n",
            "  - context: None\n",
            "  - retrieval context: ['Find out more about self-harm. Check out what to do if you think a friend is self-harming. Get in touch with a self-harm support service to talk things through. Find out about what happens when you call a helpline. Tagged in\\n\\nArticle\\n\\nMental health issues\\n\\nSelf-harm']\n",
            "\n",
            "======================================================================\n",
            "\n",
            "Overall Metric Pass Rates\n",
            "\n",
            "Answer Relevancy: 100.00% pass rate\n",
            "Faithfulness: 100.00% pass rate\n",
            "\n",
            "======================================================================\n",
            "\n",
            "\n",
            "======================================================================\n",
            "\n",
            "Metrics Summary\n",
            "\n",
            "  - ✅ Answer Relevancy (score: 1.0, threshold: 0.7, strict: False, evaluation model: gpt-4.1, reason: The score is 1.00 because the answer was fully relevant and addressed the distinctions clearly without including any irrelevant information. Great job staying focused and concise!, error: None)\n",
            "  - ✅ Faithfulness (score: 1.0, threshold: 0.7, strict: False, evaluation model: gpt-4.1, reason: Great job! There are no contradictions, so the actual output is fully faithful to the retrieval context., error: None)\n",
            "\n",
            "For test case:\n",
            "\n",
            "  - input: How are welfare, support services, and housing distinct from police, criminal law, and employment?\n",
            "  - actual output: Certainly! Here’s a clear explanation of how **welfare, support services, and housing** are distinct from **police, criminal law, and employment**:\n",
            "\n",
            "---\n",
            "\n",
            "### 1. **Welfare, Support Services, and Housing**\n",
            "\n",
            "These are **social services** aimed at supporting people's well-being and quality of life, especially for those facing hardship.\n",
            "\n",
            "- **Welfare:** Financial or material assistance provided by the government or organizations to individuals or families in need (e.g., unemployment benefits, food stamps, disability payments).\n",
            "- **Support Services:** Programs or resources that help people cope with challenges (e.g., counseling, mental health services, addiction support, childcare, domestic violence shelters).\n",
            "- **Housing:** Services and programs that help people find, afford, or maintain a place to live (e.g., public housing, rent subsidies, homelessness prevention).\n",
            "\n",
            "**Purpose:**  \n",
            "To help people meet basic needs, overcome difficulties, and improve their living conditions.\n",
            "\n",
            "---\n",
            "\n",
            "### 2. **Police, Criminal Law, and Employment**\n",
            "\n",
            "These relate to **law enforcement, legal systems, and work**.\n",
            "\n",
            "- **Police:** Law enforcement agencies responsible for maintaining public order, preventing and investigating crime, and enforcing laws.\n",
            "- **Criminal Law:** The body of law that defines crimes, sets punishments, and governs the prosecution of people accused of crimes.\n",
            "- **Employment:** The relationship between employers and employees, including jobs, labor rights, workplace regulations, and economic activity.\n",
            "\n",
            "**Purpose:**  \n",
            "To maintain social order, ensure justice, and regulate work and economic participation.\n",
            "\n",
            "---\n",
            "\n",
            "### **Key Differences**\n",
            "\n",
            "| Category 1: Welfare, Support, Housing | Category 2: Police, Criminal Law, Employment |\n",
            "|---------------------------------------|----------------------------------------------|\n",
            "| Focus on social support and well-being | Focus on law, order, and work                |\n",
            "| Provide help, resources, and stability | Enforce rules, resolve disputes, regulate jobs|\n",
            "| Address poverty, health, and housing   | Address crime, legal issues, and employment   |\n",
            "\n",
            "---\n",
            "\n",
            "**In summary:**  \n",
            "- **Welfare, support services, and housing** are about helping people meet basic needs and improve their lives.\n",
            "- **Police, criminal law, and employment** are about enforcing laws, maintaining order, and regulating work.\n",
            "\n",
            "They serve different functions in society, though sometimes they interact (e.g., police may be involved if there’s a crime in public housing, or employment status may affect welfare eligibility).\n",
            "  - expected output: Welfare, support services, and housing focus on providing assistance and resources to improve individuals' well-being and living conditions, while police, public order, and criminal law are concerned with maintaining safety and enforcing laws. Employment relates to job opportunities and workforce matters, making it distinct from both welfare/support services and law enforcement.\n",
            "  - context: None\n",
            "  - retrieval context: ['17. Nougier, M., and Schatz, E., Drug consumption rooms Evidence and practice. 2012, International Drug Policy Consortium: United Kingdom. p.']\n",
            "\n",
            "======================================================================\n",
            "\n",
            "Overall Metric Pass Rates\n",
            "\n",
            "Answer Relevancy: 100.00% pass rate\n",
            "Faithfulness: 100.00% pass rate\n",
            "\n",
            "======================================================================\n",
            "\n",
            "\n",
            "======================================================================\n",
            "\n",
            "Metrics Summary\n",
            "\n",
            "  - ✅ Answer Relevancy (score: 0.9148936170212766, threshold: 0.7, strict: False, evaluation model: gpt-4.1, reason: The score is 0.91 because the answer mostly addresses the domains included under welfare services, housing, police/public order, criminal law, and employment, but includes some context and commentary about variability, overlap, and government responsibility that, while informative, are not directly relevant to listing the domains or their included areas. The score is not higher due to these minor irrelevant statements, but remains high because the core information requested is still provided., error: None)\n",
            "  - ✅ Faithfulness (score: 1.0, threshold: 0.7, strict: False, evaluation model: gpt-4.1, reason: Great job! There are no contradictions, so the actual output is fully faithful to the retrieval context., error: None)\n",
            "\n",
            "For test case:\n",
            "\n",
            "  - input: Which domains are included under welfare services, housing, police/public order, criminal law, and employment?\n",
            "  - actual output: Certainly! Here’s a breakdown of the **domains** typically included under each of the areas you mentioned: **welfare services, housing, police/public order, criminal law, and employment**. These are broad policy or administrative domains, often used in government, law, and public administration.\n",
            "\n",
            "---\n",
            "\n",
            "### 1. **Welfare Services**\n",
            "Domains included:\n",
            "- **Social security** (pensions, disability benefits, unemployment benefits)\n",
            "- **Social assistance** (means-tested benefits, income support)\n",
            "- **Child welfare** (child protection, foster care, adoption services)\n",
            "- **Elderly care** (home help, residential care)\n",
            "- **Disability services** (support for people with disabilities)\n",
            "- **Family support services** (parenting support, family counseling)\n",
            "- **Community care** (support for vulnerable groups)\n",
            "- **Public health services** (sometimes overlaps with healthcare)\n",
            "\n",
            "---\n",
            "\n",
            "### 2. **Housing**\n",
            "Domains included:\n",
            "- **Public/social housing** (government or non-profit housing provision)\n",
            "- **Affordable housing schemes**\n",
            "- **Homelessness services**\n",
            "- **Housing benefits/subsidies**\n",
            "- **Housing standards and regulation** (building codes, safety)\n",
            "- **Urban renewal/regeneration**\n",
            "- **Tenant rights and landlord regulation**\n",
            "- **Planning and zoning** (sometimes overlaps with local government)\n",
            "\n",
            "---\n",
            "\n",
            "### 3. **Police/Public Order**\n",
            "Domains included:\n",
            "- **Policing** (law enforcement agencies, community policing)\n",
            "- **Crime prevention**\n",
            "- **Public safety** (emergency response, disaster management)\n",
            "- **Traffic enforcement**\n",
            "- **Licensing and regulation of public events**\n",
            "- **Anti-social behavior measures**\n",
            "- **Counter-terrorism**\n",
            "- **Crowd control and riot management**\n",
            "\n",
            "---\n",
            "\n",
            "### 4. **Criminal Law**\n",
            "Domains included:\n",
            "- **Definition of criminal offenses**\n",
            "- **Criminal procedure** (arrest, trial, sentencing)\n",
            "- **Prosecution services**\n",
            "- **Criminal courts**\n",
            "- **Corrections/prisons**\n",
            "- **Probation and parole**\n",
            "- **Juvenile justice**\n",
            "- **Victim support services**\n",
            "- **Legal aid for criminal cases**\n",
            "\n",
            "---\n",
            "\n",
            "### 5. **Employment**\n",
            "Domains included:\n",
            "- **Labor market regulation** (minimum wage, working hours)\n",
            "- **Employment rights and protections** (contracts, unfair dismissal)\n",
            "- **Occupational health and safety**\n",
            "- **Job placement and employment services**\n",
            "- **Unemployment insurance**\n",
            "- **Workforce training and skills development**\n",
            "- **Equal opportunities and anti-discrimination**\n",
            "- **Trade unions and collective bargaining**\n",
            "- **Migrant labor regulation**\n",
            "\n",
            "---\n",
            "\n",
            "**Note:**  \n",
            "- The exact scope of each domain can vary by country and legal system.\n",
            "- Some domains overlap (e.g., housing and welfare, police and criminal law).\n",
            "- In federal or devolved systems, responsibility for these domains may be split between central and regional governments.\n",
            "\n",
            "If you need more detail on a specific country or context, let me know!\n",
            "  - expected output: The domains included are welfare and support services (including housing), police, public order and criminal law, and employment.\n",
            "  - context: None\n",
            "  - retrieval context: [\"From 2021, major reforms are expected across the mental health system. The final report from the Royal Commission into Victoria’s Mental Health System is due to be handed down in February 2021, with a commitment from the Victorian State Government to implement all of its recommendations. Next year will also see the commencement of the national trial of the Federal Department of Health’s Adult Mental Health Centres. These community-based centres will be overseen by Primary Health Networks (PHNs) and are intended to provide a welcoming, low stigma soft entry point to engagement and assessment for people who may be experiencing distress or crisis in relation to their mental health. We also anticipate a number of other state and federal investments aimed at addressing the impacts of the COVID-19 pandemic. While these significant commitments will ensure that mental health services are more accessible for people experiencing family violence in the future, it is also vital that these reforms and initiatives consider how people with mental ill health can easily and quickly access family violence services if and when they are required. Consequently, they present extremely important opportunities for family violence agencies, such as the FVRIM and Family Safety Victoria (FSV) to engage with the reform processes and the agencies leading them. 2\\n\\nRecommendations\\n\\nTo ensure the sectors align to better meet the needs of people requiring family violence and mental health services, we recommend:\\n\\n1. FVRIM and FSV engage with the Royal Commission into Victoria’s\\n\\nMental Health System to ensure that Commissioners are fully cognizant of the impact and interplay between family violence and mental ill health. 2. FVRIM collaborates with Mental Health Reform Victoria as it works\\n\\ntowards the implementation of the Royal Commission into Victoria's Mental Health System Interim Report recommendations to ensure collaboration between both sectors. 3. FVRIM and FSV work closely with Primary Health Networks as they\\n\\nimplement national reforms, most notably the Adult Mental Health Centre program, to ensure family violence is considered in service design and delivery. 4.\"]\n",
            "\n",
            "======================================================================\n",
            "\n",
            "Overall Metric Pass Rates\n",
            "\n",
            "Answer Relevancy: 100.00% pass rate\n",
            "Faithfulness: 100.00% pass rate\n",
            "\n",
            "======================================================================\n",
            "\n",
            "\n",
            "======================================================================\n",
            "\n",
            "Metrics Summary\n",
            "\n",
            "  - ✅ Answer Relevancy (score: 0.8679245283018868, threshold: 0.7, strict: False, evaluation model: gpt-4.1, reason: The score is 0.87 because the answer provided general definitions and context for each domain rather than directly listing the domains included under each category. While the response was related and informative, it did not fully address the specific request for lists of domains, which prevents a higher score., error: None)\n",
            "  - ✅ Faithfulness (score: 1.0, threshold: 0.7, strict: False, evaluation model: gpt-4.1, reason: Great job! There are no contradictions, so the actual output is fully aligned with the retrieval context., error: None)\n",
            "\n",
            "For test case:\n",
            "\n",
            "  - input: Which domains are included under welfare services, housing, police/public order, criminal law, and employment?\n",
            "  - actual output: Certainly! Here’s a breakdown of the **domains** typically included under each of the areas you mentioned:\n",
            "\n",
            "---\n",
            "\n",
            "### 1. **Welfare Services**\n",
            "These refer to services provided to support individuals and groups in need, often by the state or local authorities. Domains include:\n",
            "- **Social security and benefits** (pensions, disability, unemployment)\n",
            "- **Child welfare and protection**\n",
            "- **Elderly care**\n",
            "- **Disability services**\n",
            "- **Family support services**\n",
            "- **Public health and community care**\n",
            "- **Homelessness support**\n",
            "- **Substance abuse and addiction services**\n",
            "- **Youth services**\n",
            "- **Social work**\n",
            "\n",
            "---\n",
            "\n",
            "### 2. **Housing**\n",
            "This covers the provision, regulation, and support of accommodation. Domains include:\n",
            "- **Public/social housing**\n",
            "- **Affordable housing schemes**\n",
            "- **Homelessness prevention**\n",
            "- **Housing standards and regulation**\n",
            "- **Rent control and tenant rights**\n",
            "- **Urban planning and development**\n",
            "- **Housing finance and subsidies**\n",
            "- **Building safety and inspection**\n",
            "\n",
            "---\n",
            "\n",
            "### 3. **Police/Public Order**\n",
            "This area relates to the maintenance of law, order, and public safety. Domains include:\n",
            "- **Policing and law enforcement**\n",
            "- **Crime prevention**\n",
            "- **Public safety and emergency response**\n",
            "- **Community policing**\n",
            "- **Traffic control and road safety**\n",
            "- **Crowd control and riot management**\n",
            "- **Licensing and regulation of public events**\n",
            "- **Counter-terrorism**\n",
            "- **Anti-social behaviour management**\n",
            "\n",
            "---\n",
            "\n",
            "### 4. **Criminal Law**\n",
            "This refers to the body of law relating to crime and punishment. Domains include:\n",
            "- **Definition of criminal offences**\n",
            "- **Criminal procedure and prosecution**\n",
            "- **Sentencing and penalties**\n",
            "- **Juvenile justice**\n",
            "- **Victim support**\n",
            "- **Prisons and correctional services**\n",
            "- **Probation and parole**\n",
            "- **Legal aid in criminal cases**\n",
            "- **Appeals and criminal justice review**\n",
            "\n",
            "---\n",
            "\n",
            "### 5. **Employment**\n",
            "This covers the regulation and support of work and the labour market. Domains include:\n",
            "- **Employment rights and contracts**\n",
            "- **Minimum wage and pay regulation**\n",
            "- **Health and safety at work**\n",
            "- **Trade unions and industrial relations**\n",
            "- **Employment tribunals and dispute resolution**\n",
            "- **Job training and skills development**\n",
            "- **Unemployment support**\n",
            "- **Equal opportunities and anti-discrimination**\n",
            "- **Workplace pensions**\n",
            "- **Maternity/paternity leave and family-friendly policies**\n",
            "\n",
            "---\n",
            "\n",
            "**Note:**  \n",
            "The specific domains and their scope can vary by country and legal system, but these are the typical areas included under each heading, especially in the context of UK or similar jurisdictions. If you need details for a specific country or context (e.g., UK devolution), let me know!\n",
            "  - expected output: The domains included are welfare and support services (including housing), police, public order and criminal law, and employment.\n",
            "  - context: None\n",
            "  - retrieval context: ['Welfare and support services, including housing; 3. Police, public order and criminal law; 4. Employment; 5.']\n",
            "\n",
            "======================================================================\n",
            "\n",
            "Overall Metric Pass Rates\n",
            "\n",
            "Answer Relevancy: 100.00% pass rate\n",
            "Faithfulness: 100.00% pass rate\n",
            "\n",
            "======================================================================\n",
            "\n"
          ]
        },
        {
          "data": {
            "text/html": [
              "<pre style=\"white-space:pre;overflow-x:auto;line-height:normal;font-family:Menlo,'DejaVu Sans Mono',consolas,'Courier New',monospace\">\n",
              "<span style=\"color: #05f58d; text-decoration-color: #05f58d\">✓</span> Tests finished 🎉! Run <span style=\"color: #008000; text-decoration-color: #008000; font-weight: bold\">'deepeval view'</span> to analyze, debug, and save evaluation results on <span style=\"color: #6a00ff; text-decoration-color: #6a00ff\">Confident AI</span>.\n",
              "\n",
              "</pre>\n"
            ],
            "text/plain": [
              "\n",
              "\u001b[38;2;5;245;141m✓\u001b[0m Tests finished 🎉! Run \u001b[1;32m'deepeval view'\u001b[0m to analyze, debug, and save evaluation results on \u001b[38;2;106;0;255mConfident AI\u001b[0m.\n",
              "\n"
            ]
          },
          "metadata": {},
          "output_type": "display_data"
        },
        {
          "name": "stdout",
          "output_type": "stream",
          "text": [
            "Evaluation complete for all batches.\n"
          ]
        }
      ],
      "source": [
        "random_test_case_lst = random.sample(clean_test_case_lst, 10)\n",
        "all_results = []\n",
        "batch_size = 5 # Adjust this number to control concurrency\n",
        "\n",
        "\n",
        "metrics_lst = [\n",
        "    AnswerRelevancyMetric(threshold=0.7, verbose_mode=False), # Set verbose_mode to False\n",
        "    FaithfulnessMetric(threshold=0.7, verbose_mode=False) # Do the same for other metrics\n",
        "]\n",
        "\n",
        "for i in range(0, len(random_test_case_lst), batch_size):\n",
        "    batch = random_test_case_lst[i:i + batch_size]\n",
        "    print(f\"Evaluating batch {i // batch_size + 1}...\")\n",
        "    results = evaluate(test_cases=batch, metrics=metrics_lst)\n",
        "\n",
        "    all_results.extend(results)\n",
        "\n",
        "print(\"Evaluation complete for all batches.\")"
      ]
    },
    {
      "cell_type": "code",
      "execution_count": 15,
      "metadata": {
        "colab": {
          "base_uri": "https://localhost:8080/"
        },
        "id": "1LHPEpZ9d3M-",
        "outputId": "e5d666e1-7e94-4bc4-a6f5-80c5e60c7ce4"
      },
      "outputs": [
        {
          "data": {
            "text/plain": [
              "TestResult(name='test_case_3', success=True, metrics_data=[MetricData(name='Answer Relevancy', threshold=0.7, success=True, score=1.0, reason='The score is 1.00 because the answer is fully relevant, directly addressing the question with no irrelevant statements. Great job staying focused and on-topic!', strict_mode=False, evaluation_model='gpt-4.1', error=None, evaluation_cost=0.013427999999999999, verbose_logs='Statements:\\n[\\n    \"Drug consumption rooms (DCRs) are professionally supervised healthcare facilities where people can consume drugs in safer and more hygienic conditions.\",\\n    \"DCRs are also known as supervised injecting facilities or safer consumption spaces.\",\\n    \"The main aims of DCRs are to reduce health risks such as overdose and infectious diseases.\",\\n    \"DCRs aim to improve public order.\",\\n    \"DCRs aim to connect marginalized drug users with health and social services.\",\\n    \"DCRs reduce the risk of overdose deaths by providing immediate medical assistance.\",\\n    \"DCRs lower the transmission of blood-borne diseases such as HIV and hepatitis C by providing sterile equipment and safe environments.\",\\n    \"DCRs serve as a bridge to health and social services, including drug treatment, housing, and medical care.\",\\n    \"Evidence shows a decrease in public drug use and discarded syringes in areas surrounding DCRs.\",\\n    \"Studies indicate that DCRs do not increase drug use, drug dealing, or crime in their neighborhoods.\",\\n    \"DCRs have been implemented in Switzerland, Germany, the Netherlands, Spain, Norway, Luxembourg, Australia, and Canada.\",\\n    \"Some DCRs are stand-alone facilities.\",\\n    \"Some DCRs are integrated into existing health or social services.\",\\n    \"Services provided by DCRs often include sterile injecting equipment, emergency care in case of overdose, counseling, and referrals to treatment and social support.\",\\n    \"Legal and political barriers exist in many countries regarding DCRs.\",\\n    \"Community consultation and support are crucial for successful implementation of DCRs.\",\\n    \"DCRs are most effective as part of a broader harm reduction and public health strategy.\",\\n    \"The authors recommend the expansion of DCRs as an evidence-based intervention to reduce drug-related harms.\",\\n    \"The authors emphasize the importance of integrating DCRs with other health and social services.\",\\n    \"Nougier and Schatz (2012) present DCRs as a well-evidenced harm reduction intervention.\",\\n    \"DCRs improve health outcomes for people who use drugs.\",\\n    \"DCRs reduce public nuisance.\",\\n    \"DCRs do not increase drug use or crime.\",\\n    \"The authors advocate for the wider adoption of DCRs as part of comprehensive drug policy reform.\"\\n] \\n \\nVerdicts:\\n[\\n    {\\n        \"verdict\": \"yes\",\\n        \"reason\": null\\n    },\\n    {\\n        \"verdict\": \"yes\",\\n        \"reason\": null\\n    },\\n    {\\n        \"verdict\": \"yes\",\\n        \"reason\": null\\n    },\\n    {\\n        \"verdict\": \"yes\",\\n        \"reason\": null\\n    },\\n    {\\n        \"verdict\": \"yes\",\\n        \"reason\": null\\n    },\\n    {\\n        \"verdict\": \"yes\",\\n        \"reason\": null\\n    },\\n    {\\n        \"verdict\": \"yes\",\\n        \"reason\": null\\n    },\\n    {\\n        \"verdict\": \"yes\",\\n        \"reason\": null\\n    },\\n    {\\n        \"verdict\": \"yes\",\\n        \"reason\": null\\n    },\\n    {\\n        \"verdict\": \"yes\",\\n        \"reason\": null\\n    },\\n    {\\n        \"verdict\": \"yes\",\\n        \"reason\": null\\n    },\\n    {\\n        \"verdict\": \"yes\",\\n        \"reason\": null\\n    },\\n    {\\n        \"verdict\": \"yes\",\\n        \"reason\": null\\n    },\\n    {\\n        \"verdict\": \"yes\",\\n        \"reason\": null\\n    },\\n    {\\n        \"verdict\": \"yes\",\\n        \"reason\": null\\n    },\\n    {\\n        \"verdict\": \"yes\",\\n        \"reason\": null\\n    },\\n    {\\n        \"verdict\": \"yes\",\\n        \"reason\": null\\n    },\\n    {\\n        \"verdict\": \"yes\",\\n        \"reason\": null\\n    },\\n    {\\n        \"verdict\": \"yes\",\\n        \"reason\": null\\n    },\\n    {\\n        \"verdict\": \"yes\",\\n        \"reason\": null\\n    },\\n    {\\n        \"verdict\": \"yes\",\\n        \"reason\": null\\n    },\\n    {\\n        \"verdict\": \"yes\",\\n        \"reason\": null\\n    },\\n    {\\n        \"verdict\": \"yes\",\\n        \"reason\": null\\n    },\\n    {\\n        \"verdict\": \"yes\",\\n        \"reason\": null\\n    }\\n]'), MetricData(name='Faithfulness', threshold=0.7, success=True, score=1.0, reason='Great job! There are no contradictions, so the actual output is fully faithful to the retrieval context.', strict_mode=False, evaluation_model='gpt-4.1', error=None, evaluation_cost=0.015234, verbose_logs='Truths (limit=None):\\n[\\n    \"There is a Bilateral Schedule announcement related to mental health.\",\\n    \"Topics covered include service improvement, sector engagement, partnerships, and other state & national reforms.\",\\n    \"The Better Care Together services plan is mentioned.\",\\n    \"The National Agreement & Bilateral Schedule are referenced.\",\\n    \"The Productivity Commission Inquiry and National Drug Strategy are listed as topics.\",\\n    \"The Fifth National Mental Health Plan is mentioned.\",\\n    \"Consultations and Lifetime Achievement Awards are included as topics.\",\\n    \"Support services and crisis contacts are available for those needing help.\",\\n    \"There is an online peer support forum for complex mental illness provided by Sane.\",\\n    \"The Queensland Mental Health Commission is located at PO Box 13027 George Street Brisbane Queensland 4003.\",\\n    \"The Commission can be contacted by phone at 1300 855 945 and by fax at 07 3405 9780.\",\\n    \"The Commission has a presence on social media.\",\\n    \"The Commission\\'s work includes management, structure, performance, corporate information, funding, publications, and strategic planning.\",\\n    \"There is a statewide strategic plan and sub plans.\",\\n    \"Research, review, human rights, stigma, discrimination, and service integration are part of the Commission\\'s focus.\",\\n    \"Health system performance and QMHC submissions are mentioned.\",\\n    \"Broader system reform, awareness, promotion, mental health and wellbeing, prevention, early intervention, suicide prevention, and First Nations\\' wellbeing are areas of focus.\",\\n    \"Social and economic opportunity, sector engagement, partnerships, and consultations are included in the Commission\\'s work.\",\\n    \"Media and events, including Mindframe reporting guidelines, media releases, news, events, blogs, eNews, videos, and social media, are part of the Commission\\'s activities.\",\\n    \"The Queensland Mental Health Commission\\'s website includes copyright, disclaimer, privacy, right to information, accessibility, jobs in Queensland government, and other languages information.\",\\n    \"Copyright © 2024 Queensland Mental Health Commission. All rights reserved.\"\\n] \\n \\nClaims:\\n[\\n    \"Drug consumption rooms (DCRs), also known as supervised injecting facilities or safer consumption spaces, are professionally supervised healthcare facilities where people can consume drugs in safer and more hygienic conditions.\",\\n    \"The main aims of DCRs are to reduce health risks such as overdose and infectious diseases, improve public order, and connect marginalized drug users with health and social services.\",\\n    \"DCRs reduce the risk of overdose deaths by providing immediate medical assistance.\",\\n    \"DCRs lower the transmission of blood-borne diseases (HIV, hepatitis C) by providing sterile equipment and safe environments.\",\\n    \"DCRs serve as a bridge to health and social services, including drug treatment, housing, and medical care.\",\\n    \"Evidence shows a decrease in public drug use and discarded syringes in areas surrounding DCRs.\",\\n    \"Studies cited indicate that DCRs do not increase drug use, drug dealing, or crime in their neighborhoods.\",\\n    \"DCRs have been implemented in several countries, including Switzerland, Germany, the Netherlands, Spain, Norway, Luxembourg, Australia, and Canada.\",\\n    \"Models of DCRs vary: some are stand-alone facilities, others are integrated into existing health or social services.\",\\n    \"Services provided by DCRs often include sterile injecting equipment, emergency care in case of overdose, counseling, and referrals to treatment and social support.\",\\n    \"Legal and political barriers exist in many countries regarding the implementation of DCRs.\",\\n    \"Community consultation and support are crucial for the successful implementation of DCRs.\",\\n    \"DCRs are most effective as part of a broader harm reduction and public health strategy.\",\\n    \"The authors recommend the expansion of DCRs as an evidence-based intervention to reduce drug-related harms.\",\\n    \"The authors emphasize the importance of integrating DCRs with other health and social services.\",\\n    \"Nougier and Schatz (2012) present DCRs as a well-evidenced harm reduction intervention that improves health outcomes for people who use drugs, reduces public nuisance, and does not increase drug use or crime.\",\\n    \"Nougier and Schatz (2012) advocate for the wider adoption of DCRs as part of comprehensive drug policy reform.\"\\n] \\n \\nVerdicts:\\n[\\n    {\\n        \"verdict\": \"idk\",\\n        \"reason\": null\\n    },\\n    {\\n        \"verdict\": \"idk\",\\n        \"reason\": null\\n    },\\n    {\\n        \"verdict\": \"idk\",\\n        \"reason\": null\\n    },\\n    {\\n        \"verdict\": \"idk\",\\n        \"reason\": null\\n    },\\n    {\\n        \"verdict\": \"idk\",\\n        \"reason\": null\\n    },\\n    {\\n        \"verdict\": \"idk\",\\n        \"reason\": null\\n    },\\n    {\\n        \"verdict\": \"idk\",\\n        \"reason\": null\\n    },\\n    {\\n        \"verdict\": \"idk\",\\n        \"reason\": null\\n    },\\n    {\\n        \"verdict\": \"idk\",\\n        \"reason\": null\\n    },\\n    {\\n        \"verdict\": \"idk\",\\n        \"reason\": null\\n    },\\n    {\\n        \"verdict\": \"idk\",\\n        \"reason\": null\\n    },\\n    {\\n        \"verdict\": \"idk\",\\n        \"reason\": null\\n    },\\n    {\\n        \"verdict\": \"idk\",\\n        \"reason\": null\\n    },\\n    {\\n        \"verdict\": \"idk\",\\n        \"reason\": null\\n    },\\n    {\\n        \"verdict\": \"idk\",\\n        \"reason\": null\\n    },\\n    {\\n        \"verdict\": \"idk\",\\n        \"reason\": null\\n    },\\n    {\\n        \"verdict\": \"idk\",\\n        \"reason\": null\\n    }\\n]')], conversational=False, multimodal=False, input='What evidence and practices regarding drug consumption rooms are detailed by Nougier and Schatz (2012)?', actual_output='Certainly! Here’s a summary of the evidence and practices regarding drug consumption rooms (DCRs) as detailed by Nougier and Schatz (2012):\\n\\n**Reference:**  \\nNougier, M. & Schatz, E. (2012). *Drug Consumption Rooms: Evidence and Practice*. International Drug Policy Consortium (IDPC) Briefing Paper.\\n\\n---\\n\\n### Evidence and Practices Detailed by Nougier and Schatz (2012):\\n\\n#### **1. Definition and Purpose**\\n- Drug consumption rooms (DCRs), also known as supervised injecting facilities or safer consumption spaces, are professionally supervised healthcare facilities where people can consume drugs in safer and more hygienic conditions.\\n- The main aims are to reduce health risks (such as overdose and infectious diseases), improve public order, and connect marginalized drug users with health and social services.\\n\\n#### **2. Evidence of Effectiveness**\\n- **Reduction in Health Risks:**  \\n  - DCRs reduce the risk of overdose deaths by providing immediate medical assistance.\\n  - They lower the transmission of blood-borne diseases (HIV, hepatitis C) by providing sterile equipment and safe environments.\\n- **Improved Access to Services:**  \\n  - DCRs serve as a bridge to health and social services, including drug treatment, housing, and medical care.\\n- **Reduction in Public Nuisance:**  \\n  - Evidence shows a decrease in public drug use and discarded syringes in areas surrounding DCRs.\\n- **No Increase in Drug Use or Crime:**  \\n  - Studies cited indicate that DCRs do not increase drug use, drug dealing, or crime in their neighborhoods.\\n\\n#### **3. International Practices**\\n- DCRs have been implemented in several countries, including Switzerland, Germany, the Netherlands, Spain, Norway, Luxembourg, Australia, and Canada.\\n- Models vary: some are stand-alone facilities, others are integrated into existing health or social services.\\n- Services provided often include: sterile injecting equipment, emergency care in case of overdose, counseling, and referrals to treatment and social support.\\n\\n#### **4. Challenges and Considerations**\\n- Legal and political barriers exist in many countries.\\n- Community consultation and support are crucial for successful implementation.\\n- DCRs are most effective as part of a broader harm reduction and public health strategy.\\n\\n#### **5. Recommendations**\\n- The authors recommend the expansion of DCRs as an evidence-based intervention to reduce drug-related harms.\\n- They emphasize the importance of integrating DCRs with other health and social services.\\n\\n---\\n\\n**In summary:**  \\nNougier and Schatz (2012) present DCRs as a well-evidenced harm reduction intervention that improves health outcomes for people who use drugs, reduces public nuisance, and does not increase drug use or crime. They advocate for their wider adoption as part of comprehensive drug policy reform.\\n\\n**For direct quotes or more detailed evidence, see:**  \\n[Nougier & Schatz, 2012, IDPC Briefing Paper (PDF)](https://idpc.net/publications/2012/06/idpc-briefing-paper-drug-consumption-rooms-evidence-and-practice)', expected_output='Nougier and Schatz (2012) provide evidence that drug consumption rooms are effective in harm reduction, specifically by reducing drug-related deaths, disease transmission, and public nuisance. They also outline best practices for their operation, emphasizing the need for professional staff, safe and hygienic environments, and integration with health and social services.', context=None, retrieval_context=[\"Read the Bilateral Schedule announcement. Topics:\\n\\nService improvement\\n\\nEngage & enable\\n\\nLived experience-led reform\\n\\nSector engagement\\n\\nPartnerships and stakeholders\\n\\nOther state & national reforms\\n\\nBetter Care Together services plan\\n\\nNational Agreement & Bilateral Schedule\\n\\nProductivity Commission Inquiry\\n\\nNational Drug Strategy\\n\\nFifth National Mental Health Plan\\n\\nConsultations\\n\\nLifetime Achievement Awards\\n\\nNeed help? Crisis contacts\\n\\nFind support services\\n\\nHealthcare complaints\\n\\nMental health in natural disasters\\n\\nSupporting someone in distress\\n\\nAccess support 24/7\\n\\nJoin Sane’s online peer support forum for complex mental illness\\n\\nFollow us\\n\\nAbout\\n\\nOur work\\n\\nManagement & structure\\n\\nOur performance\\n\\nCorporate information\\n\\nFunding\\n\\nPublications\\n\\nStrategic planning\\n\\nStatewide strategic plan\\n\\nSub plans\\n\\nResearch & review\\n\\nHuman rights\\n\\nStigma & discrimination\\n\\nService integration\\n\\nHealth system performance\\n\\nQMHC submissions\\n\\nBroader system reform\\n\\nAwareness & promotion\\n\\nMental health & wellbeing\\n\\nPrevention\\n\\nEarly intervention\\n\\nSuicide prevention\\n\\nFirst Nations' wellbeing\\n\\nSocial & economic opportunity\\n\\nEngage & enable\\n\\nLived experience-led reform\\n\\nSector engagement\\n\\nPartnerships and stakeholders\\n\\nOther state & national reforms\\n\\nConsultations\\n\\nLifetime Achievement Awards\\n\\nMedia & events\\n\\nMindframe reporting guidelines\\n\\nMedia releases\\n\\nLatest news\\n\\nCommissioner viewpoint\\n\\nEvents\\n\\nLeading reform blog\\n\\neNews\\n\\nVideos\\n\\nSocial media\\n\\nNeed help? Contact us\\n\\nQueensland Mental Health CommissionPO Box 13027 George Street Brisbane Queensland 4003Phone 1300 855 945 | Fax 07 3405 9780\\n\\nFollow us on:\\n\\nCopyright\\n\\nDisclaimer\\n\\nPrivacy\\n\\nRight to information\\n\\nAccessibility\\n\\nJobs in Queensland government\\n\\nOther languages\\n\\nCopyright © 2024 Queensland Mental Health Commission. All rights reserved.\"], additional_metadata=None)"
            ]
          },
          "execution_count": 15,
          "metadata": {},
          "output_type": "execute_result"
        }
      ],
      "source": [
        "all_results[0][1][0]"
      ]
    },
    {
      "cell_type": "markdown",
      "metadata": {},
      "source": [
        "# Output"
      ]
    },
    {
      "cell_type": "code",
      "execution_count": 27,
      "metadata": {},
      "outputs": [
        {
          "name": "stdout",
          "output_type": "stream",
          "text": [
            "10\n"
          ]
        }
      ],
      "source": [
        "clean_results = []\n",
        "for result in all_results:\n",
        "    if isinstance(result, tuple) and len(result) > 1:\n",
        "        # Ensure result[1] is a list before iterating\n",
        "        if isinstance(result[1], list):\n",
        "            for ind_results in result[1]:\n",
        "                clean_results.append(ind_results)\n",
        "\n",
        "print(len(clean_results))\n"
      ]
    },
    {
      "cell_type": "code",
      "execution_count": 29,
      "metadata": {},
      "outputs": [],
      "source": [
        "pd.DataFrame(clean_results).to_csv(\"../data/clean_results.csv\", index=False)"
      ]
    },
    {
      "cell_type": "code",
      "execution_count": 30,
      "metadata": {},
      "outputs": [
        {
          "data": {
            "text/html": [
              "<div>\n",
              "<style scoped>\n",
              "    .dataframe tbody tr th:only-of-type {\n",
              "        vertical-align: middle;\n",
              "    }\n",
              "\n",
              "    .dataframe tbody tr th {\n",
              "        vertical-align: top;\n",
              "    }\n",
              "\n",
              "    .dataframe thead th {\n",
              "        text-align: right;\n",
              "    }\n",
              "</style>\n",
              "<table border=\"1\" class=\"dataframe\">\n",
              "  <thead>\n",
              "    <tr style=\"text-align: right;\">\n",
              "      <th></th>\n",
              "      <th>name</th>\n",
              "      <th>success</th>\n",
              "      <th>metrics_data</th>\n",
              "      <th>conversational</th>\n",
              "      <th>multimodal</th>\n",
              "      <th>input</th>\n",
              "      <th>actual_output</th>\n",
              "      <th>expected_output</th>\n",
              "      <th>context</th>\n",
              "      <th>retrieval_context</th>\n",
              "      <th>additional_metadata</th>\n",
              "    </tr>\n",
              "  </thead>\n",
              "  <tbody>\n",
              "    <tr>\n",
              "      <th>0</th>\n",
              "      <td>test_case_3</td>\n",
              "      <td>True</td>\n",
              "      <td>[name='Answer Relevancy' threshold=0.7 success...</td>\n",
              "      <td>False</td>\n",
              "      <td>False</td>\n",
              "      <td>What evidence and practices regarding drug con...</td>\n",
              "      <td>Certainly! Here’s a summary of the evidence an...</td>\n",
              "      <td>Nougier and Schatz (2012) provide evidence tha...</td>\n",
              "      <td>None</td>\n",
              "      <td>[Read the Bilateral Schedule announcement. Top...</td>\n",
              "      <td>None</td>\n",
              "    </tr>\n",
              "    <tr>\n",
              "      <th>1</th>\n",
              "      <td>test_case_0</td>\n",
              "      <td>True</td>\n",
              "      <td>[name='Answer Relevancy' threshold=0.7 success...</td>\n",
              "      <td>False</td>\n",
              "      <td>False</td>\n",
              "      <td>How are welfare, support services, and housing...</td>\n",
              "      <td>Certainly! Here’s a clear explanation of how *...</td>\n",
              "      <td>Welfare, support services, and housing focus o...</td>\n",
              "      <td>None</td>\n",
              "      <td>[[cited 2017 Nov 17]. Available from: https://...</td>\n",
              "      <td>None</td>\n",
              "    </tr>\n",
              "    <tr>\n",
              "      <th>2</th>\n",
              "      <td>test_case_4</td>\n",
              "      <td>True</td>\n",
              "      <td>[name='Answer Relevancy' threshold=0.7 success...</td>\n",
              "      <td>False</td>\n",
              "      <td>False</td>\n",
              "      <td>How are welfare, support services, and housing...</td>\n",
              "      <td>Certainly! Here’s a clear explanation of how *...</td>\n",
              "      <td>Welfare, support services, and housing focus o...</td>\n",
              "      <td>None</td>\n",
              "      <td>[Implement a training and orientation program ...</td>\n",
              "      <td>None</td>\n",
              "    </tr>\n",
              "    <tr>\n",
              "      <th>3</th>\n",
              "      <td>test_case_1</td>\n",
              "      <td>True</td>\n",
              "      <td>[name='Answer Relevancy' threshold=0.7 success...</td>\n",
              "      <td>False</td>\n",
              "      <td>False</td>\n",
              "      <td>Which domains are included under welfare servi...</td>\n",
              "      <td>Certainly! Here’s a breakdown of the **domains...</td>\n",
              "      <td>The domains included are welfare and support s...</td>\n",
              "      <td>None</td>\n",
              "      <td>[Skip to main content\\n\\nTwitter\\n\\nFacebook\\n...</td>\n",
              "      <td>None</td>\n",
              "    </tr>\n",
              "    <tr>\n",
              "      <th>4</th>\n",
              "      <td>test_case_2</td>\n",
              "      <td>True</td>\n",
              "      <td>[name='Answer Relevancy' threshold=0.7 success...</td>\n",
              "      <td>False</td>\n",
              "      <td>False</td>\n",
              "      <td>What evidence and practices regarding drug con...</td>\n",
              "      <td>Certainly! In their 2012 report, **Nougier and...</td>\n",
              "      <td>Nougier and Schatz (2012) provide evidence tha...</td>\n",
              "      <td>None</td>\n",
              "      <td>[They also worked with mental hospital service...</td>\n",
              "      <td>None</td>\n",
              "    </tr>\n",
              "    <tr>\n",
              "      <th>5</th>\n",
              "      <td>test_case_4</td>\n",
              "      <td>True</td>\n",
              "      <td>[name='Answer Relevancy' threshold=0.7 success...</td>\n",
              "      <td>False</td>\n",
              "      <td>False</td>\n",
              "      <td>Summarize international policy differences in ...</td>\n",
              "      <td>Certainly! According to Nougier &amp; Schatz (2012...</td>\n",
              "      <td>Nougier &amp; Schatz (2012) highlight that regulat...</td>\n",
              "      <td>None</td>\n",
              "      <td>[What is self-harm? Published 15 September 202...</td>\n",
              "      <td>None</td>\n",
              "    </tr>\n",
              "    <tr>\n",
              "      <th>6</th>\n",
              "      <td>test_case_2</td>\n",
              "      <td>True</td>\n",
              "      <td>[name='Answer Relevancy' threshold=0.7 success...</td>\n",
              "      <td>False</td>\n",
              "      <td>False</td>\n",
              "      <td>Summarize international policy differences in ...</td>\n",
              "      <td>Nougier &amp; Schatz (2012) highlight significant ...</td>\n",
              "      <td>Nougier &amp; Schatz (2012) highlight that regulat...</td>\n",
              "      <td>None</td>\n",
              "      <td>[Find out more about self-harm. Check out what...</td>\n",
              "      <td>None</td>\n",
              "    </tr>\n",
              "    <tr>\n",
              "      <th>7</th>\n",
              "      <td>test_case_1</td>\n",
              "      <td>True</td>\n",
              "      <td>[name='Answer Relevancy' threshold=0.7 success...</td>\n",
              "      <td>False</td>\n",
              "      <td>False</td>\n",
              "      <td>How are welfare, support services, and housing...</td>\n",
              "      <td>Certainly! Here’s a clear explanation of how *...</td>\n",
              "      <td>Welfare, support services, and housing focus o...</td>\n",
              "      <td>None</td>\n",
              "      <td>[17. Nougier, M., and Schatz, E., Drug consump...</td>\n",
              "      <td>None</td>\n",
              "    </tr>\n",
              "    <tr>\n",
              "      <th>8</th>\n",
              "      <td>test_case_0</td>\n",
              "      <td>True</td>\n",
              "      <td>[name='Answer Relevancy' threshold=0.7 success...</td>\n",
              "      <td>False</td>\n",
              "      <td>False</td>\n",
              "      <td>Which domains are included under welfare servi...</td>\n",
              "      <td>Certainly! Here’s a breakdown of the **domains...</td>\n",
              "      <td>The domains included are welfare and support s...</td>\n",
              "      <td>None</td>\n",
              "      <td>[From 2021, major reforms are expected across ...</td>\n",
              "      <td>None</td>\n",
              "    </tr>\n",
              "    <tr>\n",
              "      <th>9</th>\n",
              "      <td>test_case_3</td>\n",
              "      <td>True</td>\n",
              "      <td>[name='Answer Relevancy' threshold=0.7 success...</td>\n",
              "      <td>False</td>\n",
              "      <td>False</td>\n",
              "      <td>Which domains are included under welfare servi...</td>\n",
              "      <td>Certainly! Here’s a breakdown of the **domains...</td>\n",
              "      <td>The domains included are welfare and support s...</td>\n",
              "      <td>None</td>\n",
              "      <td>[Welfare and support services, including housi...</td>\n",
              "      <td>None</td>\n",
              "    </tr>\n",
              "  </tbody>\n",
              "</table>\n",
              "</div>"
            ],
            "text/plain": [
              "          name  success                                       metrics_data  \\\n",
              "0  test_case_3     True  [name='Answer Relevancy' threshold=0.7 success...   \n",
              "1  test_case_0     True  [name='Answer Relevancy' threshold=0.7 success...   \n",
              "2  test_case_4     True  [name='Answer Relevancy' threshold=0.7 success...   \n",
              "3  test_case_1     True  [name='Answer Relevancy' threshold=0.7 success...   \n",
              "4  test_case_2     True  [name='Answer Relevancy' threshold=0.7 success...   \n",
              "5  test_case_4     True  [name='Answer Relevancy' threshold=0.7 success...   \n",
              "6  test_case_2     True  [name='Answer Relevancy' threshold=0.7 success...   \n",
              "7  test_case_1     True  [name='Answer Relevancy' threshold=0.7 success...   \n",
              "8  test_case_0     True  [name='Answer Relevancy' threshold=0.7 success...   \n",
              "9  test_case_3     True  [name='Answer Relevancy' threshold=0.7 success...   \n",
              "\n",
              "   conversational  multimodal  \\\n",
              "0           False       False   \n",
              "1           False       False   \n",
              "2           False       False   \n",
              "3           False       False   \n",
              "4           False       False   \n",
              "5           False       False   \n",
              "6           False       False   \n",
              "7           False       False   \n",
              "8           False       False   \n",
              "9           False       False   \n",
              "\n",
              "                                               input  \\\n",
              "0  What evidence and practices regarding drug con...   \n",
              "1  How are welfare, support services, and housing...   \n",
              "2  How are welfare, support services, and housing...   \n",
              "3  Which domains are included under welfare servi...   \n",
              "4  What evidence and practices regarding drug con...   \n",
              "5  Summarize international policy differences in ...   \n",
              "6  Summarize international policy differences in ...   \n",
              "7  How are welfare, support services, and housing...   \n",
              "8  Which domains are included under welfare servi...   \n",
              "9  Which domains are included under welfare servi...   \n",
              "\n",
              "                                       actual_output  \\\n",
              "0  Certainly! Here’s a summary of the evidence an...   \n",
              "1  Certainly! Here’s a clear explanation of how *...   \n",
              "2  Certainly! Here’s a clear explanation of how *...   \n",
              "3  Certainly! Here’s a breakdown of the **domains...   \n",
              "4  Certainly! In their 2012 report, **Nougier and...   \n",
              "5  Certainly! According to Nougier & Schatz (2012...   \n",
              "6  Nougier & Schatz (2012) highlight significant ...   \n",
              "7  Certainly! Here’s a clear explanation of how *...   \n",
              "8  Certainly! Here’s a breakdown of the **domains...   \n",
              "9  Certainly! Here’s a breakdown of the **domains...   \n",
              "\n",
              "                                     expected_output context  \\\n",
              "0  Nougier and Schatz (2012) provide evidence tha...    None   \n",
              "1  Welfare, support services, and housing focus o...    None   \n",
              "2  Welfare, support services, and housing focus o...    None   \n",
              "3  The domains included are welfare and support s...    None   \n",
              "4  Nougier and Schatz (2012) provide evidence tha...    None   \n",
              "5  Nougier & Schatz (2012) highlight that regulat...    None   \n",
              "6  Nougier & Schatz (2012) highlight that regulat...    None   \n",
              "7  Welfare, support services, and housing focus o...    None   \n",
              "8  The domains included are welfare and support s...    None   \n",
              "9  The domains included are welfare and support s...    None   \n",
              "\n",
              "                                   retrieval_context additional_metadata  \n",
              "0  [Read the Bilateral Schedule announcement. Top...                None  \n",
              "1  [[cited 2017 Nov 17]. Available from: https://...                None  \n",
              "2  [Implement a training and orientation program ...                None  \n",
              "3  [Skip to main content\\n\\nTwitter\\n\\nFacebook\\n...                None  \n",
              "4  [They also worked with mental hospital service...                None  \n",
              "5  [What is self-harm? Published 15 September 202...                None  \n",
              "6  [Find out more about self-harm. Check out what...                None  \n",
              "7  [17. Nougier, M., and Schatz, E., Drug consump...                None  \n",
              "8  [From 2021, major reforms are expected across ...                None  \n",
              "9  [Welfare and support services, including housi...                None  "
            ]
          },
          "execution_count": 30,
          "metadata": {},
          "output_type": "execute_result"
        }
      ],
      "source": [
        "pd.DataFrame(clean_results)"
      ]
    },
    {
      "cell_type": "markdown",
      "metadata": {
        "id": "qPBazSOwea6a"
      },
      "source": [
        "# Testing"
      ]
    }
  ],
  "metadata": {
    "colab": {
      "authorship_tag": "ABX9TyPNwRlCHTWT3Nfy8LiguEvm",
      "collapsed_sections": [
        "o-BfNth1SaVG",
        "JaJ7bNYus8cP",
        "r32QSuTKSqWj"
      ],
      "include_colab_link": true,
      "mount_file_id": "18ApDVyqTtUGThLQxpegVk9oPCwU1tGGc",
      "provenance": []
    },
    "kernelspec": {
      "display_name": "llm",
      "language": "python",
      "name": "python3"
    },
    "language_info": {
      "codemirror_mode": {
        "name": "ipython",
        "version": 3
      },
      "file_extension": ".py",
      "mimetype": "text/x-python",
      "name": "python",
      "nbconvert_exporter": "python",
      "pygments_lexer": "ipython3",
      "version": "3.12.1"
    },
    "widgets": {
      "application/vnd.jupyter.widget-state+json": {
        "08e0729da66140659c2cd4c3d229d5ee": {
          "model_module": "@jupyter-widgets/base",
          "model_module_version": "1.2.0",
          "model_name": "LayoutModel",
          "state": {
            "_model_module": "@jupyter-widgets/base",
            "_model_module_version": "1.2.0",
            "_model_name": "LayoutModel",
            "_view_count": null,
            "_view_module": "@jupyter-widgets/base",
            "_view_module_version": "1.2.0",
            "_view_name": "LayoutView",
            "align_content": null,
            "align_items": null,
            "align_self": null,
            "border": null,
            "bottom": null,
            "display": null,
            "flex": null,
            "flex_flow": null,
            "grid_area": null,
            "grid_auto_columns": null,
            "grid_auto_flow": null,
            "grid_auto_rows": null,
            "grid_column": null,
            "grid_gap": null,
            "grid_row": null,
            "grid_template_areas": null,
            "grid_template_columns": null,
            "grid_template_rows": null,
            "height": null,
            "justify_content": null,
            "justify_items": null,
            "left": null,
            "margin": null,
            "max_height": null,
            "max_width": null,
            "min_height": null,
            "min_width": null,
            "object_fit": null,
            "object_position": null,
            "order": null,
            "overflow": null,
            "overflow_x": null,
            "overflow_y": null,
            "padding": null,
            "right": null,
            "top": null,
            "visibility": null,
            "width": null
          }
        },
        "24883f0c784a4498a3876638abd5dd4e": {
          "model_module": "@jupyter-widgets/base",
          "model_module_version": "1.2.0",
          "model_name": "LayoutModel",
          "state": {
            "_model_module": "@jupyter-widgets/base",
            "_model_module_version": "1.2.0",
            "_model_name": "LayoutModel",
            "_view_count": null,
            "_view_module": "@jupyter-widgets/base",
            "_view_module_version": "1.2.0",
            "_view_name": "LayoutView",
            "align_content": null,
            "align_items": null,
            "align_self": null,
            "border": null,
            "bottom": null,
            "display": null,
            "flex": null,
            "flex_flow": null,
            "grid_area": null,
            "grid_auto_columns": null,
            "grid_auto_flow": null,
            "grid_auto_rows": null,
            "grid_column": null,
            "grid_gap": null,
            "grid_row": null,
            "grid_template_areas": null,
            "grid_template_columns": null,
            "grid_template_rows": null,
            "height": null,
            "justify_content": null,
            "justify_items": null,
            "left": null,
            "margin": null,
            "max_height": null,
            "max_width": null,
            "min_height": null,
            "min_width": null,
            "object_fit": null,
            "object_position": null,
            "order": null,
            "overflow": null,
            "overflow_x": null,
            "overflow_y": null,
            "padding": null,
            "right": null,
            "top": null,
            "visibility": null,
            "width": null
          }
        },
        "2606f7cd23474d56bdcd609d1a9f6f2a": {
          "model_module": "@jupyter-widgets/output",
          "model_module_version": "1.0.0",
          "model_name": "OutputModel",
          "state": {
            "_dom_classes": [],
            "_model_module": "@jupyter-widgets/output",
            "_model_module_version": "1.0.0",
            "_model_name": "OutputModel",
            "_view_count": null,
            "_view_module": "@jupyter-widgets/output",
            "_view_module_version": "1.0.0",
            "_view_name": "OutputView",
            "layout": "IPY_MODEL_b6cbdef4aa87468faa90232e4c28f5b8",
            "msg_id": "",
            "outputs": [
              {
                "data": {
                  "text/html": "<pre style=\"white-space:pre;overflow-x:auto;line-height:normal;font-family:Menlo,'DejaVu Sans Mono',consolas,'Courier New',monospace\">Evaluating 5 test case(s) in parallel <span style=\"color: #11ff00; text-decoration-color: #11ff00\">━━━━━━━━━━━━━━━━━━━━━━━━━━━━━━━━━━━━━━━━━━━━━━━━</span><span style=\"color: #3a3a3a; text-decoration-color: #3a3a3a\">╺━━━━━━━━━━━</span> <span style=\"color: #00e5ff; text-decoration-color: #00e5ff\"> 80%</span> <span style=\"color: #5703ff; text-decoration-color: #5703ff\">0:00:15</span>\n    🎯 Evaluating test case #4        <span style=\"color: #3a3a3a; text-decoration-color: #3a3a3a\">━━━━━━━━━━━━━━━━━━━━━━━━━━━━━━━━━━━━━━━━━━━━━━━━━━━━━━━━━━━━</span> <span style=\"color: #00e5ff; text-decoration-color: #00e5ff\">  0%</span> <span style=\"color: #5703ff; text-decoration-color: #5703ff\">0:00:15</span>\n</pre>\n",
                  "text/plain": "Evaluating 5 test case(s) in parallel \u001b[38;2;17;255;0m━━━━━━━━━━━━━━━━━━━━━━━━━━━━━━━━━━━━━━━━━━━━━━━━\u001b[0m\u001b[38;5;237m╺\u001b[0m\u001b[38;5;237m━━━━━━━━━━━\u001b[0m \u001b[38;2;0;229;255m 80%\u001b[0m \u001b[38;2;87;3;255m0:00:15\u001b[0m\n    🎯 Evaluating test case #4        \u001b[38;5;237m━━━━━━━━━━━━━━━━━━━━━━━━━━━━━━━━━━━━━━━━━━━━━━━━━━━━━━━━━━━━\u001b[0m \u001b[38;2;0;229;255m  0%\u001b[0m \u001b[38;2;87;3;255m0:00:15\u001b[0m\n"
                },
                "metadata": {},
                "output_type": "display_data"
              }
            ]
          }
        },
        "38e735f886164faeb9379c6b1a6dda52": {
          "model_module": "@jupyter-widgets/output",
          "model_module_version": "1.0.0",
          "model_name": "OutputModel",
          "state": {
            "_dom_classes": [],
            "_model_module": "@jupyter-widgets/output",
            "_model_module_version": "1.0.0",
            "_model_name": "OutputModel",
            "_view_count": null,
            "_view_module": "@jupyter-widgets/output",
            "_view_module_version": "1.0.0",
            "_view_name": "OutputView",
            "layout": "IPY_MODEL_edac998697014e0fb8ada76589e9ec98",
            "msg_id": "",
            "outputs": [
              {
                "data": {
                  "text/html": "<pre style=\"white-space:pre;overflow-x:auto;line-height:normal;font-family:Menlo,'DejaVu Sans Mono',consolas,'Courier New',monospace\">Evaluating 5 test case(s) in parallel <span style=\"color: #11ff00; text-decoration-color: #11ff00\">━━━━━━━━━━━━━━━━━━━━━━━━━━━━━━━━━━━━━━━━━━━━━━━━</span><span style=\"color: #3a3a3a; text-decoration-color: #3a3a3a\">╺━━━━━━━━━━━</span> <span style=\"color: #00e5ff; text-decoration-color: #00e5ff\"> 80%</span> <span style=\"color: #5703ff; text-decoration-color: #5703ff\">0:00:12</span>\n    🎯 Evaluating test case #1        <span style=\"color: #3a3a3a; text-decoration-color: #3a3a3a\">━━━━━━━━━━━━━━━━━━━━━━━━━━━━━━━━━━━━━━━━━━━━━━━━━━━━━━━━━━━━</span> <span style=\"color: #00e5ff; text-decoration-color: #00e5ff\">  0%</span> <span style=\"color: #5703ff; text-decoration-color: #5703ff\">0:00:12</span>\n</pre>\n",
                  "text/plain": "Evaluating 5 test case(s) in parallel \u001b[38;2;17;255;0m━━━━━━━━━━━━━━━━━━━━━━━━━━━━━━━━━━━━━━━━━━━━━━━━\u001b[0m\u001b[38;5;237m╺\u001b[0m\u001b[38;5;237m━━━━━━━━━━━\u001b[0m \u001b[38;2;0;229;255m 80%\u001b[0m \u001b[38;2;87;3;255m0:00:12\u001b[0m\n    🎯 Evaluating test case #1        \u001b[38;5;237m━━━━━━━━━━━━━━━━━━━━━━━━━━━━━━━━━━━━━━━━━━━━━━━━━━━━━━━━━━━━\u001b[0m \u001b[38;2;0;229;255m  0%\u001b[0m \u001b[38;2;87;3;255m0:00:12\u001b[0m\n"
                },
                "metadata": {},
                "output_type": "display_data"
              }
            ]
          }
        },
        "405f5eec9d5249a88377f7aa6987d762": {
          "model_module": "@jupyter-widgets/base",
          "model_module_version": "1.2.0",
          "model_name": "LayoutModel",
          "state": {
            "_model_module": "@jupyter-widgets/base",
            "_model_module_version": "1.2.0",
            "_model_name": "LayoutModel",
            "_view_count": null,
            "_view_module": "@jupyter-widgets/base",
            "_view_module_version": "1.2.0",
            "_view_name": "LayoutView",
            "align_content": null,
            "align_items": null,
            "align_self": null,
            "border": null,
            "bottom": null,
            "display": null,
            "flex": null,
            "flex_flow": null,
            "grid_area": null,
            "grid_auto_columns": null,
            "grid_auto_flow": null,
            "grid_auto_rows": null,
            "grid_column": null,
            "grid_gap": null,
            "grid_row": null,
            "grid_template_areas": null,
            "grid_template_columns": null,
            "grid_template_rows": null,
            "height": null,
            "justify_content": null,
            "justify_items": null,
            "left": null,
            "margin": null,
            "max_height": null,
            "max_width": null,
            "min_height": null,
            "min_width": null,
            "object_fit": null,
            "object_position": null,
            "order": null,
            "overflow": null,
            "overflow_x": null,
            "overflow_y": null,
            "padding": null,
            "right": null,
            "top": null,
            "visibility": null,
            "width": null
          }
        },
        "6a12678f13684e3f9d440d8a98f673e7": {
          "model_module": "@jupyter-widgets/base",
          "model_module_version": "1.2.0",
          "model_name": "LayoutModel",
          "state": {
            "_model_module": "@jupyter-widgets/base",
            "_model_module_version": "1.2.0",
            "_model_name": "LayoutModel",
            "_view_count": null,
            "_view_module": "@jupyter-widgets/base",
            "_view_module_version": "1.2.0",
            "_view_name": "LayoutView",
            "align_content": null,
            "align_items": null,
            "align_self": null,
            "border": null,
            "bottom": null,
            "display": null,
            "flex": null,
            "flex_flow": null,
            "grid_area": null,
            "grid_auto_columns": null,
            "grid_auto_flow": null,
            "grid_auto_rows": null,
            "grid_column": null,
            "grid_gap": null,
            "grid_row": null,
            "grid_template_areas": null,
            "grid_template_columns": null,
            "grid_template_rows": null,
            "height": null,
            "justify_content": null,
            "justify_items": null,
            "left": null,
            "margin": null,
            "max_height": null,
            "max_width": null,
            "min_height": null,
            "min_width": null,
            "object_fit": null,
            "object_position": null,
            "order": null,
            "overflow": null,
            "overflow_x": null,
            "overflow_y": null,
            "padding": null,
            "right": null,
            "top": null,
            "visibility": null,
            "width": null
          }
        },
        "863b7952f9c54ee883139314fb4a015c": {
          "model_module": "@jupyter-widgets/output",
          "model_module_version": "1.0.0",
          "model_name": "OutputModel",
          "state": {
            "_dom_classes": [],
            "_model_module": "@jupyter-widgets/output",
            "_model_module_version": "1.0.0",
            "_model_name": "OutputModel",
            "_view_count": null,
            "_view_module": "@jupyter-widgets/output",
            "_view_module_version": "1.0.0",
            "_view_name": "OutputView",
            "layout": "IPY_MODEL_24883f0c784a4498a3876638abd5dd4e",
            "msg_id": "",
            "outputs": [
              {
                "data": {
                  "text/html": "<pre style=\"white-space:pre;overflow-x:auto;line-height:normal;font-family:Menlo,'DejaVu Sans Mono',consolas,'Courier New',monospace\">Evaluating 5 test case(s) in parallel <span style=\"color: #11ff00; text-decoration-color: #11ff00\">━━━━━━━━━━━━━━━━━━━━━━━━━━━━━━━━━━━━━━━━━━━━━━━━</span><span style=\"color: #3a3a3a; text-decoration-color: #3a3a3a\">╺━━━━━━━━━━━</span> <span style=\"color: #00e5ff; text-decoration-color: #00e5ff\"> 80%</span> <span style=\"color: #5703ff; text-decoration-color: #5703ff\">0:00:17</span>\n    🎯 Evaluating test case #1        <span style=\"color: #3a3a3a; text-decoration-color: #3a3a3a\">━━━━━━━━━━━━━━━━━━━━━━━━━━━━━━━━━━━━━━━━━━━━━━━━━━━━━━━━━━━━</span> <span style=\"color: #00e5ff; text-decoration-color: #00e5ff\">  0%</span> <span style=\"color: #5703ff; text-decoration-color: #5703ff\">0:00:17</span>\n</pre>\n",
                  "text/plain": "Evaluating 5 test case(s) in parallel \u001b[38;2;17;255;0m━━━━━━━━━━━━━━━━━━━━━━━━━━━━━━━━━━━━━━━━━━━━━━━━\u001b[0m\u001b[38;5;237m╺\u001b[0m\u001b[38;5;237m━━━━━━━━━━━\u001b[0m \u001b[38;2;0;229;255m 80%\u001b[0m \u001b[38;2;87;3;255m0:00:17\u001b[0m\n    🎯 Evaluating test case #1        \u001b[38;5;237m━━━━━━━━━━━━━━━━━━━━━━━━━━━━━━━━━━━━━━━━━━━━━━━━━━━━━━━━━━━━\u001b[0m \u001b[38;2;0;229;255m  0%\u001b[0m \u001b[38;2;87;3;255m0:00:17\u001b[0m\n"
                },
                "metadata": {},
                "output_type": "display_data"
              }
            ]
          }
        },
        "938e46ebb0794eaaa33aea115b8a7824": {
          "model_module": "@jupyter-widgets/output",
          "model_module_version": "1.0.0",
          "model_name": "OutputModel",
          "state": {
            "_dom_classes": [],
            "_model_module": "@jupyter-widgets/output",
            "_model_module_version": "1.0.0",
            "_model_name": "OutputModel",
            "_view_count": null,
            "_view_module": "@jupyter-widgets/output",
            "_view_module_version": "1.0.0",
            "_view_name": "OutputView",
            "layout": "IPY_MODEL_08e0729da66140659c2cd4c3d229d5ee",
            "msg_id": "",
            "outputs": [
              {
                "data": {
                  "text/html": "<pre style=\"white-space:pre;overflow-x:auto;line-height:normal;font-family:Menlo,'DejaVu Sans Mono',consolas,'Courier New',monospace\"><span style=\"color: #6a00ff; text-decoration-color: #6a00ff\">⠹</span> ✨ You're running DeepEval's latest <span style=\"color: #6a00ff; text-decoration-color: #6a00ff\">Answer Relevancy Metric</span>! <span style=\"color: #374151; text-decoration-color: #374151\">(using gpt-4o, strict=False, async_mode=True)...</span>\n</pre>\n",
                  "text/plain": "\u001b[38;2;106;0;255m⠹\u001b[0m ✨ You're running DeepEval's latest \u001b[38;2;106;0;255mAnswer Relevancy Metric\u001b[0m! \u001b[38;2;55;65;81m(using gpt-4o, strict=False, async_mode=True)...\u001b[0m\n"
                },
                "metadata": {},
                "output_type": "display_data"
              }
            ]
          }
        },
        "9fc9f7cbbf8e407da23863d8522584cf": {
          "model_module": "@jupyter-widgets/base",
          "model_module_version": "1.2.0",
          "model_name": "LayoutModel",
          "state": {
            "_model_module": "@jupyter-widgets/base",
            "_model_module_version": "1.2.0",
            "_model_name": "LayoutModel",
            "_view_count": null,
            "_view_module": "@jupyter-widgets/base",
            "_view_module_version": "1.2.0",
            "_view_name": "LayoutView",
            "align_content": null,
            "align_items": null,
            "align_self": null,
            "border": null,
            "bottom": null,
            "display": null,
            "flex": null,
            "flex_flow": null,
            "grid_area": null,
            "grid_auto_columns": null,
            "grid_auto_flow": null,
            "grid_auto_rows": null,
            "grid_column": null,
            "grid_gap": null,
            "grid_row": null,
            "grid_template_areas": null,
            "grid_template_columns": null,
            "grid_template_rows": null,
            "height": null,
            "justify_content": null,
            "justify_items": null,
            "left": null,
            "margin": null,
            "max_height": null,
            "max_width": null,
            "min_height": null,
            "min_width": null,
            "object_fit": null,
            "object_position": null,
            "order": null,
            "overflow": null,
            "overflow_x": null,
            "overflow_y": null,
            "padding": null,
            "right": null,
            "top": null,
            "visibility": null,
            "width": null
          }
        },
        "a3d19c67f69545979f32aeddc27c8a6a": {
          "model_module": "@jupyter-widgets/base",
          "model_module_version": "1.2.0",
          "model_name": "LayoutModel",
          "state": {
            "_model_module": "@jupyter-widgets/base",
            "_model_module_version": "1.2.0",
            "_model_name": "LayoutModel",
            "_view_count": null,
            "_view_module": "@jupyter-widgets/base",
            "_view_module_version": "1.2.0",
            "_view_name": "LayoutView",
            "align_content": null,
            "align_items": null,
            "align_self": null,
            "border": null,
            "bottom": null,
            "display": null,
            "flex": null,
            "flex_flow": null,
            "grid_area": null,
            "grid_auto_columns": null,
            "grid_auto_flow": null,
            "grid_auto_rows": null,
            "grid_column": null,
            "grid_gap": null,
            "grid_row": null,
            "grid_template_areas": null,
            "grid_template_columns": null,
            "grid_template_rows": null,
            "height": null,
            "justify_content": null,
            "justify_items": null,
            "left": null,
            "margin": null,
            "max_height": null,
            "max_width": null,
            "min_height": null,
            "min_width": null,
            "object_fit": null,
            "object_position": null,
            "order": null,
            "overflow": null,
            "overflow_x": null,
            "overflow_y": null,
            "padding": null,
            "right": null,
            "top": null,
            "visibility": null,
            "width": null
          }
        },
        "b6cbdef4aa87468faa90232e4c28f5b8": {
          "model_module": "@jupyter-widgets/base",
          "model_module_version": "1.2.0",
          "model_name": "LayoutModel",
          "state": {
            "_model_module": "@jupyter-widgets/base",
            "_model_module_version": "1.2.0",
            "_model_name": "LayoutModel",
            "_view_count": null,
            "_view_module": "@jupyter-widgets/base",
            "_view_module_version": "1.2.0",
            "_view_name": "LayoutView",
            "align_content": null,
            "align_items": null,
            "align_self": null,
            "border": null,
            "bottom": null,
            "display": null,
            "flex": null,
            "flex_flow": null,
            "grid_area": null,
            "grid_auto_columns": null,
            "grid_auto_flow": null,
            "grid_auto_rows": null,
            "grid_column": null,
            "grid_gap": null,
            "grid_row": null,
            "grid_template_areas": null,
            "grid_template_columns": null,
            "grid_template_rows": null,
            "height": null,
            "justify_content": null,
            "justify_items": null,
            "left": null,
            "margin": null,
            "max_height": null,
            "max_width": null,
            "min_height": null,
            "min_width": null,
            "object_fit": null,
            "object_position": null,
            "order": null,
            "overflow": null,
            "overflow_x": null,
            "overflow_y": null,
            "padding": null,
            "right": null,
            "top": null,
            "visibility": null,
            "width": null
          }
        },
        "c80c42fbc91d4b90bca7c7c4357224ca": {
          "model_module": "@jupyter-widgets/output",
          "model_module_version": "1.0.0",
          "model_name": "OutputModel",
          "state": {
            "_dom_classes": [],
            "_model_module": "@jupyter-widgets/output",
            "_model_module_version": "1.0.0",
            "_model_name": "OutputModel",
            "_view_count": null,
            "_view_module": "@jupyter-widgets/output",
            "_view_module_version": "1.0.0",
            "_view_name": "OutputView",
            "layout": "IPY_MODEL_9fc9f7cbbf8e407da23863d8522584cf",
            "msg_id": "",
            "outputs": [
              {
                "data": {
                  "text/html": "<pre style=\"white-space:pre;overflow-x:auto;line-height:normal;font-family:Menlo,'DejaVu Sans Mono',consolas,'Courier New',monospace\">Evaluating 5 test case(s) in parallel <span style=\"color: #11ff00; text-decoration-color: #11ff00\">━━━━━━━━━━━━━━━━━━━━━━━━━━━━━━━━━━━━━━━━━━━━━━━━</span><span style=\"color: #3a3a3a; text-decoration-color: #3a3a3a\">╺━━━━━━━━━━━</span> <span style=\"color: #00e5ff; text-decoration-color: #00e5ff\"> 80%</span> <span style=\"color: #5703ff; text-decoration-color: #5703ff\">0:00:11</span>\n    🎯 Evaluating test case #0        <span style=\"color: #3a3a3a; text-decoration-color: #3a3a3a\">━━━━━━━━━━━━━━━━━━━━━━━━━━━━━━━━━━━━━━━━━━━━━━━━━━━━━━━━━━━━</span> <span style=\"color: #00e5ff; text-decoration-color: #00e5ff\">  0%</span> <span style=\"color: #5703ff; text-decoration-color: #5703ff\">0:00:11</span>\n</pre>\n",
                  "text/plain": "Evaluating 5 test case(s) in parallel \u001b[38;2;17;255;0m━━━━━━━━━━━━━━━━━━━━━━━━━━━━━━━━━━━━━━━━━━━━━━━━\u001b[0m\u001b[38;5;237m╺\u001b[0m\u001b[38;5;237m━━━━━━━━━━━\u001b[0m \u001b[38;2;0;229;255m 80%\u001b[0m \u001b[38;2;87;3;255m0:00:11\u001b[0m\n    🎯 Evaluating test case #0        \u001b[38;5;237m━━━━━━━━━━━━━━━━━━━━━━━━━━━━━━━━━━━━━━━━━━━━━━━━━━━━━━━━━━━━\u001b[0m \u001b[38;2;0;229;255m  0%\u001b[0m \u001b[38;2;87;3;255m0:00:11\u001b[0m\n"
                },
                "metadata": {},
                "output_type": "display_data"
              }
            ]
          }
        },
        "e0476f692dfa4fc7a09e83ff787e6e4d": {
          "model_module": "@jupyter-widgets/output",
          "model_module_version": "1.0.0",
          "model_name": "OutputModel",
          "state": {
            "_dom_classes": [],
            "_model_module": "@jupyter-widgets/output",
            "_model_module_version": "1.0.0",
            "_model_name": "OutputModel",
            "_view_count": null,
            "_view_module": "@jupyter-widgets/output",
            "_view_module_version": "1.0.0",
            "_view_name": "OutputView",
            "layout": "IPY_MODEL_6a12678f13684e3f9d440d8a98f673e7",
            "msg_id": "",
            "outputs": [
              {
                "data": {
                  "text/html": "<pre style=\"white-space:pre;overflow-x:auto;line-height:normal;font-family:Menlo,'DejaVu Sans Mono',consolas,'Courier New',monospace\">Evaluating 5 test case(s) in parallel <span style=\"color: #11ff00; text-decoration-color: #11ff00\">━━━━━━━━━━━━━━━━━━━━━━━━━━━━━━━━━━━━━━━━━━━━━━━━</span><span style=\"color: #3a3a3a; text-decoration-color: #3a3a3a\">╺━━━━━━━━━━━</span> <span style=\"color: #00e5ff; text-decoration-color: #00e5ff\"> 80%</span> <span style=\"color: #5703ff; text-decoration-color: #5703ff\">0:00:24</span>\n    🎯 Evaluating test case #1        <span style=\"color: #3a3a3a; text-decoration-color: #3a3a3a\">━━━━━━━━━━━━━━━━━━━━━━━━━━━━━━━━━━━━━━━━━━━━━━━━━━━━━━━━━━━━</span> <span style=\"color: #00e5ff; text-decoration-color: #00e5ff\">  0%</span> <span style=\"color: #5703ff; text-decoration-color: #5703ff\">0:00:24</span>\n</pre>\n",
                  "text/plain": "Evaluating 5 test case(s) in parallel \u001b[38;2;17;255;0m━━━━━━━━━━━━━━━━━━━━━━━━━━━━━━━━━━━━━━━━━━━━━━━━\u001b[0m\u001b[38;5;237m╺\u001b[0m\u001b[38;5;237m━━━━━━━━━━━\u001b[0m \u001b[38;2;0;229;255m 80%\u001b[0m \u001b[38;2;87;3;255m0:00:24\u001b[0m\n    🎯 Evaluating test case #1        \u001b[38;5;237m━━━━━━━━━━━━━━━━━━━━━━━━━━━━━━━━━━━━━━━━━━━━━━━━━━━━━━━━━━━━\u001b[0m \u001b[38;2;0;229;255m  0%\u001b[0m \u001b[38;2;87;3;255m0:00:24\u001b[0m\n"
                },
                "metadata": {},
                "output_type": "display_data"
              }
            ]
          }
        },
        "e7a662fb411d400bb69b154c0d2cb3be": {
          "model_module": "@jupyter-widgets/output",
          "model_module_version": "1.0.0",
          "model_name": "OutputModel",
          "state": {
            "_dom_classes": [],
            "_model_module": "@jupyter-widgets/output",
            "_model_module_version": "1.0.0",
            "_model_name": "OutputModel",
            "_view_count": null,
            "_view_module": "@jupyter-widgets/output",
            "_view_module_version": "1.0.0",
            "_view_name": "OutputView",
            "layout": "IPY_MODEL_405f5eec9d5249a88377f7aa6987d762",
            "msg_id": "",
            "outputs": [
              {
                "data": {
                  "text/html": "<pre style=\"white-space:pre;overflow-x:auto;line-height:normal;font-family:Menlo,'DejaVu Sans Mono',consolas,'Courier New',monospace\">✨ Generating up to 20 goldens (method=default, evolutions=1) <span style=\"color: #729c1f; text-decoration-color: #729c1f\">━━━━━━━━━━━━━━━━━━━━━━━━━━━━━━━━━━━━━━━━</span> <span style=\"color: #00e5ff; text-decoration-color: #00e5ff\">100%</span> <span style=\"color: #5703ff; text-decoration-color: #5703ff\">0:00:25</span>\n</pre>\n",
                  "text/plain": "✨ Generating up to 20 goldens (method=default, evolutions=1) \u001b[38;2;114;156;31m━━━━━━━━━━━━━━━━━━━━━━━━━━━━━━━━━━━━━━━━\u001b[0m \u001b[38;2;0;229;255m100%\u001b[0m \u001b[38;2;87;3;255m0:00:25\u001b[0m\n"
                },
                "metadata": {},
                "output_type": "display_data"
              }
            ]
          }
        },
        "edac998697014e0fb8ada76589e9ec98": {
          "model_module": "@jupyter-widgets/base",
          "model_module_version": "1.2.0",
          "model_name": "LayoutModel",
          "state": {
            "_model_module": "@jupyter-widgets/base",
            "_model_module_version": "1.2.0",
            "_model_name": "LayoutModel",
            "_view_count": null,
            "_view_module": "@jupyter-widgets/base",
            "_view_module_version": "1.2.0",
            "_view_name": "LayoutView",
            "align_content": null,
            "align_items": null,
            "align_self": null,
            "border": null,
            "bottom": null,
            "display": null,
            "flex": null,
            "flex_flow": null,
            "grid_area": null,
            "grid_auto_columns": null,
            "grid_auto_flow": null,
            "grid_auto_rows": null,
            "grid_column": null,
            "grid_gap": null,
            "grid_row": null,
            "grid_template_areas": null,
            "grid_template_columns": null,
            "grid_template_rows": null,
            "height": null,
            "justify_content": null,
            "justify_items": null,
            "left": null,
            "margin": null,
            "max_height": null,
            "max_width": null,
            "min_height": null,
            "min_width": null,
            "object_fit": null,
            "object_position": null,
            "order": null,
            "overflow": null,
            "overflow_x": null,
            "overflow_y": null,
            "padding": null,
            "right": null,
            "top": null,
            "visibility": null,
            "width": null
          }
        },
        "f57295c438614f24b1588f583da3f417": {
          "model_module": "@jupyter-widgets/output",
          "model_module_version": "1.0.0",
          "model_name": "OutputModel",
          "state": {
            "_dom_classes": [],
            "_model_module": "@jupyter-widgets/output",
            "_model_module_version": "1.0.0",
            "_model_name": "OutputModel",
            "_view_count": null,
            "_view_module": "@jupyter-widgets/output",
            "_view_module_version": "1.0.0",
            "_view_name": "OutputView",
            "layout": "IPY_MODEL_a3d19c67f69545979f32aeddc27c8a6a",
            "msg_id": "",
            "outputs": [
              {
                "data": {
                  "text/html": "<pre style=\"white-space:pre;overflow-x:auto;line-height:normal;font-family:Menlo,'DejaVu Sans Mono',consolas,'Courier New',monospace\">Evaluating 5 test case(s) in parallel <span style=\"color: #11ff00; text-decoration-color: #11ff00\">━━━━━━━━━━━━━━━━━━━━━━━━━━━━━━━━━━━━━━━━━━━━━━━━</span><span style=\"color: #3a3a3a; text-decoration-color: #3a3a3a\">╺━━━━━━━━━━━</span> <span style=\"color: #00e5ff; text-decoration-color: #00e5ff\"> 80%</span> <span style=\"color: #5703ff; text-decoration-color: #5703ff\">0:00:08</span>\n    🎯 Evaluating test case #2        <span style=\"color: #3a3a3a; text-decoration-color: #3a3a3a\">━━━━━━━━━━━━━━━━━━━━━━━━━━━━━━━━━━━━━━━━━━━━━━━━━━━━━━━━━━━━</span> <span style=\"color: #00e5ff; text-decoration-color: #00e5ff\">  0%</span> <span style=\"color: #5703ff; text-decoration-color: #5703ff\">0:00:07</span>\n</pre>\n",
                  "text/plain": "Evaluating 5 test case(s) in parallel \u001b[38;2;17;255;0m━━━━━━━━━━━━━━━━━━━━━━━━━━━━━━━━━━━━━━━━━━━━━━━━\u001b[0m\u001b[38;5;237m╺\u001b[0m\u001b[38;5;237m━━━━━━━━━━━\u001b[0m \u001b[38;2;0;229;255m 80%\u001b[0m \u001b[38;2;87;3;255m0:00:08\u001b[0m\n    🎯 Evaluating test case #2        \u001b[38;5;237m━━━━━━━━━━━━━━━━━━━━━━━━━━━━━━━━━━━━━━━━━━━━━━━━━━━━━━━━━━━━\u001b[0m \u001b[38;2;0;229;255m  0%\u001b[0m \u001b[38;2;87;3;255m0:00:07\u001b[0m\n"
                },
                "metadata": {},
                "output_type": "display_data"
              }
            ]
          }
        }
      }
    }
  },
  "nbformat": 4,
  "nbformat_minor": 0
}
