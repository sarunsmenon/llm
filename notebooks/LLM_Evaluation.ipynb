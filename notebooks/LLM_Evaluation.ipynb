{
  "nbformat": 4,
  "nbformat_minor": 0,
  "metadata": {
    "colab": {
      "provenance": [],
      "collapsed_sections": [
        "o-BfNth1SaVG",
        "JaJ7bNYus8cP",
        "r32QSuTKSqWj"
      ],
      "mount_file_id": "18ApDVyqTtUGThLQxpegVk9oPCwU1tGGc",
      "authorship_tag": "ABX9TyPNwRlCHTWT3Nfy8LiguEvm",
      "include_colab_link": true
    },
    "kernelspec": {
      "name": "python3",
      "display_name": "Python 3"
    },
    "language_info": {
      "name": "python"
    },
    "widgets": {
      "application/vnd.jupyter.widget-state+json": {
        "938e46ebb0794eaaa33aea115b8a7824": {
          "model_module": "@jupyter-widgets/output",
          "model_name": "OutputModel",
          "model_module_version": "1.0.0",
          "state": {
            "_dom_classes": [],
            "_model_module": "@jupyter-widgets/output",
            "_model_module_version": "1.0.0",
            "_model_name": "OutputModel",
            "_view_count": null,
            "_view_module": "@jupyter-widgets/output",
            "_view_module_version": "1.0.0",
            "_view_name": "OutputView",
            "layout": "IPY_MODEL_08e0729da66140659c2cd4c3d229d5ee",
            "msg_id": "",
            "outputs": [
              {
                "output_type": "display_data",
                "data": {
                  "text/plain": "\u001b[38;2;106;0;255m⠹\u001b[0m ✨ You're running DeepEval's latest \u001b[38;2;106;0;255mAnswer Relevancy Metric\u001b[0m! \u001b[38;2;55;65;81m(using gpt-4o, strict=False, async_mode=True)...\u001b[0m\n",
                  "text/html": "<pre style=\"white-space:pre;overflow-x:auto;line-height:normal;font-family:Menlo,'DejaVu Sans Mono',consolas,'Courier New',monospace\"><span style=\"color: #6a00ff; text-decoration-color: #6a00ff\">⠹</span> ✨ You're running DeepEval's latest <span style=\"color: #6a00ff; text-decoration-color: #6a00ff\">Answer Relevancy Metric</span>! <span style=\"color: #374151; text-decoration-color: #374151\">(using gpt-4o, strict=False, async_mode=True)...</span>\n</pre>\n"
                },
                "metadata": {}
              }
            ]
          }
        },
        "08e0729da66140659c2cd4c3d229d5ee": {
          "model_module": "@jupyter-widgets/base",
          "model_name": "LayoutModel",
          "model_module_version": "1.2.0",
          "state": {
            "_model_module": "@jupyter-widgets/base",
            "_model_module_version": "1.2.0",
            "_model_name": "LayoutModel",
            "_view_count": null,
            "_view_module": "@jupyter-widgets/base",
            "_view_module_version": "1.2.0",
            "_view_name": "LayoutView",
            "align_content": null,
            "align_items": null,
            "align_self": null,
            "border": null,
            "bottom": null,
            "display": null,
            "flex": null,
            "flex_flow": null,
            "grid_area": null,
            "grid_auto_columns": null,
            "grid_auto_flow": null,
            "grid_auto_rows": null,
            "grid_column": null,
            "grid_gap": null,
            "grid_row": null,
            "grid_template_areas": null,
            "grid_template_columns": null,
            "grid_template_rows": null,
            "height": null,
            "justify_content": null,
            "justify_items": null,
            "left": null,
            "margin": null,
            "max_height": null,
            "max_width": null,
            "min_height": null,
            "min_width": null,
            "object_fit": null,
            "object_position": null,
            "order": null,
            "overflow": null,
            "overflow_x": null,
            "overflow_y": null,
            "padding": null,
            "right": null,
            "top": null,
            "visibility": null,
            "width": null
          }
        },
        "e7a662fb411d400bb69b154c0d2cb3be": {
          "model_module": "@jupyter-widgets/output",
          "model_name": "OutputModel",
          "model_module_version": "1.0.0",
          "state": {
            "_dom_classes": [],
            "_model_module": "@jupyter-widgets/output",
            "_model_module_version": "1.0.0",
            "_model_name": "OutputModel",
            "_view_count": null,
            "_view_module": "@jupyter-widgets/output",
            "_view_module_version": "1.0.0",
            "_view_name": "OutputView",
            "layout": "IPY_MODEL_405f5eec9d5249a88377f7aa6987d762",
            "msg_id": "",
            "outputs": [
              {
                "output_type": "display_data",
                "data": {
                  "text/plain": "✨ Generating up to 20 goldens (method=default, evolutions=1) \u001b[38;2;114;156;31m━━━━━━━━━━━━━━━━━━━━━━━━━━━━━━━━━━━━━━━━\u001b[0m \u001b[38;2;0;229;255m100%\u001b[0m \u001b[38;2;87;3;255m0:00:25\u001b[0m\n",
                  "text/html": "<pre style=\"white-space:pre;overflow-x:auto;line-height:normal;font-family:Menlo,'DejaVu Sans Mono',consolas,'Courier New',monospace\">✨ Generating up to 20 goldens (method=default, evolutions=1) <span style=\"color: #729c1f; text-decoration-color: #729c1f\">━━━━━━━━━━━━━━━━━━━━━━━━━━━━━━━━━━━━━━━━</span> <span style=\"color: #00e5ff; text-decoration-color: #00e5ff\">100%</span> <span style=\"color: #5703ff; text-decoration-color: #5703ff\">0:00:25</span>\n</pre>\n"
                },
                "metadata": {}
              }
            ]
          }
        },
        "405f5eec9d5249a88377f7aa6987d762": {
          "model_module": "@jupyter-widgets/base",
          "model_name": "LayoutModel",
          "model_module_version": "1.2.0",
          "state": {
            "_model_module": "@jupyter-widgets/base",
            "_model_module_version": "1.2.0",
            "_model_name": "LayoutModel",
            "_view_count": null,
            "_view_module": "@jupyter-widgets/base",
            "_view_module_version": "1.2.0",
            "_view_name": "LayoutView",
            "align_content": null,
            "align_items": null,
            "align_self": null,
            "border": null,
            "bottom": null,
            "display": null,
            "flex": null,
            "flex_flow": null,
            "grid_area": null,
            "grid_auto_columns": null,
            "grid_auto_flow": null,
            "grid_auto_rows": null,
            "grid_column": null,
            "grid_gap": null,
            "grid_row": null,
            "grid_template_areas": null,
            "grid_template_columns": null,
            "grid_template_rows": null,
            "height": null,
            "justify_content": null,
            "justify_items": null,
            "left": null,
            "margin": null,
            "max_height": null,
            "max_width": null,
            "min_height": null,
            "min_width": null,
            "object_fit": null,
            "object_position": null,
            "order": null,
            "overflow": null,
            "overflow_x": null,
            "overflow_y": null,
            "padding": null,
            "right": null,
            "top": null,
            "visibility": null,
            "width": null
          }
        },
        "c80c42fbc91d4b90bca7c7c4357224ca": {
          "model_module": "@jupyter-widgets/output",
          "model_name": "OutputModel",
          "model_module_version": "1.0.0",
          "state": {
            "_dom_classes": [],
            "_model_module": "@jupyter-widgets/output",
            "_model_module_version": "1.0.0",
            "_model_name": "OutputModel",
            "_view_count": null,
            "_view_module": "@jupyter-widgets/output",
            "_view_module_version": "1.0.0",
            "_view_name": "OutputView",
            "layout": "IPY_MODEL_9fc9f7cbbf8e407da23863d8522584cf",
            "msg_id": "",
            "outputs": [
              {
                "output_type": "display_data",
                "data": {
                  "text/plain": "Evaluating 5 test case(s) in parallel \u001b[38;2;17;255;0m━━━━━━━━━━━━━━━━━━━━━━━━━━━━━━━━━━━━━━━━━━━━━━━━\u001b[0m\u001b[38;5;237m╺\u001b[0m\u001b[38;5;237m━━━━━━━━━━━\u001b[0m \u001b[38;2;0;229;255m 80%\u001b[0m \u001b[38;2;87;3;255m0:00:11\u001b[0m\n    🎯 Evaluating test case #0        \u001b[38;5;237m━━━━━━━━━━━━━━━━━━━━━━━━━━━━━━━━━━━━━━━━━━━━━━━━━━━━━━━━━━━━\u001b[0m \u001b[38;2;0;229;255m  0%\u001b[0m \u001b[38;2;87;3;255m0:00:11\u001b[0m\n",
                  "text/html": "<pre style=\"white-space:pre;overflow-x:auto;line-height:normal;font-family:Menlo,'DejaVu Sans Mono',consolas,'Courier New',monospace\">Evaluating 5 test case(s) in parallel <span style=\"color: #11ff00; text-decoration-color: #11ff00\">━━━━━━━━━━━━━━━━━━━━━━━━━━━━━━━━━━━━━━━━━━━━━━━━</span><span style=\"color: #3a3a3a; text-decoration-color: #3a3a3a\">╺━━━━━━━━━━━</span> <span style=\"color: #00e5ff; text-decoration-color: #00e5ff\"> 80%</span> <span style=\"color: #5703ff; text-decoration-color: #5703ff\">0:00:11</span>\n    🎯 Evaluating test case #0        <span style=\"color: #3a3a3a; text-decoration-color: #3a3a3a\">━━━━━━━━━━━━━━━━━━━━━━━━━━━━━━━━━━━━━━━━━━━━━━━━━━━━━━━━━━━━</span> <span style=\"color: #00e5ff; text-decoration-color: #00e5ff\">  0%</span> <span style=\"color: #5703ff; text-decoration-color: #5703ff\">0:00:11</span>\n</pre>\n"
                },
                "metadata": {}
              }
            ]
          }
        },
        "9fc9f7cbbf8e407da23863d8522584cf": {
          "model_module": "@jupyter-widgets/base",
          "model_name": "LayoutModel",
          "model_module_version": "1.2.0",
          "state": {
            "_model_module": "@jupyter-widgets/base",
            "_model_module_version": "1.2.0",
            "_model_name": "LayoutModel",
            "_view_count": null,
            "_view_module": "@jupyter-widgets/base",
            "_view_module_version": "1.2.0",
            "_view_name": "LayoutView",
            "align_content": null,
            "align_items": null,
            "align_self": null,
            "border": null,
            "bottom": null,
            "display": null,
            "flex": null,
            "flex_flow": null,
            "grid_area": null,
            "grid_auto_columns": null,
            "grid_auto_flow": null,
            "grid_auto_rows": null,
            "grid_column": null,
            "grid_gap": null,
            "grid_row": null,
            "grid_template_areas": null,
            "grid_template_columns": null,
            "grid_template_rows": null,
            "height": null,
            "justify_content": null,
            "justify_items": null,
            "left": null,
            "margin": null,
            "max_height": null,
            "max_width": null,
            "min_height": null,
            "min_width": null,
            "object_fit": null,
            "object_position": null,
            "order": null,
            "overflow": null,
            "overflow_x": null,
            "overflow_y": null,
            "padding": null,
            "right": null,
            "top": null,
            "visibility": null,
            "width": null
          }
        },
        "38e735f886164faeb9379c6b1a6dda52": {
          "model_module": "@jupyter-widgets/output",
          "model_name": "OutputModel",
          "model_module_version": "1.0.0",
          "state": {
            "_dom_classes": [],
            "_model_module": "@jupyter-widgets/output",
            "_model_module_version": "1.0.0",
            "_model_name": "OutputModel",
            "_view_count": null,
            "_view_module": "@jupyter-widgets/output",
            "_view_module_version": "1.0.0",
            "_view_name": "OutputView",
            "layout": "IPY_MODEL_edac998697014e0fb8ada76589e9ec98",
            "msg_id": "",
            "outputs": [
              {
                "output_type": "display_data",
                "data": {
                  "text/plain": "Evaluating 5 test case(s) in parallel \u001b[38;2;17;255;0m━━━━━━━━━━━━━━━━━━━━━━━━━━━━━━━━━━━━━━━━━━━━━━━━\u001b[0m\u001b[38;5;237m╺\u001b[0m\u001b[38;5;237m━━━━━━━━━━━\u001b[0m \u001b[38;2;0;229;255m 80%\u001b[0m \u001b[38;2;87;3;255m0:00:12\u001b[0m\n    🎯 Evaluating test case #1        \u001b[38;5;237m━━━━━━━━━━━━━━━━━━━━━━━━━━━━━━━━━━━━━━━━━━━━━━━━━━━━━━━━━━━━\u001b[0m \u001b[38;2;0;229;255m  0%\u001b[0m \u001b[38;2;87;3;255m0:00:12\u001b[0m\n",
                  "text/html": "<pre style=\"white-space:pre;overflow-x:auto;line-height:normal;font-family:Menlo,'DejaVu Sans Mono',consolas,'Courier New',monospace\">Evaluating 5 test case(s) in parallel <span style=\"color: #11ff00; text-decoration-color: #11ff00\">━━━━━━━━━━━━━━━━━━━━━━━━━━━━━━━━━━━━━━━━━━━━━━━━</span><span style=\"color: #3a3a3a; text-decoration-color: #3a3a3a\">╺━━━━━━━━━━━</span> <span style=\"color: #00e5ff; text-decoration-color: #00e5ff\"> 80%</span> <span style=\"color: #5703ff; text-decoration-color: #5703ff\">0:00:12</span>\n    🎯 Evaluating test case #1        <span style=\"color: #3a3a3a; text-decoration-color: #3a3a3a\">━━━━━━━━━━━━━━━━━━━━━━━━━━━━━━━━━━━━━━━━━━━━━━━━━━━━━━━━━━━━</span> <span style=\"color: #00e5ff; text-decoration-color: #00e5ff\">  0%</span> <span style=\"color: #5703ff; text-decoration-color: #5703ff\">0:00:12</span>\n</pre>\n"
                },
                "metadata": {}
              }
            ]
          }
        },
        "edac998697014e0fb8ada76589e9ec98": {
          "model_module": "@jupyter-widgets/base",
          "model_name": "LayoutModel",
          "model_module_version": "1.2.0",
          "state": {
            "_model_module": "@jupyter-widgets/base",
            "_model_module_version": "1.2.0",
            "_model_name": "LayoutModel",
            "_view_count": null,
            "_view_module": "@jupyter-widgets/base",
            "_view_module_version": "1.2.0",
            "_view_name": "LayoutView",
            "align_content": null,
            "align_items": null,
            "align_self": null,
            "border": null,
            "bottom": null,
            "display": null,
            "flex": null,
            "flex_flow": null,
            "grid_area": null,
            "grid_auto_columns": null,
            "grid_auto_flow": null,
            "grid_auto_rows": null,
            "grid_column": null,
            "grid_gap": null,
            "grid_row": null,
            "grid_template_areas": null,
            "grid_template_columns": null,
            "grid_template_rows": null,
            "height": null,
            "justify_content": null,
            "justify_items": null,
            "left": null,
            "margin": null,
            "max_height": null,
            "max_width": null,
            "min_height": null,
            "min_width": null,
            "object_fit": null,
            "object_position": null,
            "order": null,
            "overflow": null,
            "overflow_x": null,
            "overflow_y": null,
            "padding": null,
            "right": null,
            "top": null,
            "visibility": null,
            "width": null
          }
        },
        "2606f7cd23474d56bdcd609d1a9f6f2a": {
          "model_module": "@jupyter-widgets/output",
          "model_name": "OutputModel",
          "model_module_version": "1.0.0",
          "state": {
            "_dom_classes": [],
            "_model_module": "@jupyter-widgets/output",
            "_model_module_version": "1.0.0",
            "_model_name": "OutputModel",
            "_view_count": null,
            "_view_module": "@jupyter-widgets/output",
            "_view_module_version": "1.0.0",
            "_view_name": "OutputView",
            "layout": "IPY_MODEL_b6cbdef4aa87468faa90232e4c28f5b8",
            "msg_id": "",
            "outputs": [
              {
                "output_type": "display_data",
                "data": {
                  "text/plain": "Evaluating 5 test case(s) in parallel \u001b[38;2;17;255;0m━━━━━━━━━━━━━━━━━━━━━━━━━━━━━━━━━━━━━━━━━━━━━━━━\u001b[0m\u001b[38;5;237m╺\u001b[0m\u001b[38;5;237m━━━━━━━━━━━\u001b[0m \u001b[38;2;0;229;255m 80%\u001b[0m \u001b[38;2;87;3;255m0:00:15\u001b[0m\n    🎯 Evaluating test case #4        \u001b[38;5;237m━━━━━━━━━━━━━━━━━━━━━━━━━━━━━━━━━━━━━━━━━━━━━━━━━━━━━━━━━━━━\u001b[0m \u001b[38;2;0;229;255m  0%\u001b[0m \u001b[38;2;87;3;255m0:00:15\u001b[0m\n",
                  "text/html": "<pre style=\"white-space:pre;overflow-x:auto;line-height:normal;font-family:Menlo,'DejaVu Sans Mono',consolas,'Courier New',monospace\">Evaluating 5 test case(s) in parallel <span style=\"color: #11ff00; text-decoration-color: #11ff00\">━━━━━━━━━━━━━━━━━━━━━━━━━━━━━━━━━━━━━━━━━━━━━━━━</span><span style=\"color: #3a3a3a; text-decoration-color: #3a3a3a\">╺━━━━━━━━━━━</span> <span style=\"color: #00e5ff; text-decoration-color: #00e5ff\"> 80%</span> <span style=\"color: #5703ff; text-decoration-color: #5703ff\">0:00:15</span>\n    🎯 Evaluating test case #4        <span style=\"color: #3a3a3a; text-decoration-color: #3a3a3a\">━━━━━━━━━━━━━━━━━━━━━━━━━━━━━━━━━━━━━━━━━━━━━━━━━━━━━━━━━━━━</span> <span style=\"color: #00e5ff; text-decoration-color: #00e5ff\">  0%</span> <span style=\"color: #5703ff; text-decoration-color: #5703ff\">0:00:15</span>\n</pre>\n"
                },
                "metadata": {}
              }
            ]
          }
        },
        "b6cbdef4aa87468faa90232e4c28f5b8": {
          "model_module": "@jupyter-widgets/base",
          "model_name": "LayoutModel",
          "model_module_version": "1.2.0",
          "state": {
            "_model_module": "@jupyter-widgets/base",
            "_model_module_version": "1.2.0",
            "_model_name": "LayoutModel",
            "_view_count": null,
            "_view_module": "@jupyter-widgets/base",
            "_view_module_version": "1.2.0",
            "_view_name": "LayoutView",
            "align_content": null,
            "align_items": null,
            "align_self": null,
            "border": null,
            "bottom": null,
            "display": null,
            "flex": null,
            "flex_flow": null,
            "grid_area": null,
            "grid_auto_columns": null,
            "grid_auto_flow": null,
            "grid_auto_rows": null,
            "grid_column": null,
            "grid_gap": null,
            "grid_row": null,
            "grid_template_areas": null,
            "grid_template_columns": null,
            "grid_template_rows": null,
            "height": null,
            "justify_content": null,
            "justify_items": null,
            "left": null,
            "margin": null,
            "max_height": null,
            "max_width": null,
            "min_height": null,
            "min_width": null,
            "object_fit": null,
            "object_position": null,
            "order": null,
            "overflow": null,
            "overflow_x": null,
            "overflow_y": null,
            "padding": null,
            "right": null,
            "top": null,
            "visibility": null,
            "width": null
          }
        },
        "f57295c438614f24b1588f583da3f417": {
          "model_module": "@jupyter-widgets/output",
          "model_name": "OutputModel",
          "model_module_version": "1.0.0",
          "state": {
            "_dom_classes": [],
            "_model_module": "@jupyter-widgets/output",
            "_model_module_version": "1.0.0",
            "_model_name": "OutputModel",
            "_view_count": null,
            "_view_module": "@jupyter-widgets/output",
            "_view_module_version": "1.0.0",
            "_view_name": "OutputView",
            "layout": "IPY_MODEL_a3d19c67f69545979f32aeddc27c8a6a",
            "msg_id": "",
            "outputs": [
              {
                "output_type": "display_data",
                "data": {
                  "text/plain": "Evaluating 5 test case(s) in parallel \u001b[38;2;17;255;0m━━━━━━━━━━━━━━━━━━━━━━━━━━━━━━━━━━━━━━━━━━━━━━━━\u001b[0m\u001b[38;5;237m╺\u001b[0m\u001b[38;5;237m━━━━━━━━━━━\u001b[0m \u001b[38;2;0;229;255m 80%\u001b[0m \u001b[38;2;87;3;255m0:00:08\u001b[0m\n    🎯 Evaluating test case #2        \u001b[38;5;237m━━━━━━━━━━━━━━━━━━━━━━━━━━━━━━━━━━━━━━━━━━━━━━━━━━━━━━━━━━━━\u001b[0m \u001b[38;2;0;229;255m  0%\u001b[0m \u001b[38;2;87;3;255m0:00:07\u001b[0m\n",
                  "text/html": "<pre style=\"white-space:pre;overflow-x:auto;line-height:normal;font-family:Menlo,'DejaVu Sans Mono',consolas,'Courier New',monospace\">Evaluating 5 test case(s) in parallel <span style=\"color: #11ff00; text-decoration-color: #11ff00\">━━━━━━━━━━━━━━━━━━━━━━━━━━━━━━━━━━━━━━━━━━━━━━━━</span><span style=\"color: #3a3a3a; text-decoration-color: #3a3a3a\">╺━━━━━━━━━━━</span> <span style=\"color: #00e5ff; text-decoration-color: #00e5ff\"> 80%</span> <span style=\"color: #5703ff; text-decoration-color: #5703ff\">0:00:08</span>\n    🎯 Evaluating test case #2        <span style=\"color: #3a3a3a; text-decoration-color: #3a3a3a\">━━━━━━━━━━━━━━━━━━━━━━━━━━━━━━━━━━━━━━━━━━━━━━━━━━━━━━━━━━━━</span> <span style=\"color: #00e5ff; text-decoration-color: #00e5ff\">  0%</span> <span style=\"color: #5703ff; text-decoration-color: #5703ff\">0:00:07</span>\n</pre>\n"
                },
                "metadata": {}
              }
            ]
          }
        },
        "a3d19c67f69545979f32aeddc27c8a6a": {
          "model_module": "@jupyter-widgets/base",
          "model_name": "LayoutModel",
          "model_module_version": "1.2.0",
          "state": {
            "_model_module": "@jupyter-widgets/base",
            "_model_module_version": "1.2.0",
            "_model_name": "LayoutModel",
            "_view_count": null,
            "_view_module": "@jupyter-widgets/base",
            "_view_module_version": "1.2.0",
            "_view_name": "LayoutView",
            "align_content": null,
            "align_items": null,
            "align_self": null,
            "border": null,
            "bottom": null,
            "display": null,
            "flex": null,
            "flex_flow": null,
            "grid_area": null,
            "grid_auto_columns": null,
            "grid_auto_flow": null,
            "grid_auto_rows": null,
            "grid_column": null,
            "grid_gap": null,
            "grid_row": null,
            "grid_template_areas": null,
            "grid_template_columns": null,
            "grid_template_rows": null,
            "height": null,
            "justify_content": null,
            "justify_items": null,
            "left": null,
            "margin": null,
            "max_height": null,
            "max_width": null,
            "min_height": null,
            "min_width": null,
            "object_fit": null,
            "object_position": null,
            "order": null,
            "overflow": null,
            "overflow_x": null,
            "overflow_y": null,
            "padding": null,
            "right": null,
            "top": null,
            "visibility": null,
            "width": null
          }
        },
        "863b7952f9c54ee883139314fb4a015c": {
          "model_module": "@jupyter-widgets/output",
          "model_name": "OutputModel",
          "model_module_version": "1.0.0",
          "state": {
            "_dom_classes": [],
            "_model_module": "@jupyter-widgets/output",
            "_model_module_version": "1.0.0",
            "_model_name": "OutputModel",
            "_view_count": null,
            "_view_module": "@jupyter-widgets/output",
            "_view_module_version": "1.0.0",
            "_view_name": "OutputView",
            "layout": "IPY_MODEL_24883f0c784a4498a3876638abd5dd4e",
            "msg_id": "",
            "outputs": [
              {
                "output_type": "display_data",
                "data": {
                  "text/plain": "Evaluating 5 test case(s) in parallel \u001b[38;2;17;255;0m━━━━━━━━━━━━━━━━━━━━━━━━━━━━━━━━━━━━━━━━━━━━━━━━\u001b[0m\u001b[38;5;237m╺\u001b[0m\u001b[38;5;237m━━━━━━━━━━━\u001b[0m \u001b[38;2;0;229;255m 80%\u001b[0m \u001b[38;2;87;3;255m0:00:17\u001b[0m\n    🎯 Evaluating test case #1        \u001b[38;5;237m━━━━━━━━━━━━━━━━━━━━━━━━━━━━━━━━━━━━━━━━━━━━━━━━━━━━━━━━━━━━\u001b[0m \u001b[38;2;0;229;255m  0%\u001b[0m \u001b[38;2;87;3;255m0:00:17\u001b[0m\n",
                  "text/html": "<pre style=\"white-space:pre;overflow-x:auto;line-height:normal;font-family:Menlo,'DejaVu Sans Mono',consolas,'Courier New',monospace\">Evaluating 5 test case(s) in parallel <span style=\"color: #11ff00; text-decoration-color: #11ff00\">━━━━━━━━━━━━━━━━━━━━━━━━━━━━━━━━━━━━━━━━━━━━━━━━</span><span style=\"color: #3a3a3a; text-decoration-color: #3a3a3a\">╺━━━━━━━━━━━</span> <span style=\"color: #00e5ff; text-decoration-color: #00e5ff\"> 80%</span> <span style=\"color: #5703ff; text-decoration-color: #5703ff\">0:00:17</span>\n    🎯 Evaluating test case #1        <span style=\"color: #3a3a3a; text-decoration-color: #3a3a3a\">━━━━━━━━━━━━━━━━━━━━━━━━━━━━━━━━━━━━━━━━━━━━━━━━━━━━━━━━━━━━</span> <span style=\"color: #00e5ff; text-decoration-color: #00e5ff\">  0%</span> <span style=\"color: #5703ff; text-decoration-color: #5703ff\">0:00:17</span>\n</pre>\n"
                },
                "metadata": {}
              }
            ]
          }
        },
        "24883f0c784a4498a3876638abd5dd4e": {
          "model_module": "@jupyter-widgets/base",
          "model_name": "LayoutModel",
          "model_module_version": "1.2.0",
          "state": {
            "_model_module": "@jupyter-widgets/base",
            "_model_module_version": "1.2.0",
            "_model_name": "LayoutModel",
            "_view_count": null,
            "_view_module": "@jupyter-widgets/base",
            "_view_module_version": "1.2.0",
            "_view_name": "LayoutView",
            "align_content": null,
            "align_items": null,
            "align_self": null,
            "border": null,
            "bottom": null,
            "display": null,
            "flex": null,
            "flex_flow": null,
            "grid_area": null,
            "grid_auto_columns": null,
            "grid_auto_flow": null,
            "grid_auto_rows": null,
            "grid_column": null,
            "grid_gap": null,
            "grid_row": null,
            "grid_template_areas": null,
            "grid_template_columns": null,
            "grid_template_rows": null,
            "height": null,
            "justify_content": null,
            "justify_items": null,
            "left": null,
            "margin": null,
            "max_height": null,
            "max_width": null,
            "min_height": null,
            "min_width": null,
            "object_fit": null,
            "object_position": null,
            "order": null,
            "overflow": null,
            "overflow_x": null,
            "overflow_y": null,
            "padding": null,
            "right": null,
            "top": null,
            "visibility": null,
            "width": null
          }
        },
        "e0476f692dfa4fc7a09e83ff787e6e4d": {
          "model_module": "@jupyter-widgets/output",
          "model_name": "OutputModel",
          "model_module_version": "1.0.0",
          "state": {
            "_dom_classes": [],
            "_model_module": "@jupyter-widgets/output",
            "_model_module_version": "1.0.0",
            "_model_name": "OutputModel",
            "_view_count": null,
            "_view_module": "@jupyter-widgets/output",
            "_view_module_version": "1.0.0",
            "_view_name": "OutputView",
            "layout": "IPY_MODEL_6a12678f13684e3f9d440d8a98f673e7",
            "msg_id": "",
            "outputs": [
              {
                "output_type": "display_data",
                "data": {
                  "text/plain": "Evaluating 5 test case(s) in parallel \u001b[38;2;17;255;0m━━━━━━━━━━━━━━━━━━━━━━━━━━━━━━━━━━━━━━━━━━━━━━━━\u001b[0m\u001b[38;5;237m╺\u001b[0m\u001b[38;5;237m━━━━━━━━━━━\u001b[0m \u001b[38;2;0;229;255m 80%\u001b[0m \u001b[38;2;87;3;255m0:00:24\u001b[0m\n    🎯 Evaluating test case #1        \u001b[38;5;237m━━━━━━━━━━━━━━━━━━━━━━━━━━━━━━━━━━━━━━━━━━━━━━━━━━━━━━━━━━━━\u001b[0m \u001b[38;2;0;229;255m  0%\u001b[0m \u001b[38;2;87;3;255m0:00:24\u001b[0m\n",
                  "text/html": "<pre style=\"white-space:pre;overflow-x:auto;line-height:normal;font-family:Menlo,'DejaVu Sans Mono',consolas,'Courier New',monospace\">Evaluating 5 test case(s) in parallel <span style=\"color: #11ff00; text-decoration-color: #11ff00\">━━━━━━━━━━━━━━━━━━━━━━━━━━━━━━━━━━━━━━━━━━━━━━━━</span><span style=\"color: #3a3a3a; text-decoration-color: #3a3a3a\">╺━━━━━━━━━━━</span> <span style=\"color: #00e5ff; text-decoration-color: #00e5ff\"> 80%</span> <span style=\"color: #5703ff; text-decoration-color: #5703ff\">0:00:24</span>\n    🎯 Evaluating test case #1        <span style=\"color: #3a3a3a; text-decoration-color: #3a3a3a\">━━━━━━━━━━━━━━━━━━━━━━━━━━━━━━━━━━━━━━━━━━━━━━━━━━━━━━━━━━━━</span> <span style=\"color: #00e5ff; text-decoration-color: #00e5ff\">  0%</span> <span style=\"color: #5703ff; text-decoration-color: #5703ff\">0:00:24</span>\n</pre>\n"
                },
                "metadata": {}
              }
            ]
          }
        },
        "6a12678f13684e3f9d440d8a98f673e7": {
          "model_module": "@jupyter-widgets/base",
          "model_name": "LayoutModel",
          "model_module_version": "1.2.0",
          "state": {
            "_model_module": "@jupyter-widgets/base",
            "_model_module_version": "1.2.0",
            "_model_name": "LayoutModel",
            "_view_count": null,
            "_view_module": "@jupyter-widgets/base",
            "_view_module_version": "1.2.0",
            "_view_name": "LayoutView",
            "align_content": null,
            "align_items": null,
            "align_self": null,
            "border": null,
            "bottom": null,
            "display": null,
            "flex": null,
            "flex_flow": null,
            "grid_area": null,
            "grid_auto_columns": null,
            "grid_auto_flow": null,
            "grid_auto_rows": null,
            "grid_column": null,
            "grid_gap": null,
            "grid_row": null,
            "grid_template_areas": null,
            "grid_template_columns": null,
            "grid_template_rows": null,
            "height": null,
            "justify_content": null,
            "justify_items": null,
            "left": null,
            "margin": null,
            "max_height": null,
            "max_width": null,
            "min_height": null,
            "min_width": null,
            "object_fit": null,
            "object_position": null,
            "order": null,
            "overflow": null,
            "overflow_x": null,
            "overflow_y": null,
            "padding": null,
            "right": null,
            "top": null,
            "visibility": null,
            "width": null
          }
        }
      }
    }
  },
  "cells": [
    {
      "cell_type": "markdown",
      "metadata": {
        "id": "view-in-github",
        "colab_type": "text"
      },
      "source": [
        "<a href=\"https://colab.research.google.com/github/sarunsmenon/llm/blob/main/LLM_Evaluation.ipynb\" target=\"_parent\"><img src=\"https://colab.research.google.com/assets/colab-badge.svg\" alt=\"Open In Colab\"/></a>"
      ]
    },
    {
      "cell_type": "markdown",
      "source": [
        "# Install Libraries"
      ],
      "metadata": {
        "id": "WAMdvbdmrLTp"
      }
    },
    {
      "cell_type": "code",
      "execution_count": 1,
      "metadata": {
        "id": "cBe777deots0"
      },
      "outputs": [],
      "source": [
        "! pip install -q deepeval python-dotenv openai langchain-openai langchain langchain_community faiss-cpu  uuid7 langgraph chromadb aiobotocore"
      ]
    },
    {
      "cell_type": "markdown",
      "source": [
        "# Load Libraries"
      ],
      "metadata": {
        "id": "o-BfNth1SaVG"
      }
    },
    {
      "cell_type": "code",
      "source": [
        "from google.colab import userdata\n",
        "import os\n",
        "from langchain_openai import ChatOpenAI, OpenAIEmbeddings\n",
        "import chromadb\n",
        "import random"
      ],
      "metadata": {
        "id": "Cp82KVoEs7OD"
      },
      "execution_count": 2,
      "outputs": []
    },
    {
      "cell_type": "code",
      "source": [
        "from deepeval.synthesizer import Synthesizer\n",
        "from deepeval import evaluate\n",
        "from deepeval.metrics import AnswerRelevancyMetric, FaithfulnessMetric\n",
        "from deepeval.dataset import EvaluationDataset\n",
        "from deepeval.test_case import LLMTestCase"
      ],
      "metadata": {
        "id": "p4b5C7tiZXcd"
      },
      "execution_count": 3,
      "outputs": []
    },
    {
      "cell_type": "code",
      "source": [
        "import requests\n",
        "import chromadb\n",
        "from bs4 import BeautifulSoup\n",
        "import openai\n",
        "import hashlib\n",
        "import time\n",
        "import re"
      ],
      "metadata": {
        "id": "d9oWkKM3o6ek"
      },
      "execution_count": 4,
      "outputs": []
    },
    {
      "cell_type": "markdown",
      "source": [
        "# Load Variables"
      ],
      "metadata": {
        "id": "JaJ7bNYus8cP"
      }
    },
    {
      "cell_type": "code",
      "source": [
        "os.environ['OPENAI_API_KEY'] = userdata.get('open_ai_key')"
      ],
      "metadata": {
        "id": "weW7CaxNtCRF"
      },
      "execution_count": 5,
      "outputs": []
    },
    {
      "cell_type": "code",
      "source": [
        "llm_model = 'gpt-3.5-turbo-1106'\n",
        "llm = ChatOpenAI(model=llm_model, temperature=0)"
      ],
      "metadata": {
        "id": "pAbv8HrjuILY"
      },
      "execution_count": 6,
      "outputs": []
    },
    {
      "cell_type": "code",
      "source": [
        "# Start crawling from the initial URL\n",
        "ignore_lst = []\n",
        "max_pg_lmt = 5000\n",
        "fldr = '/content/drive/MyDrive/GenAI - Hack/mhdb'"
      ],
      "metadata": {
        "id": "tUurxzW7uFwz"
      },
      "execution_count": 7,
      "outputs": []
    },
    {
      "cell_type": "markdown",
      "source": [
        "# Load Contexts"
      ],
      "metadata": {
        "id": "QzEK--7KSK0T"
      }
    },
    {
      "cell_type": "markdown",
      "source": [
        "## Load Chroma Collection"
      ],
      "metadata": {
        "id": "r32QSuTKSqWj"
      }
    },
    {
      "cell_type": "code",
      "source": [
        "chroma_client = chromadb.PersistentClient(path=fldr)\n",
        "collection = chroma_client.get_or_create_collection(name=\"semantic\")"
      ],
      "metadata": {
        "id": "6A7Ih6fDSNEp"
      },
      "execution_count": 8,
      "outputs": []
    },
    {
      "cell_type": "markdown",
      "source": [
        "## Load Contexts"
      ],
      "metadata": {
        "id": "doV-sswjStxh"
      }
    },
    {
      "cell_type": "code",
      "source": [
        "all_contexts = collection.get(include=[\"documents\"])[\"documents\"]"
      ],
      "metadata": {
        "id": "KuS-zaaXSpfy"
      },
      "execution_count": 9,
      "outputs": []
    },
    {
      "cell_type": "code",
      "source": [
        "collection.get(include=[\"documents\"])"
      ],
      "metadata": {
        "id": "NHT7IZjEITOI"
      },
      "execution_count": null,
      "outputs": []
    },
    {
      "cell_type": "code",
      "source": [
        "len(all_contexts)"
      ],
      "metadata": {
        "colab": {
          "base_uri": "https://localhost:8080/"
        },
        "id": "DE5b7FmbIJx7",
        "outputId": "c69aad56-41be-4ef8-b020-98c9f78e21e4"
      },
      "execution_count": 11,
      "outputs": [
        {
          "output_type": "execute_result",
          "data": {
            "text/plain": [
              "12331"
            ]
          },
          "metadata": {},
          "execution_count": 11
        }
      ]
    },
    {
      "cell_type": "code",
      "source": [
        "sample_context = random.sample(all_contexts, 10)"
      ],
      "metadata": {
        "id": "_YexQXMHX1Mw"
      },
      "execution_count": 12,
      "outputs": []
    },
    {
      "cell_type": "code",
      "source": [
        "len(sample_context)"
      ],
      "metadata": {
        "colab": {
          "base_uri": "https://localhost:8080/"
        },
        "id": "pRAHtFTES3au",
        "outputId": "214c6ed4-4f10-4e16-b48b-468ef56aa741"
      },
      "execution_count": 13,
      "outputs": [
        {
          "output_type": "execute_result",
          "data": {
            "text/plain": [
              "10"
            ]
          },
          "metadata": {},
          "execution_count": 13
        }
      ]
    },
    {
      "cell_type": "code",
      "source": [
        "sample_context_lst = []\n",
        "for context in sample_context:\n",
        "  sample_context_lst.append([context])"
      ],
      "metadata": {
        "id": "NiFcNvsEHI7r"
      },
      "execution_count": 14,
      "outputs": []
    },
    {
      "cell_type": "markdown",
      "source": [
        "# Synthesizer"
      ],
      "metadata": {
        "id": "SEJFVwI2taIH"
      }
    },
    {
      "cell_type": "code",
      "source": [
        "len(sample_context_lst[0])"
      ],
      "metadata": {
        "colab": {
          "base_uri": "https://localhost:8080/"
        },
        "id": "c9ljiKncXTSX",
        "outputId": "8ad5f91d-d25e-4ae8-f166-06602eded218"
      },
      "execution_count": 39,
      "outputs": [
        {
          "output_type": "execute_result",
          "data": {
            "text/plain": [
              "1"
            ]
          },
          "metadata": {},
          "execution_count": 39
        }
      ]
    },
    {
      "cell_type": "code",
      "source": [
        "synthesizer = Synthesizer(model=llm_model)\n",
        "test_cases = synthesizer.generate_goldens_from_contexts(\n",
        "    # Provide a list of context for synthetic data generation\n",
        "    contexts=sample_context_lst,\n",
        "    max_goldens_per_context = 2\n",
        ")"
      ],
      "metadata": {
        "colab": {
          "base_uri": "https://localhost:8080/",
          "height": 37,
          "referenced_widgets": [
            "e7a662fb411d400bb69b154c0d2cb3be",
            "405f5eec9d5249a88377f7aa6987d762"
          ]
        },
        "id": "Z3zx0lqrYV6A",
        "outputId": "8ee43664-ea93-4f26-edb2-eaabef76f60d"
      },
      "execution_count": 25,
      "outputs": [
        {
          "output_type": "display_data",
          "data": {
            "text/plain": [
              "Output()"
            ],
            "application/vnd.jupyter.widget-view+json": {
              "version_major": 2,
              "version_minor": 0,
              "model_id": "e7a662fb411d400bb69b154c0d2cb3be"
            }
          },
          "metadata": {}
        },
        {
          "output_type": "display_data",
          "data": {
            "text/plain": [],
            "text/html": [
              "<pre style=\"white-space:pre;overflow-x:auto;line-height:normal;font-family:Menlo,'DejaVu Sans Mono',consolas,'Courier New',monospace\"></pre>\n"
            ]
          },
          "metadata": {}
        }
      ]
    },
    {
      "cell_type": "code",
      "source": [
        "synth_df = synthesizer.to_pandas()\n",
        "synth_df"
      ],
      "metadata": {
        "colab": {
          "base_uri": "https://localhost:8080/",
          "height": 1000
        },
        "id": "Je4kMCqoCmHG",
        "outputId": "a236b005-def8-4e49-e23f-a307fb1f24cb"
      },
      "execution_count": 34,
      "outputs": [
        {
          "output_type": "execute_result",
          "data": {
            "text/plain": [
              "                                                 input actual_output  \\\n",
              "0    Identify the tags associated with the Reportin...          None   \n",
              "1    When was the last update on The Reporting Fram...          None   \n",
              "2    Identify the tags associated with the Reportin...          None   \n",
              "3    When was the last update on The Reporting Fram...          None   \n",
              "4    Examine the characteristics and symptoms of bi...          None   \n",
              "..                                                 ...           ...   \n",
              "145  How might MHV further enhance the Strategy thr...          None   \n",
              "146  On what day will the event be held to ensure m...          None   \n",
              "147  How would people's schedules and leisure activ...          None   \n",
              "148  Explore the housing status of individuals usin...          None   \n",
              "149  What are the impacts of housing circumstances ...          None   \n",
              "\n",
              "                                       expected_output  \\\n",
              "0    The tags associated with the Reporting Framewo...   \n",
              "1    The last update on the Reporting Framework Sum...   \n",
              "2    The tags associated with the Reporting Framewo...   \n",
              "3    The last update on the Reporting Framework Sum...   \n",
              "4    The bipolar mood disorder is a mental health c...   \n",
              "..                                                 ...   \n",
              "145  MHV can further enhance the Strategy through e...   \n",
              "146  The event will be held on a Sunday, which is t...   \n",
              "147  People's schedules and leisure activities woul...   \n",
              "148  The publication explores the housing circumsta...   \n",
              "149  Housing circumstances can be an important dete...   \n",
              "\n",
              "                                               context retrieval_context  \\\n",
              "0    [Publications\\n\\nReporting Framework Summary R...              None   \n",
              "1    [Publications\\n\\nReporting Framework Summary R...              None   \n",
              "2    [Publications\\n\\nReporting Framework Summary R...              None   \n",
              "3    [Publications\\n\\nReporting Framework Summary R...              None   \n",
              "4           [• Cos’è il disturbo bipolare dell’umore?]              None   \n",
              "..                                                 ...               ...   \n",
              "145  [6\\n\\ntargeting these communities. Equitable r...              None   \n",
              "146                                     [Or a Sunday.]              None   \n",
              "147                                     [Or a Sunday.]              None   \n",
              "148  [APA\\n\\nDetail\\n\\nCite\\n\\nCitation\\n\\nPrint\\n\\...              None   \n",
              "149  [APA\\n\\nDetail\\n\\nCite\\n\\nCitation\\n\\nPrint\\n\\...              None   \n",
              "\n",
              "     n_chunks_per_context  context_length       evolutions context_quality  \\\n",
              "0                       1             333     [In-Breadth]            None   \n",
              "1                       1             333   [Hypothetical]            None   \n",
              "2                       1             333     [In-Breadth]            None   \n",
              "3                       1             333   [Hypothetical]            None   \n",
              "4                       1              40     [In-Breadth]            None   \n",
              "..                    ...             ...              ...             ...   \n",
              "145                     1            4923   [Hypothetical]            None   \n",
              "146                     1              12  [Multi-context]            None   \n",
              "147                     1              12   [Hypothetical]            None   \n",
              "148                     1            1872     [In-Breadth]            None   \n",
              "149                     1            1872  [Multi-context]            None   \n",
              "\n",
              "     synthetic_input_quality source_file  \n",
              "0                        1.0        None  \n",
              "1                        1.0        None  \n",
              "2                        1.0        None  \n",
              "3                        1.0        None  \n",
              "4                        1.0        None  \n",
              "..                       ...         ...  \n",
              "145                      0.6        None  \n",
              "146                      0.6        None  \n",
              "147                      1.0        None  \n",
              "148                      1.0        None  \n",
              "149                      1.0        None  \n",
              "\n",
              "[150 rows x 11 columns]"
            ],
            "text/html": [
              "\n",
              "  <div id=\"df-f4f99f67-06bb-448c-b279-5c7f67d3f880\" class=\"colab-df-container\">\n",
              "    <div>\n",
              "<style scoped>\n",
              "    .dataframe tbody tr th:only-of-type {\n",
              "        vertical-align: middle;\n",
              "    }\n",
              "\n",
              "    .dataframe tbody tr th {\n",
              "        vertical-align: top;\n",
              "    }\n",
              "\n",
              "    .dataframe thead th {\n",
              "        text-align: right;\n",
              "    }\n",
              "</style>\n",
              "<table border=\"1\" class=\"dataframe\">\n",
              "  <thead>\n",
              "    <tr style=\"text-align: right;\">\n",
              "      <th></th>\n",
              "      <th>input</th>\n",
              "      <th>actual_output</th>\n",
              "      <th>expected_output</th>\n",
              "      <th>context</th>\n",
              "      <th>retrieval_context</th>\n",
              "      <th>n_chunks_per_context</th>\n",
              "      <th>context_length</th>\n",
              "      <th>evolutions</th>\n",
              "      <th>context_quality</th>\n",
              "      <th>synthetic_input_quality</th>\n",
              "      <th>source_file</th>\n",
              "    </tr>\n",
              "  </thead>\n",
              "  <tbody>\n",
              "    <tr>\n",
              "      <th>0</th>\n",
              "      <td>Identify the tags associated with the Reportin...</td>\n",
              "      <td>None</td>\n",
              "      <td>The tags associated with the Reporting Framewo...</td>\n",
              "      <td>[Publications\\n\\nReporting Framework Summary R...</td>\n",
              "      <td>None</td>\n",
              "      <td>1</td>\n",
              "      <td>333</td>\n",
              "      <td>[In-Breadth]</td>\n",
              "      <td>None</td>\n",
              "      <td>1.0</td>\n",
              "      <td>None</td>\n",
              "    </tr>\n",
              "    <tr>\n",
              "      <th>1</th>\n",
              "      <td>When was the last update on The Reporting Fram...</td>\n",
              "      <td>None</td>\n",
              "      <td>The last update on the Reporting Framework Sum...</td>\n",
              "      <td>[Publications\\n\\nReporting Framework Summary R...</td>\n",
              "      <td>None</td>\n",
              "      <td>1</td>\n",
              "      <td>333</td>\n",
              "      <td>[Hypothetical]</td>\n",
              "      <td>None</td>\n",
              "      <td>1.0</td>\n",
              "      <td>None</td>\n",
              "    </tr>\n",
              "    <tr>\n",
              "      <th>2</th>\n",
              "      <td>Identify the tags associated with the Reportin...</td>\n",
              "      <td>None</td>\n",
              "      <td>The tags associated with the Reporting Framewo...</td>\n",
              "      <td>[Publications\\n\\nReporting Framework Summary R...</td>\n",
              "      <td>None</td>\n",
              "      <td>1</td>\n",
              "      <td>333</td>\n",
              "      <td>[In-Breadth]</td>\n",
              "      <td>None</td>\n",
              "      <td>1.0</td>\n",
              "      <td>None</td>\n",
              "    </tr>\n",
              "    <tr>\n",
              "      <th>3</th>\n",
              "      <td>When was the last update on The Reporting Fram...</td>\n",
              "      <td>None</td>\n",
              "      <td>The last update on the Reporting Framework Sum...</td>\n",
              "      <td>[Publications\\n\\nReporting Framework Summary R...</td>\n",
              "      <td>None</td>\n",
              "      <td>1</td>\n",
              "      <td>333</td>\n",
              "      <td>[Hypothetical]</td>\n",
              "      <td>None</td>\n",
              "      <td>1.0</td>\n",
              "      <td>None</td>\n",
              "    </tr>\n",
              "    <tr>\n",
              "      <th>4</th>\n",
              "      <td>Examine the characteristics and symptoms of bi...</td>\n",
              "      <td>None</td>\n",
              "      <td>The bipolar mood disorder is a mental health c...</td>\n",
              "      <td>[• Cos’è il disturbo bipolare dell’umore?]</td>\n",
              "      <td>None</td>\n",
              "      <td>1</td>\n",
              "      <td>40</td>\n",
              "      <td>[In-Breadth]</td>\n",
              "      <td>None</td>\n",
              "      <td>1.0</td>\n",
              "      <td>None</td>\n",
              "    </tr>\n",
              "    <tr>\n",
              "      <th>...</th>\n",
              "      <td>...</td>\n",
              "      <td>...</td>\n",
              "      <td>...</td>\n",
              "      <td>...</td>\n",
              "      <td>...</td>\n",
              "      <td>...</td>\n",
              "      <td>...</td>\n",
              "      <td>...</td>\n",
              "      <td>...</td>\n",
              "      <td>...</td>\n",
              "      <td>...</td>\n",
              "    </tr>\n",
              "    <tr>\n",
              "      <th>145</th>\n",
              "      <td>How might MHV further enhance the Strategy thr...</td>\n",
              "      <td>None</td>\n",
              "      <td>MHV can further enhance the Strategy through e...</td>\n",
              "      <td>[6\\n\\ntargeting these communities. Equitable r...</td>\n",
              "      <td>None</td>\n",
              "      <td>1</td>\n",
              "      <td>4923</td>\n",
              "      <td>[Hypothetical]</td>\n",
              "      <td>None</td>\n",
              "      <td>0.6</td>\n",
              "      <td>None</td>\n",
              "    </tr>\n",
              "    <tr>\n",
              "      <th>146</th>\n",
              "      <td>On what day will the event be held to ensure m...</td>\n",
              "      <td>None</td>\n",
              "      <td>The event will be held on a Sunday, which is t...</td>\n",
              "      <td>[Or a Sunday.]</td>\n",
              "      <td>None</td>\n",
              "      <td>1</td>\n",
              "      <td>12</td>\n",
              "      <td>[Multi-context]</td>\n",
              "      <td>None</td>\n",
              "      <td>0.6</td>\n",
              "      <td>None</td>\n",
              "    </tr>\n",
              "    <tr>\n",
              "      <th>147</th>\n",
              "      <td>How would people's schedules and leisure activ...</td>\n",
              "      <td>None</td>\n",
              "      <td>People's schedules and leisure activities woul...</td>\n",
              "      <td>[Or a Sunday.]</td>\n",
              "      <td>None</td>\n",
              "      <td>1</td>\n",
              "      <td>12</td>\n",
              "      <td>[Hypothetical]</td>\n",
              "      <td>None</td>\n",
              "      <td>1.0</td>\n",
              "      <td>None</td>\n",
              "    </tr>\n",
              "    <tr>\n",
              "      <th>148</th>\n",
              "      <td>Explore the housing status of individuals usin...</td>\n",
              "      <td>None</td>\n",
              "      <td>The publication explores the housing circumsta...</td>\n",
              "      <td>[APA\\n\\nDetail\\n\\nCite\\n\\nCitation\\n\\nPrint\\n\\...</td>\n",
              "      <td>None</td>\n",
              "      <td>1</td>\n",
              "      <td>1872</td>\n",
              "      <td>[In-Breadth]</td>\n",
              "      <td>None</td>\n",
              "      <td>1.0</td>\n",
              "      <td>None</td>\n",
              "    </tr>\n",
              "    <tr>\n",
              "      <th>149</th>\n",
              "      <td>What are the impacts of housing circumstances ...</td>\n",
              "      <td>None</td>\n",
              "      <td>Housing circumstances can be an important dete...</td>\n",
              "      <td>[APA\\n\\nDetail\\n\\nCite\\n\\nCitation\\n\\nPrint\\n\\...</td>\n",
              "      <td>None</td>\n",
              "      <td>1</td>\n",
              "      <td>1872</td>\n",
              "      <td>[Multi-context]</td>\n",
              "      <td>None</td>\n",
              "      <td>1.0</td>\n",
              "      <td>None</td>\n",
              "    </tr>\n",
              "  </tbody>\n",
              "</table>\n",
              "<p>150 rows × 11 columns</p>\n",
              "</div>\n",
              "    <div class=\"colab-df-buttons\">\n",
              "\n",
              "  <div class=\"colab-df-container\">\n",
              "    <button class=\"colab-df-convert\" onclick=\"convertToInteractive('df-f4f99f67-06bb-448c-b279-5c7f67d3f880')\"\n",
              "            title=\"Convert this dataframe to an interactive table.\"\n",
              "            style=\"display:none;\">\n",
              "\n",
              "  <svg xmlns=\"http://www.w3.org/2000/svg\" height=\"24px\" viewBox=\"0 -960 960 960\">\n",
              "    <path d=\"M120-120v-720h720v720H120Zm60-500h600v-160H180v160Zm220 220h160v-160H400v160Zm0 220h160v-160H400v160ZM180-400h160v-160H180v160Zm440 0h160v-160H620v160ZM180-180h160v-160H180v160Zm440 0h160v-160H620v160Z\"/>\n",
              "  </svg>\n",
              "    </button>\n",
              "\n",
              "  <style>\n",
              "    .colab-df-container {\n",
              "      display:flex;\n",
              "      gap: 12px;\n",
              "    }\n",
              "\n",
              "    .colab-df-convert {\n",
              "      background-color: #E8F0FE;\n",
              "      border: none;\n",
              "      border-radius: 50%;\n",
              "      cursor: pointer;\n",
              "      display: none;\n",
              "      fill: #1967D2;\n",
              "      height: 32px;\n",
              "      padding: 0 0 0 0;\n",
              "      width: 32px;\n",
              "    }\n",
              "\n",
              "    .colab-df-convert:hover {\n",
              "      background-color: #E2EBFA;\n",
              "      box-shadow: 0px 1px 2px rgba(60, 64, 67, 0.3), 0px 1px 3px 1px rgba(60, 64, 67, 0.15);\n",
              "      fill: #174EA6;\n",
              "    }\n",
              "\n",
              "    .colab-df-buttons div {\n",
              "      margin-bottom: 4px;\n",
              "    }\n",
              "\n",
              "    [theme=dark] .colab-df-convert {\n",
              "      background-color: #3B4455;\n",
              "      fill: #D2E3FC;\n",
              "    }\n",
              "\n",
              "    [theme=dark] .colab-df-convert:hover {\n",
              "      background-color: #434B5C;\n",
              "      box-shadow: 0px 1px 3px 1px rgba(0, 0, 0, 0.15);\n",
              "      filter: drop-shadow(0px 1px 2px rgba(0, 0, 0, 0.3));\n",
              "      fill: #FFFFFF;\n",
              "    }\n",
              "  </style>\n",
              "\n",
              "    <script>\n",
              "      const buttonEl =\n",
              "        document.querySelector('#df-f4f99f67-06bb-448c-b279-5c7f67d3f880 button.colab-df-convert');\n",
              "      buttonEl.style.display =\n",
              "        google.colab.kernel.accessAllowed ? 'block' : 'none';\n",
              "\n",
              "      async function convertToInteractive(key) {\n",
              "        const element = document.querySelector('#df-f4f99f67-06bb-448c-b279-5c7f67d3f880');\n",
              "        const dataTable =\n",
              "          await google.colab.kernel.invokeFunction('convertToInteractive',\n",
              "                                                    [key], {});\n",
              "        if (!dataTable) return;\n",
              "\n",
              "        const docLinkHtml = 'Like what you see? Visit the ' +\n",
              "          '<a target=\"_blank\" href=https://colab.research.google.com/notebooks/data_table.ipynb>data table notebook</a>'\n",
              "          + ' to learn more about interactive tables.';\n",
              "        element.innerHTML = '';\n",
              "        dataTable['output_type'] = 'display_data';\n",
              "        await google.colab.output.renderOutput(dataTable, element);\n",
              "        const docLink = document.createElement('div');\n",
              "        docLink.innerHTML = docLinkHtml;\n",
              "        element.appendChild(docLink);\n",
              "      }\n",
              "    </script>\n",
              "  </div>\n",
              "\n",
              "\n",
              "    <div id=\"df-8d8dd6a5-f7da-46f7-b75b-14158216a4bf\">\n",
              "      <button class=\"colab-df-quickchart\" onclick=\"quickchart('df-8d8dd6a5-f7da-46f7-b75b-14158216a4bf')\"\n",
              "                title=\"Suggest charts\"\n",
              "                style=\"display:none;\">\n",
              "\n",
              "<svg xmlns=\"http://www.w3.org/2000/svg\" height=\"24px\"viewBox=\"0 0 24 24\"\n",
              "     width=\"24px\">\n",
              "    <g>\n",
              "        <path d=\"M19 3H5c-1.1 0-2 .9-2 2v14c0 1.1.9 2 2 2h14c1.1 0 2-.9 2-2V5c0-1.1-.9-2-2-2zM9 17H7v-7h2v7zm4 0h-2V7h2v10zm4 0h-2v-4h2v4z\"/>\n",
              "    </g>\n",
              "</svg>\n",
              "      </button>\n",
              "\n",
              "<style>\n",
              "  .colab-df-quickchart {\n",
              "      --bg-color: #E8F0FE;\n",
              "      --fill-color: #1967D2;\n",
              "      --hover-bg-color: #E2EBFA;\n",
              "      --hover-fill-color: #174EA6;\n",
              "      --disabled-fill-color: #AAA;\n",
              "      --disabled-bg-color: #DDD;\n",
              "  }\n",
              "\n",
              "  [theme=dark] .colab-df-quickchart {\n",
              "      --bg-color: #3B4455;\n",
              "      --fill-color: #D2E3FC;\n",
              "      --hover-bg-color: #434B5C;\n",
              "      --hover-fill-color: #FFFFFF;\n",
              "      --disabled-bg-color: #3B4455;\n",
              "      --disabled-fill-color: #666;\n",
              "  }\n",
              "\n",
              "  .colab-df-quickchart {\n",
              "    background-color: var(--bg-color);\n",
              "    border: none;\n",
              "    border-radius: 50%;\n",
              "    cursor: pointer;\n",
              "    display: none;\n",
              "    fill: var(--fill-color);\n",
              "    height: 32px;\n",
              "    padding: 0;\n",
              "    width: 32px;\n",
              "  }\n",
              "\n",
              "  .colab-df-quickchart:hover {\n",
              "    background-color: var(--hover-bg-color);\n",
              "    box-shadow: 0 1px 2px rgba(60, 64, 67, 0.3), 0 1px 3px 1px rgba(60, 64, 67, 0.15);\n",
              "    fill: var(--button-hover-fill-color);\n",
              "  }\n",
              "\n",
              "  .colab-df-quickchart-complete:disabled,\n",
              "  .colab-df-quickchart-complete:disabled:hover {\n",
              "    background-color: var(--disabled-bg-color);\n",
              "    fill: var(--disabled-fill-color);\n",
              "    box-shadow: none;\n",
              "  }\n",
              "\n",
              "  .colab-df-spinner {\n",
              "    border: 2px solid var(--fill-color);\n",
              "    border-color: transparent;\n",
              "    border-bottom-color: var(--fill-color);\n",
              "    animation:\n",
              "      spin 1s steps(1) infinite;\n",
              "  }\n",
              "\n",
              "  @keyframes spin {\n",
              "    0% {\n",
              "      border-color: transparent;\n",
              "      border-bottom-color: var(--fill-color);\n",
              "      border-left-color: var(--fill-color);\n",
              "    }\n",
              "    20% {\n",
              "      border-color: transparent;\n",
              "      border-left-color: var(--fill-color);\n",
              "      border-top-color: var(--fill-color);\n",
              "    }\n",
              "    30% {\n",
              "      border-color: transparent;\n",
              "      border-left-color: var(--fill-color);\n",
              "      border-top-color: var(--fill-color);\n",
              "      border-right-color: var(--fill-color);\n",
              "    }\n",
              "    40% {\n",
              "      border-color: transparent;\n",
              "      border-right-color: var(--fill-color);\n",
              "      border-top-color: var(--fill-color);\n",
              "    }\n",
              "    60% {\n",
              "      border-color: transparent;\n",
              "      border-right-color: var(--fill-color);\n",
              "    }\n",
              "    80% {\n",
              "      border-color: transparent;\n",
              "      border-right-color: var(--fill-color);\n",
              "      border-bottom-color: var(--fill-color);\n",
              "    }\n",
              "    90% {\n",
              "      border-color: transparent;\n",
              "      border-bottom-color: var(--fill-color);\n",
              "    }\n",
              "  }\n",
              "</style>\n",
              "\n",
              "      <script>\n",
              "        async function quickchart(key) {\n",
              "          const quickchartButtonEl =\n",
              "            document.querySelector('#' + key + ' button');\n",
              "          quickchartButtonEl.disabled = true;  // To prevent multiple clicks.\n",
              "          quickchartButtonEl.classList.add('colab-df-spinner');\n",
              "          try {\n",
              "            const charts = await google.colab.kernel.invokeFunction(\n",
              "                'suggestCharts', [key], {});\n",
              "          } catch (error) {\n",
              "            console.error('Error during call to suggestCharts:', error);\n",
              "          }\n",
              "          quickchartButtonEl.classList.remove('colab-df-spinner');\n",
              "          quickchartButtonEl.classList.add('colab-df-quickchart-complete');\n",
              "        }\n",
              "        (() => {\n",
              "          let quickchartButtonEl =\n",
              "            document.querySelector('#df-8d8dd6a5-f7da-46f7-b75b-14158216a4bf button');\n",
              "          quickchartButtonEl.style.display =\n",
              "            google.colab.kernel.accessAllowed ? 'block' : 'none';\n",
              "        })();\n",
              "      </script>\n",
              "    </div>\n",
              "\n",
              "  <div id=\"id_9e254cfb-bb58-45cd-a93e-756e7e1e9d26\">\n",
              "    <style>\n",
              "      .colab-df-generate {\n",
              "        background-color: #E8F0FE;\n",
              "        border: none;\n",
              "        border-radius: 50%;\n",
              "        cursor: pointer;\n",
              "        display: none;\n",
              "        fill: #1967D2;\n",
              "        height: 32px;\n",
              "        padding: 0 0 0 0;\n",
              "        width: 32px;\n",
              "      }\n",
              "\n",
              "      .colab-df-generate:hover {\n",
              "        background-color: #E2EBFA;\n",
              "        box-shadow: 0px 1px 2px rgba(60, 64, 67, 0.3), 0px 1px 3px 1px rgba(60, 64, 67, 0.15);\n",
              "        fill: #174EA6;\n",
              "      }\n",
              "\n",
              "      [theme=dark] .colab-df-generate {\n",
              "        background-color: #3B4455;\n",
              "        fill: #D2E3FC;\n",
              "      }\n",
              "\n",
              "      [theme=dark] .colab-df-generate:hover {\n",
              "        background-color: #434B5C;\n",
              "        box-shadow: 0px 1px 3px 1px rgba(0, 0, 0, 0.15);\n",
              "        filter: drop-shadow(0px 1px 2px rgba(0, 0, 0, 0.3));\n",
              "        fill: #FFFFFF;\n",
              "      }\n",
              "    </style>\n",
              "    <button class=\"colab-df-generate\" onclick=\"generateWithVariable('synth_df')\"\n",
              "            title=\"Generate code using this dataframe.\"\n",
              "            style=\"display:none;\">\n",
              "\n",
              "  <svg xmlns=\"http://www.w3.org/2000/svg\" height=\"24px\"viewBox=\"0 0 24 24\"\n",
              "       width=\"24px\">\n",
              "    <path d=\"M7,19H8.4L18.45,9,17,7.55,7,17.6ZM5,21V16.75L18.45,3.32a2,2,0,0,1,2.83,0l1.4,1.43a1.91,1.91,0,0,1,.58,1.4,1.91,1.91,0,0,1-.58,1.4L9.25,21ZM18.45,9,17,7.55Zm-12,3A5.31,5.31,0,0,0,4.9,8.1,5.31,5.31,0,0,0,1,6.5,5.31,5.31,0,0,0,4.9,4.9,5.31,5.31,0,0,0,6.5,1,5.31,5.31,0,0,0,8.1,4.9,5.31,5.31,0,0,0,12,6.5,5.46,5.46,0,0,0,6.5,12Z\"/>\n",
              "  </svg>\n",
              "    </button>\n",
              "    <script>\n",
              "      (() => {\n",
              "      const buttonEl =\n",
              "        document.querySelector('#id_9e254cfb-bb58-45cd-a93e-756e7e1e9d26 button.colab-df-generate');\n",
              "      buttonEl.style.display =\n",
              "        google.colab.kernel.accessAllowed ? 'block' : 'none';\n",
              "\n",
              "      buttonEl.onclick = () => {\n",
              "        google.colab.notebook.generateWithVariable('synth_df');\n",
              "      }\n",
              "      })();\n",
              "    </script>\n",
              "  </div>\n",
              "\n",
              "    </div>\n",
              "  </div>\n"
            ],
            "application/vnd.google.colaboratory.intrinsic+json": {
              "type": "dataframe",
              "variable_name": "synth_df",
              "repr_error": "Out of range float values are not JSON compliant: nan"
            }
          },
          "metadata": {},
          "execution_count": 34
        }
      ]
    },
    {
      "cell_type": "markdown",
      "source": [
        "# Evaluation"
      ],
      "metadata": {
        "id": "UFV2-pcWMG_H"
      }
    },
    {
      "cell_type": "code",
      "source": [
        "synthesizer.synthetic_goldens[0].input"
      ],
      "metadata": {
        "colab": {
          "base_uri": "https://localhost:8080/",
          "height": 36
        },
        "id": "Ap_xgJYHNHF4",
        "outputId": "8460cad7-37fe-477c-f2e1-5bfe5c09de6f"
      },
      "execution_count": 27,
      "outputs": [
        {
          "output_type": "execute_result",
          "data": {
            "text/plain": [
              "'Identify the tags associated with the Reporting Framework Summary Report - Adelaide.'"
            ],
            "application/vnd.google.colaboratory.intrinsic+json": {
              "type": "string"
            }
          },
          "metadata": {},
          "execution_count": 27
        }
      ]
    },
    {
      "cell_type": "code",
      "source": [
        "synthesizer.synthetic_goldens[0]"
      ],
      "metadata": {
        "id": "iElCb1Q_QySE",
        "outputId": "d6cdafaa-3ae2-4cec-a956-6eb7204b5635",
        "colab": {
          "base_uri": "https://localhost:8080/"
        }
      },
      "execution_count": 28,
      "outputs": [
        {
          "output_type": "execute_result",
          "data": {
            "text/plain": [
              "Golden(input='Identify the tags associated with the Reporting Framework Summary Report - Adelaide.', actual_output=None, expected_output='The tags associated with the Reporting Framework Summary Report - Adelaide are \"Suicide prevention.\"', context=['Publications\\n\\nReporting Framework Summary Report - Adelaide\\n\\nScroll down to access downloads and media. Download [Publication] Reporting Framework Summary Report - Adelaide (PDF) as PDF - 853.52 KB - 2 pages\\n\\nPublication type:\\n\\nFact Sheet\\n\\nPublication date:\\n\\n7 November 2017\\n\\nLast updated:\\n\\n31 October 2019\\n\\nTags:\\n\\nSuicide prevention'], retrieval_context=None, additional_metadata={'evolutions': ['In-Breadth'], 'synthetic_input_quality': 1.0}, comments=None, tools_called=None, expected_tools=None, source_file=None, name=None, custom_column_key_values=None)"
            ]
          },
          "metadata": {},
          "execution_count": 28
        }
      ]
    },
    {
      "cell_type": "code",
      "source": [
        "\n",
        "# Prepare evaluation metrics\n",
        "metrics_lst = [\n",
        "    AnswerRelevancyMetric(threshold=0.7),\n",
        "    # FaithfulnessMetric(threshold=0.7)\n",
        "]\n",
        "\n",
        "# Create test cases from goldens\n",
        "test_case = []\n",
        "for golden in synthesizer.synthetic_goldens:\n",
        "    res = llm.invoke(golden.input).content\n",
        "    test_case = LLMTestCase(input=golden.input, actual_output=res, expected_output=golden.expected_output)\n",
        "    # print(test_case)\n",
        "    test_cases.append(test_case)\n",
        "    # evaluate(test_cases=[test_case], metrics=metrics_lst)\n",
        "\n",
        "\n",
        "\n",
        "# # Evaluate end-to-end\n",
        "# # evaluate(test_cases=test_cases, metrics=[AnswerRelevancyMetric()])\n",
        "\n"
      ],
      "metadata": {
        "id": "nC2ofmjLPBXi",
        "collapsed": true
      },
      "execution_count": 43,
      "outputs": []
    },
    {
      "cell_type": "code",
      "source": [
        "clean_test_case_lst = []\n",
        "for test_case in test_cases:\n",
        "  if isinstance(test_case, LLMTestCase):\n",
        "    clean_test_case_lst.append(test_case)\n"
      ],
      "metadata": {
        "id": "WzfcN8W9QxsW"
      },
      "execution_count": 44,
      "outputs": []
    },
    {
      "cell_type": "code",
      "source": [
        "print(len(test_cases))\n",
        "print(len(clean_test_case_lst))"
      ],
      "metadata": {
        "colab": {
          "base_uri": "https://localhost:8080/"
        },
        "id": "B7X8yyKDRP-7",
        "outputId": "bf20cac8-fd11-4d8a-d95d-1bd86160c263"
      },
      "execution_count": 46,
      "outputs": [
        {
          "output_type": "stream",
          "name": "stdout",
          "text": [
            "230\n",
            "210\n"
          ]
        }
      ]
    },
    {
      "cell_type": "code",
      "source": [
        "random_test_case_lst = random.sample(clean_test_case_lst, 30)\n",
        "all_results = []\n",
        "batch_size = 5 # Adjust this number to control concurrency\n",
        "\n",
        "\n",
        "metrics_lst = [\n",
        "    AnswerRelevancyMetric(threshold=0.7, verbose_mode=False), # Set verbose_mode to False\n",
        "    # FaithfulnessMetric(threshold=0.7, verbose_mode=False) # Do the same for other metrics\n",
        "]\n",
        "\n",
        "for i in range(0, len(random_test_case_lst), batch_size):\n",
        "    batch = random_test_case_lst[i:i + batch_size]\n",
        "    print(f\"Evaluating batch {i // batch_size + 1}...\")\n",
        "    results = evaluate(test_cases=batch, metrics=metrics_lst)\n",
        "\n",
        "    all_results.extend(results)\n",
        "\n",
        "print(\"Evaluation complete for all batches.\")"
      ],
      "metadata": {
        "id": "t6hfFyN5Tbvv",
        "outputId": "803f1358-b8d7-4429-f4b1-90ef10927799",
        "colab": {
          "base_uri": "https://localhost:8080/",
          "height": 1000,
          "referenced_widgets": [
            "c80c42fbc91d4b90bca7c7c4357224ca",
            "9fc9f7cbbf8e407da23863d8522584cf",
            "38e735f886164faeb9379c6b1a6dda52",
            "edac998697014e0fb8ada76589e9ec98",
            "2606f7cd23474d56bdcd609d1a9f6f2a",
            "b6cbdef4aa87468faa90232e4c28f5b8",
            "f57295c438614f24b1588f583da3f417",
            "a3d19c67f69545979f32aeddc27c8a6a",
            "863b7952f9c54ee883139314fb4a015c",
            "24883f0c784a4498a3876638abd5dd4e",
            "e0476f692dfa4fc7a09e83ff787e6e4d",
            "6a12678f13684e3f9d440d8a98f673e7"
          ]
        }
      },
      "execution_count": 50,
      "outputs": [
        {
          "output_type": "stream",
          "name": "stdout",
          "text": [
            "Evaluating batch 1...\n"
          ]
        },
        {
          "output_type": "display_data",
          "data": {
            "text/plain": [
              "✨ You're running DeepEval's latest \u001b[38;2;106;0;255mAnswer Relevancy Metric\u001b[0m! \u001b[1;38;2;55;65;81m(\u001b[0m\u001b[38;2;55;65;81musing gpt-\u001b[0m\u001b[1;38;2;55;65;81m4.1\u001b[0m\u001b[38;2;55;65;81m, \u001b[0m\u001b[38;2;55;65;81mstrict\u001b[0m\u001b[38;2;55;65;81m=\u001b[0m\u001b[3;38;2;55;65;81mFalse\u001b[0m\u001b[38;2;55;65;81m, \u001b[0m\u001b[38;2;55;65;81masync_mode\u001b[0m\u001b[38;2;55;65;81m=\u001b[0m\u001b[3;38;2;55;65;81mTrue\u001b[0m\u001b[1;38;2;55;65;81m)\u001b[0m\u001b[38;2;55;65;81m...\u001b[0m\n"
            ],
            "text/html": [
              "<pre style=\"white-space:pre;overflow-x:auto;line-height:normal;font-family:Menlo,'DejaVu Sans Mono',consolas,'Courier New',monospace\">✨ You're running DeepEval's latest <span style=\"color: #6a00ff; text-decoration-color: #6a00ff\">Answer Relevancy Metric</span>! <span style=\"color: #374151; text-decoration-color: #374151; font-weight: bold\">(</span><span style=\"color: #374151; text-decoration-color: #374151\">using gpt-</span><span style=\"color: #374151; text-decoration-color: #374151; font-weight: bold\">4.1</span><span style=\"color: #374151; text-decoration-color: #374151\">, </span><span style=\"color: #374151; text-decoration-color: #374151\">strict</span><span style=\"color: #374151; text-decoration-color: #374151\">=</span><span style=\"color: #374151; text-decoration-color: #374151; font-style: italic\">False</span><span style=\"color: #374151; text-decoration-color: #374151\">, </span><span style=\"color: #374151; text-decoration-color: #374151\">async_mode</span><span style=\"color: #374151; text-decoration-color: #374151\">=</span><span style=\"color: #374151; text-decoration-color: #374151; font-style: italic\">True</span><span style=\"color: #374151; text-decoration-color: #374151; font-weight: bold\">)</span><span style=\"color: #374151; text-decoration-color: #374151\">...</span>\n",
              "</pre>\n"
            ]
          },
          "metadata": {}
        },
        {
          "output_type": "display_data",
          "data": {
            "text/plain": [
              "Output()"
            ],
            "application/vnd.jupyter.widget-view+json": {
              "version_major": 2,
              "version_minor": 0,
              "model_id": "c80c42fbc91d4b90bca7c7c4357224ca"
            }
          },
          "metadata": {}
        },
        {
          "output_type": "display_data",
          "data": {
            "text/plain": [],
            "text/html": [
              "<pre style=\"white-space:pre;overflow-x:auto;line-height:normal;font-family:Menlo,'DejaVu Sans Mono',consolas,'Courier New',monospace\"></pre>\n"
            ]
          },
          "metadata": {}
        },
        {
          "output_type": "stream",
          "name": "stdout",
          "text": [
            "\n",
            "======================================================================\n",
            "\n",
            "Metrics Summary\n",
            "\n",
            "  - ✅ Answer Relevancy (score: 1.0, threshold: 0.7, strict: False, evaluation model: gpt-4.1, reason: The score is 1.00 because the answer was fully relevant and addressed the input directly without any irrelevant statements. Great job staying focused and concise!, error: None)\n",
            "\n",
            "For test case:\n",
            "\n",
            "  - input: When was the last update on The Reporting Framework Summary Report - Adelaide?\n",
            "  - actual output: I'm sorry, but I don't have access to the specific information about the last update on The Reporting Framework Summary Report - Adelaide. You may need to check the official website or contact the relevant organization for the most recent update.\n",
            "  - expected output: The last update on the Reporting Framework Summary Report - Adelaide was on October 31, 2019.\n",
            "  - context: None\n",
            "  - retrieval context: None\n",
            "\n",
            "======================================================================\n",
            "\n",
            "Overall Metric Pass Rates\n",
            "\n",
            "Answer Relevancy: 100.00% pass rate\n",
            "\n",
            "======================================================================\n",
            "\n",
            "\n",
            "======================================================================\n",
            "\n",
            "Metrics Summary\n",
            "\n",
            "  - ✅ Answer Relevancy (score: 1.0, threshold: 0.7, strict: False, evaluation model: gpt-4.1, reason: The score is 1.00 because the answer was fully relevant, directly addressing the question without any irrelevant statements. Great job staying focused and on-topic!, error: None)\n",
            "\n",
            "For test case:\n",
            "\n",
            "  - input: How might MHV further enhance the Strategy through evidence-based evaluation and transparent program results?\n",
            "  - actual output: 1. Conducting regular evaluations: MHV can enhance its strategy by conducting regular evaluations of its programs and initiatives to assess their effectiveness and impact. This can be done through the use of evidence-based evaluation methods such as randomized controlled trials, quasi-experimental designs, and longitudinal studies.\n",
            "\n",
            "2. Using data-driven decision making: MHV can use evidence-based evaluation to inform its decision making processes. By collecting and analyzing data on program outcomes and participant experiences, MHV can make informed decisions about which programs to continue, expand, or modify.\n",
            "\n",
            "3. Sharing transparent program results: MHjson can enhance its strategy by being transparent about its program results and sharing them with stakeholders, funders, and the public. This can help build trust and credibility, and demonstrate the impact of MHV's programs.\n",
            "\n",
            "4. Incorporating feedback from stakeholders: MHV can use evidence-based evaluation to gather feedback from program participants, staff, and other stakeholders. This feedback can be used to improve programs and ensure they are meeting the needs of the community.\n",
            "\n",
            "5. Using evidence to advocate for change: MHV can use evidence-based evaluation to advocate for policy changes and funding support. By demonstrating the impact of its programs through data and evidence, MHV can make a stronger case for the importance of its work and the need for continued support.\n",
            "  - expected output: MHV can further enhance the Strategy through evidence-based evaluation and transparent program results by developing a culture of continuous improvement and innovation, coordination of data collection, and identification of data gaps. This will ensure that the system meets the needs of all communities and provides effective and sustainable mental health support for children and families.\n",
            "  - context: None\n",
            "  - retrieval context: None\n",
            "\n",
            "======================================================================\n",
            "\n",
            "Overall Metric Pass Rates\n",
            "\n",
            "Answer Relevancy: 100.00% pass rate\n",
            "\n",
            "======================================================================\n",
            "\n",
            "\n",
            "======================================================================\n",
            "\n",
            "Metrics Summary\n",
            "\n",
            "  - ✅ Answer Relevancy (score: 1.0, threshold: 0.7, strict: False, evaluation model: gpt-4.1, reason: The score is 1.00 because the answer was fully relevant and addressed the question directly without including any irrelevant information. Great job staying focused and informative!, error: None)\n",
            "\n",
            "For test case:\n",
            "\n",
            "  - input: What are some key differences in behavior to watch for in teenagers considering suicide?\n",
            "  - actual output: 1. Withdrawal from friends and family: Teens who are considering suicide may isolate themselves from their usual social circles and spend more time alone.\n",
            "\n",
            "2. Changes in mood: Teens may exhibit sudden and extreme changes in mood, such as becoming more irritable, angry, or sad.\n",
            "\n",
            "3. Risky behavior: Engaging in risky behaviors such as substance abuse, reckless driving, or unsafe sexual activity can be a sign that a teenager is struggling with suicidal thoughts.\n",
            "\n",
            "4. Talking about death or suicide: Teens may make comments or jokes about death, dying, or suicide, or express feelings of hopelessness and worthlessness.\n",
            "\n",
            "5. Changes in sleep and eating patterns: Significant changes in sleep and eating habits, such as insomnia or excessive sleeping, loss of appetite or overeating, can be indicators of suicidal thoughts.\n",
            "\n",
            "6. Giving away possessions: Teens who are considering suicide may give away their belongings or express a lack of concern for their future plans.\n",
            "\n",
            "7. Self-harm: Engaging in self-harming behaviors, such as cutting or burning oneself, can be a warning sign of suicidal thoughts.\n",
            "\n",
            "It's important to note that these behaviors are not definitive indicators of suicidal thoughts, but they can be warning signs that a teenager may be struggling and in need of support. If you are concerned about a teenager's mental health, it's important to seek help from a mental health professional or trusted adult.\n",
            "  - expected output: Some key differences in behavior to watch for in teenagers considering suicide include acting out of character, showing dramatic changes in mood, and a previous history of attempted suicide or suicidal thoughts.\n",
            "  - context: None\n",
            "  - retrieval context: None\n",
            "\n",
            "======================================================================\n",
            "\n",
            "Overall Metric Pass Rates\n",
            "\n",
            "Answer Relevancy: 100.00% pass rate\n",
            "\n",
            "======================================================================\n",
            "\n",
            "\n",
            "======================================================================\n",
            "\n",
            "Metrics Summary\n",
            "\n",
            "  - ✅ Answer Relevancy (score: 1.0, threshold: 0.7, strict: False, evaluation model: gpt-4.1, reason: The score is 1.00 because the answer was fully relevant and addressed the input directly without any irrelevant statements. Great job staying focused and on-topic!, error: None)\n",
            "\n",
            "For test case:\n",
            "\n",
            "  - input: What if gatekeepers were no longer included in the organization's comprehensive training and education programs? How might this impact the effectiveness of the programs?\n",
            "  - actual output: If gatekeepers were no longer included in the organization's comprehensive training and education programs, it could have several negative impacts on the effectiveness of the programs. \n",
            "\n",
            "Firstly, gatekeepers play a crucial role in providing access to resources, information, and opportunities within the organization. Without their involvement in the training and education programs, employees may not have the necessary support and guidance to fully engage with the material and apply it to their work.\n",
            "\n",
            "Additionally, gatekeepers often have valuable insights and perspectives on the organization's culture, dynamics, and challenges. Their input and involvement in the training programs can help tailor the content to better address the specific needs and issues within the organization.\n",
            "\n",
            "Furthermore, gatekeepers can serve as advocates and champions for the training and education programs, helping to promote participation and buy-in from other employees. Without their involvement, there may be less enthusiasm and support for the programs, leading to lower engagement and impact.\n",
            "\n",
            "Overall, the exclusion of gatekeepers from the organization's comprehensive training and education programs could result in reduced effectiveness, limited access to resources and support, and a lack of alignment with the organization's specific needs and dynamics.\n",
            "  - expected output: The exclusion of gatekeepers from the organization's comprehensive training programs may lead to a lack of awareness and knowledge about important aspects of their role, impacting the overall effectiveness of the programs.\n",
            "  - context: None\n",
            "  - retrieval context: None\n",
            "\n",
            "======================================================================\n",
            "\n",
            "Overall Metric Pass Rates\n",
            "\n",
            "Answer Relevancy: 100.00% pass rate\n",
            "\n",
            "======================================================================\n",
            "\n",
            "\n",
            "======================================================================\n",
            "\n",
            "Metrics Summary\n",
            "\n",
            "  - ✅ Answer Relevancy (score: 1.0, threshold: 0.7, strict: False, evaluation model: gpt-4.1, reason: The score is 1.00 because the answer was fully relevant and addressed the input directly without including any irrelevant information. Great job staying focused and on-topic!, error: None)\n",
            "\n",
            "For test case:\n",
            "\n",
            "  - input: What if gatekeepers were no longer included in the organization's comprehensive training and education programs? How might this impact the effectiveness of the programs?\n",
            "  - actual output: If gatekeepers were no longer included in the organization's comprehensive training and education programs, it could have several negative impacts on the effectiveness of the programs. \n",
            "\n",
            "Firstly, gatekeepers play a crucial role in providing access to resources, information, and opportunities within the organization. Without their involvement in the training and education programs, employees may not have the necessary support and guidance to fully engage with the material and apply it to their work.\n",
            "\n",
            "Additionally, gatekeepers often have valuable insights and perspectives on the organization's culture, dynamics, and challenges. Their input and feedback can help tailor the training and education programs to better meet the needs of the employees and address specific issues within the organization.\n",
            "\n",
            "Furthermore, gatekeepers can serve as advocates for the programs, helping to promote participation and engagement among their peers. Without their involvement, the programs may struggle to gain traction and support from the wider employee base.\n",
            "\n",
            "Overall, the exclusion of gatekeepers from the organization's comprehensive training and education programs could lead to reduced effectiveness, limited access to resources and support, and a lack of alignment with the organization's specific needs and challenges. It is important to recognize the valuable role that gatekeepers play and involve them in the development and implementation of training and education initiatives.\n",
            "  - expected output: The exclusion of gatekeepers from the organization's comprehensive training programs may lead to a lack of awareness and knowledge about important aspects of their role, impacting the overall effectiveness of the programs.\n",
            "  - context: None\n",
            "  - retrieval context: None\n",
            "\n",
            "======================================================================\n",
            "\n",
            "Overall Metric Pass Rates\n",
            "\n",
            "Answer Relevancy: 100.00% pass rate\n",
            "\n",
            "======================================================================\n",
            "\n"
          ]
        },
        {
          "output_type": "display_data",
          "data": {
            "text/plain": [
              "\n",
              "\u001b[38;2;5;245;141m✓\u001b[0m Tests finished 🎉! Run \u001b[1;32m'deepeval view'\u001b[0m to analyze, debug, and save evaluation results on \u001b[38;2;106;0;255mConfident AI\u001b[0m.\n",
              "\n"
            ],
            "text/html": [
              "<pre style=\"white-space:pre;overflow-x:auto;line-height:normal;font-family:Menlo,'DejaVu Sans Mono',consolas,'Courier New',monospace\">\n",
              "<span style=\"color: #05f58d; text-decoration-color: #05f58d\">✓</span> Tests finished 🎉! Run <span style=\"color: #008000; text-decoration-color: #008000; font-weight: bold\">'deepeval view'</span> to analyze, debug, and save evaluation results on <span style=\"color: #6a00ff; text-decoration-color: #6a00ff\">Confident AI</span>.\n",
              "\n",
              "</pre>\n"
            ]
          },
          "metadata": {}
        },
        {
          "output_type": "stream",
          "name": "stdout",
          "text": [
            "Evaluating batch 2...\n"
          ]
        },
        {
          "output_type": "display_data",
          "data": {
            "text/plain": [
              "✨ You're running DeepEval's latest \u001b[38;2;106;0;255mAnswer Relevancy Metric\u001b[0m! \u001b[1;38;2;55;65;81m(\u001b[0m\u001b[38;2;55;65;81musing gpt-\u001b[0m\u001b[1;38;2;55;65;81m4.1\u001b[0m\u001b[38;2;55;65;81m, \u001b[0m\u001b[38;2;55;65;81mstrict\u001b[0m\u001b[38;2;55;65;81m=\u001b[0m\u001b[3;38;2;55;65;81mFalse\u001b[0m\u001b[38;2;55;65;81m, \u001b[0m\u001b[38;2;55;65;81masync_mode\u001b[0m\u001b[38;2;55;65;81m=\u001b[0m\u001b[3;38;2;55;65;81mTrue\u001b[0m\u001b[1;38;2;55;65;81m)\u001b[0m\u001b[38;2;55;65;81m...\u001b[0m\n"
            ],
            "text/html": [
              "<pre style=\"white-space:pre;overflow-x:auto;line-height:normal;font-family:Menlo,'DejaVu Sans Mono',consolas,'Courier New',monospace\">✨ You're running DeepEval's latest <span style=\"color: #6a00ff; text-decoration-color: #6a00ff\">Answer Relevancy Metric</span>! <span style=\"color: #374151; text-decoration-color: #374151; font-weight: bold\">(</span><span style=\"color: #374151; text-decoration-color: #374151\">using gpt-</span><span style=\"color: #374151; text-decoration-color: #374151; font-weight: bold\">4.1</span><span style=\"color: #374151; text-decoration-color: #374151\">, </span><span style=\"color: #374151; text-decoration-color: #374151\">strict</span><span style=\"color: #374151; text-decoration-color: #374151\">=</span><span style=\"color: #374151; text-decoration-color: #374151; font-style: italic\">False</span><span style=\"color: #374151; text-decoration-color: #374151\">, </span><span style=\"color: #374151; text-decoration-color: #374151\">async_mode</span><span style=\"color: #374151; text-decoration-color: #374151\">=</span><span style=\"color: #374151; text-decoration-color: #374151; font-style: italic\">True</span><span style=\"color: #374151; text-decoration-color: #374151; font-weight: bold\">)</span><span style=\"color: #374151; text-decoration-color: #374151\">...</span>\n",
              "</pre>\n"
            ]
          },
          "metadata": {}
        },
        {
          "output_type": "display_data",
          "data": {
            "text/plain": [
              "Output()"
            ],
            "application/vnd.jupyter.widget-view+json": {
              "version_major": 2,
              "version_minor": 0,
              "model_id": "38e735f886164faeb9379c6b1a6dda52"
            }
          },
          "metadata": {}
        },
        {
          "output_type": "display_data",
          "data": {
            "text/plain": [],
            "text/html": [
              "<pre style=\"white-space:pre;overflow-x:auto;line-height:normal;font-family:Menlo,'DejaVu Sans Mono',consolas,'Courier New',monospace\"></pre>\n"
            ]
          },
          "metadata": {}
        },
        {
          "output_type": "stream",
          "name": "stdout",
          "text": [
            "\n",
            "======================================================================\n",
            "\n",
            "Metrics Summary\n",
            "\n",
            "  - ✅ Answer Relevancy (score: 1.0, threshold: 0.7, strict: False, evaluation model: gpt-4.1, reason: The score is 1.00 because the answer was fully relevant and addressed the input directly without including any irrelevant information. Great job staying focused and on-topic!, error: None)\n",
            "\n",
            "For test case:\n",
            "\n",
            "  - input: How would people's schedules and leisure activities change if Saturdays did not exist?\n",
            "  - actual output: If Saturdays did not exist, people's schedules and leisure activities would likely shift to accommodate the loss of a weekend day. \n",
            "\n",
            "- Work schedules may be adjusted to include an additional day off during the week, such as a mid-week break. This could potentially lead to a more balanced work-life schedule for some individuals.\n",
            "\n",
            "- Leisure activities that are typically reserved for Saturdays, such as weekend getaways, outdoor adventures, and social gatherings, may be rescheduled to other days of the week. This could lead to a more spread out distribution of leisure activities throughout the week.\n",
            "\n",
            "- Some people may find it challenging to adjust to the absence of a traditional weekend day, and may need to find new ways to relax and unwind during the week.\n",
            "\n",
            "- Businesses and organizations that rely on weekend traffic may need to rethink their operating hours and marketing strategies to attract customers on different days of the week.\n",
            "\n",
            "Overall, the absence of Saturdays would likely require a significant adjustment in people's schedules and leisure activities, but it could also lead to a more flexible and balanced approach to work and leisure.\n",
            "  - expected output: People's schedules and leisure activities would likely shift to Friday and Sunday. It would also impact businesses and events that primarily operate on Saturdays.\n",
            "  - context: None\n",
            "  - retrieval context: None\n",
            "\n",
            "======================================================================\n",
            "\n",
            "Overall Metric Pass Rates\n",
            "\n",
            "Answer Relevancy: 100.00% pass rate\n",
            "\n",
            "======================================================================\n",
            "\n",
            "\n",
            "======================================================================\n",
            "\n",
            "Metrics Summary\n",
            "\n",
            "  - ✅ Answer Relevancy (score: 1.0, threshold: 0.7, strict: False, evaluation model: gpt-4.1, reason: The score is 1.00 because the answer was fully relevant and addressed the question directly without any irrelevant information. Great job staying focused and concise!, error: None)\n",
            "\n",
            "For test case:\n",
            "\n",
            "  - input: What issues did Isabel raise about her treatment during the recent mental health inpatient admission?\n",
            "  - actual output: Isabel raised several issues about her treatment during the recent mental health inpatient admission, including:\n",
            "\n",
            "1. Lack of personalized care: Isabel felt that her treatment was not tailored to her specific needs and that the staff did not take the time to understand her individual struggles and concerns.\n",
            "\n",
            "2. Inadequate therapy and support: Isabel expressed dissatisfaction with the therapy and support she received during her admission, feeling that it was not sufficient to address her mental health issues.\n",
            "\n",
            "3. Medication management: Isabel raised concerns about the management of her medication, feeling that it was not properly monitored and adjusted to suit her needs.\n",
            "\n",
            "4. Communication with staff: Isabel felt that there was a lack of effective communication with the staff, leading to misunderstandings and a sense of being unheard.\n",
            "\n",
            "5. Lack of autonomy and choice: Isabel felt that she had little control over her treatment and that her preferences and choices were not taken into consideration.\n",
            "\n",
            "Overall, Isabel felt that her treatment during the recent mental health inpatient admission was not meeting her needs and was not conducive to her recovery.\n",
            "  - expected output: Isabel raised issues about excessive treatment, lack of proper explanation for medication, and staff not always using an interpreter in her preferred language during her recent mental health inpatient admission.\n",
            "  - context: None\n",
            "  - retrieval context: None\n",
            "\n",
            "======================================================================\n",
            "\n",
            "Overall Metric Pass Rates\n",
            "\n",
            "Answer Relevancy: 100.00% pass rate\n",
            "\n",
            "======================================================================\n",
            "\n",
            "\n",
            "======================================================================\n",
            "\n",
            "Metrics Summary\n",
            "\n",
            "  - ✅ Answer Relevancy (score: 1.0, threshold: 0.7, strict: False, evaluation model: gpt-4.1, reason: The score is 1.00 because the response was fully relevant, directly addressing the housing status of individuals using mental health services and medications, and its impact on health and wellbeing. Great job staying focused and on-topic!, error: None)\n",
            "\n",
            "For test case:\n",
            "\n",
            "  - input: Explore the housing status of individuals using mental health-related services and prescription medications to understand its impact on their health and wellbeing.\n",
            "  - actual output: Individuals using mental health-related services and prescription medications may have a variety of housing statuses, including stable housing, unstable housing, homelessness, or institutionalized living situations. Each of these housing statuses can have a significant impact on their health and wellbeing.\n",
            "\n",
            "Stable housing can provide individuals with a sense of security and stability, which is crucial for managing mental health conditions and adhering to medication regimens. It can also provide a safe and supportive environment for individuals to access mental health services and support networks.\n",
            "\n",
            "Unstable housing, such as living in temporary or transitional housing, can create additional stress and uncertainty for individuals with mental health conditions. It may also make it more difficult for them to access consistent mental health care and medication management, leading to potential gaps in treatment and increased risk of relapse.\n",
            "\n",
            "Homelessness presents significant challenges for individuals with mental health conditions, as they may struggle to access basic necessities, including medication, regular meals, and hygiene facilities. Homelessness can exacerbate mental health symptoms and increase the risk of substance abuse and self-harm.\n",
            "\n",
            "Institutionalized living situations, such as psychiatric hospitals or long-term care facilities, may provide individuals with access to intensive mental health services and medication management. However, these settings can also be isolating and may limit individuals' autonomy and independence, impacting their overall wellbeing.\n",
            "\n",
            "Understanding the housing status of individuals using mental health-related services and prescription medications is crucial for developing targeted interventions and support services. Efforts to provide stable and affordable housing options, as well as wraparound support services, can significantly improve the health and wellbeing of this population. Additionally, addressing housing instability and homelessness can help reduce the burden on mental health services and improve overall community health.\n",
            "  - expected output: The publication explores the housing circumstances of people using mental health-related services and prescription medications in 2011, highlighting the importance of appropriate housing as a determinant of health and wellbeing.\n",
            "  - context: None\n",
            "  - retrieval context: None\n",
            "\n",
            "======================================================================\n",
            "\n",
            "Overall Metric Pass Rates\n",
            "\n",
            "Answer Relevancy: 100.00% pass rate\n",
            "\n",
            "======================================================================\n",
            "\n",
            "\n",
            "======================================================================\n",
            "\n",
            "Metrics Summary\n",
            "\n",
            "  - ✅ Answer Relevancy (score: 0.9310344827586207, threshold: 0.7, strict: False, evaluation model: gpt-4.1, reason: The score is 0.93 because the answer mostly focused on the characteristics and symptoms of bipolar mood disorder, which directly addresses the question. However, it included some statements about seeking help, diagnosis, and treatment, which, while helpful, were not directly relevant to the specific question asked., error: None)\n",
            "\n",
            "For test case:\n",
            "\n",
            "  - input: What are the characteristics and symptoms of bipolar mood disorder as a mental illness?\n",
            "  - actual output: Bipolar mood disorder, also known as bipolar disorder, is a mental illness characterized by extreme mood swings that include emotional highs (mania or hypomania) and lows (depression). The symptoms and characteristics of bipolar mood disorder can vary widely from person to person, but some common signs and symptoms include:\n",
            "\n",
            "1. Manic episodes: During a manic episode, a person may experience an elevated or irritable mood, increased energy and activity, racing thoughts, rapid speech, decreased need for sleep, and impulsive or reckless behavior.\n",
            "\n",
            "2. Depressive episodes: During a depressive episode, a person may experience feelings of sadness, hopelessness, worthlessness, and guilt, as well as changes in appetite and sleep patterns, fatigue, difficulty concentrating, and thoughts of death or suicide.\n",
            "\n",
            "3. Mixed episodes: Some people with bipolar disorder may experience symptoms of both mania and depression at the same time, leading to a combination of high energy and low mood.\n",
            "\n",
            "4. Cyclothymic disorder: This is a milder form of bipolar disorder characterized by episodes of hypomania and mild depression that last for at least two years.\n",
            "\n",
            "5. Rapid cycling: Some people with bipolar disorder may experience frequent and rapid shifts between manic and depressive episodes, often within a short period of time.\n",
            "\n",
            "6. Impairment in functioning: Bipolar disorder can significantly impact a person's ability to function in daily life, including work, school, and relationships.\n",
            "\n",
            "It's important to note that bipolar disorder is a complex and multifaceted condition, and individuals may experience a wide range of symptoms and severity. If you or someone you know is experiencing symptoms of bipolar disorder, it's important to seek help from a mental health professional for an accurate diagnosis and appropriate treatment.\n",
            "  - expected output: The characteristics and symptoms of bipolar mood disorder include extreme mood swings, erratic behavior, and periods of mania and depression. This mental illness can significantly impact a person's quality of life.\n",
            "  - context: None\n",
            "  - retrieval context: None\n",
            "\n",
            "======================================================================\n",
            "\n",
            "Overall Metric Pass Rates\n",
            "\n",
            "Answer Relevancy: 100.00% pass rate\n",
            "\n",
            "======================================================================\n",
            "\n",
            "\n",
            "======================================================================\n",
            "\n",
            "Metrics Summary\n",
            "\n",
            "  - ✅ Answer Relevancy (score: 1.0, threshold: 0.7, strict: False, evaluation model: gpt-4.1, reason: The score is 1.00 because the answer was fully relevant and addressed the question directly with no irrelevant information. Great job!, error: None)\n",
            "\n",
            "For test case:\n",
            "\n",
            "  - input: Where can I access resources for mental health support in Victoria?\n",
            "  - actual output: There are several resources available for mental health support in Victoria, Australia. Some of these include:\n",
            "\n",
            "1. Beyond Blue: Beyond Blue provides information and support to help everyone in Australia achieve their best possible mental health. They offer a 24/7 support service, online forums, and resources for mental health support.\n",
            "\n",
            "2. Headspace: Headspace provides mental health support to young people aged 12-25. They offer a range of services including online and phone support, as well as in-person support at their various centers across Victoria.\n",
            "\n",
            "3. Lifeline: Lifeline offers a 24/7 crisis support and suicide prevention service. They also provide online chat support and resources for mental health support.\n",
            "\n",
            "4. The Victorian Government's Mental Health Services: The Victorian Government provides a range of mental health services and support through their various programs and initiatives. This includes access to public mental health services, community mental health support, and information on mental health resources.\n",
            "\n",
            "5. Local Community Health Centers: Many local community health centers in Victoria offer mental health support services, including counseling, support groups, and other resources.\n",
            "\n",
            "It's important to reach out to these resources for support if you or someone you know is struggling with mental health issues. Additionally, speaking to a healthcare professional or GP can also provide guidance on accessing mental health support in Victoria.\n",
            "  - expected output: You can access resources for mental health support in Victoria through the Office of the Chief Psychiatrist. They provide information and support for mental health and wellbeing, as well as second psychiatric opinions and reviews. You can contact them at ocp@health.vic.gov.au.\n",
            "  - context: None\n",
            "  - retrieval context: None\n",
            "\n",
            "======================================================================\n",
            "\n",
            "Overall Metric Pass Rates\n",
            "\n",
            "Answer Relevancy: 100.00% pass rate\n",
            "\n",
            "======================================================================\n",
            "\n"
          ]
        },
        {
          "output_type": "display_data",
          "data": {
            "text/plain": [
              "\n",
              "\u001b[38;2;5;245;141m✓\u001b[0m Tests finished 🎉! Run \u001b[1;32m'deepeval view'\u001b[0m to analyze, debug, and save evaluation results on \u001b[38;2;106;0;255mConfident AI\u001b[0m.\n",
              "\n"
            ],
            "text/html": [
              "<pre style=\"white-space:pre;overflow-x:auto;line-height:normal;font-family:Menlo,'DejaVu Sans Mono',consolas,'Courier New',monospace\">\n",
              "<span style=\"color: #05f58d; text-decoration-color: #05f58d\">✓</span> Tests finished 🎉! Run <span style=\"color: #008000; text-decoration-color: #008000; font-weight: bold\">'deepeval view'</span> to analyze, debug, and save evaluation results on <span style=\"color: #6a00ff; text-decoration-color: #6a00ff\">Confident AI</span>.\n",
              "\n",
              "</pre>\n"
            ]
          },
          "metadata": {}
        },
        {
          "output_type": "stream",
          "name": "stdout",
          "text": [
            "Evaluating batch 3...\n"
          ]
        },
        {
          "output_type": "display_data",
          "data": {
            "text/plain": [
              "✨ You're running DeepEval's latest \u001b[38;2;106;0;255mAnswer Relevancy Metric\u001b[0m! \u001b[1;38;2;55;65;81m(\u001b[0m\u001b[38;2;55;65;81musing gpt-\u001b[0m\u001b[1;38;2;55;65;81m4.1\u001b[0m\u001b[38;2;55;65;81m, \u001b[0m\u001b[38;2;55;65;81mstrict\u001b[0m\u001b[38;2;55;65;81m=\u001b[0m\u001b[3;38;2;55;65;81mFalse\u001b[0m\u001b[38;2;55;65;81m, \u001b[0m\u001b[38;2;55;65;81masync_mode\u001b[0m\u001b[38;2;55;65;81m=\u001b[0m\u001b[3;38;2;55;65;81mTrue\u001b[0m\u001b[1;38;2;55;65;81m)\u001b[0m\u001b[38;2;55;65;81m...\u001b[0m\n"
            ],
            "text/html": [
              "<pre style=\"white-space:pre;overflow-x:auto;line-height:normal;font-family:Menlo,'DejaVu Sans Mono',consolas,'Courier New',monospace\">✨ You're running DeepEval's latest <span style=\"color: #6a00ff; text-decoration-color: #6a00ff\">Answer Relevancy Metric</span>! <span style=\"color: #374151; text-decoration-color: #374151; font-weight: bold\">(</span><span style=\"color: #374151; text-decoration-color: #374151\">using gpt-</span><span style=\"color: #374151; text-decoration-color: #374151; font-weight: bold\">4.1</span><span style=\"color: #374151; text-decoration-color: #374151\">, </span><span style=\"color: #374151; text-decoration-color: #374151\">strict</span><span style=\"color: #374151; text-decoration-color: #374151\">=</span><span style=\"color: #374151; text-decoration-color: #374151; font-style: italic\">False</span><span style=\"color: #374151; text-decoration-color: #374151\">, </span><span style=\"color: #374151; text-decoration-color: #374151\">async_mode</span><span style=\"color: #374151; text-decoration-color: #374151\">=</span><span style=\"color: #374151; text-decoration-color: #374151; font-style: italic\">True</span><span style=\"color: #374151; text-decoration-color: #374151; font-weight: bold\">)</span><span style=\"color: #374151; text-decoration-color: #374151\">...</span>\n",
              "</pre>\n"
            ]
          },
          "metadata": {}
        },
        {
          "output_type": "display_data",
          "data": {
            "text/plain": [
              "Output()"
            ],
            "application/vnd.jupyter.widget-view+json": {
              "version_major": 2,
              "version_minor": 0,
              "model_id": "2606f7cd23474d56bdcd609d1a9f6f2a"
            }
          },
          "metadata": {}
        },
        {
          "output_type": "display_data",
          "data": {
            "text/plain": [],
            "text/html": [
              "<pre style=\"white-space:pre;overflow-x:auto;line-height:normal;font-family:Menlo,'DejaVu Sans Mono',consolas,'Courier New',monospace\"></pre>\n"
            ]
          },
          "metadata": {}
        },
        {
          "output_type": "stream",
          "name": "stdout",
          "text": [
            "\n",
            "======================================================================\n",
            "\n",
            "Metrics Summary\n",
            "\n",
            "  - ✅ Answer Relevancy (score: 1.0, threshold: 0.7, strict: False, evaluation model: gpt-4.1, reason: The score is 1.00 because the answer was fully relevant and addressed the input directly without any irrelevant statements. Great job staying focused and concise!, error: None)\n",
            "\n",
            "For test case:\n",
            "\n",
            "  - input: Identify the tags associated with the Reporting Framework Summary Report - Adelaide.\n",
            "  - actual output: - Reporting\n",
            "- Framework\n",
            "- Summary Report\n",
            "- Adelaide\n",
            "  - expected output: The tags associated with the Reporting Framework Summary Report - Adelaide are \"Suicide prevention.\"\n",
            "  - context: None\n",
            "  - retrieval context: None\n",
            "\n",
            "======================================================================\n",
            "\n",
            "Overall Metric Pass Rates\n",
            "\n",
            "Answer Relevancy: 100.00% pass rate\n",
            "\n",
            "======================================================================\n",
            "\n",
            "\n",
            "======================================================================\n",
            "\n",
            "Metrics Summary\n",
            "\n",
            "  - ✅ Answer Relevancy (score: 1.0, threshold: 0.7, strict: False, evaluation model: gpt-4.1, reason: The score is 1.00 because the answer was fully relevant and addressed the input directly without any irrelevant information. Great job staying focused and concise!, error: None)\n",
            "\n",
            "For test case:\n",
            "\n",
            "  - input: Identify the tags associated with the Reporting Framework Summary Report - Adelaide.\n",
            "  - actual output: - Reporting\n",
            "- Framework\n",
            "- Summary Report\n",
            "- Adelaide\n",
            "  - expected output: The tags associated with the Reporting Framework Summary Report - Adelaide are \"Suicide prevention.\"\n",
            "  - context: None\n",
            "  - retrieval context: None\n",
            "\n",
            "======================================================================\n",
            "\n",
            "Overall Metric Pass Rates\n",
            "\n",
            "Answer Relevancy: 100.00% pass rate\n",
            "\n",
            "======================================================================\n",
            "\n",
            "\n",
            "======================================================================\n",
            "\n",
            "Metrics Summary\n",
            "\n",
            "  - ✅ Answer Relevancy (score: 1.0, threshold: 0.7, strict: False, evaluation model: gpt-4.1, reason: The score is 1.00 because the answer was fully relevant and addressed the question directly without any irrelevant statements. Great job staying focused and informative!, error: None)\n",
            "\n",
            "For test case:\n",
            "\n",
            "  - input: What contributes to suicide being the leading cause of death for young people aged 15-24 years?\n",
            "  - actual output: There are several factors that contribute to suicide being the leading cause of death for young people aged 15-24 years. Some of these factors include:\n",
            "\n",
            "1. Mental health issues: Many young people in this age group may struggle with mental health issues such as depression, anxiety, and substance abuse, which can increase their risk of suicidal thoughts and behaviors.\n",
            "\n",
            "2. Social and peer pressure: Young people may face significant pressure from their peers, social media, and society to fit in, achieve certain standards of success, and conform to certain ideals. This pressure can contribute to feelings of inadequacy and hopelessness.\n",
            "\n",
            "3. Bullying and cyberbullying: Bullying, both in person and online, can have a significant impact on a young person's mental health and well-being, leading to feelings of isolation and despair.\n",
            "\n",
            "4. Trauma and adverse childhood experiences: Young people who have experienced trauma or adverse childhood experiences, such as abuse, neglect, or loss, may be at a higher risk for suicidal thoughts and behaviors.\n",
            "\n",
            "5. Access to lethal means: Easy access to firearms, medications, or other lethal means can increase the risk of impulsive suicide attempts among young people.\n",
            "\n",
            "6. Stigma surrounding mental health: The stigma and shame associated with mental health issues and seeking help can prevent young people from reaching out for support when they are struggling.\n",
            "\n",
            "7. Lack of access to mental health resources: Many young people may not have access to mental health resources or may face barriers to seeking help, such as cost, lack of transportation, or lack of awareness about available services.\n",
            "\n",
            "Addressing these contributing factors requires a comprehensive approach that includes promoting mental health awareness, reducing stigma, providing access to mental health resources, and creating supportive and inclusive environments for young people.\n",
            "  - expected output: Suicide is the leading cause of death for young people aged 15-24 years in Australia due to a combination of factors, including mental health issues, social pressures, and a lack of access to appropriate support and resources.\n",
            "  - context: None\n",
            "  - retrieval context: None\n",
            "\n",
            "======================================================================\n",
            "\n",
            "Overall Metric Pass Rates\n",
            "\n",
            "Answer Relevancy: 100.00% pass rate\n",
            "\n",
            "======================================================================\n",
            "\n",
            "\n",
            "======================================================================\n",
            "\n",
            "Metrics Summary\n",
            "\n",
            "  - ✅ Answer Relevancy (score: 0.9333333333333333, threshold: 0.7, strict: False, evaluation model: gpt-4.1, reason: The score is 0.93 because the answer was mostly relevant and addressed the question, but it included a statement that simply restated the fact from the question without explaining the contributing factors, which slightly reduced its relevance., error: None)\n",
            "\n",
            "For test case:\n",
            "\n",
            "  - input: What contributes to suicide being the leading cause of death for young people aged 15-24 years?\n",
            "  - actual output: There are several factors that contribute to suicide being the leading cause of death for young people aged 15-24 years. Some of these factors include:\n",
            "\n",
            "1. Mental health issues: Many young people in this age group may struggle with mental health issues such as depression, anxiety, and substance abuse, which can increase their risk of suicidal thoughts and behaviors.\n",
            "\n",
            "2. Social and peer pressure: Young people may face significant pressure from their peers, social media, and society to fit in, achieve certain standards, and meet expectations, which can contribute to feelings of inadequacy and hopelessness.\n",
            "\n",
            "3. Bullying and cyberbullying: Bullying, both in person and online, can have a significant impact on young people's mental health and well-being, leading to feelings of isolation and despair.\n",
            "\n",
            "4. Access to lethal means: Young people may have easy access to lethal means such as firearms, medications, and other dangerous items, which can increase the likelihood of impulsive suicide attempts.\n",
            "\n",
            "5. Lack of access to mental health resources: Many young people may not have access to adequate mental health resources and support, making it difficult for them to seek help when they are struggling.\n",
            "\n",
            "6. Stigma surrounding mental health: There is still a significant stigma surrounding mental health issues, which can prevent young people from seeking help and support when they are experiencing suicidal thoughts or feelings.\n",
            "\n",
            "7. Trauma and adverse childhood experiences: Young people who have experienced trauma or adverse childhood experiences, such as abuse, neglect, or loss, may be at a higher risk for suicidal thoughts and behaviors.\n",
            "\n",
            "Addressing these factors and providing young people with access to mental health resources, support, and education can help reduce the risk of suicide in this age group.\n",
            "  - expected output: Suicide is the leading cause of death for young people aged 15-24 years in Australia due to a combination of factors, including mental health issues, social pressures, and a lack of access to appropriate support and resources.\n",
            "  - context: None\n",
            "  - retrieval context: None\n",
            "\n",
            "======================================================================\n",
            "\n",
            "Overall Metric Pass Rates\n",
            "\n",
            "Answer Relevancy: 100.00% pass rate\n",
            "\n",
            "======================================================================\n",
            "\n",
            "\n",
            "======================================================================\n",
            "\n",
            "Metrics Summary\n",
            "\n",
            "  - ✅ Answer Relevancy (score: 1.0, threshold: 0.7, strict: False, evaluation model: gpt-4.1, reason: The score is 1.00 because the answer was fully relevant and addressed the question directly without any irrelevant information. Great job staying focused and informative!, error: None)\n",
            "\n",
            "For test case:\n",
            "\n",
            "  - input: What contributes to suicide being the leading cause of death for young people aged 15-24 years?\n",
            "  - actual output: There are several factors that contribute to suicide being the leading cause of death for young people aged 15-24 years. Some of these factors include:\n",
            "\n",
            "1. Mental health issues: Many young people in this age group struggle with mental health issues such as depression, anxiety, and substance abuse, which can increase their risk of suicidal thoughts and behaviors.\n",
            "\n",
            "2. Social and peer pressure: Young people may feel pressure to fit in, achieve certain standards, or meet expectations from their peers, which can contribute to feelings of isolation and hopelessness.\n",
            "\n",
            "3. Bullying and cyberbullying: Bullying, whether in person or online, can have a significant impact on a young person's mental health and well-being, leading to an increased risk of suicide.\n",
            "\n",
            "4. Access to lethal means: Young people may have easy access to lethal means such as firearms, medications, or other dangerous items, which can increase the likelihood of impulsive suicide attempts.\n",
            "\n",
            "5. Lack of access to mental health resources: Many young people may not have access to mental health resources or may face barriers to seeking help, such as stigma, lack of insurance, or limited availability of mental health services.\n",
            "\n",
            "6. Trauma and adverse childhood experiences: Young people who have experienced trauma or adverse childhood experiences, such as abuse, neglect, or loss, may be at a higher risk for suicidal thoughts and behaviors.\n",
            "\n",
            "7. LGBTQ+ discrimination: LGBTQ+ youth may face discrimination, rejection, and bullying, which can contribute to feelings of isolation and hopelessness, increasing their risk of suicide.\n",
            "\n",
            "Addressing these factors and providing support, resources, and education around mental health and suicide prevention can help reduce the leading cause of death for young people aged 15-24 years.\n",
            "  - expected output: Suicide is the leading cause of death for young people aged 15-24 years in Australia due to a combination of factors, including mental health issues, social pressures, and a lack of access to appropriate support and resources.\n",
            "  - context: None\n",
            "  - retrieval context: None\n",
            "\n",
            "======================================================================\n",
            "\n",
            "Overall Metric Pass Rates\n",
            "\n",
            "Answer Relevancy: 100.00% pass rate\n",
            "\n",
            "======================================================================\n",
            "\n"
          ]
        },
        {
          "output_type": "display_data",
          "data": {
            "text/plain": [
              "\n",
              "\u001b[38;2;5;245;141m✓\u001b[0m Tests finished 🎉! Run \u001b[1;32m'deepeval view'\u001b[0m to analyze, debug, and save evaluation results on \u001b[38;2;106;0;255mConfident AI\u001b[0m.\n",
              "\n"
            ],
            "text/html": [
              "<pre style=\"white-space:pre;overflow-x:auto;line-height:normal;font-family:Menlo,'DejaVu Sans Mono',consolas,'Courier New',monospace\">\n",
              "<span style=\"color: #05f58d; text-decoration-color: #05f58d\">✓</span> Tests finished 🎉! Run <span style=\"color: #008000; text-decoration-color: #008000; font-weight: bold\">'deepeval view'</span> to analyze, debug, and save evaluation results on <span style=\"color: #6a00ff; text-decoration-color: #6a00ff\">Confident AI</span>.\n",
              "\n",
              "</pre>\n"
            ]
          },
          "metadata": {}
        },
        {
          "output_type": "stream",
          "name": "stdout",
          "text": [
            "Evaluating batch 4...\n"
          ]
        },
        {
          "output_type": "display_data",
          "data": {
            "text/plain": [
              "✨ You're running DeepEval's latest \u001b[38;2;106;0;255mAnswer Relevancy Metric\u001b[0m! \u001b[1;38;2;55;65;81m(\u001b[0m\u001b[38;2;55;65;81musing gpt-\u001b[0m\u001b[1;38;2;55;65;81m4.1\u001b[0m\u001b[38;2;55;65;81m, \u001b[0m\u001b[38;2;55;65;81mstrict\u001b[0m\u001b[38;2;55;65;81m=\u001b[0m\u001b[3;38;2;55;65;81mFalse\u001b[0m\u001b[38;2;55;65;81m, \u001b[0m\u001b[38;2;55;65;81masync_mode\u001b[0m\u001b[38;2;55;65;81m=\u001b[0m\u001b[3;38;2;55;65;81mTrue\u001b[0m\u001b[1;38;2;55;65;81m)\u001b[0m\u001b[38;2;55;65;81m...\u001b[0m\n"
            ],
            "text/html": [
              "<pre style=\"white-space:pre;overflow-x:auto;line-height:normal;font-family:Menlo,'DejaVu Sans Mono',consolas,'Courier New',monospace\">✨ You're running DeepEval's latest <span style=\"color: #6a00ff; text-decoration-color: #6a00ff\">Answer Relevancy Metric</span>! <span style=\"color: #374151; text-decoration-color: #374151; font-weight: bold\">(</span><span style=\"color: #374151; text-decoration-color: #374151\">using gpt-</span><span style=\"color: #374151; text-decoration-color: #374151; font-weight: bold\">4.1</span><span style=\"color: #374151; text-decoration-color: #374151\">, </span><span style=\"color: #374151; text-decoration-color: #374151\">strict</span><span style=\"color: #374151; text-decoration-color: #374151\">=</span><span style=\"color: #374151; text-decoration-color: #374151; font-style: italic\">False</span><span style=\"color: #374151; text-decoration-color: #374151\">, </span><span style=\"color: #374151; text-decoration-color: #374151\">async_mode</span><span style=\"color: #374151; text-decoration-color: #374151\">=</span><span style=\"color: #374151; text-decoration-color: #374151; font-style: italic\">True</span><span style=\"color: #374151; text-decoration-color: #374151; font-weight: bold\">)</span><span style=\"color: #374151; text-decoration-color: #374151\">...</span>\n",
              "</pre>\n"
            ]
          },
          "metadata": {}
        },
        {
          "output_type": "display_data",
          "data": {
            "text/plain": [
              "Output()"
            ],
            "application/vnd.jupyter.widget-view+json": {
              "version_major": 2,
              "version_minor": 0,
              "model_id": "f57295c438614f24b1588f583da3f417"
            }
          },
          "metadata": {}
        },
        {
          "output_type": "display_data",
          "data": {
            "text/plain": [],
            "text/html": [
              "<pre style=\"white-space:pre;overflow-x:auto;line-height:normal;font-family:Menlo,'DejaVu Sans Mono',consolas,'Courier New',monospace\"></pre>\n"
            ]
          },
          "metadata": {}
        },
        {
          "output_type": "stream",
          "name": "stdout",
          "text": [
            "\n",
            "======================================================================\n",
            "\n",
            "Metrics Summary\n",
            "\n",
            "  - ✅ Answer Relevancy (score: 1.0, threshold: 0.7, strict: False, evaluation model: gpt-4.1, reason: The score is 1.00 because the answer was fully relevant and addressed the question directly without any irrelevant information. Great job staying focused and helpful!, error: None)\n",
            "\n",
            "For test case:\n",
            "\n",
            "  - input: Where can I find someone to talk to about my mental health in healthcare services available in Victoria?\n",
            "  - actual output: You can find someone to talk to about your mental health in healthcare services available in Victoria by contacting the following resources:\n",
            "\n",
            "1. Your General Practitioner (GP): Your GP can provide initial assessment and support for mental health concerns and can refer you to a mental health professional if needed.\n",
            "\n",
            "2. Mental Health Services Helpline: You can call the Mental Health Services Helpline at 1300 651 251 for information and support regarding mental health services in Victoria.\n",
            "\n",
            "3. Headspace: Headspace provides mental health support for young people aged 12-25 and has centers located across Victoria.\n",
            "\n",
            "4. Beyond Blue: Beyond Blue offers support and information for people experiencing mental health concerns. You can contact them via their website or by calling 1300 22 4636.\n",
            "\n",
            "5. Local Mental Health Services: Contact your local mental health service or community health center to inquire about available mental health support in your area.\n",
            "\n",
            "It's important to reach out for help and support when dealing with mental health concerns, and these resources can connect you with professionals who can provide the assistance you need.\n",
            "  - expected output: You can visit the Better Health Channel or contact the Office of the Chief Psychiatrist at ocp@health.vic.gov.au for information on where to find support for your mental health in healthcare services available in Victoria.\n",
            "  - context: None\n",
            "  - retrieval context: None\n",
            "\n",
            "======================================================================\n",
            "\n",
            "Overall Metric Pass Rates\n",
            "\n",
            "Answer Relevancy: 100.00% pass rate\n",
            "\n",
            "======================================================================\n",
            "\n",
            "\n",
            "======================================================================\n",
            "\n",
            "Metrics Summary\n",
            "\n",
            "  - ✅ Answer Relevancy (score: 1.0, threshold: 0.7, strict: False, evaluation model: gpt-4.1, reason: The score is 1.00 because the answer was fully relevant and addressed the input directly without including any irrelevant statements. Great job staying focused and on-topic!, error: None)\n",
            "\n",
            "For test case:\n",
            "\n",
            "  - input: What if gatekeepers were no longer included in the organization's comprehensive training and education programs? How might this impact the effectiveness of the programs?\n",
            "  - actual output: If gatekeepers were no longer included in the organization's comprehensive training and education programs, it could have several negative impacts on the effectiveness of the programs. \n",
            "\n",
            "Firstly, gatekeepers play a crucial role in providing access to resources, information, and opportunities within the organization. Without their involvement in the training and education programs, employees may not have the necessary support and guidance to fully engage with the material and apply it to their work.\n",
            "\n",
            "Additionally, gatekeepers often have valuable insights and perspectives on the organization's culture, dynamics, and challenges. Their input and feedback can help tailor the training and education programs to better meet the needs of the employees and address specific issues within the organization.\n",
            "\n",
            "Furthermore, gatekeepers can serve as advocates for the programs, helping to promote participation and engagement among their peers. Without their involvement, the programs may struggle to gain traction and support from the wider employee base.\n",
            "\n",
            "Overall, the exclusion of gatekeepers from the organization's comprehensive training and education programs could lead to reduced effectiveness, limited access to resources and support, and a lack of alignment with the organization's specific needs and challenges. It is important to recognize the valuable role that gatekeepers play and involve them in the development and implementation of training and education initiatives.\n",
            "  - expected output: The exclusion of gatekeepers from the organization's comprehensive training programs may lead to a lack of awareness and knowledge about important aspects of their role, impacting the overall effectiveness of the programs.\n",
            "  - context: None\n",
            "  - retrieval context: None\n",
            "\n",
            "======================================================================\n",
            "\n",
            "Overall Metric Pass Rates\n",
            "\n",
            "Answer Relevancy: 100.00% pass rate\n",
            "\n",
            "======================================================================\n",
            "\n",
            "\n",
            "======================================================================\n",
            "\n",
            "Metrics Summary\n",
            "\n",
            "  - ✅ Answer Relevancy (score: 1.0, threshold: 0.7, strict: False, evaluation model: gpt-4.1, reason: The score is 1.00 because the answer was fully relevant and addressed the input directly without any irrelevant statements. Great job staying focused and on-topic!, error: None)\n",
            "\n",
            "For test case:\n",
            "\n",
            "  - input: What if gatekeepers were no longer included in the organization's comprehensive training and education programs? How might this impact the effectiveness of the programs?\n",
            "  - actual output: If gatekeepers were no longer included in the organization's comprehensive training and education programs, it could have several negative impacts on the effectiveness of the programs. \n",
            "\n",
            "Firstly, gatekeepers play a crucial role in providing access to resources, information, and opportunities within the organization. Without their involvement in the training and education programs, employees may not have the necessary support and guidance to fully engage with the material and apply it to their work.\n",
            "\n",
            "Additionally, gatekeepers often have valuable insights and perspectives on the organization's culture, dynamics, and challenges. Their input and feedback can help tailor the training and education programs to better meet the needs of the employees and address specific issues within the organization.\n",
            "\n",
            "Furthermore, gatekeepers can serve as advocates for the programs, helping to promote participation and engagement among their peers. Without their involvement, the programs may struggle to gain traction and support from the wider employee base.\n",
            "\n",
            "Overall, the exclusion of gatekeepers from the organization's comprehensive training and education programs could lead to reduced effectiveness, limited access to resources and support, and a lack of alignment with the organization's specific needs and challenges. It is important to recognize the valuable role that gatekeepers play and involve them in the development and implementation of training and education initiatives.\n",
            "  - expected output: The exclusion of gatekeepers from the organization's comprehensive training programs may lead to a lack of awareness and knowledge about important aspects of their role, impacting the overall effectiveness of the programs.\n",
            "  - context: None\n",
            "  - retrieval context: None\n",
            "\n",
            "======================================================================\n",
            "\n",
            "Overall Metric Pass Rates\n",
            "\n",
            "Answer Relevancy: 100.00% pass rate\n",
            "\n",
            "======================================================================\n",
            "\n",
            "\n",
            "======================================================================\n",
            "\n",
            "Metrics Summary\n",
            "\n",
            "  - ✅ Answer Relevancy (score: 1.0, threshold: 0.7, strict: False, evaluation model: gpt-4.1, reason: The score is 1.00 because the answer was fully relevant and addressed the question directly, with no irrelevant statements. Great job staying focused and concise!, error: None)\n",
            "\n",
            "For test case:\n",
            "\n",
            "  - input: What issues did Isabel raise about her treatment during the recent mental health inpatient admission?\n",
            "  - actual output: Isabel raised several issues about her treatment during the recent mental health inpatient admission, including:\n",
            "\n",
            "1. Lack of personalized care: Isabel felt that her treatment was not tailored to her specific needs and that the staff did not take the time to understand her individual struggles and concerns.\n",
            "\n",
            "2. Inadequate therapy and support: Isabel expressed dissatisfaction with the therapy and support she received during her admission, feeling that it was not sufficient to address her mental health issues.\n",
            "\n",
            "3. Medication management: Isabel raised concerns about the management of her medication, feeling that it was not properly monitored and adjusted to suit her needs.\n",
            "\n",
            "4. Communication with staff: Isabel felt that there was a lack of effective communication with the staff, leading to misunderstandings and a sense of being unheard.\n",
            "\n",
            "5. Lack of autonomy and choice: Isabel felt that she had little control over her treatment and that her preferences and choices were not taken into consideration.\n",
            "\n",
            "Overall, Isabel felt that her treatment during the recent mental health inpatient admission was not meeting her needs and was not conducive to her recovery.\n",
            "  - expected output: Isabel raised issues about excessive treatment, lack of proper explanation for medication, and staff not always using an interpreter in her preferred language during her recent mental health inpatient admission.\n",
            "  - context: None\n",
            "  - retrieval context: None\n",
            "\n",
            "======================================================================\n",
            "\n",
            "Overall Metric Pass Rates\n",
            "\n",
            "Answer Relevancy: 100.00% pass rate\n",
            "\n",
            "======================================================================\n",
            "\n",
            "\n",
            "======================================================================\n",
            "\n",
            "Metrics Summary\n",
            "\n",
            "  - ✅ Answer Relevancy (score: 1.0, threshold: 0.7, strict: False, evaluation model: gpt-4.1, reason: The score is 1.00 because the answer addressed all aspects of the input clearly and directly, with no irrelevant information included. Great job staying focused and relevant!, error: None)\n",
            "\n",
            "For test case:\n",
            "\n",
            "  - input: Explain the range of support services offered by Mental Health Families & Friends Tasmania, including programs, peer support, and online forums.\n",
            "  - actual output: Mental Health Families & Friends Tasmania offers a range of support services to individuals and families affected by mental illness. These services include:\n",
            "\n",
            "1. Programs: The organization offers various programs aimed at providing education, information, and support to individuals and families dealing with mental health issues. These programs may include workshops, training sessions, and community events focused on mental health awareness and self-care.\n",
            "\n",
            "2. Peer support: Mental Health Families & Friends Tasmania provides peer support services, where individuals can connect with others who have lived experience with mental illness. This can include one-on-one peer support, support groups, and mentoring programs to help individuals navigate their own mental health journey.\n",
            "\n",
            "3. Online forums: The organization may offer online forums or virtual support groups where individuals can connect with others in a safe and supportive environment. These forums provide a space for individuals to share their experiences, seek advice, and find community support from others who understand what they are going through.\n",
            "\n",
            "Overall, Mental Health Families & Friends Tasmania aims to provide a comprehensive range of support services to help individuals and families affected by mental illness. These services are designed to offer practical assistance, emotional support, and a sense of community to those dealing with mental health challenges.\n",
            "  - expected output: Mental Health Families & Friends Tasmania offers programs, peer support groups, and educational/information sessions with professionals in mental health and the alcohol and other drugs sector. They also have a safe and confidential online community for support people to chat with each other through their SANE online chat forum.\n",
            "  - context: None\n",
            "  - retrieval context: None\n",
            "\n",
            "======================================================================\n",
            "\n",
            "Overall Metric Pass Rates\n",
            "\n",
            "Answer Relevancy: 100.00% pass rate\n",
            "\n",
            "======================================================================\n",
            "\n"
          ]
        },
        {
          "output_type": "display_data",
          "data": {
            "text/plain": [
              "\n",
              "\u001b[38;2;5;245;141m✓\u001b[0m Tests finished 🎉! Run \u001b[1;32m'deepeval view'\u001b[0m to analyze, debug, and save evaluation results on \u001b[38;2;106;0;255mConfident AI\u001b[0m.\n",
              "\n"
            ],
            "text/html": [
              "<pre style=\"white-space:pre;overflow-x:auto;line-height:normal;font-family:Menlo,'DejaVu Sans Mono',consolas,'Courier New',monospace\">\n",
              "<span style=\"color: #05f58d; text-decoration-color: #05f58d\">✓</span> Tests finished 🎉! Run <span style=\"color: #008000; text-decoration-color: #008000; font-weight: bold\">'deepeval view'</span> to analyze, debug, and save evaluation results on <span style=\"color: #6a00ff; text-decoration-color: #6a00ff\">Confident AI</span>.\n",
              "\n",
              "</pre>\n"
            ]
          },
          "metadata": {}
        },
        {
          "output_type": "stream",
          "name": "stdout",
          "text": [
            "Evaluating batch 5...\n"
          ]
        },
        {
          "output_type": "display_data",
          "data": {
            "text/plain": [
              "✨ You're running DeepEval's latest \u001b[38;2;106;0;255mAnswer Relevancy Metric\u001b[0m! \u001b[1;38;2;55;65;81m(\u001b[0m\u001b[38;2;55;65;81musing gpt-\u001b[0m\u001b[1;38;2;55;65;81m4.1\u001b[0m\u001b[38;2;55;65;81m, \u001b[0m\u001b[38;2;55;65;81mstrict\u001b[0m\u001b[38;2;55;65;81m=\u001b[0m\u001b[3;38;2;55;65;81mFalse\u001b[0m\u001b[38;2;55;65;81m, \u001b[0m\u001b[38;2;55;65;81masync_mode\u001b[0m\u001b[38;2;55;65;81m=\u001b[0m\u001b[3;38;2;55;65;81mTrue\u001b[0m\u001b[1;38;2;55;65;81m)\u001b[0m\u001b[38;2;55;65;81m...\u001b[0m\n"
            ],
            "text/html": [
              "<pre style=\"white-space:pre;overflow-x:auto;line-height:normal;font-family:Menlo,'DejaVu Sans Mono',consolas,'Courier New',monospace\">✨ You're running DeepEval's latest <span style=\"color: #6a00ff; text-decoration-color: #6a00ff\">Answer Relevancy Metric</span>! <span style=\"color: #374151; text-decoration-color: #374151; font-weight: bold\">(</span><span style=\"color: #374151; text-decoration-color: #374151\">using gpt-</span><span style=\"color: #374151; text-decoration-color: #374151; font-weight: bold\">4.1</span><span style=\"color: #374151; text-decoration-color: #374151\">, </span><span style=\"color: #374151; text-decoration-color: #374151\">strict</span><span style=\"color: #374151; text-decoration-color: #374151\">=</span><span style=\"color: #374151; text-decoration-color: #374151; font-style: italic\">False</span><span style=\"color: #374151; text-decoration-color: #374151\">, </span><span style=\"color: #374151; text-decoration-color: #374151\">async_mode</span><span style=\"color: #374151; text-decoration-color: #374151\">=</span><span style=\"color: #374151; text-decoration-color: #374151; font-style: italic\">True</span><span style=\"color: #374151; text-decoration-color: #374151; font-weight: bold\">)</span><span style=\"color: #374151; text-decoration-color: #374151\">...</span>\n",
              "</pre>\n"
            ]
          },
          "metadata": {}
        },
        {
          "output_type": "display_data",
          "data": {
            "text/plain": [
              "Output()"
            ],
            "application/vnd.jupyter.widget-view+json": {
              "version_major": 2,
              "version_minor": 0,
              "model_id": "863b7952f9c54ee883139314fb4a015c"
            }
          },
          "metadata": {}
        },
        {
          "output_type": "display_data",
          "data": {
            "text/plain": [],
            "text/html": [
              "<pre style=\"white-space:pre;overflow-x:auto;line-height:normal;font-family:Menlo,'DejaVu Sans Mono',consolas,'Courier New',monospace\"></pre>\n"
            ]
          },
          "metadata": {}
        },
        {
          "output_type": "stream",
          "name": "stdout",
          "text": [
            "\n",
            "======================================================================\n",
            "\n",
            "Metrics Summary\n",
            "\n",
            "  - ✅ Answer Relevancy (score: 1.0, threshold: 0.7, strict: False, evaluation model: gpt-4.1, reason: The score is 1.00 because the answer was fully relevant and addressed the question directly with no irrelevant information. Great job staying focused and concise!, error: None)\n",
            "\n",
            "For test case:\n",
            "\n",
            "  - input: When was the last update on The Reporting Framework Summary Report - Adelaide?\n",
            "  - actual output: I'm sorry, but I don't have access to the specific information about the last update on The Reporting Framework Summary Report - Adelaide. You may need to check the official website or contact the relevant organization for the most recent information.\n",
            "  - expected output: The last update on the Reporting Framework Summary Report - Adelaide was on October 31, 2019.\n",
            "  - context: None\n",
            "  - retrieval context: None\n",
            "\n",
            "======================================================================\n",
            "\n",
            "Overall Metric Pass Rates\n",
            "\n",
            "Answer Relevancy: 80.00% pass rate\n",
            "\n",
            "======================================================================\n",
            "\n",
            "\n",
            "======================================================================\n",
            "\n",
            "Metrics Summary\n",
            "\n",
            "  - ❌ Answer Relevancy (score: 0.6153846153846154, threshold: 0.7, strict: False, evaluation model: gpt-4.1, reason: The score is 0.62 because while the answer included some relevant information about contributing factors, much of the response focused on solutions and interventions rather than directly addressing the causes, which reduced its overall relevance., error: None)\n",
            "\n",
            "For test case:\n",
            "\n",
            "  - input: What contributes to suicide being the leading cause of death for young people aged 15-24 years?\n",
            "  - actual output: There are several factors that contribute to suicide being the leading cause of death for young people aged 15-24 years. Some of these factors include:\n",
            "\n",
            "1. Mental health issues: Many young people in this age group may struggle with mental health issues such as depression, anxiety, and substance abuse, which can increase their risk of suicidal thoughts and behaviors.\n",
            "\n",
            "2. Social and peer pressure: Young people may face significant pressure from their peers, social media, and society to fit in, achieve certain standards of success, and conform to certain ideals. This pressure can contribute to feelings of inadequacy and hopelessness.\n",
            "\n",
            "3. Bullying and cyberbullying: Bullying, both in person and online, can have a significant impact on a young person's mental health and well-being, leading to feelings of isolation and despair.\n",
            "\n",
            "4. Trauma and adverse childhood experiences: Young people who have experienced trauma or adverse childhood experiences, such as abuse, neglect, or loss, may be at a higher risk for suicidal thoughts and behaviors.\n",
            "\n",
            "5. Access to lethal means: Easy access to firearms, medications, or other lethal means can increase the risk of impulsive suicide attempts among young people.\n",
            "\n",
            "6. Stigma surrounding mental health: The stigma and shame associated with mental health issues and seeking help can prevent young people from reaching out for support when they are struggling.\n",
            "\n",
            "7. Lack of access to mental health resources: Many young people may not have access to mental health resources or may face barriers to seeking help, such as cost, lack of transportation, or lack of awareness about available services.\n",
            "\n",
            "Addressing these contributing factors requires a comprehensive approach that includes promoting mental health awareness, reducing stigma, providing access to mental health resources, and creating supportive and inclusive environments for young people.\n",
            "  - expected output: Suicide is the leading cause of death for young people aged 15-24 years in Australia due to a combination of factors, including mental health issues, social pressures, and a lack of access to appropriate support and resources.\n",
            "  - context: None\n",
            "  - retrieval context: None\n",
            "\n",
            "======================================================================\n",
            "\n",
            "Overall Metric Pass Rates\n",
            "\n",
            "Answer Relevancy: 80.00% pass rate\n",
            "\n",
            "======================================================================\n",
            "\n",
            "\n",
            "======================================================================\n",
            "\n",
            "Metrics Summary\n",
            "\n",
            "  - ✅ Answer Relevancy (score: 1.0, threshold: 0.7, strict: False, evaluation model: gpt-4.1, reason: The score is 1.00 because the answer was fully relevant and addressed the question directly without any irrelevant information. Great job staying focused and informative!, error: None)\n",
            "\n",
            "For test case:\n",
            "\n",
            "  - input: What contributes to suicide being the leading cause of death for young people aged 15-24 years?\n",
            "  - actual output: There are several factors that contribute to suicide being the leading cause of death for young people aged 15-24 years. Some of these factors include:\n",
            "\n",
            "1. Mental health issues: Many young people in this age group may struggle with mental health issues such as depression, anxiety, and substance abuse, which can increase their risk of suicidal thoughts and behaviors.\n",
            "\n",
            "2. Social and peer pressure: Young people may face significant pressure from their peers, social media, and society to fit in, achieve certain standards, and meet expectations, which can contribute to feelings of inadequacy and hopelessness.\n",
            "\n",
            "3. Bullying and cyberbullying: Bullying, both in person and online, can have a significant impact on a young person's mental health and well-being, leading to feelings of isolation and despair.\n",
            "\n",
            "4. Trauma and adverse childhood experiences: Young people who have experienced trauma or adverse childhood experiences, such as abuse, neglect, or loss, may be at a higher risk of suicidal thoughts and behaviors.\n",
            "\n",
            "5. Access to lethal means: Easy access to firearms, medications, or other lethal means can increase the risk of impulsive suicide attempts among young people.\n",
            "\n",
            "6. Stigma surrounding mental health: The stigma and lack of awareness surrounding mental health issues can prevent young people from seeking help and support when they are struggling, leading to an increased risk of suicide.\n",
            "\n",
            "7. Lack of access to mental health resources: Many young people may not have access to mental health resources, such as therapy, counseling, or support groups, which can make it difficult for them to get the help they need.\n",
            "\n",
            "Addressing these factors and providing young people with the support, resources, and education they need to prioritize their mental health and seek help when they are struggling is crucial in reducing the rate of suicide among this age group.\n",
            "  - expected output: Suicide is the leading cause of death for young people aged 15-24 years in Australia due to a combination of factors, including mental health issues, social pressures, and a lack of access to appropriate support and resources.\n",
            "  - context: None\n",
            "  - retrieval context: None\n",
            "\n",
            "======================================================================\n",
            "\n",
            "Overall Metric Pass Rates\n",
            "\n",
            "Answer Relevancy: 80.00% pass rate\n",
            "\n",
            "======================================================================\n",
            "\n",
            "\n",
            "======================================================================\n",
            "\n",
            "Metrics Summary\n",
            "\n",
            "  - ✅ Answer Relevancy (score: 0.9310344827586207, threshold: 0.7, strict: False, evaluation model: gpt-4.1, reason: The score is 0.93 because the answer mostly focused on the characteristics and symptoms of bipolar mood disorder, but included some irrelevant advice about seeking help and information about diagnosis and treatment, which were not directly asked for in the input., error: None)\n",
            "\n",
            "For test case:\n",
            "\n",
            "  - input: What are the characteristics and symptoms of bipolar mood disorder as a mental illness?\n",
            "  - actual output: Bipolar mood disorder, also known as bipolar disorder, is a mental illness characterized by extreme mood swings that include emotional highs (mania or hypomania) and lows (depression). The symptoms and characteristics of bipolar mood disorder can vary widely from person to person, but some common signs and symptoms include:\n",
            "\n",
            "1. Manic episodes: During a manic episode, a person may experience an elevated or irritable mood, increased energy and activity, racing thoughts, rapid speech, decreased need for sleep, and impulsive or reckless behavior.\n",
            "\n",
            "2. Depressive episodes: During a depressive episode, a person may experience feelings of sadness, hopelessness, worthlessness, and guilt, as well as changes in appetite and sleep patterns, fatigue, difficulty concentrating, and thoughts of death or suicide.\n",
            "\n",
            "3. Mixed episodes: Some people with bipolar disorder may experience symptoms of both mania and depression at the same time, leading to a combination of high energy and low mood.\n",
            "\n",
            "4. Cyclothymic disorder: This is a milder form of bipolar disorder characterized by episodes of hypomania and mild depression that last for at least two years.\n",
            "\n",
            "5. Rapid cycling: Some people with bipolar disorder may experience frequent and rapid shifts between manic and depressive episodes, often within a short period of time.\n",
            "\n",
            "6. Impairment in functioning: Bipolar disorder can significantly impact a person's ability to function in daily life, including work, school, and relationships.\n",
            "\n",
            "It's important to note that bipolar disorder is a complex and multifaceted condition, and individuals may experience a wide range of symptoms and severity. If you or someone you know is experiencing symptoms of bipolar disorder, it's important to seek help from a mental health professional for an accurate diagnosis and appropriate treatment.\n",
            "  - expected output: The characteristics and symptoms of bipolar mood disorder include extreme mood swings, erratic behavior, and periods of mania and depression. This mental illness can significantly impact a person's quality of life.\n",
            "  - context: None\n",
            "  - retrieval context: None\n",
            "\n",
            "======================================================================\n",
            "\n",
            "Overall Metric Pass Rates\n",
            "\n",
            "Answer Relevancy: 80.00% pass rate\n",
            "\n",
            "======================================================================\n",
            "\n",
            "\n",
            "======================================================================\n",
            "\n",
            "Metrics Summary\n",
            "\n",
            "  - ✅ Answer Relevancy (score: 0.9024390243902439, threshold: 0.7, strict: False, evaluation model: gpt-4.1, reason: The score is 0.90 because most of the answer focused on the characteristics and symptoms of bipolar mood disorder, but some statements discussed treatment and advice, which were not directly relevant to the question. The answer is still strong overall, but could be improved by focusing solely on the requested information., error: None)\n",
            "\n",
            "For test case:\n",
            "\n",
            "  - input: Examine the characteristics and symptoms of bipolar mood disorder.\n",
            "  - actual output: Bipolar mood disorder, also known as bipolar disorder, is a mental health condition characterized by extreme mood swings that include emotional highs (mania or hypomania) and lows (depression). The symptoms and characteristics of bipolar mood disorder can vary widely from person to person, but some common features include:\n",
            "\n",
            "1. Manic episodes: During a manic episode, individuals may experience an elevated or irritable mood, increased energy, racing thoughts, decreased need for sleep, inflated self-esteem or grandiosity, reckless behavior, and poor decision-making. These symptoms can significantly impact a person's ability to function in their daily life.\n",
            "\n",
            "2. Depressive episodes: Depressive episodes in bipolar disorder are similar to those in major depressive disorder and can include feelings of sadness, hopelessness, loss of interest in activities, changes in appetite or weight, sleep disturbances, fatigue, feelings of worthlessness or guilt, and thoughts of death or suicide.\n",
            "\n",
            "3. Mixed episodes: Some individuals with bipolar disorder may experience symptoms of both mania and depression at the same time, leading to a combination of high energy and agitation with feelings of sadness or hopelessness.\n",
            "\n",
            "4. Cyclothymic disorder: This is a milder form of bipolar disorder characterized by numerous periods of hypomanic symptoms and depressive symptoms that do not meet the full criteria for a manic or depressive episode.\n",
            "\n",
            "5. Rapid cycling: Some individuals with bipolar disorder may experience rapid shifts between manic, hypomanic, or depressive episodes, often occurring within a short period of time.\n",
            "\n",
            "6. Impairment in functioning: Bipolar disorder can significantly impact a person's ability to maintain relationships, hold a job, or manage daily responsibilities.\n",
            "\n",
            "It's important to note that the severity and frequency of mood episodes can vary, and some individuals may experience long periods of stability between episodes.\n",
            "\n",
            "If you or someone you know is experiencing symptoms of bipolar mood disorder, it's important to seek help from a mental health professional. Treatment for bipolar disorder typically involves a combination of medication, such as mood stabilizers or antipsychotic medications, and psychotherapy to help manage symptoms and improve overall functioning.\n",
            "  - expected output: The bipolar mood disorder is a mental health condition characterized by extreme mood swings, including highs (mania or hypomania) and lows (depression). Symptoms can include changes in energy, activity levels, sleep patterns, and behavior.\n",
            "  - context: None\n",
            "  - retrieval context: None\n",
            "\n",
            "======================================================================\n",
            "\n",
            "Overall Metric Pass Rates\n",
            "\n",
            "Answer Relevancy: 80.00% pass rate\n",
            "\n",
            "======================================================================\n",
            "\n"
          ]
        },
        {
          "output_type": "display_data",
          "data": {
            "text/plain": [
              "\n",
              "\u001b[38;2;5;245;141m✓\u001b[0m Tests finished 🎉! Run \u001b[1;32m'deepeval view'\u001b[0m to analyze, debug, and save evaluation results on \u001b[38;2;106;0;255mConfident AI\u001b[0m.\n",
              "\n"
            ],
            "text/html": [
              "<pre style=\"white-space:pre;overflow-x:auto;line-height:normal;font-family:Menlo,'DejaVu Sans Mono',consolas,'Courier New',monospace\">\n",
              "<span style=\"color: #05f58d; text-decoration-color: #05f58d\">✓</span> Tests finished 🎉! Run <span style=\"color: #008000; text-decoration-color: #008000; font-weight: bold\">'deepeval view'</span> to analyze, debug, and save evaluation results on <span style=\"color: #6a00ff; text-decoration-color: #6a00ff\">Confident AI</span>.\n",
              "\n",
              "</pre>\n"
            ]
          },
          "metadata": {}
        },
        {
          "output_type": "stream",
          "name": "stdout",
          "text": [
            "Evaluating batch 6...\n"
          ]
        },
        {
          "output_type": "display_data",
          "data": {
            "text/plain": [
              "✨ You're running DeepEval's latest \u001b[38;2;106;0;255mAnswer Relevancy Metric\u001b[0m! \u001b[1;38;2;55;65;81m(\u001b[0m\u001b[38;2;55;65;81musing gpt-\u001b[0m\u001b[1;38;2;55;65;81m4.1\u001b[0m\u001b[38;2;55;65;81m, \u001b[0m\u001b[38;2;55;65;81mstrict\u001b[0m\u001b[38;2;55;65;81m=\u001b[0m\u001b[3;38;2;55;65;81mFalse\u001b[0m\u001b[38;2;55;65;81m, \u001b[0m\u001b[38;2;55;65;81masync_mode\u001b[0m\u001b[38;2;55;65;81m=\u001b[0m\u001b[3;38;2;55;65;81mTrue\u001b[0m\u001b[1;38;2;55;65;81m)\u001b[0m\u001b[38;2;55;65;81m...\u001b[0m\n"
            ],
            "text/html": [
              "<pre style=\"white-space:pre;overflow-x:auto;line-height:normal;font-family:Menlo,'DejaVu Sans Mono',consolas,'Courier New',monospace\">✨ You're running DeepEval's latest <span style=\"color: #6a00ff; text-decoration-color: #6a00ff\">Answer Relevancy Metric</span>! <span style=\"color: #374151; text-decoration-color: #374151; font-weight: bold\">(</span><span style=\"color: #374151; text-decoration-color: #374151\">using gpt-</span><span style=\"color: #374151; text-decoration-color: #374151; font-weight: bold\">4.1</span><span style=\"color: #374151; text-decoration-color: #374151\">, </span><span style=\"color: #374151; text-decoration-color: #374151\">strict</span><span style=\"color: #374151; text-decoration-color: #374151\">=</span><span style=\"color: #374151; text-decoration-color: #374151; font-style: italic\">False</span><span style=\"color: #374151; text-decoration-color: #374151\">, </span><span style=\"color: #374151; text-decoration-color: #374151\">async_mode</span><span style=\"color: #374151; text-decoration-color: #374151\">=</span><span style=\"color: #374151; text-decoration-color: #374151; font-style: italic\">True</span><span style=\"color: #374151; text-decoration-color: #374151; font-weight: bold\">)</span><span style=\"color: #374151; text-decoration-color: #374151\">...</span>\n",
              "</pre>\n"
            ]
          },
          "metadata": {}
        },
        {
          "output_type": "display_data",
          "data": {
            "text/plain": [
              "Output()"
            ],
            "application/vnd.jupyter.widget-view+json": {
              "version_major": 2,
              "version_minor": 0,
              "model_id": "e0476f692dfa4fc7a09e83ff787e6e4d"
            }
          },
          "metadata": {}
        },
        {
          "output_type": "stream",
          "name": "stderr",
          "text": [
            "ERROR:root:OpenAI Error: Error code: 429 - {'error': {'message': 'Rate limit reached for gpt-4.1 in organization org-VxwfSaIZ7gLnAsbaBUs3WgIR on tokens per min (TPM): Limit 30000, Used 30000, Requested 1202. Please try again in 2.404s. Visit https://platform.openai.com/account/rate-limits to learn more.', 'type': 'tokens', 'param': None, 'code': 'rate_limit_exceeded'}} Retrying: 1 time(s)...\n",
            "ERROR:root:OpenAI Error: Error code: 429 - {'error': {'message': 'Rate limit reached for gpt-4.1 in organization org-VxwfSaIZ7gLnAsbaBUs3WgIR on tokens per min (TPM): Limit 30000, Used 28843, Requested 1202. Please try again in 90ms. Visit https://platform.openai.com/account/rate-limits to learn more.', 'type': 'tokens', 'param': None, 'code': 'rate_limit_exceeded'}} Retrying: 2 time(s)...\n"
          ]
        },
        {
          "output_type": "display_data",
          "data": {
            "text/plain": [],
            "text/html": [
              "<pre style=\"white-space:pre;overflow-x:auto;line-height:normal;font-family:Menlo,'DejaVu Sans Mono',consolas,'Courier New',monospace\"></pre>\n"
            ]
          },
          "metadata": {}
        },
        {
          "output_type": "stream",
          "name": "stdout",
          "text": [
            "\n",
            "======================================================================\n",
            "\n",
            "Metrics Summary\n",
            "\n",
            "  - ✅ Answer Relevancy (score: 1.0, threshold: 0.7, strict: False, evaluation model: gpt-4.1, reason: The score is 1.00 because the answer was fully relevant and addressed the question directly, with no irrelevant statements. Great job staying focused and helpful!, error: None)\n",
            "\n",
            "For test case:\n",
            "\n",
            "  - input: Where can I find someone to talk to about my mental health in healthcare services available in Victoria?\n",
            "  - actual output: You can find someone to talk to about your mental health in healthcare services available in Victoria by contacting the following resources:\n",
            "\n",
            "1. Your General Practitioner (GP): Your GP can provide initial assessment and support for mental health concerns and can refer you to a mental health professional if needed.\n",
            "\n",
            "2. Mental Health Services Helpline: You can call the Mental Health Services Helpline at 1300 651 251 for information and support regarding mental health services in Victoria.\n",
            "\n",
            "3. Headspace: Headspace provides mental health support for young people aged 12-25 and has centers located across Victoria.\n",
            "\n",
            "4. Beyond Blue: Beyond Blue offers support and information for people experiencing mental health concerns. You can contact them via their website or by calling 1300 22 4636.\n",
            "\n",
            "5. Local Mental Health Services: Contact your local mental health service or community health center to inquire about available mental health support in your area.\n",
            "\n",
            "It's important to reach out for help and support when dealing with mental health concerns, and these resources can connect you with professionals who can provide the assistance you need.\n",
            "  - expected output: You can visit the Better Health Channel or contact the Office of the Chief Psychiatrist at ocp@health.vic.gov.au for information on where to find support for your mental health in healthcare services available in Victoria.\n",
            "  - context: None\n",
            "  - retrieval context: None\n",
            "\n",
            "======================================================================\n",
            "\n",
            "Overall Metric Pass Rates\n",
            "\n",
            "Answer Relevancy: 100.00% pass rate\n",
            "\n",
            "======================================================================\n",
            "\n",
            "\n",
            "======================================================================\n",
            "\n",
            "Metrics Summary\n",
            "\n",
            "  - ✅ Answer Relevancy (score: 1.0, threshold: 0.7, strict: False, evaluation model: gpt-4.1, reason: The score is 1.00 because the answer was fully relevant and addressed the question directly without any irrelevant information. Great job staying focused and informative!, error: None)\n",
            "\n",
            "For test case:\n",
            "\n",
            "  - input: What specific programs and support does Mental Health Families & Friends Tasmania offer to support persons?\n",
            "  - actual output: Mental Health Families & Friends Tasmania offers a range of programs and support to help individuals with mental health challenges. Some of the specific programs and support they offer include:\n",
            "\n",
            "1. Support groups: MHFFTas provides support groups for family members and friends of individuals with mental illness. These groups offer a safe and supportive environment for people to share their experiences, gain information, and connect with others who understand their situation.\n",
            "\n",
            "2. Education and training: The organization offers education and training programs to help family members and friends better understand mental illness and learn how to support their loved ones effectively.\n",
            "\n",
            "3. Advocacy and awareness: MHFFTas advocates for the rights of individuals with mental illness and works to raise awareness about mental health issues in the community.\n",
            "\n",
            "4. Information and resources: The organization provides information and resources to help family members and friends access the support and services they need to help their loved ones.\n",
            "\n",
            "5. Peer support: MHFFTas offers peer support programs to connect individuals with lived experience of mental illness with others who may benefit from their support and understanding.\n",
            "\n",
            "Overall, Mental Health Families & Friends Tasmania offers a range of programs and support to help individuals and their families navigate the challenges of mental illness and access the support they need.\n",
            "  - expected output: MHFFTas offers programs, peer support groups, educational and information sessions with professionals in mental health and the alcohol and other drugs sector. They also have a safe and confidential online community for support persons to chat with others.\n",
            "  - context: None\n",
            "  - retrieval context: None\n",
            "\n",
            "======================================================================\n",
            "\n",
            "Overall Metric Pass Rates\n",
            "\n",
            "Answer Relevancy: 100.00% pass rate\n",
            "\n",
            "======================================================================\n",
            "\n",
            "\n",
            "======================================================================\n",
            "\n",
            "Metrics Summary\n",
            "\n",
            "  - ✅ Answer Relevancy (score: 0.9310344827586207, threshold: 0.7, strict: False, evaluation model: gpt-4.1, reason: The score is 0.93 because the answer mostly focused on the characteristics and symptoms of bipolar mood disorder, but included some irrelevant statements about seeking help and diagnosis/treatment, which were not directly related to the question. However, the main content was still highly relevant and informative., error: None)\n",
            "\n",
            "For test case:\n",
            "\n",
            "  - input: What are the characteristics and symptoms of bipolar mood disorder as a mental illness?\n",
            "  - actual output: Bipolar mood disorder, also known as bipolar disorder, is a mental illness characterized by extreme mood swings that include emotional highs (mania or hypomania) and lows (depression). The symptoms and characteristics of bipolar mood disorder can vary widely from person to person, but some common signs and symptoms include:\n",
            "\n",
            "1. Manic episodes: During a manic episode, a person may experience an elevated or irritable mood, increased energy and activity, racing thoughts, rapid speech, decreased need for sleep, and impulsive or reckless behavior.\n",
            "\n",
            "2. Depressive episodes: During a depressive episode, a person may experience feelings of sadness, hopelessness, worthlessness, and guilt, as well as changes in appetite and sleep patterns, fatigue, difficulty concentrating, and thoughts of death or suicide.\n",
            "\n",
            "3. Mixed episodes: Some people with bipolar disorder may experience symptoms of both mania and depression at the same time, leading to a combination of high energy and low mood.\n",
            "\n",
            "4. Cyclothymic disorder: This is a milder form of bipolar disorder characterized by episodes of hypomania and mild depression that last for at least two years.\n",
            "\n",
            "5. Rapid cycling: Some people with bipolar disorder may experience frequent and rapid shifts between manic and depressive episodes, often within a short period of time.\n",
            "\n",
            "6. Impairment in functioning: Bipolar disorder can significantly impact a person's ability to function in daily life, including work, school, and relationships.\n",
            "\n",
            "It's important to note that the severity and frequency of symptoms can vary, and not everyone with bipolar disorder will experience all of these symptoms. If you or someone you know is experiencing symptoms of bipolar disorder, it's important to seek help from a mental health professional for an accurate diagnosis and appropriate treatment.\n",
            "  - expected output: The characteristics and symptoms of bipolar mood disorder include extreme mood swings, erratic behavior, and periods of mania and depression. This mental illness can significantly impact a person's quality of life.\n",
            "  - context: None\n",
            "  - retrieval context: None\n",
            "\n",
            "======================================================================\n",
            "\n",
            "Overall Metric Pass Rates\n",
            "\n",
            "Answer Relevancy: 100.00% pass rate\n",
            "\n",
            "======================================================================\n",
            "\n",
            "\n",
            "======================================================================\n",
            "\n",
            "Metrics Summary\n",
            "\n",
            "  - ✅ Answer Relevancy (score: 0.9375, threshold: 0.7, strict: False, evaluation model: gpt-4.1, reason: The score is 0.94 because the answer was mostly relevant and addressed the contributing factors, but it also included some information about solutions and prevention strategies, which was not directly asked for. Overall, the response was strong and informative!, error: None)\n",
            "\n",
            "For test case:\n",
            "\n",
            "  - input: What contributes to suicide being the leading cause of death for young people aged 15-24 years?\n",
            "  - actual output: There are several factors that contribute to suicide being the leading cause of death for young people aged 15-24 years. Some of these factors include:\n",
            "\n",
            "1. Mental health issues: Many young people in this age group may struggle with mental health issues such as depression, anxiety, and substance abuse, which can increase their risk of suicidal thoughts and behaviors.\n",
            "\n",
            "2. Social and peer pressure: Young people may face significant pressure from their peers, social media, and society to fit in, achieve certain standards of success, and conform to certain ideals. This pressure can contribute to feelings of inadequacy and hopelessness.\n",
            "\n",
            "3. Bullying and cyberbullying: Bullying, both in person and online, can have a significant impact on a young person's mental health and well-being, leading to feelings of isolation and despair.\n",
            "\n",
            "4. Trauma and adverse childhood experiences: Young people who have experienced trauma or adverse childhood experiences, such as abuse, neglect, or loss, may be at a higher risk for suicidal thoughts and behaviors.\n",
            "\n",
            "5. Access to lethal means: Easy access to firearms, medications, or other lethal means can increase the risk of impulsive suicide attempts among young people.\n",
            "\n",
            "6. Stigma surrounding mental health: The stigma and shame associated with mental health issues and seeking help can prevent young people from reaching out for support when they are struggling.\n",
            "\n",
            "7. Lack of access to mental health resources: Many young people may not have access to mental health resources or may face barriers to seeking help, such as cost, lack of transportation, or lack of awareness about available services.\n",
            "\n",
            "Addressing these contributing factors requires a comprehensive approach that includes promoting mental health awareness, reducing stigma, providing access to mental health resources, and creating supportive and inclusive environments for young people.\n",
            "  - expected output: Suicide is the leading cause of death for young people aged 15-24 years in Australia due to a combination of factors, including mental health issues, social pressures, and a lack of access to appropriate support and resources.\n",
            "  - context: None\n",
            "  - retrieval context: None\n",
            "\n",
            "======================================================================\n",
            "\n",
            "Overall Metric Pass Rates\n",
            "\n",
            "Answer Relevancy: 100.00% pass rate\n",
            "\n",
            "======================================================================\n",
            "\n",
            "\n",
            "======================================================================\n",
            "\n",
            "Metrics Summary\n",
            "\n",
            "  - ✅ Answer Relevancy (score: 0.9285714285714286, threshold: 0.7, strict: False, evaluation model: gpt-4.1, reason: The score is 0.93 because the answer mostly focused on the characteristics and symptoms of bipolar mood disorder, which directly addresses the question. However, a small portion of the response included information about seeking help and diagnosis/treatment, which, while helpful, was not directly relevant to the specific question asked., error: None)\n",
            "\n",
            "For test case:\n",
            "\n",
            "  - input: What are the characteristics and symptoms of bipolar mood disorder as a mental illness?\n",
            "  - actual output: Bipolar mood disorder, also known as bipolar disorder, is a mental illness characterized by extreme mood swings that include emotional highs (mania or hypomania) and lows (depression). The symptoms and characteristics of bipolar mood disorder can vary widely from person to person, but some common signs and symptoms include:\n",
            "\n",
            "1. Manic episodes: During a manic episode, a person may experience an elevated or irritable mood, increased energy and activity, racing thoughts, rapid speech, decreased need for sleep, and impulsive or reckless behavior.\n",
            "\n",
            "2. Depressive episodes: During a depressive episode, a person may experience feelings of sadness, hopelessness, worthlessness, and guilt, as well as changes in appetite and sleep patterns, fatigue, difficulty concentrating, and thoughts of death or suicide.\n",
            "\n",
            "3. Mixed episodes: Some people with bipolar disorder may experience symptoms of both mania and depression at the same time, leading to a combination of high energy and low mood.\n",
            "\n",
            "4. Cyclothymic disorder: This is a milder form of bipolar disorder characterized by episodes of hypomania and mild depression that last for at least two years.\n",
            "\n",
            "5. Rapid cycling: Some people with bipolar disorder may experience frequent and rapid shifts between manic and depressive episodes, often within a short period of time.\n",
            "\n",
            "6. Impairment in functioning: Bipolar disorder can significantly impact a person's ability to function in daily life, including work, school, and relationships.\n",
            "\n",
            "It's important to note that bipolar disorder is a complex and multifaceted condition, and individuals may experience a wide range of symptoms and severity. If you or someone you know is experiencing symptoms of bipolar disorder, it's important to seek help from a mental health professional for an accurate diagnosis and appropriate treatment.\n",
            "  - expected output: The characteristics and symptoms of bipolar mood disorder include extreme mood swings, erratic behavior, and periods of mania and depression. This mental illness can significantly impact a person's quality of life.\n",
            "  - context: None\n",
            "  - retrieval context: None\n",
            "\n",
            "======================================================================\n",
            "\n",
            "Overall Metric Pass Rates\n",
            "\n",
            "Answer Relevancy: 100.00% pass rate\n",
            "\n",
            "======================================================================\n",
            "\n"
          ]
        },
        {
          "output_type": "display_data",
          "data": {
            "text/plain": [
              "\n",
              "\u001b[38;2;5;245;141m✓\u001b[0m Tests finished 🎉! Run \u001b[1;32m'deepeval view'\u001b[0m to analyze, debug, and save evaluation results on \u001b[38;2;106;0;255mConfident AI\u001b[0m.\n",
              "\n"
            ],
            "text/html": [
              "<pre style=\"white-space:pre;overflow-x:auto;line-height:normal;font-family:Menlo,'DejaVu Sans Mono',consolas,'Courier New',monospace\">\n",
              "<span style=\"color: #05f58d; text-decoration-color: #05f58d\">✓</span> Tests finished 🎉! Run <span style=\"color: #008000; text-decoration-color: #008000; font-weight: bold\">'deepeval view'</span> to analyze, debug, and save evaluation results on <span style=\"color: #6a00ff; text-decoration-color: #6a00ff\">Confident AI</span>.\n",
              "\n",
              "</pre>\n"
            ]
          },
          "metadata": {}
        },
        {
          "output_type": "stream",
          "name": "stdout",
          "text": [
            "Evaluation complete for all batches.\n"
          ]
        }
      ]
    },
    {
      "cell_type": "code",
      "source": [
        "all_results[0][1][0]"
      ],
      "metadata": {
        "colab": {
          "base_uri": "https://localhost:8080/"
        },
        "id": "1LHPEpZ9d3M-",
        "outputId": "e5d666e1-7e94-4bc4-a6f5-80c5e60c7ce4"
      },
      "execution_count": 59,
      "outputs": [
        {
          "output_type": "execute_result",
          "data": {
            "text/plain": [
              "TestResult(name='test_case_1', success=True, metrics_data=[MetricData(name='Answer Relevancy', threshold=0.7, success=True, score=1.0, reason='The score is 1.00 because the answer was fully relevant and addressed the input directly without any irrelevant statements. Great job staying focused and concise!', strict_mode=False, evaluation_model='gpt-4.1', error=None, evaluation_cost=0.003956, verbose_logs='Statements:\\n[\\n    \"I don\\'t have access to the specific information about the last update on The Reporting Framework Summary Report - Adelaide.\",\\n    \"You may need to check the official website for the most recent update.\",\\n    \"You may need to contact the relevant organization for the most recent update.\"\\n] \\n \\nVerdicts:\\n[\\n    {\\n        \"verdict\": \"yes\",\\n        \"reason\": null\\n    },\\n    {\\n        \"verdict\": \"yes\",\\n        \"reason\": null\\n    },\\n    {\\n        \"verdict\": \"yes\",\\n        \"reason\": null\\n    }\\n]')], conversational=False, multimodal=False, input='When was the last update on The Reporting Framework Summary Report - Adelaide?', actual_output=\"I'm sorry, but I don't have access to the specific information about the last update on The Reporting Framework Summary Report - Adelaide. You may need to check the official website or contact the relevant organization for the most recent update.\", expected_output='The last update on the Reporting Framework Summary Report - Adelaide was on October 31, 2019.', context=None, retrieval_context=None, additional_metadata=None)"
            ]
          },
          "metadata": {},
          "execution_count": 59
        }
      ]
    },
    {
      "cell_type": "markdown",
      "source": [
        "# Testing"
      ],
      "metadata": {
        "id": "qPBazSOwea6a"
      }
    },
    {
      "cell_type": "code",
      "source": [
        "from deepeval.test_case import LLMTestCase\n",
        "from deepeval.metrics import AnswerRelevancyMetric\n",
        "\n",
        "answer_relevancy_metric = AnswerRelevancyMetric()\n",
        "test_case = LLMTestCase(\n",
        "  input=\"Who is the current president of the United States of America?\",\n",
        "  actual_output=\"Joe Bison\",\n",
        "  retrieval_context=[\"Joe Biden serves as the current president of America.\"]\n",
        ")\n",
        "\n",
        "answer_relevancy_metric.measure(test_case)\n",
        "print(answer_relevancy_metric.score)"
      ],
      "metadata": {
        "colab": {
          "base_uri": "https://localhost:8080/",
          "height": 36,
          "referenced_widgets": [
            "938e46ebb0794eaaa33aea115b8a7824",
            "08e0729da66140659c2cd4c3d229d5ee"
          ]
        },
        "id": "HxR3__Ehecj4",
        "outputId": "8389f5af-d82c-4439-8c4e-6176551233b4"
      },
      "execution_count": null,
      "outputs": [
        {
          "output_type": "display_data",
          "data": {
            "text/plain": [
              "Output()"
            ],
            "application/vnd.jupyter.widget-view+json": {
              "version_major": 2,
              "version_minor": 0,
              "model_id": "938e46ebb0794eaaa33aea115b8a7824"
            }
          },
          "metadata": {}
        },
        {
          "output_type": "display_data",
          "data": {
            "text/plain": [],
            "text/html": [
              "<pre style=\"white-space:pre;overflow-x:auto;line-height:normal;font-family:Menlo,'DejaVu Sans Mono',consolas,'Courier New',monospace\"></pre>\n"
            ]
          },
          "metadata": {}
        },
        {
          "output_type": "stream",
          "name": "stdout",
          "text": [
            "0.0\n"
          ]
        }
      ]
    },
    {
      "cell_type": "code",
      "source": [
        "\n",
        "from deepeval.synthesizer import Synthesizer\n",
        "from deepeval.dataset import EvaluationDataset\n",
        "\n",
        "synthesizer = Synthesizer()\n",
        "goldens = synthesizer.generate_goldens_from_docs(document_paths=['/content/Diwali - Wikipedia.pdf'])\n",
        "\n",
        "dataset = EvaluationDataset(goldens=goldens)"
      ],
      "metadata": {
        "colab": {
          "base_uri": "https://localhost:8080/",
          "height": 295
        },
        "id": "fZya5csxedN3",
        "outputId": "c506d4e9-bd25-4769-a707-4191c8e880a3"
      },
      "execution_count": null,
      "outputs": [
        {
          "output_type": "stream",
          "name": "stderr",
          "text": [
            "✨ 🚀 ✨ Loading Documents: 100%|██████████| 1/1 [00:09<00:00,  9.82s/it]\n",
            "✨ 📚 ✨ Chunking Documents: 100%|██████████| 1/1 [00:03<00:00,  3.70s/it]\n",
            "✨ 🧩 ✨ Generating Contexts:   0%|          | 0/9 [00:00<?, ?it/s]\n",
            "✨ 🧩 ✨ Generating Contexts:  56%|█████▌    | 5/9 [00:01<00:01,  3.90it/s]\n",
            "  ✨ 🫗 ✨ Filling Contexts:  17%|█▋        | 1/6 [00:02<00:11,  2.39s/it]\u001b[A\n",
            "  ✨ 🫗 ✨ Filling Contexts:  50%|█████     | 3/6 [00:02<00:02,  1.31it/s]\u001b[A\n",
            "  ✨ 🫗 ✨ Filling Contexts:  83%|████████▎ | 5/6 [00:03<00:00,  1.77it/s]\u001b[A\n",
            "✨ 🧩 ✨ Generating Contexts: 100%|██████████| 9/9 [00:03<00:00,  2.54it/s]\n"
          ]
        },
        {
          "output_type": "display_data",
          "data": {
            "text/plain": [
              "Utilizing \u001b[1;36m9\u001b[0m out of \u001b[1;36m50\u001b[0m chunks.\n"
            ],
            "text/html": [
              "<pre style=\"white-space:pre;overflow-x:auto;line-height:normal;font-family:Menlo,'DejaVu Sans Mono',consolas,'Courier New',monospace\">Utilizing <span style=\"color: #008080; text-decoration-color: #008080; font-weight: bold\">9</span> out of <span style=\"color: #008080; text-decoration-color: #008080; font-weight: bold\">50</span> chunks.\n",
              "</pre>\n"
            ]
          },
          "metadata": {}
        },
        {
          "output_type": "stream",
          "name": "stderr",
          "text": [
            "✨ Generating up to 6 goldens using DeepEval (using gpt-4o and text-embedding-3-small, method=docs):  17%|█▋        | 1/6 [00:08<00:42,  8.48s/it]ERROR:root:OpenAI Error: Error code: 429 - {'error': {'message': 'Rate limit reached for gpt-4o in organization org-VxwfSaIZ7gLnAsbaBUs3WgIR on tokens per min (TPM): Limit 30000, Used 28947, Requested 2940. Please try again in 3.774s. Visit https://platform.openai.com/account/rate-limits to learn more.', 'type': 'tokens', 'param': None, 'code': 'rate_limit_exceeded'}} Retrying: 1 time(s)...\n",
            "ERROR:root:OpenAI Error: Error code: 429 - {'error': {'message': 'Rate limit reached for gpt-4o in organization org-VxwfSaIZ7gLnAsbaBUs3WgIR on tokens per min (TPM): Limit 30000, Used 28683, Requested 3198. Please try again in 3.762s. Visit https://platform.openai.com/account/rate-limits to learn more.', 'type': 'tokens', 'param': None, 'code': 'rate_limit_exceeded'}} Retrying: 1 time(s)...\n",
            "✨ Generating up to 6 goldens using DeepEval (using gpt-4o and text-embedding-3-small, method=docs):  33%|███▎      | 2/6 [00:18<00:38,  9.66s/it]ERROR:root:OpenAI Error: Error code: 429 - {'error': {'message': 'Rate limit reached for gpt-4o in organization org-VxwfSaIZ7gLnAsbaBUs3WgIR on tokens per min (TPM): Limit 30000, Used 29118, Requested 3198. Please try again in 4.632s. Visit https://platform.openai.com/account/rate-limits to learn more.', 'type': 'tokens', 'param': None, 'code': 'rate_limit_exceeded'}} Retrying: 2 time(s)...\n",
            "✨ Generating up to 6 goldens using DeepEval (using gpt-4o and text-embedding-3-small, method=docs):  50%|█████     | 3/6 [00:30<00:30, 10.33s/it]ERROR:root:OpenAI Error: Error code: 429 - {'error': {'message': 'Rate limit reached for gpt-4o in organization org-VxwfSaIZ7gLnAsbaBUs3WgIR on tokens per min (TPM): Limit 30000, Used 29103, Requested 3198. Please try again in 4.602s. Visit https://platform.openai.com/account/rate-limits to learn more.', 'type': 'tokens', 'param': None, 'code': 'rate_limit_exceeded'}} Retrying: 3 time(s)...\n",
            "✨ Generating up to 6 goldens using DeepEval (using gpt-4o and text-embedding-3-small, method=docs): 100%|██████████| 6/6 [01:02<00:00, 10.48s/it]\n"
          ]
        }
      ]
    },
    {
      "cell_type": "code",
      "source": [],
      "metadata": {
        "id": "la8VEjP3kQkh"
      },
      "execution_count": null,
      "outputs": []
    }
  ]
}