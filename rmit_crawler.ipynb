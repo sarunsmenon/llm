{
  "nbformat": 4,
  "nbformat_minor": 0,
  "metadata": {
    "colab": {
      "provenance": [],
      "collapsed_sections": [
        "xp9HTyGbatnA",
        "r83D1HmvbAp6",
        "PIocC45pa79X",
        "gf54sQxhqBWr",
        "cLyTDzx3pqyO",
        "2lqQwV48uRQb",
        "scyOQLDXp5FH",
        "NtcruXHdyyGV",
        "e1fGxDmvYikB",
        "AuEFU6ZE0gBn",
        "EMRv8Xalp8Ph"
      ],
      "mount_file_id": "1JwouI1n6DDRY92KlbH_sS6Je1RiaVSc_",
      "authorship_tag": "ABX9TyM8aD6moy/TFbkFXu4p26E3",
      "include_colab_link": true
    },
    "kernelspec": {
      "name": "python3",
      "display_name": "Python 3"
    },
    "language_info": {
      "name": "python"
    }
  },
  "cells": [
    {
      "cell_type": "markdown",
      "metadata": {
        "id": "view-in-github",
        "colab_type": "text"
      },
      "source": [
        "<a href=\"https://colab.research.google.com/github/sarunsmenon/llm/blob/main/rmit_crawler.ipynb\" target=\"_parent\"><img src=\"https://colab.research.google.com/assets/colab-badge.svg\" alt=\"Open In Colab\"/></a>"
      ]
    },
    {
      "cell_type": "markdown",
      "source": [
        "# Install Libraries"
      ],
      "metadata": {
        "id": "jP-K_H3Caozn"
      }
    },
    {
      "cell_type": "code",
      "source": [
        "!pip install -q python-dotenv openai langchain-openai cohere langchain langchain_community pypdf faiss-gpu wikipedia-api faiss-cpu wikipedia langchainhub unstructured playwright uuid7"
      ],
      "metadata": {
        "id": "6e7oK6EaO4kH"
      },
      "execution_count": 49,
      "outputs": []
    },
    {
      "cell_type": "markdown",
      "source": [
        "# Load Libraries"
      ],
      "metadata": {
        "id": "xp9HTyGbatnA"
      }
    },
    {
      "cell_type": "code",
      "source": [
        "import requests\n",
        "from bs4 import BeautifulSoup\n",
        "from urllib.parse import urljoin"
      ],
      "metadata": {
        "id": "1dNPjEP2asgj"
      },
      "execution_count": 31,
      "outputs": []
    },
    {
      "cell_type": "code",
      "source": [
        "import os\n",
        "from langchain_openai import ChatOpenAI\n",
        "from dotenv import load_dotenv, find_dotenv\n",
        "from google.colab import userdata\n",
        "import pickle\n",
        "\n",
        "from langchain_core.prompts import ChatPromptTemplate\n",
        "from langchain_core.output_parsers import JsonOutputParser\n",
        "from langchain_core.pydantic_v1 import BaseModel, Field"
      ],
      "metadata": {
        "id": "lUtbBrLhaxy8"
      },
      "execution_count": 32,
      "outputs": []
    },
    {
      "cell_type": "code",
      "source": [
        "from langchain_community.vectorstores import FAISS\n",
        "from langchain_openai import OpenAIEmbeddings\n",
        "from langchain_community.document_loaders import PyPDFLoader, WikipediaLoader\n",
        "from langchain.text_splitter import CharacterTextSplitter\n",
        "from langchain.tools.retriever import create_retriever_tool\n",
        "\n",
        "from langchain_community.document_loaders import UnstructuredURLLoader\n",
        "from langchain.agents import create_tool_calling_agent\n",
        "from langchain.agents import AgentExecutor\n",
        "\n",
        "from langchain import hub\n",
        "from langchain_core.messages import AIMessage, HumanMessage\n",
        "from langchain_community.chat_message_histories import ChatMessageHistory\n",
        "from langchain_core.runnables.history import RunnableWithMessageHistory\n",
        "\n",
        "from uuid_extensions import uuid7str\n"
      ],
      "metadata": {
        "id": "GxR_M_A3a3p0"
      },
      "execution_count": 50,
      "outputs": []
    },
    {
      "cell_type": "markdown",
      "source": [
        "# Load Variables"
      ],
      "metadata": {
        "id": "r83D1HmvbAp6"
      }
    },
    {
      "cell_type": "code",
      "source": [
        "llm_model = 'gpt-3.5-turbo-0301'\n",
        "llm = ChatOpenAI(model=llm_model, temperature=0)\n",
        "os.environ['OPENAI_API_KEY'] = userdata.get('open_ai_key')\n",
        "prompt_template = \"hwchase17/openai-functions-agent\"\n",
        "\n",
        "os.environ['LANGCHAIN_TRACING_V2']=\"true\"\n",
        "os.environ['LANGCHAIN_API_KEY']=userdata.get('langsmith_api_key')\n",
        "\n",
        "fldr = '/content/drive/MyDrive/Colab Notebooks/Langchain/rmit/'\n",
        "session_id = uuid7str()"
      ],
      "metadata": {
        "id": "_mZViSdybAV9"
      },
      "execution_count": 51,
      "outputs": []
    },
    {
      "cell_type": "code",
      "source": [
        "# Start crawling from the initial URL\n",
        "start_url = 'https://www.rmit.edu.au/'\n",
        "ignore_lst = ['rmit.edu.vn', 'rmit.edu.eu', 'rmit.eu']\n",
        "max_pg_lmt = 500\n",
        "db_name = \"faiss_rmit_db\""
      ],
      "metadata": {
        "id": "Hv23mRdPa7M0"
      },
      "execution_count": 35,
      "outputs": []
    },
    {
      "cell_type": "markdown",
      "source": [
        "# Load Functions"
      ],
      "metadata": {
        "id": "PIocC45pa79X"
      }
    },
    {
      "cell_type": "code",
      "execution_count": 36,
      "metadata": {
        "id": "g7WX5QgKN26v",
        "collapsed": true
      },
      "outputs": [],
      "source": [
        "# Function to get all links from a page\n",
        "def get_all_links(url):\n",
        "    response = requests.get(url)\n",
        "    soup = BeautifulSoup(response.content, 'html.parser')\n",
        "    links = [a.get('href') for a in soup.find_all('a', href=True)]\n",
        "    full_links = [urljoin(url, link) for link in links]\n",
        "    return full_links"
      ]
    },
    {
      "cell_type": "code",
      "source": [
        "# Function to crawl the website\n",
        "def crawl_website(start_url, max_pages=max_pg_lmt):\n",
        "    itr = 0\n",
        "\n",
        "    visited = set()\n",
        "    to_visit = [start_url]\n",
        "\n",
        "    while to_visit and len(visited) < max_pages:\n",
        "      url = to_visit.pop(0)\n",
        "      if any( [url for site in ignore_lst if site in url]) or (url in visited):\n",
        "          continue\n",
        "      visited.add(url)\n",
        "      try:\n",
        "        links = get_all_links(url)\n",
        "        to_visit.extend(links)\n",
        "      except:\n",
        "        continue\n",
        "\n",
        "      itr += 1\n",
        "      if itr % 100 == 0:\n",
        "        print(f\"Visited {len(visited)}: {url}\")\n",
        "\n",
        "    return visited"
      ],
      "metadata": {
        "id": "pIyPhSvzvWJD"
      },
      "execution_count": 37,
      "outputs": []
    },
    {
      "cell_type": "code",
      "source": [
        "def extract_process_url(url):\n",
        "  loader = UnstructuredURLLoader(urls=[url])\n",
        "  data = loader.load()\n",
        "\n",
        "  text_splitter = CharacterTextSplitter(\n",
        "                chunk_size=1000,\n",
        "                chunk_overlap=5,\n",
        "                separator= \"\\n\\n\",\n",
        "                length_function=len,\n",
        "                is_separator_regex=False\n",
        "              )\n",
        "\n",
        "  docs = text_splitter.split_documents(data)\n",
        "  return docs\n"
      ],
      "metadata": {
        "id": "wpogUfZkvXML"
      },
      "execution_count": 38,
      "outputs": []
    },
    {
      "cell_type": "code",
      "source": [
        "def store_doc_into_db(docs, faiss_rmit_db):\n",
        "  if faiss_rmit_db is None:\n",
        "    faiss_rmit_db = FAISS.from_documents(docs, OpenAIEmbeddings())\n",
        "  else:\n",
        "    faiss_rmit_db.add_documents(docs)\n",
        "\n",
        "  return faiss_rmit_db\n"
      ],
      "metadata": {
        "id": "XpIGN7Advo3i"
      },
      "execution_count": 39,
      "outputs": []
    },
    {
      "cell_type": "code",
      "source": [
        "def generate_chat_response(message, local_session_id):\n",
        "  result = agent_with_chat_history.invoke({\"input\": message}, config={\"configurable\": {\"session_id\": local_session_id}})\n",
        "  return result['output']"
      ],
      "metadata": {
        "id": "_qznuQJh3cZu"
      },
      "execution_count": 69,
      "outputs": []
    },
    {
      "cell_type": "markdown",
      "source": [
        "# Create URL Lists"
      ],
      "metadata": {
        "id": "gf54sQxhqBWr"
      }
    },
    {
      "cell_type": "code",
      "source": [
        "visited_urls = crawl_website(start_url)\n",
        "print(f\"Total visited URLs: {len(visited_urls)}\")"
      ],
      "metadata": {
        "id": "HOvWuTNiN_af",
        "colab": {
          "base_uri": "https://localhost:8080/"
        },
        "outputId": "184f3bec-0e93-4e3f-8c43-0342a7261f1a"
      },
      "execution_count": null,
      "outputs": [
        {
          "output_type": "stream",
          "name": "stdout",
          "text": [
            "Visited 101: https://www.rmit.edu.au/life-at-rmit/student-for-a-day\n",
            "Visited 202: https://www.rmit.edu.au/students/my-course\n",
            "Visited 302: https://www.rmit.edu.au/alumni/alumni-faqs\n",
            "Visited 402: https://rmit.primo.exlibrisgroup.com/discovery/account?vid=61RMIT_INST:RMITU§ion=overview&lang=en\n",
            "Total visited URLs: 500\n"
          ]
        }
      ]
    },
    {
      "cell_type": "code",
      "source": [
        "with open(fldr+\"url_list.pkl\", \"wb\") as f:\n",
        "    pickle.dump(visited_urls, f)"
      ],
      "metadata": {
        "id": "0xc8prpvq6ul"
      },
      "execution_count": null,
      "outputs": []
    },
    {
      "cell_type": "code",
      "source": [
        "with open(fldr+\"url_list.pkl\", \"rb\") as f:\n",
        "    visited_urls = list(pickle.load(f))\n",
        "\n",
        "error_url_lst = []"
      ],
      "metadata": {
        "id": "u1VRXmTKrANa"
      },
      "execution_count": 11,
      "outputs": []
    },
    {
      "cell_type": "code",
      "source": [
        "print(f\"Total visited URLs: {len(visited_urls)}\")"
      ],
      "metadata": {
        "colab": {
          "base_uri": "https://localhost:8080/"
        },
        "id": "RWd52bT8rTgq",
        "outputId": "8bdfc1da-cc6b-4ae9-af09-f2eac790e64d"
      },
      "execution_count": 12,
      "outputs": [
        {
          "output_type": "stream",
          "name": "stdout",
          "text": [
            "Total visited URLs: 500\n"
          ]
        }
      ]
    },
    {
      "cell_type": "markdown",
      "source": [
        "# Create Database"
      ],
      "metadata": {
        "id": "cLyTDzx3pqyO"
      }
    },
    {
      "cell_type": "code",
      "source": [
        "if os.path.exists(fldr+db_name):\n",
        "  faiss_rmit_db = FAISS.load_local(fldr+db_name,embeddings=OpenAIEmbeddings(), allow_dangerous_deserialization=True)\n",
        "  print(\"DB already exists\")\n",
        "else:\n",
        "  faiss_rmit_db = None\n",
        "  print(\"create a new database because none exists\")\n"
      ],
      "metadata": {
        "colab": {
          "base_uri": "https://localhost:8080/"
        },
        "id": "Od8mifCLrgHj",
        "outputId": "8089978b-8be4-4663-ead0-25c60ce7e284"
      },
      "execution_count": 14,
      "outputs": [
        {
          "output_type": "stream",
          "name": "stdout",
          "text": [
            "DB already exists\n"
          ]
        }
      ]
    },
    {
      "cell_type": "code",
      "source": [
        "for url in visited_urls[0:20]:\n",
        "  print(url)\n",
        "  try:\n",
        "    docs = extract_process_url(url)\n",
        "    faiss_rmit_db = store_doc_into_db(docs, faiss_rmit_db)\n",
        "  except:\n",
        "    error_url_lst.append(url)\n"
      ],
      "metadata": {
        "colab": {
          "base_uri": "https://localhost:8080/"
        },
        "id": "NeJUIdwEmcaZ",
        "outputId": "fc04a4a9-5266-4d13-c70e-43317a36b463"
      },
      "execution_count": null,
      "outputs": [
        {
          "output_type": "stream",
          "name": "stdout",
          "text": [
            "https://www.rmit.edu.au/news/all-news/2024/july/telstra-health-aged-care\n",
            "https://www.rmit.edu.au/study-with-us/business/digital3\n",
            "https://www.rmit.edu.au/library/study/copyright-advice\n",
            "https://www.rmit.edu.au/library/about-and-contacts/computers-and-study-spaces\n",
            "https://www.rmit.edu.au/library/research/strategic-publishing\n",
            "https://rmit.primo.exlibrisgroup.com/permalink/61RMIT_INST/1b6r78u/alma9915302290001341\n",
            "https://www.rmit.edu.au/library#tab3\n",
            "https://online.rmit.edu.au/courses?utm_campaign=RMIT%20Central&utm_source=rmit&utm_medium=referral&utm_content=mega-nav\n",
            "https://www.rmit.edu.au/library/borrowing-and-collections/collections\n",
            "https://www.rmit.edu.au/about/our-locations-and-facilities/locations/overseas/indonesia\n",
            "https://www.rmit.edu.au/library/about-and-contacts/makerspace\n",
            "https://www.rmit.edu.au/library/research/advice-training-and-support\n",
            "https://outlook.office.com/\n",
            "https://www.rmit.edu.au/study-with-us/levels-of-study/research-programs\n",
            "https://www.rmit.edu.au/staff\n",
            "https://www.rmit.edu.au/study-with-us/art\n",
            "http://rmit.libguides.com/design\n",
            "https://www.rmit.edu.au/#tab0\n",
            "https://www.rmit.edu.au/#topnav_skipcontent\n",
            "https://www.rmit.edu.au/study-with-us/international-students\n"
          ]
        }
      ]
    },
    {
      "cell_type": "markdown",
      "source": [
        "# Write Everything"
      ],
      "metadata": {
        "id": "2lqQwV48uRQb"
      }
    },
    {
      "cell_type": "code",
      "source": [
        "print(faiss_rmit_db)"
      ],
      "metadata": {
        "colab": {
          "base_uri": "https://localhost:8080/"
        },
        "id": "JQ9ADYyZxapM",
        "outputId": "e25e326d-471c-4f59-b47f-909bb8260bad"
      },
      "execution_count": null,
      "outputs": [
        {
          "output_type": "stream",
          "name": "stdout",
          "text": [
            "None\n"
          ]
        }
      ]
    },
    {
      "cell_type": "code",
      "source": [
        "FAISS.save_local(faiss_rmit_db, fldr+db_name)"
      ],
      "metadata": {
        "id": "kwfXp1hzubRi"
      },
      "execution_count": null,
      "outputs": []
    },
    {
      "cell_type": "code",
      "source": [
        "with open(fldr+\"error_urls.pkl\", \"wb\") as f:\n",
        "  pickle.dump(error_url_lst, f)"
      ],
      "metadata": {
        "id": "qePoEdRiuP2I"
      },
      "execution_count": null,
      "outputs": []
    },
    {
      "cell_type": "markdown",
      "source": [
        "# Create Retriever"
      ],
      "metadata": {
        "id": "scyOQLDXp5FH"
      }
    },
    {
      "cell_type": "code",
      "source": [
        "if os.path.exists(fldr+db_name):\n",
        "  faiss_rmit_db = FAISS.load_local(fldr+db_name,embeddings=OpenAIEmbeddings(), allow_dangerous_deserialization=True)\n",
        "else:\n",
        "  faiss_rmit_db = None"
      ],
      "metadata": {
        "id": "13s1qL-0ywkc"
      },
      "execution_count": 40,
      "outputs": []
    },
    {
      "cell_type": "code",
      "source": [
        "primary_retriever = faiss_rmit_db.as_retriever( search_type=\"similarity_score_threshold\",\n",
        "                            search_kwargs={\"score_threshold\": 0.5,\"k\": 1}\n",
        ")"
      ],
      "metadata": {
        "id": "C_uIbSSdou2t"
      },
      "execution_count": 41,
      "outputs": []
    },
    {
      "cell_type": "code",
      "source": [
        "primary_retriever.invoke(\"aged care prize\")"
      ],
      "metadata": {
        "colab": {
          "base_uri": "https://localhost:8080/"
        },
        "id": "yJEzN7o_o6hm",
        "outputId": "c4cf2f76-b5e4-4a22-ee07-19214dcb185c"
      },
      "execution_count": null,
      "outputs": [
        {
          "output_type": "execute_result",
          "data": {
            "text/plain": [
              "[Document(metadata={'source': 'https://www.rmit.edu.au/news/all-news/2024/july/telstra-health-aged-care'}, page_content='The innovation reliably detects deterioration in frail aged care residents, marking the introduction of clinical decision support software to predict deterioration – already used in acute care settings – into aged care.\\n\\nThe tool has the capacity to automatically monitor both structured and free-text electronic patient records for 36 evidence-based indicators of deterioration, making it the most reliable tool of its kind developed to date.\\n\\nAs well as providing aged care staff with a frailty index for each resident, the system can also identify specific alerts for their risk of falls, depression and mortality.\\n\\nAlessandro Luongo (DHCRC), Hui Mathews (DHCRC), Dr Tabinda Sarwar (RMIT), Vickie Irving (Telstra Health), Dr Jocelyn Ling (DHCRC), Dr Clare Morgan (DHCRC), Judith Ngai (DHCRC) at the Cooperative Research Australia awards in Brisbane.')]"
            ]
          },
          "metadata": {},
          "execution_count": 51
        }
      ]
    },
    {
      "cell_type": "code",
      "source": [
        "primary_retriever.invoke(\"how to get rmit scholarship\")"
      ],
      "metadata": {
        "colab": {
          "base_uri": "https://localhost:8080/"
        },
        "id": "HZI8fIrMpH53",
        "outputId": "a8864dce-df3b-468c-c37e-6e4425c39152"
      },
      "execution_count": null,
      "outputs": [
        {
          "output_type": "execute_result",
          "data": {
            "text/plain": [
              "[Document(metadata={'source': 'https://www.rmit.edu.au/study-with-us/applying-to-rmit/local-student-applications/scholarships'}, page_content='Workforce development\\nCollaborate with RMIT\\nResearch partnerships\\nFacilities, equipment and services\\nContact Industry Engagement\\nGiving to RMIT\\nInternational\\nStudy in Australia\\nApply to RMIT as an international student\\nCourses for international students\\nInternational student enquiries\\nFees and scholarships for international students\\nInternational student services\\nKey dates for international students\\nFrequently asked questions\\nScholarships\\nAchieve your study goals with a scholarship. Each year scholarships are awarded to thousands of new and continuing students across RMIT program areas.\\nAchieve your study goals with a scholarship. Each year scholarships are awarded to thousands of new and continuing students across RMIT program areas.\\nStudy with us / Applying to RMIT / Local student applications / Scholarships\\nAchieve your study goals with a scholarship. Each year scholarships are awarded to thousands of new and continuing students across RMIT program areas.')]"
            ]
          },
          "metadata": {},
          "execution_count": 23
        }
      ]
    },
    {
      "cell_type": "markdown",
      "source": [
        "# Agents"
      ],
      "metadata": {
        "id": "NtcruXHdyyGV"
      }
    },
    {
      "cell_type": "code",
      "source": [
        "rmit_tool = create_retriever_tool(\n",
        "    primary_retriever,\n",
        "    \"rmit_search\",\n",
        "    \"Search for information about RMIT\"\n",
        ")"
      ],
      "metadata": {
        "id": "pxx8GB6jzzzg"
      },
      "execution_count": 42,
      "outputs": []
    },
    {
      "cell_type": "code",
      "source": [
        "tools = [rmit_tool ]"
      ],
      "metadata": {
        "id": "ER_w73amyxoW"
      },
      "execution_count": 43,
      "outputs": []
    },
    {
      "cell_type": "code",
      "source": [
        "# Get the prompt to use - you can modify this!\n",
        "prompt = hub.pull(prompt_template)\n",
        "prompt.messages"
      ],
      "metadata": {
        "colab": {
          "base_uri": "https://localhost:8080/"
        },
        "id": "d7PIWPJC0NJR",
        "outputId": "57fd2e21-f2d3-4f67-f41c-432cc0f317af"
      },
      "execution_count": 44,
      "outputs": [
        {
          "output_type": "execute_result",
          "data": {
            "text/plain": [
              "[SystemMessagePromptTemplate(prompt=PromptTemplate(input_variables=[], template='You are a helpful assistant')),\n",
              " MessagesPlaceholder(variable_name='chat_history', optional=True),\n",
              " HumanMessagePromptTemplate(prompt=PromptTemplate(input_variables=['input'], template='{input}')),\n",
              " MessagesPlaceholder(variable_name='agent_scratchpad')]"
            ]
          },
          "metadata": {},
          "execution_count": 44
        }
      ]
    },
    {
      "cell_type": "code",
      "source": [
        "agent = create_tool_calling_agent(llm, tools, prompt)\n",
        "agent_executor = AgentExecutor(agent=agent, tools=tools, verbose=True)"
      ],
      "metadata": {
        "id": "1vkokBFU0aM1"
      },
      "execution_count": 45,
      "outputs": []
    },
    {
      "cell_type": "markdown",
      "source": [
        "# Chat History"
      ],
      "metadata": {
        "id": "e1fGxDmvYikB"
      }
    },
    {
      "cell_type": "code",
      "source": [
        "agent_with_chat_history = RunnableWithMessageHistory(\n",
        "    agent_executor,\n",
        "    # This is needed because in most real world scenarios, a session id is needed\n",
        "    # It isn't really used here because we are using a simple in memory ChatMessageHistory\n",
        "    lambda session_id: ChatMessageHistory(),\n",
        "    input_messages_key=\"input\",\n",
        "    history_messages_key=\"chat_history\",\n",
        ")"
      ],
      "metadata": {
        "id": "zDHFaiXZY3cH"
      },
      "execution_count": 25,
      "outputs": []
    },
    {
      "cell_type": "markdown",
      "source": [
        "# Execution"
      ],
      "metadata": {
        "id": "AuEFU6ZE0gBn"
      }
    },
    {
      "cell_type": "code",
      "source": [
        "input_qn  = \"Hi\"\n",
        "while input_qn != \"exit\":\n",
        "  print(f\" Input qn is : {input_qn}\")\n",
        "  input_qn = input(\"Enter a message (to finish use exit): \")\n",
        "  print(generate_chat_response(input_qn, session_id))"
      ],
      "metadata": {
        "colab": {
          "base_uri": "https://localhost:8080/"
        },
        "id": "HNKA5gtN0KlG",
        "outputId": "b2a5d82f-cc7f-46ec-eeac-30cafb009955"
      },
      "execution_count": 68,
      "outputs": [
        {
          "output_type": "stream",
          "name": "stdout",
          "text": [
            " Input qn is : Hi\n",
            "Enter a message (to finish use exit): did rmit win any aged care prize\n",
            "\n",
            "\n",
            "\u001b[1m> Entering new AgentExecutor chain...\u001b[0m\n",
            "\u001b[32;1m\u001b[1;3m\n",
            "Invoking: `rmit_search` with `{'query': 'RMIT aged care prize'}`\n",
            "\n",
            "\n",
            "\u001b[0m\u001b[36;1m\u001b[1;3mTrailblazing digital health collaboration to improve aged care wins national prize\n",
            "\n",
            "SKIP TO CONTENT\n",
            "\n",
            "Search\n",
            "\n",
            "RMIT Australia\n",
            "\n",
            "RMIT Europe\n",
            "\n",
            "RMIT Global\n",
            "\n",
            "RMIT Vietnam\n",
            "\n",
            "Study online\n",
            "\n",
            "Students\n",
            "\n",
            "Alumni\n",
            "\n",
            "Staff\n",
            "\n",
            "Library\n",
            "\n",
            "RMIT Online\n",
            "\n",
            "Courses\n",
            "\n",
            "Courses by study area\n",
            "\n",
            "Undergraduate courses\n",
            "\n",
            "Postgraduate courses\n",
            "\n",
            "Vocational studies\n",
            "\n",
            "Short courses\n",
            "\n",
            "Pre-university studies\n",
            "\n",
            "Online courses and degrees\n",
            "\n",
            "Entry pathways\n",
            "\n",
            "Courses for international students\n",
            "\n",
            "Study with us\n",
            "\n",
            "How to apply\n",
            "\n",
            "Fees\n",
            "\n",
            "Scholarships\n",
            "\n",
            "School leaver information\n",
            "\n",
            "Student services\n",
            "\n",
            "Student experience\n",
            "\n",
            "Key dates\n",
            "\n",
            "Frequently asked questions\n",
            "\n",
            "Parents\n",
            "\n",
            "Career advisers\n",
            "\n",
            "Life at RMIT\n",
            "\n",
            "Study experience\n",
            "\n",
            "Student life\n",
            "\n",
            "Support for students\n",
            "\n",
            "Global opportunities\n",
            "\n",
            "Industry connections\n",
            "\n",
            "About\n",
            "\n",
            "News\n",
            "\n",
            "Events\n",
            "\n",
            "Maps\n",
            "\n",
            "Careers\n",
            "\n",
            "Contact us\n",
            "\n",
            "Our strategy\n",
            "\n",
            "Governance & management\n",
            "\n",
            "Schools & colleges\n",
            "\n",
            "Respect for Australian Indigenous cultures\n",
            "\n",
            "Our locations and facilities\n",
            "\n",
            "Our heritage\n",
            "\n",
            "Research\n",
            "\n",
            "Our research\n",
            "\n",
            "Partnerships\n",
            "\n",
            "Impact\n",
            "\n",
            "Contact\u001b[0m\u001b[32;1m\u001b[1;3mYes, RMIT won a national prize for their collaboration in digital health to improve aged care. It was a trailblazing initiative that was recognized with a national prize. If you would like more information on this, please let me know.\u001b[0m\n",
            "\n",
            "\u001b[1m> Finished chain.\u001b[0m\n",
            "Yes, RMIT won a national prize for their collaboration in digital health to improve aged care. It was a trailblazing initiative that was recognized with a national prize. If you would like more information on this, please let me know.\n",
            " Input qn is : did rmit win any aged care prize\n",
            "Enter a message (to finish use exit): what is weather today\n",
            "\n",
            "\n",
            "\u001b[1m> Entering new AgentExecutor chain...\u001b[0m\n",
            "\u001b[32;1m\u001b[1;3m\n",
            "Invoking: `rmit_search` with `{'query': 'weather today'}`\n",
            "\n",
            "\n",
            "\u001b[0m\u001b[36;1m\u001b[1;3mFutureproof your career and build new skills with RMIT short courses and microcredentials, standalone courses you can study online or in person.\n",
            "\n",
            "Events Chat to Study@RMIT Enquire\n",
            "\n",
            "Ready to apply?\n",
            "\n",
            "Enquire\n",
            "\n",
            "Ready to apply?\n",
            "\n",
            "Acknowledgement of Country\n",
            "\n",
            "RMIT University acknowledges the people of the Woi wurrung and Boon wurrung language groups of the eastern Kulin Nation on whose unceded lands we conduct the business of the University. RMIT University respectfully acknowledges their Ancestors and Elders, past and present. RMIT also acknowledges the Traditional Custodians and their Ancestors of the lands and waters across Australia where we conduct our business - Artwork 'Luwaytini' by Mark Cleaver, Palawa.\n",
            "\n",
            "More information\n",
            "\n",
            "Acknowledgement of Country\u001b[0m\u001b[32;1m\u001b[1;3mIt seems like the search results did not provide the weather information for today. If you would like, I can try to look up the weather information for you using a different approach. Would you like me to do that?\u001b[0m\n",
            "\n",
            "\u001b[1m> Finished chain.\u001b[0m\n",
            "It seems like the search results did not provide the weather information for today. If you would like, I can try to look up the weather information for you using a different approach. Would you like me to do that?\n",
            " Input qn is : what is weather today\n",
            "Enter a message (to finish use exit): yes\n",
            "\n",
            "\n",
            "\u001b[1m> Entering new AgentExecutor chain...\u001b[0m\n",
            "\u001b[32;1m\u001b[1;3m\n",
            "Invoking: `rmit_search` with `{'query': 'weather today'}`\n",
            "\n",
            "\n",
            "\u001b[0m\u001b[36;1m\u001b[1;3mFutureproof your career and build new skills with RMIT short courses and microcredentials, standalone courses you can study online or in person.\n",
            "\n",
            "Events Chat to Study@RMIT Enquire\n",
            "\n",
            "Ready to apply?\n",
            "\n",
            "Enquire\n",
            "\n",
            "Ready to apply?\n",
            "\n",
            "Acknowledgement of Country\n",
            "\n",
            "RMIT University acknowledges the people of the Woi wurrung and Boon wurrung language groups of the eastern Kulin Nation on whose unceded lands we conduct the business of the University. RMIT University respectfully acknowledges their Ancestors and Elders, past and present. RMIT also acknowledges the Traditional Custodians and their Ancestors of the lands and waters across Australia where we conduct our business - Artwork 'Luwaytini' by Mark Cleaver, Palawa.\n",
            "\n",
            "More information\n",
            "\n",
            "Acknowledgement of Country\u001b[0m\u001b[32;1m\u001b[1;3m\n",
            "Invoking: `rmit_search` with `{'query': 'weather forecast today'}`\n",
            "responded: It seems like the search results did not provide the weather information for today. Let me try another method to find the weather information for you. Please give me a moment.\n",
            "\n",
            "\u001b[0m\u001b[36;1m\u001b[1;3mAccess to the upper level is via the Mobility Access Lift situated to the right of the escalator at the Swanston Street entrance to Building 12 and 14. Ground Level is 2B. Please take the lift to Level 3 and turn left at the end of the corridor.\n",
            "\n",
            "Maps\n",
            "\n",
            "Melbourne Campus maps and buildings\n",
            "\n",
            "City Campus mobility map (PDF, 433 KB)\n",
            "\n",
            "Opening hours\n",
            "\n",
            "Monday-Friday: 10am-4pm (closed: 1pm-1:30pm)\n",
            "\n",
            "Weekends and public holidays: closed.\n",
            "\n",
            "Calendar view\n",
            "\n",
            "Contact us\n",
            "\n",
            "Email us if you have any questions.\n",
            "\n",
            "library.sites@rmit.edu.au\n",
            "\n",
            "Makerspace virtual tour\n",
            "\n",
            "You can check out the Library Makerspace before you visit. To navigate, use the mouse or tab/enter and arrow keys.\n",
            "\n",
            "Take the virtual tour\n",
            "\n",
            "Acknowledgement of Country\u001b[0m\u001b[32;1m\u001b[1;3m\n",
            "Invoking: `rmit_search` with `{'query': 'Melbourne weather today'}`\n",
            "responded: It seems like the search results did not provide the weather forecast for today. Let me try one more time to find the weather information for you. Please bear with me for a moment.\n",
            "\n",
            "\u001b[0m\u001b[36;1m\u001b[1;3mAccess to the upper level is via the Mobility Access Lift situated to the right of the escalator at the Swanston Street entrance to Building 12 and 14. Ground Level is 2B. Please take the lift to Level 3 and turn left at the end of the corridor.\n",
            "\n",
            "Maps\n",
            "\n",
            "Melbourne Campus maps and buildings\n",
            "\n",
            "City Campus mobility map (PDF, 433 KB)\n",
            "\n",
            "Opening hours\n",
            "\n",
            "Monday-Friday: 10am-4pm (closed: 1pm-1:30pm)\n",
            "\n",
            "Weekends and public holidays: closed.\n",
            "\n",
            "Calendar view\n",
            "\n",
            "Contact us\n",
            "\n",
            "Email us if you have any questions.\n",
            "\n",
            "library.sites@rmit.edu.au\n",
            "\n",
            "Makerspace virtual tour\n",
            "\n",
            "You can check out the Library Makerspace before you visit. To navigate, use the mouse or tab/enter and arrow keys.\n",
            "\n",
            "Take the virtual tour\n",
            "\n",
            "Acknowledgement of Country\u001b[0m\u001b[32;1m\u001b[1;3m\n",
            "Invoking: `rmit_search` with `{'query': 'current weather forecast'}`\n",
            "responded: It seems like the search results did not provide the weather forecast for today. Let me try one more time to find the weather information for you. Please bear with me for a moment.\n",
            "\n",
            "\u001b[0m\u001b[36;1m\u001b[1;3mAustralia’s first electronic screening and risk prediction tool for deterioration in aged care residents has won a national prize for its impact on health and safety.\n",
            "\n",
            "Read article\n",
            "\n",
            "Acknowledgement of Country\n",
            "\n",
            "RMIT University acknowledges the people of the Woi wurrung and Boon wurrung language groups of the eastern Kulin Nation on whose unceded lands we conduct the business of the University. RMIT University respectfully acknowledges their Ancestors and Elders, past and present. RMIT also acknowledges the Traditional Custodians and their Ancestors of the lands and waters across Australia where we conduct our business - Artwork 'Luwaytini' by Mark Cleaver, Palawa.\n",
            "\n",
            "More information\n",
            "\n",
            "Acknowledgement of Country\u001b[0m\u001b[32;1m\u001b[1;3mI apologize for the inconvenience, but it seems like the search results did not provide the weather information for today. If you have any other questions or need assistance with something else, feel free to let me know. I'm here to help!\u001b[0m\n",
            "\n",
            "\u001b[1m> Finished chain.\u001b[0m\n",
            "I apologize for the inconvenience, but it seems like the search results did not provide the weather information for today. If you have any other questions or need assistance with something else, feel free to let me know. I'm here to help!\n",
            " Input qn is : yes\n",
            "Enter a message (to finish use exit): where is rmit\n",
            "\n",
            "\n",
            "\u001b[1m> Entering new AgentExecutor chain...\u001b[0m\n",
            "\u001b[32;1m\u001b[1;3m\n",
            "Invoking: `rmit_search` with `{'query': 'location'}`\n",
            "\n",
            "\n",
            "\u001b[0m\u001b[36;1m\u001b[1;3mExplore strategies and resources to develop fundamental skills in time management, goal setting, research planning, cultivating supervisory relationships and maintaining a healthy work-life balance.\n",
            "\n",
            "Go to the new Research Writing module\n",
            "\n",
            "Visualise Your Thesis (VYT) competition is on!\n",
            "\n",
            "Create a 60-second, eye-catching video explaining your research to a general audience for a chance to win cash. The first prize winner’s entry will also go into the international VYT competition.\n",
            "\n",
            "Interested? Find out more!\n",
            "\n",
            "RMIT University Archives virtual tour\n",
            "\n",
            "Visit RMIT's state of the art Archives facility located in Bundoora in this online, interactive tour. To navigate, click and drag to explore each 3D space, or tab to move between interactive points.\n",
            "\n",
            "Take the virtual tour\n",
            "\n",
            "Acknowledgement of Country\u001b[0m\u001b[32;1m\u001b[1;3mRMIT University is located in Bundoora. If you need more specific information or details about the location of RMIT, please let me know!\u001b[0m\n",
            "\n",
            "\u001b[1m> Finished chain.\u001b[0m\n",
            "RMIT University is located in Bundoora. If you need more specific information or details about the location of RMIT, please let me know!\n",
            " Input qn is : where is rmit\n",
            "Enter a message (to finish use exit): rmit research program\n",
            "\n",
            "\n",
            "\u001b[1m> Entering new AgentExecutor chain...\u001b[0m\n",
            "\u001b[32;1m\u001b[1;3m\n",
            "Invoking: `rmit_search` with `{'query': 'research program'}`\n",
            "\n",
            "\n",
            "\u001b[0m\u001b[36;1m\u001b[1;3mRMIT research programs involve comprehensive, independent research under the supervision of an expert academic. At RMIT, you can do your research program by project or thesis mode. The duration is usually 2 years full time for Masters and 4 years full time for doctoral (PhD) studies.\n",
            "\n",
            "Choose a study area\n",
            "\n",
            "Architecture\n",
            "\n",
            "Art\n",
            "\n",
            "Aviation\n",
            "\n",
            "Biomedical sciences\n",
            "\n",
            "Building\n",
            "\n",
            "Business\n",
            "\n",
            "Communication\n",
            "\n",
            "Design\n",
            "\n",
            "Education\n",
            "\n",
            "Engineering\n",
            "\n",
            "Environment\n",
            "\n",
            "Fashion\n",
            "\n",
            "Health\n",
            "\n",
            "Information technology\n",
            "\n",
            "Law\n",
            "\n",
            "Media\n",
            "\n",
            "Property\n",
            "\n",
            "Psychology\n",
            "\n",
            "Science\n",
            "\n",
            "Social and community\n",
            "\n",
            "Choose a study area\n",
            "\n",
            "Architecture\n",
            "\n",
            "Art\n",
            "\n",
            "Aviation\n",
            "\n",
            "Biomedical sciences\n",
            "\n",
            "Building\n",
            "\n",
            "Business\n",
            "\n",
            "Communication\n",
            "\n",
            "Design\n",
            "\n",
            "Education\n",
            "\n",
            "Engineering\n",
            "\n",
            "Environment\n",
            "\n",
            "Fashion\n",
            "\n",
            "Health\n",
            "\n",
            "Information technology\n",
            "\n",
            "Law\n",
            "\n",
            "Media\n",
            "\n",
            "Property\n",
            "\n",
            "Psychology\n",
            "\n",
            "Science\n",
            "\n",
            "Social and community\n",
            "\n",
            "A degree with a global impact\u001b[0m\u001b[32;1m\u001b[1;3mRMIT offers a variety of research programs across different study areas such as Architecture, Art, Aviation, Biomedical Sciences, Business, Communication, Design, Education, Engineering, Environment, Fashion, Health, Information Technology, Law, Media, Property, Psychology, Science, and Social and Community. These research programs involve comprehensive, independent research under the supervision of expert academics. The duration of the programs is typically 2 years full-time for Masters and 4 years full-time for doctoral (PhD) studies.\n",
            "\n",
            "If you have a specific area of interest or would like more detailed information about a particular research program at RMIT, feel free to let me know!\u001b[0m\n",
            "\n",
            "\u001b[1m> Finished chain.\u001b[0m\n",
            "RMIT offers a variety of research programs across different study areas such as Architecture, Art, Aviation, Biomedical Sciences, Business, Communication, Design, Education, Engineering, Environment, Fashion, Health, Information Technology, Law, Media, Property, Psychology, Science, and Social and Community. These research programs involve comprehensive, independent research under the supervision of expert academics. The duration of the programs is typically 2 years full-time for Masters and 4 years full-time for doctoral (PhD) studies.\n",
            "\n",
            "If you have a specific area of interest or would like more detailed information about a particular research program at RMIT, feel free to let me know!\n",
            " Input qn is : rmit research program\n",
            "Enter a message (to finish use exit): about mathematics\n",
            "\n",
            "\n",
            "\u001b[1m> Entering new AgentExecutor chain...\u001b[0m\n",
            "\u001b[32;1m\u001b[1;3m\n",
            "Invoking: `rmit_search` with `{'query': 'mathematics research program at RMIT'}`\n",
            "\n",
            "\n",
            "\u001b[0m\u001b[36;1m\u001b[1;3mRMIT research programs involve comprehensive, independent research under the supervision of an expert academic. At RMIT, you can do your research program by project or thesis mode. The duration is usually 2 years full time for Masters and 4 years full time for doctoral (PhD) studies.\n",
            "\n",
            "Choose a study area\n",
            "\n",
            "Architecture\n",
            "\n",
            "Art\n",
            "\n",
            "Aviation\n",
            "\n",
            "Biomedical sciences\n",
            "\n",
            "Building\n",
            "\n",
            "Business\n",
            "\n",
            "Communication\n",
            "\n",
            "Design\n",
            "\n",
            "Education\n",
            "\n",
            "Engineering\n",
            "\n",
            "Environment\n",
            "\n",
            "Fashion\n",
            "\n",
            "Health\n",
            "\n",
            "Information technology\n",
            "\n",
            "Law\n",
            "\n",
            "Media\n",
            "\n",
            "Property\n",
            "\n",
            "Psychology\n",
            "\n",
            "Science\n",
            "\n",
            "Social and community\n",
            "\n",
            "Choose a study area\n",
            "\n",
            "Architecture\n",
            "\n",
            "Art\n",
            "\n",
            "Aviation\n",
            "\n",
            "Biomedical sciences\n",
            "\n",
            "Building\n",
            "\n",
            "Business\n",
            "\n",
            "Communication\n",
            "\n",
            "Design\n",
            "\n",
            "Education\n",
            "\n",
            "Engineering\n",
            "\n",
            "Environment\n",
            "\n",
            "Fashion\n",
            "\n",
            "Health\n",
            "\n",
            "Information technology\n",
            "\n",
            "Law\n",
            "\n",
            "Media\n",
            "\n",
            "Property\n",
            "\n",
            "Psychology\n",
            "\n",
            "Science\n",
            "\n",
            "Social and community\n",
            "\n",
            "A degree with a global impact\u001b[0m\u001b[32;1m\u001b[1;3mRMIT offers research programs in mathematics as part of its comprehensive range of study areas. These research programs involve independent research under the supervision of expert academics. The duration of the programs is typically 2 years full-time for Masters and 4 years full-time for doctoral (PhD) studies.\n",
            "\n",
            "If you are interested in pursuing a research program in mathematics at RMIT or would like more specific information about the mathematics research programs available, please let me know!\u001b[0m\n",
            "\n",
            "\u001b[1m> Finished chain.\u001b[0m\n",
            "RMIT offers research programs in mathematics as part of its comprehensive range of study areas. These research programs involve independent research under the supervision of expert academics. The duration of the programs is typically 2 years full-time for Masters and 4 years full-time for doctoral (PhD) studies.\n",
            "\n",
            "If you are interested in pursuing a research program in mathematics at RMIT or would like more specific information about the mathematics research programs available, please let me know!\n",
            " Input qn is : about mathematics\n",
            "Enter a message (to finish use exit): how many phds\n",
            "\n",
            "\n",
            "\u001b[1m> Entering new AgentExecutor chain...\u001b[0m\n",
            "\u001b[32;1m\u001b[1;3m\n",
            "Invoking: `rmit_search` with `{'query': 'mathematics PhD programs at RMIT'}`\n",
            "\n",
            "\n",
            "\u001b[0m\u001b[36;1m\u001b[1;3mApprenticeships and traineeships\n",
            "\n",
            "Vocational study\n",
            "\n",
            "Undergraduate study\n",
            "\n",
            "Postgraduate study\n",
            "\n",
            "Research programs\n",
            "\n",
            "Four things to look for when choosing a PhD or Masters by Research degree\n",
            "\n",
            "Innovation is at the heart of so many RMIT courses and none more so than in the newly redeveloped curriculum in the University’s research degrees.\n",
            "\n",
            "Read more\n",
            "\n",
            "Acknowledgement of Country\n",
            "\n",
            "RMIT University acknowledges the people of the Woi wurrung and Boon wurrung language groups of the eastern Kulin Nation on whose unceded lands we conduct the business of the University. RMIT University respectfully acknowledges their Ancestors and Elders, past and present. RMIT also acknowledges the Traditional Custodians and their Ancestors of the lands and waters across Australia where we conduct our business - Artwork 'Luwaytini' by Mark Cleaver, Palawa.\n",
            "\n",
            "More information\n",
            "\n",
            "Acknowledgement of Country\u001b[0m\u001b[32;1m\u001b[1;3mIt seems that the search results did not provide specific information about the number of mathematics PhD programs at RMIT. If you would like, I can try to search for this information using a different approach. Would you like me to do that?\u001b[0m\n",
            "\n",
            "\u001b[1m> Finished chain.\u001b[0m\n",
            "It seems that the search results did not provide specific information about the number of mathematics PhD programs at RMIT. If you would like, I can try to search for this information using a different approach. Would you like me to do that?\n",
            " Input qn is : how many phds\n",
            "Enter a message (to finish use exit): how to go to library\n",
            "\n",
            "\n",
            "\u001b[1m> Entering new AgentExecutor chain...\u001b[0m\n",
            "\u001b[32;1m\u001b[1;3m\n",
            "Invoking: `rmit_search` with `{'query': 'RMIT library location'}`\n",
            "\n",
            "\n",
            "\u001b[0m\u001b[36;1m\u001b[1;3mLibrary\n",
            "\n",
            "SKIP TO CONTENT\n",
            "\n",
            "Search RMIT\n",
            "\n",
            "RMIT Australia\n",
            "\n",
            "RMIT Europe\n",
            "\n",
            "RMIT Global\n",
            "\n",
            "RMIT Vietnam\n",
            "\n",
            "Study online\n",
            "\n",
            "Students\n",
            "\n",
            "Alumni\n",
            "\n",
            "Staff\n",
            "\n",
            "Library\n",
            "\n",
            "RMIT Online\n",
            "\n",
            "Borrowing and collections\n",
            "\n",
            "Membership terms and conditions\n",
            "\n",
            "Holds, renewals, returns and overdues\n",
            "\n",
            "Collections\n",
            "\n",
            "Get resources from other libraries\n",
            "\n",
            "Study\n",
            "\n",
            "Referencing\n",
            "\n",
            "Copyright advice\n",
            "\n",
            "Library orientation\n",
            "\n",
            "Disability and neurodiversity support\n",
            "\n",
            "Teach\n",
            "\n",
            "Reading lists\n",
            "\n",
            "Support for your course\n",
            "\n",
            "Support for your students\n",
            "\n",
            "Guides and training\n",
            "\n",
            "Open education\n",
            "\n",
            "Research\n",
            "\n",
            "Advice, training and support\n",
            "\n",
            "Research writing\n",
            "\n",
            "Open research\n",
            "\n",
            "Research repository\n",
            "\n",
            "Research data management\n",
            "\n",
            "Searching, referencing and copyright\n",
            "\n",
            "Researcher profiles and ORCID\n",
            "\n",
            "Strategic publishing\n",
            "\n",
            "Research metrics and Altmetrics\n",
            "\n",
            "About and contacts\n",
            "\n",
            "Ask the Library\n",
            "\n",
            "Hours and locations\n",
            "\n",
            "Computers and study spaces\n",
            "\n",
            "Makerspace\n",
            "\n",
            "About the library\n",
            "\n",
            "Library feedback and suggestions\n",
            "\n",
            "Inclusion and safety\n",
            "\n",
            "Library\n",
            "\n",
            "Home / Library\n",
            "\n",
            "Find books, articles and more\n",
            "\n",
            "LibrarySearch\u001b[0m\u001b[32;1m\u001b[1;3mTo go to the RMIT library, you can visit one of the library locations on campus. The library locations and hours can be found on the RMIT Library website. You can also use LibrarySearch to find books, articles, and other resources available at the RMIT library.\n",
            "\n",
            "If you need more specific directions or information on how to access the library at RMIT, please let me know!\u001b[0m\n",
            "\n",
            "\u001b[1m> Finished chain.\u001b[0m\n",
            "To go to the RMIT library, you can visit one of the library locations on campus. The library locations and hours can be found on the RMIT Library website. You can also use LibrarySearch to find books, articles, and other resources available at the RMIT library.\n",
            "\n",
            "If you need more specific directions or information on how to access the library at RMIT, please let me know!\n",
            " Input qn is : how to go to library\n",
            "Enter a message (to finish use exit): give me library url\n",
            "\n",
            "\n",
            "\u001b[1m> Entering new AgentExecutor chain...\u001b[0m\n",
            "\u001b[32;1m\u001b[1;3m\n",
            "Invoking: `rmit_search` with `{'query': 'RMIT library website'}`\n",
            "\n",
            "\n",
            "\u001b[0m\u001b[36;1m\u001b[1;3mLibrary\n",
            "\n",
            "SKIP TO CONTENT\n",
            "\n",
            "Search RMIT\n",
            "\n",
            "RMIT Australia\n",
            "\n",
            "RMIT Europe\n",
            "\n",
            "RMIT Global\n",
            "\n",
            "RMIT Vietnam\n",
            "\n",
            "Study online\n",
            "\n",
            "Students\n",
            "\n",
            "Alumni\n",
            "\n",
            "Staff\n",
            "\n",
            "Library\n",
            "\n",
            "RMIT Online\n",
            "\n",
            "Borrowing and collections\n",
            "\n",
            "Membership terms and conditions\n",
            "\n",
            "Holds, renewals, returns and overdues\n",
            "\n",
            "Collections\n",
            "\n",
            "Get resources from other libraries\n",
            "\n",
            "Study\n",
            "\n",
            "Referencing\n",
            "\n",
            "Copyright advice\n",
            "\n",
            "Library orientation\n",
            "\n",
            "Disability and neurodiversity support\n",
            "\n",
            "Teach\n",
            "\n",
            "Reading lists\n",
            "\n",
            "Support for your course\n",
            "\n",
            "Support for your students\n",
            "\n",
            "Guides and training\n",
            "\n",
            "Open education\n",
            "\n",
            "Research\n",
            "\n",
            "Advice, training and support\n",
            "\n",
            "Research writing\n",
            "\n",
            "Open research\n",
            "\n",
            "Research repository\n",
            "\n",
            "Research data management\n",
            "\n",
            "Searching, referencing and copyright\n",
            "\n",
            "Researcher profiles and ORCID\n",
            "\n",
            "Strategic publishing\n",
            "\n",
            "Research metrics and Altmetrics\n",
            "\n",
            "About and contacts\n",
            "\n",
            "Ask the Library\n",
            "\n",
            "Hours and locations\n",
            "\n",
            "Computers and study spaces\n",
            "\n",
            "Makerspace\n",
            "\n",
            "About the library\n",
            "\n",
            "Library feedback and suggestions\n",
            "\n",
            "Inclusion and safety\n",
            "\n",
            "Library\n",
            "\n",
            "Home / Library\n",
            "\n",
            "Find books, articles and more\n",
            "\n",
            "LibrarySearch\u001b[0m\u001b[32;1m\u001b[1;3mYou can access the RMIT Library website by visiting the following URL: [RMIT Library](https://www.rmit.edu.au/library)\n",
            "\n",
            "This website provides access to various resources, services, and information related to the RMIT Library. If you have any specific queries or need assistance with using the library resources, feel free to let me know!\u001b[0m\n",
            "\n",
            "\u001b[1m> Finished chain.\u001b[0m\n",
            "You can access the RMIT Library website by visiting the following URL: [RMIT Library](https://www.rmit.edu.au/library)\n",
            "\n",
            "This website provides access to various resources, services, and information related to the RMIT Library. If you have any specific queries or need assistance with using the library resources, feel free to let me know!\n",
            " Input qn is : give me library url\n",
            "Enter a message (to finish use exit): exit\n",
            "\n",
            "\n",
            "\u001b[1m> Entering new AgentExecutor chain...\u001b[0m\n",
            "\u001b[32;1m\u001b[1;3mThank you for reaching out! If you have any more questions in the future or need assistance, feel free to return. Have a great day! Goodbye!\u001b[0m\n",
            "\n",
            "\u001b[1m> Finished chain.\u001b[0m\n",
            "Thank you for reaching out! If you have any more questions in the future or need assistance, feel free to return. Have a great day! Goodbye!\n"
          ]
        }
      ]
    },
    {
      "cell_type": "markdown",
      "source": [
        "# Testing"
      ],
      "metadata": {
        "id": "EMRv8Xalp8Ph"
      }
    },
    {
      "cell_type": "code",
      "source": [
        "from langchain_community.document_loaders import PlaywrightURLLoader\n",
        "\n",
        "urls = [\n",
        "    \"https://www.youtube.com/watch?v=dQw4w9WgXcQ\",\n",
        "    \"https://goo.gl/maps/NDSHwePEyaHMFGwh8\",\n",
        "]\n",
        "\n",
        "loader = PlaywrightURLLoader(urls=visited_urls, remove_selectors=[\"header\", \"footer\"])\n",
        "\n",
        "data = await loader.aload()\n"
      ],
      "metadata": {
        "colab": {
          "base_uri": "https://localhost:8080/",
          "height": 339
        },
        "id": "AwD72-X5Ber-",
        "outputId": "b8865ba9-2827-4a4a-bc13-30160e48d06f"
      },
      "execution_count": null,
      "outputs": [
        {
          "output_type": "stream",
          "name": "stderr",
          "text": [
            "ERROR:langchain_community.document_loaders.url_playwright:Error fetching or processing https://www.rmit.edu.au/staff, exception: Locator.all: Execution context was destroyed, most likely because of a navigation\n"
          ]
        },
        {
          "output_type": "error",
          "ename": "CancelledError",
          "evalue": "",
          "traceback": [
            "\u001b[0;31m---------------------------------------------------------------------------\u001b[0m",
            "\u001b[0;31mCancelledError\u001b[0m                            Traceback (most recent call last)",
            "\u001b[0;32m<ipython-input-16-db709e435e69>\u001b[0m in \u001b[0;36m<cell line: 10>\u001b[0;34m()\u001b[0m\n\u001b[1;32m      8\u001b[0m \u001b[0mloader\u001b[0m \u001b[0;34m=\u001b[0m \u001b[0mPlaywrightURLLoader\u001b[0m\u001b[0;34m(\u001b[0m\u001b[0murls\u001b[0m\u001b[0;34m=\u001b[0m\u001b[0mvisited_urls\u001b[0m\u001b[0;34m,\u001b[0m \u001b[0mremove_selectors\u001b[0m\u001b[0;34m=\u001b[0m\u001b[0;34m[\u001b[0m\u001b[0;34m\"header\"\u001b[0m\u001b[0;34m,\u001b[0m \u001b[0;34m\"footer\"\u001b[0m\u001b[0;34m]\u001b[0m\u001b[0;34m)\u001b[0m\u001b[0;34m\u001b[0m\u001b[0;34m\u001b[0m\u001b[0m\n\u001b[1;32m      9\u001b[0m \u001b[0;34m\u001b[0m\u001b[0m\n\u001b[0;32m---> 10\u001b[0;31m \u001b[0mdata\u001b[0m \u001b[0;34m=\u001b[0m \u001b[0;32mawait\u001b[0m \u001b[0mloader\u001b[0m\u001b[0;34m.\u001b[0m\u001b[0maload\u001b[0m\u001b[0;34m(\u001b[0m\u001b[0;34m)\u001b[0m\u001b[0;34m\u001b[0m\u001b[0;34m\u001b[0m\u001b[0m\n\u001b[0m",
            "\u001b[0;32m/usr/local/lib/python3.10/dist-packages/langchain_community/document_loaders/url_playwright.py\u001b[0m in \u001b[0;36maload\u001b[0;34m(self)\u001b[0m\n\u001b[1;32m    197\u001b[0m             \u001b[0mA\u001b[0m \u001b[0mlist\u001b[0m \u001b[0mof\u001b[0m \u001b[0mDocument\u001b[0m \u001b[0minstances\u001b[0m \u001b[0;32mwith\u001b[0m \u001b[0mloaded\u001b[0m \u001b[0mcontent\u001b[0m\u001b[0;34m.\u001b[0m\u001b[0;34m\u001b[0m\u001b[0;34m\u001b[0m\u001b[0m\n\u001b[1;32m    198\u001b[0m         \"\"\"\n\u001b[0;32m--> 199\u001b[0;31m         \u001b[0;32mreturn\u001b[0m \u001b[0;34m[\u001b[0m\u001b[0mdoc\u001b[0m \u001b[0;32masync\u001b[0m \u001b[0;32mfor\u001b[0m \u001b[0mdoc\u001b[0m \u001b[0;32min\u001b[0m \u001b[0mself\u001b[0m\u001b[0;34m.\u001b[0m\u001b[0malazy_load\u001b[0m\u001b[0;34m(\u001b[0m\u001b[0;34m)\u001b[0m\u001b[0;34m]\u001b[0m\u001b[0;34m\u001b[0m\u001b[0;34m\u001b[0m\u001b[0m\n\u001b[0m\u001b[1;32m    200\u001b[0m \u001b[0;34m\u001b[0m\u001b[0m\n\u001b[1;32m    201\u001b[0m     \u001b[0;32masync\u001b[0m \u001b[0;32mdef\u001b[0m \u001b[0malazy_load\u001b[0m\u001b[0;34m(\u001b[0m\u001b[0mself\u001b[0m\u001b[0;34m)\u001b[0m \u001b[0;34m->\u001b[0m \u001b[0mAsyncIterator\u001b[0m\u001b[0;34m[\u001b[0m\u001b[0mDocument\u001b[0m\u001b[0;34m]\u001b[0m\u001b[0;34m:\u001b[0m\u001b[0;34m\u001b[0m\u001b[0;34m\u001b[0m\u001b[0m\n",
            "\u001b[0;32m/usr/local/lib/python3.10/dist-packages/langchain_community/document_loaders/url_playwright.py\u001b[0m in \u001b[0;36m<listcomp>\u001b[0;34m(.0)\u001b[0m\n\u001b[1;32m    197\u001b[0m             \u001b[0mA\u001b[0m \u001b[0mlist\u001b[0m \u001b[0mof\u001b[0m \u001b[0mDocument\u001b[0m \u001b[0minstances\u001b[0m \u001b[0;32mwith\u001b[0m \u001b[0mloaded\u001b[0m \u001b[0mcontent\u001b[0m\u001b[0;34m.\u001b[0m\u001b[0;34m\u001b[0m\u001b[0;34m\u001b[0m\u001b[0m\n\u001b[1;32m    198\u001b[0m         \"\"\"\n\u001b[0;32m--> 199\u001b[0;31m         \u001b[0;32mreturn\u001b[0m \u001b[0;34m[\u001b[0m\u001b[0mdoc\u001b[0m \u001b[0;32masync\u001b[0m \u001b[0;32mfor\u001b[0m \u001b[0mdoc\u001b[0m \u001b[0;32min\u001b[0m \u001b[0mself\u001b[0m\u001b[0;34m.\u001b[0m\u001b[0malazy_load\u001b[0m\u001b[0;34m(\u001b[0m\u001b[0;34m)\u001b[0m\u001b[0;34m]\u001b[0m\u001b[0;34m\u001b[0m\u001b[0;34m\u001b[0m\u001b[0m\n\u001b[0m\u001b[1;32m    200\u001b[0m \u001b[0;34m\u001b[0m\u001b[0m\n\u001b[1;32m    201\u001b[0m     \u001b[0;32masync\u001b[0m \u001b[0;32mdef\u001b[0m \u001b[0malazy_load\u001b[0m\u001b[0;34m(\u001b[0m\u001b[0mself\u001b[0m\u001b[0;34m)\u001b[0m \u001b[0;34m->\u001b[0m \u001b[0mAsyncIterator\u001b[0m\u001b[0;34m[\u001b[0m\u001b[0mDocument\u001b[0m\u001b[0;34m]\u001b[0m\u001b[0;34m:\u001b[0m\u001b[0;34m\u001b[0m\u001b[0;34m\u001b[0m\u001b[0m\n",
            "\u001b[0;32m/usr/local/lib/python3.10/dist-packages/langchain_community/document_loaders/url_playwright.py\u001b[0m in \u001b[0;36malazy_load\u001b[0;34m(self)\u001b[0m\n\u001b[1;32m    213\u001b[0m                 \u001b[0;32mtry\u001b[0m\u001b[0;34m:\u001b[0m\u001b[0;34m\u001b[0m\u001b[0;34m\u001b[0m\u001b[0m\n\u001b[1;32m    214\u001b[0m                     \u001b[0mpage\u001b[0m \u001b[0;34m=\u001b[0m \u001b[0;32mawait\u001b[0m \u001b[0mbrowser\u001b[0m\u001b[0;34m.\u001b[0m\u001b[0mnew_page\u001b[0m\u001b[0;34m(\u001b[0m\u001b[0;34m)\u001b[0m\u001b[0;34m\u001b[0m\u001b[0;34m\u001b[0m\u001b[0m\n\u001b[0;32m--> 215\u001b[0;31m                     \u001b[0mresponse\u001b[0m \u001b[0;34m=\u001b[0m \u001b[0;32mawait\u001b[0m \u001b[0mpage\u001b[0m\u001b[0;34m.\u001b[0m\u001b[0mgoto\u001b[0m\u001b[0;34m(\u001b[0m\u001b[0murl\u001b[0m\u001b[0;34m)\u001b[0m\u001b[0;34m\u001b[0m\u001b[0;34m\u001b[0m\u001b[0m\n\u001b[0m\u001b[1;32m    216\u001b[0m                     \u001b[0;32mif\u001b[0m \u001b[0mresponse\u001b[0m \u001b[0;32mis\u001b[0m \u001b[0;32mNone\u001b[0m\u001b[0;34m:\u001b[0m\u001b[0;34m\u001b[0m\u001b[0;34m\u001b[0m\u001b[0m\n\u001b[1;32m    217\u001b[0m                         \u001b[0;32mraise\u001b[0m \u001b[0mValueError\u001b[0m\u001b[0;34m(\u001b[0m\u001b[0;34mf\"page.goto() returned None for url {url}\"\u001b[0m\u001b[0;34m)\u001b[0m\u001b[0;34m\u001b[0m\u001b[0;34m\u001b[0m\u001b[0m\n",
            "\u001b[0;32m/usr/local/lib/python3.10/dist-packages/playwright/async_api/_generated.py\u001b[0m in \u001b[0;36mgoto\u001b[0;34m(self, url, timeout, wait_until, referer)\u001b[0m\n\u001b[1;32m   8816\u001b[0m \u001b[0;34m\u001b[0m\u001b[0m\n\u001b[1;32m   8817\u001b[0m         return mapping.from_impl_nullable(\n\u001b[0;32m-> 8818\u001b[0;31m             await self._impl_obj.goto(\n\u001b[0m\u001b[1;32m   8819\u001b[0m                 \u001b[0murl\u001b[0m\u001b[0;34m=\u001b[0m\u001b[0murl\u001b[0m\u001b[0;34m,\u001b[0m \u001b[0mtimeout\u001b[0m\u001b[0;34m=\u001b[0m\u001b[0mtimeout\u001b[0m\u001b[0;34m,\u001b[0m \u001b[0mwaitUntil\u001b[0m\u001b[0;34m=\u001b[0m\u001b[0mwait_until\u001b[0m\u001b[0;34m,\u001b[0m \u001b[0mreferer\u001b[0m\u001b[0;34m=\u001b[0m\u001b[0mreferer\u001b[0m\u001b[0;34m\u001b[0m\u001b[0;34m\u001b[0m\u001b[0m\n\u001b[1;32m   8820\u001b[0m             )\n",
            "\u001b[0;32m/usr/local/lib/python3.10/dist-packages/playwright/_impl/_page.py\u001b[0m in \u001b[0;36mgoto\u001b[0;34m(self, url, timeout, waitUntil, referer)\u001b[0m\n\u001b[1;32m    522\u001b[0m         \u001b[0mreferer\u001b[0m\u001b[0;34m:\u001b[0m \u001b[0mstr\u001b[0m \u001b[0;34m=\u001b[0m \u001b[0;32mNone\u001b[0m\u001b[0;34m,\u001b[0m\u001b[0;34m\u001b[0m\u001b[0;34m\u001b[0m\u001b[0m\n\u001b[1;32m    523\u001b[0m     ) -> Optional[Response]:\n\u001b[0;32m--> 524\u001b[0;31m         \u001b[0;32mreturn\u001b[0m \u001b[0;32mawait\u001b[0m \u001b[0mself\u001b[0m\u001b[0;34m.\u001b[0m\u001b[0m_main_frame\u001b[0m\u001b[0;34m.\u001b[0m\u001b[0mgoto\u001b[0m\u001b[0;34m(\u001b[0m\u001b[0;34m**\u001b[0m\u001b[0mlocals_to_params\u001b[0m\u001b[0;34m(\u001b[0m\u001b[0mlocals\u001b[0m\u001b[0;34m(\u001b[0m\u001b[0;34m)\u001b[0m\u001b[0;34m)\u001b[0m\u001b[0;34m)\u001b[0m\u001b[0;34m\u001b[0m\u001b[0;34m\u001b[0m\u001b[0m\n\u001b[0m\u001b[1;32m    525\u001b[0m \u001b[0;34m\u001b[0m\u001b[0m\n\u001b[1;32m    526\u001b[0m     async def reload(\n",
            "\u001b[0;32m/usr/local/lib/python3.10/dist-packages/playwright/_impl/_frame.py\u001b[0m in \u001b[0;36mgoto\u001b[0;34m(self, url, timeout, waitUntil, referer)\u001b[0m\n\u001b[1;32m    143\u001b[0m             \u001b[0mOptional\u001b[0m\u001b[0;34m[\u001b[0m\u001b[0mResponse\u001b[0m\u001b[0;34m]\u001b[0m\u001b[0;34m,\u001b[0m\u001b[0;34m\u001b[0m\u001b[0;34m\u001b[0m\u001b[0m\n\u001b[1;32m    144\u001b[0m             from_nullable_channel(\n\u001b[0;32m--> 145\u001b[0;31m                 \u001b[0;32mawait\u001b[0m \u001b[0mself\u001b[0m\u001b[0;34m.\u001b[0m\u001b[0m_channel\u001b[0m\u001b[0;34m.\u001b[0m\u001b[0msend\u001b[0m\u001b[0;34m(\u001b[0m\u001b[0;34m\"goto\"\u001b[0m\u001b[0;34m,\u001b[0m \u001b[0mlocals_to_params\u001b[0m\u001b[0;34m(\u001b[0m\u001b[0mlocals\u001b[0m\u001b[0;34m(\u001b[0m\u001b[0;34m)\u001b[0m\u001b[0;34m)\u001b[0m\u001b[0;34m)\u001b[0m\u001b[0;34m\u001b[0m\u001b[0;34m\u001b[0m\u001b[0m\n\u001b[0m\u001b[1;32m    146\u001b[0m             ),\n\u001b[1;32m    147\u001b[0m         )\n",
            "\u001b[0;32m/usr/local/lib/python3.10/dist-packages/playwright/_impl/_connection.py\u001b[0m in \u001b[0;36msend\u001b[0;34m(self, method, params)\u001b[0m\n\u001b[1;32m     57\u001b[0m \u001b[0;34m\u001b[0m\u001b[0m\n\u001b[1;32m     58\u001b[0m     \u001b[0;32masync\u001b[0m \u001b[0;32mdef\u001b[0m \u001b[0msend\u001b[0m\u001b[0;34m(\u001b[0m\u001b[0mself\u001b[0m\u001b[0;34m,\u001b[0m \u001b[0mmethod\u001b[0m\u001b[0;34m:\u001b[0m \u001b[0mstr\u001b[0m\u001b[0;34m,\u001b[0m \u001b[0mparams\u001b[0m\u001b[0;34m:\u001b[0m \u001b[0mDict\u001b[0m \u001b[0;34m=\u001b[0m \u001b[0;32mNone\u001b[0m\u001b[0;34m)\u001b[0m \u001b[0;34m->\u001b[0m \u001b[0mAny\u001b[0m\u001b[0;34m:\u001b[0m\u001b[0;34m\u001b[0m\u001b[0;34m\u001b[0m\u001b[0m\n\u001b[0;32m---> 59\u001b[0;31m         return await self._connection.wrap_api_call(\n\u001b[0m\u001b[1;32m     60\u001b[0m             \u001b[0;32mlambda\u001b[0m\u001b[0;34m:\u001b[0m \u001b[0mself\u001b[0m\u001b[0;34m.\u001b[0m\u001b[0minner_send\u001b[0m\u001b[0;34m(\u001b[0m\u001b[0mmethod\u001b[0m\u001b[0;34m,\u001b[0m \u001b[0mparams\u001b[0m\u001b[0;34m,\u001b[0m \u001b[0;32mFalse\u001b[0m\u001b[0;34m)\u001b[0m\u001b[0;34m\u001b[0m\u001b[0;34m\u001b[0m\u001b[0m\n\u001b[1;32m     61\u001b[0m         )\n",
            "\u001b[0;32m/usr/local/lib/python3.10/dist-packages/playwright/_impl/_connection.py\u001b[0m in \u001b[0;36mwrap_api_call\u001b[0;34m(self, cb, is_internal)\u001b[0m\n\u001b[1;32m    510\u001b[0m         \u001b[0mself\u001b[0m\u001b[0;34m.\u001b[0m\u001b[0m_api_zone\u001b[0m\u001b[0;34m.\u001b[0m\u001b[0mset\u001b[0m\u001b[0;34m(\u001b[0m\u001b[0mparsed_st\u001b[0m\u001b[0;34m)\u001b[0m\u001b[0;34m\u001b[0m\u001b[0;34m\u001b[0m\u001b[0m\n\u001b[1;32m    511\u001b[0m         \u001b[0;32mtry\u001b[0m\u001b[0;34m:\u001b[0m\u001b[0;34m\u001b[0m\u001b[0;34m\u001b[0m\u001b[0m\n\u001b[0;32m--> 512\u001b[0;31m             \u001b[0;32mreturn\u001b[0m \u001b[0;32mawait\u001b[0m \u001b[0mcb\u001b[0m\u001b[0;34m(\u001b[0m\u001b[0;34m)\u001b[0m\u001b[0;34m\u001b[0m\u001b[0;34m\u001b[0m\u001b[0m\n\u001b[0m\u001b[1;32m    513\u001b[0m         \u001b[0;32mexcept\u001b[0m \u001b[0mException\u001b[0m \u001b[0;32mas\u001b[0m \u001b[0merror\u001b[0m\u001b[0;34m:\u001b[0m\u001b[0;34m\u001b[0m\u001b[0;34m\u001b[0m\u001b[0m\n\u001b[1;32m    514\u001b[0m             \u001b[0;32mraise\u001b[0m \u001b[0mrewrite_error\u001b[0m\u001b[0;34m(\u001b[0m\u001b[0merror\u001b[0m\u001b[0;34m,\u001b[0m \u001b[0;34mf\"{parsed_st['apiName']}: {error}\"\u001b[0m\u001b[0;34m)\u001b[0m \u001b[0;32mfrom\u001b[0m \u001b[0;32mNone\u001b[0m\u001b[0;34m\u001b[0m\u001b[0;34m\u001b[0m\u001b[0m\n",
            "\u001b[0;32m/usr/local/lib/python3.10/dist-packages/playwright/_impl/_connection.py\u001b[0m in \u001b[0;36minner_send\u001b[0;34m(self, method, params, return_as_dict)\u001b[0m\n\u001b[1;32m     86\u001b[0m             \u001b[0mself\u001b[0m\u001b[0;34m.\u001b[0m\u001b[0m_object\u001b[0m\u001b[0;34m,\u001b[0m \u001b[0mmethod\u001b[0m\u001b[0;34m,\u001b[0m \u001b[0m_filter_none\u001b[0m\u001b[0;34m(\u001b[0m\u001b[0mparams\u001b[0m\u001b[0;34m)\u001b[0m\u001b[0;34m\u001b[0m\u001b[0;34m\u001b[0m\u001b[0m\n\u001b[1;32m     87\u001b[0m         )\n\u001b[0;32m---> 88\u001b[0;31m         done, _ = await asyncio.wait(\n\u001b[0m\u001b[1;32m     89\u001b[0m             {\n\u001b[1;32m     90\u001b[0m                 \u001b[0mself\u001b[0m\u001b[0;34m.\u001b[0m\u001b[0m_connection\u001b[0m\u001b[0;34m.\u001b[0m\u001b[0m_transport\u001b[0m\u001b[0;34m.\u001b[0m\u001b[0mon_error_future\u001b[0m\u001b[0;34m,\u001b[0m\u001b[0;34m\u001b[0m\u001b[0;34m\u001b[0m\u001b[0m\n",
            "\u001b[0;32m/usr/lib/python3.10/asyncio/tasks.py\u001b[0m in \u001b[0;36mwait\u001b[0;34m(fs, timeout, return_when)\u001b[0m\n\u001b[1;32m    382\u001b[0m     \u001b[0mfs\u001b[0m \u001b[0;34m=\u001b[0m \u001b[0;34m{\u001b[0m\u001b[0mensure_future\u001b[0m\u001b[0;34m(\u001b[0m\u001b[0mf\u001b[0m\u001b[0;34m,\u001b[0m \u001b[0mloop\u001b[0m\u001b[0;34m=\u001b[0m\u001b[0mloop\u001b[0m\u001b[0;34m)\u001b[0m \u001b[0;32mfor\u001b[0m \u001b[0mf\u001b[0m \u001b[0;32min\u001b[0m \u001b[0mfs\u001b[0m\u001b[0;34m}\u001b[0m\u001b[0;34m\u001b[0m\u001b[0;34m\u001b[0m\u001b[0m\n\u001b[1;32m    383\u001b[0m \u001b[0;34m\u001b[0m\u001b[0m\n\u001b[0;32m--> 384\u001b[0;31m     \u001b[0;32mreturn\u001b[0m \u001b[0;32mawait\u001b[0m \u001b[0m_wait\u001b[0m\u001b[0;34m(\u001b[0m\u001b[0mfs\u001b[0m\u001b[0;34m,\u001b[0m \u001b[0mtimeout\u001b[0m\u001b[0;34m,\u001b[0m \u001b[0mreturn_when\u001b[0m\u001b[0;34m,\u001b[0m \u001b[0mloop\u001b[0m\u001b[0;34m)\u001b[0m\u001b[0;34m\u001b[0m\u001b[0;34m\u001b[0m\u001b[0m\n\u001b[0m\u001b[1;32m    385\u001b[0m \u001b[0;34m\u001b[0m\u001b[0m\n\u001b[1;32m    386\u001b[0m \u001b[0;34m\u001b[0m\u001b[0m\n",
            "\u001b[0;32m/usr/lib/python3.10/asyncio/tasks.py\u001b[0m in \u001b[0;36m_wait\u001b[0;34m(fs, timeout, return_when, loop)\u001b[0m\n\u001b[1;32m    489\u001b[0m \u001b[0;34m\u001b[0m\u001b[0m\n\u001b[1;32m    490\u001b[0m     \u001b[0;32mtry\u001b[0m\u001b[0;34m:\u001b[0m\u001b[0;34m\u001b[0m\u001b[0;34m\u001b[0m\u001b[0m\n\u001b[0;32m--> 491\u001b[0;31m         \u001b[0;32mawait\u001b[0m \u001b[0mwaiter\u001b[0m\u001b[0;34m\u001b[0m\u001b[0;34m\u001b[0m\u001b[0m\n\u001b[0m\u001b[1;32m    492\u001b[0m     \u001b[0;32mfinally\u001b[0m\u001b[0;34m:\u001b[0m\u001b[0;34m\u001b[0m\u001b[0;34m\u001b[0m\u001b[0m\n\u001b[1;32m    493\u001b[0m         \u001b[0;32mif\u001b[0m \u001b[0mtimeout_handle\u001b[0m \u001b[0;32mis\u001b[0m \u001b[0;32mnot\u001b[0m \u001b[0;32mNone\u001b[0m\u001b[0;34m:\u001b[0m\u001b[0;34m\u001b[0m\u001b[0;34m\u001b[0m\u001b[0m\n",
            "\u001b[0;31mCancelledError\u001b[0m: "
          ]
        }
      ]
    },
    {
      "cell_type": "code",
      "source": [
        "from langchain.vectorstores import FAISS\n",
        "from langchain.embeddings import OpenAIEmbeddings\n",
        "import requests\n",
        "\n",
        "# Initialize embeddings and FAISS vector store\n",
        "embeddings = OpenAIEmbeddings()\n",
        "faiss_store = FAISS(embedding_function=embeddings)\n",
        "\n",
        "# Function to fetch content from a URL and add it to the FAISS vector store\n",
        "def fetch_and_add_to_faiss(url, faiss_store):\n",
        "    try:\n",
        "        response = requests.get(url)\n",
        "        response.raise_for_status()\n",
        "        text = response.text\n",
        "        faiss_store.add_texts([text])\n",
        "        print(f\"Added content from {url} to FAISS store.\")\n",
        "    except requests.exceptions.RequestException as e:\n",
        "        print(f\"Error fetching data from {url}: {e}\")\n",
        "\n"
      ],
      "metadata": {
        "colab": {
          "base_uri": "https://localhost:8080/",
          "height": 211
        },
        "id": "2ouM3CqYC0vG",
        "outputId": "2ef0c430-8f11-477e-b6f5-c7388a67fbb5"
      },
      "execution_count": null,
      "outputs": [
        {
          "output_type": "error",
          "ename": "TypeError",
          "evalue": "FAISS.__init__() missing 3 required positional arguments: 'index', 'docstore', and 'index_to_docstore_id'",
          "traceback": [
            "\u001b[0;31m---------------------------------------------------------------------------\u001b[0m",
            "\u001b[0;31mTypeError\u001b[0m                                 Traceback (most recent call last)",
            "\u001b[0;32m<ipython-input-19-54b895043dac>\u001b[0m in \u001b[0;36m<cell line: 7>\u001b[0;34m()\u001b[0m\n\u001b[1;32m      5\u001b[0m \u001b[0;31m# Initialize embeddings and FAISS vector store\u001b[0m\u001b[0;34m\u001b[0m\u001b[0;34m\u001b[0m\u001b[0m\n\u001b[1;32m      6\u001b[0m \u001b[0membeddings\u001b[0m \u001b[0;34m=\u001b[0m \u001b[0mOpenAIEmbeddings\u001b[0m\u001b[0;34m(\u001b[0m\u001b[0;34m)\u001b[0m\u001b[0;34m\u001b[0m\u001b[0;34m\u001b[0m\u001b[0m\n\u001b[0;32m----> 7\u001b[0;31m \u001b[0mfaiss_store\u001b[0m \u001b[0;34m=\u001b[0m \u001b[0mFAISS\u001b[0m\u001b[0;34m(\u001b[0m\u001b[0membedding_function\u001b[0m\u001b[0;34m=\u001b[0m \u001b[0mOpenAIEmbeddings\u001b[0m\u001b[0;34m(\u001b[0m\u001b[0;34m)\u001b[0m\u001b[0;34m)\u001b[0m\u001b[0;34m\u001b[0m\u001b[0;34m\u001b[0m\u001b[0m\n\u001b[0m\u001b[1;32m      8\u001b[0m \u001b[0;34m\u001b[0m\u001b[0m\n\u001b[1;32m      9\u001b[0m \u001b[0;31m# Function to fetch content from a URL and add it to the FAISS vector store\u001b[0m\u001b[0;34m\u001b[0m\u001b[0;34m\u001b[0m\u001b[0m\n",
            "\u001b[0;31mTypeError\u001b[0m: FAISS.__init__() missing 3 required positional arguments: 'index', 'docstore', and 'index_to_docstore_id'"
          ]
        }
      ]
    },
    {
      "cell_type": "code",
      "source": [
        "# Process each URL and add to the FAISS store\n",
        "for url in visited_urls:\n",
        "    fetch_and_add_to_faiss(url, faiss_store)\n",
        "\n",
        "print(f\"FAISS vector store now contains {faiss_store.index.ntotal} vectors.\")\n",
        "\n",
        "# Save the FAISS vector store\n",
        "faiss_store.save(\"faiss_store.pkl\")\n"
      ],
      "metadata": {
        "id": "LLatznORDBGm"
      },
      "execution_count": null,
      "outputs": []
    },
    {
      "cell_type": "code",
      "source": [
        "with open(fldr+\"visited_urls.pkl\", \"wb\") as f:\n",
        "    pickle.dump(visited_urls, f)"
      ],
      "metadata": {
        "id": "lIDruWCwoMdJ"
      },
      "execution_count": null,
      "outputs": []
    },
    {
      "cell_type": "code",
      "source": [
        "\n",
        "with open(fldr+\"visited_urls.pkl\", \"rb\") as f:\n",
        "    visited_urls = pickle.load(f)"
      ],
      "metadata": {
        "id": "vmnVPwcJiiHQ"
      },
      "execution_count": null,
      "outputs": []
    },
    {
      "cell_type": "code",
      "source": [],
      "metadata": {
        "id": "QgUBhNXYZsb0"
      },
      "execution_count": null,
      "outputs": []
    }
  ]
}