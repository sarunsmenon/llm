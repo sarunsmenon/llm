{
  "nbformat": 4,
  "nbformat_minor": 0,
  "metadata": {
    "colab": {
      "provenance": [],
      "collapsed_sections": [
        "jP-K_H3Caozn",
        "xp9HTyGbatnA",
        "PIocC45pa79X",
        "DWR-6GA0nXlZ",
        "gf54sQxhqBWr",
        "cLyTDzx3pqyO",
        "2lqQwV48uRQb",
        "scyOQLDXp5FH",
        "NtcruXHdyyGV"
      ],
      "mount_file_id": "1vT8nQX7tA6u1V_Oc01fKw5Lm4GDF2GUU",
      "authorship_tag": "ABX9TyPZGsVC05OH7Zd2GrkOmxij",
      "include_colab_link": true
    },
    "kernelspec": {
      "name": "python3",
      "display_name": "Python 3"
    },
    "language_info": {
      "name": "python"
    }
  },
  "cells": [
    {
      "cell_type": "markdown",
      "metadata": {
        "id": "view-in-github",
        "colab_type": "text"
      },
      "source": [
        "<a href=\"https://colab.research.google.com/github/sarunsmenon/llm/blob/main/telstra_support_crawler.ipynb\" target=\"_parent\"><img src=\"https://colab.research.google.com/assets/colab-badge.svg\" alt=\"Open In Colab\"/></a>"
      ]
    },
    {
      "cell_type": "markdown",
      "source": [
        "# Install Libraries"
      ],
      "metadata": {
        "id": "jP-K_H3Caozn"
      }
    },
    {
      "cell_type": "code",
      "source": [
        "!pip install -q python-dotenv openai langchain-openai cohere langchain langchain_community pypdf faiss-gpu wikipedia-api faiss-cpu wikipedia langchainhub unstructured playwright uuid7"
      ],
      "metadata": {
        "id": "6e7oK6EaO4kH"
      },
      "execution_count": 1,
      "outputs": []
    },
    {
      "cell_type": "markdown",
      "source": [
        "# Load Libraries"
      ],
      "metadata": {
        "id": "xp9HTyGbatnA"
      }
    },
    {
      "cell_type": "code",
      "source": [
        "import requests\n",
        "from bs4 import BeautifulSoup\n",
        "from urllib.parse import urljoin\n",
        "import textwrap"
      ],
      "metadata": {
        "id": "1dNPjEP2asgj"
      },
      "execution_count": 2,
      "outputs": []
    },
    {
      "cell_type": "code",
      "source": [
        "from langchain_core.pydantic_v1 import BaseModel, Field\n",
        "from typing import List\n",
        "from langchain_core.messages import BaseMessage, AIMessage"
      ],
      "metadata": {
        "id": "ImsFezUDVkvx"
      },
      "execution_count": 3,
      "outputs": []
    },
    {
      "cell_type": "code",
      "source": [
        "import os\n",
        "from langchain_openai import ChatOpenAI\n",
        "from dotenv import load_dotenv, find_dotenv\n",
        "from google.colab import userdata\n",
        "import pickle\n",
        "\n",
        "from langchain_core.prompts import ChatPromptTemplate\n",
        "from langchain_core.output_parsers import JsonOutputParser\n",
        "from langchain_core.pydantic_v1 import BaseModel, Field"
      ],
      "metadata": {
        "id": "lUtbBrLhaxy8"
      },
      "execution_count": 4,
      "outputs": []
    },
    {
      "cell_type": "code",
      "source": [
        "from langchain_community.vectorstores import FAISS\n",
        "from langchain_openai import OpenAIEmbeddings\n",
        "from langchain_community.document_loaders import PyPDFLoader, WikipediaLoader\n",
        "from langchain.text_splitter import CharacterTextSplitter\n",
        "from langchain.tools.retriever import create_retriever_tool\n",
        "\n",
        "from langchain_community.document_loaders import UnstructuredURLLoader\n",
        "from langchain.agents import create_tool_calling_agent\n",
        "from langchain.agents import AgentExecutor\n",
        "\n",
        "from langchain import hub\n",
        "from langchain_core.messages import AIMessage, HumanMessage\n",
        "from langchain_community.chat_message_histories import ChatMessageHistory\n",
        "from langchain_core.runnables.history import RunnableWithMessageHistory\n",
        "from langchain_core.chat_history import BaseChatMessageHistory\n",
        "\n",
        "from uuid_extensions import uuid7str\n",
        "from langchain_core.pydantic_v1 import BaseModel, Field\n"
      ],
      "metadata": {
        "id": "GxR_M_A3a3p0"
      },
      "execution_count": 5,
      "outputs": []
    },
    {
      "cell_type": "markdown",
      "source": [
        "# Load Variables"
      ],
      "metadata": {
        "id": "r83D1HmvbAp6"
      }
    },
    {
      "cell_type": "code",
      "source": [
        "os.environ['OPENAI_API_KEY'] = userdata.get('open_ai_key')\n",
        "prompt_template = \"hwchase17/openai-functions-agent\"\n",
        "\n",
        "os.environ['LANGCHAIN_TRACING_V2']=\"true\"\n",
        "os.environ['LANGCHAIN_API_KEY']=userdata.get('langsmith_api_key')\n",
        "\n",
        "session_id = uuid7str()"
      ],
      "metadata": {
        "id": "_mZViSdybAV9"
      },
      "execution_count": 6,
      "outputs": []
    },
    {
      "cell_type": "code",
      "source": [
        "llm_model = 'gpt-3.5-turbo-1106'\n",
        "llm = ChatOpenAI(model=llm_model, temperature=0)"
      ],
      "metadata": {
        "id": "8F-E3lTLC4Ng"
      },
      "execution_count": 7,
      "outputs": []
    },
    {
      "cell_type": "code",
      "source": [
        "# Start crawling from the initial URL\n",
        "start_url = 'https://www.telstra.com.au/support'\n",
        "ignore_lst = []\n",
        "include_lst = ['support' ,'telstra']\n",
        "max_pg_lmt = 5000\n",
        "db_name = \"faiss_telstra_support_db\"\n",
        "fldr = '/content/drive/MyDrive/Colab Notebooks/Langchain/telstra_support/'"
      ],
      "metadata": {
        "id": "Hv23mRdPa7M0"
      },
      "execution_count": 8,
      "outputs": []
    },
    {
      "cell_type": "code",
      "source": [
        "hist_store= {}"
      ],
      "metadata": {
        "id": "HQAUQvOZmys9"
      },
      "execution_count": 9,
      "outputs": []
    },
    {
      "cell_type": "code",
      "source": [
        "if not os.path.exists(fldr):\n",
        "    # If the folder does not exist, create it\n",
        "    os.makedirs(fldr)\n",
        "    print(f'Folder created at: {fldr}')\n",
        "else:\n",
        "    print(f'Folder already exists at: {fldr}')"
      ],
      "metadata": {
        "colab": {
          "base_uri": "https://localhost:8080/"
        },
        "id": "MgOFEjs5F0dK",
        "outputId": "fe976932-bc9a-49e1-860d-19d763d433ca"
      },
      "execution_count": 10,
      "outputs": [
        {
          "output_type": "stream",
          "name": "stdout",
          "text": [
            "Folder already exists at: /content/drive/MyDrive/Colab Notebooks/Langchain/telstra_support/\n"
          ]
        }
      ]
    },
    {
      "cell_type": "markdown",
      "source": [
        "# Load Functions"
      ],
      "metadata": {
        "id": "PIocC45pa79X"
      }
    },
    {
      "cell_type": "code",
      "source": [
        "def load_history():\n",
        "  with open(fldr+\"history.pkl\", \"rb\") as f:\n",
        "    hist_store = pickle.load(f)"
      ],
      "metadata": {
        "id": "5-DJkg4fm885"
      },
      "execution_count": 12,
      "outputs": []
    },
    {
      "cell_type": "code",
      "source": [
        "def store_history():\n",
        "  with open(fldr+\"history.pkl\", \"wb\") as f:\n",
        "    pickle.dump(hist_store, f)"
      ],
      "metadata": {
        "id": "-RDrLNXImriL"
      },
      "execution_count": 13,
      "outputs": []
    },
    {
      "cell_type": "code",
      "execution_count": 14,
      "metadata": {
        "id": "g7WX5QgKN26v",
        "collapsed": true
      },
      "outputs": [],
      "source": [
        "# Function to get all links from a page\n",
        "def get_all_links(url):\n",
        "    response = requests.get(url)\n",
        "    soup = BeautifulSoup(response.content, 'html.parser')\n",
        "    links = [a.get('href') for a in soup.find_all('a', href=True)]\n",
        "    full_links = [urljoin(url, link) for link in links]\n",
        "    return full_links"
      ]
    },
    {
      "cell_type": "code",
      "source": [
        "print(max_pg_lmt)"
      ],
      "metadata": {
        "colab": {
          "base_uri": "https://localhost:8080/"
        },
        "id": "aGfon_x6QEnA",
        "outputId": "c36e3305-6379-4a87-ef3b-4ab8765e4eb6"
      },
      "execution_count": 15,
      "outputs": [
        {
          "output_type": "stream",
          "name": "stdout",
          "text": [
            "5000\n"
          ]
        }
      ]
    },
    {
      "cell_type": "code",
      "source": [
        "# Function to crawl the website\n",
        "def crawl_website(start_url, max_pages=max_pg_lmt):\n",
        "    itr = 0\n",
        "\n",
        "    visited = set()\n",
        "    to_visit = [start_url]\n",
        "\n",
        "    while to_visit and len(visited) < max_pages:\n",
        "      url = to_visit.pop(0)\n",
        "\n",
        "      if (\n",
        "          (url not in visited) and\n",
        "          (\"telstra.com.au\" in url) and\n",
        "          (\"support\" in url) and\n",
        "          (\"mobilesupport.telstra.com.au\" not in url)\n",
        "        ):\n",
        "        visited.add(url)\n",
        "        try:\n",
        "          links = get_all_links(url)\n",
        "          to_visit.extend(links)\n",
        "        except:\n",
        "          continue\n",
        "\n",
        "        itr += 1\n",
        "        if itr % 10 == 0:\n",
        "          print(f\"Visited {len(visited)}: {url}\")\n",
        "\n",
        "    return visited"
      ],
      "metadata": {
        "id": "pIyPhSvzvWJD"
      },
      "execution_count": 16,
      "outputs": []
    },
    {
      "cell_type": "code",
      "source": [
        "def extract_process_url(url):\n",
        "  loader = UnstructuredURLLoader(urls=[url])\n",
        "  data = loader.load()\n",
        "\n",
        "  text_splitter = CharacterTextSplitter(\n",
        "                chunk_size=1000,\n",
        "                chunk_overlap=5,\n",
        "                separator= \"\\n\\n\",\n",
        "                length_function=len,\n",
        "                is_separator_regex=False\n",
        "              )\n",
        "\n",
        "  docs = text_splitter.split_documents(data)\n",
        "  return docs\n"
      ],
      "metadata": {
        "id": "wpogUfZkvXML"
      },
      "execution_count": 17,
      "outputs": []
    },
    {
      "cell_type": "code",
      "source": [
        "def store_doc_into_db(docs, faiss_rmit_db):\n",
        "  if faiss_rmit_db is None:\n",
        "    faiss_rmit_db = FAISS.from_documents(docs, OpenAIEmbeddings())\n",
        "  else:\n",
        "    faiss_rmit_db.add_documents(docs)\n",
        "\n",
        "  return faiss_rmit_db\n"
      ],
      "metadata": {
        "id": "XpIGN7Advo3i"
      },
      "execution_count": 18,
      "outputs": []
    },
    {
      "cell_type": "code",
      "source": [
        "def generate_chat_response(message, local_session_id):\n",
        "  result = agent_with_chat_history.invoke({\"input\": message}, config={\"configurable\": {\"session_id\": local_session_id}})\n",
        "  return result['output']"
      ],
      "metadata": {
        "id": "_qznuQJh3cZu"
      },
      "execution_count": 19,
      "outputs": []
    },
    {
      "cell_type": "code",
      "source": [
        "def get_by_session_id(session_id: str) -> BaseChatMessageHistory:\n",
        "    if session_id not in hist_store:\n",
        "        hist_store[session_id] = InMemoryHistory()\n",
        "    return hist_store[session_id]\n"
      ],
      "metadata": {
        "id": "CpJo4yLNkcBV"
      },
      "execution_count": 20,
      "outputs": []
    },
    {
      "cell_type": "code",
      "source": [
        "def get_user_and_retrieve_history():\n",
        "  # user_name = input(\"Enter your username : \")\n",
        "  history = get_by_session_id(user_name)\n",
        "  return history\n",
        "\n",
        "def get_user():\n",
        "  user_name = input(\"Enter your username : \")\n",
        "  return user_name"
      ],
      "metadata": {
        "id": "w-goNguvkekW"
      },
      "execution_count": 21,
      "outputs": []
    },
    {
      "cell_type": "code",
      "source": [
        "class InMemoryHistory(BaseChatMessageHistory, BaseModel):\n",
        "    \"\"\"In memory implementation of chat message history.\"\"\"\n",
        "\n",
        "    messages: List[BaseMessage] = Field(default_factory=list)\n",
        "\n",
        "    def add_messages(self, messages: List[BaseMessage]) -> None:\n",
        "        \"\"\"Add a list of messages to the store\"\"\"\n",
        "        self.messages.extend(messages)\n",
        "\n",
        "    def clear(self) -> None:\n",
        "        self.messages = []"
      ],
      "metadata": {
        "id": "7abUSthzmdRy"
      },
      "execution_count": 22,
      "outputs": []
    },
    {
      "cell_type": "markdown",
      "source": [
        "# Load History"
      ],
      "metadata": {
        "id": "DWR-6GA0nXlZ"
      }
    },
    {
      "cell_type": "code",
      "source": [
        "if os.path.exists(fldr+\"history.pkl\"):\n",
        "  hist_store = load_history()\n",
        "  print(f'Folder already exists at: {fldr}')"
      ],
      "metadata": {
        "id": "w-c9AzBlnZxi"
      },
      "execution_count": 23,
      "outputs": []
    },
    {
      "cell_type": "markdown",
      "source": [
        "# Create URL Lists"
      ],
      "metadata": {
        "id": "gf54sQxhqBWr"
      }
    },
    {
      "cell_type": "code",
      "source": [
        "visited_urls = crawl_website(start_url)\n",
        "print(f\"Total visited URLs: {len(visited_urls)}\")"
      ],
      "metadata": {
        "id": "HOvWuTNiN_af",
        "colab": {
          "base_uri": "https://localhost:8080/"
        },
        "outputId": "5bf8cc29-fdc1-48bf-ac50-2532ed9ff489"
      },
      "execution_count": null,
      "outputs": [
        {
          "output_type": "stream",
          "name": "stdout",
          "text": [
            "Visited 16: https://www.telstra.com.au/small-business/online-support/business-software\n",
            "Visited 26: https://www.telstra.com.au/support/account-payment/remove-service-restriction\n",
            "Visited 37: https://www.telstra.com.au/support/account-payment/make-a-complaint\n",
            "Visited 51: https://www.telstra.com.au/support/internet-and-home-phone/home-internet-order-next-steps\n"
          ]
        }
      ]
    },
    {
      "cell_type": "code",
      "source": [
        "with open(fldr+\"url_list.pkl\", \"wb\") as f:\n",
        "    pickle.dump(visited_urls, f)"
      ],
      "metadata": {
        "id": "0xc8prpvq6ul"
      },
      "execution_count": null,
      "outputs": []
    },
    {
      "cell_type": "code",
      "source": [
        "with open(fldr+\"url_list.pkl\", \"rb\") as f:\n",
        "    visited_urls = list(pickle.load(f))\n",
        "\n",
        "error_url_lst = []"
      ],
      "metadata": {
        "id": "u1VRXmTKrANa"
      },
      "execution_count": null,
      "outputs": []
    },
    {
      "cell_type": "code",
      "source": [
        "print(f\"Total visited URLs: {len(visited_urls)}\")"
      ],
      "metadata": {
        "id": "RWd52bT8rTgq"
      },
      "execution_count": null,
      "outputs": []
    },
    {
      "cell_type": "markdown",
      "source": [
        "# Create Database"
      ],
      "metadata": {
        "id": "cLyTDzx3pqyO"
      }
    },
    {
      "cell_type": "code",
      "source": [
        "if os.path.exists(fldr+db_name):\n",
        "  faiss_telstra_support_db = FAISS.load_local(fldr+db_name,embeddings=OpenAIEmbeddings(), allow_dangerous_deserialization=True)\n",
        "  print(\"DB already exists\")\n",
        "else:\n",
        "  faiss_telstra_support_db = None\n",
        "  print(\"create a new database because none exists\")\n"
      ],
      "metadata": {
        "id": "Od8mifCLrgHj"
      },
      "execution_count": null,
      "outputs": []
    },
    {
      "cell_type": "code",
      "source": [
        "for url in visited_urls[0:5000]:\n",
        "  print(url)\n",
        "  try:\n",
        "    docs = extract_process_url(url)\n",
        "    faiss_telstra_support_db = store_doc_into_db(docs, faiss_telstra_support_db)\n",
        "  except:\n",
        "    error_url_lst.append(url)\n"
      ],
      "metadata": {
        "id": "NeJUIdwEmcaZ",
        "collapsed": true
      },
      "execution_count": null,
      "outputs": []
    },
    {
      "cell_type": "code",
      "source": [],
      "metadata": {
        "id": "wC36r4AndeDe"
      },
      "execution_count": null,
      "outputs": []
    },
    {
      "cell_type": "markdown",
      "source": [
        "# Write Everything"
      ],
      "metadata": {
        "id": "2lqQwV48uRQb"
      }
    },
    {
      "cell_type": "code",
      "source": [
        "print(faiss_telstra_support_db)"
      ],
      "metadata": {
        "colab": {
          "base_uri": "https://localhost:8080/"
        },
        "id": "JQ9ADYyZxapM",
        "outputId": "fdb9fc92-2bd7-4526-ba11-e0352fc73b93"
      },
      "execution_count": null,
      "outputs": [
        {
          "output_type": "stream",
          "name": "stdout",
          "text": [
            "<langchain_community.vectorstores.faiss.FAISS object at 0x7ca7940fdf00>\n"
          ]
        }
      ]
    },
    {
      "cell_type": "code",
      "source": [
        "FAISS.save_local(faiss_telstra_support_db, fldr+db_name)"
      ],
      "metadata": {
        "id": "kwfXp1hzubRi"
      },
      "execution_count": null,
      "outputs": []
    },
    {
      "cell_type": "code",
      "source": [
        "with open(fldr+\"error_urls.pkl\", \"wb\") as f:\n",
        "  pickle.dump(error_url_lst, f)"
      ],
      "metadata": {
        "id": "qePoEdRiuP2I"
      },
      "execution_count": null,
      "outputs": []
    },
    {
      "cell_type": "markdown",
      "source": [
        "# Create Retriever"
      ],
      "metadata": {
        "id": "scyOQLDXp5FH"
      }
    },
    {
      "cell_type": "code",
      "source": [
        "if os.path.exists(fldr+db_name):\n",
        "  faiss_telstra_support_db = FAISS.load_local(fldr+db_name,embeddings=OpenAIEmbeddings(), allow_dangerous_deserialization=True)\n",
        "else:\n",
        "  faiss_telstra_support_db = None"
      ],
      "metadata": {
        "id": "13s1qL-0ywkc"
      },
      "execution_count": 24,
      "outputs": []
    },
    {
      "cell_type": "code",
      "source": [
        "primary_retriever = faiss_telstra_support_db.as_retriever( search_type=\"similarity_score_threshold\",\n",
        "                            search_kwargs={\"score_threshold\": 0.5,\"k\": 1}\n",
        ")"
      ],
      "metadata": {
        "id": "C_uIbSSdou2t"
      },
      "execution_count": 25,
      "outputs": []
    },
    {
      "cell_type": "code",
      "source": [
        "primary_retriever.invoke(\"modem not working\")"
      ],
      "metadata": {
        "colab": {
          "base_uri": "https://localhost:8080/"
        },
        "id": "yJEzN7o_o6hm",
        "outputId": "e5ea0dd0-af67-4b4e-b57f-5f3f88b83bc1"
      },
      "execution_count": 26,
      "outputs": [
        {
          "output_type": "execute_result",
          "data": {
            "text/plain": [
              "[Document(metadata={'source': 'https://www.telstra.com.au/support/internet-and-home-phone/check-smart-modem#main-content'}, page_content='When the modem boots up (usually 2-3 minutes) the mobile signal light on the top of the modem should light up which indicates the modem has successfully contacted the mobile network.\\n\\nStep 7: Not working? Contact us\\n\\nIf the mobile signal light does not light up or is red, contact us or message us through the My Telstra app.\\n\\nFrequently asked questions\\n\\nIf you have followed the step by step instructions above, and your mobile signal light is still off, please message us through the My Telstra app. One of our agents will help you.\\n\\nThere are currently three different generations of the Telstra Smart Modem. If you have any of these models (look on the back or base of your modem to find the model number), then you have a Telstra Smart Modem.\\n\\nThe Telstra Smart Modem 2.0 has ports arranged vertically down the back\\n\\nThe Telstra Smart Modem 1.1 and Telstra Frontier Gateway has ports arranged horizontally along the bottom edge on the back')]"
            ]
          },
          "metadata": {},
          "execution_count": 26
        }
      ]
    },
    {
      "cell_type": "markdown",
      "source": [
        "# Agents"
      ],
      "metadata": {
        "id": "NtcruXHdyyGV"
      }
    },
    {
      "cell_type": "code",
      "source": [
        "telsta_support_tool = create_retriever_tool(\n",
        "    primary_retriever,\n",
        "    \"telstra_support_search\",\n",
        "    \"Search for support from Telstra\"\n",
        ")"
      ],
      "metadata": {
        "id": "pxx8GB6jzzzg"
      },
      "execution_count": 27,
      "outputs": []
    },
    {
      "cell_type": "code",
      "source": [
        "tools = [telsta_support_tool ]"
      ],
      "metadata": {
        "id": "ER_w73amyxoW"
      },
      "execution_count": 28,
      "outputs": []
    },
    {
      "cell_type": "code",
      "source": [
        "# Get the prompt to use - you can modify this!\n",
        "prompt = hub.pull(prompt_template)\n",
        "prompt.messages"
      ],
      "metadata": {
        "colab": {
          "base_uri": "https://localhost:8080/"
        },
        "id": "d7PIWPJC0NJR",
        "outputId": "0ee3991f-4fa0-464e-99e1-3a41f4f52a88"
      },
      "execution_count": 29,
      "outputs": [
        {
          "output_type": "execute_result",
          "data": {
            "text/plain": [
              "[SystemMessagePromptTemplate(prompt=PromptTemplate(input_variables=[], template='You are a helpful assistant')),\n",
              " MessagesPlaceholder(variable_name='chat_history', optional=True),\n",
              " HumanMessagePromptTemplate(prompt=PromptTemplate(input_variables=['input'], template='{input}')),\n",
              " MessagesPlaceholder(variable_name='agent_scratchpad')]"
            ]
          },
          "metadata": {},
          "execution_count": 29
        }
      ]
    },
    {
      "cell_type": "code",
      "source": [
        "agent = create_tool_calling_agent(llm, tools, prompt)\n",
        "agent_executor = AgentExecutor(agent=agent, tools=tools, verbose=False)"
      ],
      "metadata": {
        "id": "1vkokBFU0aM1"
      },
      "execution_count": 30,
      "outputs": []
    },
    {
      "cell_type": "markdown",
      "source": [
        "# Chat History"
      ],
      "metadata": {
        "id": "e1fGxDmvYikB"
      }
    },
    {
      "cell_type": "code",
      "source": [
        "agent_with_chat_history = RunnableWithMessageHistory(\n",
        "    agent_executor,\n",
        "    get_user_and_retrieve_history,\n",
        "    input_messages_key=\"input\",\n",
        "    history_messages_key=\"chat_history\",\n",
        ")"
      ],
      "metadata": {
        "id": "zDHFaiXZY3cH"
      },
      "execution_count": 31,
      "outputs": []
    },
    {
      "cell_type": "markdown",
      "source": [
        "# Execution"
      ],
      "metadata": {
        "id": "AuEFU6ZE0gBn"
      }
    },
    {
      "cell_type": "code",
      "source": [
        "\n",
        "user_name = get_user()\n",
        "print(f\"welcome :: {user_name}\")\n",
        "\n",
        "\n",
        "try:\n",
        "  input_qn  = \"Hi Bot, I need help with Telstra Stuff\"\n",
        "  while input_qn != \"exit\":\n",
        "\n",
        "    print(\"start chat\")\n",
        "    response = generate_chat_response(input_qn, user_name)\n",
        "    print(textwrap.fill(response, 80))\n",
        "    print(\"\")\n",
        "    input_qn = input(\"Enter a message (to finish use exit): \")\n",
        "except:\n",
        "  print(traceback.format_exc())\n",
        "finally:\n",
        "  store_history()"
      ],
      "metadata": {
        "id": "HNKA5gtN0KlG"
      },
      "execution_count": null,
      "outputs": []
    },
    {
      "cell_type": "markdown",
      "source": [
        "# Experiment Section"
      ],
      "metadata": {
        "id": "vaVIaDxxrS5u"
      }
    },
    {
      "cell_type": "code",
      "source": [],
      "metadata": {
        "id": "Kp1oWsabrSkC"
      },
      "execution_count": null,
      "outputs": []
    }
  ]
}