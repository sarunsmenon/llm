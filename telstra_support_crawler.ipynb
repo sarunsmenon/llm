{
  "nbformat": 4,
  "nbformat_minor": 0,
  "metadata": {
    "colab": {
      "provenance": [],
      "collapsed_sections": [
        "jP-K_H3Caozn",
        "xp9HTyGbatnA",
        "r83D1HmvbAp6",
        "PIocC45pa79X",
        "gf54sQxhqBWr",
        "cLyTDzx3pqyO",
        "2lqQwV48uRQb",
        "scyOQLDXp5FH",
        "NtcruXHdyyGV",
        "e1fGxDmvYikB"
      ],
      "mount_file_id": "1vT8nQX7tA6u1V_Oc01fKw5Lm4GDF2GUU",
      "authorship_tag": "ABX9TyMfq3lUEA04LnXRvip9+pF9",
      "include_colab_link": true
    },
    "kernelspec": {
      "name": "python3",
      "display_name": "Python 3"
    },
    "language_info": {
      "name": "python"
    }
  },
  "cells": [
    {
      "cell_type": "markdown",
      "metadata": {
        "id": "view-in-github",
        "colab_type": "text"
      },
      "source": [
        "<a href=\"https://colab.research.google.com/github/sarunsmenon/llm/blob/main/telstra_support_crawler.ipynb\" target=\"_parent\"><img src=\"https://colab.research.google.com/assets/colab-badge.svg\" alt=\"Open In Colab\"/></a>"
      ]
    },
    {
      "cell_type": "markdown",
      "source": [
        "# Install Libraries"
      ],
      "metadata": {
        "id": "jP-K_H3Caozn"
      }
    },
    {
      "cell_type": "code",
      "source": [
        "!pip install -q python-dotenv openai langchain-openai cohere langchain langchain_community pypdf faiss-gpu wikipedia-api faiss-cpu wikipedia langchainhub unstructured playwright uuid7"
      ],
      "metadata": {
        "id": "6e7oK6EaO4kH"
      },
      "execution_count": 55,
      "outputs": []
    },
    {
      "cell_type": "markdown",
      "source": [
        "# Load Libraries"
      ],
      "metadata": {
        "id": "xp9HTyGbatnA"
      }
    },
    {
      "cell_type": "code",
      "source": [
        "import requests\n",
        "from bs4 import BeautifulSoup\n",
        "from urllib.parse import urljoin\n",
        "import textwrap"
      ],
      "metadata": {
        "id": "1dNPjEP2asgj"
      },
      "execution_count": 33,
      "outputs": []
    },
    {
      "cell_type": "code",
      "source": [
        "import os\n",
        "from langchain_openai import ChatOpenAI\n",
        "from dotenv import load_dotenv, find_dotenv\n",
        "from google.colab import userdata\n",
        "import pickle\n",
        "\n",
        "from langchain_core.prompts import ChatPromptTemplate\n",
        "from langchain_core.output_parsers import JsonOutputParser\n",
        "from langchain_core.pydantic_v1 import BaseModel, Field"
      ],
      "metadata": {
        "id": "lUtbBrLhaxy8"
      },
      "execution_count": 34,
      "outputs": []
    },
    {
      "cell_type": "code",
      "source": [
        "from langchain_community.vectorstores import FAISS\n",
        "from langchain_openai import OpenAIEmbeddings\n",
        "from langchain_community.document_loaders import PyPDFLoader, WikipediaLoader\n",
        "from langchain.text_splitter import CharacterTextSplitter\n",
        "from langchain.tools.retriever import create_retriever_tool\n",
        "\n",
        "from langchain_community.document_loaders import UnstructuredURLLoader\n",
        "from langchain.agents import create_tool_calling_agent\n",
        "from langchain.agents import AgentExecutor\n",
        "\n",
        "from langchain import hub\n",
        "from langchain_core.messages import AIMessage, HumanMessage\n",
        "from langchain_community.chat_message_histories import ChatMessageHistory\n",
        "from langchain_core.runnables.history import RunnableWithMessageHistory\n",
        "\n",
        "from uuid_extensions import uuid7str\n"
      ],
      "metadata": {
        "id": "GxR_M_A3a3p0"
      },
      "execution_count": 35,
      "outputs": []
    },
    {
      "cell_type": "markdown",
      "source": [
        "# Load Variables"
      ],
      "metadata": {
        "id": "r83D1HmvbAp6"
      }
    },
    {
      "cell_type": "code",
      "source": [
        "os.environ['OPENAI_API_KEY'] = userdata.get('open_ai_key')\n",
        "prompt_template = \"hwchase17/openai-functions-agent\"\n",
        "\n",
        "os.environ['LANGCHAIN_TRACING_V2']=\"true\"\n",
        "os.environ['LANGCHAIN_API_KEY']=userdata.get('langsmith_api_key')\n",
        "\n",
        "session_id = uuid7str()"
      ],
      "metadata": {
        "id": "_mZViSdybAV9"
      },
      "execution_count": 36,
      "outputs": []
    },
    {
      "cell_type": "code",
      "source": [
        "llm_model = 'gpt-3.5-turbo-1106'\n",
        "llm = ChatOpenAI(model=llm_model, temperature=0)"
      ],
      "metadata": {
        "id": "8F-E3lTLC4Ng"
      },
      "execution_count": 37,
      "outputs": []
    },
    {
      "cell_type": "code",
      "source": [
        "# Start crawling from the initial URL\n",
        "start_url = 'https://www.telstra.com.au/support'\n",
        "ignore_lst = []\n",
        "include_lst = ['support' ,'telstra']\n",
        "max_pg_lmt = 5000\n",
        "db_name = \"faiss_telstra_support_db\"\n",
        "fldr = '/content/drive/MyDrive/Colab Notebooks/Langchain/telstra_support/'"
      ],
      "metadata": {
        "id": "Hv23mRdPa7M0"
      },
      "execution_count": 38,
      "outputs": []
    },
    {
      "cell_type": "code",
      "source": [
        "if not os.path.exists(fldr):\n",
        "    # If the folder does not exist, create it\n",
        "    os.makedirs(fldr)\n",
        "    print(f'Folder created at: {fldr}')\n",
        "else:\n",
        "    print(f'Folder already exists at: {fldr}')"
      ],
      "metadata": {
        "colab": {
          "base_uri": "https://localhost:8080/"
        },
        "id": "MgOFEjs5F0dK",
        "outputId": "f96466e5-d5d6-4fac-b3ce-928680c4f7e9"
      },
      "execution_count": 39,
      "outputs": [
        {
          "output_type": "stream",
          "name": "stdout",
          "text": [
            "Folder already exists at: /content/drive/MyDrive/Colab Notebooks/Langchain/telstra_support/\n"
          ]
        }
      ]
    },
    {
      "cell_type": "markdown",
      "source": [
        "# Load Functions"
      ],
      "metadata": {
        "id": "PIocC45pa79X"
      }
    },
    {
      "cell_type": "code",
      "execution_count": 40,
      "metadata": {
        "id": "g7WX5QgKN26v",
        "collapsed": true
      },
      "outputs": [],
      "source": [
        "# Function to get all links from a page\n",
        "def get_all_links(url):\n",
        "    response = requests.get(url)\n",
        "    soup = BeautifulSoup(response.content, 'html.parser')\n",
        "    links = [a.get('href') for a in soup.find_all('a', href=True)]\n",
        "    full_links = [urljoin(url, link) for link in links]\n",
        "    return full_links"
      ]
    },
    {
      "cell_type": "code",
      "source": [
        "print(max_pg_lmt)"
      ],
      "metadata": {
        "colab": {
          "base_uri": "https://localhost:8080/"
        },
        "id": "aGfon_x6QEnA",
        "outputId": "771979c2-b939-4400-e8c4-50f070f8528c"
      },
      "execution_count": 41,
      "outputs": [
        {
          "output_type": "stream",
          "name": "stdout",
          "text": [
            "5000\n"
          ]
        }
      ]
    },
    {
      "cell_type": "code",
      "source": [
        "# Function to crawl the website\n",
        "def crawl_website(start_url, max_pages=max_pg_lmt):\n",
        "    itr = 0\n",
        "\n",
        "    visited = set()\n",
        "    to_visit = [start_url]\n",
        "\n",
        "    while to_visit and len(visited) < max_pages:\n",
        "      url = to_visit.pop(0)\n",
        "      # if (\n",
        "      #     # (\n",
        "      #     #   any( [url for site in ignore_lst if site in url]) or\n",
        "      #     #   (url in visited) or\n",
        "      #     #   (not any ([url for site in include_lst if site in url]))\n",
        "      #     # )\n",
        "      #     (\"telstra.com.au\" not in url) and (\"support\" not in url) and (url not in visited)\n",
        "      # ) :\n",
        "      #     continue\n",
        "\n",
        "      if (\n",
        "          (url not in visited) and\n",
        "          (\"telstra.com.au\" in url) and\n",
        "          (\"support\" in url) and\n",
        "          (\"mobilesupport.telstra.com.au\" not in url)\n",
        "        ):\n",
        "        visited.add(url)\n",
        "        try:\n",
        "          links = get_all_links(url)\n",
        "          to_visit.extend(links)\n",
        "        except:\n",
        "          continue\n",
        "\n",
        "        itr += 1\n",
        "        if itr % 10 == 0:\n",
        "          print(f\"Visited {len(visited)}: {url}\")\n",
        "\n",
        "    return visited"
      ],
      "metadata": {
        "id": "pIyPhSvzvWJD"
      },
      "execution_count": 42,
      "outputs": []
    },
    {
      "cell_type": "code",
      "source": [
        "def extract_process_url(url):\n",
        "  loader = UnstructuredURLLoader(urls=[url])\n",
        "  data = loader.load()\n",
        "\n",
        "  text_splitter = CharacterTextSplitter(\n",
        "                chunk_size=1000,\n",
        "                chunk_overlap=5,\n",
        "                separator= \"\\n\\n\",\n",
        "                length_function=len,\n",
        "                is_separator_regex=False\n",
        "              )\n",
        "\n",
        "  docs = text_splitter.split_documents(data)\n",
        "  return docs\n"
      ],
      "metadata": {
        "id": "wpogUfZkvXML"
      },
      "execution_count": 43,
      "outputs": []
    },
    {
      "cell_type": "code",
      "source": [
        "def store_doc_into_db(docs, faiss_rmit_db):\n",
        "  if faiss_rmit_db is None:\n",
        "    faiss_rmit_db = FAISS.from_documents(docs, OpenAIEmbeddings())\n",
        "  else:\n",
        "    faiss_rmit_db.add_documents(docs)\n",
        "\n",
        "  return faiss_rmit_db\n"
      ],
      "metadata": {
        "id": "XpIGN7Advo3i"
      },
      "execution_count": 44,
      "outputs": []
    },
    {
      "cell_type": "code",
      "source": [
        "def generate_chat_response(message, local_session_id):\n",
        "  result = agent_with_chat_history.invoke({\"input\": message}, config={\"configurable\": {\"session_id\": local_session_id}})\n",
        "  return result['output']"
      ],
      "metadata": {
        "id": "_qznuQJh3cZu"
      },
      "execution_count": 45,
      "outputs": []
    },
    {
      "cell_type": "markdown",
      "source": [
        "# Create URL Lists"
      ],
      "metadata": {
        "id": "gf54sQxhqBWr"
      }
    },
    {
      "cell_type": "code",
      "source": [
        "visited_urls = crawl_website(start_url)\n",
        "print(f\"Total visited URLs: {len(visited_urls)}\")"
      ],
      "metadata": {
        "id": "HOvWuTNiN_af",
        "colab": {
          "base_uri": "https://localhost:8080/"
        },
        "outputId": "f4ff04ef-172e-4b08-a02b-59cb278ddb00"
      },
      "execution_count": null,
      "outputs": [
        {
          "output_type": "stream",
          "name": "stdout",
          "text": [
            "Visited 10: https://www.telstra.com.au/aboutus/support-in-times-of-need\n",
            "Visited 20: https://www.telstra.com.au/support/account-payment/set-up-direct-debit\n",
            "Visited 30: https://www.telstra.com.au/support/account-payment/give-ownership-of-account-to-someone\n",
            "Visited 40: https://www.telstra.com.au/support/account-payment/order-estimate\n",
            "Visited 50: https://www.telstra.com.au/support/internet-and-home-phone/connecting-to-wifi\n",
            "Visited 60: https://www.telstra.com.au/support/internet-and-home-phone/set-up-and-manage-messagebank\n",
            "Visited 70: https://www.telstra.com.au/support/internet-and-home-phone/caller-id-and-calling-number-display\n",
            "Visited 80: https://www.telstra.com.au/support/internet-and-home-phone/report-a-fault\n",
            "Visited 90: https://www.telstra.com.au/support/internet-and-home-phone/access-modem-settings\n",
            "Visited 100: https://www.telstra.com.au/support/mobiles-devices/mobile-black-spot-program\n",
            "Visited 110: https://www.telstra.com.au/support/pre-paid/extra-data\n",
            "Visited 120: https://www.telstra.com.au/support/mobiles-devices/fix-esim\n",
            "Visited 130: https://www.telstra.com.au/support/mobiles-devices/activate-sim-post-paid\n",
            "Visited 140: https://www.telstra.com.au/support/mobiles-devices/upgrade-swap-or-trade-in-device\n",
            "Visited 150: https://www.telstra.com.au/support/mobiles-devices/mobile-phone-wifi-hotspot\n",
            "Visited 160: https://www.telstra.com.au/support/mobiles-devices/device-security\n",
            "Visited 170: https://www.telstra.com.au/support/email/imap-pop-smtp-mail-server-settings\n",
            "Visited 180: https://www.telstra.com.au/support/email/troubleshoot\n",
            "Visited 190: https://www.telstra.com.au/support/entertainment/disneyplus-support\n",
            "Visited 200: https://www.telstra.com.au/support/entertainment/how-do-i-upgrade-my-foxtel-set-top-box\n",
            "Visited 210: https://www.telstra.com.au/support/entertainment/telstra-tv-how-do-i-turn-off-telstra-tv\n",
            "Visited 220: https://www.telstra.com.au/support/entertainment/how-to-watch-a-video-or-listen-to-music-from-an-external-source\n",
            "Visited 230: https://www.telstra.com.au/support/entertainment/telstra-tv-hdcp-error\n",
            "Visited 240: https://www.telstra.com.au/aboutus/support-in-times-of-need/domestic-family-violence\n",
            "Visited 250: https://www.telstra.com.au/small-business/online-support/accounts-payments/make-a-payment\n",
            "Visited 260: https://www.telstra.com.au/small-business/online-support/accounts-payments/understanding-my-bill\n",
            "Visited 270: https://www.telstra.com.au/small-business/online-support/mobiles-devices#manage-data\n",
            "Visited 280: https://www.telstra.com.au/small-business/online-support/mobiles-devices/cancel-mobile-plan\n",
            "Visited 290: https://www.telstra.com.au/small-business/online-support/internet#main-content\n",
            "Visited 300: https://www.telstra.com.au/small-business/online-support/internet/problem-with-nbn-equipment\n",
            "Visited 310: https://www.telstra.com.au/small-business/online-support/business-software#mcafee\n",
            "Visited 320: https://www.telstra.com.au/small-business/online-support/business-software/telstra-apps-marketplace\n",
            "Visited 330: https://www.telstra.com.au/small-business/online-support/business-software/manage-my-bills#payment\n",
            "Visited 340: https://www.telstra.com.au/small-business/online-support/business-software/raise-a-support-ticket\n",
            "Visited 350: https://www.telstra.com.au/small-business/online-support/business-software/authorise-gmail-google-drive-with-check-point-harmony-email-collaboration\n",
            "Visited 360: https://www.telstra.com.au/support/account-payment/check-contract-or-cancel-service#lightbox-qrCodesTips\n",
            "Visited 370: https://www.telstra.com.au/support/account-payment/pay-your-bill#centrepay\n",
            "Visited 380: https://www.telstra.com.au/support/account-payment/what-is-autopay#main-content\n",
            "Visited 390: https://www.telstra.com.au/support/account-payment/track-update-online-order#changes\n",
            "Visited 400: https://www.telstra.com.au/support/account-payment/give-ownership-of-account-to-someone#invitation\n",
            "Visited 410: https://www.telstra.com.au/support/account-payment/view-print-bills#GST\n",
            "Visited 420: https://www.telstra.com.au/support/account-payment/id-check-for-new-account#secondary-id\n",
            "Visited 430: https://www.telstra.com.au/support/internet-and-home-phone/5g-home-support#troubleshooting\n"
          ]
        },
        {
          "output_type": "stream",
          "name": "stderr",
          "text": [
            "WARNING:bs4.dammit:Some characters could not be decoded, and were replaced with REPLACEMENT CHARACTER.\n",
            "WARNING:bs4.dammit:Some characters could not be decoded, and were replaced with REPLACEMENT CHARACTER.\n",
            "WARNING:bs4.dammit:Some characters could not be decoded, and were replaced with REPLACEMENT CHARACTER.\n",
            "WARNING:bs4.dammit:Some characters could not be decoded, and were replaced with REPLACEMENT CHARACTER.\n",
            "WARNING:bs4.dammit:Some characters could not be decoded, and were replaced with REPLACEMENT CHARACTER.\n",
            "WARNING:bs4.dammit:Some characters could not be decoded, and were replaced with REPLACEMENT CHARACTER.\n"
          ]
        },
        {
          "output_type": "stream",
          "name": "stdout",
          "text": [
            "Visited 440: https://www.telstra.com.au/content/dam/tcom/personal/support/pdf/broadband/set-up-guide-for-opticomm-access-network-fttp.pdf\n"
          ]
        },
        {
          "output_type": "stream",
          "name": "stderr",
          "text": [
            "WARNING:bs4.dammit:Some characters could not be decoded, and were replaced with REPLACEMENT CHARACTER.\n",
            "WARNING:bs4.dammit:Some characters could not be decoded, and were replaced with REPLACEMENT CHARACTER.\n"
          ]
        },
        {
          "output_type": "stream",
          "name": "stdout",
          "text": [
            "Visited 450: https://www.telstra.com.au/support/internet-and-home-phone/setup-telstra-smart-modem-for-adsl-hfc-cable#hfc-new-cable-internet\n"
          ]
        },
        {
          "output_type": "stream",
          "name": "stderr",
          "text": [
            "WARNING:bs4.dammit:Some characters could not be decoded, and were replaced with REPLACEMENT CHARACTER.\n",
            "WARNING:bs4.dammit:Some characters could not be decoded, and were replaced with REPLACEMENT CHARACTER.\n"
          ]
        },
        {
          "output_type": "stream",
          "name": "stdout",
          "text": [
            "Visited 460: https://www.telstra.com.au/support/internet-and-home-phone/home-internet-order-next-steps#main-content\n",
            "Visited 470: https://www.telstra.com.au/support/internet-and-home-phone/nbn-connection-types#lightbox-nbn-fw\n",
            "Visited 480: https://www.telstra.com.au/support/internet-and-home-phone/setup-telstra-smart-modem#fttn-fttb\n",
            "Visited 490: https://www.telstra.com.au/support/internet-and-home-phone/set-up-call-forwarding-on-home-phone#apply-call-waiting\n",
            "Visited 500: https://www.telstra.com.au/support/internet-and-home-phone/prioritise-internet-optimiser-for-gaming-or-work#work\n"
          ]
        },
        {
          "output_type": "stream",
          "name": "stderr",
          "text": [
            "WARNING:bs4.dammit:Some characters could not be decoded, and were replaced with REPLACEMENT CHARACTER.\n"
          ]
        },
        {
          "output_type": "stream",
          "name": "stdout",
          "text": [
            "Visited 510: https://www.telstra.com.au/support/internet-and-home-phone/fix-internet-issues#main-content\n",
            "Visited 520: https://www.telstra.com.au/support/internet-and-home-phone/technician-service-appointment#main-content\n",
            "Visited 530: https://www.telstra.com.au/support/internet-and-home-phone/report-a-fault#after-reporting\n",
            "Visited 540: https://www.telstra.com.au/support/internet-and-home-phone/smart-wi-fi-booster-support#compatibility\n",
            "Visited 550: https://www.telstra.com.au/support/internet-and-home-phone/set-up-port-forwarding#main-content\n"
          ]
        },
        {
          "output_type": "stream",
          "name": "stderr",
          "text": [
            "WARNING:bs4.dammit:Some characters could not be decoded, and were replaced with REPLACEMENT CHARACTER.\n",
            "WARNING:bs4.dammit:Some characters could not be decoded, and were replaced with REPLACEMENT CHARACTER.\n",
            "WARNING:bs4.dammit:Some characters could not be decoded, and were replaced with REPLACEMENT CHARACTER.\n",
            "WARNING:bs4.dammit:Some characters could not be decoded, and were replaced with REPLACEMENT CHARACTER.\n"
          ]
        },
        {
          "output_type": "stream",
          "name": "stdout",
          "text": [
            "Visited 560: https://www.telstra.com.au/content/dam/tcom/personal/support/pdf/broadband/usb-4g-guide.pdf\n"
          ]
        },
        {
          "output_type": "stream",
          "name": "stderr",
          "text": [
            "WARNING:bs4.dammit:Some characters could not be decoded, and were replaced with REPLACEMENT CHARACTER.\n",
            "WARNING:bs4.dammit:Some characters could not be decoded, and were replaced with REPLACEMENT CHARACTER.\n"
          ]
        },
        {
          "output_type": "stream",
          "name": "stdout",
          "text": [
            "Visited 570: https://www.telstra.com.au/support/mobiles-devices/mobile-black-spot-program#faq\n",
            "Visited 580: https://www.telstra.com.au/support/pre-paid/view-change-pre-paid-plan#main-content\n",
            "Visited 590: https://www.telstra.com.au/support/pre-paid/100exit#main-content\n",
            "Visited 600: https://www.telstra.com.au/support/pre-paid/error-setting-up-auto-recharge#main-content\n",
            "Visited 610: https://www.telstra.com.au/support/mobiles-devices/messagebank-call-forwarding-ring-time#messagebank-plus\n",
            "Visited 620: https://www.telstra.com.au/support/mobiles-devices/reset-device#factory-reset-other-devices\n",
            "Visited 630: https://www.telstra.com.au/support/mobiles-devices/enable-volte-mobile-phone#compatible-device\n",
            "Visited 640: https://www.telstra.com.au/support/mobiles-devices/upgrade-swap-or-trade-in-device#before-return-device\n",
            "Visited 650: https://www.telstra.com.au/support/mobiles-devices/what-are-the-different-types-of-international-roaming#pre-paid-plans\n",
            "Visited 660: https://www.telstra.com.au/support/mobiles-devices/dual-sim#main-content\n",
            "Visited 670: https://www.telstra.com.au/support/mobiles-devices/3g-closure#lightbox-cantonese\n",
            "Visited 680: https://www.telstra.com.au/support/mobiles-devices/unlock-phone-imei#main-content\n",
            "Visited 690: https://www.telstra.com.au/support/mobiles-devices/lost-stolen-sim-device#main-content\n",
            "Visited 700: https://www.telstra.com.au/support/mobiles-devices/device-security#manage\n",
            "Visited 710: https://www.telstra.com.au/support/email/windows-live-vista-mail#main-content\n",
            "Visited 720: https://www.telstra.com.au/support/email/faq#fix\n",
            "Visited 730: https://www.telstra.com.au/support/email/check-usage#see-how-much-storage-used\n",
            "Visited 740: https://www.telstra.com.au/support/email/hidden-webmail#main-content\n",
            "Visited 750: https://www.telstra.com.au/support/entertainment/binge#main-content\n",
            "Visited 760: https://www.telstra.com.au/support/entertainment/flash-support#main-content\n",
            "Visited 770: https://www.telstra.com.au/support/entertainment/how-do-i-connect-my-foxtel-set-top-box-to-the-internet#main-content\n",
            "Visited 780: https://www.telstra.com.au/support/entertainment/what-is-the-telstra-tv-app#telstra-tv-app\n",
            "Visited 790: https://www.telstra.com.au/support/entertainment/how-do-i-pair-my-enhanced-remote#main-content\n",
            "Visited 800: https://www.telstra.com.au/support/entertainment/my-telstra-tv-says-connection-dropped-when-i-try-to-activate#main-content\n",
            "Visited 810: https://www.telstra.com.au/support/entertainment/xbox-all-access#subscription\n",
            "Visited 820: https://www.telstra.com.au/support/entertainment/what-is-the-NRL-official-app#main-content\n",
            "Visited 830: https://www.telstra.com.au/aboutus/support-in-times-of-need/disaster-relief#lp:dtq/section:telstra,tcom,disaster-relief,msg,dtq,non-auth\n",
            "Visited 840: https://www.telstra.com.au/aboutus/support-in-times-of-need/bereavement-support#faqs\n"
          ]
        },
        {
          "output_type": "stream",
          "name": "stderr",
          "text": [
            "WARNING:bs4.dammit:Some characters could not be decoded, and were replaced with REPLACEMENT CHARACTER.\n"
          ]
        },
        {
          "output_type": "stream",
          "name": "stdout",
          "text": [
            "Visited 850: https://www.telstra.com.au/small-business/online-support/accounts-payments/make-a-payment#bpay\n",
            "Visited 860: https://www.telstra.com.au/small-business/online-support/accounts-payments/unlock-phone-using-puk-code#find-puk-code\n",
            "Visited 870: https://www.telstra.com.au/small-business/online-support/accounts-payments/moving-office#main-content\n"
          ]
        },
        {
          "output_type": "stream",
          "name": "stderr",
          "text": [
            "WARNING:bs4.dammit:Some characters could not be decoded, and were replaced with REPLACEMENT CHARACTER.\n"
          ]
        },
        {
          "output_type": "stream",
          "name": "stdout",
          "text": [
            "Visited 880: https://www.telstra.com.au/small-business/online-support/accounts-payments/make-a-complaint#main-content\n",
            "Visited 890: https://www.telstra.com.au/small-business/online-support/mobiles-devices/forward-calls-on-mobile#what-is-call-forwarding\n",
            "Visited 900: https://www.telstra.com.au/small-business/online-support/mobiles-devices/mobility-accelerator#main-content\n",
            "Visited 910: https://www.telstra.com.au/small-business/online-support/mobiles-devices/manage-upfront-mobile-and-data-plan#main-content\n",
            "Visited 920: https://www.telstra.com.au/small-business/online-support/mobiles-devices/international-day-pass#destination\n"
          ]
        },
        {
          "output_type": "stream",
          "name": "stderr",
          "text": [
            "WARNING:bs4.dammit:Some characters could not be decoded, and were replaced with REPLACEMENT CHARACTER.\n",
            "WARNING:bs4.dammit:Some characters could not be decoded, and were replaced with REPLACEMENT CHARACTER.\n",
            "WARNING:bs4.dammit:Some characters could not be decoded, and were replaced with REPLACEMENT CHARACTER.\n"
          ]
        },
        {
          "output_type": "stream",
          "name": "stdout",
          "text": [
            "Visited 930: https://www.telstra.com.au/small-business/online-support/internet/self-install-business-smart-modem#lightbox-nbn-fttc-video\n",
            "Visited 940: https://www.telstra.com.au/small-business/online-support/internet/telstra-4gx-usb-pro#without-tbsm\n",
            "Visited 950: https://www.telstra.com.au/small-business/online-support/internet/troubleshoot-telstra-modem#telstra-smart-modem\n",
            "Visited 960: https://www.telstra.com.au/small-business/online-support/business-software/manage-users-telstra-apps-marketplace#main-content\n",
            "Visited 970: https://www.telstra.com.au/small-business/online-support/business-software/manage-business-domain#help\n",
            "Visited 980: https://www.telstra.com.au/small-business/online-support/business-software/manage-my-bills\n",
            "Visited 990: https://www.telstra.com.au/small-business/online-support/business-software/call-out-fee#main-content\n",
            "Visited 1000: https://www.telstra.com.au/small-business/online-support/business-software/authorise-office365-mail-onedrive-msteams-sharepoint-with-check-point-harmony-email-collaboration#main-content\n",
            "Visited 1010: https://www.telstra.com.au/support/plan-update/ngwl-exit#main-content\n",
            "Visited 1020: https://www.telstra.com.au/business-enterprise/support/3g-service-closure#lightbox-networkAutomatic\n",
            "Visited 1030: https://enterprise-support.telstra.com.au/business-enterprise/products/networks\n",
            "Visited 1040: https://enterprise-support.telstra.com.au/business-enterprise/products/cloud/cloud-connectivity\n",
            "Visited 1050: https://enterprise-support.telstra.com.au/business-enterprise/products/internet-of-things\n",
            "Visited 1060: https://enterprise-support.telstra.com.au/business-enterprise/news-research/articles/key-updates-to-media-production-platform-unveiled-at-ibc2022\n",
            "Visited 1070: https://www.telstra.com.au/support/account-payment/give-another-person-access-to-account.html#lightbox-qrCodesTips\n",
            "Visited 1080: https://www.telstra.com.au/business-enterprise/support/fleet-complete\n",
            "Visited 1090: https://www.telstra.com.au/business-enterprise/support/t-analyst\n",
            "Visited 1100: https://enterprise-support.telstra.com.au/business-enterprise/products/networks#main-content\n",
            "Visited 1110: https://enterprise-support.telstra.com.au/business-enterprise/products/cloud/cloud-connectivity#main-content\n",
            "Visited 1120: https://enterprise-support.telstra.com.au/business-enterprise/products/internet-of-things#main-content\n",
            "Visited 1130: https://enterprise-support.telstra.com.au/business-enterprise/news-research/articles/key-updates-to-media-production-platform-unveiled-at-ibc2022#main-content\n"
          ]
        },
        {
          "output_type": "stream",
          "name": "stderr",
          "text": [
            "WARNING:bs4.dammit:Some characters could not be decoded, and were replaced with REPLACEMENT CHARACTER.\n"
          ]
        },
        {
          "output_type": "stream",
          "name": "stdout",
          "text": [
            "Visited 1140: https://www.telstra.com.au/business-enterprise/support/adaptive-mobility#main-content\n",
            "Visited 1150: https://www.telstra.com.au/business-enterprise/support/business-sip#support\n"
          ]
        },
        {
          "output_type": "stream",
          "name": "stderr",
          "text": [
            "WARNING:bs4.dammit:Some characters could not be decoded, and were replaced with REPLACEMENT CHARACTER.\n",
            "WARNING:bs4.dammit:Some characters could not be decoded, and were replaced with REPLACEMENT CHARACTER.\n",
            "WARNING:bs4.dammit:Some characters could not be decoded, and were replaced with REPLACEMENT CHARACTER.\n",
            "WARNING:bs4.dammit:Some characters could not be decoded, and were replaced with REPLACEMENT CHARACTER.\n",
            "WARNING:bs4.dammit:Some characters could not be decoded, and were replaced with REPLACEMENT CHARACTER.\n",
            "WARNING:bs4.dammit:Some characters could not be decoded, and were replaced with REPLACEMENT CHARACTER.\n"
          ]
        },
        {
          "output_type": "stream",
          "name": "stdout",
          "text": [
            "Visited 1160: https://www.telstra.com.au/business-enterprise/support/changing-an-apn-setting#smartphone\n",
            "Visited 1170: https://www.telstra.com.au/business-enterprise/support/customer-assurance#certification\n"
          ]
        },
        {
          "output_type": "stream",
          "name": "stderr",
          "text": [
            "WARNING:bs4.dammit:Some characters could not be decoded, and were replaced with REPLACEMENT CHARACTER.\n",
            "WARNING:bs4.dammit:Some characters could not be decoded, and were replaced with REPLACEMENT CHARACTER.\n",
            "WARNING:bs4.dammit:Some characters could not be decoded, and were replaced with REPLACEMENT CHARACTER.\n",
            "WARNING:bs4.dammit:Some characters could not be decoded, and were replaced with REPLACEMENT CHARACTER.\n",
            "WARNING:bs4.dammit:Some characters could not be decoded, and were replaced with REPLACEMENT CHARACTER.\n"
          ]
        },
        {
          "output_type": "stream",
          "name": "stdout",
          "text": [
            "Visited 1180: https://www.telstra.com.au/business-enterprise/support/fleet-complete#main-content\n",
            "Visited 1190: https://www.telstra.com.au/business-enterprise/support/important-terms#other-voice-services\n",
            "Visited 1200: https://www.telstra.com.au/business-enterprise/support/microsoft-operator-connect#faqs\n"
          ]
        },
        {
          "output_type": "stream",
          "name": "stderr",
          "text": [
            "WARNING:bs4.dammit:Some characters could not be decoded, and were replaced with REPLACEMENT CHARACTER.\n",
            "WARNING:bs4.dammit:Some characters could not be decoded, and were replaced with REPLACEMENT CHARACTER.\n"
          ]
        },
        {
          "output_type": "stream",
          "name": "stdout",
          "text": [
            "Visited 1210: https://www.telstra.com.au/business-enterprise/support/sip-connect#setting-up-your-services\n"
          ]
        },
        {
          "output_type": "stream",
          "name": "stderr",
          "text": [
            "WARNING:bs4.dammit:Some characters could not be decoded, and were replaced with REPLACEMENT CHARACTER.\n",
            "WARNING:bs4.dammit:Some characters could not be decoded, and were replaced with REPLACEMENT CHARACTER.\n"
          ]
        },
        {
          "output_type": "stream",
          "name": "stdout",
          "text": [
            "Visited 1220: https://www.telstra.com.au/business-enterprise/support/t-analyst/hierarchies\n",
            "Visited 1230: https://www.telstra.com.au/business-enterprise/support/tipt#webex\n"
          ]
        },
        {
          "output_type": "stream",
          "name": "stderr",
          "text": [
            "WARNING:bs4.dammit:Some characters could not be decoded, and were replaced with REPLACEMENT CHARACTER.\n",
            "WARNING:bs4.dammit:Some characters could not be decoded, and were replaced with REPLACEMENT CHARACTER.\n",
            "WARNING:bs4.dammit:Some characters could not be decoded, and were replaced with REPLACEMENT CHARACTER.\n"
          ]
        },
        {
          "output_type": "stream",
          "name": "stdout",
          "text": [
            "Visited 1240: https://www.telstra.com.au/business-enterprise/support/tipt-administrator-guides#main-content\n"
          ]
        },
        {
          "output_type": "stream",
          "name": "stderr",
          "text": [
            "WARNING:bs4.dammit:Some characters could not be decoded, and were replaced with REPLACEMENT CHARACTER.\n",
            "WARNING:bs4.dammit:Some characters could not be decoded, and were replaced with REPLACEMENT CHARACTER.\n",
            "WARNING:bs4.dammit:Some characters could not be decoded, and were replaced with REPLACEMENT CHARACTER.\n",
            "WARNING:bs4.dammit:Some characters could not be decoded, and were replaced with REPLACEMENT CHARACTER.\n",
            "WARNING:bs4.dammit:Some characters could not be decoded, and were replaced with REPLACEMENT CHARACTER.\n",
            "WARNING:bs4.dammit:Some characters could not be decoded, and were replaced with REPLACEMENT CHARACTER.\n",
            "WARNING:bs4.dammit:Some characters could not be decoded, and were replaced with REPLACEMENT CHARACTER.\n",
            "WARNING:bs4.dammit:Some characters could not be decoded, and were replaced with REPLACEMENT CHARACTER.\n"
          ]
        },
        {
          "output_type": "stream",
          "name": "stdout",
          "text": [
            "Visited 1250: https://www.telstra.com.au/content/dam/shared-component-assets/tecom/uc&c/collaboration/tipt/support/business-instantgroup-conferencing-quick-reference-guide.pdf\n"
          ]
        },
        {
          "output_type": "stream",
          "name": "stderr",
          "text": [
            "WARNING:bs4.dammit:Some characters could not be decoded, and were replaced with REPLACEMENT CHARACTER.\n",
            "WARNING:bs4.dammit:Some characters could not be decoded, and were replaced with REPLACEMENT CHARACTER.\n"
          ]
        },
        {
          "output_type": "stream",
          "name": "stdout",
          "text": [
            "Visited 1260: https://www.telstra.com.au/business-enterprise/support/tipt-phones#help-and-support\n"
          ]
        },
        {
          "output_type": "stream",
          "name": "stderr",
          "text": [
            "WARNING:bs4.dammit:Some characters could not be decoded, and were replaced with REPLACEMENT CHARACTER.\n",
            "WARNING:bs4.dammit:Some characters could not be decoded, and were replaced with REPLACEMENT CHARACTER.\n",
            "WARNING:bs4.dammit:Some characters could not be decoded, and were replaced with REPLACEMENT CHARACTER.\n",
            "WARNING:bs4.dammit:Some characters could not be decoded, and were replaced with REPLACEMENT CHARACTER.\n",
            "WARNING:bs4.dammit:Some characters could not be decoded, and were replaced with REPLACEMENT CHARACTER.\n",
            "WARNING:bs4.dammit:Some characters could not be decoded, and were replaced with REPLACEMENT CHARACTER.\n",
            "WARNING:bs4.dammit:Some characters could not be decoded, and were replaced with REPLACEMENT CHARACTER.\n",
            "WARNING:bs4.dammit:Some characters could not be decoded, and were replaced with REPLACEMENT CHARACTER.\n",
            "WARNING:bs4.dammit:Some characters could not be decoded, and were replaced with REPLACEMENT CHARACTER.\n",
            "WARNING:bs4.dammit:Some characters could not be decoded, and were replaced with REPLACEMENT CHARACTER.\n"
          ]
        },
        {
          "output_type": "stream",
          "name": "stdout",
          "text": [
            "Visited 1270: https://www.telstra.com.au/content/dam/shared-component-assets/tecom/uc&c/collaboration/tipt/support/telstra-vvx-300-301-phone-guide.pdf\n"
          ]
        },
        {
          "output_type": "stream",
          "name": "stderr",
          "text": [
            "WARNING:bs4.dammit:Some characters could not be decoded, and were replaced with REPLACEMENT CHARACTER.\n",
            "WARNING:bs4.dammit:Some characters could not be decoded, and were replaced with REPLACEMENT CHARACTER.\n",
            "WARNING:bs4.dammit:Some characters could not be decoded, and were replaced with REPLACEMENT CHARACTER.\n",
            "WARNING:bs4.dammit:Some characters could not be decoded, and were replaced with REPLACEMENT CHARACTER.\n",
            "WARNING:bs4.dammit:Some characters could not be decoded, and were replaced with REPLACEMENT CHARACTER.\n",
            "WARNING:bs4.dammit:Some characters could not be decoded, and were replaced with REPLACEMENT CHARACTER.\n",
            "WARNING:bs4.dammit:Some characters could not be decoded, and were replaced with REPLACEMENT CHARACTER.\n",
            "WARNING:bs4.dammit:Some characters could not be decoded, and were replaced with REPLACEMENT CHARACTER.\n",
            "WARNING:bs4.dammit:Some characters could not be decoded, and were replaced with REPLACEMENT CHARACTER.\n",
            "WARNING:bs4.dammit:Some characters could not be decoded, and were replaced with REPLACEMENT CHARACTER.\n"
          ]
        },
        {
          "output_type": "stream",
          "name": "stdout",
          "text": [
            "Visited 1280: https://www.telstra.com.au/content/dam/shared-component-assets/tecom/uc&c/collaboration/tipt/support/huawei-8950-quick-reference-guide.pdf\n"
          ]
        },
        {
          "output_type": "stream",
          "name": "stderr",
          "text": [
            "WARNING:bs4.dammit:Some characters could not be decoded, and were replaced with REPLACEMENT CHARACTER.\n",
            "WARNING:bs4.dammit:Some characters could not be decoded, and were replaced with REPLACEMENT CHARACTER.\n",
            "WARNING:bs4.dammit:Some characters could not be decoded, and were replaced with REPLACEMENT CHARACTER.\n",
            "WARNING:bs4.dammit:Some characters could not be decoded, and were replaced with REPLACEMENT CHARACTER.\n",
            "WARNING:bs4.dammit:Some characters could not be decoded, and were replaced with REPLACEMENT CHARACTER.\n"
          ]
        },
        {
          "output_type": "stream",
          "name": "stdout",
          "text": [
            "Visited 1290: https://www.telstra.com.au/business-enterprise/support/track-monitor#main-content\n",
            "Visited 1300: https://www.telstra.com.au/business-enterprise/support/t-analyst/manage-your-invoices#schedule-an-email-invoice\n",
            "Visited 1310: https://www.telstra.com.au/business-enterprise/support/t-analyst/reports#request\n",
            "Visited 1320: https://www.telstra.com.au/business-enterprise/support/t-analyst/hierarchies#adding-service-descriptions\n"
          ]
        },
        {
          "output_type": "stream",
          "name": "stderr",
          "text": [
            "WARNING:bs4.dammit:Some characters could not be decoded, and were replaced with REPLACEMENT CHARACTER.\n"
          ]
        },
        {
          "output_type": "stream",
          "name": "stdout",
          "text": [
            "Visited 1330: https://www.telstra.com.au/business-enterprise/support/t-analyst/how-to-videos#main-content\n",
            "Visited 1340: https://www.telstra.com.au/business-enterprise/support/t-analyst/how-to-videos#download-a-bill-T-Analyst\n",
            "Visited 1350: https://www.telstra.com.au/business-enterprise/support/tipt/tipt-how-to-videos#summary\n",
            "Total visited URLs: 1350\n"
          ]
        }
      ]
    },
    {
      "cell_type": "code",
      "source": [
        "with open(fldr+\"url_list.pkl\", \"wb\") as f:\n",
        "    pickle.dump(visited_urls, f)"
      ],
      "metadata": {
        "id": "0xc8prpvq6ul"
      },
      "execution_count": null,
      "outputs": []
    },
    {
      "cell_type": "code",
      "source": [
        "with open(fldr+\"url_list.pkl\", \"rb\") as f:\n",
        "    visited_urls = list(pickle.load(f))\n",
        "\n",
        "error_url_lst = []"
      ],
      "metadata": {
        "id": "u1VRXmTKrANa"
      },
      "execution_count": null,
      "outputs": []
    },
    {
      "cell_type": "code",
      "source": [
        "print(f\"Total visited URLs: {len(visited_urls)}\")"
      ],
      "metadata": {
        "colab": {
          "base_uri": "https://localhost:8080/"
        },
        "id": "RWd52bT8rTgq",
        "outputId": "7a00eaed-4e9b-4a79-d3a4-dd7e68c2a40b"
      },
      "execution_count": null,
      "outputs": [
        {
          "output_type": "stream",
          "name": "stdout",
          "text": [
            "Total visited URLs: 1350\n"
          ]
        }
      ]
    },
    {
      "cell_type": "markdown",
      "source": [
        "# Create Database"
      ],
      "metadata": {
        "id": "cLyTDzx3pqyO"
      }
    },
    {
      "cell_type": "code",
      "source": [
        "if os.path.exists(fldr+db_name):\n",
        "  faiss_telstra_support_db = FAISS.load_local(fldr+db_name,embeddings=OpenAIEmbeddings(), allow_dangerous_deserialization=True)\n",
        "  print(\"DB already exists\")\n",
        "else:\n",
        "  faiss_telstra_support_db = None\n",
        "  print(\"create a new database because none exists\")\n"
      ],
      "metadata": {
        "colab": {
          "base_uri": "https://localhost:8080/"
        },
        "id": "Od8mifCLrgHj",
        "outputId": "382cad5c-5213-40a3-80a1-eb99ac5a398c"
      },
      "execution_count": null,
      "outputs": [
        {
          "output_type": "stream",
          "name": "stdout",
          "text": [
            "create a new database because none exists\n"
          ]
        }
      ]
    },
    {
      "cell_type": "code",
      "source": [
        "for url in visited_urls[0:5000]:\n",
        "  print(url)\n",
        "  try:\n",
        "    docs = extract_process_url(url)\n",
        "    faiss_telstra_support_db = store_doc_into_db(docs, faiss_telstra_support_db)\n",
        "  except:\n",
        "    error_url_lst.append(url)\n"
      ],
      "metadata": {
        "colab": {
          "base_uri": "https://localhost:8080/"
        },
        "id": "NeJUIdwEmcaZ",
        "outputId": "a3b60115-2a54-4404-94a7-d5b8a4a280d0",
        "collapsed": true
      },
      "execution_count": null,
      "outputs": [
        {
          "output_type": "stream",
          "name": "stdout",
          "text": [
            "https://www.telstra.com.au/business-enterprise/support/important-terms#other-services\n",
            "https://www.telstra.com.au/support/mobiles-devices/device-security#device-security\n"
          ]
        },
        {
          "output_type": "stream",
          "name": "stderr",
          "text": [
            "WARNING:langchain_text_splitters.base:Created a chunk of size 1916, which is longer than the specified 1000\n"
          ]
        },
        {
          "output_type": "stream",
          "name": "stdout",
          "text": [
            "https://www.telstra.com.au/support/internet-and-home-phone/setup-telstra-smart-modem-for-adsl-hfc-cable#set-up\n",
            "https://www.telstra.com.au/support/entertainment/fetch#using-fetch\n",
            "https://www.telstra.com.au/support/mobiles-devices#main-content\n",
            "https://www.telstra.com.au/aboutus/support-in-times-of-need/adversity-financial-hardship\n",
            "https://www.telstra.com.au/small-business/online-support/mobiles-devices/telstra-one-number#main-content\n",
            "https://www.telstra.com.au/support/mobiles-devices/enable-volte-mobile-phone#tech-assist\n"
          ]
        },
        {
          "output_type": "stream",
          "name": "stderr",
          "text": [
            "WARNING:langchain_text_splitters.base:Created a chunk of size 1249, which is longer than the specified 1000\n",
            "WARNING:langchain_text_splitters.base:Created a chunk of size 2930, which is longer than the specified 1000\n"
          ]
        },
        {
          "output_type": "stream",
          "name": "stdout",
          "text": [
            "https://www.telstra.com.au/content/dam/shared-component-assets/tecom/support/sip-connect/sip-connect-accredited-pbx-devices-summary.xlsx\n"
          ]
        },
        {
          "output_type": "stream",
          "name": "stderr",
          "text": [
            "WARNING:langchain_text_splitters.base:Created a chunk of size 1156, which is longer than the specified 1000\n"
          ]
        },
        {
          "output_type": "stream",
          "name": "stdout",
          "text": [
            "https://www.telstra.com.au/content/dam/shared-component-assets/tecom/uc&c/collaboration/tipt/support/business-instantgroup-conferencing-quick-reference-guide.pdf\n"
          ]
        },
        {
          "output_type": "stream",
          "name": "stderr",
          "text": [
            "ERROR:langchain_community.document_loaders.url:Error fetching or processing https://www.telstra.com.au/content/dam/shared-component-assets/tecom/uc&c/collaboration/tipt/support/business-instantgroup-conferencing-quick-reference-guide.pdf, exception: partition_pdf is not available. Install the pdf dependencies with pip install \"unstructured[pdf]\"\n"
          ]
        },
        {
          "output_type": "stream",
          "name": "stdout",
          "text": [
            "https://www.telstra.com.au/small-business/online-support/internet/telstra-4gx-usb-pro#lights\n",
            "https://www.telstra.com.au/business-enterprise/support/customer-assurance#audit-reports\n",
            "https://www.telstra.com.au/small-business/online-support/business-software/authorise-email-productivity-apps-with-check-point-harmony-email-collaboration\n",
            "https://www.telstra.com.au/small-business/online-support/mobiles-devices/add-more-data\n",
            "https://www.telstra.com.au/support/internet-and-home-phone/setup-telstra-smart-modem-for-adsl-hfc-cable#hfc-new-cable-internet\n",
            "https://www.telstra.com.au/support/internet-and-home-phone/improve-internet-and-home-phone-speeds#one-slow-device\n",
            "https://www.telstra.com.au/business-enterprise/support/tipt#setting-up-your-services\n",
            "https://www.telstra.com.au/support/mobiles-devices/mobile-reception-interrupted\n",
            "https://www.telstra.com.au/small-business/online-support/accounts-payments/late-payment-fee#main-content\n",
            "https://www.telstra.com.au/business-enterprise/support/microsoft-operator-connect#main-content\n",
            "https://www.telstra.com.au/support/entertainment/foxtel-now#main-content\n",
            "https://www.telstra.com.au/business-enterprise/support/tipt-phones#cisco\n",
            "https://www.telstra.com.au/support/account-payment/get-a-refund#main-content\n",
            "https://www.telstra.com.au/small-business/online-support/internet/troubleshoot-telstra-modem#before-troubleshooting\n",
            "https://www.telstra.com.au/small-business/online-support/business-software/uninstall-check-point\n",
            "https://www.telstra.com.au/business-enterprise/support/tipt/webex-for-tipt#downloads-for-webex\n",
            "https://www.telstra.com.au/support/mobiles-devices/activate-sim-post-paid#main-content\n",
            "https://www.telstra.com.au/content/dam/tcom/personal/support/pdf/broadband/bigpond-mobile-wi-fi-4g-userguide.pdf\n"
          ]
        },
        {
          "output_type": "stream",
          "name": "stderr",
          "text": [
            "ERROR:langchain_community.document_loaders.url:Error fetching or processing https://www.telstra.com.au/content/dam/tcom/personal/support/pdf/broadband/bigpond-mobile-wi-fi-4g-userguide.pdf, exception: partition_pdf is not available. Install the pdf dependencies with pip install \"unstructured[pdf]\"\n"
          ]
        },
        {
          "output_type": "stream",
          "name": "stdout",
          "text": [
            "https://www.telstra.com.au/support/entertainment/how-do-i-use-my-google-home-google-home-mini-with-my-telstra-tv\n",
            "https://www.telstra.com.au/support/internet-and-home-phone/general-nbn-settings#main-content\n",
            "https://www.telstra.com.au/business-enterprise/support/microsoft-operator-connect#faqs\n",
            "https://www.telstra.com.au/small-business/online-support/business-software/setup-business-domain#main-content\n",
            "https://www.telstra.com.au/support/internet-and-home-phone/mobile-broadband-user-guides\n",
            "https://www.telstra.com.au/business-enterprise/support/important-terms#other-voice-services\n",
            "https://www.telstra.com.au/small-business/online-support/mobiles-devices/telstra-upfront-plans\n",
            "https://www.telstra.com.au/support/internet-and-home-phone/nbn-connection-types#lp:dtq/section:telstra-sales,consumer,explore,address-error,dtq\n",
            "https://www.telstra.com.au/content/dam/shared-component-assets/tecom/uc&c/collaboration/tipt/support/telstra-vvx-410-411-phone-guide.pdf\n"
          ]
        },
        {
          "output_type": "stream",
          "name": "stderr",
          "text": [
            "ERROR:langchain_community.document_loaders.url:Error fetching or processing https://www.telstra.com.au/content/dam/shared-component-assets/tecom/uc&c/collaboration/tipt/support/telstra-vvx-410-411-phone-guide.pdf, exception: partition_pdf is not available. Install the pdf dependencies with pip install \"unstructured[pdf]\"\n"
          ]
        },
        {
          "output_type": "stream",
          "name": "stdout",
          "text": [
            "https://www.telstra.com.au/small-business/online-support/accounts-payments/fees-on-payment-methods.#main-content\n",
            "https://www.telstra.com.au/support/mobiles-devices/3g-closure#lightbox-mandarin\n",
            "https://www.telstra.com.au/business-enterprise/support/t-analyst/download-centre#edit-pending-reports\n",
            "https://www.telstra.com.au/support/mobiles-devices/mobile-phone-wifi-hotspot\n",
            "https://www.telstra.com.au/small-business/online-support/internet/troubleshoot-telstra-modem#telstra-smart-modem\n",
            "https://enterprise-support.telstra.com.au/business-enterprise/products/internet-of-things\n",
            "https://www.telstra.com.au/support/entertainment/xbox-game-pass-ultimate#main-content\n",
            "https://www.telstra.com.au/small-business/online-support/accounts-payments/access-bereavement-support#tyntk\n",
            "https://www.telstra.com.au/small-business/online-support/accounts-payments/make-a-payment#direct-debit\n",
            "https://www.telstra.com.au/support/email/forgot-password\n",
            "https://www.telstra.com.au/small-business/online-support/business-software/manage-my-bills#bill-in-advance\n",
            "https://www.telstra.com.au/business-enterprise/support/t-analyst/setup-tools\n",
            "https://www.telstra.com.au/support/internet-and-home-phone/conferencing\n",
            "https://www.telstra.com.au/business-enterprise/support/tipt-administrator-guides#administrator-guides\n",
            "https://www.telstra.com.au/business-enterprise/support/tipt-phones#main-content\n",
            "https://www.telstra.com.au/support/entertainment/how-do-i-connect-my-foxtel-set-top-box-to-the-internet#main-content\n",
            "https://www.telstra.com.au/small-business/online-support/business-software/mcafee-endpoint-protection-essential#main-content\n",
            "https://www.telstra.com.au/business-enterprise/support/t-analyst/hierarchies#introduction-to-hierarchies\n",
            "https://www.telstra.com.au/support/account-payment/what-is-autopay#main-content\n",
            "https://www.telstra.com.au/support/mobiles-devices/troubleshoot-speed-latency-optimisers\n",
            "https://www.telstra.com.au/support/mobiles-devices/enable-volte-mobile-phone#main-content\n"
          ]
        },
        {
          "output_type": "stream",
          "name": "stderr",
          "text": [
            "WARNING:langchain_text_splitters.base:Created a chunk of size 1249, which is longer than the specified 1000\n",
            "WARNING:langchain_text_splitters.base:Created a chunk of size 2930, which is longer than the specified 1000\n"
          ]
        },
        {
          "output_type": "stream",
          "name": "stdout",
          "text": [
            "https://www.telstra.com.au/support/internet-and-home-phone/telstra-smart-modem-support#main-content\n",
            "https://www.telstra.com.au/support/mobiles-devices/messagebank-call-forwarding-ring-time#extend-ring-time\n",
            "https://www.telstra.com.au/support/mobiles-devices/telstra-wifi-calling#devices\n",
            "https://www.telstra.com.au/support/account-payment/track-update-online-order#troubleshooting\n"
          ]
        },
        {
          "output_type": "stream",
          "name": "stderr",
          "text": [
            "WARNING:langchain_text_splitters.base:Created a chunk of size 1104, which is longer than the specified 1000\n"
          ]
        },
        {
          "output_type": "stream",
          "name": "stdout",
          "text": [
            "https://www.telstra.com.au/content/dam/tcom/personal/support/pdf/broadband/set-up-guide-for-fttp-fw.pdf\n"
          ]
        },
        {
          "output_type": "stream",
          "name": "stderr",
          "text": [
            "ERROR:langchain_community.document_loaders.url:Error fetching or processing https://www.telstra.com.au/content/dam/tcom/personal/support/pdf/broadband/set-up-guide-for-fttp-fw.pdf, exception: partition_pdf is not available. Install the pdf dependencies with pip install \"unstructured[pdf]\"\n"
          ]
        },
        {
          "output_type": "stream",
          "name": "stdout",
          "text": [
            "https://www.telstra.com.au/support/mobiles-devices/unlock-phone-imei\n",
            "https://www.telstra.com.au/business-enterprise/support/microsoft-operator-connect\n",
            "https://www.telstra.com.au/support/account-payment/set-up-and-manage-a-passkey\n",
            "https://www.telstra.com.au/support/account-payment/view-print-bills#GST\n",
            "https://www.telstra.com.au/business-enterprise/support/tipt-phones#grandstream\n",
            "https://www.telstra.com.au/support/internet-and-home-phone/set-up-and-activate-telstra-pre-paid-mobile-broadband#main-content\n",
            "https://www.telstra.com.au/small-business/online-support/business-software/manage-business-domain#renewal\n",
            "https://www.telstra.com.au/business-enterprise/support/t-analyst/manage-your-invoices#viewing-a-single-invoice\n",
            "https://www.telstra.com.au/small-business/online-support/mobiles-devices/eligible-for-upfront-plan\n",
            "https://www.telstra.com.au/aboutus/support-in-times-of-need/bereavement-support#faqs\n",
            "https://www.telstra.com.au/content/dam/shared-component-assets/tecom/uc&c/collaboration/tipt/support/How-to-use-hotelling-with-a-premium-agent-or-supervisor-thin-client.pdf\n"
          ]
        },
        {
          "output_type": "stream",
          "name": "stderr",
          "text": [
            "ERROR:langchain_community.document_loaders.url:Error fetching or processing https://www.telstra.com.au/content/dam/shared-component-assets/tecom/uc&c/collaboration/tipt/support/How-to-use-hotelling-with-a-premium-agent-or-supervisor-thin-client.pdf, exception: partition_pdf is not available. Install the pdf dependencies with pip install \"unstructured[pdf]\"\n"
          ]
        },
        {
          "output_type": "stream",
          "name": "stdout",
          "text": [
            "https://www.telstra.com.au/support/email/accessibility-screen-reader#main-content\n",
            "https://www.telstra.com.au/support/email/troubleshoot\n",
            "https://www.telstra.com.au/support/internet-and-home-phone/nbn-connection-types#lightbox-nbn-hfc\n",
            "https://www.telstra.com.au/business-enterprise/support/tipt-phones#polycom\n",
            "https://www.telstra.com.au/support/mobiles-devices/reset-device#factory-reset-other-devices\n",
            "https://www.telstra.com.au/support/email/compromised#main-content\n",
            "https://www.telstra.com.au/support/account-payment/what-is-autopay\n",
            "https://www.telstra.com.au/support/account-payment/give-another-person-access-to-account.html#main-content\n",
            "https://www.telstra.com.au/support/entertainment\n",
            "https://www.telstra.com.au/support/internet-and-home-phone/report-a-fault\n",
            "https://www.telstra.com.au/small-business/online-support/accounts-payments/understanding-my-bill\n",
            "https://www.telstra.com.au/small-business/online-support/accounts-payments/view-data-usage#main-content\n",
            "https://www.telstra.com.au/support/account-payment/check-contract-or-cancel-service#main-content\n",
            "https://www.telstra.com.au/business-enterprise/support/customer-assurance#overview\n",
            "https://www.telstra.com.au/support/internet-and-home-phone/technician-service-appointment#appointment-window\n",
            "https://enterprise-support.telstra.com.au/business-enterprise/products/security/safeguard-your-clouds#main-content\n",
            "https://www.telstra.com.au/support/email/outlook\n",
            "https://www.telstra.com.au/business-enterprise/support/t-analyst/how-to-videos\n",
            "https://www.telstra.com.au/support/internet-and-home-phone/setup-internet-optimiser#main-content\n",
            "https://www.telstra.com.au/support/entertainment/flash-support#main-content\n",
            "https://www.telstra.com.au/support/entertainment/telstra-tv-hdcp-error#main-content\n",
            "https://www.telstra.com.au/support/account-payment/give-ownership-of-account-to-someone#upfront-plans\n",
            "https://www.telstra.com.au/small-business/online-support/accounts-payments/unlock-phone-using-puk-code#main-content\n",
            "https://enterprise-support.telstra.com.au/business-enterprise/products/networks/sdn\n",
            "https://www.telstra.com.au/support/internet-and-home-phone/fix-internet-optimiser-issues\n",
            "https://www.telstra.com.au/support/internet-and-home-phone/technician-service-appointment\n",
            "https://www.telstra.com.au/support/entertainment/connect-an-antenna-cable-to-telstra-tv\n",
            "https://www.telstra.com.au/support/account-payment/why-cant-i-access-premium-sms#main-content\n",
            "https://www.telstra.com.au/support/plan-update/ngwl-exit\n",
            "https://www.telstra.com.au/support/account-payment/set-up-direct-debit#lightbox-qrCodesTips\n",
            "https://www.telstra.com.au/business-enterprise/support/t-analyst/setup-tools#main-content\n",
            "https://www.telstra.com.au/support/account-payment/early-termination-charges#main-content\n",
            "https://www.telstra.com.au/support/entertainment/telstra-tv-antenna-plugged-in-no-channel-scan#main-content\n",
            "https://enterprise-support.telstra.com.au/business-enterprise/news-research/articles/key-updates-to-media-production-platform-unveiled-at-ibc2022#main-content\n",
            "https://www.telstra.com.au/support/account-payment/get-a-refund\n",
            "https://www.telstra.com.au/support/internet-and-home-phone/improve-internet-and-home-phone-speeds#main-content\n",
            "https://enterprise-support.telstra.com.au/business-enterprise/products/cloud#main-content\n",
            "https://www.telstra.com.au/business-enterprise/support/spatialinsights\n",
            "https://www.telstra.com.au/small-business/online-support/business-software/telstra-apps-marketplace#main-content\n",
            "https://www.telstra.com.au/business-enterprise/support/tipt/webex-for-tipt#setting-up-and-using-your-webex-services\n",
            "https://www.telstra.com.au/support/mobiles-devices/3g-closure-faq#commonQuestions\n",
            "https://www.telstra.com.au/support/account-payment/id-check-for-new-account\n"
          ]
        },
        {
          "output_type": "stream",
          "name": "stderr",
          "text": [
            "WARNING:langchain_text_splitters.base:Created a chunk of size 1097, which is longer than the specified 1000\n",
            "WARNING:langchain_text_splitters.base:Created a chunk of size 1075, which is longer than the specified 1000\n"
          ]
        },
        {
          "output_type": "stream",
          "name": "stdout",
          "text": [
            "https://www.telstra.com.au/support/entertainment/binge\n",
            "https://www.telstra.com.au/support/mobiles-devices/change-service-to-pre-paid-post-paid#postpaidToPrepaid\n",
            "https://www.telstra.com.au/business-enterprise/support/t-analyst/setup-tools#tools\n",
            "https://www.telstra.com.au/support/email/accessibility-screen-reader\n",
            "https://www.telstra.com.au/support/entertainment/troubleshooting-the-foxtel-app\n",
            "https://www.telstra.com.au/support/internet-and-home-phone/setup-telstra-smart-modem#4g-fixed-wireless\n",
            "https://www.telstra.com.au/support/email/compromised\n",
            "https://enterprise-support.telstra.com.au/business-enterprise/contact-us/request-callback\n",
            "https://www.telstra.com.au/small-business/online-support/business-software/upgrade-or-downgrade-software#main-content\n",
            "https://www.telstra.com.au/support/account-payment/fees-on-payment-methods\n",
            "https://www.telstra.com.au/support/mobiles-devices/3g-closure#lightbox-punjabi\n",
            "https://www.telstra.com.au/support/mobiles-devices/change-service-to-pre-paid-post-paid\n",
            "https://enterprise-support.telstra.com.au/business-enterprise/about-enterprise/our-network\n",
            "https://www.telstra.com.au/support/mobiles-devices/use-manage-telstra-one-number#main-content\n",
            "https://www.telstra.com.au/support/mobiles-devices/google-voice-activated-calling-changes#main-content\n",
            "https://www.telstra.com.au/business-enterprise/support/tipt#API-developers\n",
            "https://www.telstra.com.au/business-enterprise/support/tipt\n",
            "https://www.telstra.com.au/support/email/sync-email-calendar-contacts-to-device#main-content\n",
            "https://www.telstra.com.au/content/dam/shared-component-assets/tecom/uc&c/collaboration/tipt/support/huawei-8950-phone-guide.pdf\n"
          ]
        },
        {
          "output_type": "stream",
          "name": "stderr",
          "text": [
            "ERROR:langchain_community.document_loaders.url:Error fetching or processing https://www.telstra.com.au/content/dam/shared-component-assets/tecom/uc&c/collaboration/tipt/support/huawei-8950-phone-guide.pdf, exception: partition_pdf is not available. Install the pdf dependencies with pip install \"unstructured[pdf]\"\n"
          ]
        },
        {
          "output_type": "stream",
          "name": "stdout",
          "text": [
            "https://www.telstra.com.au/small-business/online-support/mobiles-devices/international-day-pass#activation\n",
            "https://www.telstra.com.au/support/account-payment/give-another-person-access-to-account#main-content\n",
            "https://www.telstra.com.au/support/account-payment/track-update-online-order#delivery\n"
          ]
        },
        {
          "output_type": "stream",
          "name": "stderr",
          "text": [
            "WARNING:langchain_text_splitters.base:Created a chunk of size 1104, which is longer than the specified 1000\n"
          ]
        },
        {
          "output_type": "stream",
          "name": "stdout",
          "text": [
            "https://www.telstra.com.au/business-enterprise/support/customer-assurance#cyberGRX-report\n",
            "https://www.telstra.com.au/support/internet-and-home-phone/setup-technician#change-appointment\n",
            "https://www.telstra.com.au/support/internet-and-home-phone/nbn-home-phone-during-a-power-outage\n",
            "https://www.telstra.com.au/support/internet-and-home-phone/connecting-to-wifi#main-content\n",
            "https://www.telstra.com.au/support/account-payment/install-and-use-my-telstra-app\n",
            "https://www.telstra.com.au/business-enterprise/support/billing-and-payments#bill\n",
            "https://www.telstra.com.au/support/email/spam#keep-email-address\n",
            "https://www.telstra.com.au/business-enterprise/support/microsoft-operator-connect#support-documents\n",
            "https://www.telstra.com.au/support/entertainment/apple-tv-plus-support\n",
            "https://www.telstra.com.au/support/internet-and-home-phone/dial-tone-different-sounds\n",
            "https://www.telstra.com.au/business-enterprise/support/enterprise-mobile-plan-changes#main-content\n",
            "https://www.telstra.com.au/small-business/online-support/accounts-payments/fees-on-payment-methods#main-content\n",
            "https://www.telstra.com.au/support/mobiles-devices/fix-esim\n",
            "https://www.telstra.com.au/small-business/online-support/mobiles-devices/cancel-mobile-plan#cancellation-fees\n",
            "https://www.telstra.com.au/support/email/email-phone-tablet\n",
            "https://www.telstra.com.au/support/entertainment/xbox-all-access\n",
            "https://enterprise-support.telstra.com.au/business-enterprise/news-research/articles/key-updates-to-media-production-platform-unveiled-at-ibc2022\n",
            "https://www.telstra.com.au/support/account-payment/give-another-person-access-to-account.html\n",
            "https://www.telstra.com.au/business-enterprise/support/how-do-i-claim-my-all-4-biz-loyalty-or-tef-loyalty-bonus\n",
            "https://www.telstra.com.au/business-enterprise/support/3g-service-closure#lightbox-networkSettings\n",
            "https://www.telstra.com.au/support/account-payment/early-termination-charges\n",
            "https://www.telstra.com.au/small-business/online-support/business-software/manage-my-bills#update-billing-method\n",
            "https://www.telstra.com.au/support/internet-and-home-phone/setup-telstra-smart-modem-for-adsl-hfc-cable#troubleshooting\n",
            "https://www.telstra.com.au/support/email/sent-folder\n",
            "https://www.telstra.com.au/small-business/online-support/business-software/manage-my-bills#more-billing\n",
            "https://www.telstra.com.au/support/plan-update/ngwl-exit#upgrade-to-4g\n",
            "https://www.telstra.com.au/small-business/online-support/mobiles-devices#manage-calls\n",
            "https://www.telstra.com.au/support/internet-and-home-phone/nbn-home-phone-during-a-power-outage#main-content\n",
            "https://www.telstra.com.au/small-business/online-support/mobiles-devices/mobility-accelerator\n",
            "https://www.telstra.com.au/forms/bereavement-support-form#main-content\n",
            "https://www.telstra.com.au/business-enterprise/support/3g-service-closure#main-content\n",
            "https://www.telstra.com.au/business-enterprise/support/tipt-call-centre-and-reception#miReception\n",
            "https://www.telstra.com.au/small-business/online-support/mobiles-devices/cancel-mobile-plan\n",
            "https://www.telstra.com.au/content/dam/shared-component-assets/tecom/uc&c/collaboration/tipt/support/ucss-sip-to-tipt-migration-guide.pdf\n"
          ]
        },
        {
          "output_type": "stream",
          "name": "stderr",
          "text": [
            "ERROR:langchain_community.document_loaders.url:Error fetching or processing https://www.telstra.com.au/content/dam/shared-component-assets/tecom/uc&c/collaboration/tipt/support/ucss-sip-to-tipt-migration-guide.pdf, exception: partition_pdf is not available. Install the pdf dependencies with pip install \"unstructured[pdf]\"\n"
          ]
        },
        {
          "output_type": "stream",
          "name": "stdout",
          "text": [
            "https://www.telstra.com.au/small-business/online-support/internet/problem-with-nbn-equipment#main-content\n",
            "https://www.telstra.com.au/small-business/online-support/accounts-payments/view-data-usage\n",
            "https://www.telstra.com.au/support/mobiles-devices/device-security#cancel-subscription\n"
          ]
        },
        {
          "output_type": "stream",
          "name": "stderr",
          "text": [
            "WARNING:langchain_text_splitters.base:Created a chunk of size 1916, which is longer than the specified 1000\n"
          ]
        },
        {
          "output_type": "stream",
          "name": "stdout",
          "text": [
            "https://www.telstra.com.au/content/dam/tcom/personal/support/pdf/broadband/set-up-guide-for-opticomm-access-network-fttp.pdf\n"
          ]
        },
        {
          "output_type": "stream",
          "name": "stderr",
          "text": [
            "ERROR:langchain_community.document_loaders.url:Error fetching or processing https://www.telstra.com.au/content/dam/tcom/personal/support/pdf/broadband/set-up-guide-for-opticomm-access-network-fttp.pdf, exception: partition_pdf is not available. Install the pdf dependencies with pip install \"unstructured[pdf]\"\n"
          ]
        },
        {
          "output_type": "stream",
          "name": "stdout",
          "text": [
            "https://www.telstra.com.au/business-enterprise/support/business-sip#help\n",
            "https://www.telstra.com.au/small-business/online-support/business-software#software\n",
            "https://www.telstra.com.au/support/account-payment/remove-service-restriction#main-content\n",
            "https://www.telstra.com.au/support/mobiles-devices/device-protect#about-dp\n",
            "https://www.telstra.com.au/content/dam/shared-component-assets/tecom/support/telstra-iso27001-certification-jan-2024.pdf\n"
          ]
        },
        {
          "output_type": "stream",
          "name": "stderr",
          "text": [
            "ERROR:langchain_community.document_loaders.url:Error fetching or processing https://www.telstra.com.au/content/dam/shared-component-assets/tecom/support/telstra-iso27001-certification-jan-2024.pdf, exception: partition_pdf is not available. Install the pdf dependencies with pip install \"unstructured[pdf]\"\n"
          ]
        },
        {
          "output_type": "stream",
          "name": "stdout",
          "text": [
            "https://www.telstra.com.au/small-business/online-support/mobiles-devices/forward-calls-on-mobile\n",
            "https://www.telstra.com.au/content/dam/shared-component-assets/tecom/uc&c/collaboration/tipt/support/key-system-emulation-guide.pdf\n"
          ]
        },
        {
          "output_type": "stream",
          "name": "stderr",
          "text": [
            "ERROR:langchain_community.document_loaders.url:Error fetching or processing https://www.telstra.com.au/content/dam/shared-component-assets/tecom/uc&c/collaboration/tipt/support/key-system-emulation-guide.pdf, exception: partition_pdf is not available. Install the pdf dependencies with pip install \"unstructured[pdf]\"\n"
          ]
        },
        {
          "output_type": "stream",
          "name": "stdout",
          "text": [
            "https://www.telstra.com.au/support/mobiles-devices/upgrade-swap-or-trade-in-device?wcmmode=disabled#before-return-device\n",
            "https://www.telstra.com.au/support/entertainment/what-do-i-do-if-i-cant-pair-my-ttv-mobile-app#main-content\n",
            "https://www.telstra.com.au/support/internet-and-home-phone/setup-telstra-smart-modem#hfc\n",
            "https://www.telstra.com.au/small-business/online-support/internet/self-install-business-smart-modem#things-to-know\n",
            "https://enterprise-support.telstra.com.au/business-enterprise/news-research/case-studies\n",
            "https://www.telstra.com.au/support/email/sync-email-calendar-contacts-to-device\n",
            "https://www.telstra.com.au/support/mobiles-devices/enable-volte-mobile-phone#compatible-devices\n"
          ]
        },
        {
          "output_type": "stream",
          "name": "stderr",
          "text": [
            "WARNING:langchain_text_splitters.base:Created a chunk of size 1249, which is longer than the specified 1000\n",
            "WARNING:langchain_text_splitters.base:Created a chunk of size 2930, which is longer than the specified 1000\n"
          ]
        },
        {
          "output_type": "stream",
          "name": "stdout",
          "text": [
            "https://www.telstra.com.au/support/account-payment/how-can-i-receive-my-bill#switch\n",
            "https://www.telstra.com.au/content/dam/shared-component-assets/tecom/support/business-sip/business-sip-ntu-factory-reset.pdf\n"
          ]
        },
        {
          "output_type": "stream",
          "name": "stderr",
          "text": [
            "ERROR:langchain_community.document_loaders.url:Error fetching or processing https://www.telstra.com.au/content/dam/shared-component-assets/tecom/support/business-sip/business-sip-ntu-factory-reset.pdf, exception: partition_pdf is not available. Install the pdf dependencies with pip install \"unstructured[pdf]\"\n"
          ]
        },
        {
          "output_type": "stream",
          "name": "stdout",
          "text": [
            "https://www.telstra.com.au/business-enterprise/support/fleet-complete#main-content\n",
            "https://www.telstra.com.au/support/mobiles-devices/cooling-off-period#main-content\n",
            "https://www.telstra.com.au/small-business/online-support/business-software/change-business-domain-provider#change\n",
            "https://www.telstra.com.au/support/internet-and-home-phone/improve-internet-and-home-phone-speeds#expectedSpeeds\n",
            "https://www.telstra.com.au/support/entertainment/everything-you-need-to-know-about-the-foxtel-app\n",
            "https://www.telstra.com.au/small-business/online-support/accounts-payments#main-content\n",
            "https://www.telstra.com.au/support/internet-and-home-phone\n",
            "https://www.telstra.com.au/small-business/online-support/business-software/install-mcafee-endpoint-protection-essential\n",
            "https://www.telstra.com.au/support/mobiles-devices/what-are-the-different-types-of-international-roaming#payg\n",
            "https://www.telstra.com.au/support/pre-paid/manage-pre-paid\n",
            "https://www.telstra.com.au/support/mobiles-devices/how-do-I-make-calls-sms-and-get-online-with-international-roaming#international-roaming-on-a-cruise\n",
            "https://www.telstra.com.au/small-business/online-support/business-software/manage-my-bills#view-overdue-bills\n",
            "https://enterprise-support.telstra.com.au/business-enterprise/news-research/case-studies/medhealth-supports-australians-with-telstra-contact-centre-genesys-cloud#main-content\n",
            "https://www.telstra.com.au/small-business/online-support/accounts-payments/using-your-telstra-tools#billing\n",
            "https://enterprise-support.telstra.com.au/business-enterprise/news-research/articles/managed-services-today-do-more-than-keep-the-lights-on#main-content\n",
            "https://www.telstra.com.au/small-business/online-support/accounts-payments/authorise-access-to-an-account#bereavement-support\n",
            "https://www.telstra.com.au/small-business/online-support/business-software/authorise-office365-mail-onedrive-msteams-sharepoint-with-check-point-harmony-email-collaboration#main-content\n",
            "https://www.telstra.com.au/support/account-payment/id-check-for-new-account#online-or-phone\n"
          ]
        },
        {
          "output_type": "stream",
          "name": "stderr",
          "text": [
            "WARNING:langchain_text_splitters.base:Created a chunk of size 1097, which is longer than the specified 1000\n",
            "WARNING:langchain_text_splitters.base:Created a chunk of size 1075, which is longer than the specified 1000\n"
          ]
        },
        {
          "output_type": "stream",
          "name": "stdout",
          "text": [
            "https://www.telstra.com.au/support/internet-and-home-phone/setup-telstra-smart-modem#hfc-cable-step-3\n",
            "https://www.telstra.com.au/support/entertainment/how-do-i-cancel-my-foxtel-service#main-content\n",
            "https://www.telstra.com.au/small-business/online-support/business-software/authorise-email-productivity-apps-with-check-point-harmony-email-collaboration#main-content\n",
            "https://www.telstra.com.au/support/internet-and-home-phone/5g-home-support#using5G\n",
            "https://www.telstra.com.au/small-business/online-support/reach-out-to-us-service\n",
            "https://www.telstra.com.au/support/internet-and-home-phone/check-smart-modem#main-content\n",
            "https://www.telstra.com.au/small-business/online-support/accounts-payments/access-my-old-bills\n",
            "https://www.telstra.com.au/aboutus/support-in-times-of-need/disaster-relief#lp:dtq/section:telstra,tcom,disaster-relief,msg,dtq,non-auth\n",
            "https://www.telstra.com.au/support/internet-and-home-phone/fix-internet-optimiser-issues#main-content\n",
            "https://www.telstra.com.au/business-enterprise/support/customer-assurance\n",
            "https://enterprise-support.telstra.com.au/business-enterprise/products/unified-communications\n",
            "https://www.telstra.com.au/content/dam/shared-component-assets/tecom/uc&c/collaboration/tipt/support/telstra-vvx-600-601-phone-guide-firmware.pdf\n"
          ]
        },
        {
          "output_type": "stream",
          "name": "stderr",
          "text": [
            "ERROR:langchain_community.document_loaders.url:Error fetching or processing https://www.telstra.com.au/content/dam/shared-component-assets/tecom/uc&c/collaboration/tipt/support/telstra-vvx-600-601-phone-guide-firmware.pdf, exception: partition_pdf is not available. Install the pdf dependencies with pip install \"unstructured[pdf]\"\n"
          ]
        },
        {
          "output_type": "stream",
          "name": "stdout",
          "text": [
            "https://www.telstra.com.au/support/account-payment/pay-your-bill#pay-online\n",
            "https://www.telstra.com.au/support/entertainment/what-is-the-AFL-live-app#main-content\n",
            "https://www.telstra.com.au/business-enterprise/support/important-terms#main-content\n",
            "https://www.telstra.com.au/business-enterprise/support/tipt-phones#panasonic-DECT\n",
            "https://www.telstra.com.au/business-enterprise/support/t-analyst/how-to-videos#request-an-email-bill\n",
            "https://enterprise-support.telstra.com.au/business-enterprise/news-research/articles/managed-services-today-do-more-than-keep-the-lights-on\n",
            "https://www.telstra.com.au/support/mobiles-devices/restart-device#main-content\n",
            "https://www.telstra.com.au/support/mobiles-devices/change-mobile-number#main-content\n",
            "https://www.telstra.com.au/small-business/online-support/mobiles-devices/check-roaming-usage#main-content\n",
            "https://www.telstra.com.au/business-enterprise/support/tipt-phones#huawei\n",
            "https://www.telstra.com.au/support/mobiles-devices/check-manage-mobile-data-usage#main-content\n",
            "https://enterprise-support.telstra.com.au/content/dam/shared-component-assets/tecom/accounts/telstra-financial-hardship-policy.pdf#main-content\n",
            "https://www.telstra.com.au/support/entertainment/how-to-watch-a-video-or-listen-to-music-from-an-external-source#main-content\n",
            "https://www.telstra.com.au/support/entertainment/telstra-tv-manage-parental-controls#main-content\n",
            "https://www.telstra.com.au/business-enterprise/support/t-analyst/how-to-videos#overview\n",
            "https://www.telstra.com.au/business-enterprise/support/tipt-call-centre-and-reception#help-and-support\n",
            "https://www.telstra.com.au/support/internet-and-home-phone/prioritise-internet-optimiser-for-gaming-or-work#main-content\n",
            "https://www.telstra.com.au/small-business/online-support/business-software/telstra-apps-marketplace-terms-conditions#main-content\n",
            "https://www.telstra.com.au/business-enterprise/support/tipt/tipt-how-to-videos\n",
            "https://www.telstra.com.au/support/internet-and-home-phone/nbn-connection-types#lightbox-add-line\n",
            "https://www.telstra.com.au/support/mobiles-devices/upgrade-swap-or-trade-in-device#return-device\n",
            "https://www.telstra.com.au/support/mobiles-devices/set-up-and-manage-speed-latency-optimisers#main-content\n",
            "https://www.telstra.com.au/support/entertainment/what-is-the-telstra-tv-app#troubleshoot\n",
            "https://www.telstra.com.au/support/internet-and-home-phone/report-a-fault#how-to-report\n",
            "https://www.telstra.com.au/small-business/online-support/accounts-payments/authorise-access-to-an-account\n",
            "https://www.telstra.com.au/support/pre-paid/digital-voucher-recharge#lightbox-casualRecharge35\n",
            "https://www.telstra.com.au/support/internet-and-home-phone/restart-modem-and-network-connection-device#main-content\n",
            "https://www.telstra.com.au/support/account-payment/install-and-use-my-telstra-app?$web_only=true&_branch_match_id=1261175347218877515&utm_medium=Telstra%20Digital&_branch_referrer=H4sIAAAAAAAAA8soKSkottLXL0nNKS4pStQtT03SSywo0MvJzMvWT9U3DsmJMIzMCC/wSgIAo872pCoAAAA=#main-content\n",
            "https://www.telstra.com.au/small-business/online-support/accounts-payments/paper-bill-fees#how-much-will-i-be-charged-for-a-paper-bill\n",
            "https://www.telstra.com.au/small-business/online-support/mobiles-devices/pay-as-you-go-international-roaming#main-content\n",
            "https://www.telstra.com.au/support/account-payment/pay-your-bill#pay-with-bpay\n",
            "https://www.telstra.com.au/small-business/online-support/internet/professional-install-order#main-content\n",
            "https://www.telstra.com.au/business-enterprise/support/liberate#main-content\n",
            "https://www.telstra.com.au/small-business/online-support/accounts-payments/paper-bill-fees#main-content\n",
            "https://www.telstra.com.au/small-business/online-support/business-software/authorise-gmail-google-drive-with-check-point-harmony-email-collaboration\n",
            "https://www.telstra.com.au/small-business/online-support/business-software/install-check-point\n",
            "https://www.telstra.com.au/support/internet-and-home-phone/cancel-internet-or-home-phone-service#main-content\n",
            "https://www.telstra.com.au/small-business/online-support/mobiles-devices/cancel-mobile-plan#contract-info\n",
            "https://www.telstra.com.au/business-enterprise/support/tipt-administrator-guides#main-content\n",
            "https://www.telstra.com.au/business-enterprise/support/tipt/tipt-how-to-videos#summary\n",
            "https://www.telstra.com.au/support/entertainment/kayo-app-faqs\n",
            "https://www.telstra.com.au/content/dam/shared-component-assets/tecom/support/secureedge/secureedge-network-technical-guide.pdf\n"
          ]
        },
        {
          "output_type": "stream",
          "name": "stderr",
          "text": [
            "ERROR:langchain_community.document_loaders.url:Error fetching or processing https://www.telstra.com.au/content/dam/shared-component-assets/tecom/support/secureedge/secureedge-network-technical-guide.pdf, exception: partition_pdf is not available. Install the pdf dependencies with pip install \"unstructured[pdf]\"\n"
          ]
        },
        {
          "output_type": "stream",
          "name": "stdout",
          "text": [
            "https://www.telstra.com.au/small-business/online-support/internet/troubleshoot-telstra-modem#troubleshooting\n",
            "https://www.telstra.com.au/small-business/online-support/accounts-payments/my-telstra-app-for-business#main-content\n",
            "https://www.telstra.com.au/content/dam/shared-component-assets/tecom/uc&c/collaboration/tipt/support/telstra-vvx-410-411-phone-quick-reference-guide.pdf\n"
          ]
        },
        {
          "output_type": "stream",
          "name": "stderr",
          "text": [
            "ERROR:langchain_community.document_loaders.url:Error fetching or processing https://www.telstra.com.au/content/dam/shared-component-assets/tecom/uc&c/collaboration/tipt/support/telstra-vvx-410-411-phone-quick-reference-guide.pdf, exception: partition_pdf is not available. Install the pdf dependencies with pip install \"unstructured[pdf]\"\n"
          ]
        },
        {
          "output_type": "stream",
          "name": "stdout",
          "text": [
            "https://www.telstra.com.au/support/account-payment/track-update-online-order#changes\n"
          ]
        },
        {
          "output_type": "stream",
          "name": "stderr",
          "text": [
            "WARNING:langchain_text_splitters.base:Created a chunk of size 1104, which is longer than the specified 1000\n"
          ]
        },
        {
          "output_type": "stream",
          "name": "stdout",
          "text": [
            "https://enterprise-support.telstra.com.au/business-enterprise/products/security/protect-your-team#main-content\n",
            "https://www.telstra.com.au/support/email/imap-pop-smtp-mail-server-settings#main-content\n",
            "https://www.telstra.com.au/support/internet-and-home-phone/mobile-broadband-user-guides#main-content\n",
            "https://www.telstra.com.au/support/entertainment/xbox-all-access#main-content\n",
            "https://www.telstra.com.au/support/entertainment/telstra-tv-how-do-i-turn-off-telstra-tv#main-content\n",
            "https://www.telstra.com.au/support/internet-and-home-phone/technician-service-appointment#main-content\n",
            "https://www.telstra.com.au/content/dam/tcom/personal/support/pdf/home-phone/home-phone-user-guide-c020.pdf\n"
          ]
        },
        {
          "output_type": "stream",
          "name": "stderr",
          "text": [
            "ERROR:langchain_community.document_loaders.url:Error fetching or processing https://www.telstra.com.au/content/dam/tcom/personal/support/pdf/home-phone/home-phone-user-guide-c020.pdf, exception: partition_pdf is not available. Install the pdf dependencies with pip install \"unstructured[pdf]\"\n"
          ]
        },
        {
          "output_type": "stream",
          "name": "stdout",
          "text": [
            "https://www.telstra.com.au/small-business/online-support/internet/test-internet-speed#main-content\n",
            "https://enterprise-support.telstra.com.au/business-enterprise/products/internet-of-things/solutions\n",
            "https://www.telstra.com.au/support/internet-and-home-phone/setup-telstra-smart-modem-for-adsl-hfc-cable#main-content\n",
            "https://www.telstra.com.au/small-business/online-support/internet/self-install-business-smart-modem#main-content\n",
            "https://www.telstra.com.au/small-business/online-support/reach-out-to-us-service#main-content\n",
            "https://www.telstra.com.au/support/account-payment/final-bill#main-content\n",
            "https://www.telstra.com.au/support/email/sign-in-webmail\n",
            "https://enterprise-support.telstra.com.au/business-enterprise/about-enterprise/innovation\n",
            "https://www.telstra.com.au/aboutus/support-in-times-of-need/bereavement-support#main-content\n",
            "https://www.telstra.com.au/small-business/online-support/mobiles-devices/pay-as-you-go-international-roaming\n",
            "https://www.telstra.com.au/support/internet-and-home-phone/fix-internet-issues\n",
            "https://www.telstra.com.au/business-enterprise/support/changing-an-apn-setting#apple-ipad\n",
            "https://www.telstra.com.au/support/entertainment/binge#main-content\n",
            "https://www.telstra.com.au/support/pre-paid/100exit\n",
            "https://www.telstra.com.au/content/dam/shared-component-assets/tecom/support/tipt/tipt-grandstream-wp820-installation-guide.pdf\n"
          ]
        },
        {
          "output_type": "stream",
          "name": "stderr",
          "text": [
            "ERROR:langchain_community.document_loaders.url:Error fetching or processing https://www.telstra.com.au/content/dam/shared-component-assets/tecom/support/tipt/tipt-grandstream-wp820-installation-guide.pdf, exception: partition_pdf is not available. Install the pdf dependencies with pip install \"unstructured[pdf]\"\n"
          ]
        },
        {
          "output_type": "stream",
          "name": "stdout",
          "text": [
            "https://www.telstra.com.au/support/mobiles-devices/how-do-I-transfer-data-from-my-old-phone-to-my-new-samsung-galaxy-S21#main-content\n",
            "https://www.telstra.com.au/support/mobiles-devices/3g-closure#lightbox-cantonese\n",
            "https://www.telstra.com.au/business-enterprise/support/t-analyst/hierarchies#assigning-new-accounts-to-hierarchy\n",
            "https://www.telstra.com.au/small-business/online-support/business-software/manage-my-bills\n",
            "https://enterprise-support.telstra.com.au/business-enterprise/products/security#main-content\n",
            "https://www.telstra.com.au/content/dam/shared-component-assets/tecom/uc&c/collaboration/tipt/support/business-mireception-user-guide.pdf\n"
          ]
        },
        {
          "output_type": "stream",
          "name": "stderr",
          "text": [
            "ERROR:langchain_community.document_loaders.url:Error fetching or processing https://www.telstra.com.au/content/dam/shared-component-assets/tecom/uc&c/collaboration/tipt/support/business-mireception-user-guide.pdf, exception: partition_pdf is not available. Install the pdf dependencies with pip install \"unstructured[pdf]\"\n"
          ]
        },
        {
          "output_type": "stream",
          "name": "stdout",
          "text": [
            "https://www.telstra.com.au/support/mobiles-devices/phone-sms-scams#main-content\n",
            "https://enterprise-support.telstra.com.au/content/dam/shared-component-assets/tecom/accounts/telstra-financial-hardship-policy.pdf\n",
            "https://www.telstra.com.au/business-enterprise/support/changing-an-apn-setting#smartphone\n",
            "https://www.telstra.com.au/business-enterprise/support/t-analyst/manage-your-invoices#schedule-an-email-invoice\n",
            "https://www.telstra.com.au/business-enterprise/support/t-analyst/manage-your-invoices#viewing-consolidated-invoices\n",
            "https://www.telstra.com.au/small-business/online-support/mobiles-devices/payment-for-upfront-mobile-and-data-plan#main-content\n",
            "https://www.telstra.com.au/small-business/online-support/internet/nbn-satisfaction-guarantee#main-content\n",
            "https://www.telstra.com.au/small-business/online-support/internet/priority-assist-for-business\n",
            "https://www.telstra.com.au/business-enterprise/support/t-analyst/how-to-videos#troubleshooting\n",
            "https://www.telstra.com.au/support/internet-and-home-phone/caller-id-and-calling-number-display#main-content\n",
            "https://www.telstra.com.au/aboutus/support-in-times-of-need/bereavement-support#ways-to-notify-us\n",
            "https://www.telstra.com.au/support/internet-and-home-phone/content-using-most-data#main-content\n",
            "https://www.telstra.com.au/small-business/online-support/business-software/change-telstra-apps-marketplace-password\n",
            "https://www.telstra.com.au/support/internet-and-home-phone/set-up-smart-wifi-booster#faqs\n",
            "https://enterprise-support.telstra.com.au/business-enterprise/products/networks\n",
            "https://www.telstra.com.au/content/dam/shared-component-assets/tecom/uc&c/collaboration/tipt/support/Telstra%20Cisco%206851%20MPP%20User%20Guide.pdf\n"
          ]
        },
        {
          "output_type": "stream",
          "name": "stderr",
          "text": [
            "ERROR:langchain_community.document_loaders.url:Error fetching or processing https://www.telstra.com.au/content/dam/shared-component-assets/tecom/uc&c/collaboration/tipt/support/Telstra%20Cisco%206851%20MPP%20User%20Guide.pdf, exception: partition_pdf is not available. Install the pdf dependencies with pip install \"unstructured[pdf]\"\n"
          ]
        },
        {
          "output_type": "stream",
          "name": "stdout",
          "text": [
            "https://www.telstra.com.au/support/pre-paid/speed-caps#main-content\n",
            "https://enterprise-support.telstra.com.au/business-enterprise/products/mobility-solutions\n",
            "https://www.telstra.com.au/business-enterprise/support/3g-service-closure#lightbox-networkAutomatic\n",
            "https://www.telstra.com.au/business-enterprise/support/billing-and-payments#main-content\n",
            "https://www.telstra.com.au/business-enterprise/support/track-monitor\n",
            "https://www.telstra.com.au/support/mobiles-devices/upgrade-swap-or-trade-in-device#before-return-device\n",
            "https://www.telstra.com.au/support/mobiles-devices/caller-id-mobile#main-content\n",
            "https://www.telstra.com.au/small-business/online-support/accounts-payments/make-a-payment#online\n",
            "https://www.telstra.com.au/support/internet-and-home-phone/nbn-connection-types#lightbox-nbn-fttb\n",
            "https://www.telstra.com.au/support/account-payment/pay-your-bill#pay-over-the-phone\n",
            "https://www.telstra.com.au/support/internet-and-home-phone/satisfaction-guarantee#main-content\n"
          ]
        },
        {
          "output_type": "stream",
          "name": "stderr",
          "text": [
            "WARNING:langchain_text_splitters.base:Created a chunk of size 1062, which is longer than the specified 1000\n"
          ]
        },
        {
          "output_type": "stream",
          "name": "stdout",
          "text": [
            "https://enterprise-support.telstra.com.au/business-enterprise/products/networks#main-content\n",
            "https://www.telstra.com.au/support/internet-and-home-phone/nbn-connection-types#lightbox-nbn-fttp\n",
            "https://www.telstra.com.au/support/internet-and-home-phone/home-internet-order-next-steps#main-content\n",
            "https://www.telstra.com.au/support/account-payment/give-another-person-access-to-account.html#3rd-party-authority\n",
            "https://www.telstra.com.au/business-enterprise/support/t-analyst/hierarchies#main-content\n",
            "https://www.telstra.com.au/support/account-payment/view-print-bills#main-content\n",
            "https://www.telstra.com.au/first-nations-australians/customer-support\n",
            "https://www.telstra.com.au/support/entertainment/suspend-foxtel-service\n",
            "https://www.telstra.com.au/small-business/online-support/accounts-payments/access-bereavement-support#who-notify-us\n",
            "https://www.telstra.com.au/business-enterprise/support/tipt/webex-for-tipt#main-content\n",
            "https://www.telstra.com.au/business-enterprise/support/changing-an-apn-setting#samsung-tablet\n",
            "https://enterprise-support.telstra.com.au/business-enterprise/products/unified-communications/meeting-rooms-and-conferencing\n",
            "https://www.telstra.com.au/support/pre-paid/fix-issue-with-pre-paid-service#main-content\n",
            "https://www.telstra.com.au/small-business/online-support/mobiles-devices/mobility-accelerator#manage\n",
            "https://www.telstra.com.au/small-business/online-support/business-software/software-suspended#main-content\n",
            "https://www.telstra.com.au/business-enterprise/support/3g-service-closure#lightbox-volteCompatibleDevices\n",
            "https://www.telstra.com.au/support/entertainment/fetch#setup\n",
            "https://www.telstra.com.au/business-enterprise/support/financial-hardship-policy#main-content\n",
            "https://www.telstra.com.au/aboutus/support-in-times-of-need/disaster-relief#prepare-for-disaster\n",
            "https://www.telstra.com.au/support/mobiles-devices/upgrade-swap-or-trade-in-device?wcmmode=disabled\n",
            "https://www.telstra.com.au/support/internet-and-home-phone/telstra-contacting-you#main-content\n",
            "https://www.telstra.com.au/aboutus/support-in-times-of-need/critical-illness-support#relatedArticles\n",
            "https://www.telstra.com.au/support/mobiles-devices/change-service-to-pre-paid-post-paid#main-content\n",
            "https://www.telstra.com.au/support/entertainment/xbox-all-access#troubleshooting\n",
            "https://www.telstra.com.au/support/internet-and-home-phone/setup-telstra-smart-modem\n",
            "https://www.telstra.com.au/business-enterprise/support/permanent-inbound-roaming-policy\n",
            "https://www.telstra.com.au/small-business/online-support/mobiles-devices/change-mobile-plan\n",
            "https://www.telstra.com.au/support/mobiles-devices/what-are-the-different-types-of-international-roaming#main-content\n",
            "https://www.telstra.com.au/small-business/online-support/accounts-payments/moving-office#main-content\n",
            "https://www.telstra.com.au/support/entertainment/flash-support\n",
            "https://www.telstra.com.au/small-business/online-support/business-software/setup-business-domain#dns\n",
            "https://www.telstra.com.au/business-enterprise/support/t-analyst/download-centre#main-content\n",
            "https://www.telstra.com.au/content/dam/shared-component-assets/tecom/support/secureedge/secureedge-network-user-guide.pdf\n"
          ]
        },
        {
          "output_type": "stream",
          "name": "stderr",
          "text": [
            "ERROR:langchain_community.document_loaders.url:Error fetching or processing https://www.telstra.com.au/content/dam/shared-component-assets/tecom/support/secureedge/secureedge-network-user-guide.pdf, exception: partition_pdf is not available. Install the pdf dependencies with pip install \"unstructured[pdf]\"\n"
          ]
        },
        {
          "output_type": "stream",
          "name": "stdout",
          "text": [
            "https://www.telstra.com.au/support/entertainment/changes-to-foxtel-from-telstra\n",
            "https://www.telstra.com.au/support/mobiles-devices/enable-volte-mobile-phone#roaming\n"
          ]
        },
        {
          "output_type": "stream",
          "name": "stderr",
          "text": [
            "WARNING:langchain_text_splitters.base:Created a chunk of size 1249, which is longer than the specified 1000\n",
            "WARNING:langchain_text_splitters.base:Created a chunk of size 2930, which is longer than the specified 1000\n"
          ]
        },
        {
          "output_type": "stream",
          "name": "stdout",
          "text": [
            "https://www.telstra.com.au/content/dam/shared-component-assets/tecom/uc&c/collaboration/tipt/support/Polycom%20VVX%20250%20350%20and%20450%20use%20guide.pdf\n"
          ]
        },
        {
          "output_type": "stream",
          "name": "stderr",
          "text": [
            "ERROR:langchain_community.document_loaders.url:Error fetching or processing https://www.telstra.com.au/content/dam/shared-component-assets/tecom/uc&c/collaboration/tipt/support/Polycom%20VVX%20250%20350%20and%20450%20use%20guide.pdf, exception: partition_pdf is not available. Install the pdf dependencies with pip install \"unstructured[pdf]\"\n"
          ]
        },
        {
          "output_type": "stream",
          "name": "stdout",
          "text": [
            "https://www.telstra.com.au/support/account-payment/give-ownership-of-account-to-someone#main-content\n",
            "https://www.telstra.com.au/support/email/compromised#how-did-this-happen\n",
            "https://www.telstra.com.au/support/internet-and-home-phone/set-up-telstra-satellite-internet-by-starlink#main-content\n",
            "https://www.telstra.com.au/support/internet-and-home-phone/smart-wi-fi-booster-support#set-up\n",
            "https://www.telstra.com.au/support/mobiles-devices/device-protect#manage\n",
            "https://www.telstra.com.au/small-business/online-support/business-software/install-mcafee-endpoint-protection-essential#main-content\n",
            "https://enterprise-support.telstra.com.au/business-enterprise/products/cloud\n",
            "https://www.telstra.com.au/support/entertainment/change-screen-resolution-on-telstra-tv#main-content\n",
            "https://enterprise-support.telstra.com.au/business-enterprise/news-research/articles/moving-to-sd-wan-is-your-best-opportunity-to-right-the-actions-of-the-past\n",
            "https://enterprise-support.telstra.com.au/t5/Knowledge-Articles/Telstra-Business-SIP-Information-and-User-Guides/ta-p/4725\n",
            "https://www.telstra.com.au/support/entertainment/xbox-game-pass-ultimate\n",
            "https://www.telstra.com.au/small-business/online-support/accounts-payments/make-a-payment#pay-in-person\n",
            "https://www.telstra.com.au/support\n",
            "https://www.telstra.com.au/support/pre-paid/issues-redeeming-recharge-voucher\n",
            "https://www.telstra.com.au/small-business/online-support/mobiles-devices/mobility-accelerator#what\n",
            "https://www.telstra.com.au/business-enterprise/support/secureedge\n",
            "https://www.telstra.com.au/support/account-payment/id-check-for-new-account#primary-id\n"
          ]
        },
        {
          "output_type": "stream",
          "name": "stderr",
          "text": [
            "WARNING:langchain_text_splitters.base:Created a chunk of size 1097, which is longer than the specified 1000\n",
            "WARNING:langchain_text_splitters.base:Created a chunk of size 1075, which is longer than the specified 1000\n"
          ]
        },
        {
          "output_type": "stream",
          "name": "stdout",
          "text": [
            "https://www.telstra.com.au/business-enterprise/support/sip-connect#setting-up-your-services\n",
            "https://www.telstra.com.au/support/internet-and-home-phone/access-modem-settings\n",
            "https://www.telstra.com.au/business-enterprise/support/tipt#faqs\n",
            "https://www.telstra.com.au/support/email#setup-email\n",
            "https://www.telstra.com.au/support/internet-and-home-phone/set-up-and-manage-messagebank\n",
            "https://www.telstra.com.au/support/mobiles-devices/how-do-I-make-calls-sms-and-get-online-with-international-roaming#main-content\n",
            "https://enterprise-support.telstra.com.au/business-enterprise/about-enterprise/our-network/5g\n",
            "https://www.telstra.com.au/support/mobiles-devices/enable-volte-mobile-phone#enable-volte\n"
          ]
        },
        {
          "output_type": "stream",
          "name": "stderr",
          "text": [
            "WARNING:langchain_text_splitters.base:Created a chunk of size 1249, which is longer than the specified 1000\n",
            "WARNING:langchain_text_splitters.base:Created a chunk of size 2930, which is longer than the specified 1000\n"
          ]
        },
        {
          "output_type": "stream",
          "name": "stdout",
          "text": [
            "https://www.telstra.com.au/small-business/online-support/business-software/install-check-point#main-content\n",
            "https://www.telstra.com.au/support/entertainment/telstra-tv-how-do-i-turn-off-telstra-tv\n",
            "https://www.telstra.com.au/small-business/online-support/internet/nbn-satisfaction-guarantee\n",
            "https://www.telstra.com.au/small-business/online-support/business-software/change-subscription-units\n",
            "https://www.telstra.com.au/support/internet-and-home-phone/prioritise-internet-optimiser-for-gaming-or-work#gaming\n",
            "https://www.telstra.com.au/support/email/suspended-account\n",
            "https://www.telstra.com.au/support/entertainment/set-up-my-telstra-tv#main-content\n",
            "https://www.telstra.com.au/support/entertainment/xbox-all-access#xgpu\n",
            "https://www.telstra.com.au/support/internet-and-home-phone/fax-on-nbn#main-content\n",
            "https://www.telstra.com.au/support/internet-and-home-phone/nbn-connection-types#lightbox-nbn-fttc\n",
            "https://www.telstra.com.au/small-business/online-support/reach-out-to-us-fault#main-content\n",
            "https://www.telstra.com.au/business-enterprise/support/tipt-administrator-guides\n",
            "https://www.telstra.com.au/support/mobiles-devices/can-i-reduce-my-bill-costs-when-travelling-overseas#main-content\n",
            "https://www.telstra.com.au/support/entertainment/xbox-all-access#xaa\n",
            "https://www.telstra.com.au/small-business/online-support/business-software/software-suspended\n",
            "https://www.telstra.com.au/support/internet-and-home-phone/setup-technician#who-will-be-coming\n",
            "https://www.telstra.com.au/content/dam/tcom/personal/support/pdf/accounts-billing/bereavement-support-form-c007.pdf\n"
          ]
        },
        {
          "output_type": "stream",
          "name": "stderr",
          "text": [
            "ERROR:langchain_community.document_loaders.url:Error fetching or processing https://www.telstra.com.au/content/dam/tcom/personal/support/pdf/accounts-billing/bereavement-support-form-c007.pdf, exception: partition_pdf is not available. Install the pdf dependencies with pip install \"unstructured[pdf]\"\n"
          ]
        },
        {
          "output_type": "stream",
          "name": "stdout",
          "text": [
            "https://www.telstra.com.au/support/entertainment/what-is-the-NRL-official-app\n",
            "https://www.telstra.com.au/support/entertainment/activate-my-telstra-tv\n",
            "https://www.telstra.com.au/small-business/online-support/business-software/assign-software-to-team-member#main-content\n",
            "https://enterprise-support.telstra.com.au/business-enterprise/products/unified-communications/calling-and-productivity\n",
            "https://www.telstra.com.au/support/internet-and-home-phone/telstra-smart-modem-support#do-i-have-one\n",
            "https://www.telstra.com.au/support/internet-and-home-phone/fax-on-nbn\n",
            "https://www.telstra.com.au/support/internet-and-home-phone/home-wireless-voice\n",
            "https://www.telstra.com.au/support/email/check-usage#free-up-storage\n",
            "https://www.telstra.com.au/support/entertainment/how-do-i-pair-my-enhanced-remote#main-content\n",
            "https://www.telstra.com.au/support/mobiles-devices/3g-closure-faq#businessEnterprise\n",
            "https://enterprise-support.telstra.com.au/business-enterprise/news-research/articles#main-content\n",
            "https://www.telstra.com.au/business-enterprise/support/important-terms#data-services\n",
            "https://www.telstra.com.au/business-enterprise/support/important-terms#telstra-mobile\n",
            "https://www.telstra.com.au/small-business/online-support/business-software/authorise-office365-mail-onedrive-msteams-sharepoint-with-check-point-harmony-email-collaboration\n",
            "https://www.telstra.com.au/support/mobiles-devices/check-manage-mobile-data-usage\n",
            "https://www.telstra.com.au/small-business/online-support/business-software/manage-users-telstra-apps-marketplace\n",
            "https://www.telstra.com.au/support/internet-and-home-phone/report-a-fault#after-reporting\n",
            "https://www.telstra.com.au/small-business/online-support/internet/self-install-business-smart-modem\n",
            "https://www.telstra.com.au/support/internet-and-home-phone/setup-technician\n",
            "https://www.telstra.com.au/content/dam/shared-component-assets/tecom/uc&c/collaboration/tipt/support/Telstra%20Cisco%207861%20MPP%20User%20Guide.pdf\n"
          ]
        },
        {
          "output_type": "stream",
          "name": "stderr",
          "text": [
            "ERROR:langchain_community.document_loaders.url:Error fetching or processing https://www.telstra.com.au/content/dam/shared-component-assets/tecom/uc&c/collaboration/tipt/support/Telstra%20Cisco%207861%20MPP%20User%20Guide.pdf, exception: partition_pdf is not available. Install the pdf dependencies with pip install \"unstructured[pdf]\"\n"
          ]
        },
        {
          "output_type": "stream",
          "name": "stdout",
          "text": [
            "https://www.telstra.com.au/support/pre-paid/view-change-pre-paid-plan#main-content\n",
            "https://www.telstra.com.au/support/entertainment/faqs-about-netflix#main-content\n",
            "https://www.telstra.com.au/small-business/online-support/accounts-payments/make-a-payment#main-content\n",
            "https://www.telstra.com.au/support/account-payment/track-update-online-order#tracking-order\n"
          ]
        },
        {
          "output_type": "stream",
          "name": "stderr",
          "text": [
            "WARNING:langchain_text_splitters.base:Created a chunk of size 1104, which is longer than the specified 1000\n"
          ]
        },
        {
          "output_type": "stream",
          "name": "stdout",
          "text": [
            "https://www.telstra.com.au/support/pre-paid/prepaid-mobile-plans-faq\n",
            "https://www.telstra.com.au/support/mobiles-devices/return-accessories\n"
          ]
        },
        {
          "output_type": "stream",
          "name": "stderr",
          "text": [
            "WARNING:langchain_text_splitters.base:Created a chunk of size 1045, which is longer than the specified 1000\n"
          ]
        },
        {
          "output_type": "stream",
          "name": "stdout",
          "text": [
            "https://www.telstra.com.au/support/mobiles-devices/return-accessories#main-content\n"
          ]
        },
        {
          "output_type": "stream",
          "name": "stderr",
          "text": [
            "WARNING:langchain_text_splitters.base:Created a chunk of size 1045, which is longer than the specified 1000\n"
          ]
        },
        {
          "output_type": "stream",
          "name": "stdout",
          "text": [
            "https://www.telstra.com.au/support/email/hidden-webmail#main-content\n",
            "https://www.telstra.com.au/aboutus/support-in-times-of-need\n",
            "https://www.telstra.com.au/small-business/online-support/accounts-payments/unlock-phone-using-puk-code#puk-code\n",
            "https://www.telstra.com.au/small-business/online-support/business-software/change-business-domain-provider#fees\n",
            "https://www.telstra.com.au/support/mobiles-devices/can-i-reduce-my-bill-costs-when-travelling-overseas\n",
            "https://www.telstra.com.au/support/mobiles-devices/put-sim-in-other-device\n",
            "https://www.telstra.com.au/small-business/online-support/internet/troubleshoot-telstra-modem#videos\n",
            "https://enterprise-support.telstra.com.au/business-enterprise/products/networks/satellite-services#main-content\n",
            "https://www.telstra.com.au/small-business/online-support/accounts-payments/fees-on-payment-methods\n",
            "https://www.telstra.com.au/support/entertainment/what-is-the-telstra-tv-app\n",
            "https://enterprise-support.telstra.com.au/business-enterprise/about-enterprise/people-partners#main-content\n",
            "https://www.telstra.com.au/business-enterprise/support/tipt#log-in-to-your-service\n",
            "https://www.telstra.com.au/small-business/online-support/business-software/manage-business-domain#cancel\n",
            "https://www.telstra.com.au/support/mobiles-devices/extra-data-vs-excess-data\n",
            "https://www.telstra.com.au/support/mobiles-devices/3g-closure#lightbox-deviceSoftware\n",
            "https://www.telstra.com.au/support/internet-and-home-phone/improve-internet-and-home-phone-speeds#still-not-working\n",
            "https://www.telstra.com.au/support/entertainment/unexpected-telstra-tv-and-subscription-charges#main-content\n",
            "https://enterprise-support.telstra.com.au/business-enterprise/contact-us/request-callback#main-content\n",
            "https://www.telstra.com.au/support/pre-paid/speed-caps\n",
            "https://www.telstra.com.au/support/internet-and-home-phone/cancel-internet-or-home-phone-service\n",
            "https://enterprise-support.telstra.com.au/first-nations-australians#main-content\n",
            "https://www.telstra.com.au/small-business/online-support/business-software/manage-credit-card-payment#main-content\n",
            "https://www.telstra.com.au/small-business/online-support/business-software/call-out-fee\n",
            "https://www.telstra.com.au/support/entertainment/how-do-I-unlink-telstra-TV-from-my-telstra-id#main-content\n",
            "https://www.telstra.com.au/business-enterprise/support/important-terms\n",
            "https://www.telstra.com.au/support/entertainment/telstra-tv-antenna-plugged-in-no-channel-scan\n",
            "https://www.telstra.com.au/support/internet-and-home-phone/set-up-telstra-satellite-internet-by-starlink#settingUp\n",
            "https://www.telstra.com.au/support/internet-and-home-phone/smart-wi-fi-booster-support#wi-fi-booster\n",
            "https://enterprise-support.telstra.com.au/business-enterprise/products/cloud/cloud-connectivity\n",
            "https://www.telstra.com.au/support/entertainment/set-up-my-telstra-tv\n",
            "https://www.telstra.com.au/small-business/online-support/mobiles-devices/international-day-pass#how-it-works\n",
            "https://www.telstra.com.au/business-enterprise/support/billing-and-payments#analyst\n",
            "https://www.telstra.com.au/support/mobiles-devices/3g-closure-faq#moving\n",
            "https://www.telstra.com.au/small-business/online-support/internet\n",
            "https://www.telstra.com.au/business-enterprise/support/customer-assurance#main-content\n",
            "https://www.telstra.com.au/business-enterprise/support/tipt/tipt-how-to-videos#tipt\n",
            "https://www.telstra.com.au/support/mobiles-devices/manage-esim\n",
            "https://www.telstra.com.au/support/pre-paid/check-change-or-cancel-auto-recharge#main-content\n",
            "https://enterprise-support.telstra.com.au/business-enterprise/products/internet-of-things#main-content\n",
            "https://www.telstra.com.au/support/entertainment/does-the-foxtel-app-use-my-data-allowance\n",
            "https://www.telstra.com.au/small-business/online-support/mobiles-devices#main-content\n",
            "https://enterprise-support.telstra.com.au/business-enterprise/products/unified-communications/calling-and-productivity#main-content\n",
            "https://www.telstra.com.au/support/entertainment/activate-my-telstra-tv#main-content\n",
            "https://www.telstra.com.au/support/email/faq#fix\n",
            "https://www.telstra.com.au/support/pre-paid/view-change-pre-paid-plan\n",
            "https://www.telstra.com.au/support/account-payment/make-a-complaint#main-content\n",
            "https://www.telstra.com.au/support/entertainment/xbox-all-access#subscription\n",
            "https://www.telstra.com.au/support/plan-update/ngwl-exit#whats-happening\n",
            "https://www.telstra.com.au/content/dam/tcom/personal/support/pdf/broadband/4g-advanced-ac790s-guide.pdf\n"
          ]
        },
        {
          "output_type": "stream",
          "name": "stderr",
          "text": [
            "ERROR:langchain_community.document_loaders.url:Error fetching or processing https://www.telstra.com.au/content/dam/tcom/personal/support/pdf/broadband/4g-advanced-ac790s-guide.pdf, exception: partition_pdf is not available. Install the pdf dependencies with pip install \"unstructured[pdf]\"\n"
          ]
        },
        {
          "output_type": "stream",
          "name": "stdout",
          "text": [
            "https://www.telstra.com.au/support/mobiles-devices/3g-closure-faq\n",
            "https://enterprise-support.telstra.com.au/business-enterprise/products/cloud/solutions#main-content\n",
            "https://www.telstra.com.au/small-business/online-support/mobiles-devices/telstra-upfront-plans#main-content\n",
            "https://www.telstra.com.au/content/dam/shared-component-assets/tecom/support/telstra-iso9001-certification-oct-2023.pdf\n"
          ]
        },
        {
          "output_type": "stream",
          "name": "stderr",
          "text": [
            "ERROR:langchain_community.document_loaders.url:Error fetching or processing https://www.telstra.com.au/content/dam/shared-component-assets/tecom/support/telstra-iso9001-certification-oct-2023.pdf, exception: partition_pdf is not available. Install the pdf dependencies with pip install \"unstructured[pdf]\"\n"
          ]
        },
        {
          "output_type": "stream",
          "name": "stdout",
          "text": [
            "https://enterprise-support.telstra.com.au/business-enterprise/support\n",
            "https://www.telstra.com.au/small-business/online-support/reach-out-to-us-fault\n",
            "https://www.telstra.com.au/support/mobiles-devices/upgrade-swap-or-trade-in-device\n",
            "https://www.telstra.com.au/small-business/online-support/mobiles-devices/eligible-for-upfront-plan#main-content\n",
            "https://www.telstra.com.au/support/internet-and-home-phone/setup-telstra-smart-modem#main-content\n",
            "https://www.telstra.com.au/content/dam/tcom/personal/support/pdf/broadband/telstra-mobile-wifi-4g-userguide.pdf\n"
          ]
        },
        {
          "output_type": "stream",
          "name": "stderr",
          "text": [
            "ERROR:langchain_community.document_loaders.url:Error fetching or processing https://www.telstra.com.au/content/dam/tcom/personal/support/pdf/broadband/telstra-mobile-wifi-4g-userguide.pdf, exception: partition_pdf is not available. Install the pdf dependencies with pip install \"unstructured[pdf]\"\n"
          ]
        },
        {
          "output_type": "stream",
          "name": "stdout",
          "text": [
            "https://www.telstra.com.au/business-enterprise/support/tipt-call-centre-and-reception\n",
            "https://www.telstra.com.au/support/mobiles-devices/what-are-the-different-types-of-international-roaming#upfront-plans\n",
            "https://www.telstra.com.au/small-business/online-support/internet/office-phone-service\n",
            "https://www.telstra.com.au/support/entertainment/factory-reset-a-telstra-tv-device\n",
            "https://www.telstra.com.au/support/pre-paid/manage-pre-paid#main-content\n",
            "https://www.telstra.com.au/support/account-payment/track-update-online-order\n"
          ]
        },
        {
          "output_type": "stream",
          "name": "stderr",
          "text": [
            "WARNING:langchain_text_splitters.base:Created a chunk of size 1104, which is longer than the specified 1000\n"
          ]
        },
        {
          "output_type": "stream",
          "name": "stdout",
          "text": [
            "https://www.telstra.com.au/support/account-payment/check-contract-or-cancel-service#lightbox-qrCodesTips\n",
            "https://www.telstra.com.au/support/entertainment/what-is-the-telstra-tv-app#main-content\n",
            "https://www.telstra.com.au/support/account-payment/track-update-online-order#click-n-collect\n"
          ]
        },
        {
          "output_type": "stream",
          "name": "stderr",
          "text": [
            "WARNING:langchain_text_splitters.base:Created a chunk of size 1104, which is longer than the specified 1000\n"
          ]
        },
        {
          "output_type": "stream",
          "name": "stdout",
          "text": [
            "https://www.telstra.com.au/business-enterprise/support/tipt#webex\n",
            "https://www.telstra.com.au/support/internet-and-home-phone/ip-address#main-content\n",
            "https://www.telstra.com.au/small-business/online-support/accounts-payments/make-a-payment\n",
            "https://www.telstra.com.au/small-business/online-support/internet/office-phone-service#dot\n",
            "https://www.telstra.com.au/support/internet-and-home-phone/improve-internet-and-home-phone-speeds#old-modem\n",
            "https://www.telstra.com.au/support/email/spam\n",
            "https://www.telstra.com.au/small-business/online-support/business-software/manage-my-bills#billing-contact\n",
            "https://www.telstra.com.au/support/mobiles-devices/fix-troubleshoot-mobile#main-content\n",
            "https://www.telstra.com.au/support/account-payment/give-ownership-of-account-to-someone\n",
            "https://www.telstra.com.au/support/mobiles-devices/3g-closure#lightbox-volteCompatibleDevices\n",
            "https://www.telstra.com.au/business-enterprise/support/t-analyst/hierarchies#assigning-new-services-to-cost-centre\n",
            "https://www.telstra.com.au/support/email/faq#main-content\n",
            "https://www.telstra.com.au/support/mobiles-devices/troubleshoot-speed-latency-optimisers#main-content\n",
            "https://www.telstra.com.au/small-business/online-support/accounts-payments/make-a-payment#autopay\n",
            "https://www.telstra.com.au/support/internet-and-home-phone/report-a-fault#main-content\n",
            "https://enterprise-support.telstra.com.au/business-enterprise/about-enterprise/our-network#main-content\n",
            "https://www.telstra.com.au/support/account-payment/order-estimate\n",
            "https://www.telstra.com.au/support/internet-and-home-phone/5g-home-support#troubleshooting\n",
            "https://www.telstra.com.au/business-enterprise/support/track-monitor#main-content\n",
            "https://www.telstra.com.au/support/mobiles-devices/network-diagnostics-in-my-telstra#main-content\n",
            "https://www.telstra.com.au/support/entertainment/get-help-with-nintendo-switch#main-content\n",
            "https://www.telstra.com.au/support/internet-and-home-phone/5g-home-support#setting-up\n",
            "https://www.telstra.com.au/support/internet-and-home-phone/home-internet-order-next-steps\n",
            "https://www.telstra.com.au/business-enterprise/support/tipt-phones#IAD\n",
            "https://www.telstra.com.au/business-enterprise/support/tipt-phones#help-and-support\n",
            "https://enterprise-support.telstra.com.au/business-enterprise/support/financial-hardship-policy\n",
            "https://www.telstra.com.au/support/internet-and-home-phone/fix-internet-issues#main-content\n",
            "https://www.telstra.com.au/business-enterprise/support/secureedge#technical-guide\n",
            "https://www.telstra.com.au/support/mobiles-devices/device-security\n"
          ]
        },
        {
          "output_type": "stream",
          "name": "stderr",
          "text": [
            "WARNING:langchain_text_splitters.base:Created a chunk of size 1916, which is longer than the specified 1000\n"
          ]
        },
        {
          "output_type": "stream",
          "name": "stdout",
          "text": [
            "https://www.telstra.com.au/small-business/online-support/mobiles-devices#international-roaming\n",
            "https://www.telstra.com.au/business-enterprise/support/tipt/webex-for-tipt#webex-calling-features\n",
            "https://www.telstra.com.au/support/email/forgot-password#main-content\n",
            "https://www.telstra.com.au/aboutus/support-in-times-of-need#main-content\n",
            "https://www.telstra.com.au/content/dam/tcom/personal/support/pdf/broadband/set-up-guide-for-hfc-cable.pdf\n"
          ]
        },
        {
          "output_type": "stream",
          "name": "stderr",
          "text": [
            "ERROR:langchain_community.document_loaders.url:Error fetching or processing https://www.telstra.com.au/content/dam/tcom/personal/support/pdf/broadband/set-up-guide-for-hfc-cable.pdf, exception: partition_pdf is not available. Install the pdf dependencies with pip install \"unstructured[pdf]\"\n"
          ]
        },
        {
          "output_type": "stream",
          "name": "stdout",
          "text": [
            "https://enterprise-support.telstra.com.au/business-enterprise/products/networks/adaptive-networks\n",
            "https://www.telstra.com.au/small-business/online-support/internet/self-install-business-smart-modem#lightbox-nbn-fttp-fw-video\n",
            "https://www.telstra.com.au/support/internet-and-home-phone/improve-internet-and-home-phone-speeds#multiple-devices\n",
            "https://www.telstra.com.au/support/email/faq#access\n",
            "https://www.telstra.com.au/aboutus/support-in-times-of-need/adversity-financial-hardship#lightbox-other-policy-versions\n",
            "https://www.telstra.com.au/support/internet-and-home-phone/dect-handset-connection#main-content\n",
            "https://www.telstra.com.au/business-enterprise/support/t-analyst/knowledge-sessions#getting-started\n",
            "https://www.telstra.com.au/support/entertainment/my-telstra-tv-says-connection-dropped-when-i-try-to-activate\n",
            "https://www.telstra.com.au/business-enterprise/support/t-analyst/how-to-videos#assigning-services-to-cost-centres\n",
            "https://www.telstra.com.au/support/email/sign-in-webmail#main-content\n",
            "https://www.telstra.com.au/support/entertainment/enhanced-remote-troubleshooting#main-content\n",
            "https://www.telstra.com.au/business-enterprise/support/t-analyst/knowledge-sessions\n",
            "https://www.telstra.com.au/support/mobiles-devices/activate-a-service-on-esim#main-content\n",
            "https://www.telstra.com.au/support/internet-and-home-phone/get-extra-phone-socket\n",
            "https://www.telstra.com.au/business-enterprise/support/changing-an-apn-setting#generic-tablet\n",
            "https://www.telstra.com.au/support/internet-and-home-phone/content-using-most-data\n",
            "https://enterprise-support.telstra.com.au/t5/Knowledge-Articles/Telstra-Business-SIP-Information-and-User-Guides/ta-p/4725#main-content\n",
            "https://www.telstra.com.au/support/internet-and-home-phone/change-wi-fi-name-and-password\n",
            "https://www.telstra.com.au/support/account-payment/how-can-i-receive-my-bill\n",
            "https://www.telstra.com.au/support/mobiles-devices/messagebank-call-forwarding-ring-time#messagebank\n",
            "https://www.telstra.com.au/support/email/spam#main-content\n",
            "https://www.telstra.com.au/support/email/send-receive\n",
            "https://www.telstra.com.au/small-business/online-support/accounts-payments/view-my-bills-online\n",
            "https://enterprise-support.telstra.com.au/business-enterprise/channel-partners\n",
            "https://www.telstra.com.au/support/internet-and-home-phone/setup-technician#main-content\n",
            "https://www.telstra.com.au/small-business/online-support/business-software/not-receiving-emails\n",
            "https://www.telstra.com.au/business-enterprise/support/3g-service-closure\n",
            "https://www.telstra.com.au/support#main-content\n",
            "https://www.telstra.com.au/support/entertainment/my-telstra-tv-isnt-starting-up#main-content\n",
            "https://www.telstra.com.au/content/dam/shared-component-assets/tecom/uc&c/collaboration/tipt/support/panasonic-kx-tgp600-udt131-user-guide.pdf\n"
          ]
        },
        {
          "output_type": "stream",
          "name": "stderr",
          "text": [
            "ERROR:langchain_community.document_loaders.url:Error fetching or processing https://www.telstra.com.au/content/dam/shared-component-assets/tecom/uc&c/collaboration/tipt/support/panasonic-kx-tgp600-udt131-user-guide.pdf, exception: partition_pdf is not available. Install the pdf dependencies with pip install \"unstructured[pdf]\"\n"
          ]
        },
        {
          "output_type": "stream",
          "name": "stdout",
          "text": [
            "https://www.telstra.com.au/support/entertainment/what-is-foxtel-on-demand#main-content\n",
            "https://www.telstra.com.au/support/mobiles-devices/upgrade-swap-or-trade-in-device?wcmmode=disabled#return-device\n",
            "https://www.telstra.com.au/small-business/online-support/accounts-payments/unlock-phone-using-puk-code\n",
            "https://www.telstra.com.au/support/account-payment/transfer-or-close-an-account-in-the-event-of-a-death\n",
            "https://www.telstra.com.au/business-enterprise/support/tipt#downloads\n",
            "https://www.telstra.com.au/support/email/using-telstra-webmail\n",
            "https://www.telstra.com.au/support/entertainment/enhanced-remote-troubleshooting\n",
            "https://www.telstra.com.au/support/mobiles-devices/mobile-black-spot-program\n",
            "https://www.telstra.com.au/support/email/compromised#prevent-email-compromise\n",
            "https://www.telstra.com.au/business-enterprise/support/t-analyst/how-to-videos#summary-reports\n",
            "https://enterprise-support.telstra.com.au/business-enterprise/support/financial-hardship-policy#main-content\n",
            "https://www.telstra.com.au/small-business/online-support/internet#getting-started\n",
            "https://www.telstra.com.au/content/dam/tcom/personal/support/pdf/broadband/set-up-guide-for-adsl.pdf\n"
          ]
        },
        {
          "output_type": "stream",
          "name": "stderr",
          "text": [
            "ERROR:langchain_community.document_loaders.url:Error fetching or processing https://www.telstra.com.au/content/dam/tcom/personal/support/pdf/broadband/set-up-guide-for-adsl.pdf, exception: partition_pdf is not available. Install the pdf dependencies with pip install \"unstructured[pdf]\"\n"
          ]
        },
        {
          "output_type": "stream",
          "name": "stdout",
          "text": [
            "https://www.telstra.com.au/support/account-payment#main-content\n",
            "https://www.telstra.com.au/small-business/online-support/business-software/update-company-info#change-name\n",
            "https://www.telstra.com.au/business-enterprise/support/adaptive-collaboration\n",
            "https://www.telstra.com.au/content/dam/shared-component-assets/tecom/support/tipt/tipt-poly-edge-series-e220-e350-and-e450-installation-guide.pdf\n"
          ]
        },
        {
          "output_type": "stream",
          "name": "stderr",
          "text": [
            "ERROR:langchain_community.document_loaders.url:Error fetching or processing https://www.telstra.com.au/content/dam/shared-component-assets/tecom/support/tipt/tipt-poly-edge-series-e220-e350-and-e450-installation-guide.pdf, exception: partition_pdf is not available. Install the pdf dependencies with pip install \"unstructured[pdf]\"\n"
          ]
        },
        {
          "output_type": "stream",
          "name": "stdout",
          "text": [
            "https://www.telstra.com.au/support/entertainment/my-telstra-tv-isnt-starting-up\n",
            "https://www.telstra.com.au/support/mobiles-devices/change-mobile-number\n",
            "https://www.telstra.com.au/small-business/online-support/business-software#account\n",
            "https://www.telstra.com.au/support/internet-and-home-phone/change-plan#main-content\n",
            "https://www.telstra.com.au/aboutus/support-in-times-of-need/critical-illness-support#manageAccount\n",
            "https://www.telstra.com.au/forms/bereavement-support-form\n",
            "https://www.telstra.com.au/content/dam/shared-component-assets/tecom/support/tipt/tipt-grandstream-dect-%20dp752-and-722-base-and-handset-installation-guide.pdf\n"
          ]
        },
        {
          "output_type": "stream",
          "name": "stderr",
          "text": [
            "ERROR:langchain_community.document_loaders.url:Error fetching or processing https://www.telstra.com.au/content/dam/shared-component-assets/tecom/support/tipt/tipt-grandstream-dect-%20dp752-and-722-base-and-handset-installation-guide.pdf, exception: partition_pdf is not available. Install the pdf dependencies with pip install \"unstructured[pdf]\"\n"
          ]
        },
        {
          "output_type": "stream",
          "name": "stdout",
          "text": [
            "https://www.telstra.com.au/small-business/online-support/business-software/upgrade-or-downgrade-software\n",
            "https://www.telstra.com.au/support/email/check-usage#storage-info\n",
            "https://www.telstra.com.au/support/entertainment/fetch#troubleshooting\n",
            "https://www.telstra.com.au/support/email/outlook#main-content\n",
            "https://www.telstra.com.au/support/internet-and-home-phone/set-up-and-manage-messagebank#main-content\n",
            "https://www.telstra.com.au/small-business/online-support/business-software#mcafee\n",
            "https://www.telstra.com.au/small-business/online-support/accounts-payments/make-a-complaint#complaint-further\n",
            "https://www.telstra.com.au/content/dam/shared-component-assets/tecom/uc&c/collaboration/tipt/support/business-Busy-Lamp-Field-feature-guide-customer-administrators.pdf\n"
          ]
        },
        {
          "output_type": "stream",
          "name": "stderr",
          "text": [
            "ERROR:langchain_community.document_loaders.url:Error fetching or processing https://www.telstra.com.au/content/dam/shared-component-assets/tecom/uc&c/collaboration/tipt/support/business-Busy-Lamp-Field-feature-guide-customer-administrators.pdf, exception: partition_pdf is not available. Install the pdf dependencies with pip install \"unstructured[pdf]\"\n"
          ]
        },
        {
          "output_type": "stream",
          "name": "stdout",
          "text": [
            "https://www.telstra.com.au/support/account-payment/set-up-direct-debit\n",
            "https://www.telstra.com.au/support/mobiles-devices/device-protect\n",
            "https://www.telstra.com.au/support/mobiles-devices/fix-esim#main-content\n",
            "https://www.telstra.com.au/support/mobiles-devices/extend-mobile-battery-life\n",
            "https://www.telstra.com.au/support/mobiles-devices/reset-device#before-you-start\n",
            "https://www.telstra.com.au/support/internet-and-home-phone/change-plan\n",
            "https://www.telstra.com.au/small-business/online-support/business-software/manage-business-domain#help\n",
            "https://www.telstra.com.au/support/pre-paid/extra-data#main-content\n",
            "https://www.telstra.com.au/support/entertainment/how-do-i-upgrade-my-foxtel-set-top-box\n",
            "https://www.telstra.com.au/aboutus/support-in-times-of-need/adversity-financial-hardship#main-content\n",
            "https://www.telstra.com.au/support/mobiles-devices/unlock-phone-imei#main-content\n",
            "https://www.telstra.com.au/support/entertainment/xbox-game-pass-ultimate#xbox-all-access\n",
            "https://www.telstra.com.au/support/entertainment/get-help-with-sony-playstation-5#main-content\n",
            "https://www.telstra.com.au/support/entertainment/xbox-game-pass-ultimate#xgpu\n",
            "https://www.telstra.com.au/support/mobiles-devices/troubleshoot-voicemail\n",
            "https://www.telstra.com.au/small-business/online-support/business-software/change-business-domain-provider#help\n",
            "https://www.telstra.com.au/small-business/online-support/internet/self-install-business-smart-modem#install-guides\n",
            "https://www.telstra.com.au/business-enterprise/support/billing-and-payments#tools\n",
            "https://www.telstra.com.au/support/mobiles-devices/check-mobile-tablet-plan\n",
            "https://www.telstra.com.au/support/mobiles-devices/unlock-sim-puk\n",
            "https://www.telstra.com.au/support/internet-and-home-phone/fix-issues-with-mobile-broadband-device\n",
            "https://www.telstra.com.au/support/internet-and-home-phone/setup-telstra-smart-modem-for-adsl-hfc-cable\n",
            "https://www.telstra.com.au/support/mobiles-devices/mobile-pay-monthly-instalments#main-content\n",
            "https://www.telstra.com.au/support/email/check-usage#main-content\n",
            "https://www.telstra.com.au/support/entertainment/xbox-all-access#returns-exchanges\n",
            "https://www.telstra.com.au/support/account-payment/give-another-person-access-to-account.html#lightbox-qrCodesTips\n",
            "https://enterprise-support.telstra.com.au/business-enterprise/products/cloud/advice\n",
            "https://www.telstra.com.au/support/mobiles-devices/reset-device\n",
            "https://www.telstra.com.au/support/account-payment/give-another-person-access-to-account\n",
            "https://www.telstra.com.au/support/internet-and-home-phone/smart-wi-fi-booster-support#guarantee\n",
            "https://www.telstra.com.au/support/mobiles-devices/telstra-wifi-calling#main-content\n",
            "https://www.telstra.com.au/support/internet-and-home-phone/set-up-smart-wifi-booster#set-up-guides\n",
            "https://www.telstra.com.au/support/pre-paid/recharge-my-pre-paid-service#main-content\n",
            "https://www.telstra.com.au/small-business/online-support/accounts-payments/make-a-complaint#main-content\n",
            "https://www.telstra.com.au/support/pre-paid\n",
            "https://www.telstra.com.au/small-business/online-support/internet/troubleshoot-telstra-modem#lightbox-check-smart-modem\n",
            "https://www.telstra.com.au/support/account-payment/pay-your-bill#pay-with-direct-debit\n",
            "https://www.telstra.com.au/business-enterprise/support/t-analyst/how-to-videos#export\n",
            "https://www.telstra.com.au/small-business/online-support/business-software/manage-business-domain#main-content\n",
            "https://www.telstra.com.au/small-business/online-support/accounts-payments/moving-office\n",
            "https://www.telstra.com.au/support/email/windows-live-vista-mail#main-content\n",
            "https://www.telstra.com.au/support/mobiles-devices/upgrade-swap-or-trade-in-device#main-content\n",
            "https://www.telstra.com.au/support/email/spam#block-senders\n",
            "https://www.telstra.com.au/business-enterprise/support/tipt#help-and-support\n",
            "https://www.telstra.com.au/support/mobiles-devices/troubleshoot-voicemail#main-content\n",
            "https://www.telstra.com.au/small-business/online-support/internet/priority-assist-for-business#main-content\n",
            "https://www.telstra.com.au/support/internet-and-home-phone/dect-handset-connection\n",
            "https://www.telstra.com.au/support/entertainment/foxtel-now\n",
            "https://www.telstra.com.au/small-business/online-support/accounts-payments/access-bereavement-support#get-help\n",
            "https://enterprise-support.telstra.com.au/business-enterprise/products/mobility-solutions/plans-and-devices#main-content\n",
            "https://www.telstra.com.au/business-enterprise/support/t-analyst/reports#schedule\n",
            "https://www.telstra.com.au/content/dam/shared-component-assets/tecom/support/telstra-iso14001-certification-oct-2023.pdf\n"
          ]
        },
        {
          "output_type": "stream",
          "name": "stderr",
          "text": [
            "ERROR:langchain_community.document_loaders.url:Error fetching or processing https://www.telstra.com.au/content/dam/shared-component-assets/tecom/support/telstra-iso14001-certification-oct-2023.pdf, exception: partition_pdf is not available. Install the pdf dependencies with pip install \"unstructured[pdf]\"\n"
          ]
        },
        {
          "output_type": "stream",
          "name": "stdout",
          "text": [
            "https://www.telstra.com.au/business-enterprise/support/t-analyst\n",
            "https://www.telstra.com.au/support/account-payment/order-estimate#main-content\n",
            "https://www.telstra.com.au/support/internet-and-home-phone/moving-smart-modem\n",
            "https://www.telstra.com.au/support/entertainment/get-help-with-sony-playstation-5\n",
            "https://www.telstra.com.au/aboutus/support-in-times-of-need/adversity-financial-hardship#other-support\n",
            "https://enterprise-support.telstra.com.au/business-enterprise/products/networks/satellite-services\n",
            "https://www.telstra.com.au/support/mobiles-devices/cooling-off-period\n",
            "https://www.telstra.com.au/small-business/online-support/mobiles-devices#plans-upgrades\n",
            "https://www.telstra.com.au/content/dam/shared-component-assets/tecom/uc&c/collaboration/tipt/support/business-call-centre-reporting-guide.pdf\n"
          ]
        },
        {
          "output_type": "stream",
          "name": "stderr",
          "text": [
            "ERROR:langchain_community.document_loaders.url:Error fetching or processing https://www.telstra.com.au/content/dam/shared-component-assets/tecom/uc&c/collaboration/tipt/support/business-call-centre-reporting-guide.pdf, exception: partition_pdf is not available. Install the pdf dependencies with pip install \"unstructured[pdf]\"\n"
          ]
        },
        {
          "output_type": "stream",
          "name": "stdout",
          "text": [
            "https://www.telstra.com.au/business-enterprise/support/t-analyst#main-content\n",
            "https://www.telstra.com.au/support/internet-and-home-phone/restart-modem-and-network-connection-device\n",
            "https://www.telstra.com.au/small-business/online-support/accounts-payments/make-a-complaint#another-language\n",
            "https://www.telstra.com.au/support/pre-paid/digital-voucher-recharge#lightbox-rechargeVoucher160\n",
            "https://enterprise-support.telstra.com.au/first-nations-australians\n",
            "https://www.telstra.com.au/support/mobiles-devices/mobile-black-spot-program#faq\n",
            "https://www.telstra.com.au/small-business/online-support/business-software/transfer-office-365-subscription-to-telstra#main-content\n",
            "https://www.telstra.com.au/support/account-payment/give-another-person-access-to-account#3rd-party-authority\n",
            "https://www.telstra.com.au/support/mobiles-devices/3g-closure\n",
            "https://www.telstra.com.au/small-business/online-support/business-software/authorise-gmail-google-drive-with-check-point-harmony-email-collaboration#main-content\n",
            "https://www.telstra.com.au/small-business/online-support/business-software/login-to-check-point-dashboard#main-content\n",
            "https://www.telstra.com.au/small-business/online-support/business-software/install-mcafee-endpoint-protection-essential#generate-code\n",
            "https://www.telstra.com.au/support/entertainment/how-do-i-find-movies-or-tv-shows-using-telstra-tv-search#main-content\n",
            "https://www.telstra.com.au/support/mobiles-devices/3g-closure-faq#affectedServices\n",
            "https://www.telstra.com.au/business-enterprise/support/t-analyst/manage-your-invoices#download-invoices\n",
            "https://www.telstra.com.au/support/internet-and-home-phone/access-modem-settings#main-content\n",
            "https://www.telstra.com.au/small-business/online-support/accounts-payments/access-bereavement-support#how-to-notify-us\n",
            "https://www.telstra.com.au/business-enterprise/support/t-analyst/how-to-videos#detailed-reports\n",
            "https://www.telstra.com.au/support/mobiles-devices/fix-troubleshoot-mobile\n",
            "https://www.telstra.com.au/support/account-payment\n",
            "https://www.telstra.com.au/support/internet-and-home-phone/setup-internet-optimiser\n",
            "https://www.telstra.com.au/support/pre-paid/digital-voucher-recharge#lightbox-rechargeVoucher320\n",
            "https://www.telstra.com.au/small-business/online-support/business-software\n",
            "https://www.telstra.com.au/content/dam/tcom/personal/support/pdf/broadband/set-up-guide-for-fttn-fttb.pdf\n"
          ]
        },
        {
          "output_type": "stream",
          "name": "stderr",
          "text": [
            "ERROR:langchain_community.document_loaders.url:Error fetching or processing https://www.telstra.com.au/content/dam/tcom/personal/support/pdf/broadband/set-up-guide-for-fttn-fttb.pdf, exception: partition_pdf is not available. Install the pdf dependencies with pip install \"unstructured[pdf]\"\n"
          ]
        },
        {
          "output_type": "stream",
          "name": "stdout",
          "text": [
            "https://www.telstra.com.au/support/account-payment/install-and-use-my-telstra-app#main-content\n",
            "https://www.telstra.com.au/support/email/send-receive#main-content\n",
            "https://www.telstra.com.au/small-business/online-support/business-software/telstra-apps-marketplace\n",
            "https://www.telstra.com.au/support/mobiles-devices/telstra-wifi-calling#faq\n",
            "https://www.telstra.com.au/business-enterprise/support/t-analyst/download-centre#downloading-reports\n",
            "https://www.telstra.com.au/small-business/online-support/internet/office-phone-service#sip\n",
            "https://www.telstra.com.au/support/mobiles-devices/telstra-wifi-calling#enable\n",
            "https://www.telstra.com.au/small-business/online-support/business-software/add-another-check-point-license#main-content\n",
            "https://www.telstra.com.au/support/internet-and-home-phone/nbn-connection-types#lightbox-add-service\n",
            "https://www.telstra.com.au/small-business/online-support/accounts-payments/using-your-telstra-tools#manage-account\n",
            "https://www.telstra.com.au/content/dam/tcom/personal/support/pdf/broadband/telstra-wifi-4g-pro-userguide.pdf\n"
          ]
        },
        {
          "output_type": "stream",
          "name": "stderr",
          "text": [
            "ERROR:langchain_community.document_loaders.url:Error fetching or processing https://www.telstra.com.au/content/dam/tcom/personal/support/pdf/broadband/telstra-wifi-4g-pro-userguide.pdf, exception: partition_pdf is not available. Install the pdf dependencies with pip install \"unstructured[pdf]\"\n"
          ]
        },
        {
          "output_type": "stream",
          "name": "stdout",
          "text": [
            "https://www.telstra.com.au/support/internet-and-home-phone/connect-outstanding#main-content\n",
            "https://www.telstra.com.au/support/internet-and-home-phone/improve-internet-and-home-phone-speeds#wi-fi-signal\n",
            "https://www.telstra.com.au/business-enterprise/support/t-analyst/download-centre#removing-reports\n",
            "https://www.telstra.com.au/business-enterprise/support/tipt/tipt-how-to-videos#introduction\n",
            "https://www.telstra.com.au/small-business/online-support/accounts-payments/using-your-telstra-tools#get-help\n",
            "https://www.telstra.com.au/content/dam/shared-component-assets/tecom/uc&c/collaboration/tipt/support/panasonic-kx-tgp600-kx-tpa60-user-guide.pdf\n"
          ]
        },
        {
          "output_type": "stream",
          "name": "stderr",
          "text": [
            "ERROR:langchain_community.document_loaders.url:Error fetching or processing https://www.telstra.com.au/content/dam/shared-component-assets/tecom/uc&c/collaboration/tipt/support/panasonic-kx-tgp600-kx-tpa60-user-guide.pdf, exception: partition_pdf is not available. Install the pdf dependencies with pip install \"unstructured[pdf]\"\n"
          ]
        },
        {
          "output_type": "stream",
          "name": "stdout",
          "text": [
            "https://www.telstra.com.au/support/entertainment/fetch#main-content\n",
            "https://www.telstra.com.au/support/internet-and-home-phone/set-up-and-activate-telstra-pre-paid-mobile-broadband\n",
            "https://www.telstra.com.au/support/internet-and-home-phone/ip-address\n",
            "https://www.telstra.com.au/small-business/online-support/accounts-payments/unlock-phone-using-puk-code#sim-pin\n",
            "https://www.telstra.com.au/small-business/online-support/accounts-payments/my-telstra-app-for-business\n",
            "https://www.telstra.com.au/support/internet-and-home-phone/setup-technician#needTechnician\n",
            "https://www.telstra.com.au/support/internet-and-home-phone/improve-internet-and-home-phone-speeds\n",
            "https://www.telstra.com.au/support/mobiles-devices/3g-closure#wearables\n",
            "https://www.telstra.com.au/support/entertainment/disable-external-control-protocol#main-content\n",
            "https://www.telstra.com.au/business-enterprise/support/sip-connect#accredited-CPE-list\n",
            "https://www.telstra.com.au/support/account-payment/set-up-direct-debit#main-content\n",
            "https://www.telstra.com.au/support/mobiles-devices/restart-device#restart-apple-iphone\n",
            "https://www.telstra.com.au/small-business/online-support/accounts-payments/using-your-telstra-tools#main-content\n",
            "https://www.telstra.com.au/support/mobiles-devices/lost-stolen-sim-device#main-content\n",
            "https://www.telstra.com.au/small-business/online-support/business-software/assign-software-to-team-member\n",
            "https://www.telstra.com.au/support/entertainment/faqs-about-netflix\n",
            "https://www.telstra.com.au/small-business/online-support/internet/telstra-4gx-usb-pro#what-is\n",
            "https://www.telstra.com.au/business-enterprise/support/tipt/tipt-how-to-videos#help\n",
            "https://www.telstra.com.au/support/internet-and-home-phone/technician-service-appointment#on-the-day\n",
            "https://www.telstra.com.au/support/account-payment/final-bill\n",
            "https://www.telstra.com.au/content/dam/tcom/personal/support/pdf/broadband/set-up-guide-for-4g-fixed-wireless.pdf\n"
          ]
        },
        {
          "output_type": "stream",
          "name": "stderr",
          "text": [
            "ERROR:langchain_community.document_loaders.url:Error fetching or processing https://www.telstra.com.au/content/dam/tcom/personal/support/pdf/broadband/set-up-guide-for-4g-fixed-wireless.pdf, exception: partition_pdf is not available. Install the pdf dependencies with pip install \"unstructured[pdf]\"\n"
          ]
        },
        {
          "output_type": "stream",
          "name": "stdout",
          "text": [
            "https://www.telstra.com.au/aboutus/support-in-times-of-need/disaster-relief#staying-connected\n",
            "https://www.telstra.com.au/support/entertainment/how-do-i-pair-my-enhanced-remote\n",
            "https://www.telstra.com.au/business-enterprise/support/customer-assurance#other-links\n",
            "https://www.telstra.com.au/support/entertainment/what-is-the-AFL-live-app\n",
            "https://www.telstra.com.au/support/pre-paid/recharge-my-pre-paid-service#lightbox-myTelstraExpress\n",
            "https://www.telstra.com.au/aboutus/support-in-times-of-need/bereavement-support#steps\n",
            "https://www.telstra.com.au/small-business/online-support/business-software#check-point\n",
            "https://www.telstra.com.au/support/internet-and-home-phone/set-up-call-forwarding-on-home-phone#apply-call-forwarding\n",
            "https://www.telstra.com.au/content/dam/shared-component-assets/tecom/support/business-sip/business-sip-portal-administrator-guide.pdf\n"
          ]
        },
        {
          "output_type": "stream",
          "name": "stderr",
          "text": [
            "ERROR:langchain_community.document_loaders.url:Error fetching or processing https://www.telstra.com.au/content/dam/shared-component-assets/tecom/support/business-sip/business-sip-portal-administrator-guide.pdf, exception: partition_pdf is not available. Install the pdf dependencies with pip install \"unstructured[pdf]\"\n"
          ]
        },
        {
          "output_type": "stream",
          "name": "stdout",
          "text": [
            "https://www.telstra.com.au/support/internet-and-home-phone/set-up-smart-wifi-booster#how-it-works\n",
            "https://www.telstra.com.au/support/pre-paid/activate-pre-paid-service#main-content\n",
            "https://www.telstra.com.au/support/mobiles-devices/extra-data-vs-excess-data#main-content\n",
            "https://www.telstra.com.au/small-business/online-support/business-software#website-services\n",
            "https://www.telstra.com.au/support/entertainment/using-my-telstra-tv\n",
            "https://www.telstra.com.au/small-business/online-support/business-software/buy-software-telstra-apps-marketplace#main-content\n",
            "https://www.telstra.com.au/support/internet-and-home-phone/technician-service-appointment#missed-appointment\n",
            "https://www.telstra.com.au/support/entertainment/unexpected-telstra-tv-and-subscription-charges\n",
            "https://www.telstra.com.au/support/email/faq\n",
            "https://www.telstra.com.au/support/entertainment/multiroom-and-foxtel-go-multiscreen#main-content\n",
            "https://www.telstra.com.au/business-enterprise/support/sip-connect#main-content\n",
            "https://www.telstra.com.au/support/entertainment/spotify-premium-support\n",
            "https://www.telstra.com.au/support/pre-paid/digital-voucher-recharge#lightbox-rechargeVoucher45\n",
            "https://www.telstra.com.au/business-enterprise/support/t-analyst/reports#summary\n",
            "https://www.telstra.com.au/support/internet-and-home-phone/fix-issues-with-mobile-broadband-device#main-content\n",
            "https://www.telstra.com.au/business-enterprise/support/t-analyst/hierarchies\n",
            "https://www.telstra.com.au/support/entertainment/use-closed-captions-on-telstra-tv\n",
            "https://www.telstra.com.au/business-enterprise/support/tipt-call-centre-and-reception#call-centres\n",
            "https://www.telstra.com.au/business-enterprise/support/tipt-call-centre-and-reception#main-content\n",
            "https://www.telstra.com.au/small-business/online-support/mobiles-devices/international-day-pass#main-content\n",
            "https://www.telstra.com.au/aboutus/support-in-times-of-need/disaster-relief#faqs\n",
            "https://www.telstra.com.au/support/email/hidden-webmail\n",
            "https://www.telstra.com.au/business-enterprise/support/changing-an-apn-setting#main-content\n",
            "https://www.telstra.com.au/support/mobiles-devices/3g-closure#lightbox-vietnamese\n",
            "https://www.telstra.com.au/support/internet-and-home-phone/smartfix#main-content\n",
            "https://www.telstra.com.au/business-enterprise/support/business-sip\n",
            "https://www.telstra.com.au/small-business/online-support/internet#troubleshooting\n",
            "https://www.telstra.com.au/small-business/online-support/mobiles-devices/make-calls-while-overseas#main-content\n",
            "https://www.telstra.com.au/small-business/online-support/mobiles-devices#popular-topics\n",
            "https://www.telstra.com.au/support/entertainment/xbox-game-pass-ultimate#cg\n",
            "https://www.telstra.com.au/small-business/online-support/accounts-payments/authorise-access-to-an-account#authorised-representative\n",
            "https://www.telstra.com.au/support/account-payment/give-ownership-of-account-to-someone#telstra-plus\n",
            "https://enterprise-support.telstra.com.au/business-enterprise/products/cloud/advice#main-content\n",
            "https://www.telstra.com.au/business-enterprise/support/sip-connect#help-and-support\n",
            "https://www.telstra.com.au/small-business/online-support/business-software/manage-users-telstra-apps-marketplace#view-all-users\n",
            "https://www.telstra.com.au/support/account-payment/pay-your-bill#autopay\n",
            "https://www.telstra.com.au/business-enterprise/support/t-analyst/how-to-videos#hierarchy-and-cost-centres-Creation\n",
            "https://www.telstra.com.au/support/mobiles-devices/mobile-black-spot-program#main-content\n",
            "https://www.telstra.com.au/support/account-payment/give-ownership-of-account-to-someone#faqs\n",
            "https://www.telstra.com.au/support/pre-paid/set-up-auto-recharge#main-content\n",
            "https://www.telstra.com.au/support/internet-and-home-phone/smartfix\n",
            "https://www.telstra.com.au/support/account-payment/install-and-use-my-telstra-app?$web_only=true&_branch_match_id=1261175347218877515&utm_medium=Telstra%20Digital&_branch_referrer=H4sIAAAAAAAAA8soKSkottLXL0nNKS4pStQtT03SSywo0MvJzMvWT9U3DsmJMIzMCC/wSgIAo872pCoAAAA=#telstraId\n",
            "https://www.telstra.com.au/support/mobiles-devices/what-are-the-different-types-of-international-roaming#pre-paid-plans\n",
            "https://enterprise-support.telstra.com.au/business-enterprise/products/networks/sdn#main-content\n",
            "https://www.telstra.com.au/small-business/online-support/business-software/setup-business-domain#help\n",
            "https://www.telstra.com.au/aboutus/support-in-times-of-need/domestic-family-violence#main-content\n",
            "https://www.telstra.com.au/support/pre-paid/extra-data\n",
            "https://www.telstra.com.au/small-business/online-support/business-software/transfer-office-365-subscription-to-telstra\n",
            "https://www.telstra.com.au/support/internet-and-home-phone/connecting-to-wifi\n",
            "https://www.telstra.com.au/support/internet-and-home-phone/setup-telstra-smart-modem#fttn-fttb\n",
            "https://www.telstra.com.au/support/entertainment/disneyplus-support#main-content\n",
            "https://www.telstra.com.au/support/mobiles-devices/mobile-black-spot-program#black-spot\n",
            "https://www.telstra.com.au/support/mobiles-devices/device-security#manage\n"
          ]
        },
        {
          "output_type": "stream",
          "name": "stderr",
          "text": [
            "WARNING:langchain_text_splitters.base:Created a chunk of size 1916, which is longer than the specified 1000\n"
          ]
        },
        {
          "output_type": "stream",
          "name": "stdout",
          "text": [
            "https://www.telstra.com.au/support/mobiles-devices/3g-closure#lightbox-networkAutomatic\n",
            "https://enterprise-support.telstra.com.au/business-enterprise/products/security/secure-your-business#main-content\n",
            "https://www.telstra.com.au/support/mobiles-devices/telstra-wifi-calling\n",
            "https://www.telstra.com.au/business-enterprise/support/tipt-administrator-guides#help-and-support\n",
            "https://www.telstra.com.au/support/email/check-usage#see-how-much-storage-used\n",
            "https://enterprise-support.telstra.com.au/business-enterprise/channel-partners#main-content\n",
            "https://www.telstra.com.au/support/account-payment/pay-your-bill#centrepay\n",
            "https://enterprise-support.telstra.com.au/business-enterprise/products/unified-communications/customer-contact#main-content\n",
            "https://www.telstra.com.au/small-business/online-support/business-software/change-primary-email-address\n",
            "https://www.telstra.com.au/small-business/online-support/business-software/not-receiving-emails#main-content\n",
            "https://www.telstra.com.au/business-enterprise/support/business-sip#main-content\n",
            "https://www.telstra.com.au/support/mobiles-devices/mobile-pay-monthly-instalments\n",
            "https://www.telstra.com.au/small-business/online-support/business-software/manage-email-services#main-content\n",
            "https://www.telstra.com.au/business-enterprise/support/secureedge#setting-up-your-services\n",
            "https://www.telstra.com.au/support/internet-and-home-phone/technician-service-appointment#who-is-coming\n",
            "https://enterprise-support.telstra.com.au/business-enterprise/products/mobility-solutions/plans-and-devices\n",
            "https://www.telstra.com.au/business-enterprise/support/tipt/webex-for-tipt\n",
            "https://www.telstra.com.au/support/mobiles-devices/reset-device#factory-reset-apple\n",
            "https://www.telstra.com.au/aboutus/support-in-times-of-need/bereavement-support#support\n",
            "https://www.telstra.com.au/small-business/online-support/mobiles-devices/data-sharing-on-upfront-plans\n",
            "https://www.telstra.com.au/support/entertainment/troubleshooting-the-foxtel-app#main-content\n",
            "https://www.telstra.com.au/support/internet-and-home-phone/setup-telstra-smart-modem#fttp-velocity-fw\n",
            "https://www.telstra.com.au/support/account-payment/pay-your-bill#pay-in-person\n",
            "https://www.telstra.com.au/small-business/online-support/mobiles-devices/mobility-accelerator#main-content\n",
            "https://www.telstra.com.au/support/account-payment/what-is-telstra-pin#main-content\n",
            "https://www.telstra.com.au/support/entertainment/disneyplus-support#billing\n",
            "https://www.telstra.com.au/business-enterprise/support/t-analyst/reports#request\n",
            "https://www.telstra.com.au/small-business/online-support/accounts-payments/access-bereavement-support\n",
            "https://www.telstra.com.au/support/internet-and-home-phone/uninterruptible-power-supply\n",
            "https://www.telstra.com.au/support/mobiles-devices/messagebank-call-forwarding-ring-time#call-forwarding\n",
            "https://www.telstra.com.au/support/pre-paid/pre-paid-tax-invoice#main-content\n",
            "https://www.telstra.com.au/business-enterprise/support/adaptive-mobility\n",
            "https://www.telstra.com.au/small-business/online-support/business-software/manage-my-bills#payment\n",
            "https://www.telstra.com.au/support/email/email-phone-tablet#main-content\n",
            "https://www.telstra.com.au/content/dam/shared-component-assets/tecom/uc&c/collaboration/tipt/support/business-call-centre-premium-supervisor-quick-reference-guide.pdf\n"
          ]
        },
        {
          "output_type": "stream",
          "name": "stderr",
          "text": [
            "ERROR:langchain_community.document_loaders.url:Error fetching or processing https://www.telstra.com.au/content/dam/shared-component-assets/tecom/uc&c/collaboration/tipt/support/business-call-centre-premium-supervisor-quick-reference-guide.pdf, exception: partition_pdf is not available. Install the pdf dependencies with pip install \"unstructured[pdf]\"\n"
          ]
        },
        {
          "output_type": "stream",
          "name": "stdout",
          "text": [
            "https://www.telstra.com.au/support/mobiles-devices/cancel-mobile-service\n",
            "https://www.telstra.com.au/support/entertainment/disable-external-control-protocol\n",
            "https://www.telstra.com.au/business-enterprise/support/t-analyst/knowledge-sessions#using-reports-and-filters\n",
            "https://www.telstra.com.au/support/internet-and-home-phone/setup-telstra-smart-modem#hfc-nbn-connection-box\n",
            "https://www.telstra.com.au/support/email/suspended-account#not-used-email-180-days\n",
            "https://www.telstra.com.au/small-business/online-support/business-software/change-subscription-units#main-content\n",
            "https://www.telstra.com.au/support/email/imap-pop-smtp-mail-server-settings\n",
            "https://www.telstra.com.au/small-business/online-support/internet/office-phone-service#pstn\n",
            "https://www.telstra.com.au/small-business/online-support/accounts-payments#popular-topics\n",
            "https://www.telstra.com.au/small-business/online-support/accounts-payments#payments-and-bills\n",
            "https://www.telstra.com.au/business-enterprise/support/liberate#tipt\n",
            "https://www.telstra.com.au/support/internet-and-home-phone/set-up-telstra-satellite-internet-by-starlink\n",
            "https://www.telstra.com.au/support/mobiles-devices/reset-device#main-content\n",
            "https://www.telstra.com.au/support/entertainment/how-do-I-unlink-telstra-TV-from-my-telstra-id\n",
            "https://www.telstra.com.au/content/dam/shared-component-assets/tecom/uc&c/collaboration/tipt/support/business-customer-administrator-shared-call-appearance-feature-guide.pdf\n"
          ]
        },
        {
          "output_type": "stream",
          "name": "stderr",
          "text": [
            "ERROR:langchain_community.document_loaders.url:Error fetching or processing https://www.telstra.com.au/content/dam/shared-component-assets/tecom/uc&c/collaboration/tipt/support/business-customer-administrator-shared-call-appearance-feature-guide.pdf, exception: partition_pdf is not available. Install the pdf dependencies with pip install \"unstructured[pdf]\"\n"
          ]
        },
        {
          "output_type": "stream",
          "name": "stdout",
          "text": [
            "https://www.telstra.com.au/business-enterprise/support/liberate#using\n",
            "https://www.telstra.com.au/support/internet-and-home-phone/connecting-to-wired-ethernet-network#main-content\n",
            "https://www.telstra.com.au/aboutus/support-in-times-of-need/critical-illness-support#main-content\n",
            "https://www.telstra.com.au/support/account-payment/what-is-telstra-pin\n",
            "https://www.telstra.com.au/business-enterprise/support/tipt#UC-Self-Service-Portal\n",
            "https://www.telstra.com.au/support/internet-and-home-phone/caller-id-and-calling-number-display#callerID\n",
            "https://www.telstra.com.au/business-enterprise/support/tipt#main-content\n",
            "https://www.telstra.com.au/small-business/online-support/internet/telstra-4gx-usb-pro#connect\n",
            "https://www.telstra.com.au/small-business/online-support/business-software/buy-software-telstra-apps-marketplace\n",
            "https://www.telstra.com.au/support/internet-and-home-phone/lights-on-nbn-connection-box\n"
          ]
        },
        {
          "output_type": "stream",
          "name": "stderr",
          "text": [
            "WARNING:langchain_text_splitters.base:Created a chunk of size 1032, which is longer than the specified 1000\n"
          ]
        },
        {
          "output_type": "stream",
          "name": "stdout",
          "text": [
            "https://www.telstra.com.au/business-enterprise/support/important-terms#internet-services\n",
            "https://www.telstra.com.au/support/pre-paid/error-setting-up-auto-recharge\n",
            "https://www.telstra.com.au/aboutus/support-in-times-of-need/critical-illness-support#contactUs\n",
            "https://www.telstra.com.au/small-business/online-support/accounts-payments/view-my-bills-online#main-content\n",
            "https://www.telstra.com.au/support/entertainment/what-is-the-NRL-official-app#main-content\n",
            "https://www.telstra.com.au/support/mobiles-devices/set-up-and-manage-speed-latency-optimisers\n",
            "https://enterprise-support.telstra.com.au/business-enterprise/news-research/articles\n",
            "https://enterprise-support.telstra.com.au/business-enterprise/products/mobility-solutions#main-content\n",
            "https://enterprise-support.telstra.com.au/business-enterprise/news-research/case-studies/medhealth-supports-australians-with-telstra-contact-centre-genesys-cloud\n",
            "https://www.telstra.com.au/business-enterprise/support/billing-and-payments\n",
            "https://www.telstra.com.au/support/mobiles-devices/troubleshoot-speed-latency-optimisers#compatibleDevices\n",
            "https://www.telstra.com.au/support/entertainment/connect-an-antenna-cable-to-telstra-tv#main-content\n",
            "https://enterprise-support.telstra.com.au/business-enterprise/about-enterprise/people-partners\n",
            "https://www.telstra.com.au/support/mobiles-devices/3g-closure#main-content\n",
            "https://enterprise-support.telstra.com.au/business-enterprise/self-service/order-express\n",
            "https://www.telstra.com.au/support/entertainment/netflix-faqs#main-content\n",
            "https://www.telstra.com.au/support/mobiles-devices/switch-transfer-to-telstra#main-content\n"
          ]
        },
        {
          "output_type": "stream",
          "name": "stderr",
          "text": [
            "WARNING:langchain_text_splitters.base:Created a chunk of size 3208, which is longer than the specified 1000\n",
            "WARNING:langchain_text_splitters.base:Created a chunk of size 2315, which is longer than the specified 1000\n"
          ]
        },
        {
          "output_type": "stream",
          "name": "stdout",
          "text": [
            "https://www.telstra.com.au/support/internet-and-home-phone/nbn-connection-types#lightbox-nbn-fttn\n",
            "https://www.telstra.com.au/support/internet-and-home-phone/setup-telstra-smart-modem#troubleshooting\n",
            "https://www.telstra.com.au/support/account-payment/give-another-person-access-to-account#lightbox-qrCodesTips\n",
            "https://www.telstra.com.au/support/internet-and-home-phone/setup-telstra-smart-modem#fttc\n",
            "https://www.telstra.com.au/aboutus/support-in-times-of-need/adversity-financial-hardship#choose-options\n",
            "https://www.telstra.com.au/support/account-payment/pay-your-bill\n",
            "https://www.telstra.com.au/support/account-payment/set-up-and-manage-a-passkey#set-up\n",
            "https://www.telstra.com.au/aboutus/support-in-times-of-need/bereavement-support\n",
            "https://www.telstra.com.au/small-business/online-support/business-software/change-business-domain-provider\n",
            "https://www.telstra.com.au/support/mobiles-devices/blue-tick-device\n",
            "https://www.telstra.com.au/support/internet-and-home-phone/set-up-port-forwarding#main-content\n",
            "https://www.telstra.com.au/support/mobiles-devices/switch-transfer-to-telstra#ppv\n"
          ]
        },
        {
          "output_type": "stream",
          "name": "stderr",
          "text": [
            "WARNING:langchain_text_splitters.base:Created a chunk of size 3208, which is longer than the specified 1000\n",
            "WARNING:langchain_text_splitters.base:Created a chunk of size 2315, which is longer than the specified 1000\n"
          ]
        },
        {
          "output_type": "stream",
          "name": "stdout",
          "text": [
            "https://www.telstra.com.au/content/dam/shared-component-assets/tecom/uc&c/collaboration/tipt/support/telstra-ip-vvx-phone-getting-started-guide.pdf\n"
          ]
        },
        {
          "output_type": "stream",
          "name": "stderr",
          "text": [
            "ERROR:langchain_community.document_loaders.url:Error fetching or processing https://www.telstra.com.au/content/dam/shared-component-assets/tecom/uc&c/collaboration/tipt/support/telstra-ip-vvx-phone-getting-started-guide.pdf, exception: partition_pdf is not available. Install the pdf dependencies with pip install \"unstructured[pdf]\"\n"
          ]
        },
        {
          "output_type": "stream",
          "name": "stdout",
          "text": [
            "https://www.telstra.com.au/support/entertainment/telstra-tv-hdcp-error\n",
            "https://www.telstra.com.au/support/account-payment/id-check-for-new-account#in-store\n"
          ]
        },
        {
          "output_type": "stream",
          "name": "stderr",
          "text": [
            "WARNING:langchain_text_splitters.base:Created a chunk of size 1097, which is longer than the specified 1000\n",
            "WARNING:langchain_text_splitters.base:Created a chunk of size 1075, which is longer than the specified 1000\n"
          ]
        },
        {
          "output_type": "stream",
          "name": "stdout",
          "text": [
            "https://www.telstra.com.au/business-enterprise/support/spatialinsights#main-content\n",
            "https://www.telstra.com.au/support/internet-and-home-phone/setup-telstra-smart-modem#before-begin\n",
            "https://www.telstra.com.au/support/entertainment/what-is-the-telstra-tv-app#manage\n",
            "https://www.telstra.com.au/support/entertainment/apple-tv-plus-support#main-content\n",
            "https://www.telstra.com.au/support/internet-and-home-phone/report-a-fault#before-reporting\n",
            "https://www.telstra.com.au/support/mobiles-devices/messagebank-call-forwarding-ring-time#manage\n",
            "https://www.telstra.com.au/small-business/online-support/business-software/manage-credit-card-payment#update-card\n",
            "https://enterprise-support.telstra.com.au/business-enterprise/products/security/secure-your-business\n",
            "https://www.telstra.com.au/support/mobiles-devices/dual-sim#main-content\n",
            "https://www.telstra.com.au/support/entertainment/spotify-premium-support#main-content\n",
            "https://www.telstra.com.au/support/account-payment/get-more-time-to-pay\n",
            "https://www.telstra.com.au/support/entertainment/what-is-foxtel-on-demand\n",
            "https://www.telstra.com.au/small-business/online-support/business-software#main-content\n",
            "https://www.telstra.com.au/support/internet-and-home-phone/setup-telstra-smart-modem#hfc-foxtel-outlet\n",
            "https://www.telstra.com.au/support/account-payment/id-check-for-new-account#prepaid\n"
          ]
        },
        {
          "output_type": "stream",
          "name": "stderr",
          "text": [
            "WARNING:langchain_text_splitters.base:Created a chunk of size 1097, which is longer than the specified 1000\n",
            "WARNING:langchain_text_splitters.base:Created a chunk of size 1075, which is longer than the specified 1000\n"
          ]
        },
        {
          "output_type": "stream",
          "name": "stdout",
          "text": [
            "https://www.telstra.com.au/support/entertainment/get-help-with-nintendo-switch\n",
            "https://enterprise-support.telstra.com.au/business-enterprise/products/unified-communications/meeting-rooms-and-conferencing#main-content\n",
            "https://www.telstra.com.au/support/pre-paid/digital-voucher-recharge#lightbox-rechargeVoucher35\n",
            "https://www.telstra.com.au/support/account-payment/fees-on-payment-methods#main-content\n",
            "https://www.telstra.com.au/support/mobiles-devices/4g-smart-antenna-install#main-content\n",
            "https://enterprise-support.telstra.com.au/business-enterprise/products/internet-of-things/capabilities#main-content\n",
            "https://www.telstra.com.au/support/mobiles-devices/device-protect#troubleshoot\n",
            "https://www.telstra.com.au/business-enterprise/support/t-analyst/manage-your-invoices#User-tags\n",
            "https://www.telstra.com.au/support/email/sent-folder#main-content\n",
            "https://www.telstra.com.au/support/pre-paid/prepaid-mobile-plans-faq#main-content\n",
            "https://www.telstra.com.au/content/dam/tcom/small-business/support/pdf/TL00123-nbn-fttn-guide.pdf\n"
          ]
        },
        {
          "output_type": "stream",
          "name": "stderr",
          "text": [
            "ERROR:langchain_community.document_loaders.url:Error fetching or processing https://www.telstra.com.au/content/dam/tcom/small-business/support/pdf/TL00123-nbn-fttn-guide.pdf, exception: partition_pdf is not available. Install the pdf dependencies with pip install \"unstructured[pdf]\"\n"
          ]
        },
        {
          "output_type": "stream",
          "name": "stdout",
          "text": [
            "https://www.telstra.com.au/support/mobiles-devices/change-mobile-plan#main-content\n",
            "https://www.telstra.com.au/support/mobiles-devices/mobile-black-spot-program#rollout\n",
            "https://www.telstra.com.au/support/mobiles-devices/lost-stolen-sim-device\n",
            "https://www.telstra.com.au/support/internet-and-home-phone/fix-home-phone-issues#main-content\n",
            "https://www.telstra.com.au/business-enterprise/support#main-content\n",
            "https://www.telstra.com.au/business-enterprise/support/important-terms#general-terms\n",
            "https://www.telstra.com.au/support/internet-and-home-phone/nbn-connection-types#lightbox-sub-install\n",
            "https://www.telstra.com.au/aboutus/support-in-times-of-need/adversity-financial-hardship#business\n",
            "https://www.telstra.com.au/support/internet-and-home-phone/connect-outstanding\n",
            "https://www.telstra.com.au/support/internet-and-home-phone/caller-id-and-calling-number-display#callingNumberDisplay\n",
            "https://www.telstra.com.au/small-business/online-support/business-software/manage-my-bills#view-bill\n",
            "https://www.telstra.com.au/support/internet-and-home-phone/setup-telstra-smart-modem-for-adsl-hfc-cable#before-begin\n",
            "https://www.telstra.com.au/support/email/suspended-account#email-account-compromised\n",
            "https://www.telstra.com.au/support/mobiles-devices/phone-sms-scams\n",
            "https://www.telstra.com.au/support/internet-and-home-phone/set-up-smart-wifi-booster#manage-my-telstra\n",
            "https://www.telstra.com.au/support/account-payment/set-up-and-manage-a-passkey#main-content\n",
            "https://www.telstra.com.au/support/email/unauthenticated-traffic-limit#main-content\n",
            "https://www.telstra.com.au/support/entertainment/suspend-foxtel-service#main-content\n",
            "https://www.telstra.com.au/support/internet-and-home-phone/5g-home-support\n",
            "https://www.telstra.com.au/support/account-payment/set-up-direct-debit#manage-direct-debit\n",
            "https://www.telstra.com.au/content/dam/shared-component-assets/tecom/uc&c/collaboration/tipt/support/telstra-vvx-300-301-phone-quick-reference-guide.pdf\n"
          ]
        },
        {
          "output_type": "stream",
          "name": "stderr",
          "text": [
            "ERROR:langchain_community.document_loaders.url:Error fetching or processing https://www.telstra.com.au/content/dam/shared-component-assets/tecom/uc&c/collaboration/tipt/support/telstra-vvx-300-301-phone-quick-reference-guide.pdf, exception: partition_pdf is not available. Install the pdf dependencies with pip install \"unstructured[pdf]\"\n"
          ]
        },
        {
          "output_type": "stream",
          "name": "stdout",
          "text": [
            "https://www.telstra.com.au/support/mobiles-devices/messagebank-call-forwarding-ring-time#main-content\n",
            "https://enterprise-support.telstra.com.au/business-enterprise/news-research/articles/moving-to-sd-wan-is-your-best-opportunity-to-right-the-actions-of-the-past#main-content\n",
            "https://www.telstra.com.au/support/mobiles-devices/how-do-I-transfer-data-from-my-old-phone-to-my-new-samsung-galaxy-S21\n",
            "https://www.telstra.com.au/support/plan-update/ngwl-exit#main-content\n",
            "https://www.telstra.com.au/business-enterprise/support/enterprise-mobile-plan-changes\n",
            "https://www.telstra.com.au/small-business/online-support/mobiles-devices/forward-calls-on-mobile#how-to-setup\n",
            "https://www.telstra.com.au/support/entertainment/use-closed-captions-on-telstra-tv#main-content\n",
            "https://www.telstra.com.au/small-business/online-support/mobiles-devices/forward-calls-on-mobile#main-content\n",
            "https://www.telstra.com.au/small-business/online-support/internet/office-phone-service#main-content\n",
            "https://www.telstra.com.au/small-business/online-support/business-software/login-to-check-point-dashboard\n",
            "https://www.telstra.com.au/support/internet-and-home-phone/uninterruptible-power-supply#main-content\n",
            "https://www.telstra.com.au/support/email/suspended-account#main-content\n",
            "https://www.telstra.com.au/support/mobiles-devices/blue-tick-device#main-content\n",
            "https://www.telstra.com.au/support/internet-and-home-phone/set-up-call-forwarding-on-home-phone#apply-call-waiting\n",
            "https://www.telstra.com.au/support/email/using-telstra-webmail#main-content\n",
            "https://www.telstra.com.au/aboutus/support-in-times-of-need/disaster-relief#payment-assistance\n",
            "https://www.telstra.com.au/support/pre-paid#main-content\n",
            "https://www.telstra.com.au/small-business/online-support/business-software/manage-credit-card-payment#card-declined\n",
            "https://www.telstra.com.au/support/pre-paid/recharge-my-pre-paid-service\n",
            "https://www.telstra.com.au/business-enterprise/support/t-analyst/manage-your-invoices#grouping-invoices\n",
            "https://www.telstra.com.au/support/mobiles-devices/restart-device\n",
            "https://www.telstra.com.au/small-business/online-support/internet/problem-with-nbn-equipment\n",
            "https://www.telstra.com.au/support/entertainment/what-is-the-telstra-tv-app#faq\n",
            "https://www.telstra.com.au/support/mobiles-devices/device-protect#cancel\n",
            "https://www.telstra.com.au/support/mobiles-devices/put-sim-in-other-device#main-content\n",
            "https://www.telstra.com.au/support/mobiles-devices/caller-id-mobile\n",
            "https://www.telstra.com.au/small-business/online-support/business-software/manage-users-telstra-apps-marketplace#remove\n",
            "https://www.telstra.com.au/support/internet-and-home-phone/satisfaction-guarantee\n"
          ]
        },
        {
          "output_type": "stream",
          "name": "stderr",
          "text": [
            "WARNING:langchain_text_splitters.base:Created a chunk of size 1062, which is longer than the specified 1000\n"
          ]
        },
        {
          "output_type": "stream",
          "name": "stdout",
          "text": [
            "https://www.telstra.com.au/support/mobiles-devices/activate-sim-post-paid\n",
            "https://www.telstra.com.au/support/internet-and-home-phone/set-up-port-forwarding\n",
            "https://www.telstra.com.au/business-enterprise/support/permanent-inbound-roaming-policy#main-content\n",
            "https://www.telstra.com.au/small-business/online-support/internet/telstra-4gx-usb-pro\n",
            "https://www.telstra.com.au/support/mobiles-devices/enable-volte-mobile-phone#compatible-device\n"
          ]
        },
        {
          "output_type": "stream",
          "name": "stderr",
          "text": [
            "WARNING:langchain_text_splitters.base:Created a chunk of size 1249, which is longer than the specified 1000\n",
            "WARNING:langchain_text_splitters.base:Created a chunk of size 2930, which is longer than the specified 1000\n"
          ]
        },
        {
          "output_type": "stream",
          "name": "stdout",
          "text": [
            "https://www.telstra.com.au/small-business/online-support/mobiles-devices/telstra-one-number\n",
            "https://www.telstra.com.au/support/mobiles-devices/mobile-black-spot-program#infrastructure\n",
            "https://www.telstra.com.au/small-business/online-support/business-software/manage-credit-card-payment\n",
            "https://www.telstra.com.au/business-enterprise/support/important-terms#nbn-services\n",
            "https://www.telstra.com.au/business-enterprise/support/tipt-phones\n",
            "https://www.telstra.com.au/business-enterprise/support/t-analyst/reports\n",
            "https://www.telstra.com.au/support/account-payment/view-print-bills#lightbox-qrCodesTips\n",
            "https://www.telstra.com.au/support/entertainment/telstra-tv-manage-parental-controls\n",
            "https://www.telstra.com.au/support/account-payment/change-billing-address\n",
            "https://www.telstra.com.au/support/internet-and-home-phone/set-up-telstra-satellite-internet-by-starlink#beforeBegin\n",
            "https://www.telstra.com.au/support/email/block-domain\n",
            "https://www.telstra.com.au/small-business/online-support/mobiles-devices/check-roaming-usage\n",
            "https://www.telstra.com.au/support/pre-paid/set-up-auto-recharge\n",
            "https://www.telstra.com.au/support/internet-and-home-phone/telstra-smart-modem-support\n",
            "https://www.telstra.com.au/support/internet-and-home-phone/lights-on-nbn-connection-box#main-content\n"
          ]
        },
        {
          "output_type": "stream",
          "name": "stderr",
          "text": [
            "WARNING:langchain_text_splitters.base:Created a chunk of size 1032, which is longer than the specified 1000\n"
          ]
        },
        {
          "output_type": "stream",
          "name": "stdout",
          "text": [
            "https://www.telstra.com.au/small-business/online-support/accounts-payments/unlock-phone-using-puk-code#enter-puk-code\n",
            "https://www.telstra.com.au/support/internet-and-home-phone/conferencing#main-content\n",
            "https://www.telstra.com.au/business-enterprise/support/t-analyst/manage-your-invoices#about-billing\n",
            "https://www.telstra.com.au/small-business/online-support/accounts-payments/make-a-complaint#lodge-a-complaint\n",
            "https://www.telstra.com.au/support/account-payment/set-up-and-manage-a-passkey#passkey\n",
            "https://www.telstra.com.au/support/entertainment/get-started-with-the-foxtel-app\n",
            "https://www.telstra.com.au/business-enterprise/support/t-analyst/reports#main-content\n",
            "https://www.telstra.com.au/support/internet-and-home-phone#main-content\n",
            "https://www.telstra.com.au/support/internet-and-home-phone/home-phone-connection-on-nbn-network\n",
            "https://www.telstra.com.au/support/internet-and-home-phone/check-smart-modem\n",
            "https://www.telstra.com.au/support/entertainment/kayo-app-faqs#main-content\n",
            "https://www.telstra.com.au/content/dam/shared-component-assets/tecom/support/sip-connect/sipc-integration-guide.pdf\n"
          ]
        },
        {
          "output_type": "stream",
          "name": "stderr",
          "text": [
            "ERROR:langchain_community.document_loaders.url:Error fetching or processing https://www.telstra.com.au/content/dam/shared-component-assets/tecom/support/sip-connect/sipc-integration-guide.pdf, exception: partition_pdf is not available. Install the pdf dependencies with pip install \"unstructured[pdf]\"\n"
          ]
        },
        {
          "output_type": "stream",
          "name": "stdout",
          "text": [
            "https://www.telstra.com.au/support/entertainment/my-telstra-tv-says-connection-dropped-when-i-try-to-activate#main-content\n",
            "https://www.telstra.com.au/support/pre-paid/pre-paid-tax-invoice\n",
            "https://www.telstra.com.au/content/dam/shared-component-assets/tecom/uc&c/collaboration/tipt/support/Telstra%20Cisco%208865%20MPP%20User%20Guide.pdf\n"
          ]
        },
        {
          "output_type": "stream",
          "name": "stderr",
          "text": [
            "ERROR:langchain_community.document_loaders.url:Error fetching or processing https://www.telstra.com.au/content/dam/shared-component-assets/tecom/uc&c/collaboration/tipt/support/Telstra%20Cisco%208865%20MPP%20User%20Guide.pdf, exception: partition_pdf is not available. Install the pdf dependencies with pip install \"unstructured[pdf]\"\n"
          ]
        },
        {
          "output_type": "stream",
          "name": "stdout",
          "text": [
            "https://enterprise-support.telstra.com.au/business-enterprise/products/internet-of-things/solutions#main-content\n",
            "https://www.telstra.com.au/support/mobiles-devices/unlock-sim-puk#main-content\n",
            "https://www.telstra.com.au/business-enterprise/support/financial-hardship-policy\n",
            "https://www.telstra.com.au/support/entertainment/everything-you-need-to-know-about-the-foxtel-app#main-content\n",
            "https://enterprise-support.telstra.com.au/business-enterprise/products/mobility-solutions/business-apps\n",
            "https://www.telstra.com.au/content/dam/tcom/personal/support/pdf/broadband/set-up-guide-for-starlink-internet.pdf\n"
          ]
        },
        {
          "output_type": "stream",
          "name": "stderr",
          "text": [
            "ERROR:langchain_community.document_loaders.url:Error fetching or processing https://www.telstra.com.au/content/dam/tcom/personal/support/pdf/broadband/set-up-guide-for-starlink-internet.pdf, exception: partition_pdf is not available. Install the pdf dependencies with pip install \"unstructured[pdf]\"\n"
          ]
        },
        {
          "output_type": "stream",
          "name": "stdout",
          "text": [
            "https://www.telstra.com.au/support/account-payment/report-a-payment#main-content\n",
            "https://www.telstra.com.au/support/internet-and-home-phone/setup-technician#before-the-technician-visits\n",
            "https://www.telstra.com.au/business-enterprise/support/t-analyst/reports#detail\n",
            "https://www.telstra.com.au/support/email/unauthenticated-traffic-limit\n",
            "https://www.telstra.com.au/small-business/online-support/business-software#payment\n",
            "https://www.telstra.com.au/support/account-payment/set-up-direct-debit#pay-online\n",
            "https://www.telstra.com.au/support/account-payment/get-more-time-to-pay#lightbox-qrCodesTips\n",
            "https://www.telstra.com.au/support/entertainment/netflix-faqs\n",
            "https://www.telstra.com.au/support/email/compromised#blocked-email\n",
            "https://www.telstra.com.au/content/dam/shared-component-assets/tecom/uc&c/collaboration/tipt/support/Telstra%20Cisco%208851%20MPP%20User%20Guide.pdf\n"
          ]
        },
        {
          "output_type": "stream",
          "name": "stderr",
          "text": [
            "ERROR:langchain_community.document_loaders.url:Error fetching or processing https://www.telstra.com.au/content/dam/shared-component-assets/tecom/uc&c/collaboration/tipt/support/Telstra%20Cisco%208851%20MPP%20User%20Guide.pdf, exception: partition_pdf is not available. Install the pdf dependencies with pip install \"unstructured[pdf]\"\n"
          ]
        },
        {
          "output_type": "stream",
          "name": "stdout",
          "text": [
            "https://www.telstra.com.au/business-enterprise/support/business-connect\n",
            "https://www.telstra.com.au/support/mobiles-devices/use-manage-telstra-one-number\n",
            "https://www.telstra.com.au/support/entertainment/how-do-i-cancel-my-foxtel-service\n",
            "https://www.telstra.com.au/support/mobiles-devices/device-security#main-content\n"
          ]
        },
        {
          "output_type": "stream",
          "name": "stderr",
          "text": [
            "WARNING:langchain_text_splitters.base:Created a chunk of size 1916, which is longer than the specified 1000\n"
          ]
        },
        {
          "output_type": "stream",
          "name": "stdout",
          "text": [
            "https://www.telstra.com.au/support/mobiles-devices/restart-device#restart-other-devices\n",
            "https://www.telstra.com.au/content/dam/shared-component-assets/tecom/uc&c/collaboration/tipt/support/business-tipt-voice-portal-map.pdf\n"
          ]
        },
        {
          "output_type": "stream",
          "name": "stderr",
          "text": [
            "ERROR:langchain_community.document_loaders.url:Error fetching or processing https://www.telstra.com.au/content/dam/shared-component-assets/tecom/uc&c/collaboration/tipt/support/business-tipt-voice-portal-map.pdf, exception: partition_pdf is not available. Install the pdf dependencies with pip install \"unstructured[pdf]\"\n"
          ]
        },
        {
          "output_type": "stream",
          "name": "stdout",
          "text": [
            "https://www.telstra.com.au/support/account-payment/install-and-use-my-telstra-app?$web_only=true&_branch_match_id=1261175347218877515&utm_medium=Telstra%20Digital&_branch_referrer=H4sIAAAAAAAAA8soKSkottLXL0nNKS4pStQtT03SSywo0MvJzMvWT9U3DsmJMIzMCC/wSgIAo872pCoAAAA=\n",
            "https://www.telstra.com.au/small-business/online-support/business-software/check-domain-renewal-status\n",
            "https://www.telstra.com.au/business-enterprise/support/sip-connect\n",
            "https://www.telstra.com.au/content/dam/shared-component-assets/tecom/uc&c/collaboration/tipt/support/Anywhere%20Feature%20Guide%20for%20Customer%20Administrator.pdf\n"
          ]
        },
        {
          "output_type": "stream",
          "name": "stderr",
          "text": [
            "ERROR:langchain_community.document_loaders.url:Error fetching or processing https://www.telstra.com.au/content/dam/shared-component-assets/tecom/uc&c/collaboration/tipt/support/Anywhere%20Feature%20Guide%20for%20Customer%20Administrator.pdf, exception: partition_pdf is not available. Install the pdf dependencies with pip install \"unstructured[pdf]\"\n"
          ]
        },
        {
          "output_type": "stream",
          "name": "stdout",
          "text": [
            "https://www.telstra.com.au/support/account-payment/remove-service-restriction\n",
            "https://www.telstra.com.au/small-business/online-support/accounts-payments#manage-my-account\n",
            "https://www.telstra.com.au/content/dam/shared-component-assets/tecom/uc&c/collaboration/tipt/support/business-mireception-quick-reference-guide.pdf\n"
          ]
        },
        {
          "output_type": "stream",
          "name": "stderr",
          "text": [
            "ERROR:langchain_community.document_loaders.url:Error fetching or processing https://www.telstra.com.au/content/dam/shared-component-assets/tecom/uc&c/collaboration/tipt/support/business-mireception-quick-reference-guide.pdf, exception: partition_pdf is not available. Install the pdf dependencies with pip install \"unstructured[pdf]\"\n"
          ]
        },
        {
          "output_type": "stream",
          "name": "stdout",
          "text": [
            "https://www.telstra.com.au/business-enterprise/support/liberate\n",
            "https://www.telstra.com.au/business-enterprise/support/t-analyst/manage-your-invoices\n",
            "https://www.telstra.com.au/business-enterprise/support/adaptive-mobility#main-content\n",
            "https://enterprise-support.telstra.com.au/business-enterprise/about-enterprise/our-network/5g#main-content\n",
            "https://www.telstra.com.au/small-business/online-support/business-software/change-telstra-apps-marketplace-password#main-content\n",
            "https://www.telstra.com.au/business-enterprise/support/tipt#Call-Centre-and-miReception\n",
            "https://www.telstra.com.au/content/dam/shared-component-assets/tecom/support/business-sip/business-sip-Installation-guide.pdf\n"
          ]
        },
        {
          "output_type": "stream",
          "name": "stderr",
          "text": [
            "ERROR:langchain_community.document_loaders.url:Error fetching or processing https://www.telstra.com.au/content/dam/shared-component-assets/tecom/support/business-sip/business-sip-Installation-guide.pdf, exception: partition_pdf is not available. Install the pdf dependencies with pip install \"unstructured[pdf]\"\n"
          ]
        },
        {
          "output_type": "stream",
          "name": "stdout",
          "text": [
            "https://www.telstra.com.au/support/entertainment/how-do-i-connect-my-foxtel-set-top-box-to-the-internet\n",
            "https://www.telstra.com.au/support/entertainment/how-to-watch-a-video-or-listen-to-music-from-an-external-source\n",
            "https://www.telstra.com.au/support/internet-and-home-phone/moving-smart-modem#main-content\n",
            "https://www.telstra.com.au/content/dam/shared-component-assets/tecom/support/business-sip/business-sip-detailed-integration-guide.pdf\n"
          ]
        },
        {
          "output_type": "stream",
          "name": "stderr",
          "text": [
            "ERROR:langchain_community.document_loaders.url:Error fetching or processing https://www.telstra.com.au/content/dam/shared-component-assets/tecom/support/business-sip/business-sip-detailed-integration-guide.pdf, exception: partition_pdf is not available. Install the pdf dependencies with pip install \"unstructured[pdf]\"\n"
          ]
        },
        {
          "output_type": "stream",
          "name": "stdout",
          "text": [
            "https://www.telstra.com.au/support/mobiles-devices/reset-device#factory-reset-samsung\n",
            "https://enterprise-support.telstra.com.au/business-enterprise/products/networks/adaptive-networks#main-content\n",
            "https://www.telstra.com.au/small-business/online-support/mobiles-devices/forward-calls-on-mobile#settings-codes\n",
            "https://www.telstra.com.au/support/entertainment/disneyplus-support#cancellation\n",
            "https://www.telstra.com.au/support/internet-and-home-phone/change-or-unlist-number#main-content\n",
            "https://www.telstra.com.au/support/internet-and-home-phone/set-up-smart-wifi-booster#main-content\n",
            "https://enterprise-support.telstra.com.au/business-enterprise/about-enterprise/innovation#main-content\n",
            "https://www.telstra.com.au/support/mobiles-devices/how-do-I-make-calls-sms-and-get-online-with-international-roaming#connecting-to-the-internet-overseas\n",
            "https://www.telstra.com.au/small-business/online-support/mobiles-devices/manage-upfront-mobile-and-data-plan#main-content\n",
            "https://www.telstra.com.au/business-enterprise/support/t-analyst/how-to-videos#download-a-bill-Telstra-Connect\n",
            "https://www.telstra.com.au/support/entertainment/what-do-i-do-if-i-cant-pair-my-ttv-mobile-app\n",
            "https://www.telstra.com.au/business-enterprise/support/t-analyst/reports#types\n",
            "https://www.telstra.com.au/support/mobiles-devices/telstra-upfront-mobile-plan\n",
            "https://www.telstra.com.au/support/internet-and-home-phone/nbn-connection-types#lightbox-nbn-fw\n",
            "https://enterprise-support.telstra.com.au/business-enterprise/news-research/case-studies/how-connectivity-is-helping-anindilyakwa-land-council-reclaim-its-identity\n",
            "https://www.telstra.com.au/support/entertainment/disneyplus-support#account-settings\n",
            "https://www.telstra.com.au/support/mobiles-devices\n",
            "https://www.telstra.com.au/support/entertainment/how-do-i-use-my-google-home-google-home-mini-with-my-telstra-tv#main-content\n",
            "https://www.telstra.com.au/support/email/suspended-account#payment-late\n",
            "https://www.telstra.com.au/business-enterprise/support/changing-an-apn-setting#apple-iphone\n",
            "https://www.telstra.com.au/small-business/online-support/internet/nbn-connection-type#main-content\n",
            "https://www.telstra.com.au/support/mobiles-devices/enable-volte-mobile-phone#what-is-volte\n"
          ]
        },
        {
          "output_type": "stream",
          "name": "stderr",
          "text": [
            "WARNING:langchain_text_splitters.base:Created a chunk of size 1249, which is longer than the specified 1000\n",
            "WARNING:langchain_text_splitters.base:Created a chunk of size 2930, which is longer than the specified 1000\n"
          ]
        },
        {
          "output_type": "stream",
          "name": "stdout",
          "text": [
            "https://www.telstra.com.au/business-enterprise/support/billing-and-payments#invoice\n",
            "https://www.telstra.com.au/small-business/online-support/mobiles-devices/international-day-pass#destination\n",
            "https://www.telstra.com.au/support/account-payment/why-cant-i-access-premium-sms\n",
            "https://www.telstra.com.au/small-business/online-support/mobiles-devices/add-more-data#main-content\n",
            "https://www.telstra.com.au/small-business/online-support/accounts-payments/make-a-payment#phone\n",
            "https://www.telstra.com.au/support/mobiles-devices/how-do-I-make-calls-sms-and-get-online-with-international-roaming#making-calls-and-sending-sms-texts\n",
            "https://www.telstra.com.au/small-business/online-support/business-software/check-domain-renewal-status#main-content\n",
            "https://enterprise-support.telstra.com.au/business-enterprise/support#main-content\n",
            "https://www.telstra.com.au/small-business/online-support/accounts-payments/make-a-complaint\n",
            "https://www.telstra.com.au/support/mobiles-devices/mobile-reception-interrupted#main-content\n",
            "https://www.telstra.com.au/support/email/windows-live-vista-mail\n",
            "https://www.telstra.com.au/business-enterprise/support/business-sip#support\n",
            "https://www.telstra.com.au/small-business/online-support/accounts-payments/unlock-phone-using-puk-code#find-puk-code\n",
            "https://www.telstra.com.au/support/internet-and-home-phone/set-up-smart-wifi-booster\n",
            "https://www.telstra.com.au/support/internet-and-home-phone/connecting-to-wired-ethernet-network\n",
            "https://www.telstra.com.au/small-business/online-support/business-software/change-telstra-apps-marketplace-password#reset-password\n",
            "https://www.telstra.com.au/aboutus/support-in-times-of-need/bereavement-support#resources\n",
            "https://www.telstra.com.au/small-business/online-support/internet/troubleshoot-telstra-modem#lightbox-check-business-smart-modem\n",
            "https://www.telstra.com.au/support/internet-and-home-phone/home-wireless-voice#main-content\n",
            "https://www.telstra.com.au/content/dam/tcom/personal/support/pdf/broadband/set-up-guide-for-standard-actuated-starlink-kit.pdf\n"
          ]
        },
        {
          "output_type": "stream",
          "name": "stderr",
          "text": [
            "ERROR:langchain_community.document_loaders.url:Error fetching or processing https://www.telstra.com.au/content/dam/tcom/personal/support/pdf/broadband/set-up-guide-for-standard-actuated-starlink-kit.pdf, exception: partition_pdf is not available. Install the pdf dependencies with pip install \"unstructured[pdf]\"\n"
          ]
        },
        {
          "output_type": "stream",
          "name": "stdout",
          "text": [
            "https://www.telstra.com.au/support/plan-update/ngwl-exit#inclusions-exclusions\n",
            "https://www.telstra.com.au/small-business/online-support/business-software/manage-users-telstra-apps-marketplace#main-content\n",
            "https://www.telstra.com.au/business-enterprise/support/tipt/tipt-how-to-videos#setting\n",
            "https://www.telstra.com.au/support/entertainment/how-do-i-find-movies-or-tv-shows-using-telstra-tv-search\n",
            "https://www.telstra.com.au/business-enterprise/support/t-analyst/download-centre\n",
            "https://www.telstra.com.au/support/mobiles-devices/telstra-wifi-calling#wifi-calling\n",
            "https://enterprise-support.telstra.com.au/business-enterprise/products/security\n",
            "https://www.telstra.com.au/business-enterprise/support/t-analyst/how-to-videos#upload\n",
            "https://www.telstra.com.au/support/account-payment/report-a-payment\n",
            "https://www.telstra.com.au/content/dam/tcom/personal/support/pdf/broadband/telstra-usb-4g-userguide.pdf\n"
          ]
        },
        {
          "output_type": "stream",
          "name": "stderr",
          "text": [
            "ERROR:langchain_community.document_loaders.url:Error fetching or processing https://www.telstra.com.au/content/dam/tcom/personal/support/pdf/broadband/telstra-usb-4g-userguide.pdf, exception: partition_pdf is not available. Install the pdf dependencies with pip install \"unstructured[pdf]\"\n"
          ]
        },
        {
          "output_type": "stream",
          "name": "stdout",
          "text": [
            "https://www.telstra.com.au/aboutus/support-in-times-of-need/bereavement-support#whats-next\n",
            "https://www.telstra.com.au/small-business/online-support/internet/self-install-business-smart-modem#lightbox-nbn-fttn-fttb-video\n",
            "https://www.telstra.com.au/support/account-payment/check-contract-or-cancel-service\n",
            "https://www.telstra.com.au/support/entertainment/what-is-the-telstra-tv-app#telstra-tv-app\n",
            "https://www.telstra.com.au/content/dam/shared-component-assets/tecom/support/business-sip/business-sip-portal-end-user-guide.pdf\n"
          ]
        },
        {
          "output_type": "stream",
          "name": "stderr",
          "text": [
            "ERROR:langchain_community.document_loaders.url:Error fetching or processing https://www.telstra.com.au/content/dam/shared-component-assets/tecom/support/business-sip/business-sip-portal-end-user-guide.pdf, exception: partition_pdf is not available. Install the pdf dependencies with pip install \"unstructured[pdf]\"\n"
          ]
        },
        {
          "output_type": "stream",
          "name": "stdout",
          "text": [
            "https://www.telstra.com.au/content/dam/shared-component-assets/tecom/uc&c/collaboration/tipt/support/Cisco%20Install%20Guide.pdf\n"
          ]
        },
        {
          "output_type": "stream",
          "name": "stderr",
          "text": [
            "ERROR:langchain_community.document_loaders.url:Error fetching or processing https://www.telstra.com.au/content/dam/shared-component-assets/tecom/uc&c/collaboration/tipt/support/Cisco%20Install%20Guide.pdf, exception: partition_pdf is not available. Install the pdf dependencies with pip install \"unstructured[pdf]\"\n"
          ]
        },
        {
          "output_type": "stream",
          "name": "stdout",
          "text": [
            "https://www.telstra.com.au/support/mobiles-devices/google-voice-activated-calling-changes\n",
            "https://www.telstra.com.au/support/email/compromised#blocked-id\n",
            "https://www.telstra.com.au/content/dam/shared-component-assets/tecom/support/telstra-iso45001-certification-oct-2023.pdf\n"
          ]
        },
        {
          "output_type": "stream",
          "name": "stderr",
          "text": [
            "ERROR:langchain_community.document_loaders.url:Error fetching or processing https://www.telstra.com.au/content/dam/shared-component-assets/tecom/support/telstra-iso45001-certification-oct-2023.pdf, exception: partition_pdf is not available. Install the pdf dependencies with pip install \"unstructured[pdf]\"\n"
          ]
        },
        {
          "output_type": "stream",
          "name": "stdout",
          "text": [
            "https://www.telstra.com.au/support/internet-and-home-phone/set-up-telstra-satellite-internet-by-starlink#partsNeeded\n",
            "https://www.telstra.com.au/support/mobiles-devices/3g-closure#recycleDevice\n",
            "https://www.telstra.com.au/business-enterprise/support/t-analyst/how-to-videos#assigning-accounts-to-cost-centres\n",
            "https://www.telstra.com.au/support/account-payment/change-billing-address#main-content\n",
            "https://www.telstra.com.au/support/mobiles-devices/network-diagnostics-in-my-telstra\n",
            "https://www.telstra.com.au/support/account-payment/give-ownership-of-account-to-someone#non-upfront-plans\n",
            "https://www.telstra.com.au/support/mobiles-devices/what-are-the-different-types-of-international-roaming\n",
            "https://www.telstra.com.au/support/account-payment/set-up-and-manage-a-passkey#manage\n",
            "https://www.telstra.com.au/small-business/online-support/mobiles-devices/international-day-pass\n",
            "https://www.telstra.com.au/content/dam/tcom/small-business/support/pdf/TL00123-nbn-fttc_guide.pdf\n"
          ]
        },
        {
          "output_type": "stream",
          "name": "stderr",
          "text": [
            "ERROR:langchain_community.document_loaders.url:Error fetching or processing https://www.telstra.com.au/content/dam/tcom/small-business/support/pdf/TL00123-nbn-fttc_guide.pdf, exception: partition_pdf is not available. Install the pdf dependencies with pip install \"unstructured[pdf]\"\n"
          ]
        },
        {
          "output_type": "stream",
          "name": "stdout",
          "text": [
            "https://www.telstra.com.au/business-enterprise/support/t-analyst/how-to-videos#download-a-bill-T-Analyst\n",
            "https://www.telstra.com.au/small-business/online-support/internet/nbn-connection-type\n",
            "https://www.telstra.com.au/support/internet-and-home-phone/general-nbn-settings\n",
            "https://www.telstra.com.au/support/mobiles-devices/3g-closure-faq#main-content\n",
            "https://www.telstra.com.au/small-business/online-support/business-software/set-up-office-365-domain-name\n",
            "https://www.telstra.com.au/support/pre-paid/100exit#main-content\n",
            "https://www.telstra.com.au/small-business/online-support/mobiles-devices/manage-call-barring\n",
            "https://www.telstra.com.au/business-enterprise/support/t-analyst/setup-tools#account\n",
            "https://www.telstra.com.au/small-business/online-support/accounts-payments/understanding-my-bill#main-content\n",
            "https://www.telstra.com.au/support/entertainment/my-telstra-tv-is-freezing\n",
            "https://www.telstra.com.au/support/mobiles-devices/how-do-I-make-calls-sms-and-get-online-with-international-roaming\n",
            "https://www.telstra.com.au/small-business/online-support/business-software/setup-business-domain\n",
            "https://www.telstra.com.au/support/internet-and-home-phone/setup-technician#what-to-expect-during-the-visit\n",
            "https://www.telstra.com.au/business-enterprise/support\n",
            "https://www.telstra.com.au/support/mobiles-devices/change-mobile-plan\n",
            "https://www.telstra.com.au/support/account-payment/set-up-and-manage-a-passkey#troubleshooting\n",
            "https://enterprise-support.telstra.com.au/business-enterprise/products/unified-communications#main-content\n",
            "https://www.telstra.com.au/aboutus/support-in-times-of-need/domestic-family-violence\n",
            "https://www.telstra.com.au/small-business/online-support/internet/troubleshoot-telstra-modem#main-content\n",
            "https://www.telstra.com.au/support/internet-and-home-phone/telstra-contacting-you\n",
            "https://www.telstra.com.au/content/dam/shared-component-assets/tecom/uc&c/collaboration/tipt/support/business-auto-attendant-feature-guide.pdf\n"
          ]
        },
        {
          "output_type": "stream",
          "name": "stderr",
          "text": [
            "ERROR:langchain_community.document_loaders.url:Error fetching or processing https://www.telstra.com.au/content/dam/shared-component-assets/tecom/uc&c/collaboration/tipt/support/business-auto-attendant-feature-guide.pdf, exception: partition_pdf is not available. Install the pdf dependencies with pip install \"unstructured[pdf]\"\n"
          ]
        },
        {
          "output_type": "stream",
          "name": "stdout",
          "text": [
            "https://www.telstra.com.au/support/account-payment/view-print-bills\n",
            "https://www.telstra.com.au/business-enterprise/support/billing-and-payments#help\n",
            "https://www.telstra.com.au/aboutus/support-in-times-of-need/disaster-relief#main-content\n",
            "https://www.telstra.com.au/support/entertainment/multiroom-and-foxtel-go-multiscreen\n",
            "https://www.telstra.com.au/support/account-payment/install-and-use-my-telstra-app#telstraId\n",
            "https://www.telstra.com.au/small-business/online-support/business-software/update-company-info\n",
            "https://www.telstra.com.au/support/mobiles-devices/cancel-mobile-service#main-content\n",
            "https://www.telstra.com.au/support/account-payment/set-up-direct-debit#manage-autopay\n",
            "https://www.telstra.com.au/small-business/online-support/mobiles-devices/forward-calls-on-mobile#other-call-settings\n",
            "https://www.telstra.com.au/small-business/online-support/mobiles-devices/data-sharing-on-upfront-plans#main-content\n",
            "https://www.telstra.com.au/support/mobiles-devices/fix-troubleshoot-mobile#resetNetworkSettings\n",
            "https://www.telstra.com.au/small-business/online-support/accounts-payments/access-my-old-bills#main-content\n",
            "https://www.telstra.com.au/support/mobiles-devices/telstra-upfront-mobile-plan#main-content\n",
            "https://www.telstra.com.au/aboutus/support-in-times-of-need/disaster-relief#disaster-support\n",
            "https://enterprise-support.telstra.com.au/business-enterprise/self-service/order-express#main-content\n",
            "https://enterprise-support.telstra.com.au/business-enterprise/products/cloud/cloud-connectivity#main-content\n",
            "https://www.telstra.com.au/business-enterprise/support/liberate#setting\n",
            "https://www.telstra.com.au/business-enterprise/support/t-analyst/how-to-videos#main-content\n",
            "https://www.telstra.com.au/business-enterprise/support/t-analyst/knowledge-sessions#main-content\n",
            "https://www.telstra.com.au/small-business/online-support/internet/troubleshoot-telstra-modem#telstra-business-smart-modem\n",
            "https://www.telstra.com.au/support/internet-and-home-phone/prioritise-internet-optimiser-for-gaming-or-work\n",
            "https://enterprise-support.telstra.com.au/business-enterprise/products/mobility-solutions/business-apps#main-content\n",
            "https://www.telstra.com.au/support/email#main-content\n",
            "https://www.telstra.com.au/support/internet-and-home-phone/nbn-connection-types\n",
            "https://www.telstra.com.au/small-business/online-support/mobiles-devices/mobility-accelerator#activate\n",
            "https://enterprise-support.telstra.com.au/business-enterprise/products/cloud/solutions\n",
            "https://www.telstra.com.au/support/entertainment/using-my-telstra-tv#main-content\n",
            "https://www.telstra.com.au/support/pre-paid/digital-voucher-recharge#rechargeVoucherOptions\n",
            "https://www.telstra.com.au/small-business/online-support/mobiles-devices/lost-smart-watch#main-content\n",
            "https://www.telstra.com.au/content/dam/shared-component-assets/tecom/support/telstra-statement-of-applicability-v5.pdf\n"
          ]
        },
        {
          "output_type": "stream",
          "name": "stderr",
          "text": [
            "ERROR:langchain_community.document_loaders.url:Error fetching or processing https://www.telstra.com.au/content/dam/shared-component-assets/tecom/support/telstra-statement-of-applicability-v5.pdf, exception: partition_pdf is not available. Install the pdf dependencies with pip install \"unstructured[pdf]\"\n"
          ]
        },
        {
          "output_type": "stream",
          "name": "stdout",
          "text": [
            "https://www.telstra.com.au/small-business/online-support/mobiles-devices#manage-device\n",
            "https://www.telstra.com.au/small-business/online-support/accounts-payments/make-a-complaint#follow-up-complaint\n",
            "https://www.telstra.com.au/support/email/apple-mail#main-content\n",
            "https://www.telstra.com.au/support/entertainment/does-the-foxtel-app-use-my-data-allowance#main-content\n",
            "https://www.telstra.com.au/business-enterprise/support/changing-an-apn-setting#wifi-pro\n",
            "https://www.telstra.com.au/small-business/online-support/internet/telstra-4gx-usb-pro#without-tbsm\n",
            "https://www.telstra.com.au/business-enterprise/support/microsoft-operator-connect#help\n",
            "https://enterprise-support.telstra.com.au/business-enterprise/products/security/protect-your-team\n",
            "https://www.telstra.com.au/small-business/online-support/business-software/setup-business-domain#connect\n",
            "https://www.telstra.com.au/support/mobiles-devices/restart-device#restart-android-phone\n",
            "https://enterprise-support.telstra.com.au/business-enterprise/news-research/case-studies/how-coca-cola-europacific-partners-built-a-unified-contact-centre-of-the-future-with-telstra-and-genesys\n",
            "https://www.telstra.com.au/aboutus/support-in-times-of-need/disaster-relief#emergency-quick-links\n",
            "https://www.telstra.com.au/small-business/online-support/mobiles-devices/manage-upfront-mobile-and-data-plan\n",
            "https://www.telstra.com.au/content/dam/shared-component-assets/tecom/uc&c/collaboration/tipt/support/business-hunt-group-quick-reference-guide.pdf\n"
          ]
        },
        {
          "output_type": "stream",
          "name": "stderr",
          "text": [
            "ERROR:langchain_community.document_loaders.url:Error fetching or processing https://www.telstra.com.au/content/dam/shared-component-assets/tecom/uc&c/collaboration/tipt/support/business-hunt-group-quick-reference-guide.pdf, exception: partition_pdf is not available. Install the pdf dependencies with pip install \"unstructured[pdf]\"\n"
          ]
        },
        {
          "output_type": "stream",
          "name": "stdout",
          "text": [
            "https://www.telstra.com.au/content/dam/shared-component-assets/tecom/support/business-sip/business-sip-iad-installation-guide.pdf\n"
          ]
        },
        {
          "output_type": "stream",
          "name": "stderr",
          "text": [
            "ERROR:langchain_community.document_loaders.url:Error fetching or processing https://www.telstra.com.au/content/dam/shared-component-assets/tecom/support/business-sip/business-sip-iad-installation-guide.pdf, exception: partition_pdf is not available. Install the pdf dependencies with pip install \"unstructured[pdf]\"\n"
          ]
        },
        {
          "output_type": "stream",
          "name": "stdout",
          "text": [
            "https://www.telstra.com.au/content/dam/shared-component-assets/tecom/uc&c/collaboration/tipt/support/business-call-centre-premium-reporting-guide.pdf\n"
          ]
        },
        {
          "output_type": "stream",
          "name": "stderr",
          "text": [
            "ERROR:langchain_community.document_loaders.url:Error fetching or processing https://www.telstra.com.au/content/dam/shared-component-assets/tecom/uc&c/collaboration/tipt/support/business-call-centre-premium-reporting-guide.pdf, exception: partition_pdf is not available. Install the pdf dependencies with pip install \"unstructured[pdf]\"\n"
          ]
        },
        {
          "output_type": "stream",
          "name": "stdout",
          "text": [
            "https://www.telstra.com.au/business-enterprise/support/customer-assurance#certification\n",
            "https://www.telstra.com.au/business-enterprise/support/how-do-i-claim-my-all-4-biz-loyalty-or-tef-loyalty-bonus#main-content\n",
            "https://www.telstra.com.au/support/entertainment/changes-to-foxtel-from-telstra#main-content\n",
            "https://www.telstra.com.au/business-enterprise/support/t-analyst/setup-tools#user\n",
            "https://www.telstra.com.au/support/email/apple-mail\n",
            "https://www.telstra.com.au/small-business/online-support/accounts-payments/request-a-payment-extension#main-content\n",
            "https://www.telstra.com.au/support/internet-and-home-phone/prioritise-internet-optimiser-for-gaming-or-work#work\n",
            "https://www.telstra.com.au/support/internet-and-home-phone/dial-tone-different-sounds#main-content\n",
            "https://www.telstra.com.au/support/internet-and-home-phone/setup-telstra-smart-modem#set-up\n",
            "https://www.telstra.com.au/support/account-payment/how-can-i-receive-my-bill#main-content\n",
            "https://www.telstra.com.au/support/entertainment/how-do-i-upgrade-my-foxtel-set-top-box#main-content\n",
            "https://www.telstra.com.au/support/mobiles-devices/extend-mobile-battery-life#main-content\n",
            "https://www.telstra.com.au/small-business/online-support/business-software/manage-email-services\n",
            "https://enterprise-support.telstra.com.au/business-enterprise/news-research/case-studies#main-content\n",
            "https://www.telstra.com.au/content/dam/shared-component-assets/tecom/uc&c/collaboration/tipt/support/UC-Self-Service-Portal-Guide.pdf\n"
          ]
        },
        {
          "output_type": "stream",
          "name": "stderr",
          "text": [
            "ERROR:langchain_community.document_loaders.url:Error fetching or processing https://www.telstra.com.au/content/dam/shared-component-assets/tecom/uc&c/collaboration/tipt/support/UC-Self-Service-Portal-Guide.pdf, exception: partition_pdf is not available. Install the pdf dependencies with pip install \"unstructured[pdf]\"\n"
          ]
        },
        {
          "output_type": "stream",
          "name": "stdout",
          "text": [
            "https://www.telstra.com.au/support/account-payment/id-check-for-new-account#secondary-id\n"
          ]
        },
        {
          "output_type": "stream",
          "name": "stderr",
          "text": [
            "WARNING:langchain_text_splitters.base:Created a chunk of size 1097, which is longer than the specified 1000\n",
            "WARNING:langchain_text_splitters.base:Created a chunk of size 1075, which is longer than the specified 1000\n"
          ]
        },
        {
          "output_type": "stream",
          "name": "stdout",
          "text": [
            "https://www.telstra.com.au/content/dam/tcom/small-business/support/pdf/TL00123-nbn-hfc-fttp-fw-guide.pdf\n"
          ]
        },
        {
          "output_type": "stream",
          "name": "stderr",
          "text": [
            "ERROR:langchain_community.document_loaders.url:Error fetching or processing https://www.telstra.com.au/content/dam/tcom/small-business/support/pdf/TL00123-nbn-hfc-fttp-fw-guide.pdf, exception: partition_pdf is not available. Install the pdf dependencies with pip install \"unstructured[pdf]\"\n"
          ]
        },
        {
          "output_type": "stream",
          "name": "stdout",
          "text": [
            "https://www.telstra.com.au/support/entertainment/get-started-with-the-foxtel-app#main-content\n",
            "https://www.telstra.com.au/support/internet-and-home-phone/set-up-telstra-satellite-internet-by-starlink#faq\n",
            "https://www.telstra.com.au/small-business/online-support/mobiles-devices/payment-for-upfront-mobile-and-data-plan\n",
            "https://www.telstra.com.au/support/mobiles-devices/upgrade-swap-or-trade-in-device?wcmmode=disabled#stayconnected-advanced\n",
            "https://www.telstra.com.au/small-business/online-support/business-software/raise-a-support-ticket\n",
            "https://www.telstra.com.au/small-business/online-support/internet/troubleshoot-telstra-modem\n",
            "https://www.telstra.com.au/support/account-payment/track-update-online-order#main-content\n"
          ]
        },
        {
          "output_type": "stream",
          "name": "stderr",
          "text": [
            "WARNING:langchain_text_splitters.base:Created a chunk of size 1104, which is longer than the specified 1000\n"
          ]
        },
        {
          "output_type": "stream",
          "name": "stdout",
          "text": [
            "https://www.telstra.com.au/small-business/online-support/mobiles-devices/cancel-mobile-plan#main-content\n",
            "https://www.telstra.com.au/business-enterprise/support/t-analyst/hierarchies#export-and-import-cost-centre-hierarchies\n",
            "https://www.telstra.com.au/small-business/online-support/business-software/call-out-fee#main-content\n",
            "https://www.telstra.com.au/support/mobiles-devices/switch-transfer-to-telstra\n"
          ]
        },
        {
          "output_type": "stream",
          "name": "stderr",
          "text": [
            "WARNING:langchain_text_splitters.base:Created a chunk of size 3208, which is longer than the specified 1000\n",
            "WARNING:langchain_text_splitters.base:Created a chunk of size 2315, which is longer than the specified 1000\n"
          ]
        },
        {
          "output_type": "stream",
          "name": "stdout",
          "text": [
            "https://www.telstra.com.au/aboutus/support-in-times-of-need/critical-illness-support\n",
            "https://www.telstra.com.au/support/pre-paid/issues-redeeming-recharge-voucher#main-content\n",
            "https://enterprise-support.telstra.com.au/business-enterprise/products/security/safeguard-your-clouds\n",
            "https://www.telstra.com.au/support/pre-paid/digital-voucher-recharge#main-content\n",
            "https://www.telstra.com.au/small-business/online-support/accounts-payments/authorise-access-to-an-account#main-content\n",
            "https://enterprise-support.telstra.com.au/business-enterprise/products/internet-of-things/capabilities\n",
            "https://www.telstra.com.au/business-enterprise/support/tipt#telstra-liberate\n",
            "https://www.telstra.com.au/support/internet-and-home-phone/smart-wi-fi-booster-support#compatibility\n",
            "https://www.telstra.com.au/small-business/online-support/business-software/manage-users-telstra-apps-marketplace#add\n",
            "https://www.telstra.com.au/support/entertainment/factory-reset-a-telstra-tv-device#main-content\n",
            "https://www.telstra.com.au/small-business/online-support/internet/telstra-4gx-usb-pro#main-content\n",
            "https://www.telstra.com.au/content/dam/tcom/personal/support/pdf/broadband/set-up-guide-for-hfc.pdf\n"
          ]
        },
        {
          "output_type": "stream",
          "name": "stderr",
          "text": [
            "ERROR:langchain_community.document_loaders.url:Error fetching or processing https://www.telstra.com.au/content/dam/tcom/personal/support/pdf/broadband/set-up-guide-for-hfc.pdf, exception: partition_pdf is not available. Install the pdf dependencies with pip install \"unstructured[pdf]\"\n"
          ]
        },
        {
          "output_type": "stream",
          "name": "stdout",
          "text": [
            "https://www.telstra.com.au/support/entertainment/disneyplus-support#data-usage\n",
            "https://www.telstra.com.au/support/mobiles-devices/upgrade-swap-or-trade-in-device?wcmmode=disabled#main-content\n",
            "https://www.telstra.com.au/small-business/online-support/accounts-payments/request-a-payment-extension\n",
            "https://www.telstra.com.au/small-business/online-support/business-software/mcafee-multi-access-licence\n",
            "https://www.telstra.com.au/small-business/online-support/accounts-payments/using-your-telstra-tools\n",
            "https://www.telstra.com.au/small-business/online-support/internet/professional-install-order\n",
            "https://www.telstra.com.au/support/internet-and-home-phone/change-or-unlist-number\n",
            "https://www.telstra.com.au/business-enterprise/support/tipt/tipt-how-to-videos#main-content\n",
            "https://www.telstra.com.au/support/email/block-domain#main-content\n",
            "https://www.telstra.com.au/small-business/online-support/mobiles-devices/make-calls-while-overseas\n",
            "https://www.telstra.com.au/support/internet-and-home-phone/change-wi-fi-name-and-password#main-content\n",
            "https://www.telstra.com.au/small-business/online-support/mobiles-devices/lost-smart-watch\n",
            "https://www.telstra.com.au/support/entertainment/fetch\n",
            "https://www.telstra.com.au/support/internet-and-home-phone/get-extra-phone-socket#main-content\n",
            "https://www.telstra.com.au/aboutus/support-in-times-of-need/critical-illness-support#whatNext\n",
            "https://www.telstra.com.au/support/account-payment/give-ownership-of-account-to-someone#overview\n",
            "https://www.telstra.com.au/small-business/online-support/business-software/update-company-info#main-content\n",
            "https://www.telstra.com.au/support/entertainment/xbox-all-access#service\n",
            "https://www.telstra.com.au/support/internet-and-home-phone/5g-home-support#aboutModem\n",
            "https://www.telstra.com.au/small-business/online-support/mobiles-devices/forward-calls-on-mobile#what-is-call-forwarding\n",
            "https://www.telstra.com.au/support/plan-update/ngwl-exit#faqs\n",
            "https://www.telstra.com.au/business-enterprise/support/business-sip#business\n",
            "https://www.telstra.com.au/content/dam/shared-component-assets/tecom/support/t-analyst/hierarchies/hierarchy-import-guide.pdf\n"
          ]
        },
        {
          "output_type": "stream",
          "name": "stderr",
          "text": [
            "ERROR:langchain_community.document_loaders.url:Error fetching or processing https://www.telstra.com.au/content/dam/shared-component-assets/tecom/support/t-analyst/hierarchies/hierarchy-import-guide.pdf, exception: partition_pdf is not available. Install the pdf dependencies with pip install \"unstructured[pdf]\"\n"
          ]
        },
        {
          "output_type": "stream",
          "name": "stdout",
          "text": [
            "https://www.telstra.com.au/small-business/online-support/business-software/manage-business-domain\n",
            "https://www.telstra.com.au/content/dam/shared-component-assets/tecom/uc&c/collaboration/tipt/support/telstra-vvx-500-501-phone-quick-reference-guide.pdf\n"
          ]
        },
        {
          "output_type": "stream",
          "name": "stderr",
          "text": [
            "ERROR:langchain_community.document_loaders.url:Error fetching or processing https://www.telstra.com.au/content/dam/shared-component-assets/tecom/uc&c/collaboration/tipt/support/telstra-vvx-500-501-phone-quick-reference-guide.pdf, exception: partition_pdf is not available. Install the pdf dependencies with pip install \"unstructured[pdf]\"\n"
          ]
        },
        {
          "output_type": "stream",
          "name": "stdout",
          "text": [
            "https://www.telstra.com.au/support/mobiles-devices/enable-volte-mobile-phone#faq\n"
          ]
        },
        {
          "output_type": "stream",
          "name": "stderr",
          "text": [
            "WARNING:langchain_text_splitters.base:Created a chunk of size 1249, which is longer than the specified 1000\n",
            "WARNING:langchain_text_splitters.base:Created a chunk of size 2930, which is longer than the specified 1000\n"
          ]
        },
        {
          "output_type": "stream",
          "name": "stdout",
          "text": [
            "https://www.telstra.com.au/small-business/online-support/accounts-payments/using-your-telstra-tools#help\n",
            "https://www.telstra.com.au/support/internet-and-home-phone/technician-service-appointment#cancelledAppointment\n",
            "https://www.telstra.com.au/support/entertainment/change-screen-resolution-on-telstra-tv\n",
            "https://www.telstra.com.au/small-business/online-support/accounts-payments/fees-on-payment-methods.\n",
            "https://www.telstra.com.au/support/account-payment/set-up-direct-debit#manage-failed-payments\n",
            "https://www.telstra.com.au/small-business/online-support/internet/self-install-business-smart-modem#lightbox-nbn-fttc-video\n",
            "https://www.telstra.com.au/small-business/online-support/mobiles-devices\n",
            "https://www.telstra.com.au/small-business/online-support/business-software/change-primary-email-address#main-content\n",
            "https://www.telstra.com.au/support/mobiles-devices/enable-volte-mobile-phone\n"
          ]
        },
        {
          "output_type": "stream",
          "name": "stderr",
          "text": [
            "WARNING:langchain_text_splitters.base:Created a chunk of size 1249, which is longer than the specified 1000\n",
            "WARNING:langchain_text_splitters.base:Created a chunk of size 2930, which is longer than the specified 1000\n"
          ]
        },
        {
          "output_type": "stream",
          "name": "stdout",
          "text": [
            "https://www.telstra.com.au/business-enterprise/support/t-analyst/setup-tools#hierarchies\n",
            "https://www.telstra.com.au/support/internet-and-home-phone/report-a-fault#stay-updated\n",
            "https://www.telstra.com.au/small-business/online-support/business-software/uninstall-check-point#main-content\n",
            "https://www.telstra.com.au/support/entertainment/xbox-game-pass-ultimate#s\n",
            "https://www.telstra.com.au/small-business/online-support/internet#main-content\n",
            "https://www.telstra.com.au/business-enterprise/support/business-connect#main-content\n",
            "https://www.telstra.com.au/business-enterprise/support/t-analyst/setup-tools#descriptions\n",
            "https://www.telstra.com.au/first-nations-australians/customer-support#main-content\n",
            "https://www.telstra.com.au/business-enterprise/support/fleet-complete\n",
            "https://www.telstra.com.au/support/internet-and-home-phone/caller-id-and-calling-number-display\n",
            "https://www.telstra.com.au/small-business/online-support/business-software/change-business-domain-provider#main-content\n",
            "https://www.telstra.com.au/support/mobiles-devices/mobile-phone-wifi-hotspot#main-content\n",
            "https://www.telstra.com.au/support/email/suspended-account#no-longer-telstra-customer\n",
            "https://www.telstra.com.au/content/dam/shared-component-assets/tecom/uc&c/collaboration/tipt/support/huawei-8950-quick-reference-guide.pdf\n"
          ]
        },
        {
          "output_type": "stream",
          "name": "stderr",
          "text": [
            "ERROR:langchain_community.document_loaders.url:Error fetching or processing https://www.telstra.com.au/content/dam/shared-component-assets/tecom/uc&c/collaboration/tipt/support/huawei-8950-quick-reference-guide.pdf, exception: partition_pdf is not available. Install the pdf dependencies with pip install \"unstructured[pdf]\"\n"
          ]
        },
        {
          "output_type": "stream",
          "name": "stdout",
          "text": [
            "https://www.telstra.com.au/support/pre-paid/activate-pre-paid-service\n",
            "https://www.telstra.com.au/support/mobiles-devices/telstra-wifi-calling#wifi-sms\n",
            "https://www.telstra.com.au/support/pre-paid/error-setting-up-auto-recharge#main-content\n",
            "https://www.telstra.com.au/support/internet-and-home-phone/set-up-call-forwarding-on-home-phone#main-content\n",
            "https://www.telstra.com.au/support/internet-and-home-phone/set-up-call-forwarding-on-home-phone\n",
            "https://www.telstra.com.au/support/mobiles-devices/messagebank-call-forwarding-ring-time\n",
            "https://www.telstra.com.au/support/mobiles-devices/device-security#troubleshooting\n"
          ]
        },
        {
          "output_type": "stream",
          "name": "stderr",
          "text": [
            "WARNING:langchain_text_splitters.base:Created a chunk of size 1916, which is longer than the specified 1000\n"
          ]
        },
        {
          "output_type": "stream",
          "name": "stdout",
          "text": [
            "https://www.telstra.com.au/support/mobiles-devices/messagebank-call-forwarding-ring-time#faqs\n",
            "https://www.telstra.com.au/support/email/compromised#blocked-account\n",
            "https://www.telstra.com.au/content/dam/shared-component-assets/tecom/uc&c/collaboration/tipt/support/Hoteling-TIPT-VVX-to-another-device.pdf\n"
          ]
        },
        {
          "output_type": "stream",
          "name": "stderr",
          "text": [
            "ERROR:langchain_community.document_loaders.url:Error fetching or processing https://www.telstra.com.au/content/dam/shared-component-assets/tecom/uc&c/collaboration/tipt/support/Hoteling-TIPT-VVX-to-another-device.pdf, exception: partition_pdf is not available. Install the pdf dependencies with pip install \"unstructured[pdf]\"\n"
          ]
        },
        {
          "output_type": "stream",
          "name": "stdout",
          "text": [
            "https://www.telstra.com.au/support/mobiles-devices/3g-closure-faq#prepare\n",
            "https://www.telstra.com.au/support/mobiles-devices/check-mobile-tablet-plan#main-content\n",
            "https://www.telstra.com.au/business-enterprise/support/secureedge#help-and-support\n",
            "https://www.telstra.com.au/support/email/spam#use-spam-filter\n",
            "https://www.telstra.com.au/small-business/online-support/accounts-payments/authorise-access-to-an-account#transfer-ownership\n",
            "https://www.telstra.com.au/support/mobiles-devices/dual-sim\n",
            "https://www.telstra.com.au/small-business/online-support/internet/self-install-business-smart-modem#videos\n",
            "https://www.telstra.com.au/support/plan-update/ngwl-exit#equipment-installation\n",
            "https://www.telstra.com.au/small-business/online-support/mobiles-devices/international-day-pass#unwanted-costs\n",
            "https://www.telstra.com.au/support/internet-and-home-phone/setup-telstra-smart-modem-for-adsl-hfc-cable#hfc-foxtel-outlet\n",
            "https://www.telstra.com.au/business-enterprise/support/t-analyst/reports#cost\n",
            "https://www.telstra.com.au/support/account-payment/pay-your-bill#main-content\n",
            "https://www.telstra.com.au/content/dam/shared-component-assets/tecom/uc&c/collaboration/tipt/support/TIPT%20Handsets%20Polycom%20Install%20Guide.pdf\n"
          ]
        },
        {
          "output_type": "stream",
          "name": "stderr",
          "text": [
            "ERROR:langchain_community.document_loaders.url:Error fetching or processing https://www.telstra.com.au/content/dam/shared-component-assets/tecom/uc&c/collaboration/tipt/support/TIPT%20Handsets%20Polycom%20Install%20Guide.pdf, exception: partition_pdf is not available. Install the pdf dependencies with pip install \"unstructured[pdf]\"\n"
          ]
        },
        {
          "output_type": "stream",
          "name": "stdout",
          "text": [
            "https://www.telstra.com.au/support/mobiles-devices/4g-smart-antenna-install\n",
            "https://www.telstra.com.au/small-business/online-support/accounts-payments/access-bereavement-support#main-content\n",
            "https://www.telstra.com.au/support/internet-and-home-phone/fix-home-phone-issues\n",
            "https://www.telstra.com.au/small-business/online-support/business-software/create-telstra-apps-marketplace-account#main-content\n",
            "https://www.telstra.com.au/business-enterprise/support/changing-an-apn-setting\n",
            "https://www.telstra.com.au/support/pre-paid/digital-voucher-recharge\n",
            "https://www.telstra.com.au/support/pre-paid/check-change-or-cancel-auto-recharge\n",
            "https://www.telstra.com.au/business-enterprise/support/adaptive-collaboration#main-content\n",
            "https://www.telstra.com.au/small-business/online-support/mobiles-devices#manage-data\n",
            "https://www.telstra.com.au/small-business/online-support/internet/test-internet-speed\n",
            "https://www.telstra.com.au/content/dam/shared-component-assets/tecom/uc&c/collaboration/tipt/support/TIPT%20Integration%20Guide_290321.pdf\n"
          ]
        },
        {
          "output_type": "stream",
          "name": "stderr",
          "text": [
            "ERROR:langchain_community.document_loaders.url:Error fetching or processing https://www.telstra.com.au/content/dam/shared-component-assets/tecom/uc&c/collaboration/tipt/support/TIPT%20Integration%20Guide_290321.pdf, exception: partition_pdf is not available. Install the pdf dependencies with pip install \"unstructured[pdf]\"\n"
          ]
        },
        {
          "output_type": "stream",
          "name": "stdout",
          "text": [
            "https://www.telstra.com.au/small-business/online-support/mobiles-devices/manage-call-barring#main-content\n",
            "https://www.telstra.com.au/support/email/troubleshoot#main-content\n",
            "https://www.telstra.com.au/support/email/spam#opt-out-of-marketing-updates\n",
            "https://www.telstra.com.au/small-business/online-support/mobiles-devices/mobility-accelerator#help\n",
            "https://www.telstra.com.au/business-enterprise/support/tipt/webex-for-tipt#webex-how-to-videos\n",
            "https://www.telstra.com.au/support/internet-and-home-phone/smart-wi-fi-booster-support\n",
            "https://www.telstra.com.au/small-business/online-support/accounts-payments/make-a-payment#bpay\n",
            "https://www.telstra.com.au/small-business/online-support/business-software/manage-my-bills#main-content\n",
            "https://www.telstra.com.au/support/account-payment/make-a-complaint\n",
            "https://www.telstra.com.au/support/mobiles-devices/3g-closure#lightbox-arabic\n",
            "https://www.telstra.com.au/small-business/online-support/mobiles-devices/shared-data-allowance\n",
            "https://www.telstra.com.au/small-business/online-support/accounts-payments/paper-bill-fees\n",
            "https://www.telstra.com.au/small-business/online-support#main-content\n",
            "https://www.telstra.com.au/business-enterprise/support/secureedge#main-content\n",
            "https://www.telstra.com.au/support/account-payment/give-ownership-of-account-to-someone#invitation\n",
            "https://www.telstra.com.au/business-enterprise/support/t-analyst/manage-your-invoices#main-content\n",
            "https://www.telstra.com.au/small-business/online-support/business-software#office365\n",
            "https://www.telstra.com.au/small-business/online-support/mobiles-devices/international-day-pass#inclusion\n",
            "https://www.telstra.com.au/small-business/online-support/business-software/add-another-check-point-license\n",
            "https://www.telstra.com.au/content/dam/tcom/personal/support/pdf/broadband/set-up-guide-for-fttc.pdf\n"
          ]
        },
        {
          "output_type": "stream",
          "name": "stderr",
          "text": [
            "ERROR:langchain_community.document_loaders.url:Error fetching or processing https://www.telstra.com.au/content/dam/tcom/personal/support/pdf/broadband/set-up-guide-for-fttc.pdf, exception: partition_pdf is not available. Install the pdf dependencies with pip install \"unstructured[pdf]\"\n"
          ]
        },
        {
          "output_type": "stream",
          "name": "stdout",
          "text": [
            "https://www.telstra.com.au/small-business/online-support/business-software/mcafee-endpoint-protection-essential\n",
            "https://enterprise-support.telstra.com.au/business-enterprise/products/unified-communications/customer-contact\n",
            "https://www.telstra.com.au/small-business/online-support/accounts-payments\n",
            "https://www.telstra.com.au/support/mobiles-devices/telstra-wifi-calling#troubleshoot\n",
            "https://www.telstra.com.au/business-enterprise/support/tipt#how-to-videos\n",
            "https://www.telstra.com.au/support/pre-paid/recharge-my-pre-paid-service#lightbox-rechargeMyAccount\n",
            "https://www.telstra.com.au/small-business/online-support/accounts-payments/late-payment-fee\n",
            "https://www.telstra.com.au/support/account-payment/transfer-or-close-an-account-in-the-event-of-a-death#main-content\n",
            "https://enterprise-support.telstra.com.au/business-enterprise/news-research/case-studies/how-coca-cola-europacific-partners-built-a-unified-contact-centre-of-the-future-with-telstra-and-genesys#main-content\n",
            "https://www.telstra.com.au/business-enterprise/support/changing-an-apn-setting#generic-smartphone\n",
            "https://www.telstra.com.au/business-enterprise/support/t-analyst/manage-your-invoices#compare-invoices\n",
            "https://www.telstra.com.au/support/entertainment/my-telstra-tv-is-freezing#main-content\n",
            "https://www.telstra.com.au/support/mobiles-devices/device-protect#cancellation-how\n",
            "https://www.telstra.com.au/support/pre-paid/100exit#lightbox-myTelstraExpress\n",
            "https://www.telstra.com.au/support/entertainment/xbox-game-pass-ultimate#t\n",
            "https://www.telstra.com.au/support/account-payment/get-more-time-to-pay#main-content\n",
            "https://www.telstra.com.au/business-enterprise/support/important-terms#introduction\n",
            "https://www.telstra.com.au/support/mobiles-devices/device-protect#main-content\n",
            "https://www.telstra.com.au/content/dam/tcom/personal/support/pdf/bereavement/tl02210_l4_q1-telstra-bereavement-policy_r2_lr.pdf\n"
          ]
        },
        {
          "output_type": "stream",
          "name": "stderr",
          "text": [
            "ERROR:langchain_community.document_loaders.url:Error fetching or processing https://www.telstra.com.au/content/dam/tcom/personal/support/pdf/bereavement/tl02210_l4_q1-telstra-bereavement-policy_r2_lr.pdf, exception: partition_pdf is not available. Install the pdf dependencies with pip install \"unstructured[pdf]\"\n"
          ]
        },
        {
          "output_type": "stream",
          "name": "stdout",
          "text": [
            "https://www.telstra.com.au/content/dam/tcom/personal/support/pdf/broadband/usb-4g-guide.pdf\n"
          ]
        },
        {
          "output_type": "stream",
          "name": "stderr",
          "text": [
            "ERROR:langchain_community.document_loaders.url:Error fetching or processing https://www.telstra.com.au/content/dam/tcom/personal/support/pdf/broadband/usb-4g-guide.pdf, exception: partition_pdf is not available. Install the pdf dependencies with pip install \"unstructured[pdf]\"\n"
          ]
        },
        {
          "output_type": "stream",
          "name": "stdout",
          "text": [
            "https://www.telstra.com.au/small-business/online-support/mobiles-devices/change-mobile-plan#main-content\n",
            "https://www.telstra.com.au/support/email/faq#set-up\n",
            "https://www.telstra.com.au/support/mobiles-devices/activate-a-service-on-esim\n",
            "https://www.telstra.com.au/support/pre-paid/fix-issue-with-pre-paid-service\n",
            "https://www.telstra.com.au/support/internet-and-home-phone/5g-home-support#main-content\n",
            "https://www.telstra.com.au/small-business/online-support/business-software/mcafee-multi-access-licence#main-content\n",
            "https://www.telstra.com.au/content/dam/shared-component-assets/tecom/uc&c/collaboration/tipt/support/telstra-vvx-300-301-phone-guide.pdf\n"
          ]
        },
        {
          "output_type": "stream",
          "name": "stderr",
          "text": [
            "ERROR:langchain_community.document_loaders.url:Error fetching or processing https://www.telstra.com.au/content/dam/shared-component-assets/tecom/uc&c/collaboration/tipt/support/telstra-vvx-300-301-phone-guide.pdf, exception: partition_pdf is not available. Install the pdf dependencies with pip install \"unstructured[pdf]\"\n"
          ]
        },
        {
          "output_type": "stream",
          "name": "stdout",
          "text": [
            "https://www.telstra.com.au/support/account-payment/id-check-for-new-account#main-content\n"
          ]
        },
        {
          "output_type": "stream",
          "name": "stderr",
          "text": [
            "WARNING:langchain_text_splitters.base:Created a chunk of size 1097, which is longer than the specified 1000\n",
            "WARNING:langchain_text_splitters.base:Created a chunk of size 1075, which is longer than the specified 1000\n"
          ]
        },
        {
          "output_type": "stream",
          "name": "stdout",
          "text": [
            "https://www.telstra.com.au/support/mobiles-devices/messagebank-call-forwarding-ring-time#messagebank-plus\n",
            "https://www.telstra.com.au/business-enterprise/support/liberate#help\n",
            "https://www.telstra.com.au/support/entertainment#main-content\n",
            "https://www.telstra.com.au/business-enterprise/support/t-analyst/hierarchies#adding-service-descriptions\n",
            "https://www.telstra.com.au/support/email/check-usage\n",
            "https://www.telstra.com.au/support/internet-and-home-phone/smart-wi-fi-booster-support#main-content\n",
            "https://www.telstra.com.au/support/mobiles-devices/device-security#set-up\n"
          ]
        },
        {
          "output_type": "stream",
          "name": "stderr",
          "text": [
            "WARNING:langchain_text_splitters.base:Created a chunk of size 1916, which is longer than the specified 1000\n"
          ]
        },
        {
          "output_type": "stream",
          "name": "stdout",
          "text": [
            "https://www.telstra.com.au/small-business/online-support/business-software/raise-a-support-ticket#main-content\n",
            "https://www.telstra.com.au/support/mobiles-devices/manage-esim#main-content\n",
            "https://www.telstra.com.au/aboutus/support-in-times-of-need/disaster-relief\n",
            "https://www.telstra.com.au/support/internet-and-home-phone/nbn-connection-types#main-content\n",
            "https://www.telstra.com.au/small-business/online-support/business-software/set-up-office-365-domain-name#main-content\n",
            "https://www.telstra.com.au/small-business/online-support/mobiles-devices/shared-data-allowance#main-content\n",
            "https://www.telstra.com.au/small-business/online-support/business-software/telstra-apps-marketplace-terms-conditions\n",
            "https://www.telstra.com.au/support/email\n",
            "https://www.telstra.com.au/business-enterprise/support/important-terms#cloud-services\n",
            "https://www.telstra.com.au/support/internet-and-home-phone/home-phone-connection-on-nbn-network#main-content\n",
            "https://www.telstra.com.au/business-enterprise/support/changing-an-apn-setting#netgear\n",
            "https://www.telstra.com.au/small-business/online-support/business-software/create-telstra-apps-marketplace-account\n",
            "https://www.telstra.com.au/small-business/online-support\n",
            "https://www.telstra.com.au/support/entertainment/disneyplus-support\n",
            "https://enterprise-support.telstra.com.au/business-enterprise/news-research/case-studies/how-connectivity-is-helping-anindilyakwa-land-council-reclaim-its-identity#main-content\n"
          ]
        }
      ]
    },
    {
      "cell_type": "markdown",
      "source": [
        "# Write Everything"
      ],
      "metadata": {
        "id": "2lqQwV48uRQb"
      }
    },
    {
      "cell_type": "code",
      "source": [
        "print(faiss_telstra_support_db)"
      ],
      "metadata": {
        "colab": {
          "base_uri": "https://localhost:8080/"
        },
        "id": "JQ9ADYyZxapM",
        "outputId": "fdb9fc92-2bd7-4526-ba11-e0352fc73b93"
      },
      "execution_count": null,
      "outputs": [
        {
          "output_type": "stream",
          "name": "stdout",
          "text": [
            "<langchain_community.vectorstores.faiss.FAISS object at 0x7ca7940fdf00>\n"
          ]
        }
      ]
    },
    {
      "cell_type": "code",
      "source": [
        "FAISS.save_local(faiss_telstra_support_db, fldr+db_name)"
      ],
      "metadata": {
        "id": "kwfXp1hzubRi"
      },
      "execution_count": null,
      "outputs": []
    },
    {
      "cell_type": "code",
      "source": [
        "with open(fldr+\"error_urls.pkl\", \"wb\") as f:\n",
        "  pickle.dump(error_url_lst, f)"
      ],
      "metadata": {
        "id": "qePoEdRiuP2I"
      },
      "execution_count": null,
      "outputs": []
    },
    {
      "cell_type": "markdown",
      "source": [
        "# Create Retriever"
      ],
      "metadata": {
        "id": "scyOQLDXp5FH"
      }
    },
    {
      "cell_type": "code",
      "source": [
        "if os.path.exists(fldr+db_name):\n",
        "  faiss_telstra_support_db = FAISS.load_local(fldr+db_name,embeddings=OpenAIEmbeddings(), allow_dangerous_deserialization=True)\n",
        "else:\n",
        "  faiss_telstra_support_db = None"
      ],
      "metadata": {
        "id": "13s1qL-0ywkc"
      },
      "execution_count": 46,
      "outputs": []
    },
    {
      "cell_type": "code",
      "source": [
        "primary_retriever = faiss_telstra_support_db.as_retriever( search_type=\"similarity_score_threshold\",\n",
        "                            search_kwargs={\"score_threshold\": 0.5,\"k\": 1}\n",
        ")"
      ],
      "metadata": {
        "id": "C_uIbSSdou2t"
      },
      "execution_count": 47,
      "outputs": []
    },
    {
      "cell_type": "code",
      "source": [
        "primary_retriever.invoke(\"modem not working\")"
      ],
      "metadata": {
        "colab": {
          "base_uri": "https://localhost:8080/"
        },
        "id": "yJEzN7o_o6hm",
        "outputId": "2e4bcee8-3acd-4bc2-bcfc-02aefd59517c"
      },
      "execution_count": 48,
      "outputs": [
        {
          "output_type": "execute_result",
          "data": {
            "text/plain": [
              "[Document(metadata={'source': 'https://www.telstra.com.au/support/internet-and-home-phone/check-smart-modem#main-content'}, page_content='When the modem boots up (usually 2-3 minutes) the mobile signal light on the top of the modem should light up which indicates the modem has successfully contacted the mobile network.\\n\\nStep 7: Not working? Contact us\\n\\nIf the mobile signal light does not light up or is red, contact us or message us through the My Telstra app.\\n\\nFrequently asked questions\\n\\nIf you have followed the step by step instructions above, and your mobile signal light is still off, please message us through the My Telstra app. One of our agents will help you.\\n\\nThere are currently three different generations of the Telstra Smart Modem. If you have any of these models (look on the back or base of your modem to find the model number), then you have a Telstra Smart Modem.\\n\\nThe Telstra Smart Modem 2.0 has ports arranged vertically down the back\\n\\nThe Telstra Smart Modem 1.1 and Telstra Frontier Gateway has ports arranged horizontally along the bottom edge on the back')]"
            ]
          },
          "metadata": {},
          "execution_count": 48
        }
      ]
    },
    {
      "cell_type": "markdown",
      "source": [
        "# Agents"
      ],
      "metadata": {
        "id": "NtcruXHdyyGV"
      }
    },
    {
      "cell_type": "code",
      "source": [
        "telsta_support_tool = create_retriever_tool(\n",
        "    primary_retriever,\n",
        "    \"telstra_support_search\",\n",
        "    \"Search for support from Telstra\"\n",
        ")"
      ],
      "metadata": {
        "id": "pxx8GB6jzzzg"
      },
      "execution_count": 49,
      "outputs": []
    },
    {
      "cell_type": "code",
      "source": [
        "tools = [telsta_support_tool ]"
      ],
      "metadata": {
        "id": "ER_w73amyxoW"
      },
      "execution_count": 50,
      "outputs": []
    },
    {
      "cell_type": "code",
      "source": [
        "# Get the prompt to use - you can modify this!\n",
        "prompt = hub.pull(prompt_template)\n",
        "prompt.messages"
      ],
      "metadata": {
        "colab": {
          "base_uri": "https://localhost:8080/"
        },
        "id": "d7PIWPJC0NJR",
        "outputId": "6e24f528-a3cb-4e7c-b5fd-7e7165f3a58e"
      },
      "execution_count": 51,
      "outputs": [
        {
          "output_type": "execute_result",
          "data": {
            "text/plain": [
              "[SystemMessagePromptTemplate(prompt=PromptTemplate(input_variables=[], template='You are a helpful assistant')),\n",
              " MessagesPlaceholder(variable_name='chat_history', optional=True),\n",
              " HumanMessagePromptTemplate(prompt=PromptTemplate(input_variables=['input'], template='{input}')),\n",
              " MessagesPlaceholder(variable_name='agent_scratchpad')]"
            ]
          },
          "metadata": {},
          "execution_count": 51
        }
      ]
    },
    {
      "cell_type": "code",
      "source": [
        "agent = create_tool_calling_agent(llm, tools, prompt)\n",
        "agent_executor = AgentExecutor(agent=agent, tools=tools, verbose=False)"
      ],
      "metadata": {
        "id": "1vkokBFU0aM1"
      },
      "execution_count": 52,
      "outputs": []
    },
    {
      "cell_type": "markdown",
      "source": [
        "# Chat History"
      ],
      "metadata": {
        "id": "e1fGxDmvYikB"
      }
    },
    {
      "cell_type": "code",
      "source": [
        "agent_with_chat_history = RunnableWithMessageHistory(\n",
        "    agent_executor,\n",
        "    # This is needed because in most real world scenarios, a session id is needed\n",
        "    # It isn't really used here because we are using a simple in memory ChatMessageHistory\n",
        "    lambda session_id: ChatMessageHistory(),\n",
        "    input_messages_key=\"input\",\n",
        "    history_messages_key=\"chat_history\",\n",
        ")"
      ],
      "metadata": {
        "id": "zDHFaiXZY3cH"
      },
      "execution_count": 53,
      "outputs": []
    },
    {
      "cell_type": "markdown",
      "source": [
        "# Execution"
      ],
      "metadata": {
        "id": "AuEFU6ZE0gBn"
      }
    },
    {
      "cell_type": "code",
      "source": [],
      "metadata": {
        "id": "Ohi1huMeK3ZI"
      },
      "execution_count": 25,
      "outputs": []
    },
    {
      "cell_type": "code",
      "source": [
        "input_qn  = \"Hi Bot, I need help with Telstra Stuff\"\n",
        "while input_qn != \"exit\":\n",
        "  # print(f\" Input qn is : {input_qn}\")\n",
        "  print(\"\")\n",
        "  response = generate_chat_response(input_qn, session_id)\n",
        "  print(textwrap.fill(response, 80))\n",
        "  print(\"\")\n",
        "  input_qn = input(\"Enter a message (to finish use exit): \")\n"
      ],
      "metadata": {
        "colab": {
          "base_uri": "https://localhost:8080/"
        },
        "id": "HNKA5gtN0KlG",
        "outputId": "7b422970-aa92-4960-9e15-4637e0975706"
      },
      "execution_count": 54,
      "outputs": [
        {
          "name": "stdout",
          "output_type": "stream",
          "text": [
            "\n",
            "You can reach Telstra support by messaging them or calling 13 20 00. They are\n",
            "available Monday to Friday from 8am to 7pm AEST. If you need further assistance,\n",
            "feel free to ask!\n",
            "\n",
            "Enter a message (to finish use exit): modem red light\n",
            "\n",
            "The red light on your modem could indicate a few different issues, depending on\n",
            "the type of modem you have. Here are some possibilities:  1. Telstra Smart Modem\n",
            "Gen 2:    - If the light at the front of the modem is red, it may indicate a\n",
            "connection issue with your normal home internet or the Telstra Mobile Network.\n",
            "2. Telstra Frontier Gateway & Telstra Smart Modem:    - If the \"online\" light on\n",
            "top of the modem is red, it may indicate a connection issue with your normal\n",
            "home internet or the Telstra Mobile Network.  To troubleshoot this issue\n",
            "further, it's important to check the specific model of your modem and refer to\n",
            "the user manual for troubleshooting steps. If you need further assistance,\n",
            "please let me know!\n",
            "\n",
            "Enter a message (to finish use exit): iphone email setup\n",
            "\n",
            "To set up your email on your iPhone, you can follow these steps:  1. Go to the\n",
            "Mobile Support Page on the Telstra website. 2. Search for your iPhone model and\n",
            "select \"Messaging and Email.\" 3. Select \"Set up your phone for Telstra Mail\" to\n",
            "find specific instructions for your device.  If your iPhone requires manual\n",
            "email setup, you can use the IMAP, POP, and SMTP mail server settings provided\n",
            "by Telstra.  If you need further assistance, feel free to ask!\n",
            "\n",
            "Enter a message (to finish use exit): modem white light\n",
            "\n",
            "The white light on your Telstra Smart Modem indicates that it is starting up or\n",
            "powering up. If the light remains white for an extended period, it may be in the\n",
            "process of connecting to the internet. You can also check the status of your\n",
            "modem by entering http://192.168.0.1 in your browser and signing in using the\n",
            "username \"admin\" and the default password \"Telstra\" for Telstra Smart Modem 1.1\n",
            "and Gen 2. For Telstra Smart Modem Gen 3, the password is on the fridge magnet\n",
            "or is the same as the Wi-Fi password found on the bottom of your modem.  If you\n",
            "have any further questions or need additional assistance, feel free to ask!\n",
            "\n",
            "Enter a message (to finish use exit): unable to connect\n",
            "\n",
            "It seems like the search results didn't provide the specific support information\n",
            "you were looking for. If you need assistance with connecting to a Telstra\n",
            "service, please provide more details about the issue you're experiencing, and I\n",
            "can help you find the right support.\n",
            "\n",
            "Enter a message (to finish use exit): cant pay bill\n",
            "\n",
            "It looks like there are flexible options available to help you with your bill\n",
            "payment. You may qualify for Telstra's Payment Assistance program, which offers\n",
            "short-term and long-term support to help you manage your payments. Additionally,\n",
            "if you are experiencing financial hardship, there are options to provide you\n",
            "with more time to pay for your services.  If you'd like to explore these options\n",
            "further or need assistance with your bill payment, please let me know, and I can\n",
            "help guide you through the process.\n",
            "\n",
            "Enter a message (to finish use exit): can i get a new modem\n",
            "\n",
            "It looks like you can get a new modem from Telstra. The model number is V7610,\n",
            "and it's called the \"Telstra Business Smart Modem.\" If you need further\n",
            "assistance, you can get in touch with Telstra.\n",
            "\n",
            "Enter a message (to finish use exit): how do i buy it outside\n",
            "\n",
            "To buy Telstra services outside, you can do the following:  1. Call 1300 369 666\n",
            "and use your debit or credit card account to pay (a processing fee applies for\n",
            "debit and credit card payments).  2. Pay in person by visiting a Telstra store\n",
            "or Australia Post store (a fee of $2.75 (inc. GST) also applies – some\n",
            "exemptions may apply).  If you need further assistance or prefer to get in touch\n",
            "in your preferred language, you can contact Telstra for multilingual support or\n",
            "book a store appointment with their in-store business experts.\n",
            "\n",
            "Enter a message (to finish use exit): what is my name\n",
            "\n",
            "I'm sorry, I can't help with that.\n",
            "\n",
            "Enter a message (to finish use exit): you forgot my name ?\n",
            "\n",
            "I apologize for that oversight. What is your name?\n",
            "\n",
            "Enter a message (to finish use exit): how dare you ?\n",
            "\n",
            "I apologize if I have done something to upset you. How can I assist you today?\n",
            "\n",
            "Enter a message (to finish use exit): exit\n"
          ]
        }
      ]
    },
    {
      "cell_type": "markdown",
      "source": [
        "# Testing"
      ],
      "metadata": {
        "id": "EMRv8Xalp8Ph"
      }
    },
    {
      "cell_type": "code",
      "source": [
        "string = 'The white light on your Telstra Smart Modem indicates that it is starting up or powering up. If the light remains white for an extended period, it may be in the process of connecting to the internet. You can also check the status of your modem by entering http://192.168.0.1 in your browser and signing in using the default credentials. If you need further assistance, please let me know!'\n",
        "# print(\"{string}:<40\")\n",
        "print(textwrap.fill(string, 80))\n"
      ],
      "metadata": {
        "colab": {
          "base_uri": "https://localhost:8080/"
        },
        "id": "Loj6TFLPLw5n",
        "outputId": "b9abdb9d-69c5-4b0c-8bb2-3359c104331b"
      },
      "execution_count": 29,
      "outputs": [
        {
          "output_type": "stream",
          "name": "stdout",
          "text": [
            "The white light on your Telstra Smart Modem indicates that it is starting up or\n",
            "powering up. If the light remains white for an extended period, it may be in the\n",
            "process of connecting to the internet. You can also check the status of your\n",
            "modem by entering http://192.168.0.1 in your browser and signing in using the\n",
            "default credentials. If you need further assistance, please let me know!\n"
          ]
        }
      ]
    },
    {
      "cell_type": "code",
      "source": [
        "from langchain_community.document_loaders import PlaywrightURLLoader\n",
        "\n",
        "urls = [\n",
        "    \"https://www.youtube.com/watch?v=dQw4w9WgXcQ\",\n",
        "    \"https://goo.gl/maps/NDSHwePEyaHMFGwh8\",\n",
        "]\n",
        "\n",
        "loader = PlaywrightURLLoader(urls=visited_urls, remove_selectors=[\"header\", \"footer\"])\n",
        "\n",
        "data = await loader.aload()\n"
      ],
      "metadata": {
        "colab": {
          "base_uri": "https://localhost:8080/",
          "height": 339
        },
        "id": "AwD72-X5Ber-",
        "outputId": "b8865ba9-2827-4a4a-bc13-30160e48d06f"
      },
      "execution_count": null,
      "outputs": [
        {
          "output_type": "stream",
          "name": "stderr",
          "text": [
            "ERROR:langchain_community.document_loaders.url_playwright:Error fetching or processing https://www.rmit.edu.au/staff, exception: Locator.all: Execution context was destroyed, most likely because of a navigation\n"
          ]
        },
        {
          "output_type": "error",
          "ename": "CancelledError",
          "evalue": "",
          "traceback": [
            "\u001b[0;31m---------------------------------------------------------------------------\u001b[0m",
            "\u001b[0;31mCancelledError\u001b[0m                            Traceback (most recent call last)",
            "\u001b[0;32m<ipython-input-16-db709e435e69>\u001b[0m in \u001b[0;36m<cell line: 10>\u001b[0;34m()\u001b[0m\n\u001b[1;32m      8\u001b[0m \u001b[0mloader\u001b[0m \u001b[0;34m=\u001b[0m \u001b[0mPlaywrightURLLoader\u001b[0m\u001b[0;34m(\u001b[0m\u001b[0murls\u001b[0m\u001b[0;34m=\u001b[0m\u001b[0mvisited_urls\u001b[0m\u001b[0;34m,\u001b[0m \u001b[0mremove_selectors\u001b[0m\u001b[0;34m=\u001b[0m\u001b[0;34m[\u001b[0m\u001b[0;34m\"header\"\u001b[0m\u001b[0;34m,\u001b[0m \u001b[0;34m\"footer\"\u001b[0m\u001b[0;34m]\u001b[0m\u001b[0;34m)\u001b[0m\u001b[0;34m\u001b[0m\u001b[0;34m\u001b[0m\u001b[0m\n\u001b[1;32m      9\u001b[0m \u001b[0;34m\u001b[0m\u001b[0m\n\u001b[0;32m---> 10\u001b[0;31m \u001b[0mdata\u001b[0m \u001b[0;34m=\u001b[0m \u001b[0;32mawait\u001b[0m \u001b[0mloader\u001b[0m\u001b[0;34m.\u001b[0m\u001b[0maload\u001b[0m\u001b[0;34m(\u001b[0m\u001b[0;34m)\u001b[0m\u001b[0;34m\u001b[0m\u001b[0;34m\u001b[0m\u001b[0m\n\u001b[0m",
            "\u001b[0;32m/usr/local/lib/python3.10/dist-packages/langchain_community/document_loaders/url_playwright.py\u001b[0m in \u001b[0;36maload\u001b[0;34m(self)\u001b[0m\n\u001b[1;32m    197\u001b[0m             \u001b[0mA\u001b[0m \u001b[0mlist\u001b[0m \u001b[0mof\u001b[0m \u001b[0mDocument\u001b[0m \u001b[0minstances\u001b[0m \u001b[0;32mwith\u001b[0m \u001b[0mloaded\u001b[0m \u001b[0mcontent\u001b[0m\u001b[0;34m.\u001b[0m\u001b[0;34m\u001b[0m\u001b[0;34m\u001b[0m\u001b[0m\n\u001b[1;32m    198\u001b[0m         \"\"\"\n\u001b[0;32m--> 199\u001b[0;31m         \u001b[0;32mreturn\u001b[0m \u001b[0;34m[\u001b[0m\u001b[0mdoc\u001b[0m \u001b[0;32masync\u001b[0m \u001b[0;32mfor\u001b[0m \u001b[0mdoc\u001b[0m \u001b[0;32min\u001b[0m \u001b[0mself\u001b[0m\u001b[0;34m.\u001b[0m\u001b[0malazy_load\u001b[0m\u001b[0;34m(\u001b[0m\u001b[0;34m)\u001b[0m\u001b[0;34m]\u001b[0m\u001b[0;34m\u001b[0m\u001b[0;34m\u001b[0m\u001b[0m\n\u001b[0m\u001b[1;32m    200\u001b[0m \u001b[0;34m\u001b[0m\u001b[0m\n\u001b[1;32m    201\u001b[0m     \u001b[0;32masync\u001b[0m \u001b[0;32mdef\u001b[0m \u001b[0malazy_load\u001b[0m\u001b[0;34m(\u001b[0m\u001b[0mself\u001b[0m\u001b[0;34m)\u001b[0m \u001b[0;34m->\u001b[0m \u001b[0mAsyncIterator\u001b[0m\u001b[0;34m[\u001b[0m\u001b[0mDocument\u001b[0m\u001b[0;34m]\u001b[0m\u001b[0;34m:\u001b[0m\u001b[0;34m\u001b[0m\u001b[0;34m\u001b[0m\u001b[0m\n",
            "\u001b[0;32m/usr/local/lib/python3.10/dist-packages/langchain_community/document_loaders/url_playwright.py\u001b[0m in \u001b[0;36m<listcomp>\u001b[0;34m(.0)\u001b[0m\n\u001b[1;32m    197\u001b[0m             \u001b[0mA\u001b[0m \u001b[0mlist\u001b[0m \u001b[0mof\u001b[0m \u001b[0mDocument\u001b[0m \u001b[0minstances\u001b[0m \u001b[0;32mwith\u001b[0m \u001b[0mloaded\u001b[0m \u001b[0mcontent\u001b[0m\u001b[0;34m.\u001b[0m\u001b[0;34m\u001b[0m\u001b[0;34m\u001b[0m\u001b[0m\n\u001b[1;32m    198\u001b[0m         \"\"\"\n\u001b[0;32m--> 199\u001b[0;31m         \u001b[0;32mreturn\u001b[0m \u001b[0;34m[\u001b[0m\u001b[0mdoc\u001b[0m \u001b[0;32masync\u001b[0m \u001b[0;32mfor\u001b[0m \u001b[0mdoc\u001b[0m \u001b[0;32min\u001b[0m \u001b[0mself\u001b[0m\u001b[0;34m.\u001b[0m\u001b[0malazy_load\u001b[0m\u001b[0;34m(\u001b[0m\u001b[0;34m)\u001b[0m\u001b[0;34m]\u001b[0m\u001b[0;34m\u001b[0m\u001b[0;34m\u001b[0m\u001b[0m\n\u001b[0m\u001b[1;32m    200\u001b[0m \u001b[0;34m\u001b[0m\u001b[0m\n\u001b[1;32m    201\u001b[0m     \u001b[0;32masync\u001b[0m \u001b[0;32mdef\u001b[0m \u001b[0malazy_load\u001b[0m\u001b[0;34m(\u001b[0m\u001b[0mself\u001b[0m\u001b[0;34m)\u001b[0m \u001b[0;34m->\u001b[0m \u001b[0mAsyncIterator\u001b[0m\u001b[0;34m[\u001b[0m\u001b[0mDocument\u001b[0m\u001b[0;34m]\u001b[0m\u001b[0;34m:\u001b[0m\u001b[0;34m\u001b[0m\u001b[0;34m\u001b[0m\u001b[0m\n",
            "\u001b[0;32m/usr/local/lib/python3.10/dist-packages/langchain_community/document_loaders/url_playwright.py\u001b[0m in \u001b[0;36malazy_load\u001b[0;34m(self)\u001b[0m\n\u001b[1;32m    213\u001b[0m                 \u001b[0;32mtry\u001b[0m\u001b[0;34m:\u001b[0m\u001b[0;34m\u001b[0m\u001b[0;34m\u001b[0m\u001b[0m\n\u001b[1;32m    214\u001b[0m                     \u001b[0mpage\u001b[0m \u001b[0;34m=\u001b[0m \u001b[0;32mawait\u001b[0m \u001b[0mbrowser\u001b[0m\u001b[0;34m.\u001b[0m\u001b[0mnew_page\u001b[0m\u001b[0;34m(\u001b[0m\u001b[0;34m)\u001b[0m\u001b[0;34m\u001b[0m\u001b[0;34m\u001b[0m\u001b[0m\n\u001b[0;32m--> 215\u001b[0;31m                     \u001b[0mresponse\u001b[0m \u001b[0;34m=\u001b[0m \u001b[0;32mawait\u001b[0m \u001b[0mpage\u001b[0m\u001b[0;34m.\u001b[0m\u001b[0mgoto\u001b[0m\u001b[0;34m(\u001b[0m\u001b[0murl\u001b[0m\u001b[0;34m)\u001b[0m\u001b[0;34m\u001b[0m\u001b[0;34m\u001b[0m\u001b[0m\n\u001b[0m\u001b[1;32m    216\u001b[0m                     \u001b[0;32mif\u001b[0m \u001b[0mresponse\u001b[0m \u001b[0;32mis\u001b[0m \u001b[0;32mNone\u001b[0m\u001b[0;34m:\u001b[0m\u001b[0;34m\u001b[0m\u001b[0;34m\u001b[0m\u001b[0m\n\u001b[1;32m    217\u001b[0m                         \u001b[0;32mraise\u001b[0m \u001b[0mValueError\u001b[0m\u001b[0;34m(\u001b[0m\u001b[0;34mf\"page.goto() returned None for url {url}\"\u001b[0m\u001b[0;34m)\u001b[0m\u001b[0;34m\u001b[0m\u001b[0;34m\u001b[0m\u001b[0m\n",
            "\u001b[0;32m/usr/local/lib/python3.10/dist-packages/playwright/async_api/_generated.py\u001b[0m in \u001b[0;36mgoto\u001b[0;34m(self, url, timeout, wait_until, referer)\u001b[0m\n\u001b[1;32m   8816\u001b[0m \u001b[0;34m\u001b[0m\u001b[0m\n\u001b[1;32m   8817\u001b[0m         return mapping.from_impl_nullable(\n\u001b[0;32m-> 8818\u001b[0;31m             await self._impl_obj.goto(\n\u001b[0m\u001b[1;32m   8819\u001b[0m                 \u001b[0murl\u001b[0m\u001b[0;34m=\u001b[0m\u001b[0murl\u001b[0m\u001b[0;34m,\u001b[0m \u001b[0mtimeout\u001b[0m\u001b[0;34m=\u001b[0m\u001b[0mtimeout\u001b[0m\u001b[0;34m,\u001b[0m \u001b[0mwaitUntil\u001b[0m\u001b[0;34m=\u001b[0m\u001b[0mwait_until\u001b[0m\u001b[0;34m,\u001b[0m \u001b[0mreferer\u001b[0m\u001b[0;34m=\u001b[0m\u001b[0mreferer\u001b[0m\u001b[0;34m\u001b[0m\u001b[0;34m\u001b[0m\u001b[0m\n\u001b[1;32m   8820\u001b[0m             )\n",
            "\u001b[0;32m/usr/local/lib/python3.10/dist-packages/playwright/_impl/_page.py\u001b[0m in \u001b[0;36mgoto\u001b[0;34m(self, url, timeout, waitUntil, referer)\u001b[0m\n\u001b[1;32m    522\u001b[0m         \u001b[0mreferer\u001b[0m\u001b[0;34m:\u001b[0m \u001b[0mstr\u001b[0m \u001b[0;34m=\u001b[0m \u001b[0;32mNone\u001b[0m\u001b[0;34m,\u001b[0m\u001b[0;34m\u001b[0m\u001b[0;34m\u001b[0m\u001b[0m\n\u001b[1;32m    523\u001b[0m     ) -> Optional[Response]:\n\u001b[0;32m--> 524\u001b[0;31m         \u001b[0;32mreturn\u001b[0m \u001b[0;32mawait\u001b[0m \u001b[0mself\u001b[0m\u001b[0;34m.\u001b[0m\u001b[0m_main_frame\u001b[0m\u001b[0;34m.\u001b[0m\u001b[0mgoto\u001b[0m\u001b[0;34m(\u001b[0m\u001b[0;34m**\u001b[0m\u001b[0mlocals_to_params\u001b[0m\u001b[0;34m(\u001b[0m\u001b[0mlocals\u001b[0m\u001b[0;34m(\u001b[0m\u001b[0;34m)\u001b[0m\u001b[0;34m)\u001b[0m\u001b[0;34m)\u001b[0m\u001b[0;34m\u001b[0m\u001b[0;34m\u001b[0m\u001b[0m\n\u001b[0m\u001b[1;32m    525\u001b[0m \u001b[0;34m\u001b[0m\u001b[0m\n\u001b[1;32m    526\u001b[0m     async def reload(\n",
            "\u001b[0;32m/usr/local/lib/python3.10/dist-packages/playwright/_impl/_frame.py\u001b[0m in \u001b[0;36mgoto\u001b[0;34m(self, url, timeout, waitUntil, referer)\u001b[0m\n\u001b[1;32m    143\u001b[0m             \u001b[0mOptional\u001b[0m\u001b[0;34m[\u001b[0m\u001b[0mResponse\u001b[0m\u001b[0;34m]\u001b[0m\u001b[0;34m,\u001b[0m\u001b[0;34m\u001b[0m\u001b[0;34m\u001b[0m\u001b[0m\n\u001b[1;32m    144\u001b[0m             from_nullable_channel(\n\u001b[0;32m--> 145\u001b[0;31m                 \u001b[0;32mawait\u001b[0m \u001b[0mself\u001b[0m\u001b[0;34m.\u001b[0m\u001b[0m_channel\u001b[0m\u001b[0;34m.\u001b[0m\u001b[0msend\u001b[0m\u001b[0;34m(\u001b[0m\u001b[0;34m\"goto\"\u001b[0m\u001b[0;34m,\u001b[0m \u001b[0mlocals_to_params\u001b[0m\u001b[0;34m(\u001b[0m\u001b[0mlocals\u001b[0m\u001b[0;34m(\u001b[0m\u001b[0;34m)\u001b[0m\u001b[0;34m)\u001b[0m\u001b[0;34m)\u001b[0m\u001b[0;34m\u001b[0m\u001b[0;34m\u001b[0m\u001b[0m\n\u001b[0m\u001b[1;32m    146\u001b[0m             ),\n\u001b[1;32m    147\u001b[0m         )\n",
            "\u001b[0;32m/usr/local/lib/python3.10/dist-packages/playwright/_impl/_connection.py\u001b[0m in \u001b[0;36msend\u001b[0;34m(self, method, params)\u001b[0m\n\u001b[1;32m     57\u001b[0m \u001b[0;34m\u001b[0m\u001b[0m\n\u001b[1;32m     58\u001b[0m     \u001b[0;32masync\u001b[0m \u001b[0;32mdef\u001b[0m \u001b[0msend\u001b[0m\u001b[0;34m(\u001b[0m\u001b[0mself\u001b[0m\u001b[0;34m,\u001b[0m \u001b[0mmethod\u001b[0m\u001b[0;34m:\u001b[0m \u001b[0mstr\u001b[0m\u001b[0;34m,\u001b[0m \u001b[0mparams\u001b[0m\u001b[0;34m:\u001b[0m \u001b[0mDict\u001b[0m \u001b[0;34m=\u001b[0m \u001b[0;32mNone\u001b[0m\u001b[0;34m)\u001b[0m \u001b[0;34m->\u001b[0m \u001b[0mAny\u001b[0m\u001b[0;34m:\u001b[0m\u001b[0;34m\u001b[0m\u001b[0;34m\u001b[0m\u001b[0m\n\u001b[0;32m---> 59\u001b[0;31m         return await self._connection.wrap_api_call(\n\u001b[0m\u001b[1;32m     60\u001b[0m             \u001b[0;32mlambda\u001b[0m\u001b[0;34m:\u001b[0m \u001b[0mself\u001b[0m\u001b[0;34m.\u001b[0m\u001b[0minner_send\u001b[0m\u001b[0;34m(\u001b[0m\u001b[0mmethod\u001b[0m\u001b[0;34m,\u001b[0m \u001b[0mparams\u001b[0m\u001b[0;34m,\u001b[0m \u001b[0;32mFalse\u001b[0m\u001b[0;34m)\u001b[0m\u001b[0;34m\u001b[0m\u001b[0;34m\u001b[0m\u001b[0m\n\u001b[1;32m     61\u001b[0m         )\n",
            "\u001b[0;32m/usr/local/lib/python3.10/dist-packages/playwright/_impl/_connection.py\u001b[0m in \u001b[0;36mwrap_api_call\u001b[0;34m(self, cb, is_internal)\u001b[0m\n\u001b[1;32m    510\u001b[0m         \u001b[0mself\u001b[0m\u001b[0;34m.\u001b[0m\u001b[0m_api_zone\u001b[0m\u001b[0;34m.\u001b[0m\u001b[0mset\u001b[0m\u001b[0;34m(\u001b[0m\u001b[0mparsed_st\u001b[0m\u001b[0;34m)\u001b[0m\u001b[0;34m\u001b[0m\u001b[0;34m\u001b[0m\u001b[0m\n\u001b[1;32m    511\u001b[0m         \u001b[0;32mtry\u001b[0m\u001b[0;34m:\u001b[0m\u001b[0;34m\u001b[0m\u001b[0;34m\u001b[0m\u001b[0m\n\u001b[0;32m--> 512\u001b[0;31m             \u001b[0;32mreturn\u001b[0m \u001b[0;32mawait\u001b[0m \u001b[0mcb\u001b[0m\u001b[0;34m(\u001b[0m\u001b[0;34m)\u001b[0m\u001b[0;34m\u001b[0m\u001b[0;34m\u001b[0m\u001b[0m\n\u001b[0m\u001b[1;32m    513\u001b[0m         \u001b[0;32mexcept\u001b[0m \u001b[0mException\u001b[0m \u001b[0;32mas\u001b[0m \u001b[0merror\u001b[0m\u001b[0;34m:\u001b[0m\u001b[0;34m\u001b[0m\u001b[0;34m\u001b[0m\u001b[0m\n\u001b[1;32m    514\u001b[0m             \u001b[0;32mraise\u001b[0m \u001b[0mrewrite_error\u001b[0m\u001b[0;34m(\u001b[0m\u001b[0merror\u001b[0m\u001b[0;34m,\u001b[0m \u001b[0;34mf\"{parsed_st['apiName']}: {error}\"\u001b[0m\u001b[0;34m)\u001b[0m \u001b[0;32mfrom\u001b[0m \u001b[0;32mNone\u001b[0m\u001b[0;34m\u001b[0m\u001b[0;34m\u001b[0m\u001b[0m\n",
            "\u001b[0;32m/usr/local/lib/python3.10/dist-packages/playwright/_impl/_connection.py\u001b[0m in \u001b[0;36minner_send\u001b[0;34m(self, method, params, return_as_dict)\u001b[0m\n\u001b[1;32m     86\u001b[0m             \u001b[0mself\u001b[0m\u001b[0;34m.\u001b[0m\u001b[0m_object\u001b[0m\u001b[0;34m,\u001b[0m \u001b[0mmethod\u001b[0m\u001b[0;34m,\u001b[0m \u001b[0m_filter_none\u001b[0m\u001b[0;34m(\u001b[0m\u001b[0mparams\u001b[0m\u001b[0;34m)\u001b[0m\u001b[0;34m\u001b[0m\u001b[0;34m\u001b[0m\u001b[0m\n\u001b[1;32m     87\u001b[0m         )\n\u001b[0;32m---> 88\u001b[0;31m         done, _ = await asyncio.wait(\n\u001b[0m\u001b[1;32m     89\u001b[0m             {\n\u001b[1;32m     90\u001b[0m                 \u001b[0mself\u001b[0m\u001b[0;34m.\u001b[0m\u001b[0m_connection\u001b[0m\u001b[0;34m.\u001b[0m\u001b[0m_transport\u001b[0m\u001b[0;34m.\u001b[0m\u001b[0mon_error_future\u001b[0m\u001b[0;34m,\u001b[0m\u001b[0;34m\u001b[0m\u001b[0;34m\u001b[0m\u001b[0m\n",
            "\u001b[0;32m/usr/lib/python3.10/asyncio/tasks.py\u001b[0m in \u001b[0;36mwait\u001b[0;34m(fs, timeout, return_when)\u001b[0m\n\u001b[1;32m    382\u001b[0m     \u001b[0mfs\u001b[0m \u001b[0;34m=\u001b[0m \u001b[0;34m{\u001b[0m\u001b[0mensure_future\u001b[0m\u001b[0;34m(\u001b[0m\u001b[0mf\u001b[0m\u001b[0;34m,\u001b[0m \u001b[0mloop\u001b[0m\u001b[0;34m=\u001b[0m\u001b[0mloop\u001b[0m\u001b[0;34m)\u001b[0m \u001b[0;32mfor\u001b[0m \u001b[0mf\u001b[0m \u001b[0;32min\u001b[0m \u001b[0mfs\u001b[0m\u001b[0;34m}\u001b[0m\u001b[0;34m\u001b[0m\u001b[0;34m\u001b[0m\u001b[0m\n\u001b[1;32m    383\u001b[0m \u001b[0;34m\u001b[0m\u001b[0m\n\u001b[0;32m--> 384\u001b[0;31m     \u001b[0;32mreturn\u001b[0m \u001b[0;32mawait\u001b[0m \u001b[0m_wait\u001b[0m\u001b[0;34m(\u001b[0m\u001b[0mfs\u001b[0m\u001b[0;34m,\u001b[0m \u001b[0mtimeout\u001b[0m\u001b[0;34m,\u001b[0m \u001b[0mreturn_when\u001b[0m\u001b[0;34m,\u001b[0m \u001b[0mloop\u001b[0m\u001b[0;34m)\u001b[0m\u001b[0;34m\u001b[0m\u001b[0;34m\u001b[0m\u001b[0m\n\u001b[0m\u001b[1;32m    385\u001b[0m \u001b[0;34m\u001b[0m\u001b[0m\n\u001b[1;32m    386\u001b[0m \u001b[0;34m\u001b[0m\u001b[0m\n",
            "\u001b[0;32m/usr/lib/python3.10/asyncio/tasks.py\u001b[0m in \u001b[0;36m_wait\u001b[0;34m(fs, timeout, return_when, loop)\u001b[0m\n\u001b[1;32m    489\u001b[0m \u001b[0;34m\u001b[0m\u001b[0m\n\u001b[1;32m    490\u001b[0m     \u001b[0;32mtry\u001b[0m\u001b[0;34m:\u001b[0m\u001b[0;34m\u001b[0m\u001b[0;34m\u001b[0m\u001b[0m\n\u001b[0;32m--> 491\u001b[0;31m         \u001b[0;32mawait\u001b[0m \u001b[0mwaiter\u001b[0m\u001b[0;34m\u001b[0m\u001b[0;34m\u001b[0m\u001b[0m\n\u001b[0m\u001b[1;32m    492\u001b[0m     \u001b[0;32mfinally\u001b[0m\u001b[0;34m:\u001b[0m\u001b[0;34m\u001b[0m\u001b[0;34m\u001b[0m\u001b[0m\n\u001b[1;32m    493\u001b[0m         \u001b[0;32mif\u001b[0m \u001b[0mtimeout_handle\u001b[0m \u001b[0;32mis\u001b[0m \u001b[0;32mnot\u001b[0m \u001b[0;32mNone\u001b[0m\u001b[0;34m:\u001b[0m\u001b[0;34m\u001b[0m\u001b[0;34m\u001b[0m\u001b[0m\n",
            "\u001b[0;31mCancelledError\u001b[0m: "
          ]
        }
      ]
    },
    {
      "cell_type": "code",
      "source": [
        "from langchain.vectorstores import FAISS\n",
        "from langchain.embeddings import OpenAIEmbeddings\n",
        "import requests\n",
        "\n",
        "# Initialize embeddings and FAISS vector store\n",
        "embeddings = OpenAIEmbeddings()\n",
        "faiss_store = FAISS(embedding_function=embeddings)\n",
        "\n",
        "# Function to fetch content from a URL and add it to the FAISS vector store\n",
        "def fetch_and_add_to_faiss(url, faiss_store):\n",
        "    try:\n",
        "        response = requests.get(url)\n",
        "        response.raise_for_status()\n",
        "        text = response.text\n",
        "        faiss_store.add_texts([text])\n",
        "        print(f\"Added content from {url} to FAISS store.\")\n",
        "    except requests.exceptions.RequestException as e:\n",
        "        print(f\"Error fetching data from {url}: {e}\")\n",
        "\n"
      ],
      "metadata": {
        "colab": {
          "base_uri": "https://localhost:8080/",
          "height": 211
        },
        "id": "2ouM3CqYC0vG",
        "outputId": "2ef0c430-8f11-477e-b6f5-c7388a67fbb5"
      },
      "execution_count": null,
      "outputs": [
        {
          "output_type": "error",
          "ename": "TypeError",
          "evalue": "FAISS.__init__() missing 3 required positional arguments: 'index', 'docstore', and 'index_to_docstore_id'",
          "traceback": [
            "\u001b[0;31m---------------------------------------------------------------------------\u001b[0m",
            "\u001b[0;31mTypeError\u001b[0m                                 Traceback (most recent call last)",
            "\u001b[0;32m<ipython-input-19-54b895043dac>\u001b[0m in \u001b[0;36m<cell line: 7>\u001b[0;34m()\u001b[0m\n\u001b[1;32m      5\u001b[0m \u001b[0;31m# Initialize embeddings and FAISS vector store\u001b[0m\u001b[0;34m\u001b[0m\u001b[0;34m\u001b[0m\u001b[0m\n\u001b[1;32m      6\u001b[0m \u001b[0membeddings\u001b[0m \u001b[0;34m=\u001b[0m \u001b[0mOpenAIEmbeddings\u001b[0m\u001b[0;34m(\u001b[0m\u001b[0;34m)\u001b[0m\u001b[0;34m\u001b[0m\u001b[0;34m\u001b[0m\u001b[0m\n\u001b[0;32m----> 7\u001b[0;31m \u001b[0mfaiss_store\u001b[0m \u001b[0;34m=\u001b[0m \u001b[0mFAISS\u001b[0m\u001b[0;34m(\u001b[0m\u001b[0membedding_function\u001b[0m\u001b[0;34m=\u001b[0m \u001b[0mOpenAIEmbeddings\u001b[0m\u001b[0;34m(\u001b[0m\u001b[0;34m)\u001b[0m\u001b[0;34m)\u001b[0m\u001b[0;34m\u001b[0m\u001b[0;34m\u001b[0m\u001b[0m\n\u001b[0m\u001b[1;32m      8\u001b[0m \u001b[0;34m\u001b[0m\u001b[0m\n\u001b[1;32m      9\u001b[0m \u001b[0;31m# Function to fetch content from a URL and add it to the FAISS vector store\u001b[0m\u001b[0;34m\u001b[0m\u001b[0;34m\u001b[0m\u001b[0m\n",
            "\u001b[0;31mTypeError\u001b[0m: FAISS.__init__() missing 3 required positional arguments: 'index', 'docstore', and 'index_to_docstore_id'"
          ]
        }
      ]
    },
    {
      "cell_type": "code",
      "source": [
        "# Process each URL and add to the FAISS store\n",
        "for url in visited_urls:\n",
        "    fetch_and_add_to_faiss(url, faiss_store)\n",
        "\n",
        "print(f\"FAISS vector store now contains {faiss_store.index.ntotal} vectors.\")\n",
        "\n",
        "# Save the FAISS vector store\n",
        "faiss_store.save(\"faiss_store.pkl\")\n"
      ],
      "metadata": {
        "id": "LLatznORDBGm"
      },
      "execution_count": null,
      "outputs": []
    },
    {
      "cell_type": "code",
      "source": [
        "with open(fldr+\"visited_urls.pkl\", \"wb\") as f:\n",
        "    pickle.dump(visited_urls, f)"
      ],
      "metadata": {
        "id": "lIDruWCwoMdJ"
      },
      "execution_count": null,
      "outputs": []
    },
    {
      "cell_type": "code",
      "source": [
        "\n",
        "with open(fldr+\"visited_urls.pkl\", \"rb\") as f:\n",
        "    visited_urls = pickle.load(f)"
      ],
      "metadata": {
        "id": "vmnVPwcJiiHQ"
      },
      "execution_count": null,
      "outputs": []
    },
    {
      "cell_type": "code",
      "source": [],
      "metadata": {
        "id": "QgUBhNXYZsb0"
      },
      "execution_count": null,
      "outputs": []
    }
  ]
}