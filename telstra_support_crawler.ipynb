{
  "nbformat": 4,
  "nbformat_minor": 0,
  "metadata": {
    "colab": {
      "provenance": [],
      "collapsed_sections": [
        "jP-K_H3Caozn",
        "xp9HTyGbatnA",
        "r83D1HmvbAp6",
        "PIocC45pa79X",
        "DWR-6GA0nXlZ",
        "gf54sQxhqBWr",
        "cLyTDzx3pqyO",
        "2lqQwV48uRQb",
        "joAia7eOEl9p"
      ],
      "mount_file_id": "1_KAdN-hZs4MrnDYHr38nhzQWEGdFLKkL",
      "authorship_tag": "ABX9TyPKJ5B0fxb3+rB9nlNqwjz4",
      "include_colab_link": true
    },
    "kernelspec": {
      "name": "python3",
      "display_name": "Python 3"
    },
    "language_info": {
      "name": "python"
    }
  },
  "cells": [
    {
      "cell_type": "markdown",
      "metadata": {
        "id": "view-in-github",
        "colab_type": "text"
      },
      "source": [
        "<a href=\"https://colab.research.google.com/github/sarunsmenon/llm/blob/main/telstra_support_crawler.ipynb\" target=\"_parent\"><img src=\"https://colab.research.google.com/assets/colab-badge.svg\" alt=\"Open In Colab\"/></a>"
      ]
    },
    {
      "cell_type": "markdown",
      "source": [
        "# Install Libraries"
      ],
      "metadata": {
        "id": "jP-K_H3Caozn"
      }
    },
    {
      "cell_type": "code",
      "source": [
        "!pip install -q python-dotenv openai langchain-openai cohere langchain langchain_community pypdf faiss-gpu wikipedia-api faiss-cpu wikipedia langchainhub unstructured playwright uuid7 langgraph gradio"
      ],
      "metadata": {
        "id": "6e7oK6EaO4kH",
        "colab": {
          "base_uri": "https://localhost:8080/"
        },
        "outputId": "04542159-32e2-4745-b73c-f4944a3fb8a6"
      },
      "execution_count": 41,
      "outputs": [
        {
          "output_type": "stream",
          "name": "stdout",
          "text": [
            "\u001b[2K   \u001b[90m━━━━━━━━━━━━━━━━━━━━━━━━━━━━━━━━━━━━━━━━\u001b[0m \u001b[32m12.6/12.6 MB\u001b[0m \u001b[31m52.2 MB/s\u001b[0m eta \u001b[36m0:00:00\u001b[0m\n",
            "\u001b[2K   \u001b[90m━━━━━━━━━━━━━━━━━━━━━━━━━━━━━━━━━━━━━━━━\u001b[0m \u001b[32m318.7/318.7 kB\u001b[0m \u001b[31m17.9 MB/s\u001b[0m eta \u001b[36m0:00:00\u001b[0m\n",
            "\u001b[2K   \u001b[90m━━━━━━━━━━━━━━━━━━━━━━━━━━━━━━━━━━━━━━━━\u001b[0m \u001b[32m10.2/10.2 MB\u001b[0m \u001b[31m64.0 MB/s\u001b[0m eta \u001b[36m0:00:00\u001b[0m\n",
            "\u001b[2K   \u001b[90m━━━━━━━━━━━━━━━━━━━━━━━━━━━━━━━━━━━━━━━━\u001b[0m \u001b[32m62.8/62.8 kB\u001b[0m \u001b[31m3.9 MB/s\u001b[0m eta \u001b[36m0:00:00\u001b[0m\n",
            "\u001b[2K   \u001b[90m━━━━━━━━━━━━━━━━━━━━━━━━━━━━━━━━━━━━━━━━\u001b[0m \u001b[32m93.2/93.2 kB\u001b[0m \u001b[31m6.6 MB/s\u001b[0m eta \u001b[36m0:00:00\u001b[0m\n",
            "\u001b[2K   \u001b[90m━━━━━━━━━━━━━━━━━━━━━━━━━━━━━━━━━━━━━━━━\u001b[0m \u001b[32m72.0/72.0 kB\u001b[0m \u001b[31m5.0 MB/s\u001b[0m eta \u001b[36m0:00:00\u001b[0m\n",
            "\u001b[2K   \u001b[90m━━━━━━━━━━━━━━━━━━━━━━━━━━━━━━━━━━━━━━━━\u001b[0m \u001b[32m130.2/130.2 kB\u001b[0m \u001b[31m9.1 MB/s\u001b[0m eta \u001b[36m0:00:00\u001b[0m\n",
            "\u001b[?25h"
          ]
        }
      ]
    },
    {
      "cell_type": "markdown",
      "source": [
        "# Load Libraries"
      ],
      "metadata": {
        "id": "xp9HTyGbatnA"
      }
    },
    {
      "cell_type": "code",
      "source": [
        "import requests\n",
        "from bs4 import BeautifulSoup\n",
        "from urllib.parse import urljoin\n",
        "import textwrap"
      ],
      "metadata": {
        "id": "1dNPjEP2asgj"
      },
      "execution_count": 2,
      "outputs": []
    },
    {
      "cell_type": "code",
      "source": [
        "from langchain_core.pydantic_v1 import BaseModel, Field\n",
        "from typing import List\n",
        "from langchain_core.messages import BaseMessage, AIMessage"
      ],
      "metadata": {
        "id": "ImsFezUDVkvx"
      },
      "execution_count": 3,
      "outputs": []
    },
    {
      "cell_type": "code",
      "source": [
        "import os\n",
        "from langchain_openai import ChatOpenAI\n",
        "from dotenv import load_dotenv, find_dotenv\n",
        "from google.colab import userdata\n",
        "import pickle\n",
        "\n",
        "from langchain_core.prompts import ChatPromptTemplate\n",
        "from langchain_core.output_parsers import JsonOutputParser\n",
        "from langchain_core.pydantic_v1 import BaseModel, Field"
      ],
      "metadata": {
        "id": "lUtbBrLhaxy8"
      },
      "execution_count": 4,
      "outputs": []
    },
    {
      "cell_type": "code",
      "source": [
        "from langchain_community.vectorstores import FAISS\n",
        "from langchain_openai import OpenAIEmbeddings\n",
        "from langchain_community.document_loaders import PyPDFLoader, WikipediaLoader\n",
        "from langchain.text_splitter import CharacterTextSplitter\n",
        "from langchain.tools.retriever import create_retriever_tool\n",
        "\n",
        "from langchain_community.document_loaders import UnstructuredURLLoader\n",
        "from langchain.agents import create_tool_calling_agent\n",
        "from langchain.agents import AgentExecutor\n",
        "\n",
        "from langchain import hub\n",
        "from langchain_core.messages import AIMessage, HumanMessage\n",
        "from langchain_community.chat_message_histories import ChatMessageHistory\n",
        "from langchain_core.runnables.history import RunnableWithMessageHistory\n",
        "from langchain_core.chat_history import BaseChatMessageHistory\n",
        "\n",
        "from uuid_extensions import uuid7str\n",
        "from langchain_core.pydantic_v1 import BaseModel, Field\n",
        "import traceback\n"
      ],
      "metadata": {
        "id": "GxR_M_A3a3p0"
      },
      "execution_count": 5,
      "outputs": []
    },
    {
      "cell_type": "code",
      "source": [
        "from langchain.prompts import (\n",
        "    PromptTemplate,\n",
        "    SystemMessagePromptTemplate,\n",
        "    HumanMessagePromptTemplate,\n",
        "    MessagesPlaceholder\n",
        ")\n",
        "\n",
        "from langchain.chains import ConversationChain\n",
        "from langchain.memory import ConversationBufferMemory\n",
        "from langchain.agents import initialize_agent, AgentType"
      ],
      "metadata": {
        "id": "r8Pa5QCBBP5m"
      },
      "execution_count": 6,
      "outputs": []
    },
    {
      "cell_type": "code",
      "source": [
        "from langchain.chains import RetrievalQAWithSourcesChain"
      ],
      "metadata": {
        "id": "qgym4f2NtuFC"
      },
      "execution_count": 7,
      "outputs": []
    },
    {
      "cell_type": "code",
      "source": [
        "import gradio as gr"
      ],
      "metadata": {
        "id": "ZrdWHgdzWC0p"
      },
      "execution_count": 42,
      "outputs": []
    },
    {
      "cell_type": "markdown",
      "source": [
        "# Load Variables"
      ],
      "metadata": {
        "id": "r83D1HmvbAp6"
      }
    },
    {
      "cell_type": "code",
      "source": [
        "os.environ['OPENAI_API_KEY'] = userdata.get('open_ai_key')\n",
        "prompt_template = \"hwchase17/openai-functions-agent\"\n",
        "\n",
        "os.environ['LANGCHAIN_TRACING_V2']=\"true\"\n",
        "os.environ['LANGCHAIN_API_KEY']=userdata.get('langsmith_api_key')\n",
        "\n",
        "session_id = uuid7str()"
      ],
      "metadata": {
        "id": "_mZViSdybAV9"
      },
      "execution_count": 9,
      "outputs": []
    },
    {
      "cell_type": "code",
      "source": [
        "llm_model = 'gpt-3.5-turbo-1106'\n",
        "llm = ChatOpenAI(model=llm_model, temperature=0)"
      ],
      "metadata": {
        "id": "8F-E3lTLC4Ng"
      },
      "execution_count": 10,
      "outputs": []
    },
    {
      "cell_type": "code",
      "source": [
        "# Start crawling from the initial URL\n",
        "start_url = 'https://www.telstra.com.au/support'\n",
        "ignore_lst = []\n",
        "include_lst = ['support' ,'telstra']\n",
        "max_pg_lmt = 5000\n",
        "db_name = \"faiss_telstra_support_db\"\n",
        "fldr = '/content/drive/MyDrive/Colab Notebooks/Langchain/telstra_support/'"
      ],
      "metadata": {
        "id": "Hv23mRdPa7M0"
      },
      "execution_count": 11,
      "outputs": []
    },
    {
      "cell_type": "code",
      "source": [
        "hist_store= {}"
      ],
      "metadata": {
        "id": "HQAUQvOZmys9"
      },
      "execution_count": 12,
      "outputs": []
    },
    {
      "cell_type": "code",
      "source": [
        "if not os.path.exists(fldr):\n",
        "    # If the folder does not exist, create it\n",
        "    os.makedirs(fldr)\n",
        "    print(f'Folder created at: {fldr}')\n",
        "else:\n",
        "    print(f'Folder already exists at: {fldr}')"
      ],
      "metadata": {
        "colab": {
          "base_uri": "https://localhost:8080/"
        },
        "id": "MgOFEjs5F0dK",
        "outputId": "8630ff5f-a88f-4a07-e4f5-fb23b4b795ad"
      },
      "execution_count": 13,
      "outputs": [
        {
          "output_type": "stream",
          "name": "stdout",
          "text": [
            "Folder already exists at: /content/drive/MyDrive/Colab Notebooks/Langchain/telstra_support/\n"
          ]
        }
      ]
    },
    {
      "cell_type": "markdown",
      "source": [
        "# Load Functions"
      ],
      "metadata": {
        "id": "PIocC45pa79X"
      }
    },
    {
      "cell_type": "code",
      "source": [
        "def load_history():\n",
        "  with open(fldr+\"history.pkl\", \"rb\") as f:\n",
        "    hist_store = pickle.load(f)\n",
        "  if hist_store is None:\n",
        "    hist_store = {}\n",
        "  print(hist_store)\n",
        "  return hist_store"
      ],
      "metadata": {
        "id": "5-DJkg4fm885"
      },
      "execution_count": 14,
      "outputs": []
    },
    {
      "cell_type": "code",
      "source": [
        "def store_history():\n",
        "  with open(fldr+\"history.pkl\", \"wb\") as f:\n",
        "    pickle.dump(hist_store, f)"
      ],
      "metadata": {
        "id": "-RDrLNXImriL"
      },
      "execution_count": 15,
      "outputs": []
    },
    {
      "cell_type": "code",
      "execution_count": 16,
      "metadata": {
        "id": "g7WX5QgKN26v",
        "collapsed": true
      },
      "outputs": [],
      "source": [
        "# Function to get all links from a page\n",
        "def get_all_links(url):\n",
        "    response = requests.get(url)\n",
        "    soup = BeautifulSoup(response.content, 'html.parser')\n",
        "    links = [a.get('href') for a in soup.find_all('a', href=True)]\n",
        "    full_links = [urljoin(url, link) for link in links]\n",
        "    return full_links"
      ]
    },
    {
      "cell_type": "code",
      "source": [
        "# Function to crawl the website\n",
        "def crawl_website(start_url, max_pages=max_pg_lmt):\n",
        "    itr = 0\n",
        "\n",
        "    visited = set()\n",
        "    to_visit = [start_url]\n",
        "\n",
        "    while to_visit and len(visited) < max_pages:\n",
        "      url = to_visit.pop(0)\n",
        "\n",
        "      if (\n",
        "          (url not in visited) and\n",
        "          (\"telstra.com.au\" in url) and\n",
        "          (\"support\" in url) and\n",
        "          (\"mobilesupport.telstra.com.au\" not in url)\n",
        "        ):\n",
        "        visited.add(url)\n",
        "        try:\n",
        "          links = get_all_links(url)\n",
        "          to_visit.extend(links)\n",
        "        except:\n",
        "          continue\n",
        "\n",
        "        itr += 1\n",
        "        if itr % 10 == 0:\n",
        "          print(f\"Visited {len(visited)}: {url}\")\n",
        "\n",
        "    return visited"
      ],
      "metadata": {
        "id": "pIyPhSvzvWJD"
      },
      "execution_count": 17,
      "outputs": []
    },
    {
      "cell_type": "code",
      "source": [
        "def extract_process_url(url):\n",
        "  loader = UnstructuredURLLoader(urls=[url])\n",
        "  data = loader.load()\n",
        "\n",
        "  text_splitter = CharacterTextSplitter(\n",
        "                chunk_size=1000,\n",
        "                chunk_overlap=5,\n",
        "                separator= \"\\n\\n\",\n",
        "                length_function=len,\n",
        "                is_separator_regex=False\n",
        "              )\n",
        "\n",
        "  docs = text_splitter.split_documents(data)\n",
        "  return docs\n"
      ],
      "metadata": {
        "id": "wpogUfZkvXML"
      },
      "execution_count": 18,
      "outputs": []
    },
    {
      "cell_type": "code",
      "source": [
        "def store_doc_into_db(docs, faiss_rmit_db):\n",
        "  if faiss_rmit_db is None:\n",
        "    faiss_rmit_db = FAISS.from_documents(docs, OpenAIEmbeddings())\n",
        "  else:\n",
        "    faiss_rmit_db.add_documents(docs)\n",
        "\n",
        "  return faiss_rmit_db\n"
      ],
      "metadata": {
        "id": "XpIGN7Advo3i"
      },
      "execution_count": 19,
      "outputs": []
    },
    {
      "cell_type": "code",
      "source": [
        "def generate_chat_response(message, local_session_id):\n",
        "  result = agent_with_chat_history.invoke({\"input\": message}, config={\"configurable\": {\"session_id\": local_session_id}})\n",
        "  print(result)\n",
        "  return result['output']"
      ],
      "metadata": {
        "id": "_qznuQJh3cZu"
      },
      "execution_count": 55,
      "outputs": []
    },
    {
      "cell_type": "code",
      "source": [
        "def get_by_session_id(session_id: str) -> BaseChatMessageHistory:\n",
        "    if session_id not in hist_store:\n",
        "        hist_store[session_id] = InMemoryHistory()\n",
        "    return hist_store[session_id]"
      ],
      "metadata": {
        "id": "CpJo4yLNkcBV"
      },
      "execution_count": 21,
      "outputs": []
    },
    {
      "cell_type": "code",
      "source": [
        "def get_user_and_retrieve_history():\n",
        "  # user_name = input(\"Enter your username : \")\n",
        "  history = get_by_session_id(user_name)\n",
        "  return history\n",
        "\n",
        "def get_user():\n",
        "  user_name = input(\"Enter your username : \")\n",
        "  return user_name"
      ],
      "metadata": {
        "id": "w-goNguvkekW"
      },
      "execution_count": 22,
      "outputs": []
    },
    {
      "cell_type": "code",
      "source": [
        "class InMemoryHistory(BaseChatMessageHistory, BaseModel):\n",
        "    \"\"\"In memory implementation of chat message history.\"\"\"\n",
        "\n",
        "    messages: List[BaseMessage] = Field(default_factory=list)\n",
        "\n",
        "    def add_messages(self, messages: List[BaseMessage]) -> None:\n",
        "        \"\"\"Add a list of messages to the store\"\"\"\n",
        "        self.messages.extend(messages)\n",
        "\n",
        "    def clear(self) -> None:\n",
        "        self.messages = []"
      ],
      "metadata": {
        "id": "7abUSthzmdRy"
      },
      "execution_count": 23,
      "outputs": []
    },
    {
      "cell_type": "markdown",
      "source": [
        "# Load History"
      ],
      "metadata": {
        "id": "DWR-6GA0nXlZ"
      }
    },
    {
      "cell_type": "code",
      "source": [
        "if os.path.exists(fldr+\"history.pkl\"):\n",
        "  hist_store = load_history()\n",
        "  print(f'Folder already exists at: {fldr}')"
      ],
      "metadata": {
        "id": "w-c9AzBlnZxi",
        "colab": {
          "base_uri": "https://localhost:8080/"
        },
        "outputId": "55708b50-661d-4aa9-dd1e-f7bd53ee9eb8"
      },
      "execution_count": 24,
      "outputs": [
        {
          "output_type": "stream",
          "name": "stdout",
          "text": [
            "{'sam': InMemoryHistory(messages=[])}\n",
            "Folder already exists at: /content/drive/MyDrive/Colab Notebooks/Langchain/telstra_support/\n"
          ]
        }
      ]
    },
    {
      "cell_type": "code",
      "source": [
        "hist_store"
      ],
      "metadata": {
        "colab": {
          "base_uri": "https://localhost:8080/"
        },
        "id": "ijqak8WoaZ5i",
        "outputId": "f5c8c515-2364-4507-f81d-93170da20d15"
      },
      "execution_count": 58,
      "outputs": [
        {
          "output_type": "execute_result",
          "data": {
            "text/plain": [
              "{'sam': InMemoryHistory(messages=[HumanMessage(content='How to pay bill?'), AIMessage(content=\"To pay your Telstra bill, you can do the following:\\n\\n1. Sign in to My Telstra to pay your bills online. This allows for easy bill payment while you are on the go.\\n\\n2. Set up direct debit to avoid late fees for missed payments. Automatic payments take the stress out of remembering to pay your bill, so you can set it and forget it.\\n\\n3. Pay using BPAY:\\n   - If you already have BPAY, sign in to your online banking, choose the BPAY payment option, and enter the Telstra BPAY biller code (7773), BPAY reference number (your account number at the bottom of your bill), and the amount you want to pay.\\n   - If you'd like to set up BPAY, sign in to your financial institution's website, search for BPAY, and follow the prompts. Alternatively, you can contact your financial institution directly.\\n\\n4. Pay over the phone.\\n\\nFor more details, you can visit the Telstra website or contact Telstra customer support.\\n\\n[Source](https://www.telstra.com.au/support/category/account-billing/manage-your-account/how-to-pay-your-bill)\"), HumanMessage(content='How to pay bill?'), AIMessage(content=\"To pay your Telstra bill, you have several options available:\\n\\n1. If you receive a monthly bill, the payment options available will be listed on your bill. You can choose from the available options to make your payment.\\n\\n2. You can set up AutoPay, which allows for automatic payments to be debited from your chosen account. With AutoPay, you'll receive a reminder three days before the payment is processed, and you can access a digital receipt via My Telstra.\\n\\n3. Using My Telstra, you can easily manage your AutoPay payment method, see upcoming charges, and download past payment receipts.\\n\\nIf you've received a payment failure notification, you can make a manual one-off payment through My Telstra > Payments or by using one of the other payment options available.\\n\\nFor more information, you can visit the Telstra website or contact Telstra customer support.\\n\\n[Source](https://www.telstra.com.au/support/category/account-billing/manage-your-account/how-to-pay-your-bill)\"), HumanMessage(content='How to pay bill?'), AIMessage(content=\"To pay your Telstra bill, you can do the following:\\n\\n1. Sign in to My Telstra to pay your bills online. This allows for easy bill payment while you are on the go.\\n\\n2. Set up direct debit to avoid late fees for missed payments. Automatic payments take the stress out of remembering to pay your bill, so you can set it and forget it.\\n\\n3. Pay using BPAY:\\n   - If you already have BPAY, sign in to your online banking, choose the BPAY payment option, and enter the Telstra BPAY biller code (7773), BPAY reference number (your account number at the bottom of your bill), and the amount you want to pay.\\n   - If you'd like to set up BPAY, sign in to your financial institution's website, search for BPAY, and follow the prompts. Alternatively, you can contact your financial institution directly.\\n\\n4. Pay over the phone.\\n\\nFor more details, you can visit the Telstra website or contact Telstra customer support.\\n\\n[Source](https://www.telstra.com.au/support/category/account-billing/manage-your-account/how-to-pay-your-bill)\"), HumanMessage(content='How to pay bill?'), AIMessage(content=\"To pay your Telstra bill, you can do the following:\\n\\n1. Sign in to My Telstra to pay your bills online. This allows for easy bill payment while you are on the go.\\n\\n2. Set up direct debit to avoid late fees for missed payments. Automatic payments take the stress out of remembering to pay your bill, so you can set it and forget it.\\n\\n3. Pay using BPAY:\\n   - If you already have BPAY, sign in to your online banking, choose the BPAY payment option, and enter the Telstra BPAY biller code (7773), BPAY reference number (your account number at the bottom of your bill), and the amount you want to pay.\\n   - If you'd like to set up BPAY, sign in to your financial institution's website, search for BPAY, and follow the prompts. Alternatively, you can contact your financial institution directly.\\n\\n4. Pay over the phone.\\n\\nFor more details, you can visit the Telstra website or contact Telstra customer support.\\n\\n[Source](https://www.telstra.com.au/support/category/account-billing/manage-your-account/how-to-pay-your-bill)\"), HumanMessage(content='3G exit'), AIMessage(content=\"The 3G network is scheduled to be phased out, and this will affect home and business phone services. To ensure that your home or business phone continues to work after the 3G network is phased out, you will need to transition to Telstra's 4G Fixed Wireless (4GFW) network before the 3G closure, which is set to occur on 31 August 2024. It's important to note that when you move to the 4G network, your new plan will have different inclusions and exclusions.\\n\\nThis transition is necessary as the 3G network is coming to an end, and it's important to make the required changes to ensure that your phone service continues to function.\\n\\nFor more information and assistance with this transition, you can contact Telstra customer support.\\n\\n[Source](https://www.telstra.com.au/coverage-networks/network-technology/3g)\"), HumanMessage(content='does pixel 4 xl support volte'), AIMessage(content=\"Yes, the Pixel 4 XL supports VoLTE (Voice over LTE). To enable VoLTE on your Pixel 4 XL, ensure that your device is running the version SQ3A.220605.001 or later. Once you have the required software version, you can enable VoLTE through the device settings.\\n\\nFor more information on how to enable VoLTE on your Pixel 4 XL, you can refer to the device's user manual or contact Pixel support.\\n\\n[Source](https://www.telstra.com.au/support/category/mobiles-tablets/user-guides-help/activate-volte)\")])}"
            ]
          },
          "metadata": {},
          "execution_count": 58
        }
      ]
    },
    {
      "cell_type": "markdown",
      "source": [
        "# Create URL Lists"
      ],
      "metadata": {
        "id": "gf54sQxhqBWr"
      }
    },
    {
      "cell_type": "code",
      "source": [
        "visited_urls = crawl_website(start_url)\n",
        "print(f\"Total visited URLs: {len(visited_urls)}\")"
      ],
      "metadata": {
        "id": "HOvWuTNiN_af",
        "colab": {
          "base_uri": "https://localhost:8080/"
        },
        "outputId": "5bf8cc29-fdc1-48bf-ac50-2532ed9ff489"
      },
      "execution_count": null,
      "outputs": [
        {
          "output_type": "stream",
          "name": "stdout",
          "text": [
            "Visited 16: https://www.telstra.com.au/small-business/online-support/business-software\n",
            "Visited 26: https://www.telstra.com.au/support/account-payment/remove-service-restriction\n",
            "Visited 37: https://www.telstra.com.au/support/account-payment/make-a-complaint\n",
            "Visited 51: https://www.telstra.com.au/support/internet-and-home-phone/home-internet-order-next-steps\n"
          ]
        }
      ]
    },
    {
      "cell_type": "code",
      "source": [
        "with open(fldr+\"url_list.pkl\", \"wb\") as f:\n",
        "    pickle.dump(visited_urls, f)"
      ],
      "metadata": {
        "id": "0xc8prpvq6ul"
      },
      "execution_count": null,
      "outputs": []
    },
    {
      "cell_type": "code",
      "source": [
        "with open(fldr+\"url_list.pkl\", \"rb\") as f:\n",
        "    visited_urls = list(pickle.load(f))\n",
        "\n",
        "error_url_lst = []"
      ],
      "metadata": {
        "id": "u1VRXmTKrANa"
      },
      "execution_count": null,
      "outputs": []
    },
    {
      "cell_type": "code",
      "source": [
        "print(f\"Total visited URLs: {len(visited_urls)}\")"
      ],
      "metadata": {
        "id": "RWd52bT8rTgq"
      },
      "execution_count": null,
      "outputs": []
    },
    {
      "cell_type": "markdown",
      "source": [
        "# Create Database"
      ],
      "metadata": {
        "id": "cLyTDzx3pqyO"
      }
    },
    {
      "cell_type": "code",
      "source": [
        "if os.path.exists(fldr+db_name):\n",
        "  faiss_telstra_support_db = FAISS.load_local(fldr+db_name,embeddings=OpenAIEmbeddings(), allow_dangerous_deserialization=True)\n",
        "  print(\"DB already exists\")\n",
        "else:\n",
        "  faiss_telstra_support_db = None\n",
        "  print(\"create a new database because none exists\")\n"
      ],
      "metadata": {
        "id": "Od8mifCLrgHj"
      },
      "execution_count": null,
      "outputs": []
    },
    {
      "cell_type": "code",
      "source": [
        "for url in visited_urls[0:5000]:\n",
        "  print(url)\n",
        "  try:\n",
        "    docs = extract_process_url(url)\n",
        "    faiss_telstra_support_db = store_doc_into_db(docs, faiss_telstra_support_db)\n",
        "  except:\n",
        "    error_url_lst.append(url)\n"
      ],
      "metadata": {
        "id": "NeJUIdwEmcaZ",
        "collapsed": true
      },
      "execution_count": null,
      "outputs": []
    },
    {
      "cell_type": "code",
      "source": [],
      "metadata": {
        "id": "wC36r4AndeDe"
      },
      "execution_count": null,
      "outputs": []
    },
    {
      "cell_type": "markdown",
      "source": [
        "# Write Everything"
      ],
      "metadata": {
        "id": "2lqQwV48uRQb"
      }
    },
    {
      "cell_type": "code",
      "source": [
        "print(faiss_telstra_support_db)"
      ],
      "metadata": {
        "colab": {
          "base_uri": "https://localhost:8080/"
        },
        "id": "JQ9ADYyZxapM",
        "outputId": "fdb9fc92-2bd7-4526-ba11-e0352fc73b93"
      },
      "execution_count": null,
      "outputs": [
        {
          "output_type": "stream",
          "name": "stdout",
          "text": [
            "<langchain_community.vectorstores.faiss.FAISS object at 0x7ca7940fdf00>\n"
          ]
        }
      ]
    },
    {
      "cell_type": "code",
      "source": [
        "FAISS.save_local(faiss_telstra_support_db, fldr+db_name)"
      ],
      "metadata": {
        "id": "kwfXp1hzubRi"
      },
      "execution_count": null,
      "outputs": []
    },
    {
      "cell_type": "code",
      "source": [
        "with open(fldr+\"error_urls.pkl\", \"wb\") as f:\n",
        "  pickle.dump(error_url_lst, f)"
      ],
      "metadata": {
        "id": "qePoEdRiuP2I"
      },
      "execution_count": null,
      "outputs": []
    },
    {
      "cell_type": "markdown",
      "source": [
        "# Create Retriever"
      ],
      "metadata": {
        "id": "scyOQLDXp5FH"
      }
    },
    {
      "cell_type": "code",
      "source": [
        "if os.path.exists(fldr+db_name):\n",
        "  faiss_telstra_support_db = FAISS.load_local(fldr+db_name,embeddings=OpenAIEmbeddings(), allow_dangerous_deserialization=True)\n",
        "else:\n",
        "  faiss_telstra_support_db = None"
      ],
      "metadata": {
        "id": "13s1qL-0ywkc"
      },
      "execution_count": 27,
      "outputs": []
    },
    {
      "cell_type": "code",
      "source": [
        "primary_retriever = faiss_telstra_support_db.as_retriever( search_type=\"similarity_score_threshold\",\n",
        "                            search_kwargs={\"score_threshold\": 0.5,\"k\": 1}\n",
        ")\n"
      ],
      "metadata": {
        "id": "C_uIbSSdou2t"
      },
      "execution_count": 28,
      "outputs": []
    },
    {
      "cell_type": "code",
      "source": [
        "qn = \" will my pixel 4xl work after 3g exit\"\n",
        "#qn = \"What's the 3g exit plan\""
      ],
      "metadata": {
        "id": "EOEiMHNgvTNO"
      },
      "execution_count": 29,
      "outputs": []
    },
    {
      "cell_type": "code",
      "source": [
        "primary_retriever.invoke(qn)"
      ],
      "metadata": {
        "colab": {
          "base_uri": "https://localhost:8080/"
        },
        "id": "7HNTMwx6vBw5",
        "outputId": "d2c764f1-f879-4887-8436-7c020d963a62"
      },
      "execution_count": 30,
      "outputs": [
        {
          "output_type": "execute_result",
          "data": {
            "text/plain": [
              "[Document(metadata={'source': 'https://www.telstra.com.au/support/mobiles-devices/3g-closure#lightbox-mandarin'}, page_content='To access the benefits of our 4G network, you need to be using compatible devices. This includes using appropriate devices for your requirements – for example, if currently using a Blue Tick 3G device you’ll need a Blue Tick 4G device, or if currently relying on a 3G T-Go or TMSA coverage extension device, you’ll need an equivalent 4G device to ensure equivalent coverage.\\n\\nOur 3G network will remain open until 31 August 2024.\\n\\nIf you hear a recorded message on your phone about our 3G network closure, you have a device that needs to be upgraded to stay connected after the network closes.\\n\\nYou’ll hear the message if your device relies on the 3G network, doesn’t support Voice over 4G (VoLTE), or is 4G-enabled but uses 3G for emergency calls.\\n\\nWe can’t remove the message, as it’s vitally important to ensure you’re using a device capable of contacting Triple Zero after we close the 3G network on 31 August.')]"
            ]
          },
          "metadata": {},
          "execution_count": 30
        }
      ]
    },
    {
      "cell_type": "markdown",
      "source": [
        "# Agents"
      ],
      "metadata": {
        "id": "NtcruXHdyyGV"
      }
    },
    {
      "cell_type": "code",
      "source": [
        "system_message_prompt = SystemMessagePromptTemplate(\n",
        "    prompt=PromptTemplate(\n",
        "        input_variables=[],\n",
        "        template=f\"\"\"\n",
        "\n",
        "        You are a helpful assistant for parents enquiring about Telstra Products. This tool may also be used by kids. So the result should be polite and helpful.\n",
        "        If you cant find enough info start with 'I dont know'.\n",
        "\n",
        "        For any questions that are not related to support from Telstra , just say - \"Ask me only about Telstra\". for generic questions refer them to use ChatGPT.\n",
        "\n",
        "        Beneath the response also add the Document metadata source URL from where this was retrieved.\n",
        "        \"\"\",\n",
        "    )\n",
        ")\n",
        "\n",
        "# Define the Human Message Template\n",
        "human_message_prompt = HumanMessagePromptTemplate(\n",
        "    prompt=PromptTemplate(\n",
        "        input_variables=[\"input\"],\n",
        "        template=\"{input}\"\n",
        "    )\n",
        ")\n",
        "\n",
        "# Create the Conversation Memory\n",
        "memory = ConversationBufferMemory(return_messages=True)\n",
        "\n",
        "# Define the Chatbot Template\n",
        "chatbot_template = [\n",
        "    system_message_prompt,\n",
        "    MessagesPlaceholder(variable_name=\"chat_history\", optional=True),\n",
        "    human_message_prompt,\n",
        "    MessagesPlaceholder(variable_name=\"agent_scratchpad\")\n",
        "]\n",
        "\n",
        "prompt = ChatPromptTemplate.from_messages(chatbot_template)\n",
        "prompt"
      ],
      "metadata": {
        "colab": {
          "base_uri": "https://localhost:8080/"
        },
        "id": "d7PIWPJC0NJR",
        "outputId": "ee20a500-a563-440b-810c-48682cefb302"
      },
      "execution_count": 31,
      "outputs": [
        {
          "output_type": "execute_result",
          "data": {
            "text/plain": [
              "ChatPromptTemplate(input_variables=['agent_scratchpad', 'input'], optional_variables=['chat_history'], input_types={'chat_history': typing.List[typing.Union[langchain_core.messages.ai.AIMessage, langchain_core.messages.human.HumanMessage, langchain_core.messages.chat.ChatMessage, langchain_core.messages.system.SystemMessage, langchain_core.messages.function.FunctionMessage, langchain_core.messages.tool.ToolMessage]], 'agent_scratchpad': typing.List[typing.Union[langchain_core.messages.ai.AIMessage, langchain_core.messages.human.HumanMessage, langchain_core.messages.chat.ChatMessage, langchain_core.messages.system.SystemMessage, langchain_core.messages.function.FunctionMessage, langchain_core.messages.tool.ToolMessage]]}, partial_variables={'chat_history': []}, messages=[SystemMessagePromptTemplate(prompt=PromptTemplate(input_variables=[], template='\\n\\n        You are a helpful assistant for parents enquiring about Telstra Products. This tool may also be used by kids. So the result should be polite and helpful.\\n        If you cant find enough info start with \\'I dont know\\'.\\n\\n        For any questions that are not related to support from Telstra , just say - \"Ask me only about Telstra\". for generic questions refer them to use ChatGPT.\\n\\n        Beneath the response also add the Document metadata source URL from where this was retrieved.\\n        ')), MessagesPlaceholder(variable_name='chat_history', optional=True), HumanMessagePromptTemplate(prompt=PromptTemplate(input_variables=['input'], template='{input}')), MessagesPlaceholder(variable_name='agent_scratchpad')])"
            ]
          },
          "metadata": {},
          "execution_count": 31
        }
      ]
    },
    {
      "cell_type": "code",
      "source": [
        "telsta_support_tool = create_retriever_tool(\n",
        "    primary_retriever,\n",
        "    \"telstra_support_search\",\n",
        "    \"Use this to answer any question about Telstra\"\n",
        ")\n",
        "\n",
        "tools = [telsta_support_tool]"
      ],
      "metadata": {
        "id": "ZUyutLuTUtZj"
      },
      "execution_count": 34,
      "outputs": []
    },
    {
      "cell_type": "code",
      "source": [
        "try:\n",
        "  agent = create_tool_calling_agent(llm=llm, tools=tools, prompt=ChatPromptTemplate.from_messages(chatbot_template))\n",
        "  agent_executor = AgentExecutor(agent=agent, tools=tools, verbose=False, )\n",
        "except:\n",
        "  traceback.print_exc()"
      ],
      "metadata": {
        "id": "z2VSqyVBL0Yg"
      },
      "execution_count": 51,
      "outputs": []
    },
    {
      "cell_type": "markdown",
      "source": [
        "# Chat History"
      ],
      "metadata": {
        "id": "e1fGxDmvYikB"
      }
    },
    {
      "cell_type": "code",
      "source": [
        "agent_with_chat_history = RunnableWithMessageHistory(\n",
        "    agent_executor,\n",
        "    get_session_history =get_user_and_retrieve_history,\n",
        "    input_messages_key=\"input\",\n",
        "    history_messages_key=\"chat_history\"\n",
        "    )"
      ],
      "metadata": {
        "id": "mR_1wSkxU8Wf"
      },
      "execution_count": 52,
      "outputs": []
    },
    {
      "cell_type": "markdown",
      "source": [
        "# Execution"
      ],
      "metadata": {
        "id": "AuEFU6ZE0gBn"
      }
    },
    {
      "cell_type": "code",
      "source": [
        "user_name = get_user()\n",
        "print(f\"welcome :: {user_name}\")"
      ],
      "metadata": {
        "colab": {
          "base_uri": "https://localhost:8080/"
        },
        "id": "G_5JOvrUCCNl",
        "outputId": "706edf09-2444-43cb-9d4f-2c062ee5e7f5"
      },
      "execution_count": 38,
      "outputs": [
        {
          "output_type": "stream",
          "name": "stdout",
          "text": [
            "Enter your username : sam\n",
            "welcome :: sam\n"
          ]
        }
      ]
    },
    {
      "cell_type": "code",
      "source": [
        "try:\n",
        "  input_qn  = \"Hi Bot, How to Pay Bill\"\n",
        "  while input_qn != \"exit\":\n",
        "\n",
        "\n",
        "    print(\"start chat\")\n",
        "    response = generate_chat_response(input_qn, user_name)\n",
        "    print(response)\n",
        "    print(textwrap.fill(response, 80))\n",
        "    print(\"\")\n",
        "    input_qn = input(\"Enter a message (to finish use exit): \")\n",
        "except:\n",
        "  print(traceback.format_exc())\n",
        "finally:\n",
        "  store_history()"
      ],
      "metadata": {
        "id": "HNKA5gtN0KlG"
      },
      "execution_count": null,
      "outputs": []
    },
    {
      "cell_type": "code",
      "source": [
        "def predict(message, history):\n",
        "    history_langchain_format = []\n",
        "    for human, ai in get_user_and_retrieve_history():\n",
        "        history_langchain_format.append(HumanMessage(content=human))\n",
        "        history_langchain_format.append(AIMessage(content=ai))\n",
        "    history_langchain_format.append(HumanMessage(content=message))\n",
        "    gpt_response = generate_chat_response(message, user_name)\n",
        "    store_history()\n",
        "    return gpt_response"
      ],
      "metadata": {
        "id": "d4qD_CyMVwe1"
      },
      "execution_count": 53,
      "outputs": []
    },
    {
      "cell_type": "code",
      "source": [
        "demo = gr.ChatInterface(\n",
        "    predict,\n",
        "    chatbot=gr.Chatbot(height=300),\n",
        "    textbox=gr.Textbox(placeholder=\"Ask me any qns on Telstra Products and Services\", container=False, scale=7),\n",
        "    title=\"Your PA to Telstra Support in Internet - Unoffical and unrelated to Telstra corporation\",\n",
        "    description=\"Your PA to Telstra Support in Internet\",\n",
        "    theme=\"soft\",\n",
        "    examples=[\"How to pay bill?\", \"3G exit\"],\n",
        "    cache_examples=True,\n",
        "    retry_btn=None,\n",
        "    undo_btn=\"Delete Previous\",\n",
        "    clear_btn=\"Clear\"\n",
        "  )"
      ],
      "metadata": {
        "id": "5awxoeWkCITX",
        "colab": {
          "base_uri": "https://localhost:8080/"
        },
        "outputId": "dba3d7c6-2583-47c1-ed9b-ce3365b7faf1"
      },
      "execution_count": 56,
      "outputs": [
        {
          "output_type": "stream",
          "name": "stdout",
          "text": [
            "Caching examples at: '/content/gradio_cached_examples/79'\n",
            "Caching example 1/2\n",
            "{'input': 'How to pay bill?', 'chat_history': [HumanMessage(content='How to pay bill?'), AIMessage(content=\"To pay your Telstra bill, you can do the following:\\n\\n1. Sign in to My Telstra to pay your bills online. This allows for easy bill payment while you are on the go.\\n\\n2. Set up direct debit to avoid late fees for missed payments. Automatic payments take the stress out of remembering to pay your bill, so you can set it and forget it.\\n\\n3. Pay using BPAY:\\n   - If you already have BPAY, sign in to your online banking, choose the BPAY payment option, and enter the Telstra BPAY biller code (7773), BPAY reference number (your account number at the bottom of your bill), and the amount you want to pay.\\n   - If you'd like to set up BPAY, sign in to your financial institution's website, search for BPAY, and follow the prompts. Alternatively, you can contact your financial institution directly.\\n\\n4. Pay over the phone.\\n\\nFor more details, you can visit the Telstra website or contact Telstra customer support.\\n\\n[Source](https://www.telstra.com.au/support/category/account-billing/manage-your-account/how-to-pay-your-bill)\"), HumanMessage(content='How to pay bill?'), AIMessage(content=\"To pay your Telstra bill, you have several options available:\\n\\n1. If you receive a monthly bill, the payment options available will be listed on your bill. You can choose from the available options to make your payment.\\n\\n2. You can set up AutoPay, which allows for automatic payments to be debited from your chosen account. With AutoPay, you'll receive a reminder three days before the payment is processed, and you can access a digital receipt via My Telstra.\\n\\n3. Using My Telstra, you can easily manage your AutoPay payment method, see upcoming charges, and download past payment receipts.\\n\\nIf you've received a payment failure notification, you can make a manual one-off payment through My Telstra > Payments or by using one of the other payment options available.\\n\\nFor more information, you can visit the Telstra website or contact Telstra customer support.\\n\\n[Source](https://www.telstra.com.au/support/category/account-billing/manage-your-account/how-to-pay-your-bill)\"), HumanMessage(content='How to pay bill?'), AIMessage(content=\"To pay your Telstra bill, you can do the following:\\n\\n1. Sign in to My Telstra to pay your bills online. This allows for easy bill payment while you are on the go.\\n\\n2. Set up direct debit to avoid late fees for missed payments. Automatic payments take the stress out of remembering to pay your bill, so you can set it and forget it.\\n\\n3. Pay using BPAY:\\n   - If you already have BPAY, sign in to your online banking, choose the BPAY payment option, and enter the Telstra BPAY biller code (7773), BPAY reference number (your account number at the bottom of your bill), and the amount you want to pay.\\n   - If you'd like to set up BPAY, sign in to your financial institution's website, search for BPAY, and follow the prompts. Alternatively, you can contact your financial institution directly.\\n\\n4. Pay over the phone.\\n\\nFor more details, you can visit the Telstra website or contact Telstra customer support.\\n\\n[Source](https://www.telstra.com.au/support/category/account-billing/manage-your-account/how-to-pay-your-bill)\")], 'output': \"To pay your Telstra bill, you can do the following:\\n\\n1. Sign in to My Telstra to pay your bills online. This allows for easy bill payment while you are on the go.\\n\\n2. Set up direct debit to avoid late fees for missed payments. Automatic payments take the stress out of remembering to pay your bill, so you can set it and forget it.\\n\\n3. Pay using BPAY:\\n   - If you already have BPAY, sign in to your online banking, choose the BPAY payment option, and enter the Telstra BPAY biller code (7773), BPAY reference number (your account number at the bottom of your bill), and the amount you want to pay.\\n   - If you'd like to set up BPAY, sign in to your financial institution's website, search for BPAY, and follow the prompts. Alternatively, you can contact your financial institution directly.\\n\\n4. Pay over the phone.\\n\\nFor more details, you can visit the Telstra website or contact Telstra customer support.\\n\\n[Source](https://www.telstra.com.au/support/category/account-billing/manage-your-account/how-to-pay-your-bill)\"}\n",
            "Caching example 2/2\n",
            "{'input': '3G exit', 'chat_history': [HumanMessage(content='How to pay bill?'), AIMessage(content=\"To pay your Telstra bill, you can do the following:\\n\\n1. Sign in to My Telstra to pay your bills online. This allows for easy bill payment while you are on the go.\\n\\n2. Set up direct debit to avoid late fees for missed payments. Automatic payments take the stress out of remembering to pay your bill, so you can set it and forget it.\\n\\n3. Pay using BPAY:\\n   - If you already have BPAY, sign in to your online banking, choose the BPAY payment option, and enter the Telstra BPAY biller code (7773), BPAY reference number (your account number at the bottom of your bill), and the amount you want to pay.\\n   - If you'd like to set up BPAY, sign in to your financial institution's website, search for BPAY, and follow the prompts. Alternatively, you can contact your financial institution directly.\\n\\n4. Pay over the phone.\\n\\nFor more details, you can visit the Telstra website or contact Telstra customer support.\\n\\n[Source](https://www.telstra.com.au/support/category/account-billing/manage-your-account/how-to-pay-your-bill)\"), HumanMessage(content='How to pay bill?'), AIMessage(content=\"To pay your Telstra bill, you have several options available:\\n\\n1. If you receive a monthly bill, the payment options available will be listed on your bill. You can choose from the available options to make your payment.\\n\\n2. You can set up AutoPay, which allows for automatic payments to be debited from your chosen account. With AutoPay, you'll receive a reminder three days before the payment is processed, and you can access a digital receipt via My Telstra.\\n\\n3. Using My Telstra, you can easily manage your AutoPay payment method, see upcoming charges, and download past payment receipts.\\n\\nIf you've received a payment failure notification, you can make a manual one-off payment through My Telstra > Payments or by using one of the other payment options available.\\n\\nFor more information, you can visit the Telstra website or contact Telstra customer support.\\n\\n[Source](https://www.telstra.com.au/support/category/account-billing/manage-your-account/how-to-pay-your-bill)\"), HumanMessage(content='How to pay bill?'), AIMessage(content=\"To pay your Telstra bill, you can do the following:\\n\\n1. Sign in to My Telstra to pay your bills online. This allows for easy bill payment while you are on the go.\\n\\n2. Set up direct debit to avoid late fees for missed payments. Automatic payments take the stress out of remembering to pay your bill, so you can set it and forget it.\\n\\n3. Pay using BPAY:\\n   - If you already have BPAY, sign in to your online banking, choose the BPAY payment option, and enter the Telstra BPAY biller code (7773), BPAY reference number (your account number at the bottom of your bill), and the amount you want to pay.\\n   - If you'd like to set up BPAY, sign in to your financial institution's website, search for BPAY, and follow the prompts. Alternatively, you can contact your financial institution directly.\\n\\n4. Pay over the phone.\\n\\nFor more details, you can visit the Telstra website or contact Telstra customer support.\\n\\n[Source](https://www.telstra.com.au/support/category/account-billing/manage-your-account/how-to-pay-your-bill)\"), HumanMessage(content='How to pay bill?'), AIMessage(content=\"To pay your Telstra bill, you can do the following:\\n\\n1. Sign in to My Telstra to pay your bills online. This allows for easy bill payment while you are on the go.\\n\\n2. Set up direct debit to avoid late fees for missed payments. Automatic payments take the stress out of remembering to pay your bill, so you can set it and forget it.\\n\\n3. Pay using BPAY:\\n   - If you already have BPAY, sign in to your online banking, choose the BPAY payment option, and enter the Telstra BPAY biller code (7773), BPAY reference number (your account number at the bottom of your bill), and the amount you want to pay.\\n   - If you'd like to set up BPAY, sign in to your financial institution's website, search for BPAY, and follow the prompts. Alternatively, you can contact your financial institution directly.\\n\\n4. Pay over the phone.\\n\\nFor more details, you can visit the Telstra website or contact Telstra customer support.\\n\\n[Source](https://www.telstra.com.au/support/category/account-billing/manage-your-account/how-to-pay-your-bill)\")], 'output': \"The 3G network is scheduled to be phased out, and this will affect home and business phone services. To ensure that your home or business phone continues to work after the 3G network is phased out, you will need to transition to Telstra's 4G Fixed Wireless (4GFW) network before the 3G closure, which is set to occur on 31 August 2024. It's important to note that when you move to the 4G network, your new plan will have different inclusions and exclusions.\\n\\nThis transition is necessary as the 3G network is coming to an end, and it's important to make the required changes to ensure that your phone service continues to function.\\n\\nFor more information and assistance with this transition, you can contact Telstra customer support.\\n\\n[Source](https://www.telstra.com.au/coverage-networks/network-technology/3g)\"}\n"
          ]
        }
      ]
    },
    {
      "cell_type": "code",
      "source": [
        "demo.launch()"
      ],
      "metadata": {
        "colab": {
          "base_uri": "https://localhost:8080/",
          "height": 626
        },
        "id": "aleswJ9cZg3S",
        "outputId": "e54211a9-3f20-4224-8a3e-10d3c4ece2b4"
      },
      "execution_count": 57,
      "outputs": [
        {
          "output_type": "stream",
          "name": "stdout",
          "text": [
            "Setting queue=True in a Colab notebook requires sharing enabled. Setting `share=True` (you can turn this off by setting `share=False` in `launch()` explicitly).\n",
            "\n",
            "Colab notebook detected. To show errors in colab notebook, set debug=True in launch()\n",
            "Running on public URL: https://41d16748d7e8cc1c34.gradio.live\n",
            "\n",
            "This share link expires in 72 hours. For free permanent hosting and GPU upgrades, run `gradio deploy` from Terminal to deploy to Spaces (https://huggingface.co/spaces)\n"
          ]
        },
        {
          "output_type": "display_data",
          "data": {
            "text/plain": [
              "<IPython.core.display.HTML object>"
            ],
            "text/html": [
              "<div><iframe src=\"https://41d16748d7e8cc1c34.gradio.live\" width=\"100%\" height=\"500\" allow=\"autoplay; camera; microphone; clipboard-read; clipboard-write;\" frameborder=\"0\" allowfullscreen></iframe></div>"
            ]
          },
          "metadata": {}
        },
        {
          "output_type": "execute_result",
          "data": {
            "text/plain": []
          },
          "metadata": {},
          "execution_count": 57
        }
      ]
    },
    {
      "cell_type": "markdown",
      "source": [
        "# Experiment Section"
      ],
      "metadata": {
        "id": "vaVIaDxxrS5u"
      }
    },
    {
      "cell_type": "code",
      "source": [],
      "metadata": {
        "id": "l9OTcU2vgGIY"
      },
      "execution_count": null,
      "outputs": []
    }
  ]
}